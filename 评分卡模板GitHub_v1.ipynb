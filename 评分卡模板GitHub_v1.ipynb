{
 "cells": [
  {
   "cell_type": "markdown",
   "metadata": {
    "toc": true
   },
   "source": [
    "<h1>Table of Contents<span class=\"tocSkip\"></span></h1>\n",
    "<div class=\"toc\"><ul class=\"toc-item\"><li><span><a href=\"#报告目的\" data-toc-modified-id=\"报告目的-1\"><span class=\"toc-item-num\">1&nbsp;&nbsp;</span>报告目的</a></span></li><li><span><a href=\"#数据来源\" data-toc-modified-id=\"数据来源-2\"><span class=\"toc-item-num\">2&nbsp;&nbsp;</span>数据来源</a></span></li><li><span><a href=\"#名词解释\" data-toc-modified-id=\"名词解释-3\"><span class=\"toc-item-num\">3&nbsp;&nbsp;</span>名词解释</a></span></li><li><span><a href=\"#数据读取&amp;基本情况查看\" data-toc-modified-id=\"数据读取&amp;基本情况查看-4\"><span class=\"toc-item-num\">4&nbsp;&nbsp;</span>数据读取&amp;基本情况查看</a></span></li><li><span><a href=\"#数据预处理\" data-toc-modified-id=\"数据预处理-5\"><span class=\"toc-item-num\">5&nbsp;&nbsp;</span>数据预处理</a></span><ul class=\"toc-item\"><li><span><a href=\"#异常值检测&amp;处理\" data-toc-modified-id=\"异常值检测&amp;处理-5.1\"><span class=\"toc-item-num\">5.1&nbsp;&nbsp;</span>异常值检测&amp;处理</a></span></li><li><span><a href=\"#特征衍生\" data-toc-modified-id=\"特征衍生-5.2\"><span class=\"toc-item-num\">5.2&nbsp;&nbsp;</span>特征衍生</a></span></li><li><span><a href=\"#缺失值检测&amp;处理\" data-toc-modified-id=\"缺失值检测&amp;处理-5.3\"><span class=\"toc-item-num\">5.3&nbsp;&nbsp;</span>缺失值检测&amp;处理</a></span><ul class=\"toc-item\"><li><span><a href=\"#缺失过多特征删除\" data-toc-modified-id=\"缺失过多特征删除-5.3.1\"><span class=\"toc-item-num\">5.3.1&nbsp;&nbsp;</span>缺失过多特征删除</a></span></li><li><span><a href=\"#直接填充默认缺失值\" data-toc-modified-id=\"直接填充默认缺失值-5.3.2\"><span class=\"toc-item-num\">5.3.2&nbsp;&nbsp;</span>直接填充默认缺失值</a></span></li></ul></li></ul></li><li><span><a href=\"#特征筛选\" data-toc-modified-id=\"特征筛选-6\"><span class=\"toc-item-num\">6&nbsp;&nbsp;</span>特征筛选</a></span><ul class=\"toc-item\"><li><span><a href=\"#psi筛选\" data-toc-modified-id=\"psi筛选-6.1\"><span class=\"toc-item-num\">6.1&nbsp;&nbsp;</span>psi筛选</a></span></li><li><span><a href=\"#随机森林筛选特征\" data-toc-modified-id=\"随机森林筛选特征-6.2\"><span class=\"toc-item-num\">6.2&nbsp;&nbsp;</span>随机森林筛选特征</a></span></li><li><span><a href=\"#iv筛选\" data-toc-modified-id=\"iv筛选-6.3\"><span class=\"toc-item-num\">6.3&nbsp;&nbsp;</span>iv筛选</a></span></li><li><span><a href=\"#人工去除偏事后特征&amp;iv箱数过多特征\" data-toc-modified-id=\"人工去除偏事后特征&amp;iv箱数过多特征-6.4\"><span class=\"toc-item-num\">6.4&nbsp;&nbsp;</span>人工去除偏事后特征&amp;iv箱数过多特征</a></span></li><li><span><a href=\"#相关性筛选\" data-toc-modified-id=\"相关性筛选-6.5\"><span class=\"toc-item-num\">6.5&nbsp;&nbsp;</span>相关性筛选</a></span></li><li><span><a href=\"#分箱调整\" data-toc-modified-id=\"分箱调整-6.6\"><span class=\"toc-item-num\">6.6&nbsp;&nbsp;</span>分箱调整</a></span><ul class=\"toc-item\"><li><span><a href=\"#自动分箱调整\" data-toc-modified-id=\"自动分箱调整-6.6.1\"><span class=\"toc-item-num\">6.6.1&nbsp;&nbsp;</span>自动分箱调整</a></span></li><li><span><a href=\"#针对自动调整分箱未单调变量_手动调整分箱\" data-toc-modified-id=\"针对自动调整分箱未单调变量_手动调整分箱-6.6.2\"><span class=\"toc-item-num\">6.6.2&nbsp;&nbsp;</span>针对自动调整分箱未单调变量_手动调整分箱</a></span></li><li><span><a href=\"#调整后的分箱再使用iv筛选一轮\" data-toc-modified-id=\"调整后的分箱再使用iv筛选一轮-6.6.3\"><span class=\"toc-item-num\">6.6.3&nbsp;&nbsp;</span>调整后的分箱再使用iv筛选一轮</a></span></li></ul></li><li><span><a href=\"#woe编码后相关性&amp;多重共线性筛选\" data-toc-modified-id=\"woe编码后相关性&amp;多重共线性筛选-6.7\"><span class=\"toc-item-num\">6.7&nbsp;&nbsp;</span>woe编码后相关性&amp;多重共线性筛选</a></span></li><li><span><a href=\"#显著性筛选\" data-toc-modified-id=\"显著性筛选-6.8\"><span class=\"toc-item-num\">6.8&nbsp;&nbsp;</span>显著性筛选</a></span></li><li><span><a href=\"#剔除系数和其他系数符号不一致的特征\" data-toc-modified-id=\"剔除系数和其他系数符号不一致的特征-6.9\"><span class=\"toc-item-num\">6.9&nbsp;&nbsp;</span>剔除系数和其他系数符号不一致的特征</a></span></li></ul></li><li><span><a href=\"#模型训练和评价\" data-toc-modified-id=\"模型训练和评价-7\"><span class=\"toc-item-num\">7&nbsp;&nbsp;</span>模型训练和评价</a></span></li><li><span><a href=\"#分数映射&amp;分数分布\" data-toc-modified-id=\"分数映射&amp;分数分布-8\"><span class=\"toc-item-num\">8&nbsp;&nbsp;</span>分数映射&amp;分数分布</a></span><ul class=\"toc-item\"><li><span><a href=\"#分数刻度&amp;各入模变量相应分箱得分\" data-toc-modified-id=\"分数刻度&amp;各入模变量相应分箱得分-8.1\"><span class=\"toc-item-num\">8.1&nbsp;&nbsp;</span>分数刻度&amp;各入模变量相应分箱得分</a></span></li><li><span><a href=\"#训练集&amp;验证集&amp;时间外样本分数转换\" data-toc-modified-id=\"训练集&amp;验证集&amp;时间外样本分数转换-8.2\"><span class=\"toc-item-num\">8.2&nbsp;&nbsp;</span>训练集&amp;验证集&amp;时间外样本分数转换</a></span></li><li><span><a href=\"#训练集&amp;验证集&amp;时间外样本分数分箱分布\" data-toc-modified-id=\"训练集&amp;验证集&amp;时间外样本分数分箱分布-8.3\"><span class=\"toc-item-num\">8.3&nbsp;&nbsp;</span>训练集&amp;验证集&amp;时间外样本分数分箱分布</a></span></li></ul></li></ul></div>"
   ]
  },
  {
   "cell_type": "markdown",
   "metadata": {},
   "source": [
    "# 评分卡建模模板"
   ]
  },
  {
   "cell_type": "markdown",
   "metadata": {},
   "source": [
    "author:33\n",
    "\n",
    "date:2020/4/6"
   ]
  },
  {
   "cell_type": "code",
   "execution_count": 1,
   "metadata": {},
   "outputs": [
    {
     "data": {
      "text/html": [
       "<script>jQuery(function() {if (jQuery(\"body.notebook_app\").length == 0) { jQuery(\".input_area\").toggle(); jQuery(\".prompt\").toggle();}});</script>"
      ]
     },
     "metadata": {},
     "output_type": "display_data"
    },
    {
     "data": {
      "text/html": [
       "<style>#notebook div.output_subarea {max-width:100%;}</style>"
      ],
      "text/plain": [
       "<IPython.core.display.HTML object>"
      ]
     },
     "execution_count": 1,
     "metadata": {},
     "output_type": "execute_result"
    }
   ],
   "source": [
    "#隐藏导出html和pdf里面的代码\n",
    "#这个在你自己编辑notebook时不起作用，对导出结果中所有代码起作用：导出html或者pdf中是没有代码的\n",
    "from IPython.display import display\n",
    "from IPython.display import HTML\n",
    "import IPython.core.display as di\n",
    "di.display_html('<script>jQuery(function() {if (jQuery(\"body.notebook_app\").length == 0) { jQuery(\".input_area\").toggle(); jQuery(\".prompt\").toggle();}});</script>', raw=True)\n",
    "CSS = \"\"\"#notebook div.output_subarea {max-width:100%;}\"\"\" #changes output_subarea width to 100% (from 100% - 14ex)\n",
    "HTML('<style>{}</style>'.format(CSS))"
   ]
  },
  {
   "cell_type": "code",
   "execution_count": 2,
   "metadata": {},
   "outputs": [
    {
     "data": {
      "application/javascript": [
       "require.config({\n",
       "    paths: {\n",
       "        datatables: 'https://cdn.datatables.net/1.10.19/js/jquery.dataTables.min',\n",
       "    }\n",
       "});\n",
       "\n",
       "$('head').append('<link rel=\"stylesheet\" type=\"text/css\" \\\n",
       "                href = \"https://cdn.datatables.net/1.10.19/css/jquery.dataTables.min.css\" > ');\n",
       "\n",
       "$('head').append('<style> table td { text-overflow: ellipsis; overflow: hidden; } </style>');\n",
       "\n",
       "$('head').append(`<script>\n",
       "function eval_functions(map_or_text) {\n",
       "    if (typeof map_or_text === \"string\") {\n",
       "        if (map_or_text.startsWith(\"function\")) {\n",
       "            try {\n",
       "                // Note: parenthesis are required around the whole expression for eval to return a value!\n",
       "                // See https://stackoverflow.com/a/7399078/911298.\n",
       "                //\n",
       "                // eval(\"local_fun = \" + map_or_text) would fail because local_fun is not declared\n",
       "                // (using var, let or const would work, but it would only be declared in the local scope\n",
       "                // and therefore the value could not be retrieved).\n",
       "                const func = eval(\"(\" + map_or_text + \")\");\n",
       "                if (typeof func !== \"function\") {\n",
       "                    // Note: backquotes are super convenient!\n",
       "                    // https://developer.mozilla.org/en-US/docs/Web/JavaScript/Reference/Template_literals\n",
       "                    console.error(\"Evaluated expression \" + map_or_text + \" is not a function (type is \" + typeof func + \")\");\n",
       "                    return map_or_text;\n",
       "                }\n",
       "                // Return the function\n",
       "                return func;\n",
       "            } catch (e) {\n",
       "                // Make sure to print the error with a second argument to console.error().\n",
       "                console.error(\"itables was not able to parse \" + map_or_text, e);\n",
       "            }\n",
       "        }\n",
       "    } else if (typeof map_or_text === \"object\") {\n",
       "        if (map_or_text instanceof Array) {\n",
       "            // Note: \"var\" is now superseded by \"let\" and \"const\".\n",
       "            // https://medium.com/javascript-scene/javascript-es6-var-let-or-const-ba58b8dcde75\n",
       "            const result = [];\n",
       "            // Note: \"for of\" is the best way to iterate through an iterable.\n",
       "            // https://developer.mozilla.org/en-US/docs/Web/JavaScript/Reference/Statements/for...of\n",
       "            for (const item of map_or_text) {\n",
       "                result.push(eval_functions(item));\n",
       "            }\n",
       "            return result;\n",
       "\n",
       "            // Alternatively, more functional approach in one line:\n",
       "            // return map_or_text.map(eval_functions);\n",
       "        } else {\n",
       "            const result = {};\n",
       "            // Object.keys() is safer than \"for in\" because otherwise you might have keys\n",
       "            // that aren't defined in the object itself.\n",
       "            //\n",
       "            // See https://stackoverflow.com/a/684692/911298.\n",
       "            for (const item of Object.keys(map_or_text)) {\n",
       "                result[item] = eval_functions(map_or_text[item]);\n",
       "            }\n",
       "            return result;\n",
       "        }\n",
       "    }\n",
       "\n",
       "    return map_or_text;\n",
       "}\n",
       "</` + 'script>');"
      ],
      "text/plain": [
       "<IPython.core.display.Javascript object>"
      ]
     },
     "metadata": {},
     "output_type": "display_data"
    }
   ],
   "source": [
    "#包加载\n",
    "import sys\n",
    "import os ##显示工作路径，修改工作路径的包\n",
    "import numpy as np##是python数值计算基石，听过多种数据结构，算法以及设计计算所需的接口\n",
    "import pandas as pd##提供了高级数据结构和函数，dataframe,series\n",
    "import math \n",
    "import statsmodels.api as sm##统计分析包，方差分析，时间序列分析，非参数估计 import statsmodels.api as sm\n",
    "from statsmodels.stats.outliers_influence import variance_inflation_factor\n",
    "from sklearn import preprocessing\n",
    "from sklearn.model_selection import train_test_split\n",
    "from sklearn import metrics \n",
    "from sklearn.linear_model import LogisticRegression\n",
    "from sklearn.model_selection import cross_val_score\n",
    "from sklearn.tree import DecisionTreeClassifier,_tree\n",
    "from IPython.display import display\n",
    "import warnings\n",
    "warnings.filterwarnings('ignore')\n",
    "#可视化\n",
    "import matplotlib.pyplot as plt ##python里适用最广泛的 可视化库，与其他库良好整合\n",
    "import seaborn as sns ##此包是基于matplotlib的可视化包\n",
    "import itables.interactive#每一个表都是交互型的表\n",
    "from itables import show\n",
    "import itables.options as opt\n",
    "opt.classes = [\"display\", \"nowrap\"]\n",
    "opt.lengthMenu = [10, 10, 100, 200, 500, 1000, 2000, 5000]\n",
    "opt.maxBytes = 200000\n",
    "opt.maxColumns=100\n",
    "opt.columnDefs=[{\"width\": \"150px\", \"targets\": \"_all\"}]"
   ]
  },
  {
   "cell_type": "code",
   "execution_count": 3,
   "metadata": {},
   "outputs": [],
   "source": [
    "##导入自定义函数\n",
    "##当自定义函数和当前默认工作路径不一致时\n",
    "sys.path.append('') #自定义函数对应的路径\n",
    "import self_f_2  #加载自定义的函数py文件\n",
    "# sys.path\n",
    "warnings.filterwarnings('ignore')\n",
    "\n",
    "##当自定义函数和当前默认工作路径一致时\n",
    "# import FileWriteAbout  # 导入另一个文件\n",
    "# FileWriteAbout.writeList()  #调用其中的函数名\n",
    "\n",
    "os.getcwd()\n",
    "# print(os.getcwd())#显示当前路径\n",
    "os.chdir('')#更改路径，''里面为更改的路径"
   ]
  },
  {
   "cell_type": "markdown",
   "metadata": {},
   "source": [
    "## 报告目的"
   ]
  },
  {
   "cell_type": "markdown",
   "metadata": {},
   "source": [
    "## 数据来源"
   ]
  },
  {
   "cell_type": "markdown",
   "metadata": {},
   "source": [
    "## 名词解释"
   ]
  },
  {
   "cell_type": "markdown",
   "metadata": {},
   "source": [
    "## 数据读取&基本情况查看"
   ]
  },
  {
   "cell_type": "code",
   "execution_count": 4,
   "metadata": {},
   "outputs": [
    {
     "name": "stdout",
     "output_type": "stream",
     "text": [
      "<class 'pandas.core.frame.DataFrame'>\n",
      "RangeIndex: 5456 entries, 0 to 5455\n",
      "Data columns (total 37 columns):\n",
      " #   Column  Non-Null Count  Dtype         \n",
      "---  ------  --------------  -----         \n",
      " 0   id      5456 non-null   int64         \n",
      " 1   date    5456 non-null   datetime64[ns]\n",
      " 2   v1      4324 non-null   float64       \n",
      " 3   v2      5456 non-null   object        \n",
      " 4   v3      4255 non-null   float64       \n",
      " 5   v4      5293 non-null   float64       \n",
      " 6   v5      5440 non-null   float64       \n",
      " 7   v6      3454 non-null   float64       \n",
      " 8   v7      2467 non-null   float64       \n",
      " 9   v8      5456 non-null   int64         \n",
      " 10  v9      5456 non-null   object        \n",
      " 11  v10     5456 non-null   object        \n",
      " 12  v11     5098 non-null   float64       \n",
      " 13  v12     4967 non-null   float64       \n",
      " 14  v14     5004 non-null   float64       \n",
      " 15  v15     5070 non-null   float64       \n",
      " 16  v16     2054 non-null   float64       \n",
      " 17  v17     2054 non-null   object        \n",
      " 18  v18     5176 non-null   float64       \n",
      " 19  v19     5021 non-null   float64       \n",
      " 20  v20     5155 non-null   float64       \n",
      " 21  v21     5081 non-null   float64       \n",
      " 22  v22     5205 non-null   float64       \n",
      " 23  v23     5207 non-null   float64       \n",
      " 24  v24     5034 non-null   float64       \n",
      " 25  v25     5450 non-null   float64       \n",
      " 26  v26     5456 non-null   int64         \n",
      " 27  v27     4317 non-null   float64       \n",
      " 28  v28     4424 non-null   float64       \n",
      " 29  v29     4424 non-null   float64       \n",
      " 30  v30     4424 non-null   float64       \n",
      " 31  v31     4424 non-null   float64       \n",
      " 32  v32     4427 non-null   float64       \n",
      " 33  v33     3892 non-null   float64       \n",
      " 34  v34     4324 non-null   float64       \n",
      " 35  v35     5456 non-null   int64         \n",
      " 36  target  5456 non-null   int64         \n",
      "dtypes: datetime64[ns](1), float64(27), int64(5), object(4)\n",
      "memory usage: 1.5+ MB\n",
      "None\n",
      "0    3496\n",
      "1    1404\n",
      "2     556\n",
      "Name: target, dtype: int64\n"
     ]
    }
   ],
   "source": [
    "#数据读取\n",
    "from datetime import datetime\n",
    "data=pd.read_excel(\"scorecard_model_sample.xlsx\")\n",
    "\n",
    "print(data.info())\n",
    "print(data.target.value_counts())\n",
    "# show(data.head(),columnDefs=[{\"width\": \"300px\", \"targets\": \"_all\"}])\n",
    "# print(\"\\033[1;31m连续型变量分布\\n \\033[0m\")\n",
    "# show(data.describe(),columnDefs=[{\"width\": \"200px\",\"high\": \"80px\", \"targets\": \"_all\"}])\n",
    "# print(\"\\033[1;31m离散型变量分布\\n \\033[0m\")\n",
    "# show(data.describe(include=['object']))"
   ]
  },
  {
   "cell_type": "markdown",
   "metadata": {},
   "source": [
    "## 数据预处理\n",
    "\n",
    "### 异常值检测&处理\n",
    "\n",
    "针对异常变量可根据对数据对理解进行极端值分数映射转换或者删除极端值对应对样本"
   ]
  },
  {
   "cell_type": "code",
   "execution_count": 5,
   "metadata": {},
   "outputs": [
    {
     "name": "stdout",
     "output_type": "stream",
     "text": [
      "\u001b[1;31m离散型变量个数\n",
      " \u001b[0m 4\n",
      "\u001b[1;31m连续型变量个数\n",
      " \u001b[0m 33\n"
     ]
    },
    {
     "data": {
      "text/html": [
       "<div><table id=\"b7dd1b3b-cf8d-4e2a-b778-4d3fb49ffc6a\" class=\"display nowrap\"><thead>\n",
       "    <tr style=\"text-align: right;\">\n",
       "      <th></th>\n",
       "      <th>v2</th>\n",
       "      <th>v9</th>\n",
       "      <th>v10</th>\n",
       "      <th>v17</th>\n",
       "      <th>v1_abnormal</th>\n",
       "    </tr>\n",
       "  </thead></table>\n",
       "<script type=\"text/javascript\">\n",
       "require([\"datatables\"], function (datatables) {\n",
       "    $(document).ready(function () {        \n",
       "        var dt_args = {\"columnDefs\": [{\"width\": \"150px\", \"targets\": \"_all\"}], \"lengthMenu\": [10, 10, 100, 200, 500, 1000, 2000, 5000], \"paging\": false, \"data\": [[\"count\", \"5456\", \"5456\", \"5456\", \"2054\", \"5456\"], [\"unique\", \"3\", \"5\", \"7\", \"4\", \"2\"], [\"top\", \"A\", \"E\", \"g\", \"a\", \"zhengchang\"], [\"freq\", \"4190\", \"1688\", \"1463\", \"857\", \"5107\"]]};\n",
       "        dt_args = eval_functions(dt_args);\n",
       "        table = $('#b7dd1b3b-cf8d-4e2a-b778-4d3fb49ffc6a').DataTable(dt_args);\n",
       "    });\n",
       "})\n",
       "</script>\n",
       "</div>\n"
      ],
      "text/plain": [
       "          v2    v9   v10   v17 v1_abnormal\n",
       "count   5456  5456  5456  2054        5456\n",
       "unique     3     5     7     4           2\n",
       "top        A     E     g     a  zhengchang\n",
       "freq    4190  1688  1463   857        5107"
      ]
     },
     "execution_count": 5,
     "metadata": {},
     "output_type": "execute_result"
    }
   ],
   "source": [
    "#1.数据预处理\n",
    "\n",
    "#1.1异常值\n",
    "    #1.1.1异常值检测\n",
    "\n",
    "character_feature,count=self_f_2.character_VarFindFunc(data)\n",
    "data_num=data.drop(character_feature,axis=1)\n",
    "print(\"\\033[1;31m离散型变量个数\\n \\033[0m\",count)\n",
    "print(\"\\033[1;31m连续型变量个数\\n \\033[0m\",len(data.columns)-count)\n",
    "\n",
    "data_abnormal=data.copy()\n",
    "\n",
    "data_abnormal=self_f_2.find_abnormal(data_abnormal)\n",
    "\n",
    "# data_abnormal.head()\n",
    "# data_abnormal.describe()\n",
    "data_abnormal.describe(include=['object'])#查看离散型特征情况\n",
    "\n",
    "#针对异常变量可根据对数据对理解进行极端值分数映射转换或者删除极端值对应对样本"
   ]
  },
  {
   "cell_type": "markdown",
   "metadata": {},
   "source": [
    "### 特征衍生\n",
    "这里主要是做特征各种交叉衍生的工作"
   ]
  },
  {
   "cell_type": "markdown",
   "metadata": {},
   "source": [
    "### 缺失值检测&处理"
   ]
  },
  {
   "cell_type": "code",
   "execution_count": 6,
   "metadata": {},
   "outputs": [
    {
     "name": "stdout",
     "output_type": "stream",
     "text": [
      "\u001b[1;31m有缺失值的变量个数:\n",
      " \u001b[0m 37\n",
      "\u001b[1;31m各变量缺失率展示\n",
      " \u001b[0m\n"
     ]
    },
    {
     "data": {
      "text/html": [
       "<div><table id=\"67473e04-776e-4845-aae5-36db56bcb309\" class=\"display nowrap\"><thead>\n",
       "    <tr style=\"text-align: right;\">\n",
       "      \n",
       "      <th>index</th>\n",
       "      <th>var_name</th>\n",
       "      <th>queshi_num</th>\n",
       "      <th>na_rate</th>\n",
       "      <th>na_rate_new</th>\n",
       "    </tr>\n",
       "  </thead></table>\n",
       "<script type=\"text/javascript\">\n",
       "require([\"datatables\"], function (datatables) {\n",
       "    $(document).ready(function () {        \n",
       "        var dt_args = {\"columnDefs\": [{\"width\": \"150px\", \"targets\": \"_all\"}], \"lengthMenu\": [10, 10, 100, 200, 500, 1000, 2000, 5000], \"data\": [[0, \"v16\", 3402, 0.6235, \"62.35%\"], [1, \"v17\", 3402, 0.6235, \"62.35%\"], [2, \"v7\", 2989, 0.5478, \"54.78%\"], [3, \"v6\", 2002, 0.3669, \"36.69%\"], [4, \"v33\", 1564, 0.2867, \"28.67%\"], [5, \"v3\", 1201, 0.2201, \"22.01%\"], [6, \"v27\", 1139, 0.2088, \"20.88%\"], [7, \"v1\", 1132, 0.2075, \"20.75%\"], [8, \"v34\", 1132, 0.2075, \"20.75%\"], [11, \"v31\", 1032, 0.1891, \"18.91%\"], [12, \"v29\", 1032, 0.1891, \"18.91%\"], [9, \"v28\", 1032, 0.1891, \"18.91%\"], [10, \"v30\", 1032, 0.1891, \"18.91%\"], [13, \"v32\", 1029, 0.1886, \"18.86%\"], [14, \"v12\", 489, 0.0896, \"8.96%\"], [15, \"v14\", 452, 0.0828, \"8.28%\"], [16, \"v19\", 435, 0.0797, \"7.97%\"], [17, \"v24\", 422, 0.0773, \"7.73%\"], [18, \"v15\", 386, 0.0707, \"7.07%\"], [19, \"v21\", 375, 0.0687, \"6.87%\"], [20, \"v11\", 358, 0.0656, \"6.56%\"], [21, \"v20\", 301, 0.0552, \"5.52%\"], [22, \"v18\", 280, 0.0513, \"5.13%\"], [23, \"v22\", 251, 0.046, \"4.60%\"], [24, \"v23\", 249, 0.0456, \"4.56%\"], [25, \"v4\", 163, 0.0299, \"2.99%\"], [26, \"v5\", 16, 0.0029, \"0.29%\"], [27, \"v25\", 6, 0.0011, \"0.11%\"], [32, \"v10\", 0, 0.0, \"0.00%\"], [35, \"v2\", 0, 0.0, \"0.00%\"], [34, \"v8\", 0, 0.0, \"0.00%\"], [33, \"v9\", 0, 0.0, \"0.00%\"], [28, \"v35\", 0, 0.0, \"0.00%\"], [31, \"date\", 0, 0.0, \"0.00%\"], [30, \"v26\", 0, 0.0, \"0.00%\"], [29, \"id\", 0, 0.0, \"0.00%\"], [36, \"target\", 0, 0.0, \"0.00%\"]]};\n",
       "        dt_args = eval_functions(dt_args);\n",
       "        table = $('#67473e04-776e-4845-aae5-36db56bcb309').DataTable(dt_args);\n",
       "    });\n",
       "})\n",
       "</script>\n",
       "</div>\n"
      ],
      "text/plain": [
       "<IPython.core.display.HTML object>"
      ]
     },
     "metadata": {},
     "output_type": "display_data"
    }
   ],
   "source": [
    "#1.2.1缺失值统计\n",
    "\n",
    "feature_na,na_feature_num=self_f_2.findNaFunc(data,is_show_all=-1)\n",
    "\n",
    "feature_na.to_excel(\"feature_na.xlsx\")\n",
    "# feature_na=feature_na.rename(columns={\"queshi_num\":\"缺失值数量\",\"na_rate\":\"缺失率\"})\n",
    "print(\"\\033[1;31m有缺失值的变量个数:\\n \\033[0m\",na_feature_num)\n",
    "print(\"\\033[1;31m各变量缺失率展示\\n \\033[0m\")\n",
    "feature_na_show=feature_na.sort_values(by='queshi_num', axis=0, ascending=False)\n",
    "feature_na_show=feature_na_show.reset_index(drop=False)\n",
    "show(feature_na_show)"
   ]
  },
  {
   "cell_type": "markdown",
   "metadata": {},
   "source": [
    "#### 缺失过多特征删除"
   ]
  },
  {
   "cell_type": "code",
   "execution_count": 7,
   "metadata": {},
   "outputs": [
    {
     "name": "stdout",
     "output_type": "stream",
     "text": [
      "\u001b[1;31m删除的缺失值过高的特征:\n",
      " \u001b[0m Series([], Name: var_name, dtype: object)\n"
     ]
    }
   ],
   "source": [
    "#缺失过多特征删除\n",
    "delete_feature=feature_na[feature_na[\"na_rate\"]>0.8].var_name #当不想删除缺失特征时，可提高na_rate阈值\n",
    "data_delete=data.drop(delete_feature,axis=1)\n",
    "\n",
    "# data_delete.info()\n",
    "\n",
    "print(\"\\033[1;31m删除的缺失值过高的特征:\\n \\033[0m\",delete_feature)"
   ]
  },
  {
   "cell_type": "markdown",
   "metadata": {},
   "source": [
    "#### 直接填充默认缺失值\n",
    "\n",
    "- 连续型特征填充-999，离散型特征填充“缺失”字样\n",
    "\n",
    "- 另外的缺失值填充方法\n",
    "    - 根据相关性填充\n",
    "    - 根据后续结果看是否缺失值要根据特征中位数或者均值来填补"
   ]
  },
  {
   "cell_type": "code",
   "execution_count": 8,
   "metadata": {},
   "outputs": [
    {
     "name": "stdout",
     "output_type": "stream",
     "text": [
      "\u001b[1;31m缺失值填充后变量分布\n",
      " \u001b[0m\n"
     ]
    },
    {
     "data": {
      "text/html": [
       "<div><table id=\"e6088b4c-b349-4265-b3a6-404b5f241f13\" class=\"display nowrap\"><thead>\n",
       "    <tr style=\"text-align: right;\">\n",
       "      <th></th>\n",
       "      <th>id</th>\n",
       "      <th>v1</th>\n",
       "      <th>v3</th>\n",
       "      <th>v4</th>\n",
       "      <th>v5</th>\n",
       "      <th>v6</th>\n",
       "      <th>v7</th>\n",
       "      <th>v8</th>\n",
       "      <th>v11</th>\n",
       "      <th>v12</th>\n",
       "      <th>v14</th>\n",
       "      <th>v15</th>\n",
       "      <th>v16</th>\n",
       "      <th>v18</th>\n",
       "      <th>v19</th>\n",
       "      <th>v20</th>\n",
       "      <th>v21</th>\n",
       "      <th>v22</th>\n",
       "      <th>v23</th>\n",
       "      <th>v24</th>\n",
       "      <th>v25</th>\n",
       "      <th>v26</th>\n",
       "      <th>v27</th>\n",
       "      <th>v28</th>\n",
       "      <th>v29</th>\n",
       "      <th>v30</th>\n",
       "      <th>v31</th>\n",
       "      <th>v32</th>\n",
       "      <th>v33</th>\n",
       "      <th>v34</th>\n",
       "      <th>v35</th>\n",
       "      <th>target</th>\n",
       "    </tr>\n",
       "  </thead></table>\n",
       "<script type=\"text/javascript\">\n",
       "require([\"datatables\"], function (datatables) {\n",
       "    $(document).ready(function () {        \n",
       "        var dt_args = {\"columnDefs\": [{\"width\": \"150px\", \"targets\": \"_all\"}], \"lengthMenu\": [10, 10, 100, 200, 500, 1000, 2000, 5000], \"paging\": false, \"data\": [[\"count\", 5456.0, 5456.0, 5456.0, 5456.0, 5456.0, 5456.0, 5456.0, 5456.0, 5456.0, 5456.0, 5456.0, 5456.0, 5456.0, 5456.0, 5456.0, 5456.0, 5456.0, 5456.0, 5456.0, 5456.0, 5456.0, 5456.0, 5456.0, 5456.0, 5456.0, 5456.0, 5456.0, 5456.0, 5456.0, 5456.0, 5456.0, 5456.0], [\"mean\", 2728.5, -192.602456, -215.120418, -20.716826, 9.521261, -363.955828, -546.159641, 0.945931, -56.943279, -81.126002, -58.430902, -62.196758, -621.316349, -8.657808, -28.332845, -2.068732, -11.809018, 600.160191, 527.153592, 516.493768, 44.97599, 0.309384, -165.783174, -188.83871, -188.653592, -187.360337, -186.931818, -68.254032, -282.97324, -192.602456, 32.655242, 0.461144], [\"std\", 1575.155865, 413.264315, 416.557308, 172.093157, 56.920765, 483.538478, 498.501754, 0.226174, 249.665566, 288.02519, 282.82307, 258.51061, 486.111228, 230.788951, 286.325639, 241.253209, 268.722937, 358.517611, 362.572178, 442.785488, 38.72997, 0.462282, 2744.444719, 391.330549, 391.420057, 392.044617, 392.25186, 3594.480187, 453.949314, 413.264315, 8.431342, 0.672596], [\"min\", 1.0, -999.0, -999.0, -999.0, -999.0, -999.0, -999.0, 0.0, -999.0, -999.0, -999.0, -999.0, -999.0, -999.0, -999.0, -999.0, -999.0, -999.0, -999.0, -999.0, -999.0, 0.0, -999.0, -999.0, -999.0, -999.0, -999.0, -999.0, -999.0, -999.0, 18.0, 0.0], [\"25%\", 1364.75, 1.0, 1.0, 2.0, 3.0, -999.0, -999.0, 1.0, 8.968667, 8.924813, 20.0, 8.777255, -999.0, 32.0, 39.0, 47.0, 47.0, 627.0, 476.75, 606.0, 33.0, 0.0, 1.0, 0.0, 0.0, 2.0, 2.0, 1.0, -999.0, 1.0, 26.0, 0.0], [\"50%\", 2728.5, 5.0, 2.0, 5.0, 6.0, 1.0, -999.0, 1.0, 9.255029, 9.296916, 24.0, 9.184875, -999.0, 45.0, 48.0, 54.0, 60.0, 674.0, 614.0, 644.0, 46.0, 0.0, 3.0, 0.0, 0.0, 2.0, 2.0, 1.0, 3.0, 5.0, 31.0, 0.0], [\"75%\", 4092.25, 18.0, 6.0, 11.0, 16.0, 3.0, 1.0, 1.0, 9.394463, 9.477758, 30.0, 9.403012, 3.0, 54.0, 68.0, 64.0, 73.0, 716.0, 693.0, 675.0, 59.0, 1.0, 5.0, 0.0, 1.0, 2.0, 3.0, 1.0, 6.0, 18.0, 37.0, 1.0], [\"max\", 5456.0, 300.0, 101.0, 124.0, 145.0, 67.0, 38.0, 1.0, 9.684749, 9.821774, 65.0, 9.957102, 10.0, 100.0, 100.0, 91.0, 100.0, 875.0, 998.0, 869.0, 93.0, 1.0, 200000.0, 3.0, 2.0, 4.0, 5.0, 176300.0, 14.0, 300.0, 63.0, 2.0]]};\n",
       "        dt_args = eval_functions(dt_args);\n",
       "        table = $('#e6088b4c-b349-4265-b3a6-404b5f241f13').DataTable(dt_args);\n",
       "    });\n",
       "})\n",
       "</script>\n",
       "</div>\n"
      ],
      "text/plain": [
       "<IPython.core.display.HTML object>"
      ]
     },
     "metadata": {},
     "output_type": "display_data"
    }
   ],
   "source": [
    "#直接填充默认缺失值，连续型特征填充-999，离散型特征填充“缺失”字样\n",
    "data_fillna=self_f_2.na_fill(data_delete)\n",
    "print(\"\\033[1;31m缺失值填充后变量分布\\n \\033[0m\")\n",
    "show(data_fillna.describe())\n",
    "# show(data_fillna.describe(include=['object']))\n",
    "data_fillna.to_excel(\"data_fillna.xlsx\")\n",
    "\n",
    "#另外的缺失值填充方法\n",
    "#根据相关性填充\n",
    "#根据后续结果看是否缺失值要根据特征中位数或者均值来填补"
   ]
  },
  {
   "cell_type": "markdown",
   "metadata": {},
   "source": [
    "## 特征筛选"
   ]
  },
  {
   "cell_type": "code",
   "execution_count": 9,
   "metadata": {},
   "outputs": [
    {
     "name": "stdout",
     "output_type": "stream",
     "text": [
      "\u001b[1;31m训练集好坏用户，1表示坏用户：\n",
      " \u001b[0m 0    2466\n",
      "1    1167\n",
      "Name: target, dtype: int64\n",
      "\u001b[1;31m时间外验证集好坏用户，1表示坏用户：\n",
      "\u001b[0m 0    1030\n",
      "1     237\n",
      "Name: target, dtype: int64\n",
      "\u001b[1;31m去除事后以及事后以及根据经验较为波动不适宜入模的变量：\n",
      " \u001b[0m ['id', 'date']\n"
     ]
    }
   ],
   "source": [
    "#训练集，时间外验证集拆分\n",
    "data_fillna=data_fillna[data_fillna['target'] !=2]\n",
    "train_data=data_fillna[data_fillna['date']<='2019-01-01']\n",
    "oot_data=data_fillna[data_fillna['date']>='2019-03-01']\n",
    "\n",
    "\n",
    "train_data.to_excel(\"train_data_original.xlsx\")\n",
    "oot_data.to_excel(\"oot_data_original.xlsx\")\n",
    "\n",
    "print(\"\\033[1;31m训练集好坏用户，1表示坏用户：\\n \\033[0m\",train_data.target.value_counts())\n",
    "print(\"\\033[1;31m时间外验证集好坏用户，1表示坏用户：\\n\\033[0m\",oot_data.target.value_counts())\n",
    "\n",
    "\n",
    "#不作为自特征的特征\n",
    "target=\"target\" #目标特征对应的字段名称\n",
    "key_name=\"id\" #唯一识别用户的字段，在最后面需要知道具体是哪个用户的得分的时候，需要用到\n",
    "target_series=pd.Series(\"target\")\n",
    "not_model_feature=['id', 'date']\n",
    "\n",
    "\n",
    "#建模前记录下train_data的用户ID和index\n",
    "train_id=train_data[key_name]\n",
    "# print(train_id.head())\n",
    "\n",
    "#删除掉\n",
    "train_data=train_data.drop(not_model_feature,axis=1)\n",
    "\n",
    "print(\"\\033[1;31m去除事后以及事后以及根据经验较为波动不适宜入模的变量：\\n \\033[0m\",not_model_feature)"
   ]
  },
  {
   "cell_type": "markdown",
   "metadata": {},
   "source": [
    "###  psi筛选"
   ]
  },
  {
   "cell_type": "code",
   "execution_count": 10,
   "metadata": {},
   "outputs": [
    {
     "name": "stdout",
     "output_type": "stream",
     "text": [
      "\u001b[1;31mpsi筛选删除的特征: \u001b[0m []\n",
      "\u001b[1;31mpsi筛选的特征: \u001b[0m Index(['v1', 'v2', 'v3', 'v4', 'v5', 'v6', 'v7', 'v8', 'v9', 'v10', 'v11',\n",
      "       'v12', 'v14', 'v15', 'v16', 'v17', 'v18', 'v19', 'v20', 'v21', 'v22',\n",
      "       'v23', 'v24', 'v25', 'v26', 'v27', 'v28', 'v29', 'v30', 'v31', 'v32',\n",
      "       'v33', 'v34', 'v35', 'target'],\n",
      "      dtype='object')\n",
      "\u001b[1;31m各变量psi: \u001b[0m\n"
     ]
    },
    {
     "data": {
      "text/html": [
       "<div><table id=\"6a4ccde5-ac65-4d30-ad4d-1167b211aec2\" class=\"display nowrap\"><thead>\n",
       "    <tr style=\"text-align: right;\">\n",
       "      <th></th>\n",
       "      <th>var_name</th>\n",
       "      <th>psi</th>\n",
       "    </tr>\n",
       "  </thead></table>\n",
       "<script type=\"text/javascript\">\n",
       "require([\"datatables\"], function (datatables) {\n",
       "    $(document).ready(function () {        \n",
       "        var dt_args = {\"columnDefs\": [{\"width\": \"150px\", \"targets\": \"_all\"}], \"lengthMenu\": [10, 10, 100, 200, 500, 1000, 2000, 5000], \"data\": [[15, \"v17\", 0.248], [21, \"v23\", 0.1989], [0, \"v1\", 0.1417], [32, \"v34\", 0.1417], [27, \"v29\", 0.1303], [10, \"v11\", 0.1277], [9, \"v10\", 0.1276], [2, \"v3\", 0.1085], [5, \"v6\", 0.1069], [17, \"v19\", 0.1062], [26, \"v28\", 0.0917], [20, \"v22\", 0.076], [29, \"v31\", 0.0713], [6, \"v7\", 0.0487], [18, \"v20\", 0.0418], [16, \"v18\", 0.0392], [14, \"v16\", 0.035], [8, \"v9\", 0.0344], [25, \"v27\", 0.0312], [24, \"v26\", 0.0262], [22, \"v24\", 0.0247], [23, \"v25\", 0.0203], [12, \"v14\", 0.0199], [1, \"v2\", 0.0195], [13, \"v15\", 0.0156], [11, \"v12\", 0.0155], [4, \"v5\", 0.0092], [19, \"v21\", 0.0046], [3, \"v4\", 0.0043], [31, \"v33\", 0.0039], [7, \"v8\", 0.0029], [33, \"v35\", 0.002], [28, \"v30\", 0.0011], [30, \"v32\", 0.001]]};\n",
       "        dt_args = eval_functions(dt_args);\n",
       "        table = $('#6a4ccde5-ac65-4d30-ad4d-1167b211aec2').DataTable(dt_args);\n",
       "    });\n",
       "})\n",
       "</script>\n",
       "</div>\n"
      ],
      "text/plain": [
       "<IPython.core.display.HTML object>"
      ]
     },
     "metadata": {},
     "output_type": "display_data"
    },
    {
     "name": "stdout",
     "output_type": "stream",
     "text": [
      "\u001b[1;31mpsi筛选特征完成--------------------------------\u001b[0m\n"
     ]
    }
   ],
   "source": [
    "### psi筛选\n",
    "# 3.1psi筛选\n",
    "all_col = [x for x in train_data.columns if x!=target]\n",
    "psi_tup = []\n",
    "for col in all_col:\n",
    "    psi,psi_bin_df = self_f_2.cal_psi(train_data,oot_data,col)\n",
    "    psi_tup.append((col,psi))\n",
    "psi_delete = [x for x,y in psi_tup if y>=0.25]#这里psi阈值定位0.25\n",
    "\n",
    "#变量和psi转换成数据框\n",
    "psi_df=pd.DataFrame(pd.Series(dict(psi_tup)),columns=[\"psi\"])\n",
    "psi_df=psi_df.reset_index().rename(columns={'index':'var_name'})\n",
    "psi_df=psi_df.sort_values(by='psi', axis=0, ascending=False)\n",
    "\n",
    "train = train_data.drop(psi_delete,axis=1)\n",
    "\n",
    "print('\\033[1;31mpsi筛选删除的特征: \\033[0m',psi_delete)\n",
    "print('\\033[1;31mpsi筛选的特征: \\033[0m',train.columns)\n",
    "print('\\033[1;31m各变量psi: \\033[0m')\n",
    "show(psi_df)\n",
    "print('\\033[1;31mpsi筛选特征完成--------------------------------\\033[0m')"
   ]
  },
  {
   "cell_type": "markdown",
   "metadata": {},
   "source": [
    "### 随机森林筛选特征\n",
    "\n",
    "此版本，没有使用随机森林筛选变量，即所有变量都进入下一轮iv的筛选"
   ]
  },
  {
   "cell_type": "code",
   "execution_count": 11,
   "metadata": {},
   "outputs": [],
   "source": [
    "# df=train\n",
    "# le=preprocessing.LabelEncoder()\n",
    "# character_name,cate_count=self_f_2.character_VarFindFunc(df)\n",
    "# df_new=df.copy()\n",
    "# # print(df_new.info())\n",
    "# character_name.remove(target)\n",
    "# for i in character_name:\n",
    "#     code_list=list(df_new[i].unique())\n",
    "#     encoder= le.fit(code_list)\n",
    "#     print(i)\n",
    "#     print(encoder)\n",
    "#     print(\"------------\")\n",
    "#     df_new[i] = encoder.transform(df_new[i])\n",
    "#     print(df_new[i])\n",
    "            \n",
    "# show(df_new)"
   ]
  },
  {
   "cell_type": "code",
   "execution_count": 12,
   "metadata": {},
   "outputs": [
    {
     "name": "stdout",
     "output_type": "stream",
     "text": [
      "\u001b[1;31m随机森林删除的特征: \u001b[0m\n"
     ]
    },
    {
     "data": {
      "text/html": [
       "<div><table id=\"48fd9164-b8f7-4e81-b09b-21cb3d7fe362\" class=\"display nowrap\"><thead>\n",
       "    <tr style=\"text-align: right;\">\n",
       "      <th></th>\n",
       "      <th>var_name</th>\n",
       "      <th>importance</th>\n",
       "    </tr>\n",
       "  </thead></table>\n",
       "<script type=\"text/javascript\">\n",
       "require([\"datatables\"], function (datatables) {\n",
       "    $(document).ready(function () {        \n",
       "        var dt_args = {\"columnDefs\": [{\"width\": \"150px\", \"targets\": \"_all\"}], \"lengthMenu\": [10, 10, 100, 200, 500, 1000, 2000, 5000], \"paging\": false, \"data\": []};\n",
       "        dt_args = eval_functions(dt_args);\n",
       "        table = $('#48fd9164-b8f7-4e81-b09b-21cb3d7fe362').DataTable(dt_args);\n",
       "    });\n",
       "})\n",
       "</script>\n",
       "</div>\n"
      ],
      "text/plain": [
       "<IPython.core.display.HTML object>"
      ]
     },
     "metadata": {},
     "output_type": "display_data"
    },
    {
     "name": "stdout",
     "output_type": "stream",
     "text": [
      "\u001b[1;31m随机森林筛选的特征: \u001b[0m\n"
     ]
    },
    {
     "data": {
      "text/html": [
       "<div><table id=\"92aa57e3-9a6d-4340-9789-fec8313ecf7a\" class=\"display nowrap\"><thead>\n",
       "    <tr style=\"text-align: right;\">\n",
       "      <th></th>\n",
       "      <th>var_name</th>\n",
       "      <th>importance</th>\n",
       "    </tr>\n",
       "  </thead></table>\n",
       "<script type=\"text/javascript\">\n",
       "require([\"datatables\"], function (datatables) {\n",
       "    $(document).ready(function () {        \n",
       "        var dt_args = {\"columnDefs\": [{\"width\": \"150px\", \"targets\": \"_all\"}], \"lengthMenu\": [10, 10, 100, 200, 500, 1000, 2000, 5000], \"data\": [[0, \"v1\", 0.166242], [1, \"v2\", 0.077067], [2, \"v3\", 0.076709], [3, \"v4\", 0.076546], [4, \"v5\", 0.067965], [5, \"v6\", 0.055522], [6, \"v7\", 0.053222], [7, \"v8\", 0.050375], [8, \"v9\", 0.040777], [9, \"v10\", 0.037603], [10, \"v11\", 0.034127], [11, \"v12\", 0.033073], [12, \"v14\", 0.032266], [13, \"v15\", 0.032069], [14, \"v16\", 0.030195], [15, \"v17\", 0.030024], [16, \"v18\", 0.02866], [17, \"v19\", 0.015664], [18, \"v20\", 0.010485], [19, \"v21\", 0.008794], [20, \"v22\", 0.008337], [21, \"v23\", 0.005697], [22, \"v24\", 0.005237], [23, \"v25\", 0.004925], [24, \"v26\", 0.004394], [25, \"v27\", 0.00434], [26, \"v28\", 0.004169], [27, \"v29\", 0.00216], [28, \"v30\", 0.001545], [29, \"v31\", 0.00083], [30, \"v32\", 0.000649], [31, \"v33\", 0.000115], [32, \"v34\", 0.00011], [33, \"v35\", 0.000108]]};\n",
       "        dt_args = eval_functions(dt_args);\n",
       "        table = $('#92aa57e3-9a6d-4340-9789-fec8313ecf7a').DataTable(dt_args);\n",
       "    });\n",
       "})\n",
       "</script>\n",
       "</div>\n"
      ],
      "text/plain": [
       "<IPython.core.display.HTML object>"
      ]
     },
     "metadata": {},
     "output_type": "display_data"
    }
   ],
   "source": [
    "#2.2随机森林筛选特征\n",
    "#由于树模型不能处理非数值型特征，对离散型特征进行labelencoder编码，即将离散型特征使用连续数字来编码，\n",
    "#没有啥业务含义，只是一个将离散型特征映射为数字而已\n",
    "\n",
    "\n",
    "#！重要，当没有psi这步时，需要进行这步赋值\n",
    "# train=train_data\n",
    "\n",
    "data_label_encode=self_f_2.feature_labelencoder(train) \n",
    "\n",
    "#将重要性大于一定阈值的特征筛选出来          \n",
    "df_random_var,importance_list_delete=self_f_2.Random_feature_filter(data_label_encode,im_value=0.0)\n",
    "random_var_name=df_random_var['var_name']#重要度大于阈值到特征，不含目标特征\n",
    "\n",
    "print(\"\\033[1;31m随机森林删除的特征: \\033[0m\")\n",
    "show(importance_list_delete)\n",
    "print(\"\\033[1;31m随机森林筛选的特征: \\033[0m\")\n",
    "show(df_random_var)\n",
    "\n",
    "df_random_var.to_excel(\"df_random_var.xlsx\")\n",
    "random_var_name=random_var_name.append(target_series)#添加目标特征，即y特征\n",
    "train=train[random_var_name]"
   ]
  },
  {
   "cell_type": "markdown",
   "metadata": {},
   "source": [
    "### iv筛选"
   ]
  },
  {
   "cell_type": "code",
   "execution_count": 13,
   "metadata": {},
   "outputs": [
    {
     "name": "stdout",
     "output_type": "stream",
     "text": [
      "\u001b[1;31m特征分箱完成---------------------------\u001b[0m\n",
      "\u001b[1;31m变量iv以及分箱表 \u001b[0m\n"
     ]
    },
    {
     "data": {
      "text/html": [
       "<div><table id=\"4b96a288-827e-4cb4-8c6d-3940bf943466\" class=\"display nowrap\"><thead>\n",
       "    <tr style=\"text-align: right;\">\n",
       "      \n",
       "      <th>col</th>\n",
       "      <th>bins</th>\n",
       "      <th>IV</th>\n",
       "      <th>woe</th>\n",
       "      <th>bin_iv</th>\n",
       "      <th>total</th>\n",
       "      <th>totalrate</th>\n",
       "      <th>bad</th>\n",
       "      <th>badrate</th>\n",
       "      <th>good</th>\n",
       "      <th>goodrate</th>\n",
       "      <th>badattr</th>\n",
       "      <th>goodattr</th>\n",
       "      <th>fuzhu</th>\n",
       "    </tr>\n",
       "  </thead></table>\n",
       "<script type=\"text/javascript\">\n",
       "require([\"datatables\"], function (datatables) {\n",
       "    $(document).ready(function () {        \n",
       "        var dt_args = {\"columnDefs\": [{\"width\": \"90px\", \"targets\": \"_all\"}], \"lengthMenu\": [10, 10, 100, 200, 500, 1000, 2000, 5000], \"data\": [[\"v28\", \"-999.0\", Infinity, -0.181009, 0.006648, 763, 0.210019, 216, 0.283093, 547, 0.716907, 0.18509, 0.221817, 124], [\"v28\", \"0.0\", Infinity, -0.031295, 0.000657, 2452, 0.674924, 771, 0.314437, 1681, 0.685563, 0.660668, 0.681671, 125], [\"v28\", \"1.0\", Infinity, 0.482653, 0.027077, 394, 0.10845, 171, 0.43401, 223, 0.56599, 0.14653, 0.09043, 126], [\"v28\", \"2.0\", Infinity, 0.306328, 0.000623, 23, 0.006331, 9, 0.391304, 14, 0.608696, 0.007712, 0.005677, 127], [\"v28\", \"3.0\", Infinity, -Infinity, Infinity, 1, 0.000275, 0, 0.0, 1, 1.0, 0.0, 0.000406, 128], [\"v5\", \"(-inf, 5.5]\", 1.12002, -1.138352, 0.45116, 1656, 0.455822, 218, 0.131643, 1438, 0.868357, 0.186804, 0.583131, 18], [\"v5\", \"(5.5, 13.5]\", 1.12002, -0.089025, 0.002017, 940, 0.258739, 284, 0.302128, 656, 0.697872, 0.243359, 0.266018, 19], [\"v5\", \"(13.5, 25.5]\", 1.12002, 0.860031, 0.116482, 519, 0.142857, 274, 0.527938, 245, 0.472062, 0.23479, 0.099351, 20], [\"v5\", \"(25.5, 35.5]\", 1.12002, 1.546669, 0.166896, 232, 0.063859, 160, 0.689655, 72, 0.310345, 0.137104, 0.029197, 21], [\"v5\", \"(35.5, inf]\", 1.12002, 2.183246, 0.383466, 286, 0.078723, 231, 0.807692, 55, 0.192308, 0.197943, 0.022303, 22], [\"v12\", \"(-inf, -999.0]\", 1.061416, -1.17577, 0.103844, 361, 0.099367, 46, 0.127424, 315, 0.872576, 0.039417, 0.127737, 52], [\"v12\", \"(-999.0, 8.872]\", 1.061416, 2.013009, 0.497673, 427, 0.117534, 333, 0.779859, 94, 0.220141, 0.285347, 0.038118, 53], [\"v12\", \"(8.872, 9.081]\", 1.061416, 1.090204, 0.156282, 431, 0.118635, 252, 0.584687, 179, 0.415313, 0.215938, 0.072587, 54], [\"v12\", \"(9.081, 9.348]\", 1.061416, 0.133074, 0.003879, 778, 0.214148, 273, 0.3509, 505, 0.6491, 0.233933, 0.204785, 55], [\"v12\", \"(9.348, inf]\", 1.061416, -0.904438, 0.299738, 1636, 0.450317, 263, 0.160758, 1373, 0.839242, 0.225364, 0.556772, 56], [\"v23\", \"(-inf, -999.0]\", 1.022744, -0.808479, 0.030176, 201, 0.055326, 35, 0.174129, 166, 0.825871, 0.029991, 0.067315, 102], [\"v23\", \"(-999.0, 447.5]\", 1.022744, 1.704658, 0.485214, 562, 0.154693, 406, 0.72242, 156, 0.27758, 0.347901, 0.06326, 103], [\"v23\", \"(447.5, 549.5]\", 1.022744, 0.85549, 0.09525, 429, 0.118084, 226, 0.526807, 203, 0.473193, 0.193659, 0.08232, 104], [\"v23\", \"(549.5, 687.5]\", 1.022744, -0.180617, 0.011704, 1349, 0.371318, 382, 0.283173, 967, 0.716827, 0.327335, 0.392133, 105], [\"v23\", \"(687.5, inf]\", 1.022744, -1.362566, 0.4004, 1092, 0.300578, 118, 0.108059, 974, 0.891941, 0.101114, 0.394972, 106], [\"v15\", \"(-inf, -999.0]\", 0.992703, -0.758011, 0.039039, 292, 0.080374, 53, 0.181507, 239, 0.818493, 0.045416, 0.096918, 62], [\"v15\", \"(-999.0, 8.576]\", 0.992703, 1.965725, 0.464973, 416, 0.114506, 321, 0.771635, 95, 0.228365, 0.275064, 0.038524, 63], [\"v15\", \"(8.576, 9.062]\", 0.992703, 0.714952, 0.120477, 783, 0.215524, 385, 0.491699, 398, 0.508301, 0.329906, 0.161395, 64], [\"v15\", \"(9.062, 9.354]\", 0.992703, -0.213133, 0.010933, 911, 0.250757, 252, 0.276619, 659, 0.723381, 0.215938, 0.267234, 65], [\"v15\", \"(9.354, inf]\", 0.992703, -1.182059, 0.35728, 1231, 0.338838, 156, 0.126726, 1075, 0.873274, 0.133676, 0.435929, 66], [\"v22\", \"(-inf, -999.0]\", 0.986715, -0.910067, 0.037045, 200, 0.055051, 32, 0.16, 168, 0.84, 0.027421, 0.068127, 97], [\"v22\", \"(-999.0, 612.5]\", 0.986715, 1.796221, 0.519935, 547, 0.150564, 405, 0.740402, 142, 0.259598, 0.347044, 0.057583, 98], [\"v22\", \"(612.5, 652.5]\", 0.986715, 0.726747, 0.074304, 467, 0.128544, 231, 0.494647, 236, 0.505353, 0.197943, 0.095702, 99], [\"v22\", \"(652.5, 700.5]\", 0.986715, -0.134971, 0.005432, 1111, 0.305808, 325, 0.292529, 786, 0.707471, 0.278492, 0.318735, 100], [\"v22\", \"(700.5, inf]\", 0.986715, -1.12629, 0.349999, 1308, 0.360033, 174, 0.133028, 1134, 0.866972, 0.1491, 0.459854, 101], [\"v20\", \"(-inf, -999.0]\", 0.917664, -0.953986, 0.045665, 227, 0.062483, 35, 0.154185, 192, 0.845815, 0.029991, 0.077859, 87], [\"v20\", \"(-999.0, 54.5]\", 0.917664, -0.824471, 0.290434, 1868, 0.514176, 321, 0.171842, 1547, 0.828158, 0.275064, 0.627332, 88], [\"v20\", \"(54.5, 61.5]\", 0.917664, 0.04221, 0.00029, 587, 0.161574, 194, 0.330494, 393, 0.669506, 0.166238, 0.159367, 89], [\"v20\", \"(61.5, 70.5]\", 0.917664, 0.823282, 0.060158, 293, 0.08065, 152, 0.518771, 141, 0.481229, 0.130249, 0.057178, 90], [\"v20\", \"(70.5, inf]\", 0.917664, 1.627508, 0.521117, 658, 0.181118, 465, 0.706687, 193, 0.293313, 0.398458, 0.078264, 91], [\"v19\", \"(-inf, -999.0]\", 0.914949, -1.150121, 0.091476, 330, 0.090834, 43, 0.130303, 287, 0.869697, 0.036847, 0.116383, 82], [\"v19\", \"(-999.0, 36.5]\", 0.914949, -1.406266, 0.226451, 587, 0.161574, 61, 0.103918, 526, 0.896082, 0.052271, 0.213301, 83], [\"v19\", \"(36.5, 59.5]\", 0.914949, -0.371573, 0.058174, 1650, 0.45417, 406, 0.246061, 1244, 0.753939, 0.347901, 0.504461, 84], [\"v19\", \"(59.5, 76.5]\", 0.914949, 0.853522, 0.117565, 532, 0.146435, 280, 0.526316, 252, 0.473684, 0.239931, 0.10219, 85], [\"v19\", \"(76.5, inf]\", 0.914949, 1.62416, 0.421282, 534, 0.146986, 377, 0.705993, 157, 0.294007, 0.323051, 0.063666, 86], [\"v11\", \"(-inf, -999.0]\", 0.889711, -0.784969, 0.039299, 276, 0.07597, 49, 0.177536, 227, 0.822464, 0.041988, 0.092052, 47], [\"v11\", \"(-999.0, 8.97]\", 0.889711, 1.657108, 0.467724, 571, 0.15717, 407, 0.712785, 164, 0.287215, 0.348757, 0.066504, 48], [\"v11\", \"(8.97, 9.141]\", 0.889711, 0.748161, 0.073958, 438, 0.120562, 219, 0.5, 219, 0.5, 0.187661, 0.088808, 49], [\"v11\", \"(9.141, 9.296]\", 0.889711, 0.037546, 0.000269, 689, 0.18965, 227, 0.329463, 462, 0.670537, 0.194516, 0.187348, 50], [\"v11\", \"(9.296, inf]\", 0.889711, -0.912042, 0.308462, 1659, 0.456647, 265, 0.159735, 1394, 0.840265, 0.227078, 0.565288, 51], [\"v16\", \"(-inf, -999.0]\", 0.873424, -0.679455, 0.271867, 2481, 0.682907, 480, 0.19347, 2001, 0.80653, 0.411311, 0.811436, 67], [\"v16\", \"(-999.0, 3.5]\", 0.873424, 0.45658, 0.027535, 449, 0.123589, 192, 0.427617, 257, 0.572383, 0.164524, 0.104217, 68], [\"v16\", \"(3.5, 5.5]\", 0.873424, 1.473884, 0.303796, 463, 0.127443, 312, 0.673866, 151, 0.326134, 0.267352, 0.061233, 69], [\"v16\", \"(5.5, 6.5]\", 0.873424, 1.556084, 0.087325, 120, 0.033031, 83, 0.691667, 37, 0.308333, 0.071123, 0.015004, 70], [\"v16\", \"(6.5, inf]\", 0.873424, 2.357599, 0.182901, 120, 0.033031, 100, 0.833333, 20, 0.166667, 0.08569, 0.00811, 71], [\"v21\", \"(-inf, -999.0]\", 0.833021, -1.006327, 0.06136, 278, 0.076521, 41, 0.147482, 237, 0.852518, 0.035133, 0.096107, 92], [\"v21\", \"(-999.0, 49.5]\", 0.833021, -1.209266, 0.270415, 897, 0.246903, 111, 0.123746, 786, 0.876254, 0.095116, 0.318735, 93], [\"v21\", \"(49.5, 66.5]\", 0.833021, -0.367546, 0.04057, 1175, 0.323424, 290, 0.246809, 885, 0.753191, 0.2485, 0.358881, 94], [\"v21\", \"(66.5, 83.5]\", 0.833021, 0.792707, 0.179217, 943, 0.259565, 482, 0.511135, 461, 0.488865, 0.413025, 0.186942, 95], [\"v21\", \"(83.5, inf]\", 0.833021, 1.666512, 0.281459, 340, 0.093587, 243, 0.714706, 97, 0.285294, 0.208226, 0.039335, 96], [\"v25\", \"(-inf, 25.5]\", 0.796799, 1.569651, 0.380243, 514, 0.141481, 357, 0.694553, 157, 0.305447, 0.305913, 0.063666, 112], [\"v25\", \"(25.5, 35.5]\", 0.796799, 0.661833, 0.066988, 510, 0.14038, 244, 0.478431, 266, 0.521569, 0.209083, 0.107867, 113], [\"v25\", \"(35.5, 40.5]\", 0.796799, 0.229553, 0.005164, 343, 0.094412, 128, 0.373178, 215, 0.626822, 0.109683, 0.087186, 114], [\"v25\", \"(40.5, 56.5]\", 0.796799, -0.308952, 0.027505, 1113, 0.306358, 287, 0.257862, 826, 0.742138, 0.24593, 0.334955, 115], [\"v25\", \"(56.5, inf]\", 0.796799, -1.144312, 0.3169, 1153, 0.317369, 151, 0.130963, 1002, 0.869037, 0.129392, 0.406326, 116], [\"v17\", \"a\", 0.782913, 1.514961, 0.342329, 495, 0.136251, 338, 0.682828, 157, 0.317172, 0.289632, 0.063666, 72], [\"v17\", \"b\", 0.782913, 1.248405, 0.071701, 151, 0.041563, 94, 0.622517, 57, 0.377483, 0.080548, 0.023114, 73], [\"v17\", \"c\", 0.782913, 0.978177, 0.076364, 262, 0.072117, 146, 0.557252, 116, 0.442748, 0.125107, 0.04704, 74], [\"v17\", \"d\", 0.782913, 0.534234, 0.020652, 244, 0.067162, 109, 0.446721, 135, 0.553279, 0.093402, 0.054745, 75], [\"v17\", \"\\u7f3a\\u5931\", 0.782913, -0.679455, 0.271867, 2481, 0.682907, 480, 0.19347, 2001, 0.80653, 0.411311, 0.811436, 76], [\"v18\", \"(-inf, -999.0]\", 0.778817, -0.931481, 0.040518, 210, 0.057803, 33, 0.157143, 177, 0.842857, 0.028278, 0.071776, 77], [\"v18\", \"(-999.0, 34.5]\", 0.778817, -1.186098, 0.256577, 879, 0.241949, 111, 0.12628, 768, 0.87372, 0.095116, 0.311436, 78], [\"v18\", \"(34.5, 52.5]\", 0.778817, -0.176595, 0.013065, 1574, 0.433251, 447, 0.28399, 1127, 0.71601, 0.383033, 0.457015, 79], [\"v18\", \"(52.5, 59.5]\", 0.778817, 0.615185, 0.054496, 482, 0.132673, 225, 0.466805, 257, 0.533195, 0.192802, 0.104217, 80], [\"v18\", \"(59.5, inf]\", 0.778817, 1.688966, 0.414161, 488, 0.134324, 351, 0.719262, 137, 0.280738, 0.300771, 0.055556, 81], [\"v4\", \"(-inf, 3.5]\", 0.749577, -0.806627, 0.228904, 1531, 0.421415, 267, 0.174396, 1264, 0.825604, 0.228792, 0.512571, 13], [\"v4\", \"(3.5, 6.5]\", 0.749577, -0.431892, 0.032985, 702, 0.193229, 165, 0.235043, 537, 0.764957, 0.141388, 0.217762, 14], [\"v4\", \"(6.5, 10.5]\", 0.749577, 0.143621, 0.002815, 484, 0.133223, 171, 0.353306, 313, 0.646694, 0.14653, 0.126926, 15], [\"v4\", \"(10.5, 18.5]\", 0.749577, 0.743542, 0.072193, 433, 0.119185, 216, 0.498845, 217, 0.501155, 0.18509, 0.087997, 16], [\"v4\", \"(18.5, inf]\", 0.749577, 1.695089, 0.41268, 483, 0.132948, 348, 0.720497, 135, 0.279503, 0.298201, 0.054745, 17], [\"v14\", \"(-inf, -999.0]\", 0.647575, -1.115057, 0.088133, 335, 0.09221, 45, 0.134328, 290, 0.865672, 0.03856, 0.117599, 57], [\"v14\", \"(-999.0, 26.5]\", 0.647575, -0.597311, 0.156857, 1815, 0.499587, 375, 0.206612, 1440, 0.793388, 0.321337, 0.583942, 58], [\"v14\", \"(26.5, 30.5]\", 0.647575, 0.241392, 0.010957, 657, 0.180842, 247, 0.375951, 410, 0.624049, 0.211654, 0.166261, 59], [\"v14\", \"(30.5, 34.5]\", 0.647575, 0.611586, 0.029491, 264, 0.072667, 123, 0.465909, 141, 0.534091, 0.105398, 0.057178, 60], [\"v14\", \"(34.5, inf]\", 0.647575, 1.46005, 0.362137, 562, 0.154693, 377, 0.670819, 185, 0.329181, 0.323051, 0.07502, 61], [\"v9\", \"A\", 0.630763, -1.626745, 0.31906, 658, 0.181118, 56, 0.085106, 602, 0.914894, 0.047986, 0.24412, 35], [\"v9\", \"B\", 0.630763, -0.492481, 0.066869, 1110, 0.305533, 249, 0.224324, 861, 0.775676, 0.213368, 0.349148, 36], [\"v9\", \"C\", 0.630763, 0.016914, 2.5e-05, 317, 0.087256, 103, 0.324921, 214, 0.675079, 0.08826, 0.08678, 37], [\"v9\", \"D\", 0.630763, 0.43345, 0.019074, 346, 0.095238, 146, 0.421965, 200, 0.578035, 0.125107, 0.081103, 38], [\"v9\", \"E\", 0.630763, 0.7881, 0.225736, 1202, 0.330856, 613, 0.509983, 589, 0.490017, 0.525278, 0.238848, 39], [\"v24\", \"(-inf, -999.0]\", 0.629105, 0.266323, 0.005603, 275, 0.075695, 105, 0.381818, 170, 0.618182, 0.089974, 0.068938, 107], [\"v24\", \"(-999.0, 588.5]\", 0.629105, 1.818602, 0.365543, 376, 0.103496, 280, 0.744681, 96, 0.255319, 0.239931, 0.038929, 108], [\"v24\", \"(588.5, 613.5]\", 0.629105, 0.593185, 0.039346, 375, 0.10322, 173, 0.461333, 202, 0.538667, 0.148243, 0.081914, 109], [\"v24\", \"(613.5, 671.5]\", 0.629105, -0.186455, 0.015228, 1649, 0.453895, 465, 0.281989, 1184, 0.718011, 0.398458, 0.48013, 110], [\"v24\", \"(671.5, inf]\", 0.629105, -0.983986, 0.203386, 958, 0.263694, 144, 0.150313, 814, 0.849687, 0.123393, 0.330089, 111], [\"v10\", \"a\", 0.626796, 0.15017, 0.005831, 916, 0.252133, 325, 0.354803, 591, 0.645197, 0.278492, 0.239659, 40], [\"v10\", \"b\", 0.626796, -0.532134, 0.055742, 800, 0.220204, 174, 0.2175, 626, 0.7825, 0.1491, 0.253852, 41], [\"v10\", \"c\", 0.626796, -0.805707, 0.063264, 424, 0.116708, 74, 0.174528, 350, 0.825472, 0.06341, 0.14193, 42], [\"v10\", \"d\", 0.626796, -1.736746, 0.132299, 247, 0.067988, 19, 0.076923, 228, 0.923077, 0.016281, 0.092457, 43], [\"v10\", \"e\", 0.626796, -2.013956, 0.067231, 101, 0.027801, 6, 0.059406, 95, 0.940594, 0.005141, 0.038524, 44], [\"v10\", \"f\", 0.626796, -2.717575, 0.065872, 66, 0.018167, 2, 0.030303, 64, 0.969697, 0.001714, 0.025953, 45], [\"v10\", \"g\", 0.626796, 0.850196, 0.236556, 1079, 0.297, 567, 0.525487, 512, 0.474513, 0.485861, 0.207624, 46], [\"v26\", \"0\", 0.36096, -0.472104, 0.135225, 2431, 0.669144, 554, 0.22789, 1877, 0.77211, 0.474722, 0.761152, 117], [\"v26\", \"1\", 0.36096, 0.7881, 0.225736, 1202, 0.330856, 613, 0.509983, 589, 0.490017, 0.525278, 0.238848, 118], [\"v29\", \"-999.0\", 0.289665, -0.181009, 0.006648, 763, 0.210019, 216, 0.283093, 547, 0.716907, 0.18509, 0.221817, 129], [\"v29\", \"0.0\", 0.289665, 0.432943, 0.102728, 1868, 0.514176, 788, 0.421842, 1080, 0.578158, 0.675236, 0.437956, 130], [\"v29\", \"1.0\", 0.289665, -0.895261, 0.179951, 1000, 0.275255, 162, 0.162, 838, 0.838, 0.138817, 0.339822, 131], [\"v29\", \"2.0\", 0.289665, 0.748161, 0.000338, 2, 0.000551, 1, 0.5, 1, 0.5, 0.000857, 0.000406, 132], [\"v3\", \"(-inf, -999.0]\", 0.254016, -0.382974, 0.037059, 992, 0.273053, 242, 0.243952, 750, 0.756048, 0.207369, 0.304136, 8], [\"v3\", \"(-999.0, 3.5]\", 0.254016, -0.299531, 0.033703, 1448, 0.398569, 376, 0.259669, 1072, 0.740331, 0.322194, 0.434712, 9], [\"v3\", \"(3.5, 5.5]\", 0.254016, 0.167754, 0.003019, 379, 0.104321, 136, 0.358839, 243, 0.641161, 0.116538, 0.09854, 10], [\"v3\", \"(5.5, 14.5]\", 0.254016, 0.548923, 0.050469, 564, 0.155244, 254, 0.450355, 310, 0.549645, 0.217652, 0.12571, 11], [\"v3\", \"(14.5, inf]\", 0.254016, 1.306206, 0.129765, 250, 0.068814, 159, 0.636, 91, 0.364, 0.136247, 0.036902, 12], [\"v33\", \"(-inf, -999.0]\", 0.24274, -0.212913, 0.011342, 947, 0.260666, 262, 0.276663, 685, 0.723337, 0.224507, 0.277778, 140], [\"v33\", \"(-999.0, 2.5]\", 0.24274, -0.759905, 0.103009, 767, 0.21112, 139, 0.181226, 628, 0.818774, 0.119109, 0.254663, 141], [\"v33\", \"(2.5, 4.5]\", 0.24274, -0.036314, 0.000211, 584, 0.160749, 183, 0.313356, 401, 0.686644, 0.156812, 0.162612, 142], [\"v33\", \"(4.5, 8.5]\", 0.24274, 0.35128, 0.038251, 1067, 0.293697, 429, 0.402062, 638, 0.597938, 0.367609, 0.258719, 143], [\"v33\", \"(8.5, inf]\", 0.24274, 1.048915, 0.089927, 268, 0.073768, 154, 0.574627, 114, 0.425373, 0.131962, 0.046229, 144], [\"v1\", \"(-inf, -999.0]\", 0.202906, -0.48062, 0.053623, 932, 0.256537, 211, 0.226395, 721, 0.773605, 0.180805, 0.292376, 0], [\"v1\", \"(-999.0, 6.5]\", 0.202906, -0.270591, 0.021903, 1146, 0.315442, 304, 0.265271, 842, 0.734729, 0.260497, 0.341444, 1], [\"v1\", \"(6.5, 15.5]\", 0.202906, 0.089585, 0.001355, 604, 0.166254, 206, 0.34106, 398, 0.65894, 0.176521, 0.161395, 2], [\"v1\", \"(15.5, 65.5]\", 0.202906, 0.522747, 0.064191, 793, 0.218277, 352, 0.443884, 441, 0.556116, 0.301628, 0.178832, 3], [\"v1\", \"(65.5, inf]\", 0.202906, 1.132573, 0.061833, 158, 0.04349, 94, 0.594937, 64, 0.405063, 0.080548, 0.025953, 4], [\"v34\", \"(-inf, -999.0]\", 0.202906, -0.48062, 0.053623, 932, 0.256537, 211, 0.226395, 721, 0.773605, 0.180805, 0.292376, 145], [\"v34\", \"(-999.0, 6.5]\", 0.202906, -0.270591, 0.021903, 1146, 0.315442, 304, 0.265271, 842, 0.734729, 0.260497, 0.341444, 146], [\"v34\", \"(6.5, 15.5]\", 0.202906, 0.089585, 0.001355, 604, 0.166254, 206, 0.34106, 398, 0.65894, 0.176521, 0.161395, 147], [\"v34\", \"(15.5, 65.5]\", 0.202906, 0.522747, 0.064191, 793, 0.218277, 352, 0.443884, 441, 0.556116, 0.301628, 0.178832, 148], [\"v34\", \"(65.5, inf]\", 0.202906, 1.132573, 0.061833, 158, 0.04349, 94, 0.594937, 64, 0.405063, 0.080548, 0.025953, 149], [\"v2\", \"A\", 0.144051, -0.173966, 0.023227, 2882, 0.793284, 820, 0.284525, 2062, 0.715475, 0.702656, 0.836172, 5], [\"v2\", \"B\", 0.144051, 1.671325, 0.084893, 102, 0.028076, 73, 0.715686, 29, 0.284314, 0.062554, 0.01176, 6], [\"v2\", \"C\", 0.144051, 0.434363, 0.035931, 649, 0.17864, 274, 0.422188, 375, 0.577812, 0.23479, 0.152068, 7], [\"v31\", \"(-inf, -999.0]\", 0.107562, -0.181009, 0.006648, 763, 0.210019, 216, 0.283093, 547, 0.716907, 0.18509, 0.221817, 135], [\"v31\", \"(-999.0, 2.5]\", 0.107562, 0.357342, 0.056951, 1534, 0.422241, 619, 0.40352, 915, 0.59648, 0.53042, 0.371046, 136], [\"v31\", \"(2.5, inf]\", 0.107562, -0.358451, 0.043963, 1336, 0.36774, 332, 0.248503, 1004, 0.751497, 0.28449, 0.407137, 137], [\"v6\", \"(-inf, -999.0]\", 0.095253, -0.296338, 0.035473, 1556, 0.428296, 405, 0.260283, 1151, 0.739717, 0.347044, 0.466748, 23], [\"v6\", \"(-999.0, 3.5]\", 0.095253, 0.093316, 0.003413, 1401, 0.385632, 479, 0.341899, 922, 0.658101, 0.410454, 0.373885, 24], [\"v6\", \"(3.5, 4.5]\", 0.095253, -0.108026, 0.000507, 161, 0.044316, 48, 0.298137, 113, 0.701863, 0.041131, 0.045823, 25], [\"v6\", \"(4.5, 8.5]\", 0.095253, 0.405754, 0.013916, 289, 0.079549, 120, 0.415225, 169, 0.584775, 0.102828, 0.068532, 26], [\"v6\", \"(8.5, inf]\", 0.095253, 0.783563, 0.041945, 226, 0.062208, 115, 0.50885, 111, 0.49115, 0.098543, 0.045012, 27], [\"v35\", \"(-inf, 23.5]\", 0.078617, 0.468447, 0.028376, 439, 0.120837, 189, 0.430524, 250, 0.569476, 0.161954, 0.101379, 150], [\"v35\", \"(23.5, 26.5]\", 0.078617, 0.312525, 0.013298, 471, 0.129645, 185, 0.392781, 286, 0.607219, 0.158526, 0.115977, 151], [\"v35\", \"(26.5, 27.5]\", 0.078617, 0.140669, 0.00106, 190, 0.052298, 67, 0.352632, 123, 0.647368, 0.057412, 0.049878, 152], [\"v35\", \"(27.5, 47.5]\", 0.078617, -0.221405, 0.029387, 2273, 0.625654, 625, 0.274967, 1648, 0.725033, 0.535561, 0.668289, 153], [\"v35\", \"(47.5, inf]\", 0.078617, 0.294377, 0.006497, 260, 0.071566, 101, 0.388462, 159, 0.611538, 0.086547, 0.064477, 154], [\"v7\", \"(-inf, -999.0]\", 0.042922, -0.155571, 0.014024, 2168, 0.596752, 625, 0.288284, 1543, 0.711716, 0.535561, 0.62571, 28], [\"v7\", \"(-999.0, 2.5]\", 0.042922, 0.149792, 0.006714, 1060, 0.29177, 376, 0.354717, 684, 0.645283, 0.322194, 0.277372, 29], [\"v7\", \"(2.5, 3.5]\", 0.042922, 0.419657, 0.006655, 129, 0.035508, 54, 0.418605, 75, 0.581395, 0.046272, 0.030414, 30], [\"v7\", \"(3.5, 5.5]\", 0.042922, 0.119552, 0.000554, 138, 0.037985, 48, 0.347826, 90, 0.652174, 0.041131, 0.036496, 31], [\"v7\", \"(5.5, inf]\", 0.042922, 0.602979, 0.014974, 138, 0.037985, 64, 0.463768, 74, 0.536232, 0.054841, 0.030008, 32], [\"v27\", \"(-inf, -999.0]\", 0.02956, -0.209977, 0.009837, 844, 0.232315, 234, 0.277251, 610, 0.722749, 0.200514, 0.247364, 119], [\"v27\", \"(-999.0, 1.5]\", 0.02956, 0.563239, 0.013302, 141, 0.038811, 64, 0.453901, 77, 0.546099, 0.054841, 0.031225, 120], [\"v27\", \"(1.5, 3.5]\", 0.02956, 0.091743, 0.003535, 1502, 0.413432, 513, 0.341545, 989, 0.658455, 0.439589, 0.401054, 121], [\"v27\", \"(3.5, 6.5]\", 0.02956, 0.006602, 9e-06, 781, 0.214974, 252, 0.322663, 529, 0.677337, 0.215938, 0.214517, 122], [\"v27\", \"(6.5, inf]\", 0.02956, -0.171968, 0.002876, 365, 0.100468, 104, 0.284932, 261, 0.715068, 0.089117, 0.105839, 123], [\"v30\", \"(-inf, -999.0]\", 0.008342, -0.181009, 0.006648, 763, 0.210019, 216, 0.283093, 547, 0.716907, 0.18509, 0.221817, 133], [\"v30\", \"(-999.0, inf]\", 0.008342, 0.046116, 0.001694, 2870, 0.789981, 951, 0.331359, 1919, 0.668641, 0.81491, 0.778183, 134], [\"v32\", \"(-inf, -999.0]\", 0.003261, -0.11307, 0.002598, 754, 0.207542, 224, 0.297082, 530, 0.702918, 0.191945, 0.214923, 138], [\"v32\", \"(-999.0, inf]\", 0.003261, 0.028848, 0.000663, 2879, 0.792458, 943, 0.327544, 1936, 0.672456, 0.808055, 0.785077, 139], [\"v8\", \"0\", 0.002553, -0.220576, 0.002426, 189, 0.052023, 52, 0.275132, 137, 0.724868, 0.044559, 0.055556, 33], [\"v8\", \"1\", 0.002553, 0.011576, 0.000127, 3444, 0.947977, 1115, 0.323751, 2329, 0.676249, 0.955441, 0.944444, 34]]};\n",
       "        dt_args = eval_functions(dt_args);\n",
       "        table = $('#4b96a288-827e-4cb4-8c6d-3940bf943466').DataTable(dt_args);\n",
       "    });\n",
       "})\n",
       "</script>\n",
       "</div>\n"
      ],
      "text/plain": [
       "<IPython.core.display.HTML object>"
      ]
     },
     "metadata": {},
     "output_type": "display_data"
    }
   ],
   "source": [
    "#2.3iv筛选\n",
    "\n",
    "# 特征分箱,默认用的是决策树分箱\n",
    "train_col = [x for x in train.columns if x!=target]\n",
    "bin_df_list=[]\n",
    "cut_list=[]\n",
    "for col in train_col:\n",
    "    try:\n",
    "        bin_df,cut = self_f_2.binning_var(train,col,target)\n",
    "        bin_df_list.append(bin_df)\n",
    "        cut_list.append(cut)\n",
    "    except:\n",
    "        pass\n",
    "print('\\033[1;31m特征分箱完成---------------------------\\033[0m')\n",
    "\n",
    "# print(bin_df_list[0])\n",
    "\n",
    "bin_df_list_copy=bin_df_list.copy()\n",
    "iv_df=self_f_2.iv_transform_df(bin_df_list_copy)\n",
    "# print(bin_df_list[0])#为什么会改变呢\n",
    "\n",
    "print(\"\\033[1;31m变量iv以及分箱表 \\033[0m\")\n",
    "show(iv_df,columnDefs=[{\"width\": \"90px\", \"targets\": \"_all\"}])\n",
    "iv_df.to_excel(\"iv_df.xlsx\")"
   ]
  },
  {
   "cell_type": "code",
   "execution_count": 14,
   "metadata": {},
   "outputs": [
    {
     "name": "stdout",
     "output_type": "stream",
     "text": [
      "\u001b[1;31mwoe存在inf的特征:\u001b[0m ['v28']\n",
      "\u001b[1;31miv筛选的特征:\u001b[0m ['v5', 'v12', 'v23', 'v15', 'v22', 'v20', 'v19', 'v11', 'v16', 'v21', 'v25', 'v17', 'v18', 'v4', 'v14', 'v9', 'v24', 'v10', 'v26', 'v29', 'v3', 'v33', 'v1', 'v34', 'v2', 'v31', 'v6', 'v35', 'v7', 'v27']\n",
      "\u001b[1;31miv删除的特征:\u001b[0m ['v30', 'v32', 'v8']\n",
      "\u001b[1;31miv筛选特征完成-----------------------------------\u001b[0m\n"
     ]
    }
   ],
   "source": [
    "# 保存每个特征的分割点list，此步骤需要在剔除\n",
    "cut_dict={}\n",
    "for dd,cc in zip(bin_df_list,cut_list):\n",
    "    col = dd.index.name\n",
    "#     print(col)\n",
    "#     col = dd['var_name'].unique()\n",
    "    cut_dict[col] = cc\n",
    "    \n",
    "# print(len(cut_dict))\n",
    "\n",
    "# 剔除iv无限大的特征\n",
    "woe_inf_var=[x.index.name for x in bin_df_list if x.IV.iloc[0]==float('inf')]\n",
    "print(\"\\033[1;31mwoe存在inf的特征:\\033[0m\",woe_inf_var)\n",
    "bin_df_list = [x for x in bin_df_list if x.IV.iloc[0]!=float('inf')]\n",
    "\n",
    "# print(bin_df_list)\n",
    "\n",
    "# 将IV从大到小进行排序\n",
    "iv_col = [x.index.name for x in bin_df_list]\n",
    "iv_value = [x.IV.iloc[0] for x in bin_df_list]\n",
    "iv_sort = sorted(zip(iv_col,iv_value),key=lambda x:x[1],reverse=True)\n",
    "\n",
    "\n",
    "# iv筛选，筛选iv大于0.02的特征\n",
    "iv_select_col = [x for x,y in iv_sort if y>=0.02]\n",
    "iv_delete_col= [x for x,y in iv_sort if y<0.02]\n",
    "\n",
    "print(\"\\033[1;31miv筛选的特征:\\033[0m\",iv_select_col)\n",
    "print(\"\\033[1;31miv删除的特征:\\033[0m\",iv_delete_col)\n",
    "print('\\033[1;31miv筛选特征完成-----------------------------------\\033[0m')"
   ]
  },
  {
   "cell_type": "markdown",
   "metadata": {},
   "source": [
    "### 人工去除偏事后特征&iv箱数过多特征\n",
    "\n",
    "之所以在这个步骤去除，是因为一定程度上做过特征筛选，特征没有那么多了，可以更好地对每个特征进行解读；为什么放在相关性筛选之前做这个动作，是因为相关性筛选里面涉及到不同变量间关系而对变量进行删除，可能存在事后变量的存在而导致删除其余非事后变量这种现象，因此人工剔除偏事后特征在这一步做相对比较合适；"
   ]
  },
  {
   "cell_type": "markdown",
   "metadata": {},
   "source": [
    "### 相关性筛选"
   ]
  },
  {
   "cell_type": "code",
   "execution_count": 15,
   "metadata": {
    "scrolled": true
   },
   "outputs": [
    {
     "name": "stdout",
     "output_type": "stream",
     "text": [
      "\u001b[1;31m相关矩阵\u001b[0m\n"
     ]
    },
    {
     "data": {
      "text/html": [
       "<div><table id=\"3864b33d-a60e-4eb3-bafe-3af1a70fa8a6\" class=\"display nowrap\"><thead>\n",
       "    <tr style=\"text-align: right;\">\n",
       "      <th></th>\n",
       "      <th>v5</th>\n",
       "      <th>v12</th>\n",
       "      <th>v23</th>\n",
       "      <th>v15</th>\n",
       "      <th>v22</th>\n",
       "      <th>v20</th>\n",
       "      <th>v19</th>\n",
       "      <th>v11</th>\n",
       "      <th>v16</th>\n",
       "      <th>v21</th>\n",
       "      <th>v25</th>\n",
       "      <th>v18</th>\n",
       "      <th>v4</th>\n",
       "      <th>v14</th>\n",
       "      <th>v24</th>\n",
       "      <th>v3</th>\n",
       "      <th>v33</th>\n",
       "      <th>v1</th>\n",
       "      <th>v34</th>\n",
       "      <th>v31</th>\n",
       "      <th>v6</th>\n",
       "      <th>v35</th>\n",
       "      <th>v7</th>\n",
       "      <th>v27</th>\n",
       "    </tr>\n",
       "  </thead></table>\n",
       "<script type=\"text/javascript\">\n",
       "require([\"datatables\"], function (datatables) {\n",
       "    $(document).ready(function () {        \n",
       "        var dt_args = {\"columnDefs\": [{\"width\": \"250px\", \"targets\": \"_all\"}], \"lengthMenu\": [10, 10, 100, 200, 500, 1000, 2000, 5000], \"data\": [[\"v5\", 1.0, 0.100035, -0.008688, 0.054587, 0.02405, 0.101171, 0.081803, 0.055361, 0.183874, 0.095667, -0.052432, 0.064937, 0.344106, 0.077019, 0.083887, 0.179727, 0.108656, 0.183963, 0.183963, 0.118071, 0.163183, -0.104956, 0.141209, 0.013587], [\"v12\", 0.100035, 1.0, 0.620784, 0.622393, 0.669071, 0.78591, 0.945709, 0.640868, 0.215786, 0.695999, 0.046021, 0.754081, -0.007073, 0.95685, 0.130691, 0.216435, -0.06924, 0.203022, 0.203022, -0.076545, 0.229386, -0.193019, 0.197793, -0.002744], [\"v23\", -0.008688, 0.620784, 1.0, 0.731114, 0.929588, 0.835085, 0.63667, 0.754639, -0.110116, 0.71736, 0.150364, 0.85166, -0.040811, 0.647145, 0.13462, 0.108884, -0.091243, 0.106582, 0.106582, -0.078955, 0.095201, -0.093265, 0.064501, -0.005657], [\"v15\", 0.054587, 0.622393, 0.731114, 1.0, 0.786247, 0.805884, 0.626942, 0.969896, 0.172269, 0.713634, 0.047494, 0.84118, -0.012431, 0.623862, 0.123254, 0.167146, -0.085573, 0.166468, 0.166468, -0.08801, 0.202247, -0.139906, 0.1705, -0.00569], [\"v22\", 0.02405, 0.669071, 0.929588, 0.786247, 1.0, 0.90074, 0.66946, 0.813318, 0.055122, 0.788612, 0.103337, 0.943759, -0.020656, 0.667556, 0.109531, 0.142171, -0.077451, 0.141234, 0.141234, -0.069233, 0.136105, -0.110567, 0.106808, -0.007477], [\"v20\", 0.101171, 0.78591, 0.835085, 0.805884, 0.90074, 1.0, 0.741045, 0.825965, 0.203429, 0.899738, 0.048831, 0.960473, 0.003678, 0.741383, 0.12855, 0.189502, -0.052972, 0.178762, 0.178762, -0.060053, 0.202793, -0.162259, 0.17368, -0.002265], [\"v19\", 0.081803, 0.945709, 0.63667, 0.626942, 0.66946, 0.741045, 1.0, 0.648319, 0.25741, 0.660923, 0.034529, 0.755351, -0.006465, 0.984542, 0.124203, 0.224107, -0.082817, 0.217372, 0.217372, -0.087298, 0.230388, -0.177548, 0.198463, -0.005408], [\"v11\", 0.055361, 0.640868, 0.754639, 0.969896, 0.813318, 0.825965, 0.648319, 1.0, 0.176876, 0.733119, 0.048465, 0.86193, -0.009833, 0.641829, 0.127009, 0.177091, -0.082584, 0.175761, 0.175761, -0.086817, 0.205293, -0.138214, 0.172048, -0.005616], [\"v16\", 0.183874, 0.215786, -0.110116, 0.172269, 0.055122, 0.203429, 0.25741, 0.176876, 1.0, 0.212489, -0.164093, 0.19165, 0.137354, 0.224437, 0.038798, 0.243799, 0.059294, 0.241162, 0.241162, 0.043345, 0.263621, -0.181328, 0.262568, -0.004671], [\"v21\", 0.095667, 0.695999, 0.71736, 0.713634, 0.788612, 0.899738, 0.660923, 0.733119, 0.212489, 1.0, 0.027207, 0.866248, 0.001364, 0.658647, 0.092517, 0.184321, -0.058504, 0.177476, 0.177476, -0.066975, 0.208645, -0.149848, 0.179548, -0.001272], [\"v25\", -0.052432, 0.046021, 0.150364, 0.047494, 0.103337, 0.048831, 0.034529, 0.048465, -0.164093, 0.027207, 1.0, 0.04848, -0.012102, 0.041683, 0.130401, 0.001219, -0.049376, -0.005999, -0.005999, -0.038372, 0.002217, -0.081092, -0.018306, -0.017577], [\"v18\", 0.064937, 0.754081, 0.85166, 0.84118, 0.943759, 0.960473, 0.755351, 0.86193, 0.19165, 0.866248, 0.04848, 1.0, -0.008386, 0.752771, 0.107519, 0.179674, -0.064892, 0.177717, 0.177717, -0.067041, 0.190609, -0.142578, 0.159925, -0.002935], [\"v4\", 0.344106, -0.007073, -0.040811, -0.012431, -0.020656, 0.003678, -0.006465, -0.009833, 0.137354, 0.001364, -0.012102, -0.008386, 1.0, -0.01088, 0.076253, 0.341995, 0.12045, 0.328151, 0.328151, 0.152791, 0.25207, -0.145556, 0.185687, 0.020101], [\"v14\", 0.077019, 0.95685, 0.647145, 0.623862, 0.667556, 0.741383, 0.984542, 0.641829, 0.224437, 0.658647, 0.041683, 0.752771, -0.01088, 1.0, 0.120038, 0.220992, -0.079603, 0.21489, 0.21489, -0.082385, 0.228027, -0.182423, 0.194637, -0.004672], [\"v24\", 0.083887, 0.130691, 0.13462, 0.123254, 0.109531, 0.12855, 0.124203, 0.127009, 0.038798, 0.092517, 0.130401, 0.107519, 0.076253, 0.120038, 1.0, 0.149618, 0.033643, 0.134116, 0.134116, 0.030826, 0.134925, -0.218525, 0.132823, 0.008139], [\"v3\", 0.179727, 0.216435, 0.108884, 0.167146, 0.142171, 0.189502, 0.224107, 0.177091, 0.243799, 0.184321, 0.001219, 0.179674, 0.341995, 0.220992, 0.149618, 1.0, 0.03337, 0.935955, 0.935955, 0.045017, 0.710796, -0.220061, 0.507837, -0.024005], [\"v33\", 0.108656, -0.06924, -0.091243, -0.085573, -0.077451, -0.052972, -0.082817, -0.082584, 0.059294, -0.058504, -0.049376, -0.064892, 0.12045, -0.079603, 0.033643, 0.03337, 1.0, 0.022561, 0.022561, 0.868503, 0.01205, -0.057045, -0.001356, 0.12649], [\"v1\", 0.183963, 0.203022, 0.106582, 0.166468, 0.141234, 0.178762, 0.217372, 0.175761, 0.241162, 0.177476, -0.005999, 0.177717, 0.328151, 0.21489, 0.134116, 0.935955, 0.022561, 1.0, 1.0, 0.036332, 0.68487, -0.192498, 0.493059, -0.026898], [\"v34\", 0.183963, 0.203022, 0.106582, 0.166468, 0.141234, 0.178762, 0.217372, 0.175761, 0.241162, 0.177476, -0.005999, 0.177717, 0.328151, 0.21489, 0.134116, 0.935955, 0.022561, 1.0, 1.0, 0.036332, 0.68487, -0.192498, 0.493059, -0.026898], [\"v31\", 0.118071, -0.076545, -0.078955, -0.08801, -0.069233, -0.060053, -0.087298, -0.086817, 0.043345, -0.066975, -0.038372, -0.067041, 0.152791, -0.082385, 0.030826, 0.045017, 0.868503, 0.036332, 0.036332, 1.0, 0.000193, -0.038086, -0.006015, 0.127328], [\"v6\", 0.163183, 0.229386, 0.095201, 0.202247, 0.136105, 0.202793, 0.230388, 0.205293, 0.263621, 0.208645, 0.002217, 0.190609, 0.25207, 0.228027, 0.134925, 0.710796, 0.01205, 0.68487, 0.68487, 0.000193, 1.0, -0.215623, 0.712923, -0.019959], [\"v35\", -0.104956, -0.193019, -0.093265, -0.139906, -0.110567, -0.162259, -0.177548, -0.138214, -0.181328, -0.149848, -0.081092, -0.142578, -0.145556, -0.182423, -0.218525, -0.220061, -0.057045, -0.192498, -0.192498, -0.038086, -0.215623, 1.0, -0.187195, -0.007426], [\"v7\", 0.141209, 0.197793, 0.064501, 0.1705, 0.106808, 0.17368, 0.198463, 0.172048, 0.262568, 0.179548, -0.018306, 0.159925, 0.185687, 0.194637, 0.132823, 0.507837, -0.001356, 0.493059, 0.493059, -0.006015, 0.712923, -0.187195, 1.0, -0.014629], [\"v27\", 0.013587, -0.002744, -0.005657, -0.00569, -0.007477, -0.002265, -0.005408, -0.005616, -0.004671, -0.001272, -0.017577, -0.002935, 0.020101, -0.004672, 0.008139, -0.024005, 0.12649, -0.026898, -0.026898, 0.127328, -0.019959, -0.007426, -0.014629, 1.0]]};\n",
       "        dt_args = eval_functions(dt_args);\n",
       "        table = $('#3864b33d-a60e-4eb3-bafe-3af1a70fa8a6').DataTable(dt_args);\n",
       "    });\n",
       "})\n",
       "</script>\n",
       "</div>\n"
      ],
      "text/plain": [
       "<IPython.core.display.HTML object>"
      ]
     },
     "metadata": {},
     "output_type": "display_data"
    },
    {
     "name": "stdout",
     "output_type": "stream",
     "text": [
      "\u001b[1;31m相关性筛选的特征:\u001b[0m ['v5', 'v12', 'v23', 'v16', 'v21', 'v25', 'v4', 'v24', 'v3', 'v33', 'v6', 'v35', 'v7', 'v27']\n",
      "\u001b[1;31m相关性筛选删除的特征:\u001b[0m ['v15', 'v22', 'v20', 'v19', 'v11', 'v18', 'v14', 'v1', 'v34', 'v31']\n",
      "\u001b[1;31m连续变量相关性筛选完成----------------------------- \u001b[0m\n"
     ]
    }
   ],
   "source": [
    "#2.5相关性筛选，多重共线性筛选\n",
    "# 特征分类\n",
    "cate_col = []\n",
    "num_col = []\n",
    "for col in iv_select_col:\n",
    "    if train[col].dtype==np.dtype('object') or train[col].dtype==np.dtype('bool') or train[col].nunique()<=5:\n",
    "        cate_col.append(col)\n",
    "    else:\n",
    "        num_col.append(col)\n",
    "\n",
    "#相关性筛选，默认相关系数阈值0.7\n",
    "corr=pd.DataFrame(train[num_col].corr())\n",
    "print(\"\\033[1;31m相关矩阵\\033[0m\")\n",
    "show(corr,columnDefs=[{\"width\": \"250px\", \"targets\": \"_all\"}])\n",
    "\n",
    "corr.to_excel(\"corr.xlsx\")\n",
    "\n",
    "#按照iv高低删除相关性高的变量\n",
    "corr_select_col,corr_delete_col= self_f_2.forward_corr_delete(train,num_col,cut_value=0.72)\n",
    "\n",
    "print(\"\\033[1;31m相关性筛选的特征:\\033[0m\",corr_select_col)\n",
    "print(\"\\033[1;31m相关性筛选删除的特征:\\033[0m\",corr_delete_col)\n",
    "print('\\033[1;31m连续变量相关性筛选完成----------------------------- \\033[0m')\n",
    "\n",
    "#  # 多重共线性筛选，系数阈值10\n",
    "# vif_select_col,vif_delete_col = self_f_2.vif_delete(train,corr_select_col)\n",
    "\n",
    "\n",
    "# print(\"\\033[1;31m多重共线性筛选的特征:\\033[0m\",vif_select_col)\n",
    "# print(\"\\033[1;31m多重共线性删除的特征:\\033[0m\",vif_delete_col)\n",
    "# print('\\033[1;31m连续变量多重共线性筛选完成------------------------- \\033[0m')"
   ]
  },
  {
   "cell_type": "code",
   "execution_count": 16,
   "metadata": {},
   "outputs": [
    {
     "name": "stdout",
     "output_type": "stream",
     "text": [
      "\u001b[1;31m初筛后剩余变量的iv列表\u001b[0m\n"
     ]
    },
    {
     "data": {
      "text/html": [
       "<div><table id=\"08637203-d371-429e-9b14-ba85bd92cb4f\" class=\"display nowrap\"><thead>\n",
       "    <tr style=\"text-align: right;\">\n",
       "      <th></th>\n",
       "      <th>col</th>\n",
       "      <th>bins</th>\n",
       "      <th>IV</th>\n",
       "      <th>woe</th>\n",
       "      <th>bin_iv</th>\n",
       "      <th>total</th>\n",
       "      <th>totalrate</th>\n",
       "      <th>bad</th>\n",
       "      <th>badrate</th>\n",
       "      <th>good</th>\n",
       "      <th>goodrate</th>\n",
       "      <th>badattr</th>\n",
       "      <th>goodattr</th>\n",
       "      <th>fuzhu</th>\n",
       "    </tr>\n",
       "  </thead></table>\n",
       "<script type=\"text/javascript\">\n",
       "require([\"datatables\"], function (datatables) {\n",
       "    $(document).ready(function () {        \n",
       "        var dt_args = {\"columnDefs\": [{\"width\": \"150px\", \"targets\": \"_all\"}], \"lengthMenu\": [10, 10, 100, 200, 500, 1000, 2000, 5000], \"data\": [[5, \"v5\", \"(-inf, 5.5]\", 1.12002, -1.138352, 0.45116, 1656, 0.455822, 218, 0.131643, 1438, 0.868357, 0.186804, 0.583131, 18], [6, \"v5\", \"(5.5, 13.5]\", 1.12002, -0.089025, 0.002017, 940, 0.258739, 284, 0.302128, 656, 0.697872, 0.243359, 0.266018, 19], [7, \"v5\", \"(13.5, 25.5]\", 1.12002, 0.860031, 0.116482, 519, 0.142857, 274, 0.527938, 245, 0.472062, 0.23479, 0.099351, 20], [8, \"v5\", \"(25.5, 35.5]\", 1.12002, 1.546669, 0.166896, 232, 0.063859, 160, 0.689655, 72, 0.310345, 0.137104, 0.029197, 21], [9, \"v5\", \"(35.5, inf]\", 1.12002, 2.183246, 0.383466, 286, 0.078723, 231, 0.807692, 55, 0.192308, 0.197943, 0.022303, 22], [10, \"v12\", \"(-inf, -999.0]\", 1.061416, -1.17577, 0.103844, 361, 0.099367, 46, 0.127424, 315, 0.872576, 0.039417, 0.127737, 52], [11, \"v12\", \"(-999.0, 8.872]\", 1.061416, 2.013009, 0.497673, 427, 0.117534, 333, 0.779859, 94, 0.220141, 0.285347, 0.038118, 53], [12, \"v12\", \"(8.872, 9.081]\", 1.061416, 1.090204, 0.156282, 431, 0.118635, 252, 0.584687, 179, 0.415313, 0.215938, 0.072587, 54], [13, \"v12\", \"(9.081, 9.348]\", 1.061416, 0.133074, 0.003879, 778, 0.214148, 273, 0.3509, 505, 0.6491, 0.233933, 0.204785, 55], [14, \"v12\", \"(9.348, inf]\", 1.061416, -0.904438, 0.299738, 1636, 0.450317, 263, 0.160758, 1373, 0.839242, 0.225364, 0.556772, 56], [15, \"v23\", \"(-inf, -999.0]\", 1.022744, -0.808479, 0.030176, 201, 0.055326, 35, 0.174129, 166, 0.825871, 0.029991, 0.067315, 102], [16, \"v23\", \"(-999.0, 447.5]\", 1.022744, 1.704658, 0.485214, 562, 0.154693, 406, 0.72242, 156, 0.27758, 0.347901, 0.06326, 103], [17, \"v23\", \"(447.5, 549.5]\", 1.022744, 0.85549, 0.09525, 429, 0.118084, 226, 0.526807, 203, 0.473193, 0.193659, 0.08232, 104], [18, \"v23\", \"(549.5, 687.5]\", 1.022744, -0.180617, 0.011704, 1349, 0.371318, 382, 0.283173, 967, 0.716827, 0.327335, 0.392133, 105], [19, \"v23\", \"(687.5, inf]\", 1.022744, -1.362566, 0.4004, 1092, 0.300578, 118, 0.108059, 974, 0.891941, 0.101114, 0.394972, 106], [45, \"v16\", \"(-inf, -999.0]\", 0.873424, -0.679455, 0.271867, 2481, 0.682907, 480, 0.19347, 2001, 0.80653, 0.411311, 0.811436, 67], [46, \"v16\", \"(-999.0, 3.5]\", 0.873424, 0.45658, 0.027535, 449, 0.123589, 192, 0.427617, 257, 0.572383, 0.164524, 0.104217, 68], [47, \"v16\", \"(3.5, 5.5]\", 0.873424, 1.473884, 0.303796, 463, 0.127443, 312, 0.673866, 151, 0.326134, 0.267352, 0.061233, 69], [48, \"v16\", \"(5.5, 6.5]\", 0.873424, 1.556084, 0.087325, 120, 0.033031, 83, 0.691667, 37, 0.308333, 0.071123, 0.015004, 70], [49, \"v16\", \"(6.5, inf]\", 0.873424, 2.357599, 0.182901, 120, 0.033031, 100, 0.833333, 20, 0.166667, 0.08569, 0.00811, 71], [50, \"v21\", \"(-inf, -999.0]\", 0.833021, -1.006327, 0.06136, 278, 0.076521, 41, 0.147482, 237, 0.852518, 0.035133, 0.096107, 92], [51, \"v21\", \"(-999.0, 49.5]\", 0.833021, -1.209266, 0.270415, 897, 0.246903, 111, 0.123746, 786, 0.876254, 0.095116, 0.318735, 93], [52, \"v21\", \"(49.5, 66.5]\", 0.833021, -0.367546, 0.04057, 1175, 0.323424, 290, 0.246809, 885, 0.753191, 0.2485, 0.358881, 94], [53, \"v21\", \"(66.5, 83.5]\", 0.833021, 0.792707, 0.179217, 943, 0.259565, 482, 0.511135, 461, 0.488865, 0.413025, 0.186942, 95], [54, \"v21\", \"(83.5, inf]\", 0.833021, 1.666512, 0.281459, 340, 0.093587, 243, 0.714706, 97, 0.285294, 0.208226, 0.039335, 96], [55, \"v25\", \"(-inf, 25.5]\", 0.796799, 1.569651, 0.380243, 514, 0.141481, 357, 0.694553, 157, 0.305447, 0.305913, 0.063666, 112], [56, \"v25\", \"(25.5, 35.5]\", 0.796799, 0.661833, 0.066988, 510, 0.14038, 244, 0.478431, 266, 0.521569, 0.209083, 0.107867, 113], [57, \"v25\", \"(35.5, 40.5]\", 0.796799, 0.229553, 0.005164, 343, 0.094412, 128, 0.373178, 215, 0.626822, 0.109683, 0.087186, 114], [58, \"v25\", \"(40.5, 56.5]\", 0.796799, -0.308952, 0.027505, 1113, 0.306358, 287, 0.257862, 826, 0.742138, 0.24593, 0.334955, 115], [59, \"v25\", \"(56.5, inf]\", 0.796799, -1.144312, 0.3169, 1153, 0.317369, 151, 0.130963, 1002, 0.869037, 0.129392, 0.406326, 116], [70, \"v4\", \"(-inf, 3.5]\", 0.749577, -0.806627, 0.228904, 1531, 0.421415, 267, 0.174396, 1264, 0.825604, 0.228792, 0.512571, 13], [71, \"v4\", \"(3.5, 6.5]\", 0.749577, -0.431892, 0.032985, 702, 0.193229, 165, 0.235043, 537, 0.764957, 0.141388, 0.217762, 14], [72, \"v4\", \"(6.5, 10.5]\", 0.749577, 0.143621, 0.002815, 484, 0.133223, 171, 0.353306, 313, 0.646694, 0.14653, 0.126926, 15], [73, \"v4\", \"(10.5, 18.5]\", 0.749577, 0.743542, 0.072193, 433, 0.119185, 216, 0.498845, 217, 0.501155, 0.18509, 0.087997, 16], [74, \"v4\", \"(18.5, inf]\", 0.749577, 1.695089, 0.41268, 483, 0.132948, 348, 0.720497, 135, 0.279503, 0.298201, 0.054745, 17], [85, \"v24\", \"(-inf, -999.0]\", 0.629105, 0.266323, 0.005603, 275, 0.075695, 105, 0.381818, 170, 0.618182, 0.089974, 0.068938, 107], [86, \"v24\", \"(-999.0, 588.5]\", 0.629105, 1.818602, 0.365543, 376, 0.103496, 280, 0.744681, 96, 0.255319, 0.239931, 0.038929, 108], [87, \"v24\", \"(588.5, 613.5]\", 0.629105, 0.593185, 0.039346, 375, 0.10322, 173, 0.461333, 202, 0.538667, 0.148243, 0.081914, 109], [88, \"v24\", \"(613.5, 671.5]\", 0.629105, -0.186455, 0.015228, 1649, 0.453895, 465, 0.281989, 1184, 0.718011, 0.398458, 0.48013, 110], [89, \"v24\", \"(671.5, inf]\", 0.629105, -0.983986, 0.203386, 958, 0.263694, 144, 0.150313, 814, 0.849687, 0.123393, 0.330089, 111], [103, \"v3\", \"(-inf, -999.0]\", 0.254016, -0.382974, 0.037059, 992, 0.273053, 242, 0.243952, 750, 0.756048, 0.207369, 0.304136, 8], [104, \"v3\", \"(-999.0, 3.5]\", 0.254016, -0.299531, 0.033703, 1448, 0.398569, 376, 0.259669, 1072, 0.740331, 0.322194, 0.434712, 9], [105, \"v3\", \"(3.5, 5.5]\", 0.254016, 0.167754, 0.003019, 379, 0.104321, 136, 0.358839, 243, 0.641161, 0.116538, 0.09854, 10], [106, \"v3\", \"(5.5, 14.5]\", 0.254016, 0.548923, 0.050469, 564, 0.155244, 254, 0.450355, 310, 0.549645, 0.217652, 0.12571, 11], [107, \"v3\", \"(14.5, inf]\", 0.254016, 1.306206, 0.129765, 250, 0.068814, 159, 0.636, 91, 0.364, 0.136247, 0.036902, 12], [108, \"v33\", \"(-inf, -999.0]\", 0.24274, -0.212913, 0.011342, 947, 0.260666, 262, 0.276663, 685, 0.723337, 0.224507, 0.277778, 140], [109, \"v33\", \"(-999.0, 2.5]\", 0.24274, -0.759905, 0.103009, 767, 0.21112, 139, 0.181226, 628, 0.818774, 0.119109, 0.254663, 141], [110, \"v33\", \"(2.5, 4.5]\", 0.24274, -0.036314, 0.000211, 584, 0.160749, 183, 0.313356, 401, 0.686644, 0.156812, 0.162612, 142], [111, \"v33\", \"(4.5, 8.5]\", 0.24274, 0.35128, 0.038251, 1067, 0.293697, 429, 0.402062, 638, 0.597938, 0.367609, 0.258719, 143], [112, \"v33\", \"(8.5, inf]\", 0.24274, 1.048915, 0.089927, 268, 0.073768, 154, 0.574627, 114, 0.425373, 0.131962, 0.046229, 144], [129, \"v6\", \"(-inf, -999.0]\", 0.095253, -0.296338, 0.035473, 1556, 0.428296, 405, 0.260283, 1151, 0.739717, 0.347044, 0.466748, 23], [130, \"v6\", \"(-999.0, 3.5]\", 0.095253, 0.093316, 0.003413, 1401, 0.385632, 479, 0.341899, 922, 0.658101, 0.410454, 0.373885, 24], [131, \"v6\", \"(3.5, 4.5]\", 0.095253, -0.108026, 0.000507, 161, 0.044316, 48, 0.298137, 113, 0.701863, 0.041131, 0.045823, 25], [132, \"v6\", \"(4.5, 8.5]\", 0.095253, 0.405754, 0.013916, 289, 0.079549, 120, 0.415225, 169, 0.584775, 0.102828, 0.068532, 26], [133, \"v6\", \"(8.5, inf]\", 0.095253, 0.783563, 0.041945, 226, 0.062208, 115, 0.50885, 111, 0.49115, 0.098543, 0.045012, 27], [134, \"v35\", \"(-inf, 23.5]\", 0.078617, 0.468447, 0.028376, 439, 0.120837, 189, 0.430524, 250, 0.569476, 0.161954, 0.101379, 150], [135, \"v35\", \"(23.5, 26.5]\", 0.078617, 0.312525, 0.013298, 471, 0.129645, 185, 0.392781, 286, 0.607219, 0.158526, 0.115977, 151], [136, \"v35\", \"(26.5, 27.5]\", 0.078617, 0.140669, 0.00106, 190, 0.052298, 67, 0.352632, 123, 0.647368, 0.057412, 0.049878, 152], [137, \"v35\", \"(27.5, 47.5]\", 0.078617, -0.221405, 0.029387, 2273, 0.625654, 625, 0.274967, 1648, 0.725033, 0.535561, 0.668289, 153], [138, \"v35\", \"(47.5, inf]\", 0.078617, 0.294377, 0.006497, 260, 0.071566, 101, 0.388462, 159, 0.611538, 0.086547, 0.064477, 154], [139, \"v7\", \"(-inf, -999.0]\", 0.042922, -0.155571, 0.014024, 2168, 0.596752, 625, 0.288284, 1543, 0.711716, 0.535561, 0.62571, 28], [140, \"v7\", \"(-999.0, 2.5]\", 0.042922, 0.149792, 0.006714, 1060, 0.29177, 376, 0.354717, 684, 0.645283, 0.322194, 0.277372, 29], [141, \"v7\", \"(2.5, 3.5]\", 0.042922, 0.419657, 0.006655, 129, 0.035508, 54, 0.418605, 75, 0.581395, 0.046272, 0.030414, 30], [142, \"v7\", \"(3.5, 5.5]\", 0.042922, 0.119552, 0.000554, 138, 0.037985, 48, 0.347826, 90, 0.652174, 0.041131, 0.036496, 31], [143, \"v7\", \"(5.5, inf]\", 0.042922, 0.602979, 0.014974, 138, 0.037985, 64, 0.463768, 74, 0.536232, 0.054841, 0.030008, 32], [144, \"v27\", \"(-inf, -999.0]\", 0.02956, -0.209977, 0.009837, 844, 0.232315, 234, 0.277251, 610, 0.722749, 0.200514, 0.247364, 119], [145, \"v27\", \"(-999.0, 1.5]\", 0.02956, 0.563239, 0.013302, 141, 0.038811, 64, 0.453901, 77, 0.546099, 0.054841, 0.031225, 120], [146, \"v27\", \"(1.5, 3.5]\", 0.02956, 0.091743, 0.003535, 1502, 0.413432, 513, 0.341545, 989, 0.658455, 0.439589, 0.401054, 121], [147, \"v27\", \"(3.5, 6.5]\", 0.02956, 0.006602, 9e-06, 781, 0.214974, 252, 0.322663, 529, 0.677337, 0.215938, 0.214517, 122], [148, \"v27\", \"(6.5, inf]\", 0.02956, -0.171968, 0.002876, 365, 0.100468, 104, 0.284932, 261, 0.715068, 0.089117, 0.105839, 123]]};\n",
       "        dt_args = eval_functions(dt_args);\n",
       "        table = $('#08637203-d371-429e-9b14-ba85bd92cb4f').DataTable(dt_args);\n",
       "    });\n",
       "})\n",
       "</script>\n",
       "</div>\n"
      ],
      "text/plain": [
       "<IPython.core.display.HTML object>"
      ]
     },
     "metadata": {},
     "output_type": "display_data"
    }
   ],
   "source": [
    "iv_df_chubu_filter=iv_df[iv_df[\"col\"].isin(corr_select_col)]\n",
    "# iv_df_chubu_filter=iv_df[iv_df[\"col\"].isin(vif_delete_col)]\n",
    "print(\"\\033[1;31m初筛后剩余变量的iv列表\\033[0m\")\n",
    "show(iv_df_chubu_filter)"
   ]
  },
  {
   "cell_type": "markdown",
   "metadata": {},
   "source": [
    "### 分箱调整"
   ]
  },
  {
   "cell_type": "code",
   "execution_count": 17,
   "metadata": {},
   "outputs": [
    {
     "name": "stdout",
     "output_type": "stream",
     "text": [
      "\u001b[1;31m调整前_woe不单调的变量\u001b[0m ['v6', 'v7', 'v35']\n"
     ]
    }
   ],
   "source": [
    "#分箱不单调的变量\n",
    "nan_value= -999\n",
    "# trim_var_dict = {k:v for k,v in cut_dict.items() if k in vif_select_col}\n",
    "trim_var_dict = {k:v for k,v in cut_dict.items() if k in corr_select_col}\n",
    "\n",
    "col_not_dandiao_befor_adjust_list=[]\n",
    "for col in trim_var_dict.keys():\n",
    "    bin_cut = trim_var_dict[col]\n",
    "    df_bin_before_adjust = [x for x in bin_df_list if x.index.name==col][0]\n",
    "    if nan_value in bin_cut: # 当cut里有缺失映射值时，说明是把缺失单独分为一箱的，后续在进行调成单调分箱时\n",
    "    # 不考虑缺失的箱，故将缺失映射值剔除\n",
    "        woe_list = df_bin_before_adjust['woe'].tolist()[1:]\n",
    "    else:\n",
    "        woe_list = df_bin_before_adjust['woe'].tolist() \n",
    "\n",
    "    if not self_f_2.judge_decreasing(woe_list) and not self_f_2.judge_increasing(woe_list):\n",
    "        col_not_dandiao_befor_adjust_list.append(col)\n",
    "        \n",
    "print(\"\\033[1;31m调整前_woe不单调的变量\\033[0m\",col_not_dandiao_befor_adjust_list)"
   ]
  },
  {
   "cell_type": "markdown",
   "metadata": {},
   "source": [
    "#### 自动分箱调整"
   ]
  },
  {
   "cell_type": "code",
   "execution_count": 18,
   "metadata": {},
   "outputs": [
    {
     "name": "stdout",
     "output_type": "stream",
     "text": [
      "\u001b[1;31m不单调也无需调整分箱的变量\u001b[0m ['v6']\n",
      "\u001b[1;31m调整后_仍然不单调的变量\u001b[0m ['v7']\n",
      "\u001b[1;31m自动调整分箱后woe情况\u001b[0m\n"
     ]
    },
    {
     "data": {
      "text/html": [
       "<div><table id=\"80d8cf99-ba91-4c3b-8ccd-494b61d51ba5\" class=\"display nowrap\"><thead>\n",
       "    <tr style=\"text-align: right;\">\n",
       "      \n",
       "      <th>col</th>\n",
       "      <th>bins</th>\n",
       "      <th>IV</th>\n",
       "      <th>woe</th>\n",
       "      <th>bin_iv</th>\n",
       "      <th>total</th>\n",
       "      <th>totalrate</th>\n",
       "      <th>bad</th>\n",
       "      <th>badrate</th>\n",
       "      <th>good</th>\n",
       "      <th>goodrate</th>\n",
       "      <th>badattr</th>\n",
       "      <th>goodattr</th>\n",
       "      <th>fuzhu</th>\n",
       "    </tr>\n",
       "  </thead></table>\n",
       "<script type=\"text/javascript\">\n",
       "require([\"datatables\"], function (datatables) {\n",
       "    $(document).ready(function () {        \n",
       "        var dt_args = {\"columnDefs\": [{\"width\": \"150px\", \"targets\": \"_all\"}], \"lengthMenu\": [10, 10, 100, 200, 500, 1000, 2000, 5000], \"data\": [[\"v5\", \"(-inf, 5.5]\", 1.12002, -1.138352, 0.45116, 1656, 0.455822, 218, 0.131643, 1438, 0.868357, 0.186804, 0.583131, 10], [\"v5\", \"(5.5, 13.5]\", 1.12002, -0.089025, 0.002017, 940, 0.258739, 284, 0.302128, 656, 0.697872, 0.243359, 0.266018, 11], [\"v5\", \"(13.5, 25.5]\", 1.12002, 0.860031, 0.116482, 519, 0.142857, 274, 0.527938, 245, 0.472062, 0.23479, 0.099351, 12], [\"v5\", \"(25.5, 35.5]\", 1.12002, 1.546669, 0.166896, 232, 0.063859, 160, 0.689655, 72, 0.310345, 0.137104, 0.029197, 13], [\"v5\", \"(35.5, inf]\", 1.12002, 2.183246, 0.383466, 286, 0.078723, 231, 0.807692, 55, 0.192308, 0.197943, 0.022303, 14], [\"v12\", \"(-inf, -999.0]\", 1.061416, -1.17577, 0.103844, 361, 0.099367, 46, 0.127424, 315, 0.872576, 0.039417, 0.127737, 19], [\"v12\", \"(-999.0, 8.872]\", 1.061416, 2.013009, 0.497673, 427, 0.117534, 333, 0.779859, 94, 0.220141, 0.285347, 0.038118, 20], [\"v12\", \"(8.872, 9.081]\", 1.061416, 1.090204, 0.156282, 431, 0.118635, 252, 0.584687, 179, 0.415313, 0.215938, 0.072587, 21], [\"v12\", \"(9.081, 9.348]\", 1.061416, 0.133074, 0.003879, 778, 0.214148, 273, 0.3509, 505, 0.6491, 0.233933, 0.204785, 22], [\"v12\", \"(9.348, inf]\", 1.061416, -0.904438, 0.299738, 1636, 0.450317, 263, 0.160758, 1373, 0.839242, 0.225364, 0.556772, 23], [\"v23\", \"(-inf, -999.0]\", 1.022744, -0.808479, 0.030176, 201, 0.055326, 35, 0.174129, 166, 0.825871, 0.029991, 0.067315, 34], [\"v23\", \"(-999.0, 447.5]\", 1.022744, 1.704658, 0.485214, 562, 0.154693, 406, 0.72242, 156, 0.27758, 0.347901, 0.06326, 35], [\"v23\", \"(447.5, 549.5]\", 1.022744, 0.85549, 0.09525, 429, 0.118084, 226, 0.526807, 203, 0.473193, 0.193659, 0.08232, 36], [\"v23\", \"(549.5, 687.5]\", 1.022744, -0.180617, 0.011704, 1349, 0.371318, 382, 0.283173, 967, 0.716827, 0.327335, 0.392133, 37], [\"v23\", \"(687.5, inf]\", 1.022744, -1.362566, 0.4004, 1092, 0.300578, 118, 0.108059, 974, 0.891941, 0.101114, 0.394972, 38], [\"v16\", \"(-inf, -999.0]\", 0.873424, -0.679455, 0.271867, 2481, 0.682907, 480, 0.19347, 2001, 0.80653, 0.411311, 0.811436, 24], [\"v16\", \"(-999.0, 3.5]\", 0.873424, 0.45658, 0.027535, 449, 0.123589, 192, 0.427617, 257, 0.572383, 0.164524, 0.104217, 25], [\"v16\", \"(3.5, 5.5]\", 0.873424, 1.473884, 0.303796, 463, 0.127443, 312, 0.673866, 151, 0.326134, 0.267352, 0.061233, 26], [\"v16\", \"(5.5, 6.5]\", 0.873424, 1.556084, 0.087325, 120, 0.033031, 83, 0.691667, 37, 0.308333, 0.071123, 0.015004, 27], [\"v16\", \"(6.5, inf]\", 0.873424, 2.357599, 0.182901, 120, 0.033031, 100, 0.833333, 20, 0.166667, 0.08569, 0.00811, 28], [\"v21\", \"(-inf, -999.0]\", 0.833021, -1.006327, 0.06136, 278, 0.076521, 41, 0.147482, 237, 0.852518, 0.035133, 0.096107, 29], [\"v21\", \"(-999.0, 49.5]\", 0.833021, -1.209266, 0.270415, 897, 0.246903, 111, 0.123746, 786, 0.876254, 0.095116, 0.318735, 30], [\"v21\", \"(49.5, 66.5]\", 0.833021, -0.367546, 0.04057, 1175, 0.323424, 290, 0.246809, 885, 0.753191, 0.2485, 0.358881, 31], [\"v21\", \"(66.5, 83.5]\", 0.833021, 0.792707, 0.179217, 943, 0.259565, 482, 0.511135, 461, 0.488865, 0.413025, 0.186942, 32], [\"v21\", \"(83.5, inf]\", 0.833021, 1.666512, 0.281459, 340, 0.093587, 243, 0.714706, 97, 0.285294, 0.208226, 0.039335, 33], [\"v25\", \"(-inf, 25.5]\", 0.796799, 1.569651, 0.380243, 514, 0.141481, 357, 0.694553, 157, 0.305447, 0.305913, 0.063666, 44], [\"v25\", \"(25.5, 35.5]\", 0.796799, 0.661833, 0.066988, 510, 0.14038, 244, 0.478431, 266, 0.521569, 0.209083, 0.107867, 45], [\"v25\", \"(35.5, 40.5]\", 0.796799, 0.229553, 0.005164, 343, 0.094412, 128, 0.373178, 215, 0.626822, 0.109683, 0.087186, 46], [\"v25\", \"(40.5, 56.5]\", 0.796799, -0.308952, 0.027505, 1113, 0.306358, 287, 0.257862, 826, 0.742138, 0.24593, 0.334955, 47], [\"v25\", \"(56.5, inf]\", 0.796799, -1.144312, 0.3169, 1153, 0.317369, 151, 0.130963, 1002, 0.869037, 0.129392, 0.406326, 48], [\"v4\", \"(-inf, 3.5]\", 0.749577, -0.806627, 0.228904, 1531, 0.421415, 267, 0.174396, 1264, 0.825604, 0.228792, 0.512571, 5], [\"v4\", \"(3.5, 6.5]\", 0.749577, -0.431892, 0.032985, 702, 0.193229, 165, 0.235043, 537, 0.764957, 0.141388, 0.217762, 6], [\"v4\", \"(6.5, 10.5]\", 0.749577, 0.143621, 0.002815, 484, 0.133223, 171, 0.353306, 313, 0.646694, 0.14653, 0.126926, 7], [\"v4\", \"(10.5, 18.5]\", 0.749577, 0.743542, 0.072193, 433, 0.119185, 216, 0.498845, 217, 0.501155, 0.18509, 0.087997, 8], [\"v4\", \"(18.5, inf]\", 0.749577, 1.695089, 0.41268, 483, 0.132948, 348, 0.720497, 135, 0.279503, 0.298201, 0.054745, 9], [\"v24\", \"(-inf, -999.0]\", 0.629105, 0.266323, 0.005603, 275, 0.075695, 105, 0.381818, 170, 0.618182, 0.089974, 0.068938, 39], [\"v24\", \"(-999.0, 588.5]\", 0.629105, 1.818602, 0.365543, 376, 0.103496, 280, 0.744681, 96, 0.255319, 0.239931, 0.038929, 40], [\"v24\", \"(588.5, 613.5]\", 0.629105, 0.593185, 0.039346, 375, 0.10322, 173, 0.461333, 202, 0.538667, 0.148243, 0.081914, 41], [\"v24\", \"(613.5, 671.5]\", 0.629105, -0.186455, 0.015228, 1649, 0.453895, 465, 0.281989, 1184, 0.718011, 0.398458, 0.48013, 42], [\"v24\", \"(671.5, inf]\", 0.629105, -0.983986, 0.203386, 958, 0.263694, 144, 0.150313, 814, 0.849687, 0.123393, 0.330089, 43], [\"v3\", \"(-inf, -999.0]\", 0.254016, -0.382974, 0.037059, 992, 0.273053, 242, 0.243952, 750, 0.756048, 0.207369, 0.304136, 0], [\"v3\", \"(-999.0, 3.5]\", 0.254016, -0.299531, 0.033703, 1448, 0.398569, 376, 0.259669, 1072, 0.740331, 0.322194, 0.434712, 1], [\"v3\", \"(3.5, 5.5]\", 0.254016, 0.167754, 0.003019, 379, 0.104321, 136, 0.358839, 243, 0.641161, 0.116538, 0.09854, 2], [\"v3\", \"(5.5, 14.5]\", 0.254016, 0.548923, 0.050469, 564, 0.155244, 254, 0.450355, 310, 0.549645, 0.217652, 0.12571, 3], [\"v3\", \"(14.5, inf]\", 0.254016, 1.306206, 0.129765, 250, 0.068814, 159, 0.636, 91, 0.364, 0.136247, 0.036902, 4], [\"v33\", \"(-inf, -999.0]\", 0.24274, -0.212913, 0.011342, 947, 0.260666, 262, 0.276663, 685, 0.723337, 0.224507, 0.277778, 54], [\"v33\", \"(-999.0, 2.5]\", 0.24274, -0.759905, 0.103009, 767, 0.21112, 139, 0.181226, 628, 0.818774, 0.119109, 0.254663, 55], [\"v33\", \"(2.5, 4.5]\", 0.24274, -0.036314, 0.000211, 584, 0.160749, 183, 0.313356, 401, 0.686644, 0.156812, 0.162612, 56], [\"v33\", \"(4.5, 8.5]\", 0.24274, 0.35128, 0.038251, 1067, 0.293697, 429, 0.402062, 638, 0.597938, 0.367609, 0.258719, 57], [\"v33\", \"(8.5, inf]\", 0.24274, 1.048915, 0.089927, 268, 0.073768, 154, 0.574627, 114, 0.425373, 0.131962, 0.046229, 58], [\"v6\", \"(-inf, -999.0]\", 0.095253, -0.296338, 0.035473, 1556, 0.428296, 405, 0.260283, 1151, 0.739717, 0.347044, 0.466748, 63], [\"v6\", \"(-999.0, 3.5]\", 0.095253, 0.093316, 0.003413, 1401, 0.385632, 479, 0.341899, 922, 0.658101, 0.410454, 0.373885, 64], [\"v6\", \"(3.5, 4.5]\", 0.095253, -0.108026, 0.000507, 161, 0.044316, 48, 0.298137, 113, 0.701863, 0.041131, 0.045823, 65], [\"v6\", \"(4.5, 8.5]\", 0.095253, 0.405754, 0.013916, 289, 0.079549, 120, 0.415225, 169, 0.584775, 0.102828, 0.068532, 66], [\"v6\", \"(8.5, inf]\", 0.095253, 0.783563, 0.041945, 226, 0.062208, 115, 0.50885, 111, 0.49115, 0.098543, 0.045012, 67], [\"v35\", \"(-inf, 23.5]\", 0.06085, 0.468447, 0.028376, 439, 0.120837, 189, 0.430524, 250, 0.569476, 0.161954, 0.101379, 59], [\"v35\", \"(23.5, 26.5]\", 0.06085, 0.312525, 0.013298, 471, 0.129645, 185, 0.392781, 286, 0.607219, 0.158526, 0.115977, 60], [\"v35\", \"(26.5, 27.5]\", 0.06085, 0.140669, 0.00106, 190, 0.052298, 67, 0.352632, 123, 0.647368, 0.057412, 0.049878, 61], [\"v35\", \"(27.5, inf]\", 0.06085, -0.163712, 0.018116, 2533, 0.69722, 726, 0.286617, 1807, 0.713383, 0.622108, 0.732766, 62], [\"v7\", \"(-inf, -999.0]\", 0.040472, -0.155571, 0.014024, 2168, 0.596752, 625, 0.288284, 1543, 0.711716, 0.535561, 0.62571, 15], [\"v7\", \"(-999.0, 3.5]\", 0.040472, 0.179944, 0.010919, 1189, 0.327278, 430, 0.361648, 759, 0.638352, 0.368466, 0.307786, 16], [\"v7\", \"(3.5, 5.5]\", 0.040472, 0.119552, 0.000554, 138, 0.037985, 48, 0.347826, 90, 0.652174, 0.041131, 0.036496, 17], [\"v7\", \"(5.5, inf]\", 0.040472, 0.602979, 0.014974, 138, 0.037985, 64, 0.463768, 74, 0.536232, 0.054841, 0.030008, 18], [\"v27\", \"(-inf, -999.0]\", 0.02956, -0.209977, 0.009837, 844, 0.232315, 234, 0.277251, 610, 0.722749, 0.200514, 0.247364, 49], [\"v27\", \"(-999.0, 1.5]\", 0.02956, 0.563239, 0.013302, 141, 0.038811, 64, 0.453901, 77, 0.546099, 0.054841, 0.031225, 50], [\"v27\", \"(1.5, 3.5]\", 0.02956, 0.091743, 0.003535, 1502, 0.413432, 513, 0.341545, 989, 0.658455, 0.439589, 0.401054, 51], [\"v27\", \"(3.5, 6.5]\", 0.02956, 0.006602, 9e-06, 781, 0.214974, 252, 0.322663, 529, 0.677337, 0.215938, 0.214517, 52], [\"v27\", \"(6.5, inf]\", 0.02956, -0.171968, 0.002876, 365, 0.100468, 104, 0.284932, 261, 0.715068, 0.089117, 0.105839, 53]]};\n",
       "        dt_args = eval_functions(dt_args);\n",
       "        table = $('#80d8cf99-ba91-4c3b-8ccd-494b61d51ba5').DataTable(dt_args);\n",
       "    });\n",
       "})\n",
       "</script>\n",
       "</div>\n"
      ],
      "text/plain": [
       "<IPython.core.display.HTML object>"
      ]
     },
     "metadata": {},
     "output_type": "display_data"
    }
   ],
   "source": [
    "# 自动调整单调分箱\n",
    "\n",
    "#不需要调整分箱都变量筛选,筛选出需要调整分箱都变量\n",
    "not_adjust_var=[\"v6\"]\n",
    "all_car=list(trim_var_dict.keys())\n",
    "# print(all_car)\n",
    "for i in not_adjust_var:\n",
    "    all_car.remove(i)\n",
    "\n",
    "need_adjust_var=all_car\n",
    "\n",
    "\n",
    "trim_bin_list=[]\n",
    "for col in need_adjust_var:\n",
    "    bin_cut = trim_var_dict[col]\n",
    "    df_bin = [x for x in bin_df_list if x.index.name==col][0]\n",
    "    if nan_value in bin_cut: # 当cut里有缺失映射值时，说明是把缺失单独分为一箱的，后续在进行调成单调分箱时\n",
    "    # 不考虑缺失的箱，故将缺失映射值剔除\n",
    "        woe_list = df_bin['woe'].tolist()[1:]\n",
    "    else:\n",
    "        woe_list = df_bin['woe'].tolist() \n",
    "#     print(\"\\033[1;31m------------------\\033[0m\")\n",
    "#     print(col,bin_cut)\n",
    "#     print(col,woe_list)\n",
    "    if not self_f_2.judge_decreasing(woe_list) and not self_f_2.judge_increasing(woe_list): \n",
    "#         print(col)\n",
    "        monot_cut,woe_lst_new = self_f_2.monot_trim(train, col, target, nan_value=nan_value, cut=bin_cut)\n",
    "#         print(monot_cut)\n",
    "#         print(woe_lst_new)\n",
    "        monot_bin_df = self_f_2.binning_trim(train, col, target, cut=monot_cut, right_border=True)\n",
    "        trim_bin_list.append(monot_bin_df)\n",
    "    else:\n",
    "        trim_bin_list.append(df_bin)\n",
    "\n",
    "#添加不需要调整分箱都变量的分箱信息\n",
    "for col in not_adjust_var:\n",
    "    bin_cut = trim_var_dict[col]\n",
    "    df_bin = [x for x in bin_df_list if x.index.name==col][0]\n",
    "    trim_bin_list.append(df_bin) \n",
    "\n",
    "col_not_dandiao_list=[]    \n",
    "for col in need_adjust_var:\n",
    "    bin_cut = trim_var_dict[col]\n",
    "    df_bin_after_adjust = [x for x in trim_bin_list if x.index.name==col][0]\n",
    "    if nan_value in bin_cut: # 当cut里有缺失映射值时，说明是把缺失单独分为一箱的，后续在进行调成单调分箱时\n",
    "    # 不考虑缺失的箱，故将缺失映射值剔除\n",
    "        woe_list = df_bin_after_adjust['woe'].tolist()[1:]\n",
    "    else:\n",
    "        woe_list = df_bin_after_adjust['woe'].tolist() \n",
    "\n",
    "    if not self_f_2.judge_decreasing(woe_list) and not self_f_2.judge_increasing(woe_list):\n",
    "        col_not_dandiao_list.append(col)\n",
    "\n",
    "trim_bin_list_copy=trim_bin_list.copy()\n",
    "auto_adjust_iv_df=self_f_2.iv_transform_df(trim_bin_list_copy)        \n",
    "        \n",
    "print(\"\\033[1;31m不单调也无需调整分箱的变量\\033[0m\",not_adjust_var)\n",
    "print(\"\\033[1;31m调整后_仍然不单调的变量\\033[0m\",col_not_dandiao_list)\n",
    "print(\"\\033[1;31m自动调整分箱后woe情况\\033[0m\")\n",
    "show(auto_adjust_iv_df)"
   ]
  },
  {
   "cell_type": "markdown",
   "metadata": {},
   "source": [
    "#### 针对自动调整分箱未单调变量_手动调整分箱"
   ]
  },
  {
   "cell_type": "code",
   "execution_count": 19,
   "metadata": {},
   "outputs": [
    {
     "name": "stdout",
     "output_type": "stream",
     "text": [
      "\u001b[1;31m人工手动调整后整体woe情况\u001b[0m\n"
     ]
    },
    {
     "data": {
      "text/html": [
       "<div><table id=\"39a79cd0-c46b-4421-bd0b-72aae649f94d\" class=\"display nowrap\"><thead>\n",
       "    <tr style=\"text-align: right;\">\n",
       "      <th></th>\n",
       "      <th>col</th>\n",
       "      <th>bins</th>\n",
       "      <th>IV</th>\n",
       "      <th>woe</th>\n",
       "      <th>bin_iv</th>\n",
       "      <th>total</th>\n",
       "      <th>totalrate</th>\n",
       "      <th>bad</th>\n",
       "      <th>badrate</th>\n",
       "      <th>good</th>\n",
       "      <th>goodrate</th>\n",
       "      <th>badattr</th>\n",
       "      <th>goodattr</th>\n",
       "      <th>fuzhu</th>\n",
       "    </tr>\n",
       "  </thead></table>\n",
       "<script type=\"text/javascript\">\n",
       "require([\"datatables\"], function (datatables) {\n",
       "    $(document).ready(function () {        \n",
       "        var dt_args = {\"columnDefs\": [{\"width\": \"150px\", \"targets\": \"_all\"}], \"lengthMenu\": [10, 10, 100, 200, 500, 1000, 2000, 5000], \"paging\": false, \"data\": [[0, \"v7\", \"(-inf, -999.0]\", 0.040345, -0.155571, 0.014024, 2168, 0.596752, 625, 0.288284, 1543, 0.711716, 0.535561, 0.62571, 0], [1, \"v7\", \"(-999.0, 5.5]\", 0.040345, 0.173713, 0.011346, 1327, 0.365263, 478, 0.360211, 849, 0.639789, 0.409597, 0.344282, 1], [2, \"v7\", \"(5.5, inf]\", 0.040345, 0.602979, 0.014974, 138, 0.037985, 64, 0.463768, 74, 0.536232, 0.054841, 0.030008, 2]]};\n",
       "        dt_args = eval_functions(dt_args);\n",
       "        table = $('#39a79cd0-c46b-4421-bd0b-72aae649f94d').DataTable(dt_args);\n",
       "    });\n",
       "})\n",
       "</script>\n",
       "</div>\n"
      ],
      "text/plain": [
       "<IPython.core.display.HTML object>"
      ]
     },
     "metadata": {},
     "output_type": "display_data"
    }
   ],
   "source": [
    "#删除自动调整后不单调变量\n",
    "col_rengong_tiaozheng_list=['v7'] \n",
    "\n",
    "auto_adjust_iv_df=auto_adjust_iv_df[~auto_adjust_iv_df['col'].isin(col_rengong_tiaozheng_list)]\n",
    "# print(\"删除自动调整后不单调变量后剩余的变量\",auto_adjust_iv_df.col.unique())\n",
    "\n",
    "\n",
    "#针对自动调整没有单调的变量，手动调整\n",
    "rengong_adjust_bin_list=[]\n",
    "app_game_action_cnt_bin = self_f_2.binning_trim(train, \"v7\", target, \n",
    "                                                cut=[float('-inf'),-999,5.5,float('inf')], right_border=True)\n",
    "rengong_adjust_bin_list.append(app_game_action_cnt_bin)\n",
    "\n",
    "\n",
    "rengong_adjust_iv_df=self_f_2.iv_transform_df(rengong_adjust_bin_list)  \n",
    "\n",
    "\n",
    "#添加人工调整分箱的变量\n",
    "\n",
    "adjust_iv_df_all=pd.concat([rengong_adjust_iv_df,auto_adjust_iv_df])\n",
    "\n",
    "adjust_iv_df_all_rengong=adjust_iv_df_all[adjust_iv_df_all[\"col\"].isin(col_rengong_tiaozheng_list)]\n",
    "print(\"\\033[1;31m人工手动调整后整体woe情况\\033[0m\")\n",
    "show(adjust_iv_df_all_rengong)"
   ]
  },
  {
   "cell_type": "markdown",
   "metadata": {},
   "source": [
    "#### 调整后的分箱再使用iv筛选一轮"
   ]
  },
  {
   "cell_type": "code",
   "execution_count": 20,
   "metadata": {},
   "outputs": [
    {
     "name": "stdout",
     "output_type": "stream",
     "text": [
      "\u001b[1;31m调整分箱后筛选的变量 \u001b[0m ['v7' 'v5' 'v12' 'v23' 'v16' 'v21' 'v25' 'v4' 'v24' 'v3' 'v33' 'v6' 'v35'\n",
      " 'v27']\n"
     ]
    }
   ],
   "source": [
    "##### 调整后的分箱再根据iv筛选一遍\n",
    "\n",
    "adjust_iv_df_all=adjust_iv_df_all[adjust_iv_df_all[\"IV\"]>0.02]\n",
    "# show(adjust_iv_df_all)\n",
    "\n",
    "# select_num_df = []\n",
    "# select_num_var=[]\n",
    "# for dd in trim_bin_list:\n",
    "# # for dd in bin_df_list:\n",
    "#     if dd.IV.iloc[0]>=0.02 and dd.index.name in vif_select_col:\n",
    "#         select_num_df.append(dd)\n",
    "#         select_num_var.append(dd.index.name)\n",
    "\n",
    "after_adjust_var=adjust_iv_df_all.col.unique()\n",
    "print('\\033[1;31m调整分箱后筛选的变量 \\033[0m',after_adjust_var)"
   ]
  },
  {
   "cell_type": "code",
   "execution_count": 21,
   "metadata": {},
   "outputs": [
    {
     "name": "stdout",
     "output_type": "stream",
     "text": [
      "\u001b[1;31m连续型变量分箱调整后分箱和woe情况 \u001b[0m\n"
     ]
    },
    {
     "data": {
      "text/html": [
       "<div><table id=\"cdc18772-5f36-45ff-8cf9-78614d96109e\" class=\"display nowrap\"><thead>\n",
       "    <tr style=\"text-align: right;\">\n",
       "      <th></th>\n",
       "      <th>col</th>\n",
       "      <th>bins</th>\n",
       "      <th>IV</th>\n",
       "      <th>woe</th>\n",
       "      <th>bin_iv</th>\n",
       "      <th>total</th>\n",
       "      <th>totalrate</th>\n",
       "      <th>bad</th>\n",
       "      <th>badrate</th>\n",
       "      <th>good</th>\n",
       "      <th>goodrate</th>\n",
       "      <th>badattr</th>\n",
       "      <th>goodattr</th>\n",
       "      <th>fuzhu</th>\n",
       "      <th>min_bin</th>\n",
       "      <th>max_bin</th>\n",
       "    </tr>\n",
       "  </thead></table>\n",
       "<script type=\"text/javascript\">\n",
       "require([\"datatables\"], function (datatables) {\n",
       "    $(document).ready(function () {        \n",
       "        var dt_args = {\"columnDefs\": [{\"width\": \"150px\", \"targets\": \"_all\"}], \"lengthMenu\": [10, 10, 100, 200, 500, 1000, 2000, 5000], \"data\": [[0, \"v7\", \"(-inf, -999.0]\", 0.040345, -0.155571, 0.014024, 2168, 0.596752, 625, 0.288284, 1543, 0.711716, 0.535561, 0.62571, 0, -Infinity, -999.0], [1, \"v7\", \"(-999.0, 5.5]\", 0.040345, 0.173713, 0.011346, 1327, 0.365263, 478, 0.360211, 849, 0.639789, 0.409597, 0.344282, 1, -999.0, 5.5], [2, \"v7\", \"(5.5, inf]\", 0.040345, 0.602979, 0.014974, 138, 0.037985, 64, 0.463768, 74, 0.536232, 0.054841, 0.030008, 2, 5.5, Infinity], [0, \"v5\", \"(-inf, 5.5]\", 1.12002, -1.138352, 0.45116, 1656, 0.455822, 218, 0.131643, 1438, 0.868357, 0.186804, 0.583131, 10, -Infinity, 5.5], [1, \"v5\", \"(5.5, 13.5]\", 1.12002, -0.089025, 0.002017, 940, 0.258739, 284, 0.302128, 656, 0.697872, 0.243359, 0.266018, 11, 5.5, 13.5], [2, \"v5\", \"(13.5, 25.5]\", 1.12002, 0.860031, 0.116482, 519, 0.142857, 274, 0.527938, 245, 0.472062, 0.23479, 0.099351, 12, 13.5, 25.5], [3, \"v5\", \"(25.5, 35.5]\", 1.12002, 1.546669, 0.166896, 232, 0.063859, 160, 0.689655, 72, 0.310345, 0.137104, 0.029197, 13, 25.5, 35.5], [4, \"v5\", \"(35.5, inf]\", 1.12002, 2.183246, 0.383466, 286, 0.078723, 231, 0.807692, 55, 0.192308, 0.197943, 0.022303, 14, 35.5, Infinity], [5, \"v12\", \"(-inf, -999.0]\", 1.061416, -1.17577, 0.103844, 361, 0.099367, 46, 0.127424, 315, 0.872576, 0.039417, 0.127737, 19, -Infinity, -999.0], [6, \"v12\", \"(-999.0, 8.872]\", 1.061416, 2.013009, 0.497673, 427, 0.117534, 333, 0.779859, 94, 0.220141, 0.285347, 0.038118, 20, -999.0, 8.872], [7, \"v12\", \"(8.872, 9.081]\", 1.061416, 1.090204, 0.156282, 431, 0.118635, 252, 0.584687, 179, 0.415313, 0.215938, 0.072587, 21, 8.872, 9.081], [8, \"v12\", \"(9.081, 9.348]\", 1.061416, 0.133074, 0.003879, 778, 0.214148, 273, 0.3509, 505, 0.6491, 0.233933, 0.204785, 22, 9.081, 9.348], [9, \"v12\", \"(9.348, inf]\", 1.061416, -0.904438, 0.299738, 1636, 0.450317, 263, 0.160758, 1373, 0.839242, 0.225364, 0.556772, 23, 9.348, Infinity], [10, \"v23\", \"(-inf, -999.0]\", 1.022744, -0.808479, 0.030176, 201, 0.055326, 35, 0.174129, 166, 0.825871, 0.029991, 0.067315, 34, -Infinity, -999.0], [11, \"v23\", \"(-999.0, 447.5]\", 1.022744, 1.704658, 0.485214, 562, 0.154693, 406, 0.72242, 156, 0.27758, 0.347901, 0.06326, 35, -999.0, 447.5], [12, \"v23\", \"(447.5, 549.5]\", 1.022744, 0.85549, 0.09525, 429, 0.118084, 226, 0.526807, 203, 0.473193, 0.193659, 0.08232, 36, 447.5, 549.5], [13, \"v23\", \"(549.5, 687.5]\", 1.022744, -0.180617, 0.011704, 1349, 0.371318, 382, 0.283173, 967, 0.716827, 0.327335, 0.392133, 37, 549.5, 687.5], [14, \"v23\", \"(687.5, inf]\", 1.022744, -1.362566, 0.4004, 1092, 0.300578, 118, 0.108059, 974, 0.891941, 0.101114, 0.394972, 38, 687.5, Infinity], [15, \"v16\", \"(-inf, -999.0]\", 0.873424, -0.679455, 0.271867, 2481, 0.682907, 480, 0.19347, 2001, 0.80653, 0.411311, 0.811436, 24, -Infinity, -999.0], [16, \"v16\", \"(-999.0, 3.5]\", 0.873424, 0.45658, 0.027535, 449, 0.123589, 192, 0.427617, 257, 0.572383, 0.164524, 0.104217, 25, -999.0, 3.5], [17, \"v16\", \"(3.5, 5.5]\", 0.873424, 1.473884, 0.303796, 463, 0.127443, 312, 0.673866, 151, 0.326134, 0.267352, 0.061233, 26, 3.5, 5.5], [18, \"v16\", \"(5.5, 6.5]\", 0.873424, 1.556084, 0.087325, 120, 0.033031, 83, 0.691667, 37, 0.308333, 0.071123, 0.015004, 27, 5.5, 6.5], [19, \"v16\", \"(6.5, inf]\", 0.873424, 2.357599, 0.182901, 120, 0.033031, 100, 0.833333, 20, 0.166667, 0.08569, 0.00811, 28, 6.5, Infinity], [20, \"v21\", \"(-inf, -999.0]\", 0.833021, -1.006327, 0.06136, 278, 0.076521, 41, 0.147482, 237, 0.852518, 0.035133, 0.096107, 29, -Infinity, -999.0], [21, \"v21\", \"(-999.0, 49.5]\", 0.833021, -1.209266, 0.270415, 897, 0.246903, 111, 0.123746, 786, 0.876254, 0.095116, 0.318735, 30, -999.0, 49.5], [22, \"v21\", \"(49.5, 66.5]\", 0.833021, -0.367546, 0.04057, 1175, 0.323424, 290, 0.246809, 885, 0.753191, 0.2485, 0.358881, 31, 49.5, 66.5], [23, \"v21\", \"(66.5, 83.5]\", 0.833021, 0.792707, 0.179217, 943, 0.259565, 482, 0.511135, 461, 0.488865, 0.413025, 0.186942, 32, 66.5, 83.5], [24, \"v21\", \"(83.5, inf]\", 0.833021, 1.666512, 0.281459, 340, 0.093587, 243, 0.714706, 97, 0.285294, 0.208226, 0.039335, 33, 83.5, Infinity], [25, \"v25\", \"(-inf, 25.5]\", 0.796799, 1.569651, 0.380243, 514, 0.141481, 357, 0.694553, 157, 0.305447, 0.305913, 0.063666, 44, -Infinity, 25.5], [26, \"v25\", \"(25.5, 35.5]\", 0.796799, 0.661833, 0.066988, 510, 0.14038, 244, 0.478431, 266, 0.521569, 0.209083, 0.107867, 45, 25.5, 35.5], [27, \"v25\", \"(35.5, 40.5]\", 0.796799, 0.229553, 0.005164, 343, 0.094412, 128, 0.373178, 215, 0.626822, 0.109683, 0.087186, 46, 35.5, 40.5], [28, \"v25\", \"(40.5, 56.5]\", 0.796799, -0.308952, 0.027505, 1113, 0.306358, 287, 0.257862, 826, 0.742138, 0.24593, 0.334955, 47, 40.5, 56.5], [29, \"v25\", \"(56.5, inf]\", 0.796799, -1.144312, 0.3169, 1153, 0.317369, 151, 0.130963, 1002, 0.869037, 0.129392, 0.406326, 48, 56.5, Infinity], [30, \"v4\", \"(-inf, 3.5]\", 0.749577, -0.806627, 0.228904, 1531, 0.421415, 267, 0.174396, 1264, 0.825604, 0.228792, 0.512571, 5, -Infinity, 3.5], [31, \"v4\", \"(3.5, 6.5]\", 0.749577, -0.431892, 0.032985, 702, 0.193229, 165, 0.235043, 537, 0.764957, 0.141388, 0.217762, 6, 3.5, 6.5], [32, \"v4\", \"(6.5, 10.5]\", 0.749577, 0.143621, 0.002815, 484, 0.133223, 171, 0.353306, 313, 0.646694, 0.14653, 0.126926, 7, 6.5, 10.5], [33, \"v4\", \"(10.5, 18.5]\", 0.749577, 0.743542, 0.072193, 433, 0.119185, 216, 0.498845, 217, 0.501155, 0.18509, 0.087997, 8, 10.5, 18.5], [34, \"v4\", \"(18.5, inf]\", 0.749577, 1.695089, 0.41268, 483, 0.132948, 348, 0.720497, 135, 0.279503, 0.298201, 0.054745, 9, 18.5, Infinity], [35, \"v24\", \"(-inf, -999.0]\", 0.629105, 0.266323, 0.005603, 275, 0.075695, 105, 0.381818, 170, 0.618182, 0.089974, 0.068938, 39, -Infinity, -999.0], [36, \"v24\", \"(-999.0, 588.5]\", 0.629105, 1.818602, 0.365543, 376, 0.103496, 280, 0.744681, 96, 0.255319, 0.239931, 0.038929, 40, -999.0, 588.5], [37, \"v24\", \"(588.5, 613.5]\", 0.629105, 0.593185, 0.039346, 375, 0.10322, 173, 0.461333, 202, 0.538667, 0.148243, 0.081914, 41, 588.5, 613.5], [38, \"v24\", \"(613.5, 671.5]\", 0.629105, -0.186455, 0.015228, 1649, 0.453895, 465, 0.281989, 1184, 0.718011, 0.398458, 0.48013, 42, 613.5, 671.5], [39, \"v24\", \"(671.5, inf]\", 0.629105, -0.983986, 0.203386, 958, 0.263694, 144, 0.150313, 814, 0.849687, 0.123393, 0.330089, 43, 671.5, Infinity], [40, \"v3\", \"(-inf, -999.0]\", 0.254016, -0.382974, 0.037059, 992, 0.273053, 242, 0.243952, 750, 0.756048, 0.207369, 0.304136, 0, -Infinity, -999.0], [41, \"v3\", \"(-999.0, 3.5]\", 0.254016, -0.299531, 0.033703, 1448, 0.398569, 376, 0.259669, 1072, 0.740331, 0.322194, 0.434712, 1, -999.0, 3.5], [42, \"v3\", \"(3.5, 5.5]\", 0.254016, 0.167754, 0.003019, 379, 0.104321, 136, 0.358839, 243, 0.641161, 0.116538, 0.09854, 2, 3.5, 5.5], [43, \"v3\", \"(5.5, 14.5]\", 0.254016, 0.548923, 0.050469, 564, 0.155244, 254, 0.450355, 310, 0.549645, 0.217652, 0.12571, 3, 5.5, 14.5], [44, \"v3\", \"(14.5, inf]\", 0.254016, 1.306206, 0.129765, 250, 0.068814, 159, 0.636, 91, 0.364, 0.136247, 0.036902, 4, 14.5, Infinity], [45, \"v33\", \"(-inf, -999.0]\", 0.24274, -0.212913, 0.011342, 947, 0.260666, 262, 0.276663, 685, 0.723337, 0.224507, 0.277778, 54, -Infinity, -999.0], [46, \"v33\", \"(-999.0, 2.5]\", 0.24274, -0.759905, 0.103009, 767, 0.21112, 139, 0.181226, 628, 0.818774, 0.119109, 0.254663, 55, -999.0, 2.5], [47, \"v33\", \"(2.5, 4.5]\", 0.24274, -0.036314, 0.000211, 584, 0.160749, 183, 0.313356, 401, 0.686644, 0.156812, 0.162612, 56, 2.5, 4.5], [48, \"v33\", \"(4.5, 8.5]\", 0.24274, 0.35128, 0.038251, 1067, 0.293697, 429, 0.402062, 638, 0.597938, 0.367609, 0.258719, 57, 4.5, 8.5], [49, \"v33\", \"(8.5, inf]\", 0.24274, 1.048915, 0.089927, 268, 0.073768, 154, 0.574627, 114, 0.425373, 0.131962, 0.046229, 58, 8.5, Infinity], [50, \"v6\", \"(-inf, -999.0]\", 0.095253, -0.296338, 0.035473, 1556, 0.428296, 405, 0.260283, 1151, 0.739717, 0.347044, 0.466748, 63, -Infinity, -999.0], [51, \"v6\", \"(-999.0, 3.5]\", 0.095253, 0.093316, 0.003413, 1401, 0.385632, 479, 0.341899, 922, 0.658101, 0.410454, 0.373885, 64, -999.0, 3.5], [52, \"v6\", \"(3.5, 4.5]\", 0.095253, -0.108026, 0.000507, 161, 0.044316, 48, 0.298137, 113, 0.701863, 0.041131, 0.045823, 65, 3.5, 4.5], [53, \"v6\", \"(4.5, 8.5]\", 0.095253, 0.405754, 0.013916, 289, 0.079549, 120, 0.415225, 169, 0.584775, 0.102828, 0.068532, 66, 4.5, 8.5], [54, \"v6\", \"(8.5, inf]\", 0.095253, 0.783563, 0.041945, 226, 0.062208, 115, 0.50885, 111, 0.49115, 0.098543, 0.045012, 67, 8.5, Infinity], [55, \"v35\", \"(-inf, 23.5]\", 0.06085, 0.468447, 0.028376, 439, 0.120837, 189, 0.430524, 250, 0.569476, 0.161954, 0.101379, 59, -Infinity, 23.5], [56, \"v35\", \"(23.5, 26.5]\", 0.06085, 0.312525, 0.013298, 471, 0.129645, 185, 0.392781, 286, 0.607219, 0.158526, 0.115977, 60, 23.5, 26.5], [57, \"v35\", \"(26.5, 27.5]\", 0.06085, 0.140669, 0.00106, 190, 0.052298, 67, 0.352632, 123, 0.647368, 0.057412, 0.049878, 61, 26.5, 27.5], [58, \"v35\", \"(27.5, inf]\", 0.06085, -0.163712, 0.018116, 2533, 0.69722, 726, 0.286617, 1807, 0.713383, 0.622108, 0.732766, 62, 27.5, Infinity], [63, \"v27\", \"(-inf, -999.0]\", 0.02956, -0.209977, 0.009837, 844, 0.232315, 234, 0.277251, 610, 0.722749, 0.200514, 0.247364, 49, -Infinity, -999.0], [64, \"v27\", \"(-999.0, 1.5]\", 0.02956, 0.563239, 0.013302, 141, 0.038811, 64, 0.453901, 77, 0.546099, 0.054841, 0.031225, 50, -999.0, 1.5], [65, \"v27\", \"(1.5, 3.5]\", 0.02956, 0.091743, 0.003535, 1502, 0.413432, 513, 0.341545, 989, 0.658455, 0.439589, 0.401054, 51, 1.5, 3.5], [66, \"v27\", \"(3.5, 6.5]\", 0.02956, 0.006602, 9e-06, 781, 0.214974, 252, 0.322663, 529, 0.677337, 0.215938, 0.214517, 52, 3.5, 6.5], [67, \"v27\", \"(6.5, inf]\", 0.02956, -0.171968, 0.002876, 365, 0.100468, 104, 0.284932, 261, 0.715068, 0.089117, 0.105839, 53, 6.5, Infinity]]};\n",
       "        dt_args = eval_functions(dt_args);\n",
       "        table = $('#cdc18772-5f36-45ff-8cf9-78614d96109e').DataTable(dt_args);\n",
       "    });\n",
       "})\n",
       "</script>\n",
       "</div>\n"
      ],
      "text/plain": [
       "<IPython.core.display.HTML object>"
      ]
     },
     "metadata": {},
     "output_type": "display_data"
    }
   ],
   "source": [
    "# 连续型特征的woe映射集合表\n",
    "# woe_map_num = self_f_2.get_map_df(select_num_df)\n",
    "woe_map_num=adjust_iv_df_all.copy()\n",
    "woe_map_num['bins'] = woe_map_num['bins'].map(lambda x:str(x))\n",
    "woe_map_num['min_bin'] = woe_map_num['bins'].map(lambda x:x.split(',')[0][1:])\n",
    "woe_map_num.to_excel(\"woe_map_num.xlsx\")\n",
    "woe_map_num['max_bin'] = woe_map_num['bins'].map(lambda x:x.split(',')[1][:-1])\n",
    "# show(woe_map_num)\n",
    "woe_map_num['min_bin'] = woe_map_num['min_bin'].map(lambda x:float(x))\n",
    "woe_map_num['max_bin'] = woe_map_num['max_bin'].map(lambda x:float(x))\n",
    "\n",
    "print(\"\\033[1;31m连续型变量分箱调整后分箱和woe情况 \\033[0m\")\n",
    "show(woe_map_num)\n",
    "# print(woe_map_num.columns)"
   ]
  },
  {
   "cell_type": "code",
   "execution_count": 22,
   "metadata": {},
   "outputs": [
    {
     "name": "stdout",
     "output_type": "stream",
     "text": [
      "\u001b[1;31miv筛选后的离散型变量 \u001b[0m ['v17', 'v9', 'v10', 'v26', 'v29', 'v2']\n",
      "\u001b[1;31m连续和离散型变量分箱调整后分箱和woe情况 \u001b[0m\n"
     ]
    },
    {
     "data": {
      "text/html": [
       "<div><table id=\"13ab7fcb-39e7-4aeb-b3d4-0bf152e2d423\" class=\"display nowrap\"><thead>\n",
       "    <tr style=\"text-align: right;\">\n",
       "      \n",
       "      <th>col</th>\n",
       "      <th>bins</th>\n",
       "      <th>IV</th>\n",
       "      <th>woe</th>\n",
       "      <th>bin_iv</th>\n",
       "      <th>total</th>\n",
       "      <th>totalrate</th>\n",
       "      <th>bad</th>\n",
       "      <th>badrate</th>\n",
       "      <th>good</th>\n",
       "      <th>goodrate</th>\n",
       "      <th>badattr</th>\n",
       "      <th>goodattr</th>\n",
       "      <th>fuzhu</th>\n",
       "      <th>min_bin</th>\n",
       "      <th>max_bin</th>\n",
       "    </tr>\n",
       "  </thead></table>\n",
       "<script type=\"text/javascript\">\n",
       "require([\"datatables\"], function (datatables) {\n",
       "    $(document).ready(function () {        \n",
       "        var dt_args = {\"columnDefs\": [{\"width\": \"150px\", \"targets\": \"_all\"}], \"lengthMenu\": [10, 10, 100, 200, 500, 1000, 2000, 5000], \"data\": [[\"v17\", \"a\", 0.782913, 1.514961, 0.342329, 495, 0.136251, 338, 0.682828, 157, 0.317172, 0.289632, 0.063666, 15, \"a\", \"a\"], [\"v17\", \"b\", 0.782913, 1.248405, 0.071701, 151, 0.041563, 94, 0.622517, 57, 0.377483, 0.080548, 0.023114, 16, \"b\", \"b\"], [\"v17\", \"c\", 0.782913, 0.978177, 0.076364, 262, 0.072117, 146, 0.557252, 116, 0.442748, 0.125107, 0.04704, 17, \"c\", \"c\"], [\"v17\", \"d\", 0.782913, 0.534234, 0.020652, 244, 0.067162, 109, 0.446721, 135, 0.553279, 0.093402, 0.054745, 18, \"d\", \"d\"], [\"v17\", \"\\u7f3a\\u5931\", 0.782913, -0.679455, 0.271867, 2481, 0.682907, 480, 0.19347, 2001, 0.80653, 0.411311, 0.811436, 19, \"\\u7f3a\\u5931\", \"\\u7f3a\\u5931\"], [\"v9\", \"A\", 0.630763, -1.626745, 0.31906, 658, 0.181118, 56, 0.085106, 602, 0.914894, 0.047986, 0.24412, 3, \"A\", \"A\"], [\"v9\", \"B\", 0.630763, -0.492481, 0.066869, 1110, 0.305533, 249, 0.224324, 861, 0.775676, 0.213368, 0.349148, 4, \"B\", \"B\"], [\"v9\", \"C\", 0.630763, 0.016914, 2.5e-05, 317, 0.087256, 103, 0.324921, 214, 0.675079, 0.08826, 0.08678, 5, \"C\", \"C\"], [\"v9\", \"D\", 0.630763, 0.43345, 0.019074, 346, 0.095238, 146, 0.421965, 200, 0.578035, 0.125107, 0.081103, 6, \"D\", \"D\"], [\"v9\", \"E\", 0.630763, 0.7881, 0.225736, 1202, 0.330856, 613, 0.509983, 589, 0.490017, 0.525278, 0.238848, 7, \"E\", \"E\"], [\"v10\", \"a\", 0.626796, 0.15017, 0.005831, 916, 0.252133, 325, 0.354803, 591, 0.645197, 0.278492, 0.239659, 8, \"a\", \"a\"], [\"v10\", \"b\", 0.626796, -0.532134, 0.055742, 800, 0.220204, 174, 0.2175, 626, 0.7825, 0.1491, 0.253852, 9, \"b\", \"b\"], [\"v10\", \"c\", 0.626796, -0.805707, 0.063264, 424, 0.116708, 74, 0.174528, 350, 0.825472, 0.06341, 0.14193, 10, \"c\", \"c\"], [\"v10\", \"d\", 0.626796, -1.736746, 0.132299, 247, 0.067988, 19, 0.076923, 228, 0.923077, 0.016281, 0.092457, 11, \"d\", \"d\"], [\"v10\", \"e\", 0.626796, -2.013956, 0.067231, 101, 0.027801, 6, 0.059406, 95, 0.940594, 0.005141, 0.038524, 12, \"e\", \"e\"], [\"v10\", \"f\", 0.626796, -2.717575, 0.065872, 66, 0.018167, 2, 0.030303, 64, 0.969697, 0.001714, 0.025953, 13, \"f\", \"f\"], [\"v10\", \"g\", 0.626796, 0.850196, 0.236556, 1079, 0.297, 567, 0.525487, 512, 0.474513, 0.485861, 0.207624, 14, \"g\", \"g\"], [\"v26\", \"0\", 0.36096, -0.472104, 0.135225, 2431, 0.669144, 554, 0.22789, 1877, 0.77211, 0.474722, 0.761152, 20, \"0\", \"0\"], [\"v26\", \"1\", 0.36096, 0.7881, 0.225736, 1202, 0.330856, 613, 0.509983, 589, 0.490017, 0.525278, 0.238848, 21, \"1\", \"1\"], [\"v29\", \"-999.0\", 0.289665, -0.181009, 0.006648, 763, 0.210019, 216, 0.283093, 547, 0.716907, 0.18509, 0.221817, 22, \"-999.0\", \"-999.0\"], [\"v29\", \"0.0\", 0.289665, 0.432943, 0.102728, 1868, 0.514176, 788, 0.421842, 1080, 0.578158, 0.675236, 0.437956, 23, \"0.0\", \"0.0\"], [\"v29\", \"1.0\", 0.289665, -0.895261, 0.179951, 1000, 0.275255, 162, 0.162, 838, 0.838, 0.138817, 0.339822, 24, \"1.0\", \"1.0\"], [\"v29\", \"2.0\", 0.289665, 0.748161, 0.000338, 2, 0.000551, 1, 0.5, 1, 0.5, 0.000857, 0.000406, 25, \"2.0\", \"2.0\"], [\"v2\", \"A\", 0.144051, -0.173966, 0.023227, 2882, 0.793284, 820, 0.284525, 2062, 0.715475, 0.702656, 0.836172, 0, \"A\", \"A\"], [\"v2\", \"B\", 0.144051, 1.671325, 0.084893, 102, 0.028076, 73, 0.715686, 29, 0.284314, 0.062554, 0.01176, 1, \"B\", \"B\"], [\"v2\", \"C\", 0.144051, 0.434363, 0.035931, 649, 0.17864, 274, 0.422188, 375, 0.577812, 0.23479, 0.152068, 2, \"C\", \"C\"], [\"v7\", \"(-inf, -999.0]\", 0.040345, -0.155571, 0.014024, 2168, 0.596752, 625, 0.288284, 1543, 0.711716, 0.535561, 0.62571, 0, \"-inf\", \"-999.0\"], [\"v7\", \"(-999.0, 5.5]\", 0.040345, 0.173713, 0.011346, 1327, 0.365263, 478, 0.360211, 849, 0.639789, 0.409597, 0.344282, 1, \"-999.0\", \"5.5\"], [\"v7\", \"(5.5, inf]\", 0.040345, 0.602979, 0.014974, 138, 0.037985, 64, 0.463768, 74, 0.536232, 0.054841, 0.030008, 2, \"5.5\", \"inf\"], [\"v5\", \"(-inf, 5.5]\", 1.12002, -1.138352, 0.45116, 1656, 0.455822, 218, 0.131643, 1438, 0.868357, 0.186804, 0.583131, 10, \"-inf\", \"5.5\"], [\"v5\", \"(5.5, 13.5]\", 1.12002, -0.089025, 0.002017, 940, 0.258739, 284, 0.302128, 656, 0.697872, 0.243359, 0.266018, 11, \"5.5\", \"13.5\"], [\"v5\", \"(13.5, 25.5]\", 1.12002, 0.860031, 0.116482, 519, 0.142857, 274, 0.527938, 245, 0.472062, 0.23479, 0.099351, 12, \"13.5\", \"25.5\"], [\"v5\", \"(25.5, 35.5]\", 1.12002, 1.546669, 0.166896, 232, 0.063859, 160, 0.689655, 72, 0.310345, 0.137104, 0.029197, 13, \"25.5\", \"35.5\"], [\"v5\", \"(35.5, inf]\", 1.12002, 2.183246, 0.383466, 286, 0.078723, 231, 0.807692, 55, 0.192308, 0.197943, 0.022303, 14, \"35.5\", \"inf\"], [\"v12\", \"(-inf, -999.0]\", 1.061416, -1.17577, 0.103844, 361, 0.099367, 46, 0.127424, 315, 0.872576, 0.039417, 0.127737, 19, \"-inf\", \"-999.0\"], [\"v12\", \"(-999.0, 8.872]\", 1.061416, 2.013009, 0.497673, 427, 0.117534, 333, 0.779859, 94, 0.220141, 0.285347, 0.038118, 20, \"-999.0\", \"8.872\"], [\"v12\", \"(8.872, 9.081]\", 1.061416, 1.090204, 0.156282, 431, 0.118635, 252, 0.584687, 179, 0.415313, 0.215938, 0.072587, 21, \"8.872\", \"9.081\"], [\"v12\", \"(9.081, 9.348]\", 1.061416, 0.133074, 0.003879, 778, 0.214148, 273, 0.3509, 505, 0.6491, 0.233933, 0.204785, 22, \"9.081\", \"9.348\"], [\"v12\", \"(9.348, inf]\", 1.061416, -0.904438, 0.299738, 1636, 0.450317, 263, 0.160758, 1373, 0.839242, 0.225364, 0.556772, 23, \"9.348\", \"inf\"], [\"v23\", \"(-inf, -999.0]\", 1.022744, -0.808479, 0.030176, 201, 0.055326, 35, 0.174129, 166, 0.825871, 0.029991, 0.067315, 34, \"-inf\", \"-999.0\"], [\"v23\", \"(-999.0, 447.5]\", 1.022744, 1.704658, 0.485214, 562, 0.154693, 406, 0.72242, 156, 0.27758, 0.347901, 0.06326, 35, \"-999.0\", \"447.5\"], [\"v23\", \"(447.5, 549.5]\", 1.022744, 0.85549, 0.09525, 429, 0.118084, 226, 0.526807, 203, 0.473193, 0.193659, 0.08232, 36, \"447.5\", \"549.5\"], [\"v23\", \"(549.5, 687.5]\", 1.022744, -0.180617, 0.011704, 1349, 0.371318, 382, 0.283173, 967, 0.716827, 0.327335, 0.392133, 37, \"549.5\", \"687.5\"], [\"v23\", \"(687.5, inf]\", 1.022744, -1.362566, 0.4004, 1092, 0.300578, 118, 0.108059, 974, 0.891941, 0.101114, 0.394972, 38, \"687.5\", \"inf\"], [\"v16\", \"(-inf, -999.0]\", 0.873424, -0.679455, 0.271867, 2481, 0.682907, 480, 0.19347, 2001, 0.80653, 0.411311, 0.811436, 24, \"-inf\", \"-999.0\"], [\"v16\", \"(-999.0, 3.5]\", 0.873424, 0.45658, 0.027535, 449, 0.123589, 192, 0.427617, 257, 0.572383, 0.164524, 0.104217, 25, \"-999.0\", \"3.5\"], [\"v16\", \"(3.5, 5.5]\", 0.873424, 1.473884, 0.303796, 463, 0.127443, 312, 0.673866, 151, 0.326134, 0.267352, 0.061233, 26, \"3.5\", \"5.5\"], [\"v16\", \"(5.5, 6.5]\", 0.873424, 1.556084, 0.087325, 120, 0.033031, 83, 0.691667, 37, 0.308333, 0.071123, 0.015004, 27, \"5.5\", \"6.5\"], [\"v16\", \"(6.5, inf]\", 0.873424, 2.357599, 0.182901, 120, 0.033031, 100, 0.833333, 20, 0.166667, 0.08569, 0.00811, 28, \"6.5\", \"inf\"], [\"v21\", \"(-inf, -999.0]\", 0.833021, -1.006327, 0.06136, 278, 0.076521, 41, 0.147482, 237, 0.852518, 0.035133, 0.096107, 29, \"-inf\", \"-999.0\"], [\"v21\", \"(-999.0, 49.5]\", 0.833021, -1.209266, 0.270415, 897, 0.246903, 111, 0.123746, 786, 0.876254, 0.095116, 0.318735, 30, \"-999.0\", \"49.5\"], [\"v21\", \"(49.5, 66.5]\", 0.833021, -0.367546, 0.04057, 1175, 0.323424, 290, 0.246809, 885, 0.753191, 0.2485, 0.358881, 31, \"49.5\", \"66.5\"], [\"v21\", \"(66.5, 83.5]\", 0.833021, 0.792707, 0.179217, 943, 0.259565, 482, 0.511135, 461, 0.488865, 0.413025, 0.186942, 32, \"66.5\", \"83.5\"], [\"v21\", \"(83.5, inf]\", 0.833021, 1.666512, 0.281459, 340, 0.093587, 243, 0.714706, 97, 0.285294, 0.208226, 0.039335, 33, \"83.5\", \"inf\"], [\"v25\", \"(-inf, 25.5]\", 0.796799, 1.569651, 0.380243, 514, 0.141481, 357, 0.694553, 157, 0.305447, 0.305913, 0.063666, 44, \"-inf\", \"25.5\"], [\"v25\", \"(25.5, 35.5]\", 0.796799, 0.661833, 0.066988, 510, 0.14038, 244, 0.478431, 266, 0.521569, 0.209083, 0.107867, 45, \"25.5\", \"35.5\"], [\"v25\", \"(35.5, 40.5]\", 0.796799, 0.229553, 0.005164, 343, 0.094412, 128, 0.373178, 215, 0.626822, 0.109683, 0.087186, 46, \"35.5\", \"40.5\"], [\"v25\", \"(40.5, 56.5]\", 0.796799, -0.308952, 0.027505, 1113, 0.306358, 287, 0.257862, 826, 0.742138, 0.24593, 0.334955, 47, \"40.5\", \"56.5\"], [\"v25\", \"(56.5, inf]\", 0.796799, -1.144312, 0.3169, 1153, 0.317369, 151, 0.130963, 1002, 0.869037, 0.129392, 0.406326, 48, \"56.5\", \"inf\"], [\"v4\", \"(-inf, 3.5]\", 0.749577, -0.806627, 0.228904, 1531, 0.421415, 267, 0.174396, 1264, 0.825604, 0.228792, 0.512571, 5, \"-inf\", \"3.5\"], [\"v4\", \"(3.5, 6.5]\", 0.749577, -0.431892, 0.032985, 702, 0.193229, 165, 0.235043, 537, 0.764957, 0.141388, 0.217762, 6, \"3.5\", \"6.5\"], [\"v4\", \"(6.5, 10.5]\", 0.749577, 0.143621, 0.002815, 484, 0.133223, 171, 0.353306, 313, 0.646694, 0.14653, 0.126926, 7, \"6.5\", \"10.5\"], [\"v4\", \"(10.5, 18.5]\", 0.749577, 0.743542, 0.072193, 433, 0.119185, 216, 0.498845, 217, 0.501155, 0.18509, 0.087997, 8, \"10.5\", \"18.5\"], [\"v4\", \"(18.5, inf]\", 0.749577, 1.695089, 0.41268, 483, 0.132948, 348, 0.720497, 135, 0.279503, 0.298201, 0.054745, 9, \"18.5\", \"inf\"], [\"v24\", \"(-inf, -999.0]\", 0.629105, 0.266323, 0.005603, 275, 0.075695, 105, 0.381818, 170, 0.618182, 0.089974, 0.068938, 39, \"-inf\", \"-999.0\"], [\"v24\", \"(-999.0, 588.5]\", 0.629105, 1.818602, 0.365543, 376, 0.103496, 280, 0.744681, 96, 0.255319, 0.239931, 0.038929, 40, \"-999.0\", \"588.5\"], [\"v24\", \"(588.5, 613.5]\", 0.629105, 0.593185, 0.039346, 375, 0.10322, 173, 0.461333, 202, 0.538667, 0.148243, 0.081914, 41, \"588.5\", \"613.5\"], [\"v24\", \"(613.5, 671.5]\", 0.629105, -0.186455, 0.015228, 1649, 0.453895, 465, 0.281989, 1184, 0.718011, 0.398458, 0.48013, 42, \"613.5\", \"671.5\"], [\"v24\", \"(671.5, inf]\", 0.629105, -0.983986, 0.203386, 958, 0.263694, 144, 0.150313, 814, 0.849687, 0.123393, 0.330089, 43, \"671.5\", \"inf\"], [\"v3\", \"(-inf, -999.0]\", 0.254016, -0.382974, 0.037059, 992, 0.273053, 242, 0.243952, 750, 0.756048, 0.207369, 0.304136, 0, \"-inf\", \"-999.0\"], [\"v3\", \"(-999.0, 3.5]\", 0.254016, -0.299531, 0.033703, 1448, 0.398569, 376, 0.259669, 1072, 0.740331, 0.322194, 0.434712, 1, \"-999.0\", \"3.5\"], [\"v3\", \"(3.5, 5.5]\", 0.254016, 0.167754, 0.003019, 379, 0.104321, 136, 0.358839, 243, 0.641161, 0.116538, 0.09854, 2, \"3.5\", \"5.5\"], [\"v3\", \"(5.5, 14.5]\", 0.254016, 0.548923, 0.050469, 564, 0.155244, 254, 0.450355, 310, 0.549645, 0.217652, 0.12571, 3, \"5.5\", \"14.5\"], [\"v3\", \"(14.5, inf]\", 0.254016, 1.306206, 0.129765, 250, 0.068814, 159, 0.636, 91, 0.364, 0.136247, 0.036902, 4, \"14.5\", \"inf\"], [\"v33\", \"(-inf, -999.0]\", 0.24274, -0.212913, 0.011342, 947, 0.260666, 262, 0.276663, 685, 0.723337, 0.224507, 0.277778, 54, \"-inf\", \"-999.0\"], [\"v33\", \"(-999.0, 2.5]\", 0.24274, -0.759905, 0.103009, 767, 0.21112, 139, 0.181226, 628, 0.818774, 0.119109, 0.254663, 55, \"-999.0\", \"2.5\"], [\"v33\", \"(2.5, 4.5]\", 0.24274, -0.036314, 0.000211, 584, 0.160749, 183, 0.313356, 401, 0.686644, 0.156812, 0.162612, 56, \"2.5\", \"4.5\"], [\"v33\", \"(4.5, 8.5]\", 0.24274, 0.35128, 0.038251, 1067, 0.293697, 429, 0.402062, 638, 0.597938, 0.367609, 0.258719, 57, \"4.5\", \"8.5\"], [\"v33\", \"(8.5, inf]\", 0.24274, 1.048915, 0.089927, 268, 0.073768, 154, 0.574627, 114, 0.425373, 0.131962, 0.046229, 58, \"8.5\", \"inf\"], [\"v6\", \"(-inf, -999.0]\", 0.095253, -0.296338, 0.035473, 1556, 0.428296, 405, 0.260283, 1151, 0.739717, 0.347044, 0.466748, 63, \"-inf\", \"-999.0\"], [\"v6\", \"(-999.0, 3.5]\", 0.095253, 0.093316, 0.003413, 1401, 0.385632, 479, 0.341899, 922, 0.658101, 0.410454, 0.373885, 64, \"-999.0\", \"3.5\"], [\"v6\", \"(3.5, 4.5]\", 0.095253, -0.108026, 0.000507, 161, 0.044316, 48, 0.298137, 113, 0.701863, 0.041131, 0.045823, 65, \"3.5\", \"4.5\"], [\"v6\", \"(4.5, 8.5]\", 0.095253, 0.405754, 0.013916, 289, 0.079549, 120, 0.415225, 169, 0.584775, 0.102828, 0.068532, 66, \"4.5\", \"8.5\"], [\"v6\", \"(8.5, inf]\", 0.095253, 0.783563, 0.041945, 226, 0.062208, 115, 0.50885, 111, 0.49115, 0.098543, 0.045012, 67, \"8.5\", \"inf\"], [\"v35\", \"(-inf, 23.5]\", 0.06085, 0.468447, 0.028376, 439, 0.120837, 189, 0.430524, 250, 0.569476, 0.161954, 0.101379, 59, \"-inf\", \"23.5\"], [\"v35\", \"(23.5, 26.5]\", 0.06085, 0.312525, 0.013298, 471, 0.129645, 185, 0.392781, 286, 0.607219, 0.158526, 0.115977, 60, \"23.5\", \"26.5\"], [\"v35\", \"(26.5, 27.5]\", 0.06085, 0.140669, 0.00106, 190, 0.052298, 67, 0.352632, 123, 0.647368, 0.057412, 0.049878, 61, \"26.5\", \"27.5\"], [\"v35\", \"(27.5, inf]\", 0.06085, -0.163712, 0.018116, 2533, 0.69722, 726, 0.286617, 1807, 0.713383, 0.622108, 0.732766, 62, \"27.5\", \"inf\"], [\"v27\", \"(-inf, -999.0]\", 0.02956, -0.209977, 0.009837, 844, 0.232315, 234, 0.277251, 610, 0.722749, 0.200514, 0.247364, 49, \"-inf\", \"-999.0\"], [\"v27\", \"(-999.0, 1.5]\", 0.02956, 0.563239, 0.013302, 141, 0.038811, 64, 0.453901, 77, 0.546099, 0.054841, 0.031225, 50, \"-999.0\", \"1.5\"], [\"v27\", \"(1.5, 3.5]\", 0.02956, 0.091743, 0.003535, 1502, 0.413432, 513, 0.341545, 989, 0.658455, 0.439589, 0.401054, 51, \"1.5\", \"3.5\"], [\"v27\", \"(3.5, 6.5]\", 0.02956, 0.006602, 9e-06, 781, 0.214974, 252, 0.322663, 529, 0.677337, 0.215938, 0.214517, 52, \"3.5\", \"6.5\"], [\"v27\", \"(6.5, inf]\", 0.02956, -0.171968, 0.002876, 365, 0.100468, 104, 0.284932, 261, 0.715068, 0.089117, 0.105839, 53, \"6.5\", \"inf\"]]};\n",
       "        dt_args = eval_functions(dt_args);\n",
       "        table = $('#13ab7fcb-39e7-4aeb-b3d4-0bf152e2d423').DataTable(dt_args);\n",
       "    });\n",
       "})\n",
       "</script>\n",
       "</div>\n"
      ],
      "text/plain": [
       "<IPython.core.display.HTML object>"
      ]
     },
     "metadata": {},
     "output_type": "display_data"
    }
   ],
   "source": [
    "if len(cate_col)>0:\n",
    "#     print(cate_col)\n",
    "    bin_cate_list = [x for x in bin_df_list if x.index.name in cate_col]\n",
    "    select_cate_df=bin_cate_list.copy()\n",
    "    # 剔除woe不单调的离散形特征,正常离散型特征无需管woe是否单调，除非是有等级顺序的离散型特征\n",
    "#     select_cate_df=[]\n",
    "#     for i,dd in enumerate(bin_cate_list):\n",
    "#         woe_lst = dd['woe'].tolist()\n",
    "#         if self_f_2.judge_decreasing(woe_lst) or self_f_2.judge_increasing(woe_lst):\n",
    "#             select_cate_df.append(dd)\n",
    "    # 离散型特征的woe映射集合表\n",
    "    if len(select_cate_df)>0:\n",
    "#         woe_map_cate = self_f_2.get_map_df(select_cate_df)\n",
    "        woe_map_cate=self_f_2.iv_transform_df(select_cate_df)  \n",
    "#         print(woe_map_cate)\n",
    "        woe_map_cate['min_bin'] = list(woe_map_cate['bins'])\n",
    "        woe_map_cate['max_bin'] = list(woe_map_cate['bins'])\n",
    "        woe_map_df = pd.concat([woe_map_cate,woe_map_num],axis=0).reset_index(drop=True)\n",
    "else:\n",
    "    woe_map_df = woe_map_num.reset_index(drop=True)\n",
    "\n",
    "print('\\033[1;31miv筛选后的离散型变量 \\033[0m',cate_col)\n",
    "print(\"\\033[1;31m连续和离散型变量分箱调整后分箱和woe情况 \\033[0m\")\n",
    "show(woe_map_df)\n"
   ]
  },
  {
   "cell_type": "markdown",
   "metadata": {},
   "source": [
    "### woe编码后相关性&多重共线性筛选"
   ]
  },
  {
   "cell_type": "code",
   "execution_count": 23,
   "metadata": {},
   "outputs": [
    {
     "data": {
      "text/html": [
       "<div><table id=\"1483861d-e2d6-4559-be41-ad741f25c36f\" class=\"display nowrap\"><thead>\n",
       "    <tr style=\"text-align: right;\">\n",
       "      <th></th>\n",
       "      <th>v5</th>\n",
       "      <th>v12</th>\n",
       "      <th>v23</th>\n",
       "      <th>v16</th>\n",
       "      <th>v21</th>\n",
       "      <th>v25</th>\n",
       "      <th>v17</th>\n",
       "      <th>v4</th>\n",
       "      <th>v9</th>\n",
       "      <th>v24</th>\n",
       "      <th>v10</th>\n",
       "      <th>v26</th>\n",
       "      <th>v29</th>\n",
       "      <th>v3</th>\n",
       "      <th>v33</th>\n",
       "      <th>v2</th>\n",
       "      <th>v6</th>\n",
       "      <th>v35</th>\n",
       "      <th>v7</th>\n",
       "      <th>v27</th>\n",
       "    </tr>\n",
       "  </thead></table>\n",
       "<script type=\"text/javascript\">\n",
       "require([\"datatables\"], function (datatables) {\n",
       "    $(document).ready(function () {        \n",
       "        var dt_args = {\"columnDefs\": [{\"width\": \"200px\", \"targets\": \"_all\"}], \"lengthMenu\": [10, 10, 100, 200, 500, 1000, 2000, 5000], \"data\": [[\"v5\", 1.0, 0.747359, 0.605378, 0.699136, 0.535368, 0.284627, 0.668314, 0.881406, 0.044495, 0.350758, 0.052846, 0.048717, 0.194588, 0.702035, 0.155798, 0.444939, 0.589246, 0.190874, 0.504453, 0.08916], [\"v12\", 0.747359, 1.0, 0.722866, 0.739184, 0.66721, 0.342885, 0.718174, 0.630113, 0.099873, 0.399801, 0.118201, 0.065505, 0.203749, 0.426649, 0.17364, 0.294665, 0.363393, 0.237455, 0.322269, 0.096412], [\"v23\", 0.605378, 0.722866, 1.0, 0.73123, 0.664194, 0.402362, 0.741999, 0.535061, 0.249694, 0.434054, 0.208884, 0.152541, 0.195363, 0.342646, 0.197996, 0.241771, 0.259433, 0.114149, 0.23202, 0.070875], [\"v16\", 0.699136, 0.739184, 0.73123, 1.0, 0.532638, 0.351663, 0.95316, 0.605138, 0.130375, 0.375812, 0.145982, 0.090134, 0.165743, 0.408336, 0.181158, 0.257677, 0.327115, 0.172212, 0.287226, 0.087526], [\"v21\", 0.535368, 0.66721, 0.664194, 0.532638, 1.0, 0.349257, 0.527011, 0.447178, 0.220635, 0.3968, 0.192187, 0.119218, 0.180645, 0.291504, 0.150092, 0.224119, 0.242948, 0.146885, 0.220647, 0.072703], [\"v25\", 0.284627, 0.342885, 0.402362, 0.351663, 0.349257, 1.0, 0.32775, 0.234148, 0.408481, 0.375226, 0.349428, 0.296545, 0.099852, 0.101238, 0.145502, 0.073651, 0.031889, -0.011656, 0.018613, 0.031892], [\"v17\", 0.668314, 0.718174, 0.741999, 0.95316, 0.527011, 0.32775, 1.0, 0.582706, 0.116574, 0.344944, 0.135709, 0.083273, 0.164106, 0.399038, 0.183002, 0.250821, 0.314335, 0.165018, 0.284762, 0.082474], [\"v4\", 0.881406, 0.630113, 0.535061, 0.605138, 0.447178, 0.234148, 0.582706, 1.0, -0.000413, 0.251885, 0.027728, 0.000996, 0.169812, 0.79849, 0.137646, 0.481963, 0.652455, 0.165572, 0.547471, 0.112662], [\"v9\", 0.044495, 0.099873, 0.249694, 0.130375, 0.220635, 0.408481, 0.116574, -0.000413, 1.0, 0.339505, 0.796137, 0.751489, 0.079132, -0.086967, 0.091378, 0.002356, -0.138177, -0.027187, -0.145327, 0.033194], [\"v24\", 0.350758, 0.399801, 0.434054, 0.375812, 0.3968, 0.375226, 0.344944, 0.251885, 0.339505, 1.0, 0.288868, 0.212326, 0.119934, 0.117095, 0.099465, 0.082114, 0.057918, 0.039447, 0.048261, 0.025431], [\"v10\", 0.052846, 0.118201, 0.208884, 0.145982, 0.192187, 0.349428, 0.135709, 0.027728, 0.796137, 0.288868, 1.0, 0.685443, 0.115397, -0.071044, 0.091519, 0.015808, -0.120053, 0.109523, -0.119939, 0.127184], [\"v26\", 0.048717, 0.065505, 0.152541, 0.090134, 0.119218, 0.296545, 0.083273, 0.000996, 0.751489, 0.212326, 0.685443, 1.0, 0.047626, -0.088237, 0.062905, 0.035558, -0.121701, -0.013192, -0.129198, 0.012632], [\"v29\", 0.194588, 0.203749, 0.195363, 0.165743, 0.180645, 0.099852, 0.164106, 0.169812, 0.079132, 0.119934, 0.115397, 0.047626, 1.0, 0.11028, 0.16975, 0.070663, 0.098051, 0.221754, 0.071102, 0.154916], [\"v3\", 0.702035, 0.426649, 0.342646, 0.408336, 0.291504, 0.101238, 0.399038, 0.79849, -0.086967, 0.117095, -0.071044, -0.088237, 0.11028, 1.0, 0.071076, 0.532918, 0.741216, 0.151658, 0.613438, 0.090171], [\"v33\", 0.155798, 0.17364, 0.197996, 0.181158, 0.150092, 0.145502, 0.183002, 0.137646, 0.091378, 0.099465, 0.091519, 0.062905, 0.16975, 0.071076, 1.0, 0.05101, 0.052936, 0.032314, 0.026212, 0.144381], [\"v2\", 0.444939, 0.294665, 0.241771, 0.257677, 0.224119, 0.073651, 0.250821, 0.481963, 0.002356, 0.082114, 0.015808, 0.035558, 0.070663, 0.532918, 0.05101, 1.0, 0.484764, 0.063499, 0.422235, 0.037738], [\"v6\", 0.589246, 0.363393, 0.259433, 0.327115, 0.242948, 0.031889, 0.314335, 0.652455, -0.138177, 0.057918, -0.120053, -0.121701, 0.098051, 0.741216, 0.052936, 0.484764, 1.0, 0.151529, 0.75067, 0.0742], [\"v35\", 0.190874, 0.237455, 0.114149, 0.172212, 0.146885, -0.011656, 0.165018, 0.165572, -0.027187, 0.039447, 0.109523, -0.013192, 0.221754, 0.151658, 0.032314, 0.063499, 0.151529, 1.0, 0.112144, 0.190558], [\"v7\", 0.504453, 0.322269, 0.23202, 0.287226, 0.220647, 0.018613, 0.284762, 0.547471, -0.145327, 0.048261, -0.119939, -0.129198, 0.071102, 0.613438, 0.026212, 0.422235, 0.75067, 0.112144, 1.0, 0.050878], [\"v27\", 0.08916, 0.096412, 0.070875, 0.087526, 0.072703, 0.031892, 0.082474, 0.112662, 0.033194, 0.025431, 0.127184, 0.012632, 0.154916, 0.090171, 0.144381, 0.037738, 0.0742, 0.190558, 0.050878, 1.0]]};\n",
       "        dt_args = eval_functions(dt_args);\n",
       "        table = $('#1483861d-e2d6-4559-be41-ad741f25c36f').DataTable(dt_args);\n",
       "    });\n",
       "})\n",
       "</script>\n",
       "</div>\n"
      ],
      "text/plain": [
       "<IPython.core.display.HTML object>"
      ]
     },
     "metadata": {},
     "output_type": "display_data"
    },
    {
     "name": "stdout",
     "output_type": "stream",
     "text": [
      "\u001b[1;31m woe编码后相关性筛选的特征:\u001b[0m ['v5', 'v23', 'v21', 'v25', 'v9', 'v24', 'v29', 'v33', 'v2', 'v6', 'v35', 'v27']\n",
      "\u001b[1;31m woe编码后相关性删除的特征:\u001b[0m ['v12', 'v16', 'v17', 'v4', 'v10', 'v26', 'v3', 'v7']\n",
      "\u001b[1;31m 相关性筛选完成-----------------------------\u001b[0m\n",
      "\u001b[1;31m woe编码后多重共线性筛选的特征:\u001b[0m ['v5', 'v23', 'v21', 'v25', 'v9', 'v24', 'v29', 'v33', 'v2', 'v6', 'v35', 'v27']\n",
      "\u001b[1;31m woe编码后多重共线性删除的特征:\u001b[0m []\n",
      "\u001b[1;31m 多重共线性筛选完成--------------------------\u001b[0m\n"
     ]
    }
   ],
   "source": [
    "# woe编码后相关性筛选\n",
    "\n",
    "#对train使用woe编码替换\n",
    "select_all_col = woe_map_df['col'].unique().tolist()\n",
    "select_sort_col = [x for x,y in iv_sort if x in select_all_col]\n",
    "# print(select_sort_col)\n",
    "\n",
    "train2 = train.loc[:,select_sort_col+[target]].reset_index(drop=True)\n",
    "# print(train2.shape[0])\n",
    "\n",
    "\n",
    "# woe映射\n",
    "train_woe = self_f_2.var_mapping(train2,woe_map_df,'woe',target)\n",
    "X = train_woe.loc[:,select_sort_col]\n",
    "y = train_woe[target]\n",
    "    \n",
    "#相关性展示\n",
    "corr=pd.DataFrame(train[num_col].corr())\n",
    "corr_woe=pd.DataFrame(train_woe[select_sort_col].corr())\n",
    "show(corr_woe, columnDefs=[{\"width\": \"200px\", \"targets\": \"_all\"}])\n",
    "\n",
    "#相关性筛选，默认阈值0.7\n",
    "corr_select_col_woe,corr_delete_col_woe = self_f_2.forward_corr_delete(train_woe,select_sort_col,cut_value=0.7)\n",
    "print(\"\\033[1;31m woe编码后相关性筛选的特征:\\033[0m\",corr_select_col_woe)\n",
    "print(\"\\033[1;31m woe编码后相关性删除的特征:\\033[0m\",corr_delete_col_woe)\n",
    "print(\"\\033[1;31m 相关性筛选完成-----------------------------\\033[0m\")\n",
    "\n",
    "#多重共线性筛选，系数阈值10\n",
    "vif_select_col_woe,vif_delete_col_woe  = self_f_2.vif_delete(train_woe,corr_select_col_woe)\n",
    "print(\"\\033[1;31m woe编码后多重共线性筛选的特征:\\033[0m\",vif_select_col_woe)\n",
    "print(\"\\033[1;31m woe编码后多重共线性删除的特征:\\033[0m\",vif_delete_col_woe)\n",
    "print('\\033[1;31m 多重共线性筛选完成--------------------------\\033[0m')\n",
    "\n",
    "#经过woe变换后的特征相关性和共线性筛选后的特征数据框\n",
    "X1 = X.loc[:,vif_select_col_woe]"
   ]
  },
  {
   "cell_type": "markdown",
   "metadata": {},
   "source": [
    "### 显著性筛选"
   ]
  },
  {
   "cell_type": "code",
   "execution_count": 24,
   "metadata": {},
   "outputs": [
    {
     "name": "stdout",
     "output_type": "stream",
     "text": [
      "Optimization terminated successfully.\n",
      "         Current function value: 0.512949\n",
      "         Iterations 6\n",
      "                           Logit Regression Results                           \n",
      "==============================================================================\n",
      "Dep. Variable:                 target   No. Observations:                 3633\n",
      "Model:                          Logit   Df Residuals:                     3631\n",
      "Method:                           MLE   Df Model:                            1\n",
      "Date:                Fri, 10 Apr 2020   Pseudo R-squ.:                  0.1829\n",
      "Time:                        09:41:36   Log-Likelihood:                -1863.5\n",
      "converged:                       True   LL-Null:                       -2280.8\n",
      "Covariance Type:            nonrobust   LLR p-value:                1.779e-183\n",
      "==============================================================================\n",
      "                 coef    std err          z      P>|z|      [0.025      0.975]\n",
      "------------------------------------------------------------------------------\n",
      "const         -0.7482      0.041    -18.432      0.000      -0.828      -0.669\n",
      "v5             1.0000      0.039     25.859      0.000       0.924       1.076\n",
      "==============================================================================\n",
      "\u001b[1;31m ---------------------------------------------------\u001b[0m\n",
      "Optimization terminated successfully.\n",
      "         Current function value: 0.489407\n",
      "         Iterations 6\n",
      "                           Logit Regression Results                           \n",
      "==============================================================================\n",
      "Dep. Variable:                 target   No. Observations:                 3633\n",
      "Model:                          Logit   Df Residuals:                     3630\n",
      "Method:                           MLE   Df Model:                            2\n",
      "Date:                Fri, 10 Apr 2020   Pseudo R-squ.:                  0.2204\n",
      "Time:                        09:41:36   Log-Likelihood:                -1778.0\n",
      "converged:                       True   LL-Null:                       -2280.8\n",
      "Covariance Type:            nonrobust   LLR p-value:                4.616e-219\n",
      "==============================================================================\n",
      "                 coef    std err          z      P>|z|      [0.025      0.975]\n",
      "------------------------------------------------------------------------------\n",
      "const         -0.7331      0.042    -17.555      0.000      -0.815      -0.651\n",
      "v5             0.6848      0.045     15.204      0.000       0.596       0.773\n",
      "v23            0.5979      0.047     12.814      0.000       0.506       0.689\n",
      "==============================================================================\n",
      "\u001b[1;31m ---------------------------------------------------\u001b[0m\n",
      "Optimization terminated successfully.\n",
      "         Current function value: 0.483113\n",
      "         Iterations 6\n",
      "                           Logit Regression Results                           \n",
      "==============================================================================\n",
      "Dep. Variable:                 target   No. Observations:                 3633\n",
      "Model:                          Logit   Df Residuals:                     3629\n",
      "Method:                           MLE   Df Model:                            3\n",
      "Date:                Fri, 10 Apr 2020   Pseudo R-squ.:                  0.2305\n",
      "Time:                        09:41:36   Log-Likelihood:                -1755.1\n",
      "converged:                       True   LL-Null:                       -2280.8\n",
      "Covariance Type:            nonrobust   LLR p-value:                1.402e-227\n",
      "==============================================================================\n",
      "                 coef    std err          z      P>|z|      [0.025      0.975]\n",
      "------------------------------------------------------------------------------\n",
      "const         -0.7407      0.042    -17.568      0.000      -0.823      -0.658\n",
      "v5             0.6265      0.046     13.664      0.000       0.537       0.716\n",
      "v23            0.4241      0.053      8.007      0.000       0.320       0.528\n",
      "v21            0.3801      0.056      6.791      0.000       0.270       0.490\n",
      "==============================================================================\n",
      "\u001b[1;31m ---------------------------------------------------\u001b[0m\n",
      "Optimization terminated successfully.\n",
      "         Current function value: 0.452695\n",
      "         Iterations 6\n",
      "                           Logit Regression Results                           \n",
      "==============================================================================\n",
      "Dep. Variable:                 target   No. Observations:                 3633\n",
      "Model:                          Logit   Df Residuals:                     3628\n",
      "Method:                           MLE   Df Model:                            4\n",
      "Date:                Fri, 10 Apr 2020   Pseudo R-squ.:                  0.2789\n",
      "Time:                        09:41:36   Log-Likelihood:                -1644.6\n",
      "converged:                       True   LL-Null:                       -2280.8\n",
      "Covariance Type:            nonrobust   LLR p-value:                3.515e-274\n",
      "==============================================================================\n",
      "                 coef    std err          z      P>|z|      [0.025      0.975]\n",
      "------------------------------------------------------------------------------\n",
      "const         -0.7161      0.044    -16.385      0.000      -0.802      -0.630\n",
      "v5             0.6502      0.049     13.374      0.000       0.555       0.745\n",
      "v23            0.2768      0.056      4.915      0.000       0.166       0.387\n",
      "v21            0.2990      0.059      5.060      0.000       0.183       0.415\n",
      "v25            0.7339      0.051     14.530      0.000       0.635       0.833\n",
      "==============================================================================\n",
      "\u001b[1;31m ---------------------------------------------------\u001b[0m\n",
      "Optimization terminated successfully.\n",
      "         Current function value: 0.418540\n",
      "         Iterations 7\n",
      "                           Logit Regression Results                           \n",
      "==============================================================================\n",
      "Dep. Variable:                 target   No. Observations:                 3633\n",
      "Model:                          Logit   Df Residuals:                     3627\n",
      "Method:                           MLE   Df Model:                            5\n",
      "Date:                Fri, 10 Apr 2020   Pseudo R-squ.:                  0.3333\n",
      "Time:                        09:41:36   Log-Likelihood:                -1520.6\n",
      "converged:                       True   LL-Null:                       -2280.8\n",
      "Covariance Type:            nonrobust   LLR p-value:                     0.000\n",
      "==============================================================================\n",
      "                 coef    std err          z      P>|z|      [0.025      0.975]\n",
      "------------------------------------------------------------------------------\n",
      "const         -0.7422      0.046    -16.049      0.000      -0.833      -0.652\n",
      "v5             0.8422      0.053     15.842      0.000       0.738       0.946\n",
      "v23            0.1974      0.059      3.318      0.001       0.081       0.314\n",
      "v21            0.2507      0.062      4.060      0.000       0.130       0.372\n",
      "v25            0.4920      0.053      9.207      0.000       0.387       0.597\n",
      "v9             0.9841      0.067     14.643      0.000       0.852       1.116\n",
      "==============================================================================\n",
      "\u001b[1;31m ---------------------------------------------------\u001b[0m\n",
      "Optimization terminated successfully.\n",
      "         Current function value: 0.416782\n",
      "         Iterations 7\n",
      "                           Logit Regression Results                           \n",
      "==============================================================================\n",
      "Dep. Variable:                 target   No. Observations:                 3633\n",
      "Model:                          Logit   Df Residuals:                     3626\n",
      "Method:                           MLE   Df Model:                            6\n",
      "Date:                Fri, 10 Apr 2020   Pseudo R-squ.:                  0.3361\n",
      "Time:                        09:41:36   Log-Likelihood:                -1514.2\n",
      "converged:                       True   LL-Null:                       -2280.8\n",
      "Covariance Type:            nonrobust   LLR p-value:                     0.000\n",
      "==============================================================================\n",
      "                 coef    std err          z      P>|z|      [0.025      0.975]\n",
      "------------------------------------------------------------------------------\n",
      "const         -0.7382      0.046    -15.927      0.000      -0.829      -0.647\n",
      "v5             0.8213      0.054     15.348      0.000       0.716       0.926\n",
      "v23            0.1734      0.060      2.882      0.004       0.055       0.291\n",
      "v21            0.2286      0.062      3.670      0.000       0.107       0.351\n",
      "v25            0.4658      0.054      8.633      0.000       0.360       0.572\n",
      "v9             0.9410      0.068     13.793      0.000       0.807       1.075\n",
      "v24            0.2271      0.064      3.566      0.000       0.102       0.352\n",
      "==============================================================================\n",
      "\u001b[1;31m ---------------------------------------------------\u001b[0m\n",
      "Optimization terminated successfully.\n",
      "         Current function value: 0.406610\n",
      "         Iterations 7\n",
      "                           Logit Regression Results                           \n",
      "==============================================================================\n",
      "Dep. Variable:                 target   No. Observations:                 3633\n",
      "Model:                          Logit   Df Residuals:                     3625\n",
      "Method:                           MLE   Df Model:                            7\n",
      "Date:                Fri, 10 Apr 2020   Pseudo R-squ.:                  0.3523\n",
      "Time:                        09:41:36   Log-Likelihood:                -1477.2\n",
      "converged:                       True   LL-Null:                       -2280.8\n",
      "Covariance Type:            nonrobust   LLR p-value:                     0.000\n",
      "==============================================================================\n",
      "                 coef    std err          z      P>|z|      [0.025      0.975]\n",
      "------------------------------------------------------------------------------\n",
      "const         -0.7399      0.047    -15.738      0.000      -0.832      -0.648\n",
      "v5             0.7984      0.054     14.715      0.000       0.692       0.905\n",
      "v23            0.1476      0.061      2.406      0.016       0.027       0.268\n",
      "v21            0.2113      0.063      3.341      0.001       0.087       0.335\n",
      "v25            0.4795      0.055      8.742      0.000       0.372       0.587\n",
      "v9             0.9308      0.069     13.481      0.000       0.795       1.066\n",
      "v24            0.2235      0.064      3.467      0.001       0.097       0.350\n",
      "v29            0.7317      0.087      8.394      0.000       0.561       0.903\n",
      "==============================================================================\n",
      "\u001b[1;31m ---------------------------------------------------\u001b[0m\n"
     ]
    },
    {
     "name": "stdout",
     "output_type": "stream",
     "text": [
      "Optimization terminated successfully.\n",
      "         Current function value: 0.400327\n",
      "         Iterations 7\n",
      "                           Logit Regression Results                           \n",
      "==============================================================================\n",
      "Dep. Variable:                 target   No. Observations:                 3633\n",
      "Model:                          Logit   Df Residuals:                     3624\n",
      "Method:                           MLE   Df Model:                            8\n",
      "Date:                Fri, 10 Apr 2020   Pseudo R-squ.:                  0.3623\n",
      "Time:                        09:41:36   Log-Likelihood:                -1454.4\n",
      "converged:                       True   LL-Null:                       -2280.8\n",
      "Covariance Type:            nonrobust   LLR p-value:                     0.000\n",
      "==============================================================================\n",
      "                 coef    std err          z      P>|z|      [0.025      0.975]\n",
      "------------------------------------------------------------------------------\n",
      "const         -0.7368      0.047    -15.553      0.000      -0.830      -0.644\n",
      "v5             0.7952      0.055     14.551      0.000       0.688       0.902\n",
      "v23            0.1217      0.062      1.961      0.050    6.88e-05       0.243\n",
      "v21            0.2096      0.064      3.284      0.001       0.085       0.335\n",
      "v25            0.4614      0.055      8.355      0.000       0.353       0.570\n",
      "v9             0.9303      0.069     13.413      0.000       0.794       1.066\n",
      "v24            0.2391      0.065      3.678      0.000       0.112       0.366\n",
      "v29            0.6549      0.088      7.433      0.000       0.482       0.828\n",
      "v33            0.6372      0.095      6.692      0.000       0.451       0.824\n",
      "==============================================================================\n",
      "\u001b[1;31m ---------------------------------------------------\u001b[0m\n",
      "Optimization terminated successfully.\n",
      "         Current function value: 0.400327\n",
      "         Iterations 7\n",
      "                           Logit Regression Results                           \n",
      "==============================================================================\n",
      "Dep. Variable:                 target   No. Observations:                 3633\n",
      "Model:                          Logit   Df Residuals:                     3623\n",
      "Method:                           MLE   Df Model:                            9\n",
      "Date:                Fri, 10 Apr 2020   Pseudo R-squ.:                  0.3623\n",
      "Time:                        09:41:36   Log-Likelihood:                -1454.4\n",
      "converged:                       True   LL-Null:                       -2280.8\n",
      "Covariance Type:            nonrobust   LLR p-value:                     0.000\n",
      "==============================================================================\n",
      "                 coef    std err          z      P>|z|      [0.025      0.975]\n",
      "------------------------------------------------------------------------------\n",
      "const         -0.7367      0.047    -15.519      0.000      -0.830      -0.644\n",
      "v5             0.7960      0.059     13.453      0.000       0.680       0.912\n",
      "v23            0.1217      0.062      1.960      0.050    1.23e-05       0.243\n",
      "v21            0.2096      0.064      3.284      0.001       0.085       0.335\n",
      "v25            0.4613      0.055      8.346      0.000       0.353       0.570\n",
      "v9             0.9303      0.069     13.412      0.000       0.794       1.066\n",
      "v24            0.2389      0.065      3.665      0.000       0.111       0.367\n",
      "v29            0.6549      0.088      7.433      0.000       0.482       0.828\n",
      "v33            0.6372      0.095      6.692      0.000       0.451       0.824\n",
      "v2            -0.0046      0.133     -0.035      0.972      -0.265       0.256\n",
      "==============================================================================\n",
      "\u001b[1;31m ---------------------------------------------------\u001b[0m\n",
      "Optimization terminated successfully.\n",
      "         Current function value: 0.397237\n",
      "         Iterations 7\n",
      "                           Logit Regression Results                           \n",
      "==============================================================================\n",
      "Dep. Variable:                 target   No. Observations:                 3633\n",
      "Model:                          Logit   Df Residuals:                     3623\n",
      "Method:                           MLE   Df Model:                            9\n",
      "Date:                Fri, 10 Apr 2020   Pseudo R-squ.:                  0.3672\n",
      "Time:                        09:41:36   Log-Likelihood:                -1443.2\n",
      "converged:                       True   LL-Null:                       -2280.8\n",
      "Covariance Type:            nonrobust   LLR p-value:                     0.000\n",
      "==============================================================================\n",
      "                 coef    std err          z      P>|z|      [0.025      0.975]\n",
      "------------------------------------------------------------------------------\n",
      "const         -0.7173      0.048    -15.052      0.000      -0.811      -0.624\n",
      "v5             0.9837      0.069     14.186      0.000       0.848       1.120\n",
      "v23            0.1057      0.063      1.687      0.092      -0.017       0.228\n",
      "v21            0.2058      0.064      3.199      0.001       0.080       0.332\n",
      "v25            0.4498      0.055      8.106      0.000       0.341       0.559\n",
      "v9             0.8934      0.070     12.823      0.000       0.757       1.030\n",
      "v24            0.2105      0.066      3.203      0.001       0.082       0.339\n",
      "v29            0.6561      0.088      7.422      0.000       0.483       0.829\n",
      "v33            0.6348      0.096      6.638      0.000       0.447       0.822\n",
      "v6            -0.9160      0.195     -4.688      0.000      -1.299      -0.533\n",
      "==============================================================================\n",
      "\u001b[1;31m ---------------------------------------------------\u001b[0m\n",
      "Optimization terminated successfully.\n",
      "         Current function value: 0.396834\n",
      "         Iterations 7\n",
      "                           Logit Regression Results                           \n",
      "==============================================================================\n",
      "Dep. Variable:                 target   No. Observations:                 3633\n",
      "Model:                          Logit   Df Residuals:                     3622\n",
      "Method:                           MLE   Df Model:                           10\n",
      "Date:                Fri, 10 Apr 2020   Pseudo R-squ.:                  0.3679\n",
      "Time:                        09:41:36   Log-Likelihood:                -1441.7\n",
      "converged:                       True   LL-Null:                       -2280.8\n",
      "Covariance Type:            nonrobust   LLR p-value:                     0.000\n",
      "==============================================================================\n",
      "                 coef    std err          z      P>|z|      [0.025      0.975]\n",
      "------------------------------------------------------------------------------\n",
      "const         -0.7168      0.048    -15.036      0.000      -0.810      -0.623\n",
      "v5             0.9770      0.069     14.073      0.000       0.841       1.113\n",
      "v23            0.1071      0.063      1.709      0.087      -0.016       0.230\n",
      "v21            0.1966      0.065      3.045      0.002       0.070       0.323\n",
      "v25            0.4572      0.056      8.204      0.000       0.348       0.566\n",
      "v9             0.8961      0.070     12.848      0.000       0.759       1.033\n",
      "v24            0.2129      0.066      3.237      0.001       0.084       0.342\n",
      "v29            0.6262      0.090      6.949      0.000       0.450       0.803\n",
      "v33            0.6353      0.096      6.642      0.000       0.448       0.823\n",
      "v6            -0.9312      0.196     -4.760      0.000      -1.315      -0.548\n",
      "v35            0.3383      0.197      1.715      0.086      -0.048       0.725\n",
      "==============================================================================\n",
      "\u001b[1;31m ---------------------------------------------------\u001b[0m\n",
      "Optimization terminated successfully.\n",
      "         Current function value: 0.397194\n",
      "         Iterations 7\n",
      "                           Logit Regression Results                           \n",
      "==============================================================================\n",
      "Dep. Variable:                 target   No. Observations:                 3633\n",
      "Model:                          Logit   Df Residuals:                     3622\n",
      "Method:                           MLE   Df Model:                           10\n",
      "Date:                Fri, 10 Apr 2020   Pseudo R-squ.:                  0.3673\n",
      "Time:                        09:41:36   Log-Likelihood:                -1443.0\n",
      "converged:                       True   LL-Null:                       -2280.8\n",
      "Covariance Type:            nonrobust   LLR p-value:                     0.000\n",
      "==============================================================================\n",
      "                 coef    std err          z      P>|z|      [0.025      0.975]\n",
      "------------------------------------------------------------------------------\n",
      "const         -0.7171      0.048    -15.047      0.000      -0.810      -0.624\n",
      "v5             0.9849      0.069     14.190      0.000       0.849       1.121\n",
      "v23            0.1059      0.063      1.690      0.091      -0.017       0.229\n",
      "v21            0.2054      0.064      3.194      0.001       0.079       0.332\n",
      "v25            0.4501      0.055      8.110      0.000       0.341       0.559\n",
      "v9             0.8942      0.070     12.824      0.000       0.758       1.031\n",
      "v24            0.2104      0.066      3.201      0.001       0.082       0.339\n",
      "v29            0.6482      0.089      7.253      0.000       0.473       0.823\n",
      "v33            0.6267      0.097      6.486      0.000       0.437       0.816\n",
      "v6            -0.9250      0.196     -4.717      0.000      -1.309      -0.541\n",
      "v27            0.1603      0.287      0.559      0.576      -0.402       0.723\n",
      "==============================================================================\n",
      "\u001b[1;31m ---------------------------------------------------\u001b[0m\n",
      "\u001b[1;31m 显著性筛选的变量:\u001b[0m ['v5', 'v23', 'v21', 'v25', 'v9', 'v24', 'v29', 'v33', 'v6']\n",
      "\u001b[1;31m 显著性筛选删除的变量:\u001b[0m ['v2', 'v35', 'v27']\n",
      "\u001b[1;31m 显著性筛选完成--------------------------\u001b[0m\n"
     ]
    }
   ],
   "source": [
    "# 3.8 显著性筛选，前向逐步回归\n",
    "pvalue_select_col,pvalue_delete_col = self_f_2.forward_pvalue_delete(X1,y)\n",
    "\n",
    "print(\"\\033[1;31m 显著性筛选的变量:\\033[0m\",pvalue_select_col)\n",
    "print(\"\\033[1;31m 显著性筛选删除的变量:\\033[0m\",pvalue_delete_col)\n",
    "print('\\033[1;31m 显著性筛选完成--------------------------\\033[0m')\n"
   ]
  },
  {
   "cell_type": "markdown",
   "metadata": {},
   "source": [
    "### 剔除系数和其他系数符号不一致的特征\n",
    "**这里之所以没有说系数为正或者为负，是因为如果计算woe时为坏比好，那么逻辑回归系数就为正，如果计算woe时为好比坏，那么逻辑回归系数就为负**"
   ]
  },
  {
   "cell_type": "code",
   "execution_count": 25,
   "metadata": {},
   "outputs": [
    {
     "name": "stdout",
     "output_type": "stream",
     "text": [
      "\u001b[1;31m 删除系数为负的特征: \u001b[0m ['v6']\n",
      "\u001b[1;31m 最终入模特征: \u001b[0m ['v5', 'v23', 'v21', 'v25', 'v9', 'v24', 'v29', 'v33']\n"
     ]
    }
   ],
   "source": [
    "# 剔除系数为负数的特征\n",
    "X2 = X1.loc[:,pvalue_select_col]\n",
    "# X2 = X1 #不做显著性筛选时\n",
    "coef_select_col,coef_delete_col = self_f_2.forward_delete_coef(X2,y)\n",
    "\n",
    "print(\"\\033[1;31m 删除系数为负的特征: \\033[0m\",coef_delete_col)\n",
    "print(\"\\033[1;31m 最终入模特征: \\033[0m\",coef_select_col)"
   ]
  },
  {
   "cell_type": "markdown",
   "metadata": {},
   "source": [
    "## 模型训练和评价"
   ]
  },
  {
   "cell_type": "code",
   "execution_count": 26,
   "metadata": {
    "scrolled": true
   },
   "outputs": [
    {
     "name": "stdout",
     "output_type": "stream",
     "text": [
      "\u001b[1;31m 截距：\u001b[0m -0.736030043744375\n",
      "\u001b[1;31m 特征系数： \u001b[0m {'v5': 0.7919303456118232, 'v23': 0.12330636280120848, 'v21': 0.20971723627613428, 'v25': 0.46069167497504304, 'v9': 0.9252733139242901, 'v24': 0.23907185552286095, 'v29': 0.6503526447438116, 'v33': 0.6318545025504799}\n",
      "\u001b[1;31m 建模完成----------------------------------------\n",
      " \u001b[0m\n",
      "\u001b[1;31m 训练集好坏样本数：\n",
      " \u001b[0m 0    2466\n",
      "1    1167\n",
      "Name: target, dtype: int64\n",
      "\u001b[1;31m 训练集的AUC，KS: \u001b[0m\n"
     ]
    },
    {
     "data": {
      "image/png": "[encoded data removed]",
      "text/plain": [
       "<Figure size 432x288 with 1 Axes>"
      ]
     },
     "metadata": {
      "needs_background": "light"
     },
     "output_type": "display_data"
    },
    {
     "data": {
      "image/png": "[encoded data removed]",
      "text/plain": [
       "<Figure size 432x288 with 1 Axes>"
      ]
     },
     "metadata": {
      "needs_background": "light"
     },
     "output_type": "display_data"
    }
   ],
   "source": [
    "# LR建模\n",
    "X3 = X2.loc[:,coef_select_col]\n",
    "# x_train,x_valid,y_train,y_valid = train_test_split(X3,y,test_size=0.2,random_state=0)\n",
    "\n",
    "#当没有验证集时\n",
    "x_train=X3\n",
    "y_train=y\n",
    "# 保存训练集和验证集的index\n",
    "train_index = x_train.index.tolist()\n",
    "# valid_index = x_valid.index.tolist()\n",
    "\n",
    "# show(X3,maxBytes=0, columnDefs=[{\"width\": \"200px\", \"targets\": \"_all\"}])\n",
    "\n",
    "lr_model = LogisticRegression(C=1.0).fit(x_train,y_train)\n",
    "coe_dict = {x:y for x,y in zip(x_train.columns,lr_model.coef_[0])}\n",
    "print(\"\\033[1;31m 截距：\\033[0m\",lr_model.intercept_[0])\n",
    "print(\"\\033[1;31m 特征系数： \\033[0m\",coe_dict)\n",
    "print('\\033[1;31m 建模完成----------------------------------------\\n \\033[0m')\n",
    "\n",
    "print(\"\\033[1;31m 训练集好坏样本数：\\n \\033[0m\",y_train.value_counts())\n",
    "# print(\"\\033[1;31m 验证集好坏样本数：\\n \\033[0m\",y_valid.value_counts())\n",
    "\n",
    "#绘制训练集的auc，ks\n",
    "train_pre = lr_model.predict_proba(x_train)[:,1]\n",
    "print('\\033[1;31m 训练集的AUC，KS: \\033[0m')\n",
    "self_f_2.plot_roc(y_train,train_pre)\n",
    "self_f_2.plot_model_ks(y_train,train_pre)\n",
    "\n",
    "# 绘制验证集的auc，ks\n",
    "# valid_pre = lr_model.predict_proba(x_valid)[:,1]\n",
    "# print('\\033[1;31m 验证集的AUC，KS: \\033[0m')\n",
    "# self_f_2.plot_roc(y_valid,valid_pre)\n",
    "# self_f_2.plot_model_ks(y_valid,valid_pre)  "
   ]
  },
  {
   "cell_type": "code",
   "execution_count": 27,
   "metadata": {},
   "outputs": [
    {
     "name": "stdout",
     "output_type": "stream",
     "text": [
      "\u001b[1;31m 时间外样本集好坏样本数 \u001b[0m\n",
      "0    1030\n",
      "1     237\n",
      "Name: target, dtype: int64\n",
      "\u001b[1;31m 时间外样本集的AUC，KS \u001b[0m\n"
     ]
    },
    {
     "data": {
      "image/png": "[encoded data removed]",
      "text/plain": [
       "<Figure size 432x288 with 1 Axes>"
      ]
     },
     "metadata": {
      "needs_background": "light"
     },
     "output_type": "display_data"
    },
    {
     "data": {
      "image/png": "[encoded data removed]",
      "text/plain": [
       "<Figure size 432x288 with 1 Axes>"
      ]
     },
     "metadata": {
      "needs_background": "light"
     },
     "output_type": "display_data"
    }
   ],
   "source": [
    "woe_map_df2 = woe_map_df[woe_map_df.col.isin(coef_select_col)].reset_index(drop=True)\n",
    "# 绘制测试集的auc，ks\n",
    "oot = oot_data.loc[:,coef_select_col+[target]].reset_index(drop=True)\n",
    "oot_woe = self_f_2.var_mapping(oot,woe_map_df2,'woe',target)\n",
    "x_oot = oot_woe.drop([target],axis=1)\n",
    "y_oot = oot_woe[target]\n",
    "oot_pre = lr_model.predict_proba(x_oot)[:,1]\n",
    "\n",
    "print(\"\\033[1;31m 时间外样本集好坏样本数 \\033[0m\")\n",
    "print(y_oot.value_counts())\n",
    "\n",
    "print('\\033[1;31m 时间外样本集的AUC，KS \\033[0m')\n",
    "self_f_2.plot_roc(y_oot,oot_pre)\n",
    "self_f_2.plot_model_ks(y_oot,oot_pre)"
   ]
  },
  {
   "cell_type": "markdown",
   "metadata": {},
   "source": [
    "## 分数映射&分数分布"
   ]
  },
  {
   "cell_type": "markdown",
   "metadata": {},
   "source": [
    "### 分数刻度&各入模变量相应分箱得分\n",
    "\n",
    "- 分数和违约几率对应的分数映射关系为<font color=#D2691E >$ score=A-B*log(odds) $ (odds=p/1-p,p为违约概率，$log(odds)=B0+B1X+...BnX)$</font>\n",
    "\n",
    "- 基于以下2个假设可以计算出A和B\n",
    "\n",
    "\n",
    "- 分数越高用户越好；"
   ]
  },
  {
   "cell_type": "code",
   "execution_count": 28,
   "metadata": {
    "scrolled": true
   },
   "outputs": [
    {
     "name": "stdout",
     "output_type": "stream",
     "text": [
      "\u001b[1;31m 评分卡刻度 \u001b[0m\n"
     ]
    },
    {
     "data": {
      "text/html": [
       "<div><table id=\"29a05789-f741-4557-8f3d-a711b90d3edd\" class=\"display nowrap\"><thead>\n",
       "    <tr style=\"text-align: right;\">\n",
       "      \n",
       "      <th>type</th>\n",
       "      <th>value</th>\n",
       "    </tr>\n",
       "  </thead></table>\n",
       "<script type=\"text/javascript\">\n",
       "require([\"datatables\"], function (datatables) {\n",
       "    $(document).ready(function () {        \n",
       "        var dt_args = {\"columnDefs\": [{\"width\": \"150px\", \"targets\": \"_all\"}], \"lengthMenu\": [10, 10, 100, 200, 500, 1000, 2000, 5000], \"paging\": false, \"data\": [[\"A\", 650.0], [\"B\", 43.280851], [\"base_score\", 681.856007]]};\n",
       "        dt_args = eval_functions(dt_args);\n",
       "        table = $('#29a05789-f741-4557-8f3d-a711b90d3edd').DataTable(dt_args);\n",
       "    });\n",
       "})\n",
       "</script>\n",
       "</div>\n"
      ],
      "text/plain": [
       "<IPython.core.display.HTML object>"
      ]
     },
     "metadata": {},
     "output_type": "display_data"
    },
    {
     "name": "stdout",
     "output_type": "stream",
     "text": [
      "\u001b[1;31m 变量各分箱对应的分数 \u001b[0m\n",
      "\n"
     ]
    },
    {
     "data": {
      "text/html": [
       "<div><table id=\"018c58fa-dcc2-41f8-96a9-0902940b4abb\" class=\"display nowrap\"><thead>\n",
       "    <tr style=\"text-align: right;\">\n",
       "      \n",
       "      <th>col</th>\n",
       "      <th>bins</th>\n",
       "      <th>IV</th>\n",
       "      <th>score</th>\n",
       "      <th>coe</th>\n",
       "      <th>woe</th>\n",
       "      <th>total</th>\n",
       "      <th>totalrate</th>\n",
       "      <th>bad</th>\n",
       "      <th>badrate</th>\n",
       "      <th>good</th>\n",
       "      <th>goodrate</th>\n",
       "      <th>badattr</th>\n",
       "      <th>goodattr</th>\n",
       "      <th>bin_iv</th>\n",
       "      <th>min_bin</th>\n",
       "      <th>max_bin</th>\n",
       "      <th>fuzhu</th>\n",
       "    </tr>\n",
       "  </thead></table>\n",
       "<script type=\"text/javascript\">\n",
       "require([\"datatables\"], function (datatables) {\n",
       "    $(document).ready(function () {        \n",
       "        var dt_args = {\"columnDefs\": [{\"width\": \"150px\", \"targets\": \"_all\"}], \"lengthMenu\": [10, 10, 100, 200, 500, 1000, 2000, 5000], \"data\": [[\"v5\", \"(-inf, 5.5]\", 1.12002, 39.0, 0.7919, -1.138352, 1656, 0.455822, 218, 0.131643, 1438, 0.868357, 0.186804, 0.583131, 0.45116, \"-inf\", \"5.5\", 9], [\"v5\", \"(5.5, 13.5]\", 1.12002, 3.0, 0.7919, -0.089025, 940, 0.258739, 284, 0.302128, 656, 0.697872, 0.243359, 0.266018, 0.002017, \"5.5\", \"13.5\", 10], [\"v5\", \"(13.5, 25.5]\", 1.12002, -29.0, 0.7919, 0.860031, 519, 0.142857, 274, 0.527938, 245, 0.472062, 0.23479, 0.099351, 0.116482, \"13.5\", \"25.5\", 11], [\"v5\", \"(25.5, 35.5]\", 1.12002, -53.0, 0.7919, 1.546669, 232, 0.063859, 160, 0.689655, 72, 0.310345, 0.137104, 0.029197, 0.166896, \"25.5\", \"35.5\", 12], [\"v5\", \"(35.5, inf]\", 1.12002, -75.0, 0.7919, 2.183246, 286, 0.078723, 231, 0.807692, 55, 0.192308, 0.197943, 0.022303, 0.383466, \"35.5\", \"inf\", 13], [\"v23\", \"(-inf, -999.0]\", 1.022744, 4.0, 0.1233, -0.808479, 201, 0.055326, 35, 0.174129, 166, 0.825871, 0.029991, 0.067315, 0.030176, \"-inf\", \"-999.0\", 14], [\"v23\", \"(-999.0, 447.5]\", 1.022744, -9.0, 0.1233, 1.704658, 562, 0.154693, 406, 0.72242, 156, 0.27758, 0.347901, 0.06326, 0.485214, \"-999.0\", \"447.5\", 15], [\"v23\", \"(447.5, 549.5]\", 1.022744, -5.0, 0.1233, 0.85549, 429, 0.118084, 226, 0.526807, 203, 0.473193, 0.193659, 0.08232, 0.09525, \"447.5\", \"549.5\", 16], [\"v23\", \"(549.5, 687.5]\", 1.022744, 1.0, 0.1233, -0.180617, 1349, 0.371318, 382, 0.283173, 967, 0.716827, 0.327335, 0.392133, 0.011704, \"549.5\", \"687.5\", 17], [\"v23\", \"(687.5, inf]\", 1.022744, 7.0, 0.1233, -1.362566, 1092, 0.300578, 118, 0.108059, 974, 0.891941, 0.101114, 0.394972, 0.4004, \"687.5\", \"inf\", 18], [\"v21\", \"(-inf, -999.0]\", 0.833021, 9.0, 0.2097, -1.006327, 278, 0.076521, 41, 0.147482, 237, 0.852518, 0.035133, 0.096107, 0.06136, \"-inf\", \"-999.0\", 19], [\"v21\", \"(-999.0, 49.5]\", 0.833021, 11.0, 0.2097, -1.209266, 897, 0.246903, 111, 0.123746, 786, 0.876254, 0.095116, 0.318735, 0.270415, \"-999.0\", \"49.5\", 20], [\"v21\", \"(49.5, 66.5]\", 0.833021, 3.0, 0.2097, -0.367546, 1175, 0.323424, 290, 0.246809, 885, 0.753191, 0.2485, 0.358881, 0.04057, \"49.5\", \"66.5\", 21], [\"v21\", \"(66.5, 83.5]\", 0.833021, -7.0, 0.2097, 0.792707, 943, 0.259565, 482, 0.511135, 461, 0.488865, 0.413025, 0.186942, 0.179217, \"66.5\", \"83.5\", 22], [\"v21\", \"(83.5, inf]\", 0.833021, -15.0, 0.2097, 1.666512, 340, 0.093587, 243, 0.714706, 97, 0.285294, 0.208226, 0.039335, 0.281459, \"83.5\", \"inf\", 23], [\"v25\", \"(-inf, 25.5]\", 0.796799, -31.0, 0.4607, 1.569651, 514, 0.141481, 357, 0.694553, 157, 0.305447, 0.305913, 0.063666, 0.380243, \"-inf\", \"25.5\", 24], [\"v25\", \"(25.5, 35.5]\", 0.796799, -13.0, 0.4607, 0.661833, 510, 0.14038, 244, 0.478431, 266, 0.521569, 0.209083, 0.107867, 0.066988, \"25.5\", \"35.5\", 25], [\"v25\", \"(35.5, 40.5]\", 0.796799, -5.0, 0.4607, 0.229553, 343, 0.094412, 128, 0.373178, 215, 0.626822, 0.109683, 0.087186, 0.005164, \"35.5\", \"40.5\", 26], [\"v25\", \"(40.5, 56.5]\", 0.796799, 6.0, 0.4607, -0.308952, 1113, 0.306358, 287, 0.257862, 826, 0.742138, 0.24593, 0.334955, 0.027505, \"40.5\", \"56.5\", 27], [\"v25\", \"(56.5, inf]\", 0.796799, 23.0, 0.4607, -1.144312, 1153, 0.317369, 151, 0.130963, 1002, 0.869037, 0.129392, 0.406326, 0.3169, \"56.5\", \"inf\", 28], [\"v9\", \"A\", 0.630763, 65.0, 0.9253, -1.626745, 658, 0.181118, 56, 0.085106, 602, 0.914894, 0.047986, 0.24412, 0.31906, \"A\", \"A\", 0], [\"v9\", \"B\", 0.630763, 20.0, 0.9253, -0.492481, 1110, 0.305533, 249, 0.224324, 861, 0.775676, 0.213368, 0.349148, 0.066869, \"B\", \"B\", 1], [\"v9\", \"C\", 0.630763, -1.0, 0.9253, 0.016914, 317, 0.087256, 103, 0.324921, 214, 0.675079, 0.08826, 0.08678, 2.5e-05, \"C\", \"C\", 2], [\"v9\", \"D\", 0.630763, -17.0, 0.9253, 0.43345, 346, 0.095238, 146, 0.421965, 200, 0.578035, 0.125107, 0.081103, 0.019074, \"D\", \"D\", 3], [\"v9\", \"E\", 0.630763, -32.0, 0.9253, 0.7881, 1202, 0.330856, 613, 0.509983, 589, 0.490017, 0.525278, 0.238848, 0.225736, \"E\", \"E\", 4], [\"v24\", \"(-inf, -999.0]\", 0.629105, -3.0, 0.2391, 0.266323, 275, 0.075695, 105, 0.381818, 170, 0.618182, 0.089974, 0.068938, 0.005603, \"-inf\", \"-999.0\", 29], [\"v24\", \"(-999.0, 588.5]\", 0.629105, -19.0, 0.2391, 1.818602, 376, 0.103496, 280, 0.744681, 96, 0.255319, 0.239931, 0.038929, 0.365543, \"-999.0\", \"588.5\", 30], [\"v24\", \"(588.5, 613.5]\", 0.629105, -6.0, 0.2391, 0.593185, 375, 0.10322, 173, 0.461333, 202, 0.538667, 0.148243, 0.081914, 0.039346, \"588.5\", \"613.5\", 31], [\"v24\", \"(613.5, 671.5]\", 0.629105, 2.0, 0.2391, -0.186455, 1649, 0.453895, 465, 0.281989, 1184, 0.718011, 0.398458, 0.48013, 0.015228, \"613.5\", \"671.5\", 32], [\"v24\", \"(671.5, inf]\", 0.629105, 10.0, 0.2391, -0.983986, 958, 0.263694, 144, 0.150313, 814, 0.849687, 0.123393, 0.330089, 0.203386, \"671.5\", \"inf\", 33], [\"v29\", \"-999.0\", 0.289665, 5.0, 0.6504, -0.181009, 763, 0.210019, 216, 0.283093, 547, 0.716907, 0.18509, 0.221817, 0.006648, \"-999.0\", \"-999.0\", 5], [\"v29\", \"0.0\", 0.289665, -12.0, 0.6504, 0.432943, 1868, 0.514176, 788, 0.421842, 1080, 0.578158, 0.675236, 0.437956, 0.102728, \"0.0\", \"0.0\", 6], [\"v29\", \"1.0\", 0.289665, 25.0, 0.6504, -0.895261, 1000, 0.275255, 162, 0.162, 838, 0.838, 0.138817, 0.339822, 0.179951, \"1.0\", \"1.0\", 7], [\"v29\", \"2.0\", 0.289665, -21.0, 0.6504, 0.748161, 2, 0.000551, 1, 0.5, 1, 0.5, 0.000857, 0.000406, 0.000338, \"2.0\", \"2.0\", 8], [\"v33\", \"(-inf, -999.0]\", 0.24274, 6.0, 0.6319, -0.212913, 947, 0.260666, 262, 0.276663, 685, 0.723337, 0.224507, 0.277778, 0.011342, \"-inf\", \"-999.0\", 34], [\"v33\", \"(-999.0, 2.5]\", 0.24274, 21.0, 0.6319, -0.759905, 767, 0.21112, 139, 0.181226, 628, 0.818774, 0.119109, 0.254663, 0.103009, \"-999.0\", \"2.5\", 35], [\"v33\", \"(2.5, 4.5]\", 0.24274, 1.0, 0.6319, -0.036314, 584, 0.160749, 183, 0.313356, 401, 0.686644, 0.156812, 0.162612, 0.000211, \"2.5\", \"4.5\", 36], [\"v33\", \"(4.5, 8.5]\", 0.24274, -10.0, 0.6319, 0.35128, 1067, 0.293697, 429, 0.402062, 638, 0.597938, 0.367609, 0.258719, 0.038251, \"4.5\", \"8.5\", 37], [\"v33\", \"(8.5, inf]\", 0.24274, -29.0, 0.6319, 1.048915, 268, 0.073768, 154, 0.574627, 114, 0.425373, 0.131962, 0.046229, 0.089927, \"8.5\", \"inf\", 38]]};\n",
       "        dt_args = eval_functions(dt_args);\n",
       "        table = $('#018c58fa-dcc2-41f8-96a9-0902940b4abb').DataTable(dt_args);\n",
       "    });\n",
       "})\n",
       "</script>\n",
       "</div>\n"
      ],
      "text/plain": [
       "<IPython.core.display.HTML object>"
      ]
     },
     "metadata": {},
     "output_type": "display_data"
    },
    {
     "name": "stdout",
     "output_type": "stream",
     "text": [
      "Index(['col', 'bins', 'IV', 'score', 'coe', 'woe', 'total', 'totalrate', 'bad',\n",
      "       'badrate', 'good', 'goodrate', 'badattr', 'goodattr', 'bin_iv',\n",
      "       'min_bin', 'max_bin', 'fuzhu'],\n",
      "      dtype='object')\n"
     ]
    }
   ],
   "source": [
    "# 评分转换\n",
    "A,B,base_score = self_f_2.cal_scale(650,1,30,lr_model)\n",
    "dict_score_scale={\"A\":A,\"B\":B,\"base_score\":base_score}\n",
    "df_score_scale=pd.DataFrame(pd.Series(dict_score_scale),columns=[\"value\"])\n",
    "df_score_scale=df_score_scale.reset_index().rename(columns={'index':'type'})\n",
    "\n",
    "print(\"\\033[1;31m 评分卡刻度 \\033[0m\")\n",
    "show(df_score_scale)\n",
    "# df_score_scale.to_excel(\"df_score_scale.xlsx\")\n",
    "\n",
    "score_map_df  = self_f_2.get_score_map(woe_map_df2,coe_dict,B)\n",
    "print(\"\\033[1;31m 变量各分箱对应的分数 \\033[0m\\n\")\n",
    "\n",
    "show(score_map_df)\n",
    "print(score_map_df.columns)\n",
    "score_map_df.to_excel(\"score_map_df.xlsx\")"
   ]
  },
  {
   "cell_type": "markdown",
   "metadata": {},
   "source": [
    "### 训练集&验证集&时间外样本分数转换"
   ]
  },
  {
   "cell_type": "code",
   "execution_count": 29,
   "metadata": {},
   "outputs": [
    {
     "name": "stdout",
     "output_type": "stream",
     "text": [
      "\u001b[1;31m 评分转换完成--------------------------------------- \u001b[0m\n"
     ]
    }
   ],
   "source": [
    "# 分数映射\n",
    "#训练集\n",
    "train2_new=pd.merge(train_data,train_id,left_index=True,right_index=True)#之所以在这步就进行合并，将用户唯一识别ID识别出来，\n",
    "#因为在下一步由于是针对原始训练集进行来训练集和验证集抽样，进行索引重制时，会更新原有索引，无法通过索引关联，嫁给你用户唯一识别码合并进来\n",
    "# print(train2.shape[0])\n",
    "# print(train2.columns)\n",
    "# print(train2_new.shape[0])\n",
    "# print(train2_new.columns)\n",
    "# show(train2_new)\n",
    "\n",
    "train_data_2 = train2_new.iloc[train_index,:].loc[:,[key_name]+coef_select_col+[target]].reset_index(drop=True)\n",
    "\n",
    "train_score = self_f_2.var_mapping(train_data_2,score_map_df,'score',target,key_name=key_name)\n",
    "\n",
    "train_score['final_score'] = base_score\n",
    "for col in coef_select_col:\n",
    "    train_score['final_score']+=train_score[col]\n",
    "train_score['final_score'] = train_score['final_score'].map(lambda x:int(x))\n",
    "# train_score_new=pd.merge(train_id,train_score,left_index=True,right_index=True)\n",
    "train_score.to_excel(\"train_score.xlsx\")\n",
    "\n",
    "#验证集\n",
    "# valid_data = train2_new.iloc[valid_index,:].loc[:,[key_name]+coef_select_col+[target]].reset_index(drop=True)\n",
    "# valid_score = self_f_2.var_mapping(valid_data,score_map_df,'score',target)\n",
    "# valid_score['final_score'] = base_score\n",
    "# for col in coef_select_col:\n",
    "#     valid_score['final_score']+=valid_score[col]\n",
    "# valid_score['final_score'] = valid_score['final_score'].map(lambda x:int(x))\n",
    "# valid_score.to_excel(\"valid_score.xlsx\")\n",
    "\n",
    "oot_new=oot_data.loc[:,[key_name]+coef_select_col+[target]].reset_index(drop=True)\n",
    "oot_score = self_f_2.var_mapping(oot_new,score_map_df,'score',target,key_name=key_name)\n",
    "oot_score['final_score'] = base_score\n",
    "for col in coef_select_col:\n",
    "    oot_score['final_score']+=oot_score[col]\n",
    "oot_score['final_score'] = oot_score['final_score'].map(lambda x:int(x))\n",
    "oot_score.to_excel(\"oot_score.xlsx\")\n",
    "\n",
    "print('\\033[1;31m 评分转换完成--------------------------------------- \\033[0m')"
   ]
  },
  {
   "cell_type": "markdown",
   "metadata": {},
   "source": [
    "### 训练集&验证集&时间外样本分数分箱分布"
   ]
  },
  {
   "cell_type": "code",
   "execution_count": 30,
   "metadata": {},
   "outputs": [
    {
     "name": "stdout",
     "output_type": "stream",
     "text": [
      "\u001b[1;31m 训练集评分分箱分布\u001b[0m\n"
     ]
    },
    {
     "data": {
      "text/html": [
       "<div><table id=\"e247bc17-e36e-4f4a-a2c3-716475d0f652\" class=\"display nowrap\"><thead>\n",
       "    <tr style=\"text-align: right;\">\n",
       "      <th></th>\n",
       "      <th>final_score</th>\n",
       "      <th>ks</th>\n",
       "      <th>pass_rate</th>\n",
       "      <th>total</th>\n",
       "      <th>totalrate</th>\n",
       "      <th>bad</th>\n",
       "      <th>badrate</th>\n",
       "      <th>good</th>\n",
       "      <th>goodrate</th>\n",
       "      <th>lj_bad</th>\n",
       "      <th>lj_bad_rate</th>\n",
       "      <th>lj_good</th>\n",
       "      <th>lj_good_rate</th>\n",
       "      <th>badattr</th>\n",
       "      <th>goodattr</th>\n",
       "    </tr>\n",
       "  </thead></table>\n",
       "<script type=\"text/javascript\">\n",
       "require([\"datatables\"], function (datatables) {\n",
       "    $(document).ready(function () {        \n",
       "        var dt_args = {\"columnDefs\": [{\"width\": \"90px\", \"targets\": \"_all\"}], \"lengthMenu\": [10, 10, 100, 200, 500, 1000, 2000, 5000], \"paging\": false, \"data\": [[0, \"(458.577, 501.3]\", \"3.35%\", \"98.84%\", 42, \"1.16%\", 40, \"95.24%\", 2, \"4.76%\", 40, \"3.43%\", 2, \"0.08%\", \"3.43%\", \"0.08%\"], [1, \"(501.3, 543.6]\", \"14.08%\", \"94.99%\", 140, \"3.85%\", 130, \"92.86%\", 10, \"7.14%\", 170, \"14.57%\", 12, \"0.49%\", \"11.14%\", \"0.41%\"], [2, \"(543.6, 585.9]\", \"30.60%\", \"88.47%\", 237, \"6.52%\", 207, \"87.34%\", 30, \"12.66%\", 377, \"32.31%\", 42, \"1.70%\", \"17.74%\", \"1.22%\"], [3, \"(585.9, 628.2]\", \"47.28%\", \"79.14%\", 339, \"9.33%\", 241, \"71.09%\", 98, \"28.91%\", 618, \"52.96%\", 140, \"5.68%\", \"20.65%\", \"3.97%\"], [4, \"(628.2, 670.5]\", \"60.37%\", \"65.48%\", 496, \"13.65%\", 263, \"53.02%\", 233, \"46.98%\", 881, \"75.49%\", 373, \"15.13%\", \"22.54%\", \"9.45%\"], [5, \"(670.5, 712.8]\", \"56.08%\", \"47.92%\", 638, \"17.56%\", 171, \"26.80%\", 467, \"73.20%\", 1052, \"90.15%\", 840, \"34.06%\", \"14.65%\", \"18.94%\"], [6, \"(712.8, 755.1]\", \"35.88%\", \"28.30%\", 713, \"19.63%\", 69, \"9.68%\", 644, \"90.32%\", 1121, \"96.06%\", 1484, \"60.18%\", \"5.91%\", \"26.12%\"], [7, \"(755.1, 797.4]\", \"16.11%\", \"12.22%\", 584, \"16.07%\", 31, \"5.31%\", 553, \"94.69%\", 1152, \"98.71%\", 2037, \"82.60%\", \"2.66%\", \"22.42%\"], [8, \"(797.4, 839.7]\", \"4.62%\", \"3.22%\", 327, \"9.00%\", 14, \"4.28%\", 313, \"95.72%\", 1166, \"99.91%\", 2350, \"95.30%\", \"1.20%\", \"12.69%\"], [9, \"(839.7, 882.0]\", \"0.00%\", \"0.00%\", 117, \"3.22%\", 1, \"0.85%\", 116, \"99.15%\", 1167, \"100.00%\", 2466, \"100.00%\", \"0.09%\", \"4.70%\"]]};\n",
       "        dt_args = eval_functions(dt_args);\n",
       "        table = $('#e247bc17-e36e-4f4a-a2c3-716475d0f652').DataTable(dt_args);\n",
       "    });\n",
       "})\n",
       "</script>\n",
       "</div>\n"
      ],
      "text/plain": [
       "<IPython.core.display.HTML object>"
      ]
     },
     "metadata": {},
     "output_type": "display_data"
    },
    {
     "name": "stdout",
     "output_type": "stream",
     "text": [
      "\u001b[1;31m 时间外验证集评分分箱分布\u001b[0m\n"
     ]
    },
    {
     "data": {
      "text/html": [
       "<div><table id=\"5ef080b8-f403-43f1-8461-20ac0230a7aa\" class=\"display nowrap\"><thead>\n",
       "    <tr style=\"text-align: right;\">\n",
       "      <th></th>\n",
       "      <th>final_score</th>\n",
       "      <th>ks</th>\n",
       "      <th>pass_rate</th>\n",
       "      <th>total</th>\n",
       "      <th>totalrate</th>\n",
       "      <th>bad</th>\n",
       "      <th>badrate</th>\n",
       "      <th>good</th>\n",
       "      <th>goodrate</th>\n",
       "      <th>lj_bad</th>\n",
       "      <th>lj_bad_rate</th>\n",
       "      <th>lj_good</th>\n",
       "      <th>lj_good_rate</th>\n",
       "      <th>badattr</th>\n",
       "      <th>goodattr</th>\n",
       "    </tr>\n",
       "  </thead></table>\n",
       "<script type=\"text/javascript\">\n",
       "require([\"datatables\"], function (datatables) {\n",
       "    $(document).ready(function () {        \n",
       "        var dt_args = {\"columnDefs\": [{\"width\": \"90px\", \"targets\": \"_all\"}], \"lengthMenu\": [10, 10, 100, 200, 500, 1000, 2000, 5000], \"paging\": false, \"data\": [[0, \"(476.595, 517.5]\", \"10.68%\", \"97.71%\", 29, \"2.29%\", 26, \"89.66%\", 3, \"10.34%\", 26, \"10.97%\", 3, \"0.29%\", \"10.97%\", \"0.29%\"], [1, \"(517.5, 558.0]\", \"27.62%\", \"93.76%\", 50, \"3.95%\", 42, \"84.00%\", 8, \"16.00%\", 68, \"28.69%\", 11, \"1.07%\", \"17.72%\", \"0.78%\"], [2, \"(558.0, 598.5]\", \"44.90%\", \"87.13%\", 84, \"6.63%\", 49, \"58.33%\", 35, \"41.67%\", 117, \"49.37%\", 46, \"4.47%\", \"20.68%\", \"3.40%\"], [3, \"(598.5, 639.0]\", \"55.37%\", \"78.77%\", 106, \"8.37%\", 40, \"37.74%\", 66, \"62.26%\", 157, \"66.24%\", 112, \"10.87%\", \"16.88%\", \"6.41%\"], [4, \"(639.0, 679.5]\", \"60.56%\", \"66.54%\", 155, \"12.23%\", 39, \"25.16%\", 116, \"74.84%\", 196, \"82.70%\", 228, \"22.14%\", \"16.46%\", \"11.26%\"], [5, \"(679.5, 720.0]\", \"49.07%\", \"47.91%\", 236, \"18.63%\", 22, \"9.32%\", 214, \"90.68%\", 218, \"91.98%\", 442, \"42.91%\", \"9.28%\", \"20.78%\"], [6, \"(720.0, 760.5]\", \"32.58%\", \"28.18%\", 250, \"19.73%\", 15, \"6.00%\", 235, \"94.00%\", 233, \"98.31%\", 677, \"65.73%\", \"6.33%\", \"22.82%\"], [7, \"(760.5, 801.0]\", \"15.44%\", \"12.55%\", 198, \"15.63%\", 4, \"2.02%\", 194, \"97.98%\", 237, \"100.00%\", 871, \"84.56%\", \"1.69%\", \"18.83%\"], [8, \"(801.0, 841.5]\", \"3.98%\", \"3.24%\", 118, \"9.31%\", 0, \"0.00%\", 118, \"100.00%\", 237, \"100.00%\", 989, \"96.02%\", \"0.00%\", \"11.46%\"], [9, \"(841.5, 882.0]\", \"0.00%\", \"0.00%\", 41, \"3.24%\", 0, \"0.00%\", 41, \"100.00%\", 237, \"100.00%\", 1030, \"100.00%\", \"0.00%\", \"3.98%\"]]};\n",
       "        dt_args = eval_functions(dt_args);\n",
       "        table = $('#5ef080b8-f403-43f1-8461-20ac0230a7aa').DataTable(dt_args);\n",
       "    });\n",
       "})\n",
       "</script>\n",
       "</div>\n"
      ],
      "text/plain": [
       "<IPython.core.display.HTML object>"
      ]
     },
     "metadata": {},
     "output_type": "display_data"
    },
    {
     "data": {
      "image/png": "[encoded data removed]",
      "text/plain": [
       "<Figure size 432x288 with 1 Axes>"
      ]
     },
     "metadata": {
      "needs_background": "light"
     },
     "output_type": "display_data"
    },
    {
     "data": {
      "image/png": "[encoded data removed]",
      "text/plain": [
       "<Figure size 432x288 with 1 Axes>"
      ]
     },
     "metadata": {
      "needs_background": "light"
     },
     "output_type": "display_data"
    }
   ],
   "source": [
    "#分数分布，默认按照以下分位点分箱[0.1,0.2,0.3,0.4,0.45,0.5,0.55,0.6,0.65,0.7,0.8,0.9,1.0]\n",
    "#训练集\n",
    "print(\"\\033[1;31m 训练集评分分箱分布\\033[0m\")\n",
    "train_score_distribution=self_f_2.score_distribution(train_score,group_type='cut',cut_cut_list=10)\n",
    "show(train_score_distribution,columnDefs=[{\"width\": \"90px\", \"targets\": \"_all\"}])\n",
    "\n",
    "#验证集\n",
    "# print(\"\\033[1;31m 验证集评分分箱分布\\033[0m\")\n",
    "# valid_score_distribution=self_f_2.score_distribution(valid_score,group_type=\"cut\",cut_cut_list=10)\n",
    "# show(valid_score_distribution,columnDefs=[{\"width\": \"90px\", \"targets\": \"_all\"}])\n",
    "\n",
    "#时间外验证集\n",
    "print(\"\\033[1;31m 时间外验证集评分分箱分布\\033[0m\")\n",
    "oot_score_distribution=self_f_2.score_distribution(oot_score,group_type=\"cut\",cut_cut_list=10)\n",
    "show(oot_score_distribution,columnDefs=[{\"width\": \"90px\", \"targets\": \"_all\"}])\n",
    "\n",
    "# 训练集的评分分布\n",
    "self_f_2.plot_score_hist(train_score, target, 'final_score','train_score',plt_size=(6,4))\n",
    "# 验证集的评分分布\n",
    "# self_f_2.plot_score_hist(valid_score, target, 'final_score','valid_score',plt_size=(6,4))\n",
    "# 测试集的评分分布\n",
    "self_f_2.plot_score_hist(oot_score, target, 'final_score','oot_score',plt_size=(6,4))"
   ]
  }
 ],
 "metadata": {
  "hide_input": false,
  "kernelspec": {
   "display_name": "Python 3",
   "language": "python",
   "name": "python3"
  },
  "language_info": {
   "codemirror_mode": {
    "name": "ipython",
    "version": 3
   },
   "file_extension": ".py",
   "mimetype": "text/x-python",
   "name": "python",
   "nbconvert_exporter": "python",
   "pygments_lexer": "ipython3",
   "version": "3.7.4"
  },
  "toc": {
   "base_numbering": 1,
   "nav_menu": {},
   "number_sections": true,
   "sideBar": true,
   "skip_h1_title": true,
   "title_cell": "Table of Contents",
   "title_sidebar": "Contents",
   "toc_cell": true,
   "toc_position": {
    "height": "calc(100% - 180px)",
    "left": "10px",
    "top": "150px",
    "width": "237px"
   },
   "toc_section_display": true,
   "toc_window_display": true
  }
 },
 "nbformat": 4,
 "nbformat_minor": 2
}

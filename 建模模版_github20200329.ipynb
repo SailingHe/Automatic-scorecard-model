{
 "cells": [
  {
   "cell_type": "markdown",
   "metadata": {
    "toc": true
   },
   "source": [
    "<h1>Table of Contents<span class=\"tocSkip\"></span></h1>\n",
    "<div class=\"toc\"><ul class=\"toc-item\"><li><span><a href=\"#数据读取&amp;基本情况查看\" data-toc-modified-id=\"数据读取&amp;基本情况查看-1\"><span class=\"toc-item-num\">1&nbsp;&nbsp;</span>数据读取&amp;基本情况查看</a></span></li><li><span><a href=\"#数据预处理\" data-toc-modified-id=\"数据预处理-2\"><span class=\"toc-item-num\">2&nbsp;&nbsp;</span>数据预处理</a></span><ul class=\"toc-item\"><li><span><a href=\"#异常值检测&amp;处理\" data-toc-modified-id=\"异常值检测&amp;处理-2.1\"><span class=\"toc-item-num\">2.1&nbsp;&nbsp;</span>异常值检测&amp;处理</a></span></li><li><span><a href=\"#特征衍生\" data-toc-modified-id=\"特征衍生-2.2\"><span class=\"toc-item-num\">2.2&nbsp;&nbsp;</span>特征衍生</a></span></li><li><span><a href=\"#缺失值检测&amp;处理\" data-toc-modified-id=\"缺失值检测&amp;处理-2.3\"><span class=\"toc-item-num\">2.3&nbsp;&nbsp;</span>缺失值检测&amp;处理</a></span><ul class=\"toc-item\"><li><span><a href=\"#缺失过多特征删除\" data-toc-modified-id=\"缺失过多特征删除-2.3.1\"><span class=\"toc-item-num\">2.3.1&nbsp;&nbsp;</span>缺失过多特征删除</a></span></li><li><span><a href=\"#直接填充默认缺失值\" data-toc-modified-id=\"直接填充默认缺失值-2.3.2\"><span class=\"toc-item-num\">2.3.2&nbsp;&nbsp;</span>直接填充默认缺失值</a></span></li></ul></li></ul></li><li><span><a href=\"#特征筛选\" data-toc-modified-id=\"特征筛选-3\"><span class=\"toc-item-num\">3&nbsp;&nbsp;</span>特征筛选</a></span><ul class=\"toc-item\"><li><span><a href=\"#psi筛选\" data-toc-modified-id=\"psi筛选-3.1\"><span class=\"toc-item-num\">3.1&nbsp;&nbsp;</span>psi筛选</a></span></li><li><span><a href=\"#随机森林筛选特征\" data-toc-modified-id=\"随机森林筛选特征-3.2\"><span class=\"toc-item-num\">3.2&nbsp;&nbsp;</span>随机森林筛选特征</a></span></li><li><span><a href=\"#iv筛选\" data-toc-modified-id=\"iv筛选-3.3\"><span class=\"toc-item-num\">3.3&nbsp;&nbsp;</span>iv筛选</a></span></li><li><span><a href=\"#人工去除偏事后特征\" data-toc-modified-id=\"人工去除偏事后特征-3.4\"><span class=\"toc-item-num\">3.4&nbsp;&nbsp;</span>人工去除偏事后特征</a></span></li><li><span><a href=\"#相关性筛选，多重共线性筛选\" data-toc-modified-id=\"相关性筛选，多重共线性筛选-3.5\"><span class=\"toc-item-num\">3.5&nbsp;&nbsp;</span>相关性筛选，多重共线性筛选</a></span></li><li><span><a href=\"#分箱调整\" data-toc-modified-id=\"分箱调整-3.6\"><span class=\"toc-item-num\">3.6&nbsp;&nbsp;</span>分箱调整</a></span></li><li><span><a href=\"#woe编码后相关性筛选\" data-toc-modified-id=\"woe编码后相关性筛选-3.7\"><span class=\"toc-item-num\">3.7&nbsp;&nbsp;</span>woe编码后相关性筛选</a></span></li><li><span><a href=\"#显著性筛选\" data-toc-modified-id=\"显著性筛选-3.8\"><span class=\"toc-item-num\">3.8&nbsp;&nbsp;</span>显著性筛选</a></span></li><li><span><a href=\"#剔除系数和其他系数符号不一致的特征\" data-toc-modified-id=\"剔除系数和其他系数符号不一致的特征-3.9\"><span class=\"toc-item-num\">3.9&nbsp;&nbsp;</span>剔除系数和其他系数符号不一致的特征</a></span></li></ul></li><li><span><a href=\"#模型训练和评价\" data-toc-modified-id=\"模型训练和评价-4\"><span class=\"toc-item-num\">4&nbsp;&nbsp;</span>模型训练和评价</a></span></li><li><span><a href=\"#分数映射&amp;分数分布\" data-toc-modified-id=\"分数映射&amp;分数分布-5\"><span class=\"toc-item-num\">5&nbsp;&nbsp;</span>分数映射&amp;分数分布</a></span><ul class=\"toc-item\"><li><span><a href=\"#分数刻度&amp;各入模变量相应分箱得分\" data-toc-modified-id=\"分数刻度&amp;各入模变量相应分箱得分-5.1\"><span class=\"toc-item-num\">5.1&nbsp;&nbsp;</span>分数刻度&amp;各入模变量相应分箱得分</a></span></li><li><span><a href=\"#训练集&amp;验证集&amp;时间外样本分数转换\" data-toc-modified-id=\"训练集&amp;验证集&amp;时间外样本分数转换-5.2\"><span class=\"toc-item-num\">5.2&nbsp;&nbsp;</span>训练集&amp;验证集&amp;时间外样本分数转换</a></span></li><li><span><a href=\"#训练集&amp;验证集&amp;时间外样本分数分箱分布\" data-toc-modified-id=\"训练集&amp;验证集&amp;时间外样本分数分箱分布-5.3\"><span class=\"toc-item-num\">5.3&nbsp;&nbsp;</span>训练集&amp;验证集&amp;时间外样本分数分箱分布</a></span></li></ul></li></ul></div>"
   ]
  },
  {
   "cell_type": "markdown",
   "metadata": {},
   "source": [
    "# 评分卡建模模板"
   ]
  },
  {
   "cell_type": "markdown",
   "metadata": {},
   "source": [
    "author:33\n",
    "\n",
    "date:2020/3/23"
   ]
  },
  {
   "cell_type": "code",
   "execution_count": 1,
   "metadata": {},
   "outputs": [
    {
     "data": {
      "text/html": [
       "<script>jQuery(function() {if (jQuery(\"body.notebook_app\").length == 0) { jQuery(\".input_area\").toggle(); jQuery(\".prompt\").toggle();}});</script>"
      ]
     },
     "metadata": {},
     "output_type": "display_data"
    },
    {
     "data": {
      "text/html": [
       "<style>#notebook div.output_subarea {max-width:100%;}</style>"
      ],
      "text/plain": [
       "<IPython.core.display.HTML object>"
      ]
     },
     "execution_count": 1,
     "metadata": {},
     "output_type": "execute_result"
    }
   ],
   "source": [
    "#隐藏导出html和pdf里面的代码\n",
    "#这个在你自己编辑notebook时不起作用，对导出结果中所有代码起作用：导出html或者pdf中是没有代码的\n",
    "from IPython.display import display\n",
    "from IPython.display import HTML\n",
    "import IPython.core.display as di\n",
    "di.display_html('<script>jQuery(function() {if (jQuery(\"body.notebook_app\").length == 0) { jQuery(\".input_area\").toggle(); jQuery(\".prompt\").toggle();}});</script>', raw=True)\n",
    "CSS = \"\"\"#notebook div.output_subarea {max-width:100%;}\"\"\" #changes output_subarea width to 100% (from 100% - 14ex)\n",
    "HTML('<style>{}</style>'.format(CSS))"
   ]
  },
  {
   "cell_type": "code",
   "execution_count": 2,
   "metadata": {},
   "outputs": [
    {
     "data": {
      "application/javascript": [
       "require.config({\n",
       "    paths: {\n",
       "        datatables: 'https://cdn.datatables.net/1.10.19/js/jquery.dataTables.min',\n",
       "    }\n",
       "});\n",
       "\n",
       "$('head').append('<link rel=\"stylesheet\" type=\"text/css\" \\\n",
       "                href = \"https://cdn.datatables.net/1.10.19/css/jquery.dataTables.min.css\" > ');\n",
       "\n",
       "$('head').append('<style> table td { text-overflow: ellipsis; overflow: hidden; } </style>');\n",
       "\n",
       "$('head').append(`<script>\n",
       "function eval_functions(map_or_text) {\n",
       "    if (typeof map_or_text === \"string\") {\n",
       "        if (map_or_text.startsWith(\"function\")) {\n",
       "            try {\n",
       "                // Note: parenthesis are required around the whole expression for eval to return a value!\n",
       "                // See https://stackoverflow.com/a/7399078/911298.\n",
       "                //\n",
       "                // eval(\"local_fun = \" + map_or_text) would fail because local_fun is not declared\n",
       "                // (using var, let or const would work, but it would only be declared in the local scope\n",
       "                // and therefore the value could not be retrieved).\n",
       "                const func = eval(\"(\" + map_or_text + \")\");\n",
       "                if (typeof func !== \"function\") {\n",
       "                    // Note: backquotes are super convenient!\n",
       "                    // https://developer.mozilla.org/en-US/docs/Web/JavaScript/Reference/Template_literals\n",
       "                    console.error(\"Evaluated expression \" + map_or_text + \" is not a function (type is \" + typeof func + \")\");\n",
       "                    return map_or_text;\n",
       "                }\n",
       "                // Return the function\n",
       "                return func;\n",
       "            } catch (e) {\n",
       "                // Make sure to print the error with a second argument to console.error().\n",
       "                console.error(\"itables was not able to parse \" + map_or_text, e);\n",
       "            }\n",
       "        }\n",
       "    } else if (typeof map_or_text === \"object\") {\n",
       "        if (map_or_text instanceof Array) {\n",
       "            // Note: \"var\" is now superseded by \"let\" and \"const\".\n",
       "            // https://medium.com/javascript-scene/javascript-es6-var-let-or-const-ba58b8dcde75\n",
       "            const result = [];\n",
       "            // Note: \"for of\" is the best way to iterate through an iterable.\n",
       "            // https://developer.mozilla.org/en-US/docs/Web/JavaScript/Reference/Statements/for...of\n",
       "            for (const item of map_or_text) {\n",
       "                result.push(eval_functions(item));\n",
       "            }\n",
       "            return result;\n",
       "\n",
       "            // Alternatively, more functional approach in one line:\n",
       "            // return map_or_text.map(eval_functions);\n",
       "        } else {\n",
       "            const result = {};\n",
       "            // Object.keys() is safer than \"for in\" because otherwise you might have keys\n",
       "            // that aren't defined in the object itself.\n",
       "            //\n",
       "            // See https://stackoverflow.com/a/684692/911298.\n",
       "            for (const item of Object.keys(map_or_text)) {\n",
       "                result[item] = eval_functions(map_or_text[item]);\n",
       "            }\n",
       "            return result;\n",
       "        }\n",
       "    }\n",
       "\n",
       "    return map_or_text;\n",
       "}\n",
       "</` + 'script>');"
      ],
      "text/plain": [
       "<IPython.core.display.Javascript object>"
      ]
     },
     "metadata": {},
     "output_type": "display_data"
    }
   ],
   "source": [
    "#包加载\n",
    "import sys\n",
    "import os ##显示工作路径，修改工作路径的包\n",
    "import numpy as np##是python数值计算基石，听过多种数据结构，算法以及设计计算所需的接口\n",
    "import pandas as pd##提供了高级数据结构和函数，dataframe,series\n",
    "import math \n",
    "import statsmodels.api as sm##统计分析包，方差分析，时间序列分析，非参数估计 import statsmodels.api as sm\n",
    "from statsmodels.stats.outliers_influence import variance_inflation_factor\n",
    "from sklearn import preprocessing\n",
    "from sklearn.model_selection import train_test_split\n",
    "from sklearn import metrics \n",
    "from sklearn.linear_model import LogisticRegression\n",
    "from sklearn.model_selection import cross_val_score\n",
    "from sklearn.tree import DecisionTreeClassifier,_tree\n",
    "from IPython.display import display\n",
    "import warnings\n",
    "warnings.filterwarnings('ignore')\n",
    "#可视化\n",
    "import matplotlib.pyplot as plt ##python里适用最广泛的 可视化库，与其他库良好整合\n",
    "import seaborn as sns ##此包是基于matplotlib的可视化包\n",
    "import itables.interactive#每一个表都是交互型的表\n",
    "from itables import show\n",
    "import itables.options as opt\n",
    "opt.classes = [\"display\", \"nowrap\"]\n",
    "opt.lengthMenu = [10, 10, 100, 200, 500, 1000, 2000, 5000]\n",
    "opt.maxBytes = 200000\n",
    "opt.maxColumns=100\n",
    "opt.columnDefs=[{\"width\": \"150px\", \"targets\": \"_all\"}]"
   ]
  },
  {
   "cell_type": "code",
   "execution_count": 3,
   "metadata": {},
   "outputs": [],
   "source": [
    "##导入自定义函数\n",
    "##当自定义函数和当前默认工作路径不一致时\n",
    "sys.path.append('') #自定义函数对应的路径\n",
    "import self_f_2  #加载自定义的函数py文件\n",
    "# sys.path\n",
    "warnings.filterwarnings('ignore')\n",
    "\n",
    "##当自定义函数和当前默认工作路径一致时\n",
    "# import FileWriteAbout  # 导入另一个文件\n",
    "# FileWriteAbout.writeList()  #调用其中的函数名\n",
    "\n",
    "# os.getcwd()\n",
    "# print(os.getcwd())#显示当前路径\n",
    "#os.chdir('')#更改路径，''里面为更改的路径"
   ]
  },
  {
   "cell_type": "markdown",
   "metadata": {},
   "source": [
    "## 数据读取&基本情况查看"
   ]
  },
  {
   "cell_type": "code",
   "execution_count": 4,
   "metadata": {},
   "outputs": [
    {
     "name": "stdout",
     "output_type": "stream",
     "text": [
      "<class 'pandas.core.frame.DataFrame'>\n",
      "RangeIndex: 5456 entries, 0 to 5455\n",
      "Data columns (total 38 columns):\n",
      "id        5456 non-null int64\n",
      "date      5456 non-null datetime64[ns]\n",
      "v1        4324 non-null float64\n",
      "v2        5456 non-null object\n",
      "v3        4255 non-null float64\n",
      "v4        5293 non-null float64\n",
      "v5        5440 non-null float64\n",
      "v6        3454 non-null float64\n",
      "v7        2467 non-null float64\n",
      "v8        5456 non-null int64\n",
      "v9        5456 non-null object\n",
      "v10       5456 non-null object\n",
      "v11       5098 non-null float64\n",
      "v12       4967 non-null float64\n",
      "v13       5213 non-null float64\n",
      "v14       5004 non-null float64\n",
      "v15       5070 non-null float64\n",
      "v16       2054 non-null float64\n",
      "v17       2054 non-null object\n",
      "v18       5176 non-null float64\n",
      "v19       5021 non-null float64\n",
      "v20       5155 non-null float64\n",
      "v21       5081 non-null float64\n",
      "v22       5205 non-null float64\n",
      "v23       5207 non-null float64\n",
      "v24       5034 non-null float64\n",
      "v25       5450 non-null float64\n",
      "v26       5456 non-null int64\n",
      "v27       4317 non-null float64\n",
      "v28       4424 non-null float64\n",
      "v29       4424 non-null float64\n",
      "v30       4424 non-null float64\n",
      "v31       4424 non-null float64\n",
      "v32       4427 non-null float64\n",
      "v33       3892 non-null float64\n",
      "v34       4324 non-null float64\n",
      "v35       5456 non-null int64\n",
      "target    5456 non-null int64\n",
      "dtypes: datetime64[ns](1), float64(28), int64(5), object(4)\n",
      "memory usage: 1.6+ MB\n",
      "None\n",
      "\u001b[1;31m连续型变量分布\n",
      " \u001b[0m\n"
     ]
    },
    {
     "data": {
      "text/html": [
       "<div><table id=\"a4d403e9-1810-485e-9a94-06f78eeef08f\" class=\"display nowrap\"><thead>\n",
       "    <tr style=\"text-align: right;\">\n",
       "      <th></th>\n",
       "      <th>id</th>\n",
       "      <th>v1</th>\n",
       "      <th>v3</th>\n",
       "      <th>v4</th>\n",
       "      <th>v5</th>\n",
       "      <th>v6</th>\n",
       "      <th>v7</th>\n",
       "      <th>v8</th>\n",
       "      <th>v11</th>\n",
       "      <th>v12</th>\n",
       "      <th>v13</th>\n",
       "      <th>v14</th>\n",
       "      <th>v15</th>\n",
       "      <th>v16</th>\n",
       "      <th>v18</th>\n",
       "      <th>v19</th>\n",
       "      <th>v20</th>\n",
       "      <th>v21</th>\n",
       "      <th>v22</th>\n",
       "      <th>v23</th>\n",
       "      <th>v24</th>\n",
       "      <th>v25</th>\n",
       "      <th>v26</th>\n",
       "      <th>v27</th>\n",
       "      <th>v28</th>\n",
       "      <th>v29</th>\n",
       "      <th>v30</th>\n",
       "      <th>v31</th>\n",
       "      <th>v32</th>\n",
       "      <th>v33</th>\n",
       "      <th>v34</th>\n",
       "      <th>v35</th>\n",
       "      <th>target</th>\n",
       "    </tr>\n",
       "  </thead></table>\n",
       "<script type=\"text/javascript\">\n",
       "require([\"datatables\"], function (datatables) {\n",
       "    $(document).ready(function () {        \n",
       "        var dt_args = {\"columnDefs\": [{\"width\": \"200px\", \"high\": \"80px\", \"targets\": \"_all\"}], \"lengthMenu\": [10, 10, 100, 200, 500, 1000, 2000, 5000], \"paging\": false, \"data\": [[\"count\", 5456.0, 4324.0, 4255.0, 5293.0, 5440.0, 3454.0, 2467.0, 5456.0, 5098.0, 4967.0, 5213.0, 5004.0, 5070.0, 2054.0, 5176.0, 5021.0, 5155.0, 5081.0, 5205.0, 5207.0, 5034.0, 5450.0, 5456.0, 4317.0, 4424.0, 4424.0, 4424.0, 4424.0, 4427.0, 3892.0, 4324.0, 5456.0, 5456.0], [\"mean\", 2728.5, 18.508094, 6.13443, 9.409787, 12.4875, 4.127099, 2.498581, 0.945931, 9.211352, 9.23848, 9.327373, 26.528577, 9.125935, 4.23369, 44.915572, 55.762, 56.141998, 61.04999, 677.276273, 600.134626, 643.537545, 46.125321, 0.309384, 54.053278, 0.15009, 0.378391, 1.973327, 2.501808, 148.086063, 4.762076, 18.508094, 32.655242, 0.461144], [\"std\", 1575.155865, 25.545579, 8.089984, 11.939585, 15.7683, 5.286717, 2.924347, 0.226174, 0.244139, 0.325475, 0.313974, 8.352241, 0.411549, 1.451242, 14.440898, 19.201721, 13.028506, 17.12408, 73.767806, 144.973297, 61.499895, 17.327624, 0.462282, 3047.642634, 0.385804, 0.485972, 0.350334, 0.60855, 3959.28107, 2.90639, 25.545579, 8.431342, 0.672596], [\"min\", 1.0, 1.0, 1.0, 1.0, 1.0, 1.0, 1.0, 0.0, 8.422065, 8.228819, 8.228819, 2.0, 8.228819, 3.0, 1.0, 5.0, 29.0, 4.0, 414.0, 300.0, 309.0, 2.0, 0.0, 1.0, 0.0, 0.0, 0.0, 1.0, 0.0, 0.0, 1.0, 18.0, 0.0], [\"25%\", 1364.75, 3.0, 2.0, 2.0, 3.0, 1.0, 1.0, 1.0, 9.030667, 9.044394, 9.159871, 22.0, 8.857981, 3.0, 35.0, 43.0, 48.0, 49.0, 636.0, 500.0, 617.0, 33.0, 0.0, 2.0, 0.0, 0.0, 2.0, 2.0, 1.0, 2.0, 3.0, 26.0, 0.0], [\"50%\", 2728.5, 10.0, 3.0, 5.0, 6.0, 2.0, 2.0, 1.0, 9.278449, 9.33985, 9.379378, 24.0, 9.23362, 4.0, 45.0, 51.0, 54.0, 60.0, 678.0, 618.0, 646.0, 46.0, 0.0, 3.0, 0.0, 0.0, 2.0, 2.0, 1.0, 5.0, 10.0, 31.0, 0.0], [\"75%\", 4092.25, 23.0, 7.0, 11.0, 16.0, 5.0, 3.0, 1.0, 9.403012, 9.485829, 9.550747, 31.0, 9.426265, 5.0, 54.0, 70.0, 65.0, 73.0, 719.0, 700.0, 678.0, 59.0, 1.0, 5.0, 0.0, 1.0, 2.0, 3.0, 1.0, 7.0, 23.0, 37.0, 1.0], [\"max\", 5456.0, 300.0, 101.0, 124.0, 145.0, 67.0, 38.0, 1.0, 9.684749, 9.821774, 9.952741, 65.0, 9.957102, 10.0, 100.0, 100.0, 91.0, 100.0, 875.0, 998.0, 869.0, 93.0, 1.0, 200000.0, 3.0, 2.0, 4.0, 5.0, 176300.0, 14.0, 300.0, 63.0, 2.0]]};\n",
       "        dt_args = eval_functions(dt_args);\n",
       "        table = $('#a4d403e9-1810-485e-9a94-06f78eeef08f').DataTable(dt_args);\n",
       "    });\n",
       "})\n",
       "</script>\n",
       "</div>\n"
      ],
      "text/plain": [
       "<IPython.core.display.HTML object>"
      ]
     },
     "metadata": {},
     "output_type": "display_data"
    },
    {
     "name": "stdout",
     "output_type": "stream",
     "text": [
      "\u001b[1;31m离散型变量分布\n",
      " \u001b[0m\n"
     ]
    },
    {
     "data": {
      "text/html": [
       "<div><table id=\"aff08cc2-16c5-4011-bcc7-e09cbb9c5f21\" class=\"display nowrap\"><thead>\n",
       "    <tr style=\"text-align: right;\">\n",
       "      <th></th>\n",
       "      <th>v2</th>\n",
       "      <th>v9</th>\n",
       "      <th>v10</th>\n",
       "      <th>v17</th>\n",
       "    </tr>\n",
       "  </thead></table>\n",
       "<script type=\"text/javascript\">\n",
       "require([\"datatables\"], function (datatables) {\n",
       "    $(document).ready(function () {        \n",
       "        var dt_args = {\"columnDefs\": [{\"width\": \"150px\", \"targets\": \"_all\"}], \"lengthMenu\": [10, 10, 100, 200, 500, 1000, 2000, 5000], \"paging\": false, \"data\": [[\"count\", \"5456\", \"5456\", \"5456\", \"2054\"], [\"unique\", \"3\", \"5\", \"7\", \"4\"], [\"top\", \"A\", \"E\", \"g\", \"a\"], [\"freq\", \"4190\", \"1688\", \"1463\", \"857\"]]};\n",
       "        dt_args = eval_functions(dt_args);\n",
       "        table = $('#aff08cc2-16c5-4011-bcc7-e09cbb9c5f21').DataTable(dt_args);\n",
       "    });\n",
       "})\n",
       "</script>\n",
       "</div>\n"
      ],
      "text/plain": [
       "<IPython.core.display.HTML object>"
      ]
     },
     "metadata": {},
     "output_type": "display_data"
    }
   ],
   "source": [
    "#数据读取\n",
    "data=pd.read_excel(\"scorecard_model_sample.xlsx\")\n",
    "print(data.info())\n",
    "# show(data.head(),columnDefs=[{\"width\": \"300px\", \"targets\": \"_all\"}])\n",
    "print(\"\\033[1;31m连续型变量分布\\n \\033[0m\")\n",
    "show(data.describe(),columnDefs=[{\"width\": \"200px\",\"high\": \"80px\", \"targets\": \"_all\"}])\n",
    "print(\"\\033[1;31m离散型变量分布\\n \\033[0m\")\n",
    "show(data.describe(include=['object']))"
   ]
  },
  {
   "cell_type": "markdown",
   "metadata": {},
   "source": [
    "## 数据预处理\n",
    "\n",
    "### 异常值检测&处理\n",
    "\n",
    "针对异常变量可根据对数据对理解进行极端值分数映射转换或者删除极端值对应对样本"
   ]
  },
  {
   "cell_type": "code",
   "execution_count": 5,
   "metadata": {},
   "outputs": [
    {
     "name": "stdout",
     "output_type": "stream",
     "text": [
      "\u001b[1;31m离散型变量个数\n",
      " \u001b[0m 4\n",
      "\u001b[1;31m连续型变量个数\n",
      " \u001b[0m 34\n"
     ]
    },
    {
     "data": {
      "text/html": [
       "<div><table id=\"fc6e2806-c0ad-4b0b-83dd-378d95bfc3ae\" class=\"display nowrap\"><thead>\n",
       "    <tr style=\"text-align: right;\">\n",
       "      <th></th>\n",
       "      <th>v2</th>\n",
       "      <th>v9</th>\n",
       "      <th>v10</th>\n",
       "      <th>v17</th>\n",
       "      <th>v1_abnormal</th>\n",
       "    </tr>\n",
       "  </thead></table>\n",
       "<script type=\"text/javascript\">\n",
       "require([\"datatables\"], function (datatables) {\n",
       "    $(document).ready(function () {        \n",
       "        var dt_args = {\"columnDefs\": [{\"width\": \"150px\", \"targets\": \"_all\"}], \"lengthMenu\": [10, 10, 100, 200, 500, 1000, 2000, 5000], \"paging\": false, \"data\": [[\"count\", \"5456\", \"5456\", \"5456\", \"2054\", \"5456\"], [\"unique\", \"3\", \"5\", \"7\", \"4\", \"2\"], [\"top\", \"A\", \"E\", \"g\", \"a\", \"zhengchang\"], [\"freq\", \"4190\", \"1688\", \"1463\", \"857\", \"5107\"]]};\n",
       "        dt_args = eval_functions(dt_args);\n",
       "        table = $('#fc6e2806-c0ad-4b0b-83dd-378d95bfc3ae').DataTable(dt_args);\n",
       "    });\n",
       "})\n",
       "</script>\n",
       "</div>\n"
      ],
      "text/plain": [
       "          v2    v9   v10   v17 v1_abnormal\n",
       "count   5456  5456  5456  2054        5456\n",
       "unique     3     5     7     4           2\n",
       "top        A     E     g     a  zhengchang\n",
       "freq    4190  1688  1463   857        5107"
      ]
     },
     "execution_count": 5,
     "metadata": {},
     "output_type": "execute_result"
    }
   ],
   "source": [
    "#1.数据预处理\n",
    "\n",
    "#1.1异常值\n",
    "    #1.1.1异常值检测\n",
    "\n",
    "character_feature,count=self_f_2.character_VarFindFunc(data)\n",
    "data_num=data.drop(character_feature,axis=1)\n",
    "print(\"\\033[1;31m离散型变量个数\\n \\033[0m\",count)\n",
    "print(\"\\033[1;31m连续型变量个数\\n \\033[0m\",len(data.columns)-count)\n",
    "\n",
    "data_abnormal=data.copy()\n",
    "\n",
    "data_abnormal=self_f_2.find_abnormal(data_abnormal)\n",
    "\n",
    "# data_abnormal.head()\n",
    "# data_abnormal.describe()\n",
    "data_abnormal.describe(include=['object'])#查看离散型特征情况\n",
    "\n",
    "#针对异常变量可根据对数据对理解进行极端值分数映射转换或者删除极端值对应对样本"
   ]
  },
  {
   "cell_type": "markdown",
   "metadata": {},
   "source": [
    "### 特征衍生\n",
    "这里主要是做特征各种交叉衍生的工作"
   ]
  },
  {
   "cell_type": "markdown",
   "metadata": {},
   "source": [
    "### 缺失值检测&处理"
   ]
  },
  {
   "cell_type": "code",
   "execution_count": 6,
   "metadata": {},
   "outputs": [
    {
     "name": "stdout",
     "output_type": "stream",
     "text": [
      "\u001b[1;31m有缺失值的变量个数:\n",
      " \u001b[0m 29\n",
      "\u001b[1;31m各变量缺失率展示\n",
      " \u001b[0m\n"
     ]
    },
    {
     "data": {
      "text/html": [
       "<div><table id=\"48e564ca-c866-4145-be5f-a53e5a9d04de\" class=\"display nowrap\"><thead>\n",
       "    <tr style=\"text-align: right;\">\n",
       "      \n",
       "      <th>index</th>\n",
       "      <th>var_name</th>\n",
       "      <th>queshi_num</th>\n",
       "      <th>na_rate</th>\n",
       "      <th>na_rate_new</th>\n",
       "    </tr>\n",
       "  </thead></table>\n",
       "<script type=\"text/javascript\">\n",
       "require([\"datatables\"], function (datatables) {\n",
       "    $(document).ready(function () {        \n",
       "        var dt_args = {\"columnDefs\": [{\"width\": \"150px\", \"targets\": \"_all\"}], \"lengthMenu\": [10, 10, 100, 200, 500, 1000, 2000, 5000], \"data\": [[0, \"v16\", 3402, 0.6235, \"62.35%\"], [1, \"v17\", 3402, 0.6235, \"62.35%\"], [2, \"v7\", 2989, 0.5478, \"54.78%\"], [3, \"v6\", 2002, 0.3669, \"36.69%\"], [4, \"v33\", 1564, 0.2867, \"28.67%\"], [5, \"v3\", 1201, 0.2201, \"22.01%\"], [6, \"v27\", 1139, 0.2088, \"20.88%\"], [7, \"v1\", 1132, 0.2075, \"20.75%\"], [8, \"v34\", 1132, 0.2075, \"20.75%\"], [9, \"v28\", 1032, 0.1891, \"18.91%\"], [10, \"v31\", 1032, 0.1891, \"18.91%\"], [11, \"v30\", 1032, 0.1891, \"18.91%\"], [12, \"v29\", 1032, 0.1891, \"18.91%\"], [13, \"v32\", 1029, 0.1886, \"18.86%\"], [14, \"v12\", 489, 0.0896, \"8.96%\"], [15, \"v14\", 452, 0.0828, \"8.28%\"], [16, \"v19\", 435, 0.0797, \"7.97%\"], [17, \"v24\", 422, 0.0773, \"7.73%\"], [18, \"v15\", 386, 0.0707, \"7.07%\"], [19, \"v21\", 375, 0.0687, \"6.87%\"], [20, \"v11\", 358, 0.0656, \"6.56%\"], [21, \"v20\", 301, 0.0552, \"5.52%\"], [22, \"v18\", 280, 0.0513, \"5.13%\"], [23, \"v22\", 251, 0.046, \"4.60%\"], [24, \"v23\", 249, 0.0456, \"4.56%\"], [25, \"v13\", 243, 0.0445, \"4.45%\"], [26, \"v4\", 163, 0.0299, \"2.99%\"], [27, \"v5\", 16, 0.0029, \"0.29%\"], [28, \"v25\", 6, 0.0011, \"0.11%\"]]};\n",
       "        dt_args = eval_functions(dt_args);\n",
       "        table = $('#48e564ca-c866-4145-be5f-a53e5a9d04de').DataTable(dt_args);\n",
       "    });\n",
       "})\n",
       "</script>\n",
       "</div>\n"
      ],
      "text/plain": [
       "<IPython.core.display.HTML object>"
      ]
     },
     "metadata": {},
     "output_type": "display_data"
    }
   ],
   "source": [
    "#1.2.1缺失值统计\n",
    "feature_na,na_feature_num=self_f_2.findNaFunc(data)\n",
    "\n",
    "# feature_na=feature_na.rename(columns={\"queshi_num\":\"缺失值数量\",\"na_rate\":\"缺失率\"})\n",
    "print(\"\\033[1;31m有缺失值的变量个数:\\n \\033[0m\",na_feature_num)\n",
    "print(\"\\033[1;31m各变量缺失率展示\\n \\033[0m\")\n",
    "feature_na_show=feature_na.sort_values(by='queshi_num', axis=0, ascending=False)\n",
    "feature_na_show=feature_na_show.reset_index(drop=False)\n",
    "show(feature_na_show)"
   ]
  },
  {
   "cell_type": "markdown",
   "metadata": {},
   "source": [
    "#### 缺失过多特征删除"
   ]
  },
  {
   "cell_type": "code",
   "execution_count": 7,
   "metadata": {},
   "outputs": [
    {
     "name": "stdout",
     "output_type": "stream",
     "text": [
      "\u001b[1;31m删除的缺失值过高的特征:\n",
      " \u001b[0m Series([], Name: var_name, dtype: object)\n"
     ]
    }
   ],
   "source": [
    "#缺失过多特征删除\n",
    "delete_feature=feature_na[feature_na[\"na_rate\"]>0.7].var_name #当不想删除缺失特征时，可提高na_rate阈值\n",
    "data_delete=data.drop(delete_feature,axis=1)\n",
    "\n",
    "print(\"\\033[1;31m删除的缺失值过高的特征:\\n \\033[0m\",delete_feature)"
   ]
  },
  {
   "cell_type": "markdown",
   "metadata": {},
   "source": [
    "#### 直接填充默认缺失值\n",
    "\n",
    "另外的缺失值填充方法\n",
    "- 根据相关性填充\n",
    "- 根据后续结果看是否缺失值要根据特征中位数或者均值来填补"
   ]
  },
  {
   "cell_type": "code",
   "execution_count": 8,
   "metadata": {},
   "outputs": [
    {
     "name": "stdout",
     "output_type": "stream",
     "text": [
      "\u001b[1;31m缺失值填充后变量分布\n",
      " \u001b[0m\n"
     ]
    },
    {
     "data": {
      "text/html": [
       "<div><table id=\"99fda3cd-b31d-4542-9367-0c0e33b30ef3\" class=\"display nowrap\"><thead>\n",
       "    <tr style=\"text-align: right;\">\n",
       "      <th></th>\n",
       "      <th>id</th>\n",
       "      <th>v1</th>\n",
       "      <th>v3</th>\n",
       "      <th>v4</th>\n",
       "      <th>v5</th>\n",
       "      <th>v6</th>\n",
       "      <th>v7</th>\n",
       "      <th>v8</th>\n",
       "      <th>v11</th>\n",
       "      <th>v12</th>\n",
       "      <th>v13</th>\n",
       "      <th>v14</th>\n",
       "      <th>v15</th>\n",
       "      <th>v16</th>\n",
       "      <th>v18</th>\n",
       "      <th>v19</th>\n",
       "      <th>v20</th>\n",
       "      <th>v21</th>\n",
       "      <th>v22</th>\n",
       "      <th>v23</th>\n",
       "      <th>v24</th>\n",
       "      <th>v25</th>\n",
       "      <th>v26</th>\n",
       "      <th>v27</th>\n",
       "      <th>v28</th>\n",
       "      <th>v29</th>\n",
       "      <th>v30</th>\n",
       "      <th>v31</th>\n",
       "      <th>v32</th>\n",
       "      <th>v33</th>\n",
       "      <th>v34</th>\n",
       "      <th>v35</th>\n",
       "      <th>target</th>\n",
       "    </tr>\n",
       "  </thead></table>\n",
       "<script type=\"text/javascript\">\n",
       "require([\"datatables\"], function (datatables) {\n",
       "    $(document).ready(function () {        \n",
       "        var dt_args = {\"columnDefs\": [{\"width\": \"150px\", \"targets\": \"_all\"}], \"lengthMenu\": [10, 10, 100, 200, 500, 1000, 2000, 5000], \"paging\": false, \"data\": [[\"count\", 5456.0, 5456.0, 5456.0, 5456.0, 5456.0, 5456.0, 5456.0, 5456.0, 5456.0, 5456.0, 5456.0, 5456.0, 5456.0, 5456.0, 5456.0, 5456.0, 5456.0, 5456.0, 5456.0, 5456.0, 5456.0, 5456.0, 5456.0, 5456.0, 5456.0, 5456.0, 5456.0, 5456.0, 5456.0, 5456.0, 5456.0, 5456.0, 5456.0], [\"mean\", 2728.5, -192.602456, -215.120418, -20.716826, 9.521261, -363.955828, -546.159641, 0.945931, -56.943279, -81.126002, -35.581636, -58.430902, -62.196758, -621.316349, -8.657808, -28.332845, -2.068732, -11.809018, 600.160191, 527.153592, 516.493768, 44.97599, 0.309384, -165.783174, -188.83871, -188.653592, -187.360337, -186.931818, -68.254032, -282.97324, -192.602456, 32.655242, 0.461144], [\"std\", 1575.155865, 413.264315, 416.557308, 172.093157, 56.920765, 483.538478, 498.501754, 0.226174, 249.665566, 288.02519, 208.024492, 282.82307, 258.51061, 486.111228, 230.788951, 286.325639, 241.253209, 268.722937, 358.517611, 362.572178, 442.785488, 38.72997, 0.462282, 2744.444719, 391.330549, 391.420057, 392.044617, 392.25186, 3594.480187, 453.949314, 413.264315, 8.431342, 0.672596], [\"min\", 1.0, -999.0, -999.0, -999.0, -999.0, -999.0, -999.0, 0.0, -999.0, -999.0, -999.0, -999.0, -999.0, -999.0, -999.0, -999.0, -999.0, -999.0, -999.0, -999.0, -999.0, -999.0, 0.0, -999.0, -999.0, -999.0, -999.0, -999.0, -999.0, -999.0, -999.0, 18.0, 0.0], [\"25%\", 1364.75, 1.0, 1.0, 2.0, 3.0, -999.0, -999.0, 1.0, 8.968667, 8.924813, 9.113742, 20.0, 8.777255, -999.0, 32.0, 39.0, 47.0, 47.0, 627.0, 476.75, 606.0, 33.0, 0.0, 1.0, 0.0, 0.0, 2.0, 2.0, 1.0, -999.0, 1.0, 26.0, 0.0], [\"50%\", 2728.5, 5.0, 2.0, 5.0, 6.0, 1.0, -999.0, 1.0, 9.255029, 9.296916, 9.366322, 24.0, 9.184875, -999.0, 45.0, 48.0, 54.0, 60.0, 674.0, 614.0, 644.0, 46.0, 0.0, 3.0, 0.0, 0.0, 2.0, 2.0, 1.0, 3.0, 5.0, 31.0, 0.0], [\"75%\", 4092.25, 18.0, 6.0, 11.0, 16.0, 3.0, 1.0, 1.0, 9.394463, 9.477758, 9.537218, 30.0, 9.403012, 3.0, 54.0, 68.0, 64.0, 73.0, 716.0, 693.0, 675.0, 59.0, 1.0, 5.0, 0.0, 1.0, 2.0, 3.0, 1.0, 6.0, 18.0, 37.0, 1.0], [\"max\", 5456.0, 300.0, 101.0, 124.0, 145.0, 67.0, 38.0, 1.0, 9.684749, 9.821774, 9.952741, 65.0, 9.957102, 10.0, 100.0, 100.0, 91.0, 100.0, 875.0, 998.0, 869.0, 93.0, 1.0, 200000.0, 3.0, 2.0, 4.0, 5.0, 176300.0, 14.0, 300.0, 63.0, 2.0]]};\n",
       "        dt_args = eval_functions(dt_args);\n",
       "        table = $('#99fda3cd-b31d-4542-9367-0c0e33b30ef3').DataTable(dt_args);\n",
       "    });\n",
       "})\n",
       "</script>\n",
       "</div>\n"
      ],
      "text/plain": [
       "<IPython.core.display.HTML object>"
      ]
     },
     "metadata": {},
     "output_type": "display_data"
    },
    {
     "data": {
      "text/html": [
       "<div><table id=\"7bcb686b-865e-4da2-bb79-228481f8949f\" class=\"display nowrap\"><thead>\n",
       "    <tr style=\"text-align: right;\">\n",
       "      <th></th>\n",
       "      <th>v2</th>\n",
       "      <th>v9</th>\n",
       "      <th>v10</th>\n",
       "      <th>v17</th>\n",
       "    </tr>\n",
       "  </thead></table>\n",
       "<script type=\"text/javascript\">\n",
       "require([\"datatables\"], function (datatables) {\n",
       "    $(document).ready(function () {        \n",
       "        var dt_args = {\"columnDefs\": [{\"width\": \"150px\", \"targets\": \"_all\"}], \"lengthMenu\": [10, 10, 100, 200, 500, 1000, 2000, 5000], \"paging\": false, \"data\": [[\"count\", \"5456\", \"5456\", \"5456\", \"5456\"], [\"unique\", \"3\", \"5\", \"7\", \"5\"], [\"top\", \"A\", \"E\", \"g\", \"\\u7f3a\\u5931\"], [\"freq\", \"4190\", \"1688\", \"1463\", \"3402\"]]};\n",
       "        dt_args = eval_functions(dt_args);\n",
       "        table = $('#7bcb686b-865e-4da2-bb79-228481f8949f').DataTable(dt_args);\n",
       "    });\n",
       "})\n",
       "</script>\n",
       "</div>\n"
      ],
      "text/plain": [
       "<IPython.core.display.HTML object>"
      ]
     },
     "metadata": {},
     "output_type": "display_data"
    }
   ],
   "source": [
    "#直接填充默认缺失值，连续型特征填充-999，离散型特征填充“缺失”字样\n",
    "data_fillna=self_f_2.na_fill(data_delete)\n",
    "print(\"\\033[1;31m缺失值填充后变量分布\\n \\033[0m\")\n",
    "show(data_fillna.describe())\n",
    "show(data_fillna.describe(include=['object']))\n",
    "\n",
    "#另外的缺失值填充方法\n",
    "#根据相关性填充\n",
    "#根据后续结果看是否缺失值要根据特征中位数或者均值来填补"
   ]
  },
  {
   "cell_type": "markdown",
   "metadata": {},
   "source": [
    "## 特征筛选"
   ]
  },
  {
   "cell_type": "code",
   "execution_count": 9,
   "metadata": {},
   "outputs": [
    {
     "name": "stdout",
     "output_type": "stream",
     "text": [
      "\u001b[1;31m训练集好坏用户，1表示坏用户：\n",
      " \u001b[0m 0    2466\n",
      "1    1167\n",
      "Name: target, dtype: int64\n",
      "\u001b[1;31m时间外验证集好坏用户，1表示坏用户：\n",
      "\u001b[0m 0    1030\n",
      "1     237\n",
      "Name: target, dtype: int64\n"
     ]
    }
   ],
   "source": [
    "#训练集，时间外验证集拆分\n",
    "data_fillna=data_fillna[data_fillna['target'] !=2]\n",
    "train_data=data_fillna[data_fillna['date']<='2019-03-01']\n",
    "oot_data=data_fillna[data_fillna['date']>'2019-03-01']\n",
    "\n",
    "train_data.to_excel(\"train_data_original.xlsx\")\n",
    "oot_data.to_excel(\"oot_data_original.xlsx\")\n",
    "\n",
    "print(\"\\033[1;31m训练集好坏用户，1表示坏用户：\\n \\033[0m\",train_data.target.value_counts())\n",
    "print(\"\\033[1;31m时间外验证集好坏用户，1表示坏用户：\\n\\033[0m\",oot_data.target.value_counts())\n",
    "\n",
    "\n",
    "#不作为自特征的特征\n",
    "target=\"target\" #目标特征对应的字段名称\n",
    "key_name=\"id\" #唯一识别用户的字段，在最后面需要知道具体是哪个用户的得分的时候，需要用到\n",
    "target_series=pd.Series(\"target\")\n",
    "not_model_feature=[\"id\",\"date\"] #无需进行特征筛选的特征，这些特征放进去筛选会导致特征筛选时间过长\n",
    "\n",
    "#建模前记录下train_data的用户ID和index\n",
    "train_id=train_data.id\n",
    "\n",
    "#删除掉\n",
    "train_data=train_data.drop(not_model_feature,axis=1)"
   ]
  },
  {
   "cell_type": "markdown",
   "metadata": {},
   "source": [
    "### psi筛选"
   ]
  },
  {
   "cell_type": "code",
   "execution_count": 10,
   "metadata": {},
   "outputs": [
    {
     "name": "stdout",
     "output_type": "stream",
     "text": [
      "\u001b[1;31mpsi筛选删除的特征: \u001b[0m []\n",
      "\u001b[1;31mpsi筛选的特征: \u001b[0m Index(['v1', 'v2', 'v3', 'v4', 'v5', 'v6', 'v7', 'v8', 'v9', 'v10', 'v11',\n",
      "       'v12', 'v13', 'v14', 'v15', 'v16', 'v17', 'v18', 'v19', 'v20', 'v21',\n",
      "       'v22', 'v23', 'v24', 'v25', 'v26', 'v27', 'v28', 'v29', 'v30', 'v31',\n",
      "       'v32', 'v33', 'v34', 'v35', 'target'],\n",
      "      dtype='object')\n",
      "\u001b[1;31m各变量psi: \u001b[0m\n"
     ]
    },
    {
     "data": {
      "text/html": [
       "<div><table id=\"312eac20-528e-4c15-b547-f9319455037b\" class=\"display nowrap\"><thead>\n",
       "    <tr style=\"text-align: right;\">\n",
       "      <th></th>\n",
       "      <th>var_name</th>\n",
       "      <th>value</th>\n",
       "    </tr>\n",
       "  </thead></table>\n",
       "<script type=\"text/javascript\">\n",
       "require([\"datatables\"], function (datatables) {\n",
       "    $(document).ready(function () {        \n",
       "        var dt_args = {\"columnDefs\": [{\"width\": \"150px\", \"targets\": \"_all\"}], \"lengthMenu\": [10, 10, 100, 200, 500, 1000, 2000, 5000], \"data\": [[16, \"v17\", 0.248], [22, \"v23\", 0.1989], [0, \"v1\", 0.1417], [33, \"v34\", 0.1417], [28, \"v29\", 0.1303], [10, \"v11\", 0.1277], [9, \"v10\", 0.1276], [2, \"v3\", 0.1085], [5, \"v6\", 0.1069], [18, \"v19\", 0.1062], [27, \"v28\", 0.0917], [21, \"v22\", 0.076], [30, \"v31\", 0.0713], [12, \"v13\", 0.0675], [6, \"v7\", 0.0487], [19, \"v20\", 0.0418], [17, \"v18\", 0.0392], [15, \"v16\", 0.035], [8, \"v9\", 0.0344], [26, \"v27\", 0.0312], [25, \"v26\", 0.0262], [23, \"v24\", 0.0247], [24, \"v25\", 0.0203], [13, \"v14\", 0.0199], [1, \"v2\", 0.0195], [14, \"v15\", 0.0156], [11, \"v12\", 0.0155], [4, \"v5\", 0.0092], [20, \"v21\", 0.0046], [3, \"v4\", 0.0043], [32, \"v33\", 0.0039], [7, \"v8\", 0.0029], [34, \"v35\", 0.002], [29, \"v30\", 0.0011], [31, \"v32\", 0.001]]};\n",
       "        dt_args = eval_functions(dt_args);\n",
       "        table = $('#312eac20-528e-4c15-b547-f9319455037b').DataTable(dt_args);\n",
       "    });\n",
       "})\n",
       "</script>\n",
       "</div>\n"
      ],
      "text/plain": [
       "<IPython.core.display.HTML object>"
      ]
     },
     "metadata": {},
     "output_type": "display_data"
    },
    {
     "name": "stdout",
     "output_type": "stream",
     "text": [
      "\u001b[1;31mpsi筛选特征完成--------------------------------\u001b[0m\n"
     ]
    }
   ],
   "source": [
    "# 3.1psi筛选\n",
    "# all_col = [x for x in train_data.columns if x not in not_model_feature_and_target]\n",
    "all_col = [x for x in train_data.columns if x!=target]\n",
    "psi_tup = []\n",
    "for col in all_col:\n",
    "    psi,psi_bin_df = self_f_2.cal_psi(train_data,oot_data,col)\n",
    "    psi_tup.append((col,psi))\n",
    "psi_delete = [x for x,y in psi_tup if y>=0.25]#这里psi阈值定位0.25\n",
    "\n",
    "#变量和psi转换成数据框\n",
    "psi_df=pd.DataFrame(pd.Series(dict(psi_tup)),columns=[\"value\"])\n",
    "psi_df=psi_df.reset_index().rename(columns={'index':'var_name'})\n",
    "psi_df=psi_df.sort_values(by='value', axis=0, ascending=False)\n",
    "\n",
    "train = train_data.drop(psi_delete,axis=1)\n",
    "\n",
    "print('\\033[1;31mpsi筛选删除的特征: \\033[0m',psi_delete)\n",
    "print('\\033[1;31mpsi筛选的特征: \\033[0m',train.columns)\n",
    "print('\\033[1;31m各变量psi: \\033[0m')\n",
    "show(psi_df)\n",
    "print('\\033[1;31mpsi筛选特征完成--------------------------------\\033[0m')"
   ]
  },
  {
   "cell_type": "markdown",
   "metadata": {},
   "source": [
    "### 随机森林筛选特征"
   ]
  },
  {
   "cell_type": "code",
   "execution_count": 11,
   "metadata": {},
   "outputs": [
    {
     "name": "stdout",
     "output_type": "stream",
     "text": [
      "\u001b[1;31m随机森林删除的特征: \u001b[0m\n"
     ]
    },
    {
     "data": {
      "text/html": [
       "<div><table id=\"f40d7ec0-7c91-4a5c-ae23-ce43acc15ee6\" class=\"display nowrap\"><thead>\n",
       "    <tr style=\"text-align: right;\">\n",
       "      <th></th>\n",
       "      <th>var_name</th>\n",
       "      <th>importance</th>\n",
       "    </tr>\n",
       "  </thead></table>\n",
       "<script type=\"text/javascript\">\n",
       "require([\"datatables\"], function (datatables) {\n",
       "    $(document).ready(function () {        \n",
       "        var dt_args = {\"columnDefs\": [{\"width\": \"150px\", \"targets\": \"_all\"}], \"lengthMenu\": [10, 10, 100, 200, 500, 1000, 2000, 5000], \"paging\": false, \"data\": [[29, \"v30\", 0.000818], [30, \"v31\", 0.000606], [31, \"v32\", 0.000539], [32, \"v33\", 0.0002], [33, \"v34\", 9.2e-05], [34, \"v35\", 2.2e-05]]};\n",
       "        dt_args = eval_functions(dt_args);\n",
       "        table = $('#f40d7ec0-7c91-4a5c-ae23-ce43acc15ee6').DataTable(dt_args);\n",
       "    });\n",
       "})\n",
       "</script>\n",
       "</div>\n"
      ],
      "text/plain": [
       "<IPython.core.display.HTML object>"
      ]
     },
     "metadata": {},
     "output_type": "display_data"
    },
    {
     "name": "stdout",
     "output_type": "stream",
     "text": [
      "\u001b[1;31m随机森林筛选的特征: \u001b[0m\n"
     ]
    },
    {
     "data": {
      "text/html": [
       "<div><table id=\"d5801da7-21ad-4a5b-8bbc-4f6c6d5f5c60\" class=\"display nowrap\"><thead>\n",
       "    <tr style=\"text-align: right;\">\n",
       "      <th></th>\n",
       "      <th>var_name</th>\n",
       "      <th>importance</th>\n",
       "    </tr>\n",
       "  </thead></table>\n",
       "<script type=\"text/javascript\">\n",
       "require([\"datatables\"], function (datatables) {\n",
       "    $(document).ready(function () {        \n",
       "        var dt_args = {\"columnDefs\": [{\"width\": \"150px\", \"targets\": \"_all\"}], \"lengthMenu\": [10, 10, 100, 200, 500, 1000, 2000, 5000], \"data\": [[0, \"v1\", 0.129061], [1, \"v2\", 0.081454], [2, \"v3\", 0.077155], [3, \"v4\", 0.06791], [4, \"v5\", 0.065947], [5, \"v6\", 0.061748], [6, \"v7\", 0.057917], [7, \"v8\", 0.04932], [8, \"v9\", 0.045941], [9, \"v10\", 0.04541], [10, \"v11\", 0.038071], [11, \"v12\", 0.033734], [12, \"v13\", 0.03198], [13, \"v14\", 0.029861], [14, \"v15\", 0.028366], [15, \"v16\", 0.026815], [16, \"v17\", 0.024995], [17, \"v18\", 0.023694], [18, \"v19\", 0.016026], [19, \"v20\", 0.012127], [20, \"v21\", 0.011729], [21, \"v22\", 0.006485], [22, \"v23\", 0.005877], [23, \"v24\", 0.005749], [24, \"v25\", 0.005219], [25, \"v26\", 0.004776], [26, \"v27\", 0.004491], [27, \"v28\", 0.003806], [28, \"v29\", 0.00206]]};\n",
       "        dt_args = eval_functions(dt_args);\n",
       "        table = $('#d5801da7-21ad-4a5b-8bbc-4f6c6d5f5c60').DataTable(dt_args);\n",
       "    });\n",
       "})\n",
       "</script>\n",
       "</div>\n"
      ],
      "text/plain": [
       "<IPython.core.display.HTML object>"
      ]
     },
     "metadata": {},
     "output_type": "display_data"
    }
   ],
   "source": [
    "#2.2随机森林筛选特征\n",
    "#由于树模型不能处理非数值型特征，对离散型特征进行labelencoder编码，即将离散型特征使用连续数字来编码，\n",
    "#没有啥业务含义，只是一个将离散型特征映射为数字而已\n",
    "\n",
    "#data_label_encode=self_f_2.feature_labelencoder(train.drop(not_model_feature,axis=1))\n",
    "\n",
    "data_label_encode=self_f_2.feature_labelencoder(train) \n",
    "\n",
    "#将重要性大于一定阈值的特征筛选出来          \n",
    "df_random_var,importance_list_delete=self_f_2.Random_feature_filter(data_label_encode,im_value=0.001)\n",
    "random_var_name=df_random_var['var_name']#重要度大于阈值到特征，不含目标特征\n",
    "\n",
    "print(\"\\033[1;31m随机森林删除的特征: \\033[0m\")\n",
    "\n",
    "show(importance_list_delete)\n",
    "print(\"\\033[1;31m随机森林筛选的特征: \\033[0m\")\n",
    "show(df_random_var)\n",
    "\n",
    "random_var_name=random_var_name.append(target_series)#添加目标特征，即y特征\n",
    "train=train[random_var_name]"
   ]
  },
  {
   "cell_type": "markdown",
   "metadata": {},
   "source": [
    "### iv筛选"
   ]
  },
  {
   "cell_type": "code",
   "execution_count": 12,
   "metadata": {},
   "outputs": [
    {
     "name": "stdout",
     "output_type": "stream",
     "text": [
      "\u001b[1;31m特征分箱完成---------------------------\u001b[0m\n"
     ]
    }
   ],
   "source": [
    "#2.3iv筛选\n",
    "\n",
    "# 特征分箱,默认用的是决策树分箱\n",
    "train_col = [x for x in train.columns if x!=target]\n",
    "bin_df_list=[]\n",
    "cut_list=[]\n",
    "for col in train_col:\n",
    "    try:\n",
    "        bin_df,cut = self_f_2.binning_var(train,col,target)\n",
    "        bin_df_list.append(bin_df)\n",
    "        cut_list.append(cut)\n",
    "    except:\n",
    "        pass\n",
    "print('\\033[1;31m特征分箱完成---------------------------\\033[0m')\n",
    "\n",
    "# print(bin_df_list[0])\n",
    "\n",
    "bin_df_list_copy=bin_df_list.copy()\n",
    "iv_df=self_f_2.iv_transform_df(bin_df_list_copy)\n",
    "# print(bin_df_list[0])#为什么会改变呢\n",
    "\n",
    "# print(\"\\033[1;31m变量iv以及分箱表 \\033[0m\")\n",
    "# show(iv_df,columnDefs=[{\"width\": \"90px\", \"targets\": \"_all\"}])\n",
    "# iv_df.to_excel(\"iv_df.xlsx\")"
   ]
  },
  {
   "cell_type": "code",
   "execution_count": 13,
   "metadata": {},
   "outputs": [
    {
     "name": "stdout",
     "output_type": "stream",
     "text": [
      "\u001b[1;31miv筛选的特征:\u001b[0m ['v5', 'v12', 'v13', 'v23', 'v15', 'v22', 'v20', 'v19', 'v11', 'v16', 'v21', 'v25', 'v17', 'v18', 'v4', 'v14', 'v9', 'v24', 'v10', 'v26', 'v29', 'v3', 'v1', 'v2', 'v6']\n",
      "\u001b[1;31miv删除的特征:\u001b[0m ['v7', 'v27', 'v8']\n",
      "\u001b[1;31miv筛选特征完成-----------------------------------\u001b[0m\n"
     ]
    }
   ],
   "source": [
    "# 保存每个特征的分割点list，此步骤需要在剔除\n",
    "cut_dict={}\n",
    "for dd,cc in zip(bin_df_list,cut_list):\n",
    "    col = dd.index.name\n",
    "#     print(col)\n",
    "#     col = dd['var_name'].unique()\n",
    "    cut_dict[col] = cc\n",
    "    \n",
    "# print(len(cut_dict))\n",
    "\n",
    "# 剔除iv无限大的特征\n",
    "bin_df_list = [x for x in bin_df_list if x.IV.iloc[0]!=float('inf')]\n",
    "# print(bin_df_list)\n",
    "\n",
    "# 将IV从大到小进行排序\n",
    "iv_col = [x.index.name for x in bin_df_list]\n",
    "iv_value = [x.IV.iloc[0] for x in bin_df_list]\n",
    "iv_sort = sorted(zip(iv_col,iv_value),key=lambda x:x[1],reverse=True)\n",
    "\n",
    "\n",
    "# iv筛选，筛选iv大于0.02的特征\n",
    "iv_select_col = [x for x,y in iv_sort if y>=0.05]\n",
    "iv_delete_col= [x for x,y in iv_sort if y<0.05]\n",
    "\n",
    "print(\"\\033[1;31miv筛选的特征:\\033[0m\",iv_select_col)\n",
    "print(\"\\033[1;31miv删除的特征:\\033[0m\",iv_delete_col)\n",
    "print('\\033[1;31miv筛选特征完成-----------------------------------\\033[0m')"
   ]
  },
  {
   "cell_type": "markdown",
   "metadata": {},
   "source": [
    "### 人工去除偏事后特征\n",
    "\n",
    "之所以在这个步骤去除，是因为一定程度上做过特征筛选，特征没有那么多了，可以更好地对每个特征进行解读；为什么放在相关性筛选之前做这个动作，是因为相关性筛选里面涉及到不同变量间关系而对变量进行删除，可能存在事后变量的存在而导致删除其余非事后变量这种现象，因此人工剔除偏事后特征在这一步做相对比较合适；"
   ]
  },
  {
   "cell_type": "markdown",
   "metadata": {},
   "source": [
    "### 相关性筛选，多重共线性筛选"
   ]
  },
  {
   "cell_type": "code",
   "execution_count": 14,
   "metadata": {
    "scrolled": true
   },
   "outputs": [
    {
     "name": "stdout",
     "output_type": "stream",
     "text": [
      "\u001b[1;31m相关矩阵\u001b[0m\n"
     ]
    },
    {
     "data": {
      "text/html": [
       "<div><table id=\"b2aa6ac5-9f7b-41ea-a2aa-3ccd56b48aa8\" class=\"display nowrap\"><thead>\n",
       "    <tr style=\"text-align: right;\">\n",
       "      <th></th>\n",
       "      <th>v5</th>\n",
       "      <th>v12</th>\n",
       "      <th>v13</th>\n",
       "      <th>v23</th>\n",
       "      <th>v15</th>\n",
       "      <th>v22</th>\n",
       "      <th>v20</th>\n",
       "      <th>v19</th>\n",
       "      <th>v11</th>\n",
       "      <th>v16</th>\n",
       "      <th>v21</th>\n",
       "      <th>v25</th>\n",
       "      <th>v18</th>\n",
       "      <th>v4</th>\n",
       "      <th>v14</th>\n",
       "      <th>v24</th>\n",
       "      <th>v3</th>\n",
       "      <th>v1</th>\n",
       "      <th>v6</th>\n",
       "    </tr>\n",
       "  </thead></table>\n",
       "<script type=\"text/javascript\">\n",
       "require([\"datatables\"], function (datatables) {\n",
       "    $(document).ready(function () {        \n",
       "        var dt_args = {\"columnDefs\": [{\"width\": \"250px\", \"targets\": \"_all\"}], \"lengthMenu\": [10, 10, 100, 200, 500, 1000, 2000, 5000], \"data\": [[\"v5\", 1.0, 0.100035, 0.057529, -0.008688, 0.054587, 0.02405, 0.101171, 0.081803, 0.055361, 0.183874, 0.095667, -0.052432, 0.064937, 0.344106, 0.077019, 0.083887, 0.179727, 0.183963, 0.163183], [\"v12\", 0.100035, 1.0, 0.714651, 0.620784, 0.622393, 0.669071, 0.78591, 0.945709, 0.640868, 0.215786, 0.695999, 0.046021, 0.754081, -0.007073, 0.95685, 0.130691, 0.216435, 0.203022, 0.229386], [\"v13\", 0.057529, 0.714651, 1.0, 0.900925, 0.803189, 0.949952, 0.903792, 0.749811, 0.828155, 0.159241, 0.8142, 0.063634, 0.941743, -0.008013, 0.740403, 0.108937, 0.182035, 0.178437, 0.179602], [\"v23\", -0.008688, 0.620784, 0.900925, 1.0, 0.731114, 0.929588, 0.835085, 0.63667, 0.754639, -0.110116, 0.71736, 0.150364, 0.85166, -0.040811, 0.647145, 0.13462, 0.108884, 0.106582, 0.095201], [\"v15\", 0.054587, 0.622393, 0.803189, 0.731114, 1.0, 0.786247, 0.805884, 0.626942, 0.969896, 0.172269, 0.713634, 0.047494, 0.84118, -0.012431, 0.623862, 0.123254, 0.167146, 0.166468, 0.202247], [\"v22\", 0.02405, 0.669071, 0.949952, 0.929588, 0.786247, 1.0, 0.90074, 0.66946, 0.813318, 0.055122, 0.788612, 0.103337, 0.943759, -0.020656, 0.667556, 0.109531, 0.142171, 0.141234, 0.136105], [\"v20\", 0.101171, 0.78591, 0.903792, 0.835085, 0.805884, 0.90074, 1.0, 0.741045, 0.825965, 0.203429, 0.899738, 0.048831, 0.960473, 0.003678, 0.741383, 0.12855, 0.189502, 0.178762, 0.202793], [\"v19\", 0.081803, 0.945709, 0.749811, 0.63667, 0.626942, 0.66946, 0.741045, 1.0, 0.648319, 0.25741, 0.660923, 0.034529, 0.755351, -0.006465, 0.984542, 0.124203, 0.224107, 0.217372, 0.230388], [\"v11\", 0.055361, 0.640868, 0.828155, 0.754639, 0.969896, 0.813318, 0.825965, 0.648319, 1.0, 0.176876, 0.733119, 0.048465, 0.86193, -0.009833, 0.641829, 0.127009, 0.177091, 0.175761, 0.205293], [\"v16\", 0.183874, 0.215786, 0.159241, -0.110116, 0.172269, 0.055122, 0.203429, 0.25741, 0.176876, 1.0, 0.212489, -0.164093, 0.19165, 0.137354, 0.224437, 0.038798, 0.243799, 0.241162, 0.263621], [\"v21\", 0.095667, 0.695999, 0.8142, 0.71736, 0.713634, 0.788612, 0.899738, 0.660923, 0.733119, 0.212489, 1.0, 0.027207, 0.866248, 0.001364, 0.658647, 0.092517, 0.184321, 0.177476, 0.208645], [\"v25\", -0.052432, 0.046021, 0.063634, 0.150364, 0.047494, 0.103337, 0.048831, 0.034529, 0.048465, -0.164093, 0.027207, 1.0, 0.04848, -0.012102, 0.041683, 0.130401, 0.001219, -0.005999, 0.002217], [\"v18\", 0.064937, 0.754081, 0.941743, 0.85166, 0.84118, 0.943759, 0.960473, 0.755351, 0.86193, 0.19165, 0.866248, 0.04848, 1.0, -0.008386, 0.752771, 0.107519, 0.179674, 0.177717, 0.190609], [\"v4\", 0.344106, -0.007073, -0.008013, -0.040811, -0.012431, -0.020656, 0.003678, -0.006465, -0.009833, 0.137354, 0.001364, -0.012102, -0.008386, 1.0, -0.01088, 0.076253, 0.341995, 0.328151, 0.25207], [\"v14\", 0.077019, 0.95685, 0.740403, 0.647145, 0.623862, 0.667556, 0.741383, 0.984542, 0.641829, 0.224437, 0.658647, 0.041683, 0.752771, -0.01088, 1.0, 0.120038, 0.220992, 0.21489, 0.228027], [\"v24\", 0.083887, 0.130691, 0.108937, 0.13462, 0.123254, 0.109531, 0.12855, 0.124203, 0.127009, 0.038798, 0.092517, 0.130401, 0.107519, 0.076253, 0.120038, 1.0, 0.149618, 0.134116, 0.134925], [\"v3\", 0.179727, 0.216435, 0.182035, 0.108884, 0.167146, 0.142171, 0.189502, 0.224107, 0.177091, 0.243799, 0.184321, 0.001219, 0.179674, 0.341995, 0.220992, 0.149618, 1.0, 0.935955, 0.710796], [\"v1\", 0.183963, 0.203022, 0.178437, 0.106582, 0.166468, 0.141234, 0.178762, 0.217372, 0.175761, 0.241162, 0.177476, -0.005999, 0.177717, 0.328151, 0.21489, 0.134116, 0.935955, 1.0, 0.68487], [\"v6\", 0.163183, 0.229386, 0.179602, 0.095201, 0.202247, 0.136105, 0.202793, 0.230388, 0.205293, 0.263621, 0.208645, 0.002217, 0.190609, 0.25207, 0.228027, 0.134925, 0.710796, 0.68487, 1.0]]};\n",
       "        dt_args = eval_functions(dt_args);\n",
       "        table = $('#b2aa6ac5-9f7b-41ea-a2aa-3ccd56b48aa8').DataTable(dt_args);\n",
       "    });\n",
       "})\n",
       "</script>\n",
       "</div>\n"
      ],
      "text/plain": [
       "<IPython.core.display.HTML object>"
      ]
     },
     "metadata": {},
     "output_type": "display_data"
    },
    {
     "name": "stdout",
     "output_type": "stream",
     "text": [
      "\u001b[1;31m相关性筛选的特征:\u001b[0m ['v5', 'v12', 'v23', 'v16', 'v25', 'v4', 'v24', 'v3']\n",
      "\u001b[1;31m相关性筛选删除的特征:\u001b[0m ['v13', 'v15', 'v22', 'v20', 'v19', 'v11', 'v21', 'v18', 'v14', 'v1', 'v6']\n",
      "\u001b[1;31m连续变量相关性筛选完成----------------------------- \u001b[0m\n",
      "\u001b[1;31m多重共线性筛选的特征:\u001b[0m ['v5', 'v12', 'v23', 'v16', 'v25', 'v4', 'v24', 'v3']\n",
      "\u001b[1;31m多重共线性删除的特征:\u001b[0m []\n",
      "\u001b[1;31m连续变量多重共线性筛选完成------------------------- \u001b[0m\n"
     ]
    }
   ],
   "source": [
    "#2.5相关性筛选，多重共线性筛选\n",
    "# 特征分类\n",
    "cate_col = []\n",
    "num_col = []\n",
    "for col in iv_select_col:\n",
    "    if train[col].dtype==np.dtype('object') or train[col].dtype==np.dtype('bool') or train[col].nunique()<=5:\n",
    "        cate_col.append(col)\n",
    "    else:\n",
    "        num_col.append(col)\n",
    "\n",
    "#相关性筛选，默认相关系数阈值0.7\n",
    "corr=pd.DataFrame(train[num_col].corr())\n",
    "print(\"\\033[1;31m相关矩阵\\033[0m\")\n",
    "show(corr,columnDefs=[{\"width\": \"250px\", \"targets\": \"_all\"}])\n",
    "\n",
    "corr.to_excel(\"corr.xlsx\")\n",
    "\n",
    "#按照iv高低删除相关性高的变量\n",
    "corr_select_col,corr_delete_col= self_f_2.forward_corr_delete(train,num_col,cut_value=0.7)\n",
    "\n",
    "print(\"\\033[1;31m相关性筛选的特征:\\033[0m\",corr_select_col)\n",
    "print(\"\\033[1;31m相关性筛选删除的特征:\\033[0m\",corr_delete_col)\n",
    "print('\\033[1;31m连续变量相关性筛选完成----------------------------- \\033[0m')\n",
    "\n",
    "#  # 多重共线性筛选，系数阈值10\n",
    "vif_select_col,vif_delete_col = self_f_2.vif_delete(train,corr_select_col)\n",
    "\n",
    "\n",
    "print(\"\\033[1;31m多重共线性筛选的特征:\\033[0m\",vif_select_col)\n",
    "print(\"\\033[1;31m多重共线性删除的特征:\\033[0m\",vif_delete_col)\n",
    "print('\\033[1;31m连续变量多重共线性筛选完成------------------------- \\033[0m')"
   ]
  },
  {
   "cell_type": "markdown",
   "metadata": {},
   "source": [
    "### 分箱调整"
   ]
  },
  {
   "cell_type": "code",
   "execution_count": 15,
   "metadata": {},
   "outputs": [
    {
     "name": "stdout",
     "output_type": "stream",
     "text": [
      "\u001b[1;31m自动调整单调分箱完成-------------------- \u001b[0m\n"
     ]
    }
   ],
   "source": [
    "# 自动调整单调分箱\n",
    "nan_value=-999\n",
    "trim_var_dict = {k:v for k,v in cut_dict.items() if k in vif_select_col}\n",
    "trim_bin_list=[]\n",
    "for col in trim_var_dict.keys():\n",
    "    bin_cut = trim_var_dict[col]\n",
    "    df_bin = [x for x in bin_df_list if x.index.name==col][0]\n",
    "    if nan_value in bin_cut: # 当cut里有缺失映射值时，说明是把缺失单独分为一箱的，后续在进行调成单调分箱时\n",
    "    # 不考虑缺失的箱，故将缺失映射值剔除\n",
    "        woe_lst = df_bin['woe'].tolist()[1:]\n",
    "    else:\n",
    "        woe_lst = df_bin['woe'].tolist()   \n",
    "#     print(col,woe_lst)\n",
    "    if not self_f_2.judge_decreasing(woe_lst) and not self_f_2.judge_increasing(woe_lst): \n",
    "#         print(col)\n",
    "        monot_cut = self_f_2.monot_trim(train, col, target, nan_value=nan_value, cut=bin_cut)\n",
    "#         print(monot_cut)\n",
    "        monot_bin_df = self_f_2.binning_trim(train, col, target, cut=monot_cut, right_border=True)\n",
    "        trim_bin_list.append(monot_bin_df)\n",
    "    else:\n",
    "        trim_bin_list.append(df_bin)\n",
    "\n",
    "        \n",
    "# print(trim_bin_list)\n",
    "# show(bin_df_list[2])\n",
    "# show(trim_bin_list[0])\n",
    "        \n",
    "# adjust_iv_df=self_f_2.iv_transform_df(trim_bin_list)        \n",
    "# show(adjust_iv_df)\n",
    "\n",
    "#调整后的分箱再根据iv筛选一遍\n",
    "select_num_df = []\n",
    "for dd in trim_bin_list:\n",
    "    if dd.IV.iloc[0]>=0.02 and dd.index.name in vif_select_col:\n",
    "        select_num_df.append(dd)\n",
    "\n",
    "print('\\033[1;31m自动调整单调分箱完成-------------------- \\033[0m')"
   ]
  },
  {
   "cell_type": "code",
   "execution_count": 16,
   "metadata": {},
   "outputs": [
    {
     "name": "stdout",
     "output_type": "stream",
     "text": [
      "\u001b[1;31m连续型变量分箱调整后分箱和woe情况 \u001b[0m\n"
     ]
    },
    {
     "data": {
      "text/html": [
       "<div><table id=\"c0bad7b0-3430-42b0-919a-a034ca99a0d6\" class=\"display nowrap\"><thead>\n",
       "    <tr style=\"text-align: right;\">\n",
       "      \n",
       "      <th>col</th>\n",
       "      <th>bin</th>\n",
       "      <th>IV</th>\n",
       "      <th>woe</th>\n",
       "      <th>total</th>\n",
       "      <th>totalrate</th>\n",
       "      <th>bad</th>\n",
       "      <th>badrate</th>\n",
       "      <th>good</th>\n",
       "      <th>goodrate</th>\n",
       "      <th>badattr</th>\n",
       "      <th>goodattr</th>\n",
       "      <th>bin_iv</th>\n",
       "      <th>bins</th>\n",
       "      <th>var_name</th>\n",
       "      <th>fuzhu</th>\n",
       "      <th>min_bin</th>\n",
       "      <th>max_bin</th>\n",
       "    </tr>\n",
       "  </thead></table>\n",
       "<script type=\"text/javascript\">\n",
       "require([\"datatables\"], function (datatables) {\n",
       "    $(document).ready(function () {        \n",
       "        var dt_args = {\"columnDefs\": [{\"width\": \"150px\", \"targets\": \"_all\"}], \"lengthMenu\": [10, 10, 100, 200, 500, 1000, 2000, 5000], \"data\": [[\"v5\", \"(-inf, 5.5]\", 1.12002, -1.138352, 1656, 0.455822, 218, 0.131643, 1438, 0.868357, 0.186804, 0.583131, 0.45116, \"(-inf, 5.5]\", \"v5\", 0, -Infinity, 5.5], [\"v5\", \"(5.5, 13.5]\", 1.12002, -0.089025, 940, 0.258739, 284, 0.302128, 656, 0.697872, 0.243359, 0.266018, 0.002017, \"(5.5, 13.5]\", \"v5\", 1, 5.5, 13.5], [\"v5\", \"(13.5, 25.5]\", 1.12002, 0.860031, 519, 0.142857, 274, 0.527938, 245, 0.472062, 0.23479, 0.099351, 0.116482, \"(13.5, 25.5]\", \"v5\", 2, 13.5, 25.5], [\"v5\", \"(25.5, 35.5]\", 1.12002, 1.546669, 232, 0.063859, 160, 0.689655, 72, 0.310345, 0.137104, 0.029197, 0.166896, \"(25.5, 35.5]\", \"v5\", 3, 25.5, 35.5], [\"v5\", \"(35.5, inf]\", 1.12002, 2.183246, 286, 0.078723, 231, 0.807692, 55, 0.192308, 0.197943, 0.022303, 0.383466, \"(35.5, inf]\", \"v5\", 4, 35.5, Infinity], [\"v12\", \"(-inf, -999.0]\", 1.061416, -1.17577, 361, 0.099367, 46, 0.127424, 315, 0.872576, 0.039417, 0.127737, 0.103844, \"(-inf, -999.0]\", \"v12\", 0, -Infinity, -999.0], [\"v12\", \"(-999.0, 8.872]\", 1.061416, 2.013009, 427, 0.117534, 333, 0.779859, 94, 0.220141, 0.285347, 0.038118, 0.497673, \"(-999.0, 8.872]\", \"v12\", 1, -999.0, 8.872], [\"v12\", \"(8.872, 9.081]\", 1.061416, 1.090204, 431, 0.118635, 252, 0.584687, 179, 0.415313, 0.215938, 0.072587, 0.156282, \"(8.872, 9.081]\", \"v12\", 2, 8.872, 9.081], [\"v12\", \"(9.081, 9.348]\", 1.061416, 0.133074, 778, 0.214148, 273, 0.3509, 505, 0.6491, 0.233933, 0.204785, 0.003879, \"(9.081, 9.348]\", \"v12\", 3, 9.081, 9.348], [\"v12\", \"(9.348, inf]\", 1.061416, -0.904438, 1636, 0.450317, 263, 0.160758, 1373, 0.839242, 0.225364, 0.556772, 0.299738, \"(9.348, inf]\", \"v12\", 4, 9.348, Infinity], [\"v23\", \"(-inf, -999.0]\", 1.022744, -0.808479, 201, 0.055326, 35, 0.174129, 166, 0.825871, 0.029991, 0.067315, 0.030176, \"(-inf, -999.0]\", \"v23\", 0, -Infinity, -999.0], [\"v23\", \"(-999.0, 447.5]\", 1.022744, 1.704658, 562, 0.154693, 406, 0.72242, 156, 0.27758, 0.347901, 0.06326, 0.485214, \"(-999.0, 447.5]\", \"v23\", 1, -999.0, 447.5], [\"v23\", \"(447.5, 549.5]\", 1.022744, 0.85549, 429, 0.118084, 226, 0.526807, 203, 0.473193, 0.193659, 0.08232, 0.09525, \"(447.5, 549.5]\", \"v23\", 2, 447.5, 549.5], [\"v23\", \"(549.5, 687.5]\", 1.022744, -0.180617, 1349, 0.371318, 382, 0.283173, 967, 0.716827, 0.327335, 0.392133, 0.011704, \"(549.5, 687.5]\", \"v23\", 3, 549.5, 687.5], [\"v23\", \"(687.5, inf]\", 1.022744, -1.362566, 1092, 0.300578, 118, 0.108059, 974, 0.891941, 0.101114, 0.394972, 0.4004, \"(687.5, inf]\", \"v23\", 4, 687.5, Infinity], [\"v16\", \"(-inf, -999.0]\", 0.873424, -0.679455, 2481, 0.682907, 480, 0.19347, 2001, 0.80653, 0.411311, 0.811436, 0.271867, \"(-inf, -999.0]\", \"v16\", 0, -Infinity, -999.0], [\"v16\", \"(-999.0, 3.5]\", 0.873424, 0.45658, 449, 0.123589, 192, 0.427617, 257, 0.572383, 0.164524, 0.104217, 0.027535, \"(-999.0, 3.5]\", \"v16\", 1, -999.0, 3.5], [\"v16\", \"(3.5, 5.5]\", 0.873424, 1.473884, 463, 0.127443, 312, 0.673866, 151, 0.326134, 0.267352, 0.061233, 0.303796, \"(3.5, 5.5]\", \"v16\", 2, 3.5, 5.5], [\"v16\", \"(5.5, 6.5]\", 0.873424, 1.556084, 120, 0.033031, 83, 0.691667, 37, 0.308333, 0.071123, 0.015004, 0.087325, \"(5.5, 6.5]\", \"v16\", 3, 5.5, 6.5], [\"v16\", \"(6.5, inf]\", 0.873424, 2.357599, 120, 0.033031, 100, 0.833333, 20, 0.166667, 0.08569, 0.00811, 0.182901, \"(6.5, inf]\", \"v16\", 4, 6.5, Infinity], [\"v25\", \"(-inf, 25.5]\", 0.796799, 1.569651, 514, 0.141481, 357, 0.694553, 157, 0.305447, 0.305913, 0.063666, 0.380243, \"(-inf, 25.5]\", \"v25\", 0, -Infinity, 25.5], [\"v25\", \"(25.5, 35.5]\", 0.796799, 0.661833, 510, 0.14038, 244, 0.478431, 266, 0.521569, 0.209083, 0.107867, 0.066988, \"(25.5, 35.5]\", \"v25\", 1, 25.5, 35.5], [\"v25\", \"(35.5, 40.5]\", 0.796799, 0.229553, 343, 0.094412, 128, 0.373178, 215, 0.626822, 0.109683, 0.087186, 0.005164, \"(35.5, 40.5]\", \"v25\", 2, 35.5, 40.5], [\"v25\", \"(40.5, 56.5]\", 0.796799, -0.308952, 1113, 0.306358, 287, 0.257862, 826, 0.742138, 0.24593, 0.334955, 0.027505, \"(40.5, 56.5]\", \"v25\", 3, 40.5, 56.5], [\"v25\", \"(56.5, inf]\", 0.796799, -1.144312, 1153, 0.317369, 151, 0.130963, 1002, 0.869037, 0.129392, 0.406326, 0.3169, \"(56.5, inf]\", \"v25\", 4, 56.5, Infinity], [\"v4\", \"(-inf, 3.5]\", 0.749577, -0.806627, 1531, 0.421415, 267, 0.174396, 1264, 0.825604, 0.228792, 0.512571, 0.228904, \"(-inf, 3.5]\", \"v4\", 0, -Infinity, 3.5], [\"v4\", \"(3.5, 6.5]\", 0.749577, -0.431892, 702, 0.193229, 165, 0.235043, 537, 0.764957, 0.141388, 0.217762, 0.032985, \"(3.5, 6.5]\", \"v4\", 1, 3.5, 6.5], [\"v4\", \"(6.5, 10.5]\", 0.749577, 0.143621, 484, 0.133223, 171, 0.353306, 313, 0.646694, 0.14653, 0.126926, 0.002815, \"(6.5, 10.5]\", \"v4\", 2, 6.5, 10.5], [\"v4\", \"(10.5, 18.5]\", 0.749577, 0.743542, 433, 0.119185, 216, 0.498845, 217, 0.501155, 0.18509, 0.087997, 0.072193, \"(10.5, 18.5]\", \"v4\", 3, 10.5, 18.5], [\"v4\", \"(18.5, inf]\", 0.749577, 1.695089, 483, 0.132948, 348, 0.720497, 135, 0.279503, 0.298201, 0.054745, 0.41268, \"(18.5, inf]\", \"v4\", 4, 18.5, Infinity], [\"v24\", \"(-inf, -999.0]\", 0.629105, 0.266323, 275, 0.075695, 105, 0.381818, 170, 0.618182, 0.089974, 0.068938, 0.005603, \"(-inf, -999.0]\", \"v24\", 0, -Infinity, -999.0], [\"v24\", \"(-999.0, 588.5]\", 0.629105, 1.818602, 376, 0.103496, 280, 0.744681, 96, 0.255319, 0.239931, 0.038929, 0.365543, \"(-999.0, 588.5]\", \"v24\", 1, -999.0, 588.5], [\"v24\", \"(588.5, 613.5]\", 0.629105, 0.593185, 375, 0.10322, 173, 0.461333, 202, 0.538667, 0.148243, 0.081914, 0.039346, \"(588.5, 613.5]\", \"v24\", 2, 588.5, 613.5], [\"v24\", \"(613.5, 671.5]\", 0.629105, -0.186455, 1649, 0.453895, 465, 0.281989, 1184, 0.718011, 0.398458, 0.48013, 0.015228, \"(613.5, 671.5]\", \"v24\", 3, 613.5, 671.5], [\"v24\", \"(671.5, inf]\", 0.629105, -0.983986, 958, 0.263694, 144, 0.150313, 814, 0.849687, 0.123393, 0.330089, 0.203386, \"(671.5, inf]\", \"v24\", 4, 671.5, Infinity], [\"v3\", \"(-inf, -999.0]\", 0.254016, -0.382974, 992, 0.273053, 242, 0.243952, 750, 0.756048, 0.207369, 0.304136, 0.037059, \"(-inf, -999.0]\", \"v3\", 0, -Infinity, -999.0], [\"v3\", \"(-999.0, 3.5]\", 0.254016, -0.299531, 1448, 0.398569, 376, 0.259669, 1072, 0.740331, 0.322194, 0.434712, 0.033703, \"(-999.0, 3.5]\", \"v3\", 1, -999.0, 3.5], [\"v3\", \"(3.5, 5.5]\", 0.254016, 0.167754, 379, 0.104321, 136, 0.358839, 243, 0.641161, 0.116538, 0.09854, 0.003019, \"(3.5, 5.5]\", \"v3\", 2, 3.5, 5.5], [\"v3\", \"(5.5, 14.5]\", 0.254016, 0.548923, 564, 0.155244, 254, 0.450355, 310, 0.549645, 0.217652, 0.12571, 0.050469, \"(5.5, 14.5]\", \"v3\", 3, 5.5, 14.5], [\"v3\", \"(14.5, inf]\", 0.254016, 1.306206, 250, 0.068814, 159, 0.636, 91, 0.364, 0.136247, 0.036902, 0.129765, \"(14.5, inf]\", \"v3\", 4, 14.5, Infinity]]};\n",
       "        dt_args = eval_functions(dt_args);\n",
       "        table = $('#c0bad7b0-3430-42b0-919a-a034ca99a0d6').DataTable(dt_args);\n",
       "    });\n",
       "})\n",
       "</script>\n",
       "</div>\n"
      ],
      "text/plain": [
       "<IPython.core.display.HTML object>"
      ]
     },
     "metadata": {},
     "output_type": "display_data"
    }
   ],
   "source": [
    "# 连续型特征的woe映射集合表\n",
    "woe_map_num = self_f_2.get_map_df(select_num_df)\n",
    "woe_map_num['bin'] = woe_map_num['bin'].map(lambda x:str(x))\n",
    "woe_map_num['min_bin'] = woe_map_num['bin'].map(lambda x:x.split(',')[0][1:])\n",
    "woe_map_num.to_excel(\"woe_map_num.xlsx\")\n",
    "woe_map_num['max_bin'] = woe_map_num['bin'].map(lambda x:x.split(',')[1][:-1])\n",
    "# show(woe_map_num)\n",
    "woe_map_num['min_bin'] = woe_map_num['min_bin'].map(lambda x:float(x))\n",
    "woe_map_num['max_bin'] = woe_map_num['max_bin'].map(lambda x:float(x))\n",
    "\n",
    "print(\"\\033[1;31m连续型变量分箱调整后分箱和woe情况 \\033[0m\")\n",
    "show(woe_map_num)\n",
    "# print(woe_map_num.columns)"
   ]
  },
  {
   "cell_type": "code",
   "execution_count": 17,
   "metadata": {},
   "outputs": [
    {
     "name": "stdout",
     "output_type": "stream",
     "text": [
      "\u001b[1;31miv筛选后的离散型变量 \u001b[0m ['v17', 'v9', 'v10', 'v26', 'v29', 'v2']\n",
      "\u001b[1;31m连续和离散型变量分箱调整后分箱和woe情况 \u001b[0m\n"
     ]
    },
    {
     "data": {
      "text/html": [
       "<div><table id=\"ea1bbe1d-c6de-4e53-b4fd-08116d5ee74a\" class=\"display nowrap\"><thead>\n",
       "    <tr style=\"text-align: right;\">\n",
       "      \n",
       "      <th>col</th>\n",
       "      <th>bin</th>\n",
       "      <th>IV</th>\n",
       "      <th>woe</th>\n",
       "      <th>total</th>\n",
       "      <th>totalrate</th>\n",
       "      <th>bad</th>\n",
       "      <th>badrate</th>\n",
       "      <th>good</th>\n",
       "      <th>goodrate</th>\n",
       "      <th>badattr</th>\n",
       "      <th>goodattr</th>\n",
       "      <th>bin_iv</th>\n",
       "      <th>bins</th>\n",
       "      <th>var_name</th>\n",
       "      <th>fuzhu</th>\n",
       "      <th>min_bin</th>\n",
       "      <th>max_bin</th>\n",
       "    </tr>\n",
       "  </thead></table>\n",
       "<script type=\"text/javascript\">\n",
       "require([\"datatables\"], function (datatables) {\n",
       "    $(document).ready(function () {        \n",
       "        var dt_args = {\"columnDefs\": [{\"width\": \"150px\", \"targets\": \"_all\"}], \"lengthMenu\": [10, 10, 100, 200, 500, 1000, 2000, 5000], \"data\": [[\"v17\", \"a\", 0.782913, 1.514961, 495, 0.136251, 338, 0.682828, 157, 0.317172, 0.289632, 0.063666, 0.342329, \"a\", \"v17\", 0, \"a\", \"a\"], [\"v17\", \"b\", 0.782913, 1.248405, 151, 0.041563, 94, 0.622517, 57, 0.377483, 0.080548, 0.023114, 0.071701, \"b\", \"v17\", 1, \"b\", \"b\"], [\"v17\", \"c\", 0.782913, 0.978177, 262, 0.072117, 146, 0.557252, 116, 0.442748, 0.125107, 0.04704, 0.076364, \"c\", \"v17\", 2, \"c\", \"c\"], [\"v17\", \"d\", 0.782913, 0.534234, 244, 0.067162, 109, 0.446721, 135, 0.553279, 0.093402, 0.054745, 0.020652, \"d\", \"v17\", 3, \"d\", \"d\"], [\"v17\", \"\\u7f3a\\u5931\", 0.782913, -0.679455, 2481, 0.682907, 480, 0.19347, 2001, 0.80653, 0.411311, 0.811436, 0.271867, \"\\u7f3a\\u5931\", \"v17\", 4, \"\\u7f3a\\u5931\", \"\\u7f3a\\u5931\"], [\"v9\", \"A\", 0.630763, -1.626745, 658, 0.181118, 56, 0.085106, 602, 0.914894, 0.047986, 0.24412, 0.31906, \"A\", \"v9\", 0, \"A\", \"A\"], [\"v9\", \"B\", 0.630763, -0.492481, 1110, 0.305533, 249, 0.224324, 861, 0.775676, 0.213368, 0.349148, 0.066869, \"B\", \"v9\", 1, \"B\", \"B\"], [\"v9\", \"C\", 0.630763, 0.016914, 317, 0.087256, 103, 0.324921, 214, 0.675079, 0.08826, 0.08678, 2.5e-05, \"C\", \"v9\", 2, \"C\", \"C\"], [\"v9\", \"D\", 0.630763, 0.43345, 346, 0.095238, 146, 0.421965, 200, 0.578035, 0.125107, 0.081103, 0.019074, \"D\", \"v9\", 3, \"D\", \"D\"], [\"v9\", \"E\", 0.630763, 0.7881, 1202, 0.330856, 613, 0.509983, 589, 0.490017, 0.525278, 0.238848, 0.225736, \"E\", \"v9\", 4, \"E\", \"E\"], [\"v10\", \"a\", 0.626796, 0.15017, 916, 0.252133, 325, 0.354803, 591, 0.645197, 0.278492, 0.239659, 0.005831, \"a\", \"v10\", 0, \"a\", \"a\"], [\"v10\", \"b\", 0.626796, -0.532134, 800, 0.220204, 174, 0.2175, 626, 0.7825, 0.1491, 0.253852, 0.055742, \"b\", \"v10\", 1, \"b\", \"b\"], [\"v10\", \"c\", 0.626796, -0.805707, 424, 0.116708, 74, 0.174528, 350, 0.825472, 0.06341, 0.14193, 0.063264, \"c\", \"v10\", 2, \"c\", \"c\"], [\"v10\", \"d\", 0.626796, -1.736746, 247, 0.067988, 19, 0.076923, 228, 0.923077, 0.016281, 0.092457, 0.132299, \"d\", \"v10\", 3, \"d\", \"d\"], [\"v10\", \"e\", 0.626796, -2.013956, 101, 0.027801, 6, 0.059406, 95, 0.940594, 0.005141, 0.038524, 0.067231, \"e\", \"v10\", 4, \"e\", \"e\"], [\"v10\", \"f\", 0.626796, -2.717575, 66, 0.018167, 2, 0.030303, 64, 0.969697, 0.001714, 0.025953, 0.065872, \"f\", \"v10\", 5, \"f\", \"f\"], [\"v10\", \"g\", 0.626796, 0.850196, 1079, 0.297, 567, 0.525487, 512, 0.474513, 0.485861, 0.207624, 0.236556, \"g\", \"v10\", 6, \"g\", \"g\"], [\"v26\", \"0\", 0.36096, -0.472104, 2431, 0.669144, 554, 0.22789, 1877, 0.77211, 0.474722, 0.761152, 0.135225, \"0\", \"v26\", 0, \"0\", \"0\"], [\"v26\", \"1\", 0.36096, 0.7881, 1202, 0.330856, 613, 0.509983, 589, 0.490017, 0.525278, 0.238848, 0.225736, \"1\", \"v26\", 1, \"1\", \"1\"], [\"v29\", \"-999.0\", 0.289665, -0.181009, 763, 0.210019, 216, 0.283093, 547, 0.716907, 0.18509, 0.221817, 0.006648, \"-999.0\", \"v29\", 0, \"-999.0\", \"-999.0\"], [\"v29\", \"0.0\", 0.289665, 0.432943, 1868, 0.514176, 788, 0.421842, 1080, 0.578158, 0.675236, 0.437956, 0.102728, \"0.0\", \"v29\", 1, \"0.0\", \"0.0\"], [\"v29\", \"1.0\", 0.289665, -0.895261, 1000, 0.275255, 162, 0.162, 838, 0.838, 0.138817, 0.339822, 0.179951, \"1.0\", \"v29\", 2, \"1.0\", \"1.0\"], [\"v29\", \"2.0\", 0.289665, 0.748161, 2, 0.000551, 1, 0.5, 1, 0.5, 0.000857, 0.000406, 0.000338, \"2.0\", \"v29\", 3, \"2.0\", \"2.0\"], [\"v2\", \"A\", 0.144051, -0.173966, 2882, 0.793284, 820, 0.284525, 2062, 0.715475, 0.702656, 0.836172, 0.023227, \"A\", \"v2\", 0, \"A\", \"A\"], [\"v2\", \"B\", 0.144051, 1.671325, 102, 0.028076, 73, 0.715686, 29, 0.284314, 0.062554, 0.01176, 0.084893, \"B\", \"v2\", 1, \"B\", \"B\"], [\"v2\", \"C\", 0.144051, 0.434363, 649, 0.17864, 274, 0.422188, 375, 0.577812, 0.23479, 0.152068, 0.035931, \"C\", \"v2\", 2, \"C\", \"C\"], [\"v5\", \"(-inf, 5.5]\", 1.12002, -1.138352, 1656, 0.455822, 218, 0.131643, 1438, 0.868357, 0.186804, 0.583131, 0.45116, \"(-inf, 5.5]\", \"v5\", 0, \"-inf\", \"5.5\"], [\"v5\", \"(5.5, 13.5]\", 1.12002, -0.089025, 940, 0.258739, 284, 0.302128, 656, 0.697872, 0.243359, 0.266018, 0.002017, \"(5.5, 13.5]\", \"v5\", 1, \"5.5\", \"13.5\"], [\"v5\", \"(13.5, 25.5]\", 1.12002, 0.860031, 519, 0.142857, 274, 0.527938, 245, 0.472062, 0.23479, 0.099351, 0.116482, \"(13.5, 25.5]\", \"v5\", 2, \"13.5\", \"25.5\"], [\"v5\", \"(25.5, 35.5]\", 1.12002, 1.546669, 232, 0.063859, 160, 0.689655, 72, 0.310345, 0.137104, 0.029197, 0.166896, \"(25.5, 35.5]\", \"v5\", 3, \"25.5\", \"35.5\"], [\"v5\", \"(35.5, inf]\", 1.12002, 2.183246, 286, 0.078723, 231, 0.807692, 55, 0.192308, 0.197943, 0.022303, 0.383466, \"(35.5, inf]\", \"v5\", 4, \"35.5\", \"inf\"], [\"v12\", \"(-inf, -999.0]\", 1.061416, -1.17577, 361, 0.099367, 46, 0.127424, 315, 0.872576, 0.039417, 0.127737, 0.103844, \"(-inf, -999.0]\", \"v12\", 0, \"-inf\", \"-999.0\"], [\"v12\", \"(-999.0, 8.872]\", 1.061416, 2.013009, 427, 0.117534, 333, 0.779859, 94, 0.220141, 0.285347, 0.038118, 0.497673, \"(-999.0, 8.872]\", \"v12\", 1, \"-999.0\", \"8.872\"], [\"v12\", \"(8.872, 9.081]\", 1.061416, 1.090204, 431, 0.118635, 252, 0.584687, 179, 0.415313, 0.215938, 0.072587, 0.156282, \"(8.872, 9.081]\", \"v12\", 2, \"8.872\", \"9.081\"], [\"v12\", \"(9.081, 9.348]\", 1.061416, 0.133074, 778, 0.214148, 273, 0.3509, 505, 0.6491, 0.233933, 0.204785, 0.003879, \"(9.081, 9.348]\", \"v12\", 3, \"9.081\", \"9.348\"], [\"v12\", \"(9.348, inf]\", 1.061416, -0.904438, 1636, 0.450317, 263, 0.160758, 1373, 0.839242, 0.225364, 0.556772, 0.299738, \"(9.348, inf]\", \"v12\", 4, \"9.348\", \"inf\"], [\"v23\", \"(-inf, -999.0]\", 1.022744, -0.808479, 201, 0.055326, 35, 0.174129, 166, 0.825871, 0.029991, 0.067315, 0.030176, \"(-inf, -999.0]\", \"v23\", 0, \"-inf\", \"-999.0\"], [\"v23\", \"(-999.0, 447.5]\", 1.022744, 1.704658, 562, 0.154693, 406, 0.72242, 156, 0.27758, 0.347901, 0.06326, 0.485214, \"(-999.0, 447.5]\", \"v23\", 1, \"-999.0\", \"447.5\"], [\"v23\", \"(447.5, 549.5]\", 1.022744, 0.85549, 429, 0.118084, 226, 0.526807, 203, 0.473193, 0.193659, 0.08232, 0.09525, \"(447.5, 549.5]\", \"v23\", 2, \"447.5\", \"549.5\"], [\"v23\", \"(549.5, 687.5]\", 1.022744, -0.180617, 1349, 0.371318, 382, 0.283173, 967, 0.716827, 0.327335, 0.392133, 0.011704, \"(549.5, 687.5]\", \"v23\", 3, \"549.5\", \"687.5\"], [\"v23\", \"(687.5, inf]\", 1.022744, -1.362566, 1092, 0.300578, 118, 0.108059, 974, 0.891941, 0.101114, 0.394972, 0.4004, \"(687.5, inf]\", \"v23\", 4, \"687.5\", \"inf\"], [\"v16\", \"(-inf, -999.0]\", 0.873424, -0.679455, 2481, 0.682907, 480, 0.19347, 2001, 0.80653, 0.411311, 0.811436, 0.271867, \"(-inf, -999.0]\", \"v16\", 0, \"-inf\", \"-999.0\"], [\"v16\", \"(-999.0, 3.5]\", 0.873424, 0.45658, 449, 0.123589, 192, 0.427617, 257, 0.572383, 0.164524, 0.104217, 0.027535, \"(-999.0, 3.5]\", \"v16\", 1, \"-999.0\", \"3.5\"], [\"v16\", \"(3.5, 5.5]\", 0.873424, 1.473884, 463, 0.127443, 312, 0.673866, 151, 0.326134, 0.267352, 0.061233, 0.303796, \"(3.5, 5.5]\", \"v16\", 2, \"3.5\", \"5.5\"], [\"v16\", \"(5.5, 6.5]\", 0.873424, 1.556084, 120, 0.033031, 83, 0.691667, 37, 0.308333, 0.071123, 0.015004, 0.087325, \"(5.5, 6.5]\", \"v16\", 3, \"5.5\", \"6.5\"], [\"v16\", \"(6.5, inf]\", 0.873424, 2.357599, 120, 0.033031, 100, 0.833333, 20, 0.166667, 0.08569, 0.00811, 0.182901, \"(6.5, inf]\", \"v16\", 4, \"6.5\", \"inf\"], [\"v25\", \"(-inf, 25.5]\", 0.796799, 1.569651, 514, 0.141481, 357, 0.694553, 157, 0.305447, 0.305913, 0.063666, 0.380243, \"(-inf, 25.5]\", \"v25\", 0, \"-inf\", \"25.5\"], [\"v25\", \"(25.5, 35.5]\", 0.796799, 0.661833, 510, 0.14038, 244, 0.478431, 266, 0.521569, 0.209083, 0.107867, 0.066988, \"(25.5, 35.5]\", \"v25\", 1, \"25.5\", \"35.5\"], [\"v25\", \"(35.5, 40.5]\", 0.796799, 0.229553, 343, 0.094412, 128, 0.373178, 215, 0.626822, 0.109683, 0.087186, 0.005164, \"(35.5, 40.5]\", \"v25\", 2, \"35.5\", \"40.5\"], [\"v25\", \"(40.5, 56.5]\", 0.796799, -0.308952, 1113, 0.306358, 287, 0.257862, 826, 0.742138, 0.24593, 0.334955, 0.027505, \"(40.5, 56.5]\", \"v25\", 3, \"40.5\", \"56.5\"], [\"v25\", \"(56.5, inf]\", 0.796799, -1.144312, 1153, 0.317369, 151, 0.130963, 1002, 0.869037, 0.129392, 0.406326, 0.3169, \"(56.5, inf]\", \"v25\", 4, \"56.5\", \"inf\"], [\"v4\", \"(-inf, 3.5]\", 0.749577, -0.806627, 1531, 0.421415, 267, 0.174396, 1264, 0.825604, 0.228792, 0.512571, 0.228904, \"(-inf, 3.5]\", \"v4\", 0, \"-inf\", \"3.5\"], [\"v4\", \"(3.5, 6.5]\", 0.749577, -0.431892, 702, 0.193229, 165, 0.235043, 537, 0.764957, 0.141388, 0.217762, 0.032985, \"(3.5, 6.5]\", \"v4\", 1, \"3.5\", \"6.5\"], [\"v4\", \"(6.5, 10.5]\", 0.749577, 0.143621, 484, 0.133223, 171, 0.353306, 313, 0.646694, 0.14653, 0.126926, 0.002815, \"(6.5, 10.5]\", \"v4\", 2, \"6.5\", \"10.5\"], [\"v4\", \"(10.5, 18.5]\", 0.749577, 0.743542, 433, 0.119185, 216, 0.498845, 217, 0.501155, 0.18509, 0.087997, 0.072193, \"(10.5, 18.5]\", \"v4\", 3, \"10.5\", \"18.5\"], [\"v4\", \"(18.5, inf]\", 0.749577, 1.695089, 483, 0.132948, 348, 0.720497, 135, 0.279503, 0.298201, 0.054745, 0.41268, \"(18.5, inf]\", \"v4\", 4, \"18.5\", \"inf\"], [\"v24\", \"(-inf, -999.0]\", 0.629105, 0.266323, 275, 0.075695, 105, 0.381818, 170, 0.618182, 0.089974, 0.068938, 0.005603, \"(-inf, -999.0]\", \"v24\", 0, \"-inf\", \"-999.0\"], [\"v24\", \"(-999.0, 588.5]\", 0.629105, 1.818602, 376, 0.103496, 280, 0.744681, 96, 0.255319, 0.239931, 0.038929, 0.365543, \"(-999.0, 588.5]\", \"v24\", 1, \"-999.0\", \"588.5\"], [\"v24\", \"(588.5, 613.5]\", 0.629105, 0.593185, 375, 0.10322, 173, 0.461333, 202, 0.538667, 0.148243, 0.081914, 0.039346, \"(588.5, 613.5]\", \"v24\", 2, \"588.5\", \"613.5\"], [\"v24\", \"(613.5, 671.5]\", 0.629105, -0.186455, 1649, 0.453895, 465, 0.281989, 1184, 0.718011, 0.398458, 0.48013, 0.015228, \"(613.5, 671.5]\", \"v24\", 3, \"613.5\", \"671.5\"], [\"v24\", \"(671.5, inf]\", 0.629105, -0.983986, 958, 0.263694, 144, 0.150313, 814, 0.849687, 0.123393, 0.330089, 0.203386, \"(671.5, inf]\", \"v24\", 4, \"671.5\", \"inf\"], [\"v3\", \"(-inf, -999.0]\", 0.254016, -0.382974, 992, 0.273053, 242, 0.243952, 750, 0.756048, 0.207369, 0.304136, 0.037059, \"(-inf, -999.0]\", \"v3\", 0, \"-inf\", \"-999.0\"], [\"v3\", \"(-999.0, 3.5]\", 0.254016, -0.299531, 1448, 0.398569, 376, 0.259669, 1072, 0.740331, 0.322194, 0.434712, 0.033703, \"(-999.0, 3.5]\", \"v3\", 1, \"-999.0\", \"3.5\"], [\"v3\", \"(3.5, 5.5]\", 0.254016, 0.167754, 379, 0.104321, 136, 0.358839, 243, 0.641161, 0.116538, 0.09854, 0.003019, \"(3.5, 5.5]\", \"v3\", 2, \"3.5\", \"5.5\"], [\"v3\", \"(5.5, 14.5]\", 0.254016, 0.548923, 564, 0.155244, 254, 0.450355, 310, 0.549645, 0.217652, 0.12571, 0.050469, \"(5.5, 14.5]\", \"v3\", 3, \"5.5\", \"14.5\"], [\"v3\", \"(14.5, inf]\", 0.254016, 1.306206, 250, 0.068814, 159, 0.636, 91, 0.364, 0.136247, 0.036902, 0.129765, \"(14.5, inf]\", \"v3\", 4, \"14.5\", \"inf\"]]};\n",
       "        dt_args = eval_functions(dt_args);\n",
       "        table = $('#ea1bbe1d-c6de-4e53-b4fd-08116d5ee74a').DataTable(dt_args);\n",
       "    });\n",
       "})\n",
       "</script>\n",
       "</div>\n"
      ],
      "text/plain": [
       "<IPython.core.display.HTML object>"
      ]
     },
     "metadata": {},
     "output_type": "display_data"
    }
   ],
   "source": [
    "if len(cate_col)>0:\n",
    "#     print(cate_col)\n",
    "    bin_cate_list = [x for x in bin_df_list if x.index.name in cate_col]\n",
    "    select_cate_df=bin_cate_list.copy()\n",
    "    # 剔除woe不单调的离散形特征,正常离散型特征无需管woe是否单调，除非是有等级顺序的离散型特征\n",
    "#     select_cate_df=[]\n",
    "#     for i,dd in enumerate(bin_cate_list):\n",
    "#         woe_lst = dd['woe'].tolist()\n",
    "#         if self_f_2.judge_decreasing(woe_lst) or self_f_2.judge_increasing(woe_lst):\n",
    "#             select_cate_df.append(dd)\n",
    "    # 离散型特征的woe映射集合表\n",
    "    if len(select_cate_df)>0:\n",
    "        woe_map_cate = self_f_2.get_map_df(select_cate_df)\n",
    "#         print(woe_map_cate)\n",
    "        woe_map_cate['min_bin'] = list(woe_map_cate['bin'])\n",
    "        woe_map_cate['max_bin'] = list(woe_map_cate['bin'])\n",
    "        woe_map_df = pd.concat([woe_map_cate,woe_map_num],axis=0).reset_index(drop=True)\n",
    "else:\n",
    "    woe_map_df = woe_map_num.reset_index(drop=True)\n",
    "\n",
    "print('\\033[1;31miv筛选后的离散型变量 \\033[0m',cate_col)\n",
    "print(\"\\033[1;31m连续和离散型变量分箱调整后分箱和woe情况 \\033[0m\")\n",
    "show(woe_map_df)"
   ]
  },
  {
   "cell_type": "markdown",
   "metadata": {},
   "source": [
    "### woe编码后相关性筛选"
   ]
  },
  {
   "cell_type": "code",
   "execution_count": 18,
   "metadata": {},
   "outputs": [
    {
     "name": "stdout",
     "output_type": "stream",
     "text": [
      "3633\n"
     ]
    },
    {
     "data": {
      "text/html": [
       "<div><table id=\"9ca5e432-e0dd-40a6-80d5-86401c32a19b\" class=\"display nowrap\"><thead>\n",
       "    <tr style=\"text-align: right;\">\n",
       "      <th></th>\n",
       "      <th>v5</th>\n",
       "      <th>v12</th>\n",
       "      <th>v23</th>\n",
       "      <th>v16</th>\n",
       "      <th>v25</th>\n",
       "      <th>v17</th>\n",
       "      <th>v4</th>\n",
       "      <th>v9</th>\n",
       "      <th>v24</th>\n",
       "      <th>v10</th>\n",
       "      <th>v26</th>\n",
       "      <th>v29</th>\n",
       "      <th>v3</th>\n",
       "      <th>v2</th>\n",
       "    </tr>\n",
       "  </thead></table>\n",
       "<script type=\"text/javascript\">\n",
       "require([\"datatables\"], function (datatables) {\n",
       "    $(document).ready(function () {        \n",
       "        var dt_args = {\"columnDefs\": [{\"width\": \"200px\", \"targets\": \"_all\"}], \"lengthMenu\": [10, 10, 100, 200, 500, 1000, 2000, 5000], \"data\": [[\"v5\", 1.0, 0.747359, 0.605378, 0.699136, 0.284627, 0.668314, 0.881406, 0.044495, 0.350758, 0.052846, 0.048717, 0.194588, 0.702035, 0.444939], [\"v12\", 0.747359, 1.0, 0.722866, 0.739184, 0.342885, 0.718174, 0.630113, 0.099873, 0.399801, 0.118201, 0.065505, 0.203749, 0.426649, 0.294665], [\"v23\", 0.605378, 0.722866, 1.0, 0.73123, 0.402362, 0.741999, 0.535061, 0.249694, 0.434054, 0.208884, 0.152541, 0.195363, 0.342646, 0.241771], [\"v16\", 0.699136, 0.739184, 0.73123, 1.0, 0.351663, 0.95316, 0.605138, 0.130375, 0.375812, 0.145982, 0.090134, 0.165743, 0.408336, 0.257677], [\"v25\", 0.284627, 0.342885, 0.402362, 0.351663, 1.0, 0.32775, 0.234148, 0.408481, 0.375226, 0.349428, 0.296545, 0.099852, 0.101238, 0.073651], [\"v17\", 0.668314, 0.718174, 0.741999, 0.95316, 0.32775, 1.0, 0.582706, 0.116574, 0.344944, 0.135709, 0.083273, 0.164106, 0.399038, 0.250821], [\"v4\", 0.881406, 0.630113, 0.535061, 0.605138, 0.234148, 0.582706, 1.0, -0.000413, 0.251885, 0.027728, 0.000996, 0.169812, 0.79849, 0.481963], [\"v9\", 0.044495, 0.099873, 0.249694, 0.130375, 0.408481, 0.116574, -0.000413, 1.0, 0.339505, 0.796137, 0.751489, 0.079132, -0.086967, 0.002356], [\"v24\", 0.350758, 0.399801, 0.434054, 0.375812, 0.375226, 0.344944, 0.251885, 0.339505, 1.0, 0.288868, 0.212326, 0.119934, 0.117095, 0.082114], [\"v10\", 0.052846, 0.118201, 0.208884, 0.145982, 0.349428, 0.135709, 0.027728, 0.796137, 0.288868, 1.0, 0.685443, 0.115397, -0.071044, 0.015808], [\"v26\", 0.048717, 0.065505, 0.152541, 0.090134, 0.296545, 0.083273, 0.000996, 0.751489, 0.212326, 0.685443, 1.0, 0.047626, -0.088237, 0.035558], [\"v29\", 0.194588, 0.203749, 0.195363, 0.165743, 0.099852, 0.164106, 0.169812, 0.079132, 0.119934, 0.115397, 0.047626, 1.0, 0.11028, 0.070663], [\"v3\", 0.702035, 0.426649, 0.342646, 0.408336, 0.101238, 0.399038, 0.79849, -0.086967, 0.117095, -0.071044, -0.088237, 0.11028, 1.0, 0.532918], [\"v2\", 0.444939, 0.294665, 0.241771, 0.257677, 0.073651, 0.250821, 0.481963, 0.002356, 0.082114, 0.015808, 0.035558, 0.070663, 0.532918, 1.0]]};\n",
       "        dt_args = eval_functions(dt_args);\n",
       "        table = $('#9ca5e432-e0dd-40a6-80d5-86401c32a19b').DataTable(dt_args);\n",
       "    });\n",
       "})\n",
       "</script>\n",
       "</div>\n"
      ],
      "text/plain": [
       "<IPython.core.display.HTML object>"
      ]
     },
     "metadata": {},
     "output_type": "display_data"
    },
    {
     "name": "stdout",
     "output_type": "stream",
     "text": [
      "\u001b[1;31m woe编码后相关性筛选的特征:\u001b[0m ['v5', 'v23', 'v25', 'v9', 'v24', 'v29', 'v2']\n",
      "\u001b[1;31m woe编码后相关性删除的特征:\u001b[0m ['v12', 'v16', 'v17', 'v4', 'v10', 'v26', 'v3']\n",
      "\u001b[1;31m 相关性筛选完成-----------------------------\u001b[0m\n",
      "\u001b[1;31m woe编码后多重共线性筛选的特征:\u001b[0m ['v5', 'v23', 'v25', 'v9', 'v24', 'v29', 'v2']\n",
      "\u001b[1;31m woe编码后多重共线性删除的特征:\u001b[0m []\n",
      "\u001b[1;31m 多重共线性筛选完成--------------------------\u001b[0m\n"
     ]
    }
   ],
   "source": [
    "# woe编码后相关性筛选\n",
    "\n",
    "#对train使用woe编码替换\n",
    "select_all_col = woe_map_df['col'].unique().tolist()\n",
    "select_sort_col = [x for x,y in iv_sort if x in select_all_col]\n",
    "\n",
    "train2 = train.loc[:,select_sort_col+[target]].reset_index(drop=True)\n",
    "print(train2.shape[0])\n",
    "\n",
    "# woe映射\n",
    "train_woe = self_f_2.var_mapping(train2,woe_map_df,'woe',target)\n",
    "X = train_woe.loc[:,select_sort_col]\n",
    "y = train_woe[target]\n",
    "    \n",
    "#相关性展示\n",
    "corr=pd.DataFrame(train[num_col].corr())\n",
    "corr_woe=pd.DataFrame(train_woe[select_sort_col].corr())\n",
    "show(corr_woe, columnDefs=[{\"width\": \"200px\", \"targets\": \"_all\"}])\n",
    "\n",
    "#相关性筛选，默认阈值0.7\n",
    "corr_select_col_woe,corr_delete_col_woe = self_f_2.forward_corr_delete(train_woe,select_sort_col,cut_value=0.7)\n",
    "print(\"\\033[1;31m woe编码后相关性筛选的特征:\\033[0m\",corr_select_col_woe)\n",
    "print(\"\\033[1;31m woe编码后相关性删除的特征:\\033[0m\",corr_delete_col_woe)\n",
    "print(\"\\033[1;31m 相关性筛选完成-----------------------------\\033[0m\")\n",
    "\n",
    "#多重共线性筛选，系数阈值10\n",
    "vif_select_col_woe,vif_delete_col_woe  = self_f_2.vif_delete(train_woe,corr_select_col_woe)\n",
    "print(\"\\033[1;31m woe编码后多重共线性筛选的特征:\\033[0m\",vif_select_col_woe)\n",
    "print(\"\\033[1;31m woe编码后多重共线性删除的特征:\\033[0m\",vif_delete_col_woe)\n",
    "print('\\033[1;31m 多重共线性筛选完成--------------------------\\033[0m')\n",
    "\n",
    "#经过woe变换后的特征相关性和共线性筛选后的特征数据框\n",
    "X1 = X.loc[:,vif_select_col_woe]"
   ]
  },
  {
   "cell_type": "markdown",
   "metadata": {},
   "source": [
    "### 显著性筛选"
   ]
  },
  {
   "cell_type": "code",
   "execution_count": 19,
   "metadata": {},
   "outputs": [
    {
     "name": "stdout",
     "output_type": "stream",
     "text": [
      "Optimization terminated successfully.\n",
      "         Current function value: 0.512949\n",
      "         Iterations 6\n",
      "                           Logit Regression Results                           \n",
      "==============================================================================\n",
      "Dep. Variable:                 target   No. Observations:                 3633\n",
      "Model:                          Logit   Df Residuals:                     3631\n",
      "Method:                           MLE   Df Model:                            1\n",
      "Date:                Sun, 29 Mar 2020   Pseudo R-squ.:                  0.1829\n",
      "Time:                        18:05:38   Log-Likelihood:                -1863.5\n",
      "converged:                       True   LL-Null:                       -2280.8\n",
      "Covariance Type:            nonrobust   LLR p-value:                1.779e-183\n",
      "==============================================================================\n",
      "                 coef    std err          z      P>|z|      [0.025      0.975]\n",
      "------------------------------------------------------------------------------\n",
      "const         -0.7482      0.041    -18.432      0.000      -0.828      -0.669\n",
      "v5             1.0000      0.039     25.859      0.000       0.924       1.076\n",
      "==============================================================================\n",
      "\u001b[1;31m ---------------------------------------------------\u001b[0m\n",
      "Optimization terminated successfully.\n",
      "         Current function value: 0.489407\n",
      "         Iterations 6\n",
      "                           Logit Regression Results                           \n",
      "==============================================================================\n",
      "Dep. Variable:                 target   No. Observations:                 3633\n",
      "Model:                          Logit   Df Residuals:                     3630\n",
      "Method:                           MLE   Df Model:                            2\n",
      "Date:                Sun, 29 Mar 2020   Pseudo R-squ.:                  0.2204\n",
      "Time:                        18:05:38   Log-Likelihood:                -1778.0\n",
      "converged:                       True   LL-Null:                       -2280.8\n",
      "Covariance Type:            nonrobust   LLR p-value:                4.616e-219\n",
      "==============================================================================\n",
      "                 coef    std err          z      P>|z|      [0.025      0.975]\n",
      "------------------------------------------------------------------------------\n",
      "const         -0.7331      0.042    -17.555      0.000      -0.815      -0.651\n",
      "v5             0.6848      0.045     15.204      0.000       0.596       0.773\n",
      "v23            0.5979      0.047     12.814      0.000       0.506       0.689\n",
      "==============================================================================\n",
      "\u001b[1;31m ---------------------------------------------------\u001b[0m\n",
      "Optimization terminated successfully.\n",
      "         Current function value: 0.456185\n",
      "         Iterations 6\n",
      "                           Logit Regression Results                           \n",
      "==============================================================================\n",
      "Dep. Variable:                 target   No. Observations:                 3633\n",
      "Model:                          Logit   Df Residuals:                     3629\n",
      "Method:                           MLE   Df Model:                            3\n",
      "Date:                Sun, 29 Mar 2020   Pseudo R-squ.:                  0.2733\n",
      "Time:                        18:05:38   Log-Likelihood:                -1657.3\n",
      "converged:                       True   LL-Null:                       -2280.8\n",
      "Covariance Type:            nonrobust   LLR p-value:                4.976e-270\n",
      "==============================================================================\n",
      "                 coef    std err          z      P>|z|      [0.025      0.975]\n",
      "------------------------------------------------------------------------------\n",
      "const         -0.7098      0.043    -16.338      0.000      -0.795      -0.625\n",
      "v5             0.7005      0.048     14.707      0.000       0.607       0.794\n",
      "v23            0.4074      0.050      8.145      0.000       0.309       0.505\n",
      "v25            0.7581      0.050     15.131      0.000       0.660       0.856\n",
      "==============================================================================\n",
      "\u001b[1;31m ---------------------------------------------------\u001b[0m\n",
      "Optimization terminated successfully.\n",
      "         Current function value: 0.420791\n",
      "         Iterations 7\n",
      "                           Logit Regression Results                           \n",
      "==============================================================================\n",
      "Dep. Variable:                 target   No. Observations:                 3633\n",
      "Model:                          Logit   Df Residuals:                     3628\n",
      "Method:                           MLE   Df Model:                            4\n",
      "Date:                Sun, 29 Mar 2020   Pseudo R-squ.:                  0.3297\n",
      "Time:                        18:05:38   Log-Likelihood:                -1528.7\n",
      "converged:                       True   LL-Null:                       -2280.8\n",
      "Covariance Type:            nonrobust   LLR p-value:                     0.000\n",
      "==============================================================================\n",
      "                 coef    std err          z      P>|z|      [0.025      0.975]\n",
      "------------------------------------------------------------------------------\n",
      "const         -0.7385      0.046    -16.026      0.000      -0.829      -0.648\n",
      "v5             0.8863      0.052     16.946      0.000       0.784       0.989\n",
      "v23            0.3075      0.053      5.818      0.000       0.204       0.411\n",
      "v25            0.5044      0.053      9.475      0.000       0.400       0.609\n",
      "v9             0.9974      0.067     14.873      0.000       0.866       1.129\n",
      "==============================================================================\n",
      "\u001b[1;31m ---------------------------------------------------\u001b[0m\n",
      "Optimization terminated successfully.\n",
      "         Current function value: 0.418621\n",
      "         Iterations 7\n",
      "                           Logit Regression Results                           \n",
      "==============================================================================\n",
      "Dep. Variable:                 target   No. Observations:                 3633\n",
      "Model:                          Logit   Df Residuals:                     3627\n",
      "Method:                           MLE   Df Model:                            5\n",
      "Date:                Sun, 29 Mar 2020   Pseudo R-squ.:                  0.3332\n",
      "Time:                        18:05:38   Log-Likelihood:                -1520.9\n",
      "converged:                       True   LL-Null:                       -2280.8\n",
      "Covariance Type:            nonrobust   LLR p-value:                     0.000\n",
      "==============================================================================\n",
      "                 coef    std err          z      P>|z|      [0.025      0.975]\n",
      "------------------------------------------------------------------------------\n",
      "const         -0.7351      0.046    -15.904      0.000      -0.826      -0.644\n",
      "v5             0.8581      0.053     16.254      0.000       0.755       0.962\n",
      "v23            0.2711      0.054      5.036      0.000       0.166       0.377\n",
      "v25            0.4746      0.054      8.823      0.000       0.369       0.580\n",
      "v9             0.9479      0.068     13.909      0.000       0.814       1.082\n",
      "v24            0.2505      0.063      3.961      0.000       0.127       0.374\n",
      "==============================================================================\n",
      "\u001b[1;31m ---------------------------------------------------\u001b[0m\n",
      "Optimization terminated successfully.\n",
      "         Current function value: 0.408134\n",
      "         Iterations 7\n",
      "                           Logit Regression Results                           \n",
      "==============================================================================\n",
      "Dep. Variable:                 target   No. Observations:                 3633\n",
      "Model:                          Logit   Df Residuals:                     3626\n",
      "Method:                           MLE   Df Model:                            6\n",
      "Date:                Sun, 29 Mar 2020   Pseudo R-squ.:                  0.3499\n",
      "Time:                        18:05:38   Log-Likelihood:                -1482.8\n",
      "converged:                       True   LL-Null:                       -2280.8\n",
      "Covariance Type:            nonrobust   LLR p-value:                     0.000\n",
      "==============================================================================\n",
      "                 coef    std err          z      P>|z|      [0.025      0.975]\n",
      "------------------------------------------------------------------------------\n",
      "const         -0.7376      0.047    -15.723      0.000      -0.830      -0.646\n",
      "v5             0.8312      0.054     15.526      0.000       0.726       0.936\n",
      "v23            0.2372      0.055      4.302      0.000       0.129       0.345\n",
      "v25            0.4879      0.055      8.922      0.000       0.381       0.595\n",
      "v9             0.9392      0.069     13.617      0.000       0.804       1.074\n",
      "v24            0.2441      0.064      3.812      0.000       0.119       0.370\n",
      "v29            0.7412      0.087      8.517      0.000       0.571       0.912\n",
      "==============================================================================\n",
      "\u001b[1;31m ---------------------------------------------------\u001b[0m\n",
      "Optimization terminated successfully.\n",
      "         Current function value: 0.408134\n",
      "         Iterations 7\n",
      "                           Logit Regression Results                           \n",
      "==============================================================================\n",
      "Dep. Variable:                 target   No. Observations:                 3633\n",
      "Model:                          Logit   Df Residuals:                     3625\n",
      "Method:                           MLE   Df Model:                            7\n",
      "Date:                Sun, 29 Mar 2020   Pseudo R-squ.:                  0.3499\n",
      "Time:                        18:05:38   Log-Likelihood:                -1482.7\n",
      "converged:                       True   LL-Null:                       -2280.8\n",
      "Covariance Type:            nonrobust   LLR p-value:                     0.000\n",
      "==============================================================================\n",
      "                 coef    std err          z      P>|z|      [0.025      0.975]\n",
      "------------------------------------------------------------------------------\n",
      "const         -0.7374      0.047    -15.685      0.000      -0.830      -0.645\n",
      "v5             0.8328      0.058     14.358      0.000       0.719       0.947\n",
      "v23            0.2371      0.055      4.299      0.000       0.129       0.345\n",
      "v25            0.4878      0.055      8.909      0.000       0.380       0.595\n",
      "v9             0.9391      0.069     13.616      0.000       0.804       1.074\n",
      "v24            0.2438      0.064      3.796      0.000       0.118       0.370\n",
      "v29            0.7412      0.087      8.516      0.000       0.571       0.912\n",
      "v2            -0.0094      0.131     -0.072      0.942      -0.266       0.247\n",
      "==============================================================================\n",
      "\u001b[1;31m ---------------------------------------------------\u001b[0m\n",
      "\u001b[1;31m 显著性筛选的变量:\u001b[0m ['v5', 'v23', 'v25', 'v9', 'v24', 'v29']\n",
      "\u001b[1;31m 显著性筛选删除的变量:\u001b[0m ['v2']\n",
      "\u001b[1;31m 显著性筛选完成--------------------------\u001b[0m\n"
     ]
    }
   ],
   "source": [
    "# 3.8 显著性筛选，前向逐步回归\n",
    "pvalue_select_col,pvalue_delete_col = self_f_2.forward_pvalue_delete(X1,y)\n",
    "\n",
    "print(\"\\033[1;31m 显著性筛选的变量:\\033[0m\",pvalue_select_col)\n",
    "print(\"\\033[1;31m 显著性筛选删除的变量:\\033[0m\",pvalue_delete_col)\n",
    "print('\\033[1;31m 显著性筛选完成--------------------------\\033[0m')\n"
   ]
  },
  {
   "cell_type": "markdown",
   "metadata": {},
   "source": [
    "### 剔除系数和其他系数符号不一致的特征\n",
    "**这里之所以没有说系数为正或者为负，是因为如果计算woe时为坏比好，那么逻辑回归系数就为正，如果计算woe时为好比坏，那么逻辑回归系数就为负**"
   ]
  },
  {
   "cell_type": "code",
   "execution_count": 20,
   "metadata": {},
   "outputs": [
    {
     "name": "stdout",
     "output_type": "stream",
     "text": [
      "\u001b[1;31m 删除系数为负的特征: \u001b[0m []\n",
      "\u001b[1;31m 最终入模特征: \u001b[0m ['v5', 'v23', 'v25', 'v9', 'v24', 'v29']\n"
     ]
    }
   ],
   "source": [
    "# 剔除系数为负数的特征\n",
    "X2 = X1.loc[:,pvalue_select_col]\n",
    "coef_select_col,coef_delete_col = self_f_2.forward_delete_coef(X2,y)\n",
    "\n",
    "print(\"\\033[1;31m 删除系数为负的特征: \\033[0m\",coef_delete_col)\n",
    "print(\"\\033[1;31m 最终入模特征: \\033[0m\",coef_select_col)"
   ]
  },
  {
   "cell_type": "markdown",
   "metadata": {},
   "source": [
    "## 模型训练和评价"
   ]
  },
  {
   "cell_type": "code",
   "execution_count": 21,
   "metadata": {},
   "outputs": [
    {
     "name": "stdout",
     "output_type": "stream",
     "text": [
      "\u001b[1;31m 截距：\u001b[0m -0.7138730124691013\n",
      "\u001b[1;31m 特征系数： \u001b[0m {'v5': 0.8578758680782171, 'v23': 0.250733778522878, 'v25': 0.4694939661476515, 'v9': 0.9180777370606691, 'v24': 0.24894890823687515, 'v29': 0.7418605089119888}\n",
      "\u001b[1;31m 建模完成----------------------------------------\n",
      " \u001b[0m\n",
      "\u001b[1;31m 训练集好坏样本数：\n",
      " \u001b[0m 0    1947\n",
      "1     959\n",
      "Name: target, dtype: int64\n",
      "\u001b[1;31m 验证集好坏样本数：\n",
      " \u001b[0m 0    519\n",
      "1    208\n",
      "Name: target, dtype: int64\n",
      "\u001b[1;31m 训练集的AUC，KS: \u001b[0m\n"
     ]
    },
    {
     "data": {
      "image/png": "[encoded data removed]",
      "text/plain": [
       "<Figure size 432x288 with 1 Axes>"
      ]
     },
     "metadata": {
      "needs_background": "light"
     },
     "output_type": "display_data"
    },
    {
     "data": {
      "image/png": "[encoded data removed]",
      "text/plain": [
       "<Figure size 432x288 with 1 Axes>"
      ]
     },
     "metadata": {
      "needs_background": "light"
     },
     "output_type": "display_data"
    },
    {
     "name": "stdout",
     "output_type": "stream",
     "text": [
      "\u001b[1;31m 验证集的AUC，KS: \u001b[0m\n"
     ]
    },
    {
     "data": {
      "image/png": "[encoded data removed]",
      "text/plain": [
       "<Figure size 432x288 with 1 Axes>"
      ]
     },
     "metadata": {
      "needs_background": "light"
     },
     "output_type": "display_data"
    },
    {
     "data": {
      "image/png": "[encoded data removed]",
      "text/plain": [
       "<Figure size 432x288 with 1 Axes>"
      ]
     },
     "metadata": {
      "needs_background": "light"
     },
     "output_type": "display_data"
    }
   ],
   "source": [
    "# LR建模\n",
    "X3 = X2.loc[:,coef_select_col]\n",
    "x_train,x_valid,y_train,y_valid = train_test_split(X3,y,test_size=0.2,random_state=0)\n",
    "# 保存训练集和验证集的index\n",
    "train_index = x_train.index.tolist()\n",
    "valid_index = x_valid.index.tolist()\n",
    "\n",
    "# show(X3,maxBytes=0, columnDefs=[{\"width\": \"200px\", \"targets\": \"_all\"}])\n",
    "\n",
    "lr_model = LogisticRegression(C=1.0).fit(x_train,y_train)\n",
    "coe_dict = {x:y for x,y in zip(x_train.columns,lr_model.coef_[0])}\n",
    "print(\"\\033[1;31m 截距：\\033[0m\",lr_model.intercept_[0])\n",
    "print(\"\\033[1;31m 特征系数： \\033[0m\",coe_dict)\n",
    "print('\\033[1;31m 建模完成----------------------------------------\\n \\033[0m')\n",
    "\n",
    "print(\"\\033[1;31m 训练集好坏样本数：\\n \\033[0m\",y_train.value_counts())\n",
    "print(\"\\033[1;31m 验证集好坏样本数：\\n \\033[0m\",y_valid.value_counts())\n",
    "\n",
    "#绘制训练集的auc，ks\n",
    "train_pre = lr_model.predict_proba(x_train)[:,1]\n",
    "print('\\033[1;31m 训练集的AUC，KS: \\033[0m')\n",
    "self_f_2.plot_roc(y_train,train_pre)\n",
    "self_f_2.plot_model_ks(y_train,train_pre)\n",
    "\n",
    "# 绘制验证集的auc，ks\n",
    "valid_pre = lr_model.predict_proba(x_valid)[:,1]\n",
    "print('\\033[1;31m 验证集的AUC，KS: \\033[0m')\n",
    "self_f_2.plot_roc(y_valid,valid_pre)\n",
    "self_f_2.plot_model_ks(y_valid,valid_pre)  "
   ]
  },
  {
   "cell_type": "code",
   "execution_count": 22,
   "metadata": {},
   "outputs": [
    {
     "name": "stdout",
     "output_type": "stream",
     "text": [
      "\u001b[1;31m 时间外样本集好坏样本数 \u001b[0m\n",
      "0    1030\n",
      "1     237\n",
      "Name: target, dtype: int64\n",
      "\u001b[1;31m 时间外样本集的AUC，KS \u001b[0m\n"
     ]
    },
    {
     "data": {
      "image/png": "[encoded data removed]",
      "text/plain": [
       "<Figure size 432x288 with 1 Axes>"
      ]
     },
     "metadata": {
      "needs_background": "light"
     },
     "output_type": "display_data"
    },
    {
     "data": {
      "image/png": "[encoded data removed]",
      "text/plain": [
       "<Figure size 432x288 with 1 Axes>"
      ]
     },
     "metadata": {
      "needs_background": "light"
     },
     "output_type": "display_data"
    }
   ],
   "source": [
    "woe_map_df2 = woe_map_df[woe_map_df.col.isin(coef_select_col)].reset_index(drop=True)\n",
    "# 绘制测试集的auc，ks\n",
    "oot = oot_data.loc[:,coef_select_col+[target]].reset_index(drop=True)\n",
    "oot_woe = self_f_2.var_mapping(oot,woe_map_df2,'woe',target)\n",
    "x_oot = oot_woe.drop([target],axis=1)\n",
    "y_oot = oot_woe[target]\n",
    "oot_pre = lr_model.predict_proba(x_oot)[:,1]\n",
    "\n",
    "print(\"\\033[1;31m 时间外样本集好坏样本数 \\033[0m\")\n",
    "print(y_oot.value_counts())\n",
    "\n",
    "print('\\033[1;31m 时间外样本集的AUC，KS \\033[0m')\n",
    "self_f_2.plot_roc(y_oot,oot_pre)\n",
    "self_f_2.plot_model_ks(y_oot,oot_pre)"
   ]
  },
  {
   "cell_type": "markdown",
   "metadata": {},
   "source": [
    "## 分数映射&分数分布"
   ]
  },
  {
   "cell_type": "markdown",
   "metadata": {},
   "source": [
    "### 分数刻度&各入模变量相应分箱得分"
   ]
  },
  {
   "cell_type": "code",
   "execution_count": 23,
   "metadata": {},
   "outputs": [
    {
     "name": "stdout",
     "output_type": "stream",
     "text": [
      "\u001b[1;31m 评分卡刻度 \u001b[0m\n"
     ]
    },
    {
     "data": {
      "text/html": [
       "<div><table id=\"3ab06e13-30c5-432e-bfc9-567e15184442\" class=\"display nowrap\"><thead>\n",
       "    <tr style=\"text-align: right;\">\n",
       "      \n",
       "      <th>type</th>\n",
       "      <th>value</th>\n",
       "    </tr>\n",
       "  </thead></table>\n",
       "<script type=\"text/javascript\">\n",
       "require([\"datatables\"], function (datatables) {\n",
       "    $(document).ready(function () {        \n",
       "        var dt_args = {\"columnDefs\": [{\"width\": \"150px\", \"targets\": \"_all\"}], \"lengthMenu\": [10, 10, 100, 200, 500, 1000, 2000, 5000], \"paging\": false, \"data\": [[\"A\", 650.0], [\"B\", 43.280851], [\"base_score\", 680.897032]]};\n",
       "        dt_args = eval_functions(dt_args);\n",
       "        table = $('#3ab06e13-30c5-432e-bfc9-567e15184442').DataTable(dt_args);\n",
       "    });\n",
       "})\n",
       "</script>\n",
       "</div>\n"
      ],
      "text/plain": [
       "<IPython.core.display.HTML object>"
      ]
     },
     "metadata": {},
     "output_type": "display_data"
    },
    {
     "name": "stdout",
     "output_type": "stream",
     "text": [
      "\u001b[1;31m 变量各分箱对应的分数 \u001b[0m\n",
      "\n"
     ]
    },
    {
     "data": {
      "text/html": [
       "<div><table id=\"4d810147-1899-4dfd-ab14-acbd6aef5b9b\" class=\"display nowrap\"><thead>\n",
       "    <tr style=\"text-align: right;\">\n",
       "      \n",
       "      <th>col</th>\n",
       "      <th>bin</th>\n",
       "      <th>IV</th>\n",
       "      <th>score</th>\n",
       "      <th>total</th>\n",
       "      <th>totalrate</th>\n",
       "      <th>bad</th>\n",
       "      <th>badrate</th>\n",
       "      <th>good</th>\n",
       "      <th>goodrate</th>\n",
       "      <th>badattr</th>\n",
       "      <th>goodattr</th>\n",
       "      <th>woe</th>\n",
       "      <th>bin_iv</th>\n",
       "      <th>bins</th>\n",
       "      <th>var_name</th>\n",
       "      <th>min_bin</th>\n",
       "      <th>max_bin</th>\n",
       "      <th>fuzhu</th>\n",
       "    </tr>\n",
       "  </thead></table>\n",
       "<script type=\"text/javascript\">\n",
       "require([\"datatables\"], function (datatables) {\n",
       "    $(document).ready(function () {        \n",
       "        var dt_args = {\"columnDefs\": [{\"width\": \"150px\", \"targets\": \"_all\"}], \"lengthMenu\": [10, 10, 100, 200, 500, 1000, 2000, 5000], \"data\": [[\"v5\", \"(-inf, 5.5]\", 1.12002, 42.0, 1656, 0.455822, 218, 0.131643, 1438, 0.868357, 0.186804, 0.583131, -1.138352, 0.45116, \"(-inf, 5.5]\", \"v5\", \"-inf\", \"5.5\", 9], [\"v5\", \"(5.5, 13.5]\", 1.12002, 3.0, 940, 0.258739, 284, 0.302128, 656, 0.697872, 0.243359, 0.266018, -0.089025, 0.002017, \"(5.5, 13.5]\", \"v5\", \"5.5\", \"13.5\", 10], [\"v5\", \"(13.5, 25.5]\", 1.12002, -32.0, 519, 0.142857, 274, 0.527938, 245, 0.472062, 0.23479, 0.099351, 0.860031, 0.116482, \"(13.5, 25.5]\", \"v5\", \"13.5\", \"25.5\", 11], [\"v5\", \"(25.5, 35.5]\", 1.12002, -57.0, 232, 0.063859, 160, 0.689655, 72, 0.310345, 0.137104, 0.029197, 1.546669, 0.166896, \"(25.5, 35.5]\", \"v5\", \"25.5\", \"35.5\", 12], [\"v5\", \"(35.5, inf]\", 1.12002, -81.0, 286, 0.078723, 231, 0.807692, 55, 0.192308, 0.197943, 0.022303, 2.183246, 0.383466, \"(35.5, inf]\", \"v5\", \"35.5\", \"inf\", 13], [\"v23\", \"(-inf, -999.0]\", 1.022744, 9.0, 201, 0.055326, 35, 0.174129, 166, 0.825871, 0.029991, 0.067315, -0.808479, 0.030176, \"(-inf, -999.0]\", \"v23\", \"-inf\", \"-999.0\", 14], [\"v23\", \"(-999.0, 447.5]\", 1.022744, -18.0, 562, 0.154693, 406, 0.72242, 156, 0.27758, 0.347901, 0.06326, 1.704658, 0.485214, \"(-999.0, 447.5]\", \"v23\", \"-999.0\", \"447.5\", 15], [\"v23\", \"(447.5, 549.5]\", 1.022744, -9.0, 429, 0.118084, 226, 0.526807, 203, 0.473193, 0.193659, 0.08232, 0.85549, 0.09525, \"(447.5, 549.5]\", \"v23\", \"447.5\", \"549.5\", 16], [\"v23\", \"(549.5, 687.5]\", 1.022744, 2.0, 1349, 0.371318, 382, 0.283173, 967, 0.716827, 0.327335, 0.392133, -0.180617, 0.011704, \"(549.5, 687.5]\", \"v23\", \"549.5\", \"687.5\", 17], [\"v23\", \"(687.5, inf]\", 1.022744, 15.0, 1092, 0.300578, 118, 0.108059, 974, 0.891941, 0.101114, 0.394972, -1.362566, 0.4004, \"(687.5, inf]\", \"v23\", \"687.5\", \"inf\", 18], [\"v25\", \"(-inf, 25.5]\", 0.796799, -32.0, 514, 0.141481, 357, 0.694553, 157, 0.305447, 0.305913, 0.063666, 1.569651, 0.380243, \"(-inf, 25.5]\", \"v25\", \"-inf\", \"25.5\", 19], [\"v25\", \"(25.5, 35.5]\", 0.796799, -13.0, 510, 0.14038, 244, 0.478431, 266, 0.521569, 0.209083, 0.107867, 0.661833, 0.066988, \"(25.5, 35.5]\", \"v25\", \"25.5\", \"35.5\", 20], [\"v25\", \"(35.5, 40.5]\", 0.796799, -5.0, 343, 0.094412, 128, 0.373178, 215, 0.626822, 0.109683, 0.087186, 0.229553, 0.005164, \"(35.5, 40.5]\", \"v25\", \"35.5\", \"40.5\", 21], [\"v25\", \"(40.5, 56.5]\", 0.796799, 6.0, 1113, 0.306358, 287, 0.257862, 826, 0.742138, 0.24593, 0.334955, -0.308952, 0.027505, \"(40.5, 56.5]\", \"v25\", \"40.5\", \"56.5\", 22], [\"v25\", \"(56.5, inf]\", 0.796799, 23.0, 1153, 0.317369, 151, 0.130963, 1002, 0.869037, 0.129392, 0.406326, -1.144312, 0.3169, \"(56.5, inf]\", \"v25\", \"56.5\", \"inf\", 23], [\"v9\", \"A\", 0.630763, 65.0, 658, 0.181118, 56, 0.085106, 602, 0.914894, 0.047986, 0.24412, -1.626745, 0.31906, \"A\", \"v9\", \"A\", \"A\", 0], [\"v9\", \"B\", 0.630763, 20.0, 1110, 0.305533, 249, 0.224324, 861, 0.775676, 0.213368, 0.349148, -0.492481, 0.066869, \"B\", \"v9\", \"B\", \"B\", 1], [\"v9\", \"C\", 0.630763, -1.0, 317, 0.087256, 103, 0.324921, 214, 0.675079, 0.08826, 0.08678, 0.016914, 2.5e-05, \"C\", \"v9\", \"C\", \"C\", 2], [\"v9\", \"D\", 0.630763, -17.0, 346, 0.095238, 146, 0.421965, 200, 0.578035, 0.125107, 0.081103, 0.43345, 0.019074, \"D\", \"v9\", \"D\", \"D\", 3], [\"v9\", \"E\", 0.630763, -31.0, 1202, 0.330856, 613, 0.509983, 589, 0.490017, 0.525278, 0.238848, 0.7881, 0.225736, \"E\", \"v9\", \"E\", \"E\", 4], [\"v24\", \"(-inf, -999.0]\", 0.629105, -3.0, 275, 0.075695, 105, 0.381818, 170, 0.618182, 0.089974, 0.068938, 0.266323, 0.005603, \"(-inf, -999.0]\", \"v24\", \"-inf\", \"-999.0\", 24], [\"v24\", \"(-999.0, 588.5]\", 0.629105, -20.0, 376, 0.103496, 280, 0.744681, 96, 0.255319, 0.239931, 0.038929, 1.818602, 0.365543, \"(-999.0, 588.5]\", \"v24\", \"-999.0\", \"588.5\", 25], [\"v24\", \"(588.5, 613.5]\", 0.629105, -6.0, 375, 0.10322, 173, 0.461333, 202, 0.538667, 0.148243, 0.081914, 0.593185, 0.039346, \"(588.5, 613.5]\", \"v24\", \"588.5\", \"613.5\", 26], [\"v24\", \"(613.5, 671.5]\", 0.629105, 2.0, 1649, 0.453895, 465, 0.281989, 1184, 0.718011, 0.398458, 0.48013, -0.186455, 0.015228, \"(613.5, 671.5]\", \"v24\", \"613.5\", \"671.5\", 27], [\"v24\", \"(671.5, inf]\", 0.629105, 11.0, 958, 0.263694, 144, 0.150313, 814, 0.849687, 0.123393, 0.330089, -0.983986, 0.203386, \"(671.5, inf]\", \"v24\", \"671.5\", \"inf\", 28], [\"v29\", \"-999.0\", 0.289665, 6.0, 763, 0.210019, 216, 0.283093, 547, 0.716907, 0.18509, 0.221817, -0.181009, 0.006648, \"-999.0\", \"v29\", \"-999.0\", \"-999.0\", 5], [\"v29\", \"0.0\", 0.289665, -14.0, 1868, 0.514176, 788, 0.421842, 1080, 0.578158, 0.675236, 0.437956, 0.432943, 0.102728, \"0.0\", \"v29\", \"0.0\", \"0.0\", 6], [\"v29\", \"1.0\", 0.289665, 29.0, 1000, 0.275255, 162, 0.162, 838, 0.838, 0.138817, 0.339822, -0.895261, 0.179951, \"1.0\", \"v29\", \"1.0\", \"1.0\", 7], [\"v29\", \"2.0\", 0.289665, -24.0, 2, 0.000551, 1, 0.5, 1, 0.5, 0.000857, 0.000406, 0.748161, 0.000338, \"2.0\", \"v29\", \"2.0\", \"2.0\", 8]]};\n",
       "        dt_args = eval_functions(dt_args);\n",
       "        table = $('#4d810147-1899-4dfd-ab14-acbd6aef5b9b').DataTable(dt_args);\n",
       "    });\n",
       "})\n",
       "</script>\n",
       "</div>\n"
      ],
      "text/plain": [
       "<IPython.core.display.HTML object>"
      ]
     },
     "metadata": {},
     "output_type": "display_data"
    }
   ],
   "source": [
    "# 评分转换\n",
    "A,B,base_score = self_f_2.cal_scale(650,1,30,lr_model)\n",
    "dict_score_scale={\"A\":A,\"B\":B,\"base_score\":base_score}\n",
    "df_score_scale=pd.DataFrame(pd.Series(dict_score_scale),columns=[\"value\"])\n",
    "df_score_scale=df_score_scale.reset_index().rename(columns={'index':'type'})\n",
    "\n",
    "print(\"\\033[1;31m 评分卡刻度 \\033[0m\")\n",
    "show(df_score_scale)\n",
    "\n",
    "score_map_df  = self_f_2.get_score_map(woe_map_df2,coe_dict,B)\n",
    "print(\"\\033[1;31m 变量各分箱对应的分数 \\033[0m\\n\")\n",
    "show(score_map_df)"
   ]
  },
  {
   "cell_type": "markdown",
   "metadata": {},
   "source": [
    "### 训练集&验证集&时间外样本分数转换"
   ]
  },
  {
   "cell_type": "code",
   "execution_count": 24,
   "metadata": {},
   "outputs": [
    {
     "name": "stdout",
     "output_type": "stream",
     "text": [
      "\u001b[1;31m 评分转换完成--------------------------------------- \u001b[0m\n"
     ]
    }
   ],
   "source": [
    "# 分数映射\n",
    "#训练集\n",
    "train2_new=pd.merge(train_data,train_id,left_index=True,right_index=True)#之所以在这步就进行合并，将用户唯一识别ID识别出来，\n",
    "#因为在下一步由于是针对原始训练集进行来训练集和验证集抽样，进行索引重制时，会更新原有索引，无法通过索引关联，嫁给你用户唯一识别码合并进来\n",
    "# print(train2.shape[0])\n",
    "# print(train2.columns)\n",
    "# print(train2_new.shape[0])\n",
    "# print(train2_new.columns)\n",
    "\n",
    "train_data_2 = train2_new.iloc[train_index,:].loc[:,[key_name]+coef_select_col+[target]].reset_index(drop=True)\n",
    "train_score = self_f_2.var_mapping(train_data_2,score_map_df,'score',target)\n",
    "train_score['final_score'] = base_score\n",
    "for col in coef_select_col:\n",
    "    train_score['final_score']+=train_score[col]\n",
    "train_score['final_score'] = train_score['final_score'].map(lambda x:int(x))\n",
    "# train_score_new=pd.merge(train_id,train_score,left_index=True,right_index=True)\n",
    "train_score.to_excel(\"train_score.xlsx\")\n",
    "\n",
    "#验证集\n",
    "valid_data = train2_new.iloc[valid_index,:].loc[:,[key_name]+coef_select_col+[target]].reset_index(drop=True)\n",
    "valid_score = self_f_2.var_mapping(valid_data,score_map_df,'score',target)\n",
    "valid_score['final_score'] = base_score\n",
    "for col in coef_select_col:\n",
    "    valid_score['final_score']+=valid_score[col]\n",
    "valid_score['final_score'] = valid_score['final_score'].map(lambda x:int(x))\n",
    "valid_score.to_excel(\"valid_score.xlsx\")\n",
    "\n",
    "oot_new=oot_data.loc[:,[key_name]+coef_select_col+[target]].reset_index(drop=True)\n",
    "oot_score = self_f_2.var_mapping(oot_new,score_map_df,'score',target)\n",
    "oot_score['final_score'] = base_score\n",
    "for col in coef_select_col:\n",
    "    oot_score['final_score']+=oot_score[col]\n",
    "oot_score['final_score'] = oot_score['final_score'].map(lambda x:int(x))\n",
    "oot_score.to_excel(\"oot_score.xlsx\")\n",
    "\n",
    "print('\\033[1;31m 评分转换完成--------------------------------------- \\033[0m')"
   ]
  },
  {
   "cell_type": "markdown",
   "metadata": {},
   "source": [
    "### 训练集&验证集&时间外样本分数分箱分布"
   ]
  },
  {
   "cell_type": "code",
   "execution_count": 25,
   "metadata": {},
   "outputs": [
    {
     "name": "stdout",
     "output_type": "stream",
     "text": [
      "\u001b[1;31m 训练集评分分箱分布\u001b[0m\n"
     ]
    },
    {
     "data": {
      "text/html": [
       "<div><table id=\"2d0fe8d9-8e59-426c-a3d5-97900210ea03\" class=\"display nowrap\"><thead>\n",
       "    <tr style=\"text-align: right;\">\n",
       "      <th></th>\n",
       "      <th>final_score</th>\n",
       "      <th>ks</th>\n",
       "      <th>pass_rate</th>\n",
       "      <th>total</th>\n",
       "      <th>totalrate</th>\n",
       "      <th>bad</th>\n",
       "      <th>badrate</th>\n",
       "      <th>good</th>\n",
       "      <th>goodrate</th>\n",
       "      <th>lj_bad</th>\n",
       "      <th>lj_bad_rate</th>\n",
       "      <th>lj_good</th>\n",
       "      <th>lj_good_rate</th>\n",
       "      <th>badattr</th>\n",
       "      <th>goodattr</th>\n",
       "    </tr>\n",
       "  </thead></table>\n",
       "<script type=\"text/javascript\">\n",
       "require([\"datatables\"], function (datatables) {\n",
       "    $(document).ready(function () {        \n",
       "        var dt_args = {\"columnDefs\": [{\"width\": \"90px\", \"targets\": \"_all\"}], \"lengthMenu\": [10, 10, 100, 200, 500, 1000, 2000, 5000], \"data\": [[0, \"(572.999, 623.0]\", \"19.76%\", \"89.78%\", 297, \"10.22%\", 225, \"75.76%\", 72, \"24.24%\", 225, \"23.46%\", 72, \"3.70%\", \"23.46%\", \"3.70%\"], [1, \"(623.0, 659.0]\", \"29.46%\", \"79.80%\", 290, \"9.98%\", 158, \"54.48%\", 132, \"45.52%\", 383, \"39.94%\", 204, \"10.48%\", \"16.48%\", \"6.78%\"], [2, \"(659.0, 682.0]\", \"34.18%\", \"69.51%\", 299, \"10.29%\", 129, \"43.14%\", 170, \"56.86%\", 512, \"53.39%\", 374, \"19.21%\", \"13.45%\", \"8.73%\"], [3, \"(682.0, 693.0]\", \"33.89%\", \"64.73%\", 139, \"4.78%\", 44, \"31.65%\", 95, \"68.35%\", 556, \"57.98%\", 469, \"24.09%\", \"4.59%\", \"4.88%\"], [4, \"(693.0, 704.0]\", \"31.21%\", \"59.81%\", 143, \"4.92%\", 30, \"20.98%\", 113, \"79.02%\", 586, \"61.11%\", 582, \"29.89%\", \"3.13%\", \"5.80%\"], [5, \"(704.0, 717.0]\", \"26.41%\", \"54.61%\", 151, \"5.20%\", 19, \"12.58%\", 132, \"87.42%\", 605, \"63.09%\", 714, \"36.67%\", \"1.98%\", \"6.78%\"], [6, \"(717.0, 726.0]\", \"23.22%\", \"49.86%\", 138, \"4.75%\", 25, \"18.12%\", 113, \"81.88%\", 630, \"65.69%\", 827, \"42.48%\", \"2.61%\", \"5.80%\"], [7, \"(726.0, 737.0]\", \"17.12%\", \"44.74%\", 149, \"5.13%\", 10, \"6.71%\", 139, \"93.29%\", 640, \"66.74%\", 966, \"49.61%\", \"1.04%\", \"7.14%\"], [8, \"(737.0, 747.0]\", \"10.61%\", \"39.44%\", 154, \"5.30%\", 9, \"5.84%\", 145, \"94.16%\", 649, \"67.67%\", 1111, \"57.06%\", \"0.94%\", \"7.45%\"], [9, \"(747.0, 771.0]\", \"1.59%\", \"29.70%\", 283, \"9.74%\", 15, \"5.30%\", 268, \"94.70%\", 664, \"69.24%\", 1379, \"70.83%\", \"1.56%\", \"13.76%\"], [10, \"(771.0, 799.0]\", \"13.06%\", \"19.92%\", 284, \"9.77%\", 20, \"7.04%\", 264, \"92.96%\", 684, \"71.32%\", 1643, \"84.39%\", \"2.09%\", \"13.56%\"], [11, \"(799.0, 865.0]\", \"26.24%\", \"9.94%\", 290, \"9.98%\", 11, \"3.79%\", 279, \"96.21%\", 695, \"72.47%\", 1922, \"98.72%\", \"1.15%\", \"14.33%\"]]};\n",
       "        dt_args = eval_functions(dt_args);\n",
       "        table = $('#2d0fe8d9-8e59-426c-a3d5-97900210ea03').DataTable(dt_args);\n",
       "    });\n",
       "})\n",
       "</script>\n",
       "</div>\n"
      ],
      "text/plain": [
       "<IPython.core.display.HTML object>"
      ]
     },
     "metadata": {},
     "output_type": "display_data"
    },
    {
     "name": "stdout",
     "output_type": "stream",
     "text": [
      "\u001b[1;31m 验证集评分分箱分布\u001b[0m\n"
     ]
    },
    {
     "data": {
      "text/html": [
       "<div><table id=\"80388b59-d981-463e-92d4-50b066064262\" class=\"display nowrap\"><thead>\n",
       "    <tr style=\"text-align: right;\">\n",
       "      <th></th>\n",
       "      <th>final_score</th>\n",
       "      <th>ks</th>\n",
       "      <th>pass_rate</th>\n",
       "      <th>total</th>\n",
       "      <th>totalrate</th>\n",
       "      <th>bad</th>\n",
       "      <th>badrate</th>\n",
       "      <th>good</th>\n",
       "      <th>goodrate</th>\n",
       "      <th>lj_bad</th>\n",
       "      <th>lj_bad_rate</th>\n",
       "      <th>lj_good</th>\n",
       "      <th>lj_good_rate</th>\n",
       "      <th>badattr</th>\n",
       "      <th>goodattr</th>\n",
       "    </tr>\n",
       "  </thead></table>\n",
       "<script type=\"text/javascript\">\n",
       "require([\"datatables\"], function (datatables) {\n",
       "    $(document).ready(function () {        \n",
       "        var dt_args = {\"columnDefs\": [{\"width\": \"90px\", \"targets\": \"_all\"}], \"lengthMenu\": [10, 10, 100, 200, 500, 1000, 2000, 5000], \"data\": [[0, \"(587.999, 633.6]\", \"17.39%\", \"89.82%\", 74, \"10.18%\", 47, \"63.51%\", 27, \"36.49%\", 47, \"22.60%\", 27, \"5.20%\", \"22.60%\", \"5.20%\"], [1, \"(633.6, 669.0]\", \"32.29%\", \"79.78%\", 73, \"10.04%\", 43, \"58.90%\", 30, \"41.10%\", 90, \"43.27%\", 57, \"10.98%\", \"20.67%\", \"5.78%\"], [2, \"(669.0, 694.0]\", \"33.52%\", \"69.60%\", 74, \"10.18%\", 23, \"31.08%\", 51, \"68.92%\", 113, \"54.33%\", 108, \"20.81%\", \"11.06%\", \"9.83%\"], [3, \"(694.0, 703.7]\", \"33.70%\", \"64.92%\", 34, \"4.68%\", 10, \"29.41%\", 24, \"70.59%\", 123, \"59.13%\", 132, \"25.43%\", \"4.81%\", \"4.62%\"], [4, \"(703.7, 713.0]\", \"29.07%\", \"59.70%\", 38, \"5.23%\", 4, \"10.53%\", 34, \"89.47%\", 127, \"61.06%\", 166, \"31.98%\", \"1.92%\", \"6.55%\"], [5, \"(713.0, 725.0]\", \"25.02%\", \"53.92%\", 42, \"5.78%\", 6, \"14.29%\", 36, \"85.71%\", 133, \"63.94%\", 202, \"38.92%\", \"2.88%\", \"6.94%\"], [6, \"(725.0, 732.0]\", \"21.07%\", \"49.66%\", 31, \"4.26%\", 3, \"9.68%\", 28, \"90.32%\", 136, \"65.38%\", 230, \"44.32%\", \"1.44%\", \"5.39%\"], [7, \"(732.0, 743.0]\", \"16.15%\", \"44.70%\", 36, \"4.95%\", 3, \"8.33%\", 33, \"91.67%\", 139, \"66.83%\", 263, \"50.67%\", \"1.44%\", \"6.36%\"], [8, \"(743.0, 757.2]\", \"10.76%\", \"39.89%\", 35, \"4.81%\", 2, \"5.71%\", 33, \"94.29%\", 141, \"67.79%\", 296, \"57.03%\", \"0.96%\", \"6.36%\"], [9, \"(757.2, 779.4]\", \"1.10%\", \"29.99%\", 72, \"9.90%\", 3, \"4.17%\", 69, \"95.83%\", 144, \"69.23%\", 365, \"70.33%\", \"1.44%\", \"13.29%\"], [10, \"(779.4, 809.8]\", \"14.49%\", \"19.94%\", 73, \"10.04%\", 1, \"1.37%\", 72, \"98.63%\", 145, \"69.71%\", 437, \"84.20%\", \"0.48%\", \"13.87%\"], [11, \"(809.8, 865.0]\", \"25.86%\", \"9.90%\", 73, \"10.04%\", 4, \"5.48%\", 69, \"94.52%\", 149, \"71.63%\", 506, \"97.50%\", \"1.92%\", \"13.29%\"]]};\n",
       "        dt_args = eval_functions(dt_args);\n",
       "        table = $('#80388b59-d981-463e-92d4-50b066064262').DataTable(dt_args);\n",
       "    });\n",
       "})\n",
       "</script>\n",
       "</div>\n"
      ],
      "text/plain": [
       "<IPython.core.display.HTML object>"
      ]
     },
     "metadata": {},
     "output_type": "display_data"
    },
    {
     "name": "stdout",
     "output_type": "stream",
     "text": [
      "\u001b[1;31m 时间外验证集评分分箱分布\u001b[0m\n"
     ]
    },
    {
     "data": {
      "text/html": [
       "<div><table id=\"ade4abf5-270f-48e8-8e46-551194d422bd\" class=\"display nowrap\"><thead>\n",
       "    <tr style=\"text-align: right;\">\n",
       "      <th></th>\n",
       "      <th>final_score</th>\n",
       "      <th>ks</th>\n",
       "      <th>pass_rate</th>\n",
       "      <th>total</th>\n",
       "      <th>totalrate</th>\n",
       "      <th>bad</th>\n",
       "      <th>badrate</th>\n",
       "      <th>good</th>\n",
       "      <th>goodrate</th>\n",
       "      <th>lj_bad</th>\n",
       "      <th>lj_bad_rate</th>\n",
       "      <th>lj_good</th>\n",
       "      <th>lj_good_rate</th>\n",
       "      <th>badattr</th>\n",
       "      <th>goodattr</th>\n",
       "    </tr>\n",
       "  </thead></table>\n",
       "<script type=\"text/javascript\">\n",
       "require([\"datatables\"], function (datatables) {\n",
       "    $(document).ready(function () {        \n",
       "        var dt_args = {\"columnDefs\": [{\"width\": \"90px\", \"targets\": \"_all\"}], \"lengthMenu\": [10, 10, 100, 200, 500, 1000, 2000, 5000], \"data\": [[0, \"(580.599, 632.0]\", \"15.50%\", \"89.82%\", 129, \"10.18%\", 54, \"41.86%\", 75, \"58.14%\", 54, \"22.78%\", 75, \"7.28%\", \"22.78%\", \"7.28%\"], [1, \"(632.0, 669.0]\", \"21.96%\", \"79.87%\", 126, \"9.94%\", 36, \"28.57%\", 90, \"71.43%\", 90, \"37.97%\", 165, \"16.02%\", \"15.19%\", \"8.74%\"], [2, \"(669.0, 697.0]\", \"18.77%\", \"69.69%\", 129, \"10.18%\", 18, \"13.95%\", 111, \"86.05%\", 108, \"45.57%\", 276, \"26.80%\", \"7.59%\", \"10.78%\"], [3, \"(697.0, 706.0]\", \"16.62%\", \"64.56%\", 65, \"5.13%\", 8, \"12.31%\", 57, \"87.69%\", 116, \"48.95%\", 333, \"32.33%\", \"3.38%\", \"5.53%\"], [4, \"(706.0, 716.0]\", \"14.94%\", \"59.83%\", 60, \"4.74%\", 8, \"13.33%\", 52, \"86.67%\", 124, \"52.32%\", 385, \"37.38%\", \"3.38%\", \"5.05%\"], [5, \"(716.0, 725.0]\", \"9.96%\", \"53.67%\", 78, \"6.16%\", 5, \"6.41%\", 73, \"93.59%\", 129, \"54.43%\", 458, \"44.47%\", \"2.11%\", \"7.09%\"], [6, \"(725.0, 733.0]\", \"6.67%\", \"49.72%\", 50, \"3.95%\", 3, \"6.00%\", 47, \"94.00%\", 132, \"55.70%\", 505, \"49.03%\", \"1.27%\", \"4.56%\"], [7, \"(733.0, 744.0]\", \"1.88%\", \"44.99%\", 60, \"4.74%\", 2, \"3.33%\", 58, \"96.67%\", 134, \"56.54%\", 563, \"54.66%\", \"0.84%\", \"5.63%\"], [8, \"(744.0, 756.2]\", \"3.20%\", \"40.02%\", 63, \"4.97%\", 2, \"3.17%\", 61, \"96.83%\", 136, \"57.38%\", 624, \"60.58%\", \"0.84%\", \"5.92%\"], [9, \"(756.2, 777.0]\", \"15.20%\", \"29.83%\", 129, \"10.18%\", 1, \"0.78%\", 128, \"99.22%\", 137, \"57.81%\", 752, \"73.01%\", \"0.42%\", \"12.43%\"], [10, \"(777.0, 807.0]\", \"26.07%\", \"19.73%\", 128, \"10.10%\", 3, \"2.34%\", 125, \"97.66%\", 140, \"59.07%\", 877, \"85.15%\", \"1.27%\", \"12.14%\"], [11, \"(807.0, 865.0]\", \"38.02%\", \"10.02%\", 123, \"9.71%\", 0, \"0.00%\", 123, \"100.00%\", 140, \"59.07%\", 1000, \"97.09%\", \"0.00%\", \"11.94%\"]]};\n",
       "        dt_args = eval_functions(dt_args);\n",
       "        table = $('#ade4abf5-270f-48e8-8e46-551194d422bd').DataTable(dt_args);\n",
       "    });\n",
       "})\n",
       "</script>\n",
       "</div>\n"
      ],
      "text/plain": [
       "<IPython.core.display.HTML object>"
      ]
     },
     "metadata": {},
     "output_type": "display_data"
    },
    {
     "data": {
      "image/png": "[encoded data removed]",
      "text/plain": [
       "<Figure size 432x288 with 1 Axes>"
      ]
     },
     "metadata": {
      "needs_background": "light"
     },
     "output_type": "display_data"
    },
    {
     "data": {
      "image/png": "[encoded data removed]",
      "text/plain": [
       "<Figure size 432x288 with 1 Axes>"
      ]
     },
     "metadata": {
      "needs_background": "light"
     },
     "output_type": "display_data"
    },
    {
     "data": {
      "image/png": "[encoded data removed]",
      "text/plain": [
       "<Figure size 432x288 with 1 Axes>"
      ]
     },
     "metadata": {
      "needs_background": "light"
     },
     "output_type": "display_data"
    }
   ],
   "source": [
    "#分数分布，默认按照以下分位点分箱[0.1,0.2,0.3,0.4,0.45,0.5,0.55,0.6,0.65,0.7,0.8,0.9,1.0]\n",
    "#训练集\n",
    "print(\"\\033[1;31m 训练集评分分箱分布\\033[0m\")\n",
    "train_score_distribution=self_f_2.score_distribution(train_score)\n",
    "show(train_score_distribution,columnDefs=[{\"width\": \"90px\", \"targets\": \"_all\"}])\n",
    "\n",
    "#验证集\n",
    "print(\"\\033[1;31m 验证集评分分箱分布\\033[0m\")\n",
    "valid_score_distribution=self_f_2.score_distribution(valid_score)\n",
    "show(valid_score_distribution,columnDefs=[{\"width\": \"90px\", \"targets\": \"_all\"}])\n",
    "\n",
    "#时间外验证集\n",
    "print(\"\\033[1;31m 时间外验证集评分分箱分布\\033[0m\")\n",
    "oot_score_distribution=self_f_2.score_distribution(oot_score)\n",
    "show(oot_score_distribution,columnDefs=[{\"width\": \"90px\", \"targets\": \"_all\"}])\n",
    "\n",
    "# 训练集的评分分布\n",
    "self_f_2.plot_score_hist(train_score, target, 'final_score','train_score',plt_size=(6,4))\n",
    "# 验证集的评分分布\n",
    "self_f_2.plot_score_hist(valid_score, target, 'final_score','valid_score',plt_size=(6,4))\n",
    "# 测试集的评分分布\n",
    "self_f_2.plot_score_hist(oot_score, target, 'final_score','oot_score',plt_size=(6,4))"
   ]
  }
 ],
 "metadata": {
  "hide_input": false,
  "kernelspec": {
   "display_name": "Python 3",
   "language": "python",
   "name": "python3"
  },
  "language_info": {
   "codemirror_mode": {
    "name": "ipython",
    "version": 3
   },
   "file_extension": ".py",
   "mimetype": "text/x-python",
   "name": "python",
   "nbconvert_exporter": "python",
   "pygments_lexer": "ipython3",
   "version": "3.7.4"
  },
  "toc": {
   "base_numbering": 1,
   "nav_menu": {},
   "number_sections": true,
   "sideBar": true,
   "skip_h1_title": true,
   "title_cell": "Table of Contents",
   "title_sidebar": "Contents",
   "toc_cell": true,
   "toc_position": {
    "height": "calc(100% - 180px)",
    "left": "10px",
    "top": "150px",
    "width": "288px"
   },
   "toc_section_display": true,
   "toc_window_display": true
  }
 },
 "nbformat": 4,
 "nbformat_minor": 2
}

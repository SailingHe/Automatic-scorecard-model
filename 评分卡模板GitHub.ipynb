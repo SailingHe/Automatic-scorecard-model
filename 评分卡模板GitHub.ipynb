{
 "cells": [
  {
   "cell_type": "markdown",
   "metadata": {
    "toc": true
   },
   "source": [
    "<h1>Table of Contents<span class=\"tocSkip\"></span></h1>\n",
    "<div class=\"toc\"><ul class=\"toc-item\"><li><span><a href=\"#报告目的\" data-toc-modified-id=\"报告目的-1\"><span class=\"toc-item-num\">1&nbsp;&nbsp;</span>报告目的</a></span></li><li><span><a href=\"#数据来源\" data-toc-modified-id=\"数据来源-2\"><span class=\"toc-item-num\">2&nbsp;&nbsp;</span>数据来源</a></span></li><li><span><a href=\"#名词解释\" data-toc-modified-id=\"名词解释-3\"><span class=\"toc-item-num\">3&nbsp;&nbsp;</span>名词解释</a></span></li><li><span><a href=\"#数据读取&amp;基本情况查看\" data-toc-modified-id=\"数据读取&amp;基本情况查看-4\"><span class=\"toc-item-num\">4&nbsp;&nbsp;</span>数据读取&amp;基本情况查看</a></span></li><li><span><a href=\"#数据预处理\" data-toc-modified-id=\"数据预处理-5\"><span class=\"toc-item-num\">5&nbsp;&nbsp;</span>数据预处理</a></span><ul class=\"toc-item\"><li><span><a href=\"#异常值检测&amp;处理\" data-toc-modified-id=\"异常值检测&amp;处理-5.1\"><span class=\"toc-item-num\">5.1&nbsp;&nbsp;</span>异常值检测&amp;处理</a></span></li><li><span><a href=\"#特征衍生\" data-toc-modified-id=\"特征衍生-5.2\"><span class=\"toc-item-num\">5.2&nbsp;&nbsp;</span>特征衍生</a></span></li><li><span><a href=\"#缺失值检测&amp;处理\" data-toc-modified-id=\"缺失值检测&amp;处理-5.3\"><span class=\"toc-item-num\">5.3&nbsp;&nbsp;</span>缺失值检测&amp;处理</a></span><ul class=\"toc-item\"><li><span><a href=\"#缺失过多特征删除\" data-toc-modified-id=\"缺失过多特征删除-5.3.1\"><span class=\"toc-item-num\">5.3.1&nbsp;&nbsp;</span>缺失过多特征删除</a></span></li><li><span><a href=\"#直接填充默认缺失值\" data-toc-modified-id=\"直接填充默认缺失值-5.3.2\"><span class=\"toc-item-num\">5.3.2&nbsp;&nbsp;</span>直接填充默认缺失值</a></span></li></ul></li></ul></li><li><span><a href=\"#特征筛选\" data-toc-modified-id=\"特征筛选-6\"><span class=\"toc-item-num\">6&nbsp;&nbsp;</span>特征筛选</a></span><ul class=\"toc-item\"><li><span><a href=\"#psi筛选\" data-toc-modified-id=\"psi筛选-6.1\"><span class=\"toc-item-num\">6.1&nbsp;&nbsp;</span>psi筛选</a></span></li><li><span><a href=\"#随机森林筛选特征\" data-toc-modified-id=\"随机森林筛选特征-6.2\"><span class=\"toc-item-num\">6.2&nbsp;&nbsp;</span>随机森林筛选特征</a></span></li><li><span><a href=\"#iv筛选\" data-toc-modified-id=\"iv筛选-6.3\"><span class=\"toc-item-num\">6.3&nbsp;&nbsp;</span>iv筛选</a></span></li><li><span><a href=\"#人工去除偏事后特征&amp;iv箱数过多特征\" data-toc-modified-id=\"人工去除偏事后特征&amp;iv箱数过多特征-6.4\"><span class=\"toc-item-num\">6.4&nbsp;&nbsp;</span>人工去除偏事后特征&amp;iv箱数过多特征</a></span></li><li><span><a href=\"#相关性筛选\" data-toc-modified-id=\"相关性筛选-6.5\"><span class=\"toc-item-num\">6.5&nbsp;&nbsp;</span>相关性筛选</a></span></li><li><span><a href=\"#分箱调整\" data-toc-modified-id=\"分箱调整-6.6\"><span class=\"toc-item-num\">6.6&nbsp;&nbsp;</span>分箱调整</a></span><ul class=\"toc-item\"><li><span><a href=\"#自动分箱调整\" data-toc-modified-id=\"自动分箱调整-6.6.1\"><span class=\"toc-item-num\">6.6.1&nbsp;&nbsp;</span>自动分箱调整</a></span></li><li><span><a href=\"#针对自动调整分箱未单调变量_手动调整分箱\" data-toc-modified-id=\"针对自动调整分箱未单调变量_手动调整分箱-6.6.2\"><span class=\"toc-item-num\">6.6.2&nbsp;&nbsp;</span>针对自动调整分箱未单调变量_手动调整分箱</a></span></li><li><span><a href=\"#调整后的分箱再使用iv筛选一轮\" data-toc-modified-id=\"调整后的分箱再使用iv筛选一轮-6.6.3\"><span class=\"toc-item-num\">6.6.3&nbsp;&nbsp;</span>调整后的分箱再使用iv筛选一轮</a></span></li></ul></li><li><span><a href=\"#woe编码后相关性&amp;多重共线性筛选\" data-toc-modified-id=\"woe编码后相关性&amp;多重共线性筛选-6.7\"><span class=\"toc-item-num\">6.7&nbsp;&nbsp;</span>woe编码后相关性&amp;多重共线性筛选</a></span></li><li><span><a href=\"#显著性筛选\" data-toc-modified-id=\"显著性筛选-6.8\"><span class=\"toc-item-num\">6.8&nbsp;&nbsp;</span>显著性筛选</a></span></li><li><span><a href=\"#剔除系数和其他系数符号不一致的特征\" data-toc-modified-id=\"剔除系数和其他系数符号不一致的特征-6.9\"><span class=\"toc-item-num\">6.9&nbsp;&nbsp;</span>剔除系数和其他系数符号不一致的特征</a></span></li></ul></li><li><span><a href=\"#模型训练和评价\" data-toc-modified-id=\"模型训练和评价-7\"><span class=\"toc-item-num\">7&nbsp;&nbsp;</span>模型训练和评价</a></span></li><li><span><a href=\"#分数映射&amp;分数分布\" data-toc-modified-id=\"分数映射&amp;分数分布-8\"><span class=\"toc-item-num\">8&nbsp;&nbsp;</span>分数映射&amp;分数分布</a></span><ul class=\"toc-item\"><li><span><a href=\"#分数刻度&amp;各入模变量相应分箱得分\" data-toc-modified-id=\"分数刻度&amp;各入模变量相应分箱得分-8.1\"><span class=\"toc-item-num\">8.1&nbsp;&nbsp;</span>分数刻度&amp;各入模变量相应分箱得分</a></span></li><li><span><a href=\"#训练集&amp;验证集&amp;时间外样本分数转换\" data-toc-modified-id=\"训练集&amp;验证集&amp;时间外样本分数转换-8.2\"><span class=\"toc-item-num\">8.2&nbsp;&nbsp;</span>训练集&amp;验证集&amp;时间外样本分数转换</a></span></li><li><span><a href=\"#训练集&amp;验证集&amp;时间外样本分数分箱分布\" data-toc-modified-id=\"训练集&amp;验证集&amp;时间外样本分数分箱分布-8.3\"><span class=\"toc-item-num\">8.3&nbsp;&nbsp;</span>训练集&amp;验证集&amp;时间外样本分数分箱分布</a></span></li></ul></li></ul></div>"
   ]
  },
  {
   "cell_type": "markdown",
   "metadata": {},
   "source": [
    "# 评分卡建模模板"
   ]
  },
  {
   "cell_type": "markdown",
   "metadata": {},
   "source": [
    "author:33\n",
    "\n",
    "date:2020/4/6"
   ]
  },
  {
   "cell_type": "code",
   "execution_count": 1,
   "metadata": {},
   "outputs": [
    {
     "data": {
      "text/html": [
       "<script>jQuery(function() {if (jQuery(\"body.notebook_app\").length == 0) { jQuery(\".input_area\").toggle(); jQuery(\".prompt\").toggle();}});</script>"
      ]
     },
     "metadata": {},
     "output_type": "display_data"
    },
    {
     "data": {
      "text/html": [
       "<style>#notebook div.output_subarea {max-width:100%;}</style>"
      ],
      "text/plain": [
       "<IPython.core.display.HTML object>"
      ]
     },
     "execution_count": 1,
     "metadata": {},
     "output_type": "execute_result"
    }
   ],
   "source": [
    "#隐藏导出html和pdf里面的代码\n",
    "#这个在你自己编辑notebook时不起作用，对导出结果中所有代码起作用：导出html或者pdf中是没有代码的\n",
    "from IPython.display import display\n",
    "from IPython.display import HTML\n",
    "import IPython.core.display as di\n",
    "di.display_html('<script>jQuery(function() {if (jQuery(\"body.notebook_app\").length == 0) { jQuery(\".input_area\").toggle(); jQuery(\".prompt\").toggle();}});</script>', raw=True)\n",
    "CSS = \"\"\"#notebook div.output_subarea {max-width:100%;}\"\"\" #changes output_subarea width to 100% (from 100% - 14ex)\n",
    "HTML('<style>{}</style>'.format(CSS))"
   ]
  },
  {
   "cell_type": "code",
   "execution_count": 2,
   "metadata": {},
   "outputs": [
    {
     "data": {
      "application/javascript": [
       "require.config({\n",
       "    paths: {\n",
       "        datatables: 'https://cdn.datatables.net/1.10.19/js/jquery.dataTables.min',\n",
       "    }\n",
       "});\n",
       "\n",
       "$('head').append('<link rel=\"stylesheet\" type=\"text/css\" \\\n",
       "                href = \"https://cdn.datatables.net/1.10.19/css/jquery.dataTables.min.css\" > ');\n",
       "\n",
       "$('head').append('<style> table td { text-overflow: ellipsis; overflow: hidden; } </style>');\n",
       "\n",
       "$('head').append(`<script>\n",
       "function eval_functions(map_or_text) {\n",
       "    if (typeof map_or_text === \"string\") {\n",
       "        if (map_or_text.startsWith(\"function\")) {\n",
       "            try {\n",
       "                // Note: parenthesis are required around the whole expression for eval to return a value!\n",
       "                // See https://stackoverflow.com/a/7399078/911298.\n",
       "                //\n",
       "                // eval(\"local_fun = \" + map_or_text) would fail because local_fun is not declared\n",
       "                // (using var, let or const would work, but it would only be declared in the local scope\n",
       "                // and therefore the value could not be retrieved).\n",
       "                const func = eval(\"(\" + map_or_text + \")\");\n",
       "                if (typeof func !== \"function\") {\n",
       "                    // Note: backquotes are super convenient!\n",
       "                    // https://developer.mozilla.org/en-US/docs/Web/JavaScript/Reference/Template_literals\n",
       "                    console.error(\"Evaluated expression \" + map_or_text + \" is not a function (type is \" + typeof func + \")\");\n",
       "                    return map_or_text;\n",
       "                }\n",
       "                // Return the function\n",
       "                return func;\n",
       "            } catch (e) {\n",
       "                // Make sure to print the error with a second argument to console.error().\n",
       "                console.error(\"itables was not able to parse \" + map_or_text, e);\n",
       "            }\n",
       "        }\n",
       "    } else if (typeof map_or_text === \"object\") {\n",
       "        if (map_or_text instanceof Array) {\n",
       "            // Note: \"var\" is now superseded by \"let\" and \"const\".\n",
       "            // https://medium.com/javascript-scene/javascript-es6-var-let-or-const-ba58b8dcde75\n",
       "            const result = [];\n",
       "            // Note: \"for of\" is the best way to iterate through an iterable.\n",
       "            // https://developer.mozilla.org/en-US/docs/Web/JavaScript/Reference/Statements/for...of\n",
       "            for (const item of map_or_text) {\n",
       "                result.push(eval_functions(item));\n",
       "            }\n",
       "            return result;\n",
       "\n",
       "            // Alternatively, more functional approach in one line:\n",
       "            // return map_or_text.map(eval_functions);\n",
       "        } else {\n",
       "            const result = {};\n",
       "            // Object.keys() is safer than \"for in\" because otherwise you might have keys\n",
       "            // that aren't defined in the object itself.\n",
       "            //\n",
       "            // See https://stackoverflow.com/a/684692/911298.\n",
       "            for (const item of Object.keys(map_or_text)) {\n",
       "                result[item] = eval_functions(map_or_text[item]);\n",
       "            }\n",
       "            return result;\n",
       "        }\n",
       "    }\n",
       "\n",
       "    return map_or_text;\n",
       "}\n",
       "</` + 'script>');"
      ],
      "text/plain": [
       "<IPython.core.display.Javascript object>"
      ]
     },
     "metadata": {},
     "output_type": "display_data"
    }
   ],
   "source": [
    "#包加载\n",
    "import sys\n",
    "import os ##显示工作路径，修改工作路径的包\n",
    "import numpy as np##是python数值计算基石，听过多种数据结构，算法以及设计计算所需的接口\n",
    "import pandas as pd##提供了高级数据结构和函数，dataframe,series\n",
    "import math \n",
    "import statsmodels.api as sm##统计分析包，方差分析，时间序列分析，非参数估计 import statsmodels.api as sm\n",
    "from statsmodels.stats.outliers_influence import variance_inflation_factor\n",
    "from sklearn import preprocessing\n",
    "from sklearn.model_selection import train_test_split\n",
    "from sklearn import metrics \n",
    "from sklearn.linear_model import LogisticRegression\n",
    "from sklearn.model_selection import cross_val_score\n",
    "from sklearn.tree import DecisionTreeClassifier,_tree\n",
    "from IPython.display import display\n",
    "import warnings\n",
    "warnings.filterwarnings('ignore')\n",
    "#可视化\n",
    "import matplotlib.pyplot as plt ##python里适用最广泛的 可视化库，与其他库良好整合\n",
    "import seaborn as sns ##此包是基于matplotlib的可视化包\n",
    "import itables.interactive#每一个表都是交互型的表\n",
    "from itables import show\n",
    "import itables.options as opt\n",
    "opt.classes = [\"display\", \"nowrap\"]\n",
    "opt.lengthMenu = [10, 10, 100, 200, 500, 1000, 2000, 5000]\n",
    "opt.maxBytes = 200000\n",
    "opt.maxColumns=100\n",
    "opt.columnDefs=[{\"width\": \"150px\", \"targets\": \"_all\"}]"
   ]
  },
  {
   "cell_type": "code",
   "execution_count": 3,
   "metadata": {},
   "outputs": [],
   "source": [
    "##导入自定义函数\n",
    "##当自定义函数和当前默认工作路径不一致时\n",
    "sys.path.append('') #自定义函数对应的路径\n",
    "import self_f_2  #加载自定义的函数py文件\n",
    "# sys.path\n",
    "warnings.filterwarnings('ignore')\n",
    "\n",
    "##当自定义函数和当前默认工作路径一致时\n",
    "# import FileWriteAbout  # 导入另一个文件\n",
    "# FileWriteAbout.writeList()  #调用其中的函数名\n",
    "\n",
    "os.getcwd()\n",
    "# print(os.getcwd())#显示当前路径\n",
    "os.chdir('')#更改路径，''里面为更改的路径"
   ]
  },
  {
   "cell_type": "markdown",
   "metadata": {},
   "source": [
    "## 报告目的"
   ]
  },
  {
   "cell_type": "markdown",
   "metadata": {},
   "source": [
    "## 数据来源"
   ]
  },
  {
   "cell_type": "markdown",
   "metadata": {},
   "source": [
    "## 名词解释"
   ]
  },
  {
   "cell_type": "markdown",
   "metadata": {},
   "source": [
    "## 数据读取&基本情况查看"
   ]
  },
  {
   "cell_type": "code",
   "execution_count": 4,
   "metadata": {},
   "outputs": [
    {
     "name": "stdout",
     "output_type": "stream",
     "text": [
      "<class 'pandas.core.frame.DataFrame'>\n",
      "RangeIndex: 3827 entries, 0 to 3826\n",
      "Data columns (total 86 columns):\n",
      " #   Column  Non-Null Count  Dtype         \n",
      "---  ------  --------------  -----         \n",
      " 0   id      3827 non-null   int64         \n",
      " 1   v2      3827 non-null   int64         \n",
      " 2   v3      3827 non-null   int64         \n",
      " 3   v4      3827 non-null   datetime64[ns]\n",
      " 4   v8      3827 non-null   int64         \n",
      " 5   v9      3827 non-null   int64         \n",
      " 6   v11     3827 non-null   int64         \n",
      " 7   v12     3827 non-null   int64         \n",
      " 8   v13     3827 non-null   int64         \n",
      " 9   v14     3827 non-null   int64         \n",
      " 10  v15     3827 non-null   int64         \n",
      " 11  v16     3203 non-null   float64       \n",
      " 12  v17     3203 non-null   float64       \n",
      " 13  v18     3827 non-null   int64         \n",
      " 14  v19     3827 non-null   int64         \n",
      " 15  v20     3827 non-null   int64         \n",
      " 16  v21     3827 non-null   int64         \n",
      " 17  v22     3827 non-null   int64         \n",
      " 18  v23     3745 non-null   float64       \n",
      " 19  v24     0 non-null      float64       \n",
      " 20  v25     3826 non-null   float64       \n",
      " 21  v26     3826 non-null   float64       \n",
      " 22  v27     3826 non-null   float64       \n",
      " 23  v28     0 non-null      float64       \n",
      " 24  v29     3745 non-null   float64       \n",
      " 25  v30     3745 non-null   float64       \n",
      " 26  v31     3745 non-null   float64       \n",
      " 27  v32     3745 non-null   float64       \n",
      " 28  v33     3745 non-null   float64       \n",
      " 29  v34     3745 non-null   float64       \n",
      " 30  v35     3745 non-null   float64       \n",
      " 31  v36     3745 non-null   float64       \n",
      " 32  v37     3745 non-null   float64       \n",
      " 33  v38     3745 non-null   float64       \n",
      " 34  v39     3745 non-null   float64       \n",
      " 35  v40     3745 non-null   float64       \n",
      " 36  v41     3745 non-null   float64       \n",
      " 37  v42     3745 non-null   float64       \n",
      " 38  v43     3745 non-null   float64       \n",
      " 39  v44     3745 non-null   float64       \n",
      " 40  v45     3745 non-null   float64       \n",
      " 41  v46     3745 non-null   float64       \n",
      " 42  v47     3745 non-null   float64       \n",
      " 43  v48     3745 non-null   float64       \n",
      " 44  v49     3745 non-null   float64       \n",
      " 45  v50     0 non-null      float64       \n",
      " 46  v51     3827 non-null   int64         \n",
      " 47  v52     3827 non-null   int64         \n",
      " 48  v53     3827 non-null   float64       \n",
      " 49  v54     3827 non-null   float64       \n",
      " 50  v55     3827 non-null   int64         \n",
      " 51  v56     3827 non-null   float64       \n",
      " 52  v57     3827 non-null   float64       \n",
      " 53  v58     3827 non-null   float64       \n",
      " 54  v59     3827 non-null   int64         \n",
      " 55  v60     3827 non-null   int64         \n",
      " 56  v61     3827 non-null   int64         \n",
      " 57  v62     2102 non-null   float64       \n",
      " 58  v63     2102 non-null   float64       \n",
      " 59  v64     2102 non-null   float64       \n",
      " 60  v65     2102 non-null   float64       \n",
      " 61  v66     2102 non-null   float64       \n",
      " 62  v67     2102 non-null   float64       \n",
      " 63  v68     2102 non-null   float64       \n",
      " 64  v69     3826 non-null   float64       \n",
      " 65  v70     3826 non-null   float64       \n",
      " 66  v71     3811 non-null   float64       \n",
      " 67  v72     3785 non-null   float64       \n",
      " 68  v73     3801 non-null   float64       \n",
      " 69  v74     3782 non-null   float64       \n",
      " 70  v75     2460 non-null   float64       \n",
      " 71  v76     1599 non-null   float64       \n",
      " 72  v77     1173 non-null   float64       \n",
      " 73  v78     2751 non-null   float64       \n",
      " 74  v79     3826 non-null   float64       \n",
      " 75  v80     3719 non-null   float64       \n",
      " 76  v81     3823 non-null   float64       \n",
      " 77  v82     3640 non-null   float64       \n",
      " 78  v83     3794 non-null   float64       \n",
      " 79  v84     534 non-null    float64       \n",
      " 80  v85     3413 non-null   float64       \n",
      " 81  v86     3721 non-null   float64       \n",
      " 82  v87     3826 non-null   float64       \n",
      " 83  v88     3826 non-null   float64       \n",
      " 84  v89     3826 non-null   float64       \n",
      " 85  target  3827 non-null   int64         \n",
      "dtypes: datetime64[ns](1), float64(63), int64(22)\n",
      "memory usage: 2.5 MB\n",
      "None\n",
      "0    2394\n",
      "1    1433\n",
      "Name: target, dtype: int64\n"
     ]
    }
   ],
   "source": [
    "#数据读取\n",
    "from datetime import datetime\n",
    "data=pd.read_excel(\"data_sample.xlsx\")\n",
    "\n",
    "print(data.info())\n",
    "print(data.target.value_counts())\n",
    "# show(data.head(),columnDefs=[{\"width\": \"300px\", \"targets\": \"_all\"}])\n",
    "# print(\"\\033[1;31m连续型变量分布\\n \\033[0m\")\n",
    "# show(data.describe(),columnDefs=[{\"width\": \"200px\",\"high\": \"80px\", \"targets\": \"_all\"}])\n",
    "# print(\"\\033[1;31m离散型变量分布\\n \\033[0m\")\n",
    "# show(data.describe(include=['object']))"
   ]
  },
  {
   "cell_type": "markdown",
   "metadata": {},
   "source": [
    "## 数据预处理\n",
    "\n",
    "### 异常值检测&处理\n",
    "\n",
    "针对异常变量可根据对数据对理解进行极端值分数映射转换或者删除极端值对应对样本"
   ]
  },
  {
   "cell_type": "code",
   "execution_count": 5,
   "metadata": {},
   "outputs": [
    {
     "name": "stdout",
     "output_type": "stream",
     "text": [
      "no charchater variables exists\n",
      "\u001b[1;31m离散型变量个数\n",
      " \u001b[0m 0\n",
      "\u001b[1;31m连续型变量个数\n",
      " \u001b[0m 86\n"
     ]
    },
    {
     "data": {
      "text/html": [
       "<div><table id=\"0cea95f3-d954-4a9a-aa0c-345d626afbd0\" class=\"display nowrap\"><thead>\n",
       "    <tr style=\"text-align: right;\">\n",
       "      <th></th>\n",
       "      <th>v2_abnormal</th>\n",
       "      <th>v8_abnormal</th>\n",
       "      <th>v11_abnormal</th>\n",
       "      <th>v13_abnormal</th>\n",
       "      <th>v16_abnormal</th>\n",
       "      <th>v18_abnormal</th>\n",
       "      <th>v21_abnormal</th>\n",
       "      <th>v22_abnormal</th>\n",
       "      <th>v25_abnormal</th>\n",
       "      <th>v27_abnormal</th>\n",
       "      <th>v29_abnormal</th>\n",
       "      <th>v30_abnormal</th>\n",
       "      <th>v31_abnormal</th>\n",
       "      <th>v32_abnormal</th>\n",
       "      <th>v33_abnormal</th>\n",
       "      <th>v34_abnormal</th>\n",
       "      <th>v36_abnormal</th>\n",
       "      <th>v39_abnormal</th>\n",
       "      <th>v40_abnormal</th>\n",
       "      <th>v41_abnormal</th>\n",
       "      <th>v42_abnormal</th>\n",
       "      <th>v43_abnormal</th>\n",
       "      <th>v44_abnormal</th>\n",
       "      <th>v45_abnormal</th>\n",
       "      <th>v46_abnormal</th>\n",
       "      <th>v47_abnormal</th>\n",
       "      <th>v48_abnormal</th>\n",
       "      <th>v49_abnormal</th>\n",
       "      <th>v52_abnormal</th>\n",
       "      <th>v53_abnormal</th>\n",
       "      <th>v54_abnormal</th>\n",
       "      <th>v55_abnormal</th>\n",
       "      <th>v56_abnormal</th>\n",
       "      <th>v57_abnormal</th>\n",
       "      <th>v58_abnormal</th>\n",
       "      <th>v60_abnormal</th>\n",
       "      <th>v61_abnormal</th>\n",
       "      <th>v62_abnormal</th>\n",
       "      <th>v63_abnormal</th>\n",
       "      <th>v68_abnormal</th>\n",
       "      <th>v69_abnormal</th>\n",
       "      <th>v70_abnormal</th>\n",
       "      <th>v71_abnormal</th>\n",
       "      <th>v72_abnormal</th>\n",
       "      <th>v73_abnormal</th>\n",
       "      <th>v74_abnormal</th>\n",
       "      <th>v75_abnormal</th>\n",
       "      <th>v76_abnormal</th>\n",
       "      <th>v77_abnormal</th>\n",
       "      <th>v78_abnormal</th>\n",
       "      <th>v79_abnormal</th>\n",
       "      <th>v80_abnormal</th>\n",
       "      <th>v81_abnormal</th>\n",
       "      <th>v82_abnormal</th>\n",
       "      <th>v83_abnormal</th>\n",
       "      <th>v84_abnormal</th>\n",
       "      <th>v85_abnormal</th>\n",
       "      <th>v86_abnormal</th>\n",
       "      <th>v87_abnormal</th>\n",
       "      <th>v88_abnormal</th>\n",
       "      <th>v89_abnormal</th>\n",
       "    </tr>\n",
       "  </thead></table>\n",
       "<script type=\"text/javascript\">\n",
       "require([\"datatables\"], function (datatables) {\n",
       "    $(document).ready(function () {        \n",
       "        var dt_args = {\"columnDefs\": [{\"width\": \"150px\", \"targets\": \"_all\"}], \"lengthMenu\": [10, 10, 100, 200, 500, 1000, 2000, 5000], \"paging\": false, \"data\": [[\"count\", \"3827\", \"3827\", \"3827\", \"3827\", \"3827\", \"3827\", \"3827\", \"3827\", \"3827\", \"3827\", \"3827\", \"3827\", \"3827\", \"3827\", \"3827\", \"3827\", \"3827\", \"3827\", \"3827\", \"3827\", \"3827\", \"3827\", \"3827\", \"3827\", \"3827\", \"3827\", \"3827\", \"3827\", \"3827\", \"3827\", \"3827\", \"3827\", \"3827\", \"3827\", \"3827\", \"3827\", \"3827\", \"3827\", \"3827\", \"3827\", \"3827\", \"3827\", \"3827\", \"3827\", \"3827\", \"3827\", \"3827\", \"3827\", \"3827\", \"3827\", \"3827\", \"3827\", \"3827\", \"3827\", \"3827\", \"3827\", \"3827\", \"3827\", \"3827\", \"3827\", \"3827\"], [\"unique\", \"2\", \"2\", \"2\", \"2\", \"1\", \"1\", \"2\", \"1\", \"2\", \"2\", \"2\", \"2\", \"2\", \"2\", \"2\", \"2\", \"2\", \"2\", \"2\", \"2\", \"2\", \"2\", \"2\", \"2\", \"2\", \"2\", \"2\", \"2\", \"2\", \"2\", \"1\", \"2\", \"2\", \"2\", \"2\", \"2\", \"1\", \"2\", \"2\", \"2\", \"1\", \"2\", \"2\", \"2\", \"2\", \"2\", \"2\", \"2\", \"2\", \"2\", \"2\", \"2\", \"2\", \"2\", \"2\", \"2\", \"2\", \"2\", \"1\", \"2\", \"2\"], [\"top\", \"zhengchang\", \"zhengchang\", \"zhengchang\", \"zhengchang\", \"zhengchang\", \"zhengchang\", \"zhengchang\", \"zhengchang\", \"zhengchang\", \"zhengchang\", \"zhengchang\", \"zhengchang\", \"zhengchang\", \"zhengchang\", \"zhengchang\", \"zhengchang\", \"zhengchang\", \"zhengchang\", \"zhengchang\", \"zhengchang\", \"zhengchang\", \"zhengchang\", \"zhengchang\", \"zhengchang\", \"zhengchang\", \"zhengchang\", \"zhengchang\", \"zhengchang\", \"zhengchang\", \"zhengchang\", \"zhengchang\", \"zhengchang\", \"zhengchang\", \"zhengchang\", \"zhengchang\", \"zhengchang\", \"zhengchang\", \"zhengchang\", \"zhengchang\", \"zhengchang\", \"zhengchang\", \"zhengchang\", \"zhengchang\", \"zhengchang\", \"zhengchang\", \"zhengchang\", \"zhengchang\", \"zhengchang\", \"zhengchang\", \"zhengchang\", \"zhengchang\", \"zhengchang\", \"zhengchang\", \"zhengchang\", \"zhengchang\", \"zhengchang\", \"zhengchang\", \"zhengchang\", \"zhengchang\", \"zhengchang\", \"zhengchang\"], [\"freq\", \"3825\", \"3477\", \"3774\", \"2916\", \"3827\", \"3827\", \"3824\", \"3827\", \"3630\", \"3770\", \"3656\", \"3501\", \"3667\", \"3484\", \"3318\", \"3490\", \"3674\", \"3407\", \"3801\", \"3826\", \"3104\", \"3762\", \"3682\", \"3776\", \"3807\", \"3106\", \"3440\", \"3824\", \"3396\", \"3718\", \"3827\", \"3822\", \"3818\", \"3787\", \"3769\", \"3822\", \"3827\", \"3679\", \"3553\", \"3826\", \"3827\", \"3763\", \"3626\", \"3581\", \"3701\", \"3700\", \"3826\", \"3683\", \"3657\", \"3649\", \"3699\", \"3805\", \"3778\", \"3562\", \"3624\", \"3701\", \"3698\", \"3759\", \"3827\", \"3698\", \"3666\"]]};\n",
       "        dt_args = eval_functions(dt_args);\n",
       "        table = $('#0cea95f3-d954-4a9a-aa0c-345d626afbd0').DataTable(dt_args);\n",
       "    });\n",
       "})\n",
       "</script>\n",
       "</div>\n"
      ],
      "text/plain": [
       "       v2_abnormal v8_abnormal v11_abnormal v13_abnormal v16_abnormal  \\\n",
       "count         3827        3827         3827         3827         3827   \n",
       "unique           2           2            2            2            1   \n",
       "top     zhengchang  zhengchang   zhengchang   zhengchang   zhengchang   \n",
       "freq          3825        3477         3774         2916         3827   \n",
       "\n",
       "       v18_abnormal v21_abnormal v22_abnormal v25_abnormal v27_abnormal  ...  \\\n",
       "count          3827         3827         3827         3827         3827  ...   \n",
       "unique            1            2            1            2            2  ...   \n",
       "top      zhengchang   zhengchang   zhengchang   zhengchang   zhengchang  ...   \n",
       "freq           3827         3824         3827         3630         3770  ...   \n",
       "\n",
       "       v80_abnormal v81_abnormal v82_abnormal v83_abnormal v84_abnormal  \\\n",
       "count          3827         3827         3827         3827         3827   \n",
       "unique            2            2            2            2            2   \n",
       "top      zhengchang   zhengchang   zhengchang   zhengchang   zhengchang   \n",
       "freq           3805         3778         3562         3624         3701   \n",
       "\n",
       "       v85_abnormal v86_abnormal v87_abnormal v88_abnormal v89_abnormal  \n",
       "count          3827         3827         3827         3827         3827  \n",
       "unique            2            2            1            2            2  \n",
       "top      zhengchang   zhengchang   zhengchang   zhengchang   zhengchang  \n",
       "freq           3698         3759         3827         3698         3666  \n",
       "\n",
       "[4 rows x 61 columns]"
      ]
     },
     "execution_count": 5,
     "metadata": {},
     "output_type": "execute_result"
    }
   ],
   "source": [
    "#1.数据预处理\n",
    "\n",
    "#1.1异常值\n",
    "    #1.1.1异常值检测\n",
    "\n",
    "character_feature,count=self_f_2.character_VarFindFunc(data)\n",
    "data_num=data.drop(character_feature,axis=1)\n",
    "print(\"\\033[1;31m离散型变量个数\\n \\033[0m\",count)\n",
    "print(\"\\033[1;31m连续型变量个数\\n \\033[0m\",len(data.columns)-count)\n",
    "\n",
    "data_abnormal=data.copy()\n",
    "\n",
    "data_abnormal=self_f_2.find_abnormal(data_abnormal)\n",
    "\n",
    "# data_abnormal.head()\n",
    "# data_abnormal.describe()\n",
    "data_abnormal.describe(include=['object'])#查看离散型特征情况\n",
    "\n",
    "#针对异常变量可根据对数据对理解进行极端值分数映射转换或者删除极端值对应对样本"
   ]
  },
  {
   "cell_type": "markdown",
   "metadata": {},
   "source": [
    "### 特征衍生\n",
    "这里主要是做特征各种交叉衍生的工作"
   ]
  },
  {
   "cell_type": "markdown",
   "metadata": {},
   "source": [
    "### 缺失值检测&处理"
   ]
  },
  {
   "cell_type": "code",
   "execution_count": 6,
   "metadata": {},
   "outputs": [
    {
     "name": "stdout",
     "output_type": "stream",
     "text": [
      "\u001b[1;31m有缺失值的变量个数:\n",
      " \u001b[0m 86\n",
      "\u001b[1;31m各变量缺失率展示\n",
      " \u001b[0m\n"
     ]
    },
    {
     "data": {
      "text/html": [
       "<div><table id=\"66e93521-0c7c-48fc-be99-65d3a629906a\" class=\"display nowrap\"><thead>\n",
       "    <tr style=\"text-align: right;\">\n",
       "      \n",
       "      <th>index</th>\n",
       "      <th>var_name</th>\n",
       "      <th>queshi_num</th>\n",
       "      <th>na_rate</th>\n",
       "      <th>na_rate_new</th>\n",
       "    </tr>\n",
       "  </thead></table>\n",
       "<script type=\"text/javascript\">\n",
       "require([\"datatables\"], function (datatables) {\n",
       "    $(document).ready(function () {        \n",
       "        var dt_args = {\"columnDefs\": [{\"width\": \"150px\", \"targets\": \"_all\"}], \"lengthMenu\": [10, 10, 100, 200, 500, 1000, 2000, 5000], \"data\": [[0, \"v28\", 3827, 1.0, \"100.00%\"], [2, \"v50\", 3827, 1.0, \"100.00%\"], [1, \"v24\", 3827, 1.0, \"100.00%\"], [3, \"v84\", 3293, 0.8605, \"86.05%\"], [4, \"v77\", 2654, 0.6935, \"69.35%\"], [5, \"v76\", 2228, 0.5822, \"58.22%\"], [6, \"v68\", 1725, 0.4507, \"45.07%\"], [7, \"v63\", 1725, 0.4507, \"45.07%\"], [8, \"v62\", 1725, 0.4507, \"45.07%\"], [9, \"v66\", 1725, 0.4507, \"45.07%\"], [10, \"v64\", 1725, 0.4507, \"45.07%\"], [11, \"v65\", 1725, 0.4507, \"45.07%\"], [12, \"v67\", 1725, 0.4507, \"45.07%\"], [13, \"v75\", 1367, 0.3572, \"35.72%\"], [14, \"v78\", 1076, 0.2812, \"28.12%\"], [16, \"v17\", 624, 0.1631, \"16.31%\"], [15, \"v16\", 624, 0.1631, \"16.31%\"], [17, \"v85\", 414, 0.1082, \"10.82%\"], [18, \"v82\", 187, 0.0489, \"4.89%\"], [19, \"v80\", 108, 0.0282, \"2.82%\"], [20, \"v86\", 106, 0.0277, \"2.77%\"], [32, \"v48\", 82, 0.0214, \"2.14%\"], [41, \"v32\", 82, 0.0214, \"2.14%\"], [40, \"v33\", 82, 0.0214, \"2.14%\"], [39, \"v31\", 82, 0.0214, \"2.14%\"], [38, \"v34\", 82, 0.0214, \"2.14%\"], [37, \"v29\", 82, 0.0214, \"2.14%\"], [36, \"v23\", 82, 0.0214, \"2.14%\"], [35, \"v36\", 82, 0.0214, \"2.14%\"], [34, \"v30\", 82, 0.0214, \"2.14%\"], [33, \"v37\", 82, 0.0214, \"2.14%\"], [21, \"v49\", 82, 0.0214, \"2.14%\"], [31, \"v39\", 82, 0.0214, \"2.14%\"], [30, \"v40\", 82, 0.0214, \"2.14%\"], [29, \"v41\", 82, 0.0214, \"2.14%\"], [28, \"v42\", 82, 0.0214, \"2.14%\"], [27, \"v43\", 82, 0.0214, \"2.14%\"], [26, \"v44\", 82, 0.0214, \"2.14%\"], [25, \"v45\", 82, 0.0214, \"2.14%\"], [24, \"v38\", 82, 0.0214, \"2.14%\"], [23, \"v46\", 82, 0.0214, \"2.14%\"], [22, \"v47\", 82, 0.0214, \"2.14%\"], [42, \"v35\", 82, 0.0214, \"2.14%\"], [43, \"v74\", 45, 0.0118, \"1.18%\"], [44, \"v72\", 42, 0.011, \"1.10%\"], [45, \"v83\", 33, 0.0086, \"0.86%\"], [46, \"v73\", 26, 0.0068, \"0.68%\"], [47, \"v71\", 16, 0.0042, \"0.42%\"], [48, \"v81\", 4, 0.001, \"0.10%\"], [53, \"v69\", 1, 0.0003, \"0.03%\"], [56, \"v89\", 1, 0.0003, \"0.03%\"], [55, \"v88\", 1, 0.0003, \"0.03%\"], [54, \"v87\", 1, 0.0003, \"0.03%\"], [57, \"v79\", 1, 0.0003, \"0.03%\"], [52, \"v70\", 1, 0.0003, \"0.03%\"], [50, \"v26\", 1, 0.0003, \"0.03%\"], [49, \"v25\", 1, 0.0003, \"0.03%\"], [51, \"v27\", 1, 0.0003, \"0.03%\"], [78, \"v53\", 0, 0.0, \"0.00%\"], [74, \"v22\", 0, 0.0, \"0.00%\"], [75, \"v2\", 0, 0.0, \"0.00%\"], [76, \"v51\", 0, 0.0, \"0.00%\"], [77, \"v52\", 0, 0.0, \"0.00%\"], [80, \"v55\", 0, 0.0, \"0.00%\"], [79, \"v54\", 0, 0.0, \"0.00%\"], [81, \"v56\", 0, 0.0, \"0.00%\"], [82, \"v57\", 0, 0.0, \"0.00%\"], [83, \"v58\", 0, 0.0, \"0.00%\"], [84, \"v59\", 0, 0.0, \"0.00%\"], [72, \"v21\", 0, 0.0, \"0.00%\"], [73, \"v60\", 0, 0.0, \"0.00%\"], [65, \"v11\", 0, 0.0, \"0.00%\"], [71, \"v19\", 0, 0.0, \"0.00%\"], [70, \"v18\", 0, 0.0, \"0.00%\"], [69, \"v15\", 0, 0.0, \"0.00%\"], [68, \"v14\", 0, 0.0, \"0.00%\"], [67, \"v13\", 0, 0.0, \"0.00%\"], [66, \"v12\", 0, 0.0, \"0.00%\"], [64, \"v9\", 0, 0.0, \"0.00%\"], [63, \"v8\", 0, 0.0, \"0.00%\"], [62, \"v4\", 0, 0.0, \"0.00%\"], [61, \"v3\", 0, 0.0, \"0.00%\"], [60, \"v20\", 0, 0.0, \"0.00%\"], [59, \"v61\", 0, 0.0, \"0.00%\"], [58, \"id\", 0, 0.0, \"0.00%\"], [85, \"target\", 0, 0.0, \"0.00%\"]]};\n",
       "        dt_args = eval_functions(dt_args);\n",
       "        table = $('#66e93521-0c7c-48fc-be99-65d3a629906a').DataTable(dt_args);\n",
       "    });\n",
       "})\n",
       "</script>\n",
       "</div>\n"
      ],
      "text/plain": [
       "<IPython.core.display.HTML object>"
      ]
     },
     "metadata": {},
     "output_type": "display_data"
    }
   ],
   "source": [
    "#1.2.1缺失值统计\n",
    "\n",
    "feature_na,na_feature_num=self_f_2.findNaFunc(data,is_show_all=-1)\n",
    "\n",
    "feature_na.to_excel(\"feature_na.xlsx\")\n",
    "# feature_na=feature_na.rename(columns={\"queshi_num\":\"缺失值数量\",\"na_rate\":\"缺失率\"})\n",
    "print(\"\\033[1;31m有缺失值的变量个数:\\n \\033[0m\",na_feature_num)\n",
    "print(\"\\033[1;31m各变量缺失率展示\\n \\033[0m\")\n",
    "feature_na_show=feature_na.sort_values(by='queshi_num', axis=0, ascending=False)\n",
    "feature_na_show=feature_na_show.reset_index(drop=False)\n",
    "show(feature_na_show)"
   ]
  },
  {
   "cell_type": "markdown",
   "metadata": {},
   "source": [
    "#### 缺失过多特征删除"
   ]
  },
  {
   "cell_type": "code",
   "execution_count": 7,
   "metadata": {},
   "outputs": [
    {
     "name": "stdout",
     "output_type": "stream",
     "text": [
      "\u001b[1;31m删除的缺失值过高的特征:\n",
      " \u001b[0m 0    v28\n",
      "1    v24\n",
      "2    v50\n",
      "3    v84\n",
      "Name: var_name, dtype: object\n"
     ]
    }
   ],
   "source": [
    "#缺失过多特征删除\n",
    "delete_feature=feature_na[feature_na[\"na_rate\"]>0.8].var_name #当不想删除缺失特征时，可提高na_rate阈值\n",
    "data_delete=data.drop(delete_feature,axis=1)\n",
    "\n",
    "# data_delete.info()\n",
    "\n",
    "print(\"\\033[1;31m删除的缺失值过高的特征:\\n \\033[0m\",delete_feature)"
   ]
  },
  {
   "cell_type": "markdown",
   "metadata": {},
   "source": [
    "#### 直接填充默认缺失值\n",
    "\n",
    "- 连续型特征填充-999，离散型特征填充“缺失”字样\n",
    "\n",
    "- 另外的缺失值填充方法\n",
    "    - 根据相关性填充\n",
    "    - 根据后续结果看是否缺失值要根据特征中位数或者均值来填补"
   ]
  },
  {
   "cell_type": "code",
   "execution_count": 8,
   "metadata": {},
   "outputs": [
    {
     "name": "stdout",
     "output_type": "stream",
     "text": [
      "no charchater variables exists\n",
      "\u001b[1;31m缺失值填充后变量分布\n",
      " \u001b[0m\n"
     ]
    },
    {
     "data": {
      "text/html": [
       "<div><table id=\"d9e30a47-c7ba-4ed1-ba84-97e413048926\" class=\"display nowrap\"><thead>\n",
       "    <tr style=\"text-align: right;\">\n",
       "      <th></th>\n",
       "      <th>id</th>\n",
       "      <th>v2</th>\n",
       "      <th>v3</th>\n",
       "      <th>v8</th>\n",
       "      <th>v9</th>\n",
       "      <th>v11</th>\n",
       "      <th>v12</th>\n",
       "      <th>v13</th>\n",
       "      <th>v14</th>\n",
       "      <th>v15</th>\n",
       "      <th>v16</th>\n",
       "      <th>v17</th>\n",
       "      <th>v18</th>\n",
       "      <th>v19</th>\n",
       "      <th>v20</th>\n",
       "      <th>v21</th>\n",
       "      <th>v22</th>\n",
       "      <th>v23</th>\n",
       "      <th>v25</th>\n",
       "      <th>v26</th>\n",
       "      <th>v27</th>\n",
       "      <th>v29</th>\n",
       "      <th>v30</th>\n",
       "      <th>v31</th>\n",
       "      <th>v32</th>\n",
       "      <th>v33</th>\n",
       "      <th>v34</th>\n",
       "      <th>v35</th>\n",
       "      <th>v36</th>\n",
       "      <th>v37</th>\n",
       "      <th>v38</th>\n",
       "      <th>v39</th>\n",
       "      <th>v40</th>\n",
       "      <th>v41</th>\n",
       "      <th>v42</th>\n",
       "      <th>v43</th>\n",
       "      <th>v44</th>\n",
       "      <th>v45</th>\n",
       "      <th>v46</th>\n",
       "      <th>v47</th>\n",
       "      <th>v48</th>\n",
       "      <th>v49</th>\n",
       "      <th>v51</th>\n",
       "      <th>v52</th>\n",
       "      <th>v53</th>\n",
       "      <th>v54</th>\n",
       "      <th>v55</th>\n",
       "      <th>v56</th>\n",
       "      <th>v57</th>\n",
       "      <th>v58</th>\n",
       "      <th>v59</th>\n",
       "      <th>v60</th>\n",
       "      <th>v61</th>\n",
       "      <th>v62</th>\n",
       "      <th>v63</th>\n",
       "      <th>v64</th>\n",
       "      <th>v65</th>\n",
       "      <th>v66</th>\n",
       "      <th>v67</th>\n",
       "      <th>v68</th>\n",
       "      <th>v69</th>\n",
       "      <th>v70</th>\n",
       "      <th>v71</th>\n",
       "      <th>v72</th>\n",
       "      <th>v73</th>\n",
       "      <th>v74</th>\n",
       "      <th>v75</th>\n",
       "      <th>v76</th>\n",
       "      <th>v77</th>\n",
       "      <th>v78</th>\n",
       "      <th>v79</th>\n",
       "      <th>v80</th>\n",
       "      <th>v81</th>\n",
       "      <th>v82</th>\n",
       "      <th>v83</th>\n",
       "      <th>v85</th>\n",
       "      <th>v86</th>\n",
       "      <th>v87</th>\n",
       "      <th>v88</th>\n",
       "      <th>v89</th>\n",
       "      <th>target</th>\n",
       "    </tr>\n",
       "  </thead></table>\n",
       "<script type=\"text/javascript\">\n",
       "require([\"datatables\"], function (datatables) {\n",
       "    $(document).ready(function () {        \n",
       "        var dt_args = {\"columnDefs\": [{\"width\": \"150px\", \"targets\": \"_all\"}], \"lengthMenu\": [10, 10, 100, 200, 500, 1000, 2000, 5000], \"paging\": false, \"data\": [[\"count\", 3827.0, 3827.0, 3827.0, 3827.0, 3827.0, 3827.0, 3827.0, 3827.0, 3827.0, 3827.0, 3827.0, 3827.0, 3827.0, 3827.0, 3827.0, 3827.0, 3827.0, 3827.0, 3827.0, 3827.0, 3827.0, 3827.0, 3827.0, 3827.0, 3827.0, 3827.0, 3827.0, 3827.0, 3827.0, 3827.0, 3827.0, 3827.0, 3827.0, 3827.0, 3827.0, 3827.0, 3827.0, 3827.0, 3827.0, 3827.0, 3827.0, 3827.0, 3827.0, 3827.0, 3827.0, 3827.0, 3827.0, 3827.0, 3827.0, 3827.0, 3827.0, 3827.0, 3827.0, 3827.0, 3827.0, 3827.0, 3827.0, 3827.0, 3827.0, 3827.0, 3827.0, 3827.0, 3827.0, 3827.0, 3827.0, 3827.0, 3827.0, 3827.0, 3827.0, 3827.0, 3827.0, 3827.0, 3827.0, 3827.0, 3827.0, 3827.0, 3827.0, 3827.0, 3827.0, 3827.0, 3827.0], [\"mean\", 1914.0, 784.295793, 11.538019, 3.239613, 1.128299, 4.0763, 0.0, 1.710478, 3.327411, 1.59446, -153.81134, -148.820486, 3.691926, 1.0, 0.628168, 4.644369, 33.610661, -20.856023, 73.626862, -0.26104, 36.52208, 492.696107, 44.901489, 425.766919, -20.539428, 44.837993, -21.294594, 154.960544, -17.274628, -20.423047, -17.490985, -19.770577, -21.398484, -21.405017, -20.178207, -21.36347, -21.340998, -21.390384, -21.390645, -20.200679, -21.240658, -21.404494, 6.82937, 8.236216, 2.638707, 0.596714, 4.56833, 0.218077, 0.014675, 0.091689, 54.380716, 875.750457, 1636.527567, 1050.921907, -450.023517, -450.134831, -449.910112, -449.963462, -449.961672, -449.5503, 35.736347, 22.891037, 33.713875, -3.58427, -4.484453, -6.051738, -355.6185, -580.830938, -692.206428, -277.692448, 6.514764, -26.009929, 5.32532, -46.391168, -7.153384, -104.880847, -25.513196, 0.278563, -0.165887, -0.22427, 0.374445], [\"std\", 1104.904068, 249.246736, 4.17743, 5.603357, 1.08089, 0.776639, 0.0, 1.438694, 1.302492, 0.57809, 373.193401, 375.463392, 1.82606, 0.0, 0.483357, 0.587148, 8.163545, 144.758157, 36.163186, 16.148651, 241.361574, 505.714342, 166.558283, 445.066991, 144.804255, 206.597448, 144.692495, 200.524737, 145.407897, 144.825165, 145.255323, 144.949767, 144.677068, 144.676079, 144.88092, 144.682703, 144.686098, 144.678305, 144.67838, 144.875711, 144.701327, 144.676158, 1.82533, 1.21203, 1.325669, 0.202339, 0.622559, 0.094451, 0.00662, 0.036188, 26.620586, 222.27834, 441.984844, 2700.435277, 497.38196, 497.279679, 497.48328, 497.434914, 497.436535, 497.8093, 18.611421, 21.482031, 73.297163, 105.027149, 82.269224, 108.361435, 479.67017, 493.67672, 461.535578, 451.190679, 16.371439, 165.834756, 32.621216, 215.947945, 92.520899, 311.456655, 164.333467, 16.158252, 16.150266, 16.149301, 0.484042], [\"min\", 1.0, 500.0, 7.0, 0.0, 0.0, 1.0, 0.0, 1.0, 1.0, 1.0, -999.0, -999.0, 0.0, 1.0, 0.0, 0.0, 18.0, -999.0, -999.0, -999.0, -999.0, -999.0, -999.0, -999.0, -999.0, -999.0, -999.0, -999.0, -999.0, -999.0, -999.0, -999.0, -999.0, -999.0, -999.0, -999.0, -999.0, -999.0, -999.0, -999.0, -999.0, -999.0, 2.0, 4.0, 0.44, 0.091, 0.0, 0.06, 0.0, 0.022, 1.0, 320.0, 480.0, -999.0, -999.0, -999.0, -999.0, -999.0, -999.0, -999.0, -999.0, -999.0, -999.0, -999.0, -999.0, -999.0, -999.0, -999.0, -999.0, -999.0, -999.0, -999.0, -999.0, -999.0, -999.0, -999.0, -999.0, -999.0, -999.0, -999.0, 0.0], [\"25%\", 957.5, 500.0, 7.0, 0.0, 0.0, 4.0, 0.0, 1.0, 2.0, 1.0, 1.0, 1.0, 3.0, 1.0, 0.0, 4.0, 27.0, 0.0, 53.0, 0.0, 15.0, 166.0, 26.0, 147.0, 0.84, 4.0, 0.01, 90.0, 0.0, 0.0, 4.0, 0.0, 0.0, 0.0, 0.0, 0.0, 0.0, 0.0, 0.0, 0.0, 0.0, 0.0, 4.0, 8.0, 1.78, 0.445, 4.0, 0.12, 0.01, 0.068, 32.0, 720.0, 1344.0, -999.0, -999.0, -999.0, -999.0, -999.0, -999.0, -999.0, 29.0, 15.0, 18.0, 4.0, 2.0, 4.0, -999.0, -999.0, -999.0, -999.0, 6.0, 1.0, 4.0, 1.0, 1.0, 1.0, 1.0, 0.41, 0.06, 0.0, 0.0], [\"50%\", 1914.0, 1000.0, 14.0, 0.0, 1.0, 4.0, 0.0, 1.0, 3.0, 2.0, 7.0, 15.0, 5.0, 1.0, 1.0, 5.0, 32.0, 1.0, 69.0, 0.0, 21.0, 365.0, 44.0, 325.0, 0.95, 16.0, 0.05, 165.0, 1.0, 1.0, 4.0, 0.0, 0.0, 0.0, 0.0, 0.0, 0.0, 0.0, 0.0, 0.0, 0.0, 0.0, 8.0, 9.0, 2.66, 0.569, 5.0, 0.19, 0.01, 0.091, 54.0, 720.0, 1423.0, 0.0, 0.0, 0.0, 0.0, 0.0, 0.0, 1.0, 34.0, 23.0, 31.0, 6.0, 2.0, 6.0, 1.0, -999.0, -999.0, 2.0, 6.0, 2.0, 6.0, 2.0, 1.0, 3.0, 2.0, 0.53, 0.09, 0.03, 0.0], [\"75%\", 2870.5, 1000.0, 14.0, 5.0, 2.0, 5.0, 0.0, 1.0, 4.0, 2.0, 15.0, 30.0, 5.0, 1.0, 1.0, 5.0, 39.0, 1.0, 86.0, 0.0, 25.0, 736.5, 84.0, 630.0, 0.98, 56.0, 0.14, 239.5, 6.0, 2.0, 4.0, 2.0, 0.0, 0.0, 1.0, 0.0, 0.0, 0.0, 0.0, 1.0, 0.0, 0.0, 8.0, 9.0, 3.53, 0.729, 5.0, 0.25, 0.02, 0.106, 77.0, 1080.0, 2094.0, 2176.0, 0.0, 0.0, 1.0, 0.96, 0.96, 1.0, 43.0, 29.0, 49.0, 9.0, 3.0, 7.0, 2.0, 1.0, 1.0, 4.0, 8.0, 3.0, 8.0, 3.0, 2.0, 4.0, 3.0, 0.67, 0.12, 0.05, 1.0], [\"max\", 3827.0, 2000.0, 21.0, 26.0, 4.0, 6.0, 0.0, 5.0, 6.0, 3.0, 31.0, 31.0, 5.0, 1.0, 1.0, 5.0, 55.0, 1.0, 607.0, 0.0, 4107.0, 2000.0, 450.0, 2000.0, 1.0, 1612.0, 1.0, 390.0, 61.0, 4.0, 4.0, 39.0, 1.0, 1.0, 36.0, 7.0, 7.0, 2.0, 6.0, 28.0, 4.0, 1.0, 10.0, 10.0, 11.13, 1.0, 6.0, 0.5, 0.07, 0.373, 100.0, 2218.0, 2970.0, 27911.74, 13.0, 1.0, 1.0, 1.0, 1.0, 4.0, 61.0, 432.0, 580.0, 47.0, 13.0, 26.0, 7.0, 15.0, 18.0, 99.0, 22.0, 9.0, 32.0, 10.0, 14.0, 20.0, 20.0, 1.0, 0.35, 0.37, 1.0]]};\n",
       "        dt_args = eval_functions(dt_args);\n",
       "        table = $('#d9e30a47-c7ba-4ed1-ba84-97e413048926').DataTable(dt_args);\n",
       "    });\n",
       "})\n",
       "</script>\n",
       "</div>\n"
      ],
      "text/plain": [
       "<IPython.core.display.HTML object>"
      ]
     },
     "metadata": {},
     "output_type": "display_data"
    }
   ],
   "source": [
    "#直接填充默认缺失值，连续型特征填充-999，离散型特征填充“缺失”字样\n",
    "data_fillna=self_f_2.na_fill(data_delete)\n",
    "print(\"\\033[1;31m缺失值填充后变量分布\\n \\033[0m\")\n",
    "show(data_fillna.describe())\n",
    "# show(data_fillna.describe(include=['object']))\n",
    "data_fillna.to_excel(\"data_fillna.xlsx\")\n",
    "\n",
    "#另外的缺失值填充方法\n",
    "#根据相关性填充\n",
    "#根据后续结果看是否缺失值要根据特征中位数或者均值来填补"
   ]
  },
  {
   "cell_type": "markdown",
   "metadata": {},
   "source": [
    "## 特征筛选"
   ]
  },
  {
   "cell_type": "code",
   "execution_count": 9,
   "metadata": {},
   "outputs": [
    {
     "name": "stdout",
     "output_type": "stream",
     "text": [
      "\u001b[1;31m训练集好坏用户，1表示坏用户：\n",
      " \u001b[0m 0    1855\n",
      "1    1060\n",
      "Name: target, dtype: int64\n",
      "\u001b[1;31m时间外验证集好坏用户，1表示坏用户：\n",
      "\u001b[0m 0    539\n",
      "1    373\n",
      "Name: target, dtype: int64\n",
      "\u001b[1;31m去除事后以及事后以及根据经验较为波动不适宜入模的变量：\n",
      " \u001b[0m ['id', 'v4']\n"
     ]
    }
   ],
   "source": [
    "#训练集，时间外验证集拆分\n",
    "data_fillna=data_fillna[data_fillna['target'] !=2]\n",
    "train_data=data_fillna[data_fillna['v4']<'2020-03-16']\n",
    "oot_data=data_fillna[data_fillna['v4']>='2020-03-16']\n",
    "\n",
    "\n",
    "train_data.to_excel(\"train_data_original.xlsx\")\n",
    "oot_data.to_excel(\"oot_data_original.xlsx\")\n",
    "\n",
    "print(\"\\033[1;31m训练集好坏用户，1表示坏用户：\\n \\033[0m\",train_data.target.value_counts())\n",
    "print(\"\\033[1;31m时间外验证集好坏用户，1表示坏用户：\\n\\033[0m\",oot_data.target.value_counts())\n",
    "\n",
    "\n",
    "#不作为自特征的特征\n",
    "target=\"target\" #目标特征对应的字段名称\n",
    "key_name=\"id\" #唯一识别用户的字段，在最后面需要知道具体是哪个用户的得分的时候，需要用到\n",
    "target_series=pd.Series(\"target\")\n",
    "not_model_feature=['id', 'v4']\n",
    "\n",
    "\n",
    "#建模前记录下train_data的用户ID和index\n",
    "train_id=train_data[key_name]\n",
    "# print(train_id.head())\n",
    "\n",
    "#删除掉\n",
    "train_data=train_data.drop(not_model_feature,axis=1)\n",
    "\n",
    "print(\"\\033[1;31m去除事后以及事后以及根据经验较为波动不适宜入模的变量：\\n \\033[0m\",not_model_feature)"
   ]
  },
  {
   "cell_type": "markdown",
   "metadata": {},
   "source": [
    "###  psi筛选"
   ]
  },
  {
   "cell_type": "code",
   "execution_count": 10,
   "metadata": {},
   "outputs": [
    {
     "name": "stdout",
     "output_type": "stream",
     "text": [
      "\u001b[1;31mpsi筛选删除的特征: \u001b[0m ['v3', 'v8', 'v27', 'v35', 'v55']\n",
      "\u001b[1;31mpsi筛选的特征: \u001b[0m Index(['v2', 'v9', 'v11', 'v12', 'v13', 'v14', 'v15', 'v16', 'v17', 'v18',\n",
      "       'v19', 'v20', 'v21', 'v22', 'v23', 'v25', 'v26', 'v29', 'v30', 'v31',\n",
      "       'v32', 'v33', 'v34', 'v36', 'v37', 'v38', 'v39', 'v40', 'v41', 'v42',\n",
      "       'v43', 'v44', 'v45', 'v46', 'v47', 'v48', 'v49', 'v51', 'v52', 'v53',\n",
      "       'v54', 'v56', 'v57', 'v58', 'v59', 'v60', 'v61', 'v62', 'v63', 'v64',\n",
      "       'v65', 'v66', 'v67', 'v68', 'v69', 'v70', 'v71', 'v72', 'v73', 'v74',\n",
      "       'v75', 'v76', 'v77', 'v78', 'v79', 'v80', 'v81', 'v82', 'v83', 'v85',\n",
      "       'v86', 'v87', 'v88', 'v89', 'target'],\n",
      "      dtype='object')\n",
      "\u001b[1;31m各变量psi: \u001b[0m\n"
     ]
    },
    {
     "data": {
      "text/html": [
       "<div><table id=\"76a37f41-ac29-4d55-85e3-19a7e43f3506\" class=\"display nowrap\"><thead>\n",
       "    <tr style=\"text-align: right;\">\n",
       "      <th></th>\n",
       "      <th>var_name</th>\n",
       "      <th>psi</th>\n",
       "    </tr>\n",
       "  </thead></table>\n",
       "<script type=\"text/javascript\">\n",
       "require([\"datatables\"], function (datatables) {\n",
       "    $(document).ready(function () {        \n",
       "        var dt_args = {\"columnDefs\": [{\"width\": \"150px\", \"targets\": \"_all\"}], \"lengthMenu\": [10, 10, 100, 200, 500, 1000, 2000, 5000], \"data\": [[2, \"v8\", Infinity], [45, \"v55\", Infinity], [19, \"v27\", Infinity], [26, \"v35\", 1.1137], [1, \"v3\", 0.4243], [47, \"v57\", 0.0983], [27, \"v36\", 0.0891], [22, \"v31\", 0.0711], [28, \"v37\", 0.0636], [21, \"v30\", 0.0616], [20, \"v29\", 0.0604], [52, \"v62\", 0.057], [54, \"v64\", 0.0537], [55, \"v65\", 0.0529], [0, \"v2\", 0.0528], [58, \"v68\", 0.0523], [23, \"v32\", 0.0491], [42, \"v52\", 0.0397], [16, \"v23\", 0.0382], [46, \"v56\", 0.034], [67, \"v77\", 0.034], [10, \"v17\", 0.0334], [57, \"v67\", 0.0267], [30, \"v39\", 0.0266], [33, \"v42\", 0.0264], [73, \"v83\", 0.0244], [64, \"v74\", 0.0243], [9, \"v16\", 0.0237], [17, \"v25\", 0.0221], [3, \"v9\", 0.0218], [25, \"v34\", 0.0216], [69, \"v79\", 0.0203], [78, \"v89\", 0.0198], [24, \"v33\", 0.0198], [59, \"v69\", 0.0195], [56, \"v66\", 0.0191], [62, \"v72\", 0.019], [74, \"v85\", 0.0187], [77, \"v88\", 0.0161], [44, \"v54\", 0.0157], [15, \"v22\", 0.0156], [71, \"v81\", 0.015], [61, \"v71\", 0.0149], [35, \"v44\", 0.0145], [75, \"v86\", 0.0141], [68, \"v78\", 0.0134], [50, \"v60\", 0.0128], [66, \"v76\", 0.0124], [51, \"v61\", 0.0123], [70, \"v80\", 0.0118], [43, \"v53\", 0.0116], [6, \"v13\", 0.0108], [60, \"v70\", 0.0106], [38, \"v47\", 0.009], [48, \"v58\", 0.009], [76, \"v87\", 0.0089], [34, \"v43\", 0.0088], [7, \"v14\", 0.0068], [49, \"v59\", 0.0068], [31, \"v40\", 0.0051], [72, \"v82\", 0.0049], [14, \"v21\", 0.0046], [65, \"v75\", 0.0042], [63, \"v73\", 0.0041], [4, \"v11\", 0.0031], [41, \"v51\", 0.0029], [8, \"v15\", 0.0026], [11, \"v18\", 0.0023], [37, \"v46\", 0.0015], [39, \"v48\", 0.001], [40, \"v49\", 0.0009], [29, \"v38\", 0.0008], [32, \"v41\", 0.0008], [36, \"v45\", 0.0006], [13, \"v20\", 0.0003], [5, \"v12\", 0.0], [12, \"v19\", 0.0], [53, \"v63\", 0.0], [18, \"v26\", 0.0]]};\n",
       "        dt_args = eval_functions(dt_args);\n",
       "        table = $('#76a37f41-ac29-4d55-85e3-19a7e43f3506').DataTable(dt_args);\n",
       "    });\n",
       "})\n",
       "</script>\n",
       "</div>\n"
      ],
      "text/plain": [
       "<IPython.core.display.HTML object>"
      ]
     },
     "metadata": {},
     "output_type": "display_data"
    },
    {
     "name": "stdout",
     "output_type": "stream",
     "text": [
      "\u001b[1;31mpsi筛选特征完成--------------------------------\u001b[0m\n"
     ]
    }
   ],
   "source": [
    "### psi筛选\n",
    "# 3.1psi筛选\n",
    "all_col = [x for x in train_data.columns if x!=target]\n",
    "psi_tup = []\n",
    "for col in all_col:\n",
    "    psi,psi_bin_df = self_f_2.cal_psi(train_data,oot_data,col)\n",
    "    psi_tup.append((col,psi))\n",
    "psi_delete = [x for x,y in psi_tup if y>=0.25]#这里psi阈值定位0.25\n",
    "\n",
    "#变量和psi转换成数据框\n",
    "psi_df=pd.DataFrame(pd.Series(dict(psi_tup)),columns=[\"psi\"])\n",
    "psi_df=psi_df.reset_index().rename(columns={'index':'var_name'})\n",
    "psi_df=psi_df.sort_values(by='psi', axis=0, ascending=False)\n",
    "\n",
    "train = train_data.drop(psi_delete,axis=1)\n",
    "\n",
    "print('\\033[1;31mpsi筛选删除的特征: \\033[0m',psi_delete)\n",
    "print('\\033[1;31mpsi筛选的特征: \\033[0m',train.columns)\n",
    "print('\\033[1;31m各变量psi: \\033[0m')\n",
    "show(psi_df)\n",
    "print('\\033[1;31mpsi筛选特征完成--------------------------------\\033[0m')"
   ]
  },
  {
   "cell_type": "markdown",
   "metadata": {},
   "source": [
    "### 随机森林筛选特征\n",
    "\n",
    "此版本，没有使用随机森林筛选变量，即所有变量都进入下一轮iv的筛选"
   ]
  },
  {
   "cell_type": "code",
   "execution_count": 11,
   "metadata": {},
   "outputs": [],
   "source": [
    "# df=train\n",
    "# le=preprocessing.LabelEncoder()\n",
    "# character_name,cate_count=self_f_2.character_VarFindFunc(df)\n",
    "# df_new=df.copy()\n",
    "# # print(df_new.info())\n",
    "# character_name.remove(target)\n",
    "# for i in character_name:\n",
    "#     code_list=list(df_new[i].unique())\n",
    "#     encoder= le.fit(code_list)\n",
    "#     print(i)\n",
    "#     print(encoder)\n",
    "#     print(\"------------\")\n",
    "#     df_new[i] = encoder.transform(df_new[i])\n",
    "#     print(df_new[i])\n",
    "            \n",
    "# show(df_new)"
   ]
  },
  {
   "cell_type": "code",
   "execution_count": 12,
   "metadata": {},
   "outputs": [
    {
     "name": "stdout",
     "output_type": "stream",
     "text": [
      "no charchater variables exists\n",
      "\u001b[1;31m随机森林删除的特征: \u001b[0m\n"
     ]
    },
    {
     "data": {
      "text/html": [
       "<div><table id=\"158a2b38-227b-4caf-8ba6-7cd80f403ae7\" class=\"display nowrap\"><thead>\n",
       "    <tr style=\"text-align: right;\">\n",
       "      <th></th>\n",
       "      <th>var_name</th>\n",
       "      <th>importance</th>\n",
       "    </tr>\n",
       "  </thead></table>\n",
       "<script type=\"text/javascript\">\n",
       "require([\"datatables\"], function (datatables) {\n",
       "    $(document).ready(function () {        \n",
       "        var dt_args = {\"columnDefs\": [{\"width\": \"150px\", \"targets\": \"_all\"}], \"lengthMenu\": [10, 10, 100, 200, 500, 1000, 2000, 5000], \"paging\": false, \"data\": []};\n",
       "        dt_args = eval_functions(dt_args);\n",
       "        table = $('#158a2b38-227b-4caf-8ba6-7cd80f403ae7').DataTable(dt_args);\n",
       "    });\n",
       "})\n",
       "</script>\n",
       "</div>\n"
      ],
      "text/plain": [
       "<IPython.core.display.HTML object>"
      ]
     },
     "metadata": {},
     "output_type": "display_data"
    },
    {
     "name": "stdout",
     "output_type": "stream",
     "text": [
      "\u001b[1;31m随机森林筛选的特征: \u001b[0m\n"
     ]
    },
    {
     "data": {
      "text/html": [
       "<div><table id=\"1864110d-0272-4fd3-a053-efe78bf19c98\" class=\"display nowrap\"><thead>\n",
       "    <tr style=\"text-align: right;\">\n",
       "      <th></th>\n",
       "      <th>var_name</th>\n",
       "      <th>importance</th>\n",
       "    </tr>\n",
       "  </thead></table>\n",
       "<script type=\"text/javascript\">\n",
       "require([\"datatables\"], function (datatables) {\n",
       "    $(document).ready(function () {        \n",
       "        var dt_args = {\"columnDefs\": [{\"width\": \"150px\", \"targets\": \"_all\"}], \"lengthMenu\": [10, 10, 100, 200, 500, 1000, 2000, 5000], \"data\": [[0, \"v2\", 0.093026], [1, \"v9\", 0.063343], [2, \"v11\", 0.048709], [3, \"v12\", 0.042527], [4, \"v13\", 0.039171], [5, \"v14\", 0.03602], [6, \"v15\", 0.032596], [7, \"v16\", 0.029955], [8, \"v17\", 0.029516], [9, \"v18\", 0.027957], [10, \"v19\", 0.027503], [11, \"v20\", 0.027172], [12, \"v21\", 0.025587], [13, \"v22\", 0.024167], [14, \"v23\", 0.023374], [15, \"v25\", 0.022747], [16, \"v26\", 0.021619], [17, \"v29\", 0.02109], [18, \"v30\", 0.020664], [19, \"v31\", 0.019383], [20, \"v32\", 0.016322], [21, \"v33\", 0.015681], [22, \"v34\", 0.014958], [23, \"v36\", 0.014414], [24, \"v37\", 0.013492], [25, \"v38\", 0.013357], [26, \"v39\", 0.012701], [27, \"v40\", 0.012431], [28, \"v41\", 0.012224], [29, \"v42\", 0.012051], [30, \"v43\", 0.011965], [31, \"v44\", 0.011506], [32, \"v45\", 0.011478], [33, \"v46\", 0.011304], [34, \"v47\", 0.011151], [35, \"v48\", 0.01081], [36, \"v49\", 0.010594], [37, \"v51\", 0.009264], [38, \"v52\", 0.008063], [39, \"v53\", 0.007554], [40, \"v54\", 0.007235], [41, \"v56\", 0.007064], [42, \"v57\", 0.005867], [43, \"v58\", 0.005475], [44, \"v59\", 0.005319], [45, \"v60\", 0.005302], [46, \"v61\", 0.004933], [47, \"v62\", 0.004477], [48, \"v63\", 0.003749], [49, \"v64\", 0.003411], [50, \"v65\", 0.003384], [51, \"v66\", 0.003241], [52, \"v67\", 0.002868], [53, \"v68\", 0.002761], [54, \"v69\", 0.002694], [55, \"v70\", 0.002535], [56, \"v71\", 0.002476], [57, \"v72\", 0.002189], [58, \"v73\", 0.001465], [59, \"v74\", 0.001438], [60, \"v75\", 0.001425], [61, \"v76\", 0.001211], [62, \"v77\", 0.000953], [63, \"v78\", 0.000466], [64, \"v79\", 0.000225], [65, \"v80\", 0.000222], [66, \"v81\", 0.000125], [67, \"v82\", 4.2e-05], [68, \"v83\", 0.0], [69, \"v85\", 0.0], [70, \"v86\", 0.0], [71, \"v87\", 0.0], [72, \"v88\", 0.0], [73, \"v89\", 0.0]]};\n",
       "        dt_args = eval_functions(dt_args);\n",
       "        table = $('#1864110d-0272-4fd3-a053-efe78bf19c98').DataTable(dt_args);\n",
       "    });\n",
       "})\n",
       "</script>\n",
       "</div>\n"
      ],
      "text/plain": [
       "<IPython.core.display.HTML object>"
      ]
     },
     "metadata": {},
     "output_type": "display_data"
    }
   ],
   "source": [
    "#2.2随机森林筛选特征\n",
    "#由于树模型不能处理非数值型特征，对离散型特征进行labelencoder编码，即将离散型特征使用连续数字来编码，\n",
    "#没有啥业务含义，只是一个将离散型特征映射为数字而已\n",
    "\n",
    "\n",
    "#！重要，当没有psi这步时，需要进行这步赋值\n",
    "# train=train_data\n",
    "\n",
    "data_label_encode=self_f_2.feature_labelencoder(train) \n",
    "\n",
    "#将重要性大于一定阈值的特征筛选出来          \n",
    "df_random_var,importance_list_delete=self_f_2.Random_feature_filter(data_label_encode,im_value=0.0)\n",
    "random_var_name=df_random_var['var_name']#重要度大于阈值到特征，不含目标特征\n",
    "\n",
    "print(\"\\033[1;31m随机森林删除的特征: \\033[0m\")\n",
    "show(importance_list_delete)\n",
    "print(\"\\033[1;31m随机森林筛选的特征: \\033[0m\")\n",
    "show(df_random_var)\n",
    "\n",
    "df_random_var.to_excel(\"df_random_var.xlsx\")\n",
    "random_var_name=random_var_name.append(target_series)#添加目标特征，即y特征\n",
    "train=train[random_var_name]"
   ]
  },
  {
   "cell_type": "markdown",
   "metadata": {},
   "source": [
    "### iv筛选"
   ]
  },
  {
   "cell_type": "code",
   "execution_count": 13,
   "metadata": {},
   "outputs": [
    {
     "name": "stdout",
     "output_type": "stream",
     "text": [
      "\u001b[1;31m特征分箱完成---------------------------\u001b[0m\n",
      "\u001b[1;31m变量iv以及分箱表 \u001b[0m\n"
     ]
    },
    {
     "data": {
      "text/html": [
       "<div><table id=\"1be9f420-b02f-4c7f-a34f-dedd76a8be4d\" class=\"display nowrap\"><thead>\n",
       "    <tr style=\"text-align: right;\">\n",
       "      \n",
       "      <th>col</th>\n",
       "      <th>bins</th>\n",
       "      <th>IV</th>\n",
       "      <th>woe</th>\n",
       "      <th>bin_iv</th>\n",
       "      <th>total</th>\n",
       "      <th>totalrate</th>\n",
       "      <th>bad</th>\n",
       "      <th>badrate</th>\n",
       "      <th>good</th>\n",
       "      <th>goodrate</th>\n",
       "      <th>badattr</th>\n",
       "      <th>goodattr</th>\n",
       "      <th>fuzhu</th>\n",
       "    </tr>\n",
       "  </thead></table>\n",
       "<script type=\"text/javascript\">\n",
       "require([\"datatables\"], function (datatables) {\n",
       "    $(document).ready(function () {        \n",
       "        var dt_args = {\"columnDefs\": [{\"width\": \"90px\", \"targets\": \"_all\"}], \"lengthMenu\": [10, 10, 100, 200, 500, 1000, 2000, 5000], \"data\": [[\"v2\", \"500\", Infinity, -0.162889, 0.01049339, 1181, 0.405146, 386, 0.326842, 795, 0.673158, 0.364151, 0.428571, 0], [\"v2\", \"1000\", Infinity, 0.10871, 0.007120377, 1732, 0.594168, 674, 0.389145, 1058, 0.610855, 0.635849, 0.57035, 1], [\"v2\", \"2000\", Infinity, -Infinity, Infinity, 2, 0.000686, 0, 0.0, 2, 1.0, 0.0, 0.001078, 2], [\"v21\", \"0\", Infinity, -Infinity, Infinity, 1, 0.000343, 0, 0.0, 1, 1.0, 0.0, 0.000539, 42], [\"v21\", \"2\", Infinity, -Infinity, Infinity, 1, 0.000343, 0, 0.0, 1, 1.0, 0.0, 0.000539, 43], [\"v21\", \"3\", Infinity, -0.022306, 2.70555e-05, 159, 0.054545, 57, 0.358491, 102, 0.641509, 0.053774, 0.054987, 44], [\"v21\", \"4\", Infinity, 0.071848, 0.00127816, 715, 0.245283, 272, 0.38042, 443, 0.61958, 0.256604, 0.238814, 45], [\"v21\", \"5\", Infinity, -0.022225, 0.000344462, 2039, 0.699485, 731, 0.358509, 1308, 0.641491, 0.689623, 0.705121, 46], [\"v26\", \"-999.0\", Infinity, Infinity, Infinity, 1, 0.000343, 1, 1.0, 0, 0.0, 0.000943, 0.0, 60], [\"v26\", \"0.0\", Infinity, -0.000944, 8.904165e-07, 2914, 0.999657, 1059, 0.363418, 1855, 0.636582, 0.999057, 1.0, 61], [\"v41\", \"-999.0\", Infinity, -0.207639, 0.001175317, 82, 0.02813, 26, 0.317073, 56, 0.682927, 0.024528, 0.030189, 111], [\"v41\", \"0.0\", Infinity, 0.006376, 3.952546e-05, 2832, 0.971527, 1034, 0.365113, 1798, 0.634887, 0.975472, 0.969272, 112], [\"v41\", \"1.0\", Infinity, -Infinity, Infinity, 1, 0.000343, 0, 0.0, 1, 1.0, 0.0, 0.000539, 113], [\"v68\", \"-999.0\", Infinity, 0.454559, 0.1032253, 1391, 0.477187, 659, 0.47376, 732, 0.52624, 0.621698, 0.394609, 203], [\"v68\", \"1.0\", Infinity, -0.486969, 0.0758018, 1012, 0.34717, 263, 0.259881, 749, 0.740119, 0.248113, 0.403774, 204], [\"v68\", \"2.0\", Infinity, -0.417475, 0.02734406, 490, 0.168096, 134, 0.273469, 356, 0.726531, 0.126415, 0.191914, 205], [\"v68\", \"3.0\", Infinity, -0.887303, 0.004783306, 21, 0.007204, 4, 0.190476, 17, 0.809524, 0.003774, 0.009164, 206], [\"v68\", \"4.0\", Infinity, -Infinity, Infinity, 1, 0.000343, 0, 0.0, 1, 1.0, 0.0, 0.000539, 207], [\"v36\", \"(-inf, 0.5]\", 0.345731, 0.541994, 0.14441, 1362, 0.467238, 675, 0.495595, 687, 0.504405, 0.636792, 0.37035, 92], [\"v36\", \"(0.5, 1.5]\", 0.345731, 0.010718, 7.222518e-06, 183, 0.062779, 67, 0.36612, 116, 0.63388, 0.063208, 0.062534, 93], [\"v36\", \"(1.5, 2.5]\", 0.345731, -0.275182, 0.003782824, 152, 0.052144, 46, 0.302632, 106, 0.697368, 0.043396, 0.057143, 94], [\"v36\", \"(2.5, 16.5]\", 0.345731, -0.606238, 0.1210842, 1069, 0.366724, 254, 0.237605, 815, 0.762395, 0.239623, 0.439353, 95], [\"v36\", \"(16.5, inf]\", 0.345731, -1.42521, 0.07644656, 149, 0.051115, 18, 0.120805, 131, 0.879195, 0.016981, 0.07062, 96], [\"v37\", \"(-inf, 0.5]\", 0.293609, 0.541994, 0.14441, 1362, 0.467238, 675, 0.495595, 687, 0.504405, 0.636792, 0.37035, 97], [\"v37\", \"(0.5, 1.5]\", 0.293609, -0.47081, 0.0472714, 673, 0.230875, 177, 0.263001, 496, 0.736999, 0.166981, 0.267385, 98], [\"v37\", \"(1.5, 2.5]\", 0.293609, -0.59763, 0.06362906, 577, 0.197942, 138, 0.239168, 439, 0.760832, 0.130189, 0.236658, 99], [\"v37\", \"(2.5, inf]\", 0.293609, -0.642927, 0.03829837, 303, 0.103945, 70, 0.231023, 233, 0.768977, 0.066038, 0.125606, 100], [\"v62\", \"(-inf, -999.0]\", 0.263686, 0.454559, 0.1032253, 1391, 0.477187, 659, 0.47376, 732, 0.52624, 0.621698, 0.394609, 178], [\"v62\", \"(-999.0, 1493.715]\", 0.263686, -0.162688, 0.004582451, 517, 0.177358, 169, 0.326886, 348, 0.673114, 0.159434, 0.187601, 179], [\"v62\", \"(1493.715, 2163.82]\", 0.263686, -0.526726, 0.02825298, 325, 0.111492, 82, 0.252308, 243, 0.747692, 0.077358, 0.130997, 180], [\"v62\", \"(2163.82, 7334.175]\", 0.263686, -0.847469, 0.126892, 605, 0.207547, 119, 0.196694, 486, 0.803306, 0.112264, 0.261995, 181], [\"v62\", \"(7334.175, inf]\", 0.263686, 0.164962, 0.0007336567, 77, 0.026415, 31, 0.402597, 46, 0.597403, 0.029245, 0.024798, 182], [\"v65\", \"-999.0\", 0.249928, 0.454559, 0.1032253, 1391, 0.477187, 659, 0.47376, 732, 0.52624, 0.621698, 0.394609, 190], [\"v65\", \"0.0\", 0.249928, -0.054019, 0.0004440942, 447, 0.153345, 157, 0.35123, 290, 0.64877, 0.148113, 0.156334, 191], [\"v65\", \"1.0\", 0.249928, -0.66825, 0.1462584, 1077, 0.369468, 244, 0.226555, 833, 0.773445, 0.230189, 0.449057, 192], [\"v67\", \"(-inf, -999.0]\", 0.236706, 0.454559, 0.1032253, 1391, 0.477187, 659, 0.47376, 732, 0.52624, 0.621698, 0.394609, 198], [\"v67\", \"(-999.0, 0.215]\", 0.236706, -0.144705, 0.001891692, 269, 0.092281, 89, 0.330855, 180, 0.669145, 0.083962, 0.097035, 199], [\"v67\", \"(0.215, 0.315]\", 0.236706, -1.00436, 0.04426222, 156, 0.053516, 27, 0.173077, 129, 0.826923, 0.025472, 0.069542, 200], [\"v67\", \"(0.315, 0.415]\", 0.236706, -0.253333, 0.003789746, 179, 0.061407, 55, 0.307263, 124, 0.692737, 0.051887, 0.066846, 201], [\"v67\", \"(0.415, inf]\", 0.236706, -0.538997, 0.08353719, 920, 0.315609, 230, 0.25, 690, 0.75, 0.216981, 0.371968, 202], [\"v66\", \"(-inf, -999.0]\", 0.231092, 0.454559, 0.1032253, 1391, 0.477187, 659, 0.47376, 732, 0.52624, 0.621698, 0.394609, 193], [\"v66\", \"(-999.0, 0.225]\", 0.231092, -0.144227, 0.001963193, 281, 0.096398, 93, 0.330961, 188, 0.669039, 0.087736, 0.101348, 194], [\"v66\", \"(0.225, 0.425]\", 0.231092, -0.554745, 0.03259687, 340, 0.116638, 84, 0.247059, 256, 0.752941, 0.079245, 0.138005, 195], [\"v66\", \"(0.425, 0.965]\", 0.231092, -0.854078, 0.04891954, 230, 0.078902, 45, 0.195652, 185, 0.804348, 0.042453, 0.09973, 196], [\"v66\", \"(0.965, inf]\", 0.231092, -0.455534, 0.04438693, 673, 0.230875, 179, 0.265973, 494, 0.734027, 0.168868, 0.266307, 197], [\"v23\", \"-999.0\", 0.222902, -0.207639, 0.001175317, 82, 0.02813, 26, 0.317073, 56, 0.682927, 0.024528, 0.030189, 52], [\"v23\", \"0.0\", 0.222902, 0.493893, 0.1149533, 1309, 0.449057, 633, 0.483575, 676, 0.516425, 0.59717, 0.36442, 53], [\"v23\", \"1.0\", 0.222902, -0.470182, 0.1067731, 1524, 0.522813, 401, 0.263123, 1123, 0.736877, 0.378302, 0.605391, 54], [\"v63\", \"(-inf, -999.0]\", 0.218938, 0.454559, 0.1032253, 1391, 0.477187, 659, 0.47376, 732, 0.52624, 0.621698, 0.394609, 183], [\"v63\", \"(-999.0, 1.0]\", 0.218938, -0.525858, 0.1139596, 1315, 0.451115, 332, 0.252471, 983, 0.747529, 0.313208, 0.529919, 184], [\"v63\", \"(1.0, 3.0]\", 0.218938, -0.19272, 0.001584358, 128, 0.043911, 41, 0.320312, 87, 0.679688, 0.038679, 0.0469, 185], [\"v63\", \"(3.0, inf]\", 0.218938, -0.078472, 0.000169211, 81, 0.027787, 28, 0.345679, 53, 0.654321, 0.026415, 0.028571, 186], [\"v64\", \"-999.0\", 0.21, 0.454559, 0.1032253, 1391, 0.477187, 659, 0.47376, 732, 0.52624, 0.621698, 0.394609, 187], [\"v64\", \"0.0\", 0.21, -0.471528, 0.07530462, 1069, 0.366724, 281, 0.262862, 788, 0.737138, 0.265094, 0.424798, 188], [\"v64\", \"1.0\", 0.21, -0.467023, 0.03147055, 455, 0.156089, 120, 0.263736, 335, 0.736264, 0.113208, 0.180593, 189], [\"v47\", \"(-inf, 0.5]\", 0.197272, 0.249536, 0.04590527, 2087, 0.715952, 883, 0.423095, 1204, 0.576905, 0.833019, 0.649057, 124], [\"v47\", \"(0.5, 2.5]\", 0.197272, -0.453107, 0.01984632, 304, 0.104288, 81, 0.266447, 223, 0.733553, 0.076415, 0.120216, 125], [\"v47\", \"(2.5, 5.5]\", 0.197272, -0.892276, 0.07155042, 311, 0.10669, 59, 0.189711, 252, 0.810289, 0.05566, 0.135849, 126], [\"v47\", \"(5.5, inf]\", 0.197272, -0.99995, 0.05997006, 213, 0.07307, 37, 0.173709, 176, 0.826291, 0.034906, 0.094879, 127], [\"v39\", \"(-inf, 0.5]\", 0.189091, 0.28169, 0.05375645, 1912, 0.655918, 824, 0.430962, 1088, 0.569038, 0.777358, 0.586523, 103], [\"v39\", \"(0.5, 1.5]\", 0.189091, -0.353279, 0.00833206, 206, 0.070669, 59, 0.286408, 147, 0.713592, 0.05566, 0.079245, 104], [\"v39\", \"(1.5, 4.5]\", 0.189091, -0.535327, 0.03253806, 363, 0.124528, 91, 0.250689, 272, 0.749311, 0.085849, 0.146631, 105], [\"v39\", \"(4.5, 7.5]\", 0.189091, -0.690723, 0.03825972, 265, 0.090909, 59, 0.222642, 206, 0.777358, 0.05566, 0.111051, 106], [\"v39\", \"(7.5, inf]\", 0.189091, -1.100374, 0.05620511, 169, 0.057976, 27, 0.159763, 142, 0.840237, 0.025472, 0.07655, 107], [\"v22\", \"(-inf, 25.5]\", 0.105222, 0.55544, 0.05337318, 479, 0.164322, 239, 0.498956, 240, 0.501044, 0.225472, 0.12938, 47], [\"v22\", \"(25.5, 36.5]\", 0.105222, 0.038027, 0.000717498, 1439, 0.493654, 536, 0.372481, 903, 0.627519, 0.50566, 0.486792, 48], [\"v22\", \"(36.5, 38.5]\", 0.105222, -0.209904, 0.002913767, 199, 0.068268, 63, 0.316583, 136, 0.683417, 0.059434, 0.073315, 49], [\"v22\", \"(38.5, 48.5]\", 0.105222, -0.489297, 0.04807242, 636, 0.218182, 165, 0.259434, 471, 0.740566, 0.15566, 0.253908, 50], [\"v22\", \"(48.5, inf]\", 0.105222, -0.051293, 0.0001451697, 162, 0.055575, 57, 0.351852, 105, 0.648148, 0.053774, 0.056604, 51], [\"v72\", \"(-inf, 3.5]\", 0.080505, 0.406342, 0.04172945, 706, 0.242196, 326, 0.461756, 380, 0.538244, 0.307547, 0.204852, 223], [\"v72\", \"(3.5, 5.5]\", 0.080505, 0.026261, 0.0001521867, 641, 0.219897, 237, 0.369735, 404, 0.630265, 0.223585, 0.21779, 224], [\"v72\", \"(5.5, 12.5]\", 0.080505, -0.298252, 0.03549276, 1219, 0.418182, 363, 0.297785, 856, 0.702215, 0.342453, 0.461456, 225], [\"v72\", \"(12.5, 16.5]\", 0.080505, -0.039713, 0.00010169, 189, 0.064837, 67, 0.354497, 122, 0.645503, 0.063208, 0.065768, 226], [\"v72\", \"(16.5, inf]\", 0.080505, 0.231709, 0.003029079, 160, 0.054889, 67, 0.41875, 93, 0.58125, 0.063208, 0.050135, 227], [\"v42\", \"(-inf, 0.5]\", 0.071074, 0.131857, 0.01272364, 2098, 0.719726, 828, 0.394662, 1270, 0.605338, 0.781132, 0.684636, 114], [\"v42\", \"(0.5, 1.5]\", 0.071074, -0.002195, 2.958747e-07, 179, 0.061407, 65, 0.363128, 114, 0.636872, 0.061321, 0.061456, 115], [\"v42\", \"(1.5, 4.5]\", 0.071074, -0.271682, 0.00864109, 356, 0.122127, 108, 0.303371, 248, 0.696629, 0.101887, 0.133693, 116], [\"v42\", \"(4.5, inf]\", 0.071074, -0.770019, 0.04970874, 282, 0.096741, 59, 0.20922, 223, 0.79078, 0.05566, 0.120216, 117], [\"v88\", \"(-inf, 0.055]\", 0.06552, 0.336472, 0.02503136, 621, 0.213036, 276, 0.444444, 345, 0.555556, 0.260377, 0.185984, 294], [\"v88\", \"(0.055, 0.085]\", 0.06552, 0.120105, 0.003949539, 786, 0.26964, 308, 0.391858, 478, 0.608142, 0.290566, 0.257682, 295], [\"v88\", \"(0.085, 0.125]\", 0.06552, -0.319995, 0.02971383, 890, 0.305317, 261, 0.293258, 629, 0.706742, 0.246226, 0.339084, 296], [\"v88\", \"(0.125, 0.165]\", 0.06552, -0.206438, 0.005313974, 375, 0.128645, 119, 0.317333, 256, 0.682667, 0.112264, 0.138005, 297], [\"v88\", \"(0.165, inf]\", 0.06552, 0.133531, 0.001511676, 243, 0.083362, 96, 0.395062, 147, 0.604938, 0.090566, 0.079245, 298], [\"v31\", \"(-inf, 28.5]\", 0.058981, -0.195407, 0.001869795, 147, 0.050429, 47, 0.319728, 100, 0.680272, 0.04434, 0.053908, 72], [\"v31\", \"(28.5, 219.5]\", 0.058981, 0.258799, 0.02315939, 978, 0.335506, 416, 0.425358, 562, 0.574642, 0.392453, 0.302965, 73], [\"v31\", \"(219.5, 983.5]\", 0.058981, -0.185866, 0.01633214, 1417, 0.486106, 456, 0.321807, 961, 0.678193, 0.430189, 0.518059, 74], [\"v31\", \"(983.5, 1181.0]\", 0.058981, 0.492476, 0.01300881, 149, 0.051115, 72, 0.483221, 77, 0.516779, 0.067925, 0.041509, 75], [\"v31\", \"(1181.0, inf]\", 0.058981, -0.249703, 0.004610416, 224, 0.076844, 69, 0.308036, 155, 0.691964, 0.065094, 0.083558, 76], [\"v29\", \"(-inf, 44.0]\", 0.04749, -0.244197, 0.002994868, 152, 0.052144, 47, 0.309211, 105, 0.690789, 0.04434, 0.056604, 62], [\"v29\", \"(44.0, 234.5]\", 0.04749, 0.264329, 0.02276365, 921, 0.315952, 393, 0.42671, 528, 0.57329, 0.370755, 0.284636, 63], [\"v29\", \"(234.5, 934.0]\", 0.04749, -0.184351, 0.01485737, 1310, 0.4494, 422, 0.322137, 888, 0.677863, 0.398113, 0.478706, 64], [\"v29\", \"(934.0, 1539.5]\", 0.04749, 0.170838, 0.00356871, 349, 0.119726, 141, 0.404011, 208, 0.595989, 0.133019, 0.112129, 65], [\"v29\", \"(1539.5, inf]\", 0.04749, -0.233615, 0.003305871, 183, 0.062779, 57, 0.311475, 126, 0.688525, 0.053774, 0.067925, 66], [\"v14\", \"(-inf, 1.5]\", 0.046828, 0.282863, 0.004536479, 160, 0.054889, 69, 0.43125, 91, 0.56875, 0.065094, 0.049057, 17], [\"v14\", \"(1.5, 2.5]\", 0.046828, 0.073182, 0.001213118, 654, 0.224357, 249, 0.380734, 405, 0.619266, 0.234906, 0.218329, 18], [\"v14\", \"(2.5, 4.5]\", 0.046828, 0.043982, 0.001037322, 1554, 0.533105, 581, 0.373874, 973, 0.626126, 0.548113, 0.524528, 19], [\"v14\", \"(4.5, 5.5]\", 0.046828, -0.041724, 0.0001911874, 322, 0.110463, 114, 0.354037, 208, 0.645963, 0.107547, 0.112129, 20], [\"v14\", \"(5.5, inf]\", 0.046828, -0.77202, 0.03984956, 225, 0.077187, 47, 0.208889, 178, 0.791111, 0.04434, 0.095957, 21], [\"v54\", \"(-inf, 0.375]\", 0.040088, 0.006231, 5.03818e-06, 378, 0.129674, 138, 0.365079, 240, 0.634921, 0.130189, 0.12938, 147], [\"v54\", \"(0.375, 0.411]\", 0.040088, -0.747898, 0.02590427, 155, 0.053173, 33, 0.212903, 122, 0.787097, 0.031132, 0.065768, 148], [\"v54\", \"(0.411, 0.44]\", 0.040088, 0.204582, 0.002178159, 148, 0.050772, 61, 0.412162, 87, 0.587838, 0.057547, 0.0469, 149], [\"v54\", \"(0.44, 0.574]\", 0.040088, -0.139351, 0.005051943, 774, 0.265523, 257, 0.332041, 517, 0.667959, 0.242453, 0.278706, 150], [\"v54\", \"(0.574, inf]\", 0.040088, 0.116908, 0.006948292, 1460, 0.500858, 571, 0.391096, 889, 0.608904, 0.538679, 0.479245, 151], [\"v53\", \"(-inf, 0.865]\", 0.038608, 0.417441, 0.009676537, 155, 0.053173, 72, 0.464516, 83, 0.535484, 0.067925, 0.044744, 142], [\"v53\", \"(0.865, 1.805]\", 0.038608, 0.066365, 0.00115379, 757, 0.259691, 287, 0.379128, 470, 0.620872, 0.270755, 0.253369, 143], [\"v53\", \"(1.805, 1.835]\", 0.038608, 0.356491, 0.0111944, 247, 0.084734, 111, 0.449393, 136, 0.550607, 0.104717, 0.073315, 144], [\"v53\", \"(1.835, 3.695]\", 0.038608, -0.160098, 0.01363642, 1588, 0.544768, 520, 0.327456, 1068, 0.672544, 0.490566, 0.575741, 145], [\"v53\", \"(3.695, inf]\", 0.038608, 0.223144, 0.002947179, 168, 0.057633, 70, 0.416667, 98, 0.583333, 0.066038, 0.05283, 146], [\"v33\", \"(-inf, 0.5]\", 0.038026, -0.286161, 0.00840743, 313, 0.107376, 94, 0.300319, 219, 0.699681, 0.088679, 0.118059, 82], [\"v33\", \"(0.5, 11.5]\", 0.038026, 0.043586, 0.0006050394, 923, 0.316638, 345, 0.373781, 578, 0.626219, 0.325472, 0.31159, 83], [\"v33\", \"(11.5, 53.5]\", 0.038026, -0.112983, 0.003761015, 873, 0.299485, 295, 0.337915, 578, 0.662085, 0.278302, 0.31159, 84], [\"v33\", \"(53.5, 80.5]\", 0.038026, 0.568918, 0.02514894, 215, 0.073756, 108, 0.502326, 107, 0.497674, 0.101887, 0.057682, 85], [\"v33\", \"(80.5, inf]\", 0.038026, 0.022532, 0.0001032483, 591, 0.202744, 218, 0.368866, 373, 0.631134, 0.20566, 0.201078, 86], [\"v59\", \"(-inf, 17.5]\", 0.037853, 0.303186, 0.009724842, 298, 0.10223, 130, 0.436242, 168, 0.563758, 0.122642, 0.090566, 165], [\"v59\", \"(17.5, 35.5]\", 0.037853, 0.075617, 0.001059867, 535, 0.183533, 204, 0.381308, 331, 0.618692, 0.192453, 0.178437, 166], [\"v59\", \"(35.5, 73.5]\", 0.037853, -0.187991, 0.01474541, 1251, 0.42916, 402, 0.321343, 849, 0.678657, 0.379245, 0.457682, 167], [\"v59\", \"(73.5, 93.5]\", 0.037853, 0.005782, 7.013474e-06, 611, 0.209605, 223, 0.364975, 388, 0.635025, 0.210377, 0.209164, 168], [\"v59\", \"(93.5, inf]\", 0.037853, 0.395613, 0.01231625, 220, 0.075472, 101, 0.459091, 119, 0.540909, 0.095283, 0.064151, 169], [\"v78\", \"(-inf, -999.0]\", 0.037562, -0.09082, 0.002337826, 837, 0.287136, 287, 0.342891, 550, 0.657109, 0.270755, 0.296496, 252], [\"v78\", \"(-999.0, 3.5]\", 0.037562, 0.022982, 0.000226106, 1244, 0.426758, 459, 0.368971, 785, 0.631029, 0.433019, 0.423181, 253], [\"v78\", \"(3.5, 7.5]\", 0.037562, -0.204149, 0.007153468, 516, 0.177015, 164, 0.317829, 352, 0.682171, 0.154717, 0.189757, 254], [\"v78\", \"(7.5, 10.5]\", 0.037562, 0.642503, 0.0252845, 169, 0.057976, 88, 0.52071, 81, 0.47929, 0.083019, 0.043666, 255], [\"v78\", \"(10.5, inf]\", 0.037562, 0.220842, 0.002559625, 149, 0.051115, 62, 0.416107, 87, 0.583893, 0.058491, 0.0469, 256], [\"v32\", \"(-inf, 0.485]\", 0.03735, 0.284204, 0.005438941, 190, 0.06518, 82, 0.431579, 108, 0.568421, 0.077358, 0.058221, 77], [\"v32\", \"(0.485, 0.665]\", 0.03735, -0.093257, 0.0006535566, 222, 0.076158, 76, 0.342342, 146, 0.657658, 0.071698, 0.078706, 78], [\"v32\", \"(0.665, 0.855]\", 0.03735, 0.318086, 0.01586141, 441, 0.151286, 194, 0.439909, 247, 0.560091, 0.183019, 0.133154, 79], [\"v32\", \"(0.855, 0.955]\", 0.03735, 0.065005, 0.001103856, 755, 0.259005, 286, 0.378808, 469, 0.621192, 0.269811, 0.25283, 80], [\"v32\", \"(0.955, inf]\", 0.03735, -0.180967, 0.01429197, 1307, 0.44837, 422, 0.322877, 885, 0.677123, 0.398113, 0.477089, 81], [\"v77\", \"(-inf, -999.0]\", 0.037186, -0.087011, 0.005335603, 2080, 0.713551, 715, 0.34375, 1365, 0.65625, 0.674528, 0.735849, 247], [\"v77\", \"(-999.0, 2.5]\", 0.037186, 0.117507, 0.003183149, 662, 0.227101, 259, 0.391239, 403, 0.608761, 0.24434, 0.217251, 248], [\"v77\", \"(2.5, 3.5]\", 0.037186, 0.336472, 0.002902186, 72, 0.0247, 32, 0.444444, 40, 0.555556, 0.030189, 0.021563, 249], [\"v77\", \"(3.5, 4.5]\", 0.037186, 1.141537, 0.02492305, 53, 0.018182, 34, 0.641509, 19, 0.358491, 0.032075, 0.010243, 250], [\"v77\", \"(4.5, inf]\", 0.037186, 0.223144, 0.0008420511, 48, 0.016467, 20, 0.416667, 28, 0.583333, 0.018868, 0.015094, 251], [\"v34\", \"(-inf, 0.045]\", 0.034181, -0.16209, 0.01253901, 1425, 0.488851, 466, 0.327018, 959, 0.672982, 0.439623, 0.516981, 87], [\"v34\", \"(0.045, 0.075]\", 0.034181, 0.140905, 0.002183845, 315, 0.108062, 125, 0.396825, 190, 0.603175, 0.117925, 0.102426, 88], [\"v34\", \"(0.075, 0.145]\", 0.034181, -0.044026, 0.000272939, 413, 0.141681, 146, 0.353511, 267, 0.646489, 0.137736, 0.143935, 89], [\"v34\", \"(0.145, 0.305]\", 0.034181, 0.336472, 0.01559925, 387, 0.132762, 172, 0.444444, 215, 0.555556, 0.162264, 0.115903, 90], [\"v34\", \"(0.305, inf]\", 0.034181, 0.16525, 0.003585604, 375, 0.128645, 151, 0.402667, 224, 0.597333, 0.142453, 0.120755, 91], [\"v69\", \"(-inf, 30.5]\", 0.0329, 0.106884, 0.003730848, 939, 0.322127, 365, 0.388711, 574, 0.611289, 0.34434, 0.309434, 208], [\"v69\", \"(30.5, 38.5]\", 0.0329, -0.179977, 0.01021163, 944, 0.323842, 305, 0.323093, 639, 0.676907, 0.287736, 0.344474, 209], [\"v69\", \"(38.5, 43.5]\", 0.0329, 0.311154, 0.01224489, 356, 0.122127, 156, 0.438202, 200, 0.561798, 0.14717, 0.107817, 210], [\"v69\", \"(43.5, 47.5]\", 0.0329, 0.038715, 0.0002191387, 424, 0.145455, 158, 0.372642, 266, 0.627358, 0.149057, 0.143396, 211], [\"v69\", \"(47.5, inf]\", 0.0329, -0.280135, 0.006493692, 252, 0.086449, 76, 0.301587, 176, 0.698413, 0.071698, 0.094879, 212], [\"v61\", \"(-inf, 932.0]\", 0.028326, 0.279314, 0.004366631, 158, 0.054202, 68, 0.43038, 90, 0.56962, 0.064151, 0.048518, 173], [\"v61\", \"(932.0, 1197.0]\", 0.028326, -0.197383, 0.003697604, 285, 0.09777, 91, 0.319298, 194, 0.680702, 0.085849, 0.104582, 174], [\"v61\", \"(1197.0, 1365.0]\", 0.028326, 0.071459, 0.001078626, 610, 0.209262, 232, 0.380328, 378, 0.619672, 0.218868, 0.203774, 175], [\"v61\", \"(1365.0, 1799.0]\", 0.028326, 0.194783, 0.009529145, 715, 0.245283, 293, 0.40979, 422, 0.59021, 0.276415, 0.227493, 176], [\"v61\", \"(1799.0, inf]\", 0.028326, -0.158483, 0.009654247, 1147, 0.393482, 376, 0.327812, 771, 0.672188, 0.354717, 0.415633, 177], [\"v30\", \"(-inf, 7.5]\", 0.027758, -0.235314, 0.003298203, 180, 0.06175, 56, 0.311111, 124, 0.688889, 0.05283, 0.066846, 67], [\"v30\", \"(7.5, 23.5]\", 0.027758, 0.264816, 0.01220582, 492, 0.168782, 210, 0.426829, 282, 0.573171, 0.198113, 0.152022, 68], [\"v30\", \"(23.5, 36.5]\", 0.027758, 0.075882, 0.001135161, 569, 0.195197, 217, 0.381371, 352, 0.618629, 0.204717, 0.189757, 69], [\"v30\", \"(36.5, 201.5]\", 0.027758, -0.118832, 0.00727088, 1527, 0.523842, 514, 0.336608, 1013, 0.663392, 0.484906, 0.546092, 70], [\"v30\", \"(201.5, inf]\", 0.027758, 0.271934, 0.003848119, 147, 0.050429, 63, 0.428571, 84, 0.571429, 0.059434, 0.045283, 71], [\"v25\", \"(-inf, 59.5]\", 0.026983, 0.042163, 0.0006420983, 1047, 0.359177, 391, 0.373448, 656, 0.626552, 0.368868, 0.353639, 55], [\"v25\", \"(59.5, 69.5]\", 0.026983, 0.207474, 0.00729793, 482, 0.165352, 199, 0.412863, 283, 0.587137, 0.187736, 0.152561, 56], [\"v25\", \"(69.5, 87.5]\", 0.026983, -0.095866, 0.002338508, 752, 0.257976, 257, 0.341755, 495, 0.658245, 0.242453, 0.266846, 57], [\"v25\", \"(87.5, 94.5]\", 0.026983, -0.571786, 0.01664499, 164, 0.056261, 40, 0.243902, 124, 0.756098, 0.037736, 0.066846, 58], [\"v25\", \"(94.5, inf]\", 0.026983, 0.019175, 5.943809e-05, 470, 0.161235, 173, 0.368085, 297, 0.631915, 0.163208, 0.160108, 59], [\"v70\", \"(-inf, 8.5]\", 0.026374, 0.280233, 0.007817807, 281, 0.096398, 121, 0.430605, 160, 0.569395, 0.114151, 0.086253, 213], [\"v70\", \"(8.5, 25.5]\", 0.026374, -0.073207, 0.002732916, 1502, 0.515266, 521, 0.346871, 981, 0.653129, 0.491509, 0.528841, 214], [\"v70\", \"(25.5, 28.5]\", 0.026374, 0.282728, 0.01070708, 378, 0.129674, 163, 0.431217, 215, 0.568783, 0.153774, 0.115903, 215], [\"v70\", \"(28.5, 32.5]\", 0.026374, -0.017272, 3.491561e-05, 342, 0.117324, 123, 0.359649, 219, 0.640351, 0.116038, 0.118059, 216], [\"v70\", \"(32.5, inf]\", 0.026374, -0.192372, 0.005081522, 412, 0.141338, 132, 0.320388, 280, 0.679612, 0.124528, 0.150943, 217], [\"v81\", \"(-inf, 3.5]\", 0.025911, 0.058655, 0.0005138207, 432, 0.148199, 163, 0.377315, 269, 0.622685, 0.153774, 0.145013, 266], [\"v81\", \"(3.5, 5.5]\", 0.025911, -0.048172, 0.0006167516, 780, 0.267581, 275, 0.352564, 505, 0.647436, 0.259434, 0.272237, 267], [\"v81\", \"(5.5, 8.5]\", 0.025911, 0.038393, 0.0005743441, 1130, 0.38765, 421, 0.372566, 709, 0.627434, 0.39717, 0.38221, 268], [\"v81\", \"(8.5, 9.5]\", 0.025911, 0.367244, 0.01054218, 219, 0.075129, 99, 0.452055, 120, 0.547945, 0.093396, 0.06469, 269], [\"v81\", \"(9.5, inf]\", 0.025911, -0.34484, 0.01366349, 354, 0.121441, 102, 0.288136, 252, 0.711864, 0.096226, 0.135849, 270], [\"v17\", \"(-inf, -999.0]\", 0.024109, -0.050416, 0.0004008858, 463, 0.158834, 163, 0.352052, 300, 0.647948, 0.153774, 0.161725, 30], [\"v17\", \"(-999.0, 2.5]\", 0.024109, -0.062806, 0.0008718405, 650, 0.222985, 227, 0.349231, 423, 0.650769, 0.214151, 0.228032, 31], [\"v17\", \"(2.5, 15.5]\", 0.024109, 0.249169, 0.01182039, 539, 0.184906, 228, 0.423006, 311, 0.576994, 0.215094, 0.167655, 32], [\"v17\", \"(15.5, 30.5]\", 0.024109, -0.161119, 0.007599969, 874, 0.299828, 286, 0.327231, 588, 0.672769, 0.269811, 0.316981, 33], [\"v17\", \"(30.5, inf]\", 0.024109, 0.158433, 0.003416352, 389, 0.133448, 156, 0.401028, 233, 0.598972, 0.14717, 0.125606, 34], [\"v58\", \"(-inf, 0.0515]\", 0.024103, 0.194502, 0.003827128, 288, 0.098799, 118, 0.409722, 170, 0.590278, 0.111321, 0.091644, 160], [\"v58\", \"(0.0515, 0.0535]\", 0.024103, -0.409785, 0.008615421, 160, 0.054889, 44, 0.275, 116, 0.725, 0.041509, 0.062534, 161], [\"v58\", \"(0.0535, 0.0695]\", 0.024103, 0.044717, 0.0003615917, 524, 0.17976, 196, 0.374046, 328, 0.625954, 0.184906, 0.176819, 162], [\"v58\", \"(0.0695, 0.106]\", 0.024103, -0.111552, 0.005141637, 1224, 0.419897, 414, 0.338235, 810, 0.661765, 0.390566, 0.436658, 163], [\"v58\", \"(0.106, inf]\", 0.024103, 0.156468, 0.006157508, 719, 0.246655, 288, 0.400556, 431, 0.599444, 0.271698, 0.232345, 164], [\"v9\", \"0\", 0.023648, 0.118305, 0.005118027, 1050, 0.360206, 411, 0.391429, 639, 0.608571, 0.387736, 0.344474, 3], [\"v9\", \"1\", 0.023648, 0.076904, 0.001627224, 794, 0.272384, 303, 0.381612, 491, 0.618388, 0.285849, 0.26469, 4], [\"v9\", \"2\", 0.023648, -0.114839, 0.003203737, 720, 0.246998, 243, 0.3375, 477, 0.6625, 0.229245, 0.257143, 5], [\"v9\", \"3\", 0.023648, -0.263585, 0.006749469, 295, 0.101201, 90, 0.305085, 205, 0.694915, 0.084906, 0.110512, 6], [\"v9\", \"4\", 0.023648, -0.636635, 0.006949789, 56, 0.019211, 13, 0.232143, 43, 0.767857, 0.012264, 0.023181, 7], [\"v71\", \"(-inf, 17.5]\", 0.023559, 0.106636, 0.002788052, 705, 0.241852, 274, 0.388652, 431, 0.611348, 0.258491, 0.232345, 218], [\"v71\", \"(17.5, 21.5]\", 0.023559, -0.246609, 0.004619756, 230, 0.078902, 71, 0.308696, 159, 0.691304, 0.066981, 0.085714, 219], [\"v71\", \"(21.5, 34.5]\", 0.023559, 0.014062, 4.927346e-05, 725, 0.248714, 266, 0.366897, 459, 0.633103, 0.250943, 0.247439, 220], [\"v71\", \"(34.5, 38.5]\", 0.023559, 0.435162, 0.01202266, 177, 0.06072, 83, 0.468927, 94, 0.531073, 0.078302, 0.050674, 221], [\"v71\", \"(38.5, inf]\", 0.023559, -0.105829, 0.004079115, 1078, 0.369811, 366, 0.339518, 712, 0.660482, 0.345283, 0.383827, 222], [\"v87\", \"(-inf, 0.295]\", 0.023092, 0.010718, 7.222518e-06, 183, 0.062779, 67, 0.36612, 116, 0.63388, 0.063208, 0.062534, 289], [\"v87\", \"(0.295, 0.425]\", 0.023092, -0.203912, 0.008354354, 604, 0.207204, 192, 0.317881, 412, 0.682119, 0.181132, 0.222102, 290], [\"v87\", \"(0.425, 0.485]\", 0.023092, 0.323893, 0.01335733, 358, 0.122813, 158, 0.441341, 200, 0.558659, 0.149057, 0.107817, 291], [\"v87\", \"(0.485, 0.615]\", 0.023092, -0.056273, 0.0008266506, 767, 0.263122, 269, 0.350717, 498, 0.649283, 0.253774, 0.268464, 292], [\"v87\", \"(0.615, inf]\", 0.023092, 0.03974, 0.0005462956, 1003, 0.344082, 374, 0.372881, 629, 0.627119, 0.35283, 0.339084, 293], [\"v89\", \"(-inf, 0.035]\", 0.022031, -0.080626, 0.003966128, 1799, 0.617153, 621, 0.345192, 1178, 0.654808, 0.585849, 0.63504, 299], [\"v89\", \"(0.035, 0.045]\", 0.022031, 0.053195, 0.0002365836, 242, 0.083019, 91, 0.376033, 151, 0.623967, 0.085849, 0.081402, 300], [\"v89\", \"(0.045, 0.055]\", 0.022031, -0.205852, 0.002663315, 189, 0.064837, 60, 0.31746, 129, 0.68254, 0.056604, 0.069542, 301], [\"v89\", \"(0.055, 0.105]\", 0.022031, 0.18996, 0.006169864, 487, 0.167067, 199, 0.408624, 288, 0.591376, 0.187736, 0.155256, 302], [\"v89\", \"(0.105, inf]\", 0.022031, 0.356904, 0.008994757, 198, 0.067925, 89, 0.449495, 109, 0.550505, 0.083962, 0.05876, 303], [\"v11\", \"(-inf, 3.5]\", 0.02184, 0.121231, 0.003251352, 635, 0.217839, 249, 0.392126, 386, 0.607874, 0.234906, 0.208086, 8], [\"v11\", \"(3.5, 4.5]\", 0.02184, 0.077033, 0.002979593, 1449, 0.497084, 553, 0.381643, 896, 0.618357, 0.521698, 0.483019, 9], [\"v11\", \"(4.5, inf]\", 0.02184, -0.23831, 0.01560901, 831, 0.285077, 258, 0.310469, 573, 0.689531, 0.243396, 0.308895, 10], [\"v85\", \"(-inf, -999.0]\", 0.019315, 0.085683, 0.0008429717, 331, 0.113551, 127, 0.383686, 204, 0.616314, 0.119811, 0.109973, 279], [\"v85\", \"(-999.0, 2.5]\", 0.019315, 0.132776, 0.006728263, 1094, 0.3753, 432, 0.394881, 662, 0.605119, 0.407547, 0.356873, 280], [\"v85\", \"(2.5, 5.5]\", 0.019315, -0.127976, 0.005950358, 1079, 0.370154, 361, 0.334569, 718, 0.665431, 0.340566, 0.387062, 281], [\"v85\", \"(5.5, 6.5]\", 0.019315, -0.351785, 0.005736655, 143, 0.049057, 41, 0.286713, 102, 0.713287, 0.038679, 0.054987, 282], [\"v85\", \"(6.5, inf]\", 0.019315, 0.024837, 5.6904e-05, 268, 0.091938, 99, 0.369403, 169, 0.630597, 0.093396, 0.091105, 283], [\"v18\", \"(-inf, 0.5]\", 0.017149, -0.050416, 0.0004008858, 463, 0.158834, 163, 0.352052, 300, 0.647948, 0.153774, 0.161725, 35], [\"v18\", \"(0.5, 3.5]\", 0.017149, 0.330502, 0.01465434, 377, 0.129331, 167, 0.442971, 210, 0.557029, 0.157547, 0.113208, 36], [\"v18\", \"(3.5, 4.5]\", 0.017149, -0.021851, 8.834569e-05, 541, 0.185592, 194, 0.358595, 347, 0.641405, 0.183019, 0.187062, 37], [\"v18\", \"(4.5, inf]\", 0.017149, -0.062003, 0.002005498, 1534, 0.526244, 536, 0.349413, 998, 0.650587, 0.50566, 0.538005, 38], [\"v73\", \"(-inf, 1.5]\", 0.016729, 0.148251, 0.003256726, 424, 0.145455, 169, 0.398585, 255, 0.601415, 0.159434, 0.137466, 228], [\"v73\", \"(1.5, 2.5]\", 0.016729, 0.018683, 0.0001964, 1636, 0.561235, 602, 0.367971, 1034, 0.632029, 0.567925, 0.557412, 229], [\"v73\", \"(2.5, 3.5]\", 0.016729, 0.005998, 7.275225e-06, 589, 0.202058, 215, 0.365025, 374, 0.634975, 0.20283, 0.201617, 230], [\"v73\", \"(3.5, inf]\", 0.016729, -0.393814, 0.01326868, 266, 0.091252, 74, 0.278195, 192, 0.721805, 0.069811, 0.103504, 231], [\"v56\", \"(-inf, 0.105]\", 0.01486, 0.328375, 0.01066555, 278, 0.095369, 123, 0.442446, 155, 0.557554, 0.116038, 0.083558, 152], [\"v56\", \"(0.105, 0.155]\", 0.01486, 0.014229, 3.451898e-05, 496, 0.170154, 182, 0.366935, 314, 0.633065, 0.171698, 0.169272, 153], [\"v56\", \"(0.155, 0.21]\", 0.01486, -0.088899, 0.002947333, 1101, 0.377702, 378, 0.343324, 723, 0.656676, 0.356604, 0.389757, 154], [\"v56\", \"(0.21, 0.315]\", 0.01486, -0.065558, 0.0007333353, 502, 0.172213, 175, 0.348606, 327, 0.651394, 0.165094, 0.17628, 155], [\"v56\", \"(0.315, inf]\", 0.01486, 0.050772, 0.0004789842, 538, 0.184563, 202, 0.375465, 336, 0.624535, 0.190566, 0.181132, 156], [\"v57\", \"(-inf, 0.015]\", 0.01222, 0.062137, 0.002503901, 1875, 0.643225, 709, 0.378133, 1166, 0.621867, 0.668868, 0.628571, 157], [\"v57\", \"(0.015, 0.025]\", 0.01222, -0.063953, 0.001215277, 874, 0.299828, 305, 0.34897, 569, 0.65103, 0.287736, 0.306739, 158], [\"v57\", \"(0.025, inf]\", 0.01222, -0.399235, 0.008501221, 166, 0.056947, 46, 0.277108, 120, 0.722892, 0.043396, 0.06469, 159], [\"v86\", \"(-inf, 1.5]\", 0.011352, 0.092275, 0.002885157, 976, 0.33482, 376, 0.385246, 600, 0.614754, 0.354717, 0.32345, 284], [\"v86\", \"(1.5, 2.5]\", 0.011352, -0.077106, 0.002338125, 1159, 0.397599, 401, 0.345988, 758, 0.654012, 0.378302, 0.408625, 285], [\"v86\", \"(2.5, 3.5]\", 0.011352, -0.01736, 4.445273e-05, 431, 0.147856, 155, 0.359629, 276, 0.640371, 0.146226, 0.148787, 286], [\"v86\", \"(3.5, 4.5]\", 0.011352, 0.228952, 0.003270741, 177, 0.06072, 74, 0.418079, 103, 0.581921, 0.069811, 0.055526, 287], [\"v86\", \"(4.5, inf]\", 0.011352, -0.222085, 0.002813473, 172, 0.059005, 54, 0.313953, 118, 0.686047, 0.050943, 0.063612, 288], [\"v74\", \"(-inf, 2.5]\", 0.009869, 0.035632, 0.0001776802, 406, 0.13928, 151, 0.371921, 255, 0.628079, 0.142453, 0.137466, 232], [\"v74\", \"(2.5, 3.5]\", 0.009869, 0.246616, 0.005949359, 277, 0.095026, 117, 0.422383, 160, 0.577617, 0.110377, 0.086253, 233], [\"v74\", \"(3.5, 4.5]\", 0.009869, 0.081244, 0.0007117054, 311, 0.10669, 119, 0.382637, 192, 0.617363, 0.112264, 0.103504, 234], [\"v74\", \"(4.5, 7.5]\", 0.009869, -0.03322, 0.0004879964, 1295, 0.444254, 461, 0.355985, 834, 0.644015, 0.434906, 0.449596, 235], [\"v74\", \"(7.5, inf]\", 0.009869, -0.109664, 0.002542074, 626, 0.214751, 212, 0.338658, 414, 0.661342, 0.2, 0.223181, 236], [\"v75\", \"(-inf, -999.0]\", 0.009287, -0.073404, 0.001988437, 1087, 0.372899, 377, 0.346826, 710, 0.653174, 0.35566, 0.382749, 237], [\"v75\", \"(-999.0, 1.5]\", 0.009287, -0.006228, 1.259022e-05, 947, 0.324871, 343, 0.362196, 604, 0.637804, 0.323585, 0.325606, 238], [\"v75\", \"(1.5, 2.5]\", 0.009287, -0.071887, 0.0004650387, 265, 0.090909, 92, 0.34717, 173, 0.65283, 0.086792, 0.093261, 239], [\"v75\", \"(2.5, 3.5]\", 0.009287, 0.198003, 0.006777985, 492, 0.168782, 202, 0.410569, 290, 0.589431, 0.190566, 0.156334, 240], [\"v75\", \"(3.5, inf]\", 0.009287, 0.031548, 4.2518e-05, 124, 0.042539, 46, 0.370968, 78, 0.629032, 0.043396, 0.042049, 241], [\"v13\", \"1\", 0.00918, 0.020924, 0.000335571, 2228, 0.764322, 821, 0.368492, 1407, 0.631508, 0.774528, 0.758491, 12], [\"v13\", \"2\", 0.00918, -0.09963, 0.0007384961, 220, 0.075472, 75, 0.340909, 145, 0.659091, 0.070755, 0.078167, 13], [\"v13\", \"3\", 0.00918, 1.147402, 0.006649367, 14, 0.004803, 9, 0.642857, 5, 0.357143, 0.008491, 0.002695, 14], [\"v13\", \"4\", 0.00918, -0.228842, 0.0002775706, 16, 0.005489, 5, 0.3125, 11, 0.6875, 0.004717, 0.00593, 15], [\"v13\", \"5\", 0.00918, -0.089231, 0.001178524, 437, 0.149914, 150, 0.343249, 287, 0.656751, 0.141509, 0.154717, 16], [\"v16\", \"(-inf, -999.0]\", 0.008855, -0.050416, 0.0004008858, 463, 0.158834, 163, 0.352052, 300, 0.647948, 0.153774, 0.161725, 25], [\"v16\", \"(-999.0, 2.5]\", 0.008855, -0.000456, 6.14971e-08, 861, 0.295369, 313, 0.363531, 548, 0.636469, 0.295283, 0.295418, 26], [\"v16\", \"(2.5, 14.5]\", 0.008855, 0.129963, 0.002644809, 449, 0.154031, 177, 0.394209, 272, 0.605791, 0.166981, 0.146631, 27], [\"v16\", \"(14.5, 22.5]\", 0.008855, -0.093791, 0.002679745, 900, 0.308748, 308, 0.342222, 592, 0.657778, 0.290566, 0.319137, 28], [\"v16\", \"(22.5, inf]\", 0.008855, 0.191891, 0.00312922, 242, 0.083019, 99, 0.409091, 143, 0.590909, 0.093396, 0.077089, 29], [\"v60\", \"(-inf, 680.0]\", 0.008698, 0.04879, 0.0002104158, 256, 0.087822, 96, 0.375, 160, 0.625, 0.090566, 0.086253, 170], [\"v60\", \"(680.0, 984.0]\", 0.008698, 0.088179, 0.003672151, 1361, 0.466895, 523, 0.384276, 838, 0.615724, 0.493396, 0.451752, 171], [\"v60\", \"(984.0, inf]\", 0.008698, -0.104777, 0.004815235, 1298, 0.445283, 441, 0.339753, 857, 0.660247, 0.416038, 0.461995, 172], [\"v15\", \"1\", 0.007884, 0.093604, 0.003961147, 1302, 0.446655, 502, 0.385561, 800, 0.614439, 0.473585, 0.431267, 22], [\"v15\", \"2\", 0.007884, -0.088046, 0.00386833, 1473, 0.505317, 506, 0.343517, 967, 0.656483, 0.477358, 0.521294, 23], [\"v15\", \"3\", 0.007884, 0.033523, 5.42146e-05, 140, 0.048027, 52, 0.371429, 88, 0.628571, 0.049057, 0.047439, 24], [\"v48\", \"(-inf, 0.5]\", 0.007161, 0.027415, 0.0006798404, 2627, 0.901201, 972, 0.370004, 1655, 0.629996, 0.916981, 0.892183, 128], [\"v48\", \"(0.5, inf]\", 0.007161, -0.261365, 0.006481283, 288, 0.098799, 88, 0.305556, 200, 0.694444, 0.083019, 0.107817, 129], [\"v52\", \"(-inf, 6.5]\", 0.006327, 0.00227, 6.118999e-07, 346, 0.118696, 126, 0.364162, 220, 0.635838, 0.118868, 0.118598, 138], [\"v52\", \"(6.5, 7.5]\", 0.006327, -0.03224, 0.0001086255, 306, 0.104974, 109, 0.356209, 197, 0.643791, 0.10283, 0.106199, 139], [\"v52\", \"(7.5, 8.5]\", 0.006327, 0.140409, 0.004598302, 668, 0.22916, 265, 0.396707, 403, 0.603293, 0.25, 0.217251, 140], [\"v52\", \"(8.5, inf]\", 0.006327, -0.054604, 0.00161899, 1595, 0.54717, 560, 0.351097, 1035, 0.648903, 0.528302, 0.557951, 141], [\"v82\", \"(-inf, 1.5]\", 0.006243, -0.030628, 0.0002435371, 760, 0.26072, 271, 0.356579, 489, 0.643421, 0.25566, 0.263612, 271], [\"v82\", \"(1.5, 2.5]\", 0.006243, -0.075262, 0.001764915, 918, 0.314923, 318, 0.346405, 600, 0.653595, 0.3, 0.32345, 272], [\"v82\", \"(2.5, 3.5]\", 0.006243, 0.090072, 0.001990806, 707, 0.242539, 272, 0.384724, 435, 0.615276, 0.256604, 0.234501, 273], [\"v82\", \"(3.5, 4.5]\", 0.006243, 0.130434, 0.001880924, 317, 0.108748, 125, 0.394322, 192, 0.605678, 0.117925, 0.103504, 274], [\"v82\", \"(4.5, inf]\", 0.006243, -0.070793, 0.000362552, 213, 0.07307, 74, 0.347418, 139, 0.652582, 0.069811, 0.074933, 275], [\"v76\", \"(-inf, -999.0]\", 0.005817, -0.041582, 0.001014325, 1720, 0.590051, 609, 0.35407, 1111, 0.64593, 0.574528, 0.598922, 242], [\"v76\", \"(-999.0, 1.5]\", 0.005817, 0.020285, 9.568241e-05, 676, 0.231904, 249, 0.368343, 427, 0.631657, 0.234906, 0.230189, 243], [\"v76\", \"(1.5, 2.5]\", 0.005817, 0.180584, 0.003236882, 283, 0.097084, 115, 0.40636, 168, 0.59364, 0.108491, 0.090566, 244], [\"v76\", \"(2.5, 3.5]\", 0.005817, 0.135459, 0.0008580258, 134, 0.045969, 53, 0.395522, 81, 0.604478, 0.05, 0.043666, 245], [\"v76\", \"(3.5, inf]\", 0.005817, -0.133531, 0.0006118689, 102, 0.034991, 34, 0.333333, 68, 0.666667, 0.032075, 0.036658, 246], [\"v83\", \"(-inf, 1.5]\", 0.005175, 0.033859, 0.0008624471, 2183, 0.748885, 811, 0.371507, 1372, 0.628493, 0.765094, 0.739623, 276], [\"v83\", \"(1.5, 2.5]\", 0.005175, -0.16093, 0.004294368, 495, 0.169811, 162, 0.327273, 333, 0.672727, 0.15283, 0.179515, 277], [\"v83\", \"(2.5, inf]\", 0.005175, 0.014889, 1.805896e-05, 237, 0.081304, 87, 0.367089, 150, 0.632911, 0.082075, 0.080863, 278], [\"v20\", \"0\", 0.00459, -0.089325, 0.002913305, 1078, 0.369811, 370, 0.343228, 708, 0.656772, 0.349057, 0.381671, 40], [\"v20\", \"1\", 0.00459, 0.051402, 0.001676462, 1837, 0.630189, 690, 0.375612, 1147, 0.624388, 0.650943, 0.618329, 41], [\"v51\", \"2\", 0.004442, 0.154151, 4.155005e-05, 5, 0.001715, 2, 0.4, 3, 0.6, 0.001887, 0.001617, 133], [\"v51\", \"4\", 0.004442, 0.094881, 0.002698106, 863, 0.296055, 333, 0.385863, 530, 0.614137, 0.314151, 0.285714, 134], [\"v51\", \"6\", 0.004442, 0.559616, 0.0002262598, 2, 0.000686, 1, 0.5, 1, 0.5, 0.000943, 0.000539, 135], [\"v51\", \"8\", 0.004442, -0.042362, 0.001250307, 2043, 0.700858, 723, 0.353891, 1320, 0.646109, 0.682075, 0.71159, 136], [\"v51\", \"10\", 0.004442, 0.559616, 0.0002262598, 2, 0.000686, 1, 0.5, 1, 0.5, 0.000943, 0.000539, 137], [\"v79\", \"(-inf, 4.5]\", 0.002236, 0.053507, 0.0002235474, 226, 0.07753, 85, 0.376106, 141, 0.623894, 0.080189, 0.076011, 257], [\"v79\", \"(4.5, 5.5]\", 0.002236, -0.065581, 0.0005744943, 393, 0.13482, 137, 0.348601, 256, 0.651399, 0.129245, 0.138005, 258], [\"v79\", \"(5.5, 8.5]\", 0.002236, -0.012054, 9.585109e-05, 1926, 0.66072, 695, 0.360852, 1231, 0.639148, 0.65566, 0.663612, 259], [\"v79\", \"(8.5, 9.5]\", 0.002236, 0.066334, 0.0002771386, 182, 0.062436, 69, 0.379121, 113, 0.620879, 0.065094, 0.060916, 260], [\"v79\", \"(9.5, inf]\", 0.002236, 0.127482, 0.001065217, 188, 0.064494, 74, 0.393617, 114, 0.606383, 0.069811, 0.061456, 261], [\"v40\", \"-999.0\", 0.001907, -0.207639, 0.001175317, 82, 0.02813, 26, 0.317073, 56, 0.682927, 0.024528, 0.030189, 108], [\"v40\", \"0.0\", 0.001907, 0.003354, 1.084797e-05, 2810, 0.963979, 1024, 0.364413, 1786, 0.635587, 0.966038, 0.962803, 109], [\"v40\", \"1.0\", 0.001907, 0.297252, 0.0007210953, 23, 0.00789, 10, 0.434783, 13, 0.565217, 0.009434, 0.007008, 110], [\"v45\", \"-999.0\", 0.001481, -0.207639, 0.001175317, 82, 0.02813, 26, 0.317073, 56, 0.682927, 0.024528, 0.030189, 120], [\"v45\", \"0.0\", 0.001481, 0.003929, 1.482746e-05, 2798, 0.959863, 1020, 0.364546, 1778, 0.635454, 0.962264, 0.958491, 121], [\"v45\", \"1.0\", 0.001481, 0.154151, 0.0002908503, 35, 0.012007, 14, 0.4, 21, 0.6, 0.013208, 0.011321, 122], [\"v80\", \"(-inf, 1.5]\", 0.001348, -0.049844, 0.0008531174, 1008, 0.345798, 355, 0.352183, 653, 0.647817, 0.334906, 0.352022, 262], [\"v80\", \"(1.5, 2.5]\", 0.001348, 0.018178, 0.000105347, 927, 0.31801, 341, 0.367853, 586, 0.632147, 0.321698, 0.315903, 263], [\"v80\", \"(2.5, 3.5]\", 0.001348, 0.037891, 0.0002910754, 588, 0.201715, 219, 0.372449, 369, 0.627551, 0.206604, 0.198922, 264], [\"v80\", \"(3.5, inf]\", 0.001348, 0.026961, 9.810677e-05, 392, 0.134477, 145, 0.369898, 247, 0.630102, 0.136792, 0.133154, 265], [\"v49\", \"-999.0\", 0.001228, -0.207639, 0.001175317, 82, 0.02813, 26, 0.317073, 56, 0.682927, 0.024528, 0.030189, 130], [\"v49\", \"0.0\", 0.001228, 0.005964, 3.456441e-05, 2830, 0.97084, 1033, 0.365018, 1797, 0.634982, 0.974528, 0.968733, 131], [\"v49\", \"1.0\", 0.001228, -0.133531, 1.799614e-05, 3, 0.001029, 1, 0.333333, 2, 0.666667, 0.000943, 0.001078, 132], [\"v38\", \"-999.0\", 0.001208, -0.207639, 0.001175317, 82, 0.02813, 26, 0.317073, 56, 0.682927, 0.024528, 0.030189, 101], [\"v38\", \"4.0\", 0.001208, 0.00582, 3.294118e-05, 2833, 0.97187, 1034, 0.364984, 1799, 0.635016, 0.975472, 0.969811, 102], [\"v12\", \"0\", 0.0, 0.0, 0.0, 2915, 1.0, 1060, 0.363636, 1855, 0.636364, 1.0, 1.0, 11], [\"v19\", \"1\", 0.0, 0.0, 0.0, 2915, 1.0, 1060, 0.363636, 1855, 0.636364, 1.0, 1.0, 39], [\"v43\", \"(-inf, inf]\", 0.0, 0.0, 0.0, 2915, 1.0, 1060, 0.363636, 1855, 0.636364, 1.0, 1.0, 118], [\"v44\", \"(-inf, inf]\", 0.0, 0.0, 0.0, 2915, 1.0, 1060, 0.363636, 1855, 0.636364, 1.0, 1.0, 119], [\"v46\", \"(-inf, inf]\", 0.0, 0.0, 0.0, 2915, 1.0, 1060, 0.363636, 1855, 0.636364, 1.0, 1.0, 123]]};\n",
       "        dt_args = eval_functions(dt_args);\n",
       "        table = $('#1be9f420-b02f-4c7f-a34f-dedd76a8be4d').DataTable(dt_args);\n",
       "    });\n",
       "})\n",
       "</script>\n",
       "</div>\n"
      ],
      "text/plain": [
       "<IPython.core.display.HTML object>"
      ]
     },
     "metadata": {},
     "output_type": "display_data"
    }
   ],
   "source": [
    "#2.3iv筛选\n",
    "\n",
    "# 特征分箱,默认用的是决策树分箱\n",
    "train_col = [x for x in train.columns if x!=target]\n",
    "bin_df_list=[]\n",
    "cut_list=[]\n",
    "for col in train_col:\n",
    "    try:\n",
    "        bin_df,cut = self_f_2.binning_var(train,col,target)\n",
    "        bin_df_list.append(bin_df)\n",
    "        cut_list.append(cut)\n",
    "    except:\n",
    "        pass\n",
    "print('\\033[1;31m特征分箱完成---------------------------\\033[0m')\n",
    "\n",
    "# print(bin_df_list[0])\n",
    "\n",
    "bin_df_list_copy=bin_df_list.copy()\n",
    "iv_df=self_f_2.iv_transform_df(bin_df_list_copy)\n",
    "# print(bin_df_list[0])#为什么会改变呢\n",
    "\n",
    "print(\"\\033[1;31m变量iv以及分箱表 \\033[0m\")\n",
    "show(iv_df,columnDefs=[{\"width\": \"90px\", \"targets\": \"_all\"}])\n",
    "iv_df.to_excel(\"iv_df.xlsx\")"
   ]
  },
  {
   "cell_type": "code",
   "execution_count": 14,
   "metadata": {},
   "outputs": [
    {
     "name": "stdout",
     "output_type": "stream",
     "text": [
      "\u001b[1;31mwoe存在inf的特征:\u001b[0m ['v2', 'v21', 'v26', 'v41', 'v68']\n",
      "\u001b[1;31miv筛选的特征:\u001b[0m ['v36', 'v37', 'v62', 'v65', 'v67', 'v66', 'v23', 'v63', 'v64', 'v47', 'v39', 'v22', 'v72', 'v42', 'v88', 'v31', 'v29', 'v14', 'v54', 'v53', 'v33', 'v59', 'v78', 'v32', 'v77', 'v34', 'v69', 'v61', 'v30', 'v25', 'v70', 'v81', 'v17', 'v58', 'v9', 'v71', 'v87', 'v89', 'v11']\n",
      "\u001b[1;31miv删除的特征:\u001b[0m ['v85', 'v18', 'v73', 'v56', 'v57', 'v86', 'v74', 'v75', 'v13', 'v16', 'v60', 'v15', 'v48', 'v52', 'v82', 'v76', 'v83', 'v20', 'v51', 'v79', 'v40', 'v45', 'v80', 'v49', 'v38', 'v12', 'v19', 'v43', 'v44', 'v46']\n",
      "\u001b[1;31miv筛选特征完成-----------------------------------\u001b[0m\n"
     ]
    }
   ],
   "source": [
    "# 保存每个特征的分割点list，此步骤需要在剔除\n",
    "cut_dict={}\n",
    "for dd,cc in zip(bin_df_list,cut_list):\n",
    "    col = dd.index.name\n",
    "#     print(col)\n",
    "#     col = dd['var_name'].unique()\n",
    "    cut_dict[col] = cc\n",
    "    \n",
    "# print(len(cut_dict))\n",
    "\n",
    "# 剔除iv无限大的特征\n",
    "woe_inf_var=[x.index.name for x in bin_df_list if x.IV.iloc[0]==float('inf')]\n",
    "print(\"\\033[1;31mwoe存在inf的特征:\\033[0m\",woe_inf_var)\n",
    "bin_df_list = [x for x in bin_df_list if x.IV.iloc[0]!=float('inf')]\n",
    "\n",
    "# print(bin_df_list)\n",
    "\n",
    "# 将IV从大到小进行排序\n",
    "iv_col = [x.index.name for x in bin_df_list]\n",
    "iv_value = [x.IV.iloc[0] for x in bin_df_list]\n",
    "iv_sort = sorted(zip(iv_col,iv_value),key=lambda x:x[1],reverse=True)\n",
    "\n",
    "\n",
    "# iv筛选，筛选iv大于0.02的特征\n",
    "iv_select_col = [x for x,y in iv_sort if y>=0.02]\n",
    "iv_delete_col= [x for x,y in iv_sort if y<0.02]\n",
    "\n",
    "print(\"\\033[1;31miv筛选的特征:\\033[0m\",iv_select_col)\n",
    "print(\"\\033[1;31miv删除的特征:\\033[0m\",iv_delete_col)\n",
    "print('\\033[1;31miv筛选特征完成-----------------------------------\\033[0m')"
   ]
  },
  {
   "cell_type": "markdown",
   "metadata": {},
   "source": [
    "### 人工去除偏事后特征&iv箱数过多特征\n",
    "\n",
    "之所以在这个步骤去除，是因为一定程度上做过特征筛选，特征没有那么多了，可以更好地对每个特征进行解读；为什么放在相关性筛选之前做这个动作，是因为相关性筛选里面涉及到不同变量间关系而对变量进行删除，可能存在事后变量的存在而导致删除其余非事后变量这种现象，因此人工剔除偏事后特征在这一步做相对比较合适；"
   ]
  },
  {
   "cell_type": "markdown",
   "metadata": {},
   "source": [
    "### 相关性筛选"
   ]
  },
  {
   "cell_type": "code",
   "execution_count": 15,
   "metadata": {
    "scrolled": true
   },
   "outputs": [
    {
     "name": "stdout",
     "output_type": "stream",
     "text": [
      "\u001b[1;31m相关矩阵\u001b[0m\n"
     ]
    },
    {
     "data": {
      "text/html": [
       "<div><table id=\"515f03f7-ed34-48de-be3d-751bb0b1c8b4\" class=\"display nowrap\"><thead>\n",
       "    <tr style=\"text-align: right;\">\n",
       "      <th></th>\n",
       "      <th>v36</th>\n",
       "      <th>v37</th>\n",
       "      <th>v62</th>\n",
       "      <th>v67</th>\n",
       "      <th>v66</th>\n",
       "      <th>v63</th>\n",
       "      <th>v47</th>\n",
       "      <th>v39</th>\n",
       "      <th>v22</th>\n",
       "      <th>v72</th>\n",
       "      <th>v42</th>\n",
       "      <th>v88</th>\n",
       "      <th>v31</th>\n",
       "      <th>v29</th>\n",
       "      <th>v14</th>\n",
       "      <th>v54</th>\n",
       "      <th>v53</th>\n",
       "      <th>v33</th>\n",
       "      <th>v59</th>\n",
       "      <th>v78</th>\n",
       "      <th>v32</th>\n",
       "      <th>v77</th>\n",
       "      <th>v34</th>\n",
       "      <th>v69</th>\n",
       "      <th>v61</th>\n",
       "      <th>v30</th>\n",
       "      <th>v25</th>\n",
       "      <th>v70</th>\n",
       "      <th>v81</th>\n",
       "      <th>v17</th>\n",
       "      <th>v58</th>\n",
       "      <th>v71</th>\n",
       "      <th>v87</th>\n",
       "      <th>v89</th>\n",
       "      <th>v11</th>\n",
       "    </tr>\n",
       "  </thead></table>\n",
       "<script type=\"text/javascript\">\n",
       "require([\"datatables\"], function (datatables) {\n",
       "    $(document).ready(function () {        \n",
       "        var dt_args = {\"columnDefs\": [{\"width\": \"250px\", \"targets\": \"_all\"}], \"lengthMenu\": [10, 10, 100, 200, 500, 1000, 2000, 5000], \"data\": [[\"v36\", 1.0, 0.999483, 0.149193, 0.199875, 0.199875, 0.199871, 0.999551, 0.999698, 0.034978, 0.330593, 0.999619, 0.109129, 0.520944, 0.479211, -0.007765, -0.020565, 0.032605, 0.765602, -0.011758, 0.116028, 0.999323, 0.07496, 0.999309, 0.105732, 0.022305, 0.947982, 0.147409, 0.10535, 0.054687, -0.001338, -0.014913, 0.331367, 0.107258, 0.10898, 0.037665], [\"v37\", 0.999483, 1.0, 0.130759, 0.183091, 0.183091, 0.18309, 0.999922, 0.999872, 0.031268, 0.329749, 0.999912, 0.109181, 0.507572, 0.467473, -0.013714, -0.019038, 0.028057, 0.766086, -0.011226, 0.11684, 0.99998, 0.075599, 0.999978, 0.10517, 0.019046, 0.944856, 0.143253, 0.104005, 0.055373, -0.001576, -0.012298, 0.329767, 0.107369, 0.109055, 0.032533], [\"v62\", 0.149193, 0.130759, 1.0, 0.70964, 0.709638, 0.709645, 0.131836, 0.136106, 0.128788, 0.08157, 0.133488, 0.014543, 0.411987, 0.357341, 0.212867, -0.067069, 0.238154, 0.08005, -0.018973, 0.009628, 0.126561, 0.020458, 0.126166, 0.034217, 0.124321, 0.241812, 0.188812, 0.053493, -0.001496, -0.001956, -0.107356, 0.113334, 0.012035, 0.013756, 0.137989], [\"v67\", 0.199875, 0.183091, 0.70964, 1.0, 1.0, 0.999997, 0.184201, 0.186876, 0.116631, 0.108311, 0.184673, 0.020069, 0.437245, 0.392186, 0.15306, -0.066214, 0.146346, 0.147254, -0.020458, 0.006038, 0.178288, 0.006896, 0.177873, 0.030987, 0.099647, 0.282523, 0.156329, 0.061642, -0.009095, -0.025962, -0.075995, 0.115712, 0.017848, 0.019392, 0.113811], [\"v66\", 0.199875, 0.183091, 0.709638, 1.0, 1.0, 0.999997, 0.184201, 0.186876, 0.116632, 0.108311, 0.184673, 0.020069, 0.437245, 0.392185, 0.15306, -0.066214, 0.146344, 0.147254, -0.020458, 0.006037, 0.178288, 0.006894, 0.177873, 0.030987, 0.099647, 0.282523, 0.156328, 0.061642, -0.009095, -0.025963, -0.075994, 0.115712, 0.017848, 0.019392, 0.113812], [\"v63\", 0.199871, 0.18309, 0.709645, 0.999997, 0.999997, 1.0, 0.1842, 0.186879, 0.116707, 0.108319, 0.184666, 0.020069, 0.437268, 0.392211, 0.152989, -0.066244, 0.146299, 0.147264, -0.020429, 0.006044, 0.178287, 0.006932, 0.177872, 0.030939, 0.09954, 0.282552, 0.156362, 0.061618, -0.009073, -0.025939, -0.076041, 0.11575, 0.017847, 0.019392, 0.113792], [\"v47\", 0.999551, 0.999922, 0.131836, 0.184201, 0.184201, 0.1842, 1.0, 0.999781, 0.031811, 0.329691, 0.999815, 0.109172, 0.508609, 0.468289, -0.013159, -0.019478, 0.027914, 0.765802, -0.011255, 0.116646, 0.999891, 0.075555, 0.999888, 0.105255, 0.019296, 0.944743, 0.143049, 0.104042, 0.054831, -0.001836, -0.012022, 0.329574, 0.107361, 0.109045, 0.033124], [\"v39\", 0.999698, 0.999872, 0.136106, 0.186876, 0.186876, 0.186879, 0.999781, 1.0, 0.033152, 0.329866, 0.999812, 0.109169, 0.51203, 0.471453, -0.012103, -0.019218, 0.02902, 0.76613, -0.011408, 0.116252, 0.999824, 0.075169, 0.999818, 0.105229, 0.019595, 0.945961, 0.144241, 0.104275, 0.055334, -0.001233, -0.013218, 0.330218, 0.107341, 0.109036, 0.033901], [\"v22\", 0.034978, 0.031268, 0.128788, 0.116631, 0.116632, 0.116707, 0.031811, 0.033152, 1.0, 0.015138, 0.030712, 0.006493, 0.06589, 0.049655, 0.164795, -0.026494, -0.105295, 0.001207, 0.087496, -0.130514, 0.030521, -0.219034, 0.030416, -0.010073, -0.117609, 0.02989, -0.082086, -0.01718, -0.014223, -0.043035, 0.01369, 0.003862, 0.007242, 0.006026, 0.018385], [\"v72\", 0.330593, 0.329749, 0.08157, 0.108311, 0.108311, 0.108319, 0.329691, 0.329866, 0.015138, 1.0, 0.329961, 0.15375, 0.212778, 0.197685, 0.023522, -0.025683, 0.07617, 0.261196, -0.020512, 0.172382, 0.329449, 0.077136, 0.329424, 0.17296, 0.072261, 0.328656, 0.232333, 0.170629, 0.081594, -0.024582, -0.038201, 0.613253, 0.150458, 0.153254, 0.044927], [\"v42\", 0.999619, 0.999912, 0.133488, 0.184673, 0.184673, 0.184666, 0.999815, 0.999812, 0.030712, 0.329961, 1.0, 0.109173, 0.509928, 0.469525, -0.012556, -0.019247, 0.02952, 0.76596, -0.011404, 0.116941, 0.999876, 0.07563, 0.999871, 0.105293, 0.01984, 0.94562, 0.144427, 0.10435, 0.055518, -0.001044, -0.013157, 0.330232, 0.107348, 0.109043, 0.033542], [\"v88\", 0.109129, 0.109181, 0.014543, 0.020069, 0.020069, 0.020069, 0.109172, 0.109169, 0.006493, 0.15375, 0.109173, 1.0, 0.055623, 0.051231, 0.005142, 0.024791, 0.018503, 0.083671, -0.019302, 0.029285, 0.109179, 0.011686, 0.109178, 0.9208, 0.014609, 0.103256, 0.538637, 0.806609, 0.498224, -0.007674, -0.144453, 0.233388, 0.999946, 0.999993, 0.002047], [\"v31\", 0.520944, 0.507572, 0.411987, 0.437245, 0.437245, 0.437268, 0.508609, 0.51203, 0.06589, 0.212778, 0.509928, 0.055623, 1.0, 0.966167, 0.110613, -0.020571, 0.1524, 0.57055, -0.047145, 0.054666, 0.505106, 0.068951, 0.504945, 0.078653, 0.111051, 0.633789, 0.248312, 0.121398, 0.026949, -0.003995, -0.079234, 0.246595, 0.052849, 0.055103, 0.098547], [\"v29\", 0.479211, 0.467473, 0.357341, 0.392186, 0.392185, 0.392211, 0.468289, 0.471453, 0.049655, 0.197685, 0.469525, 0.051231, 0.966167, 1.0, 0.087762, -0.010248, 0.141409, 0.692166, -0.045832, 0.054448, 0.465133, 0.065426, 0.465314, 0.073927, 0.102908, 0.588686, 0.236719, 0.115224, 0.026279, 0.001587, -0.081026, 0.229582, 0.048638, 0.050761, 0.076976], [\"v14\", -0.007765, -0.013714, 0.212867, 0.15306, 0.15306, 0.152989, -0.013159, -0.012103, 0.164795, 0.023522, -0.012556, 0.005142, 0.110613, 0.087762, 1.0, -0.002044, 0.246613, -0.033103, -0.010733, 0.009137, -0.014899, 0.027489, -0.015057, 0.022488, 0.16277, 0.039668, 0.170324, 0.05263, -0.008885, 0.039011, -0.113055, 0.103768, 0.002813, 0.004602, 0.293396], [\"v54\", -0.020565, -0.019038, -0.067069, -0.066214, -0.066214, -0.066244, -0.019478, -0.019218, -0.026494, -0.025683, -0.019247, 0.024791, -0.020571, -0.010248, -0.002044, 1.0, -0.0552, 0.004125, -0.060963, -0.004818, -0.018711, 0.022684, -0.018631, -0.007542, -0.074102, -0.011429, -0.005286, 0.004055, 0.005466, -0.024714, -0.042098, -0.025118, 0.024858, 0.024892, -0.014075], [\"v53\", 0.032605, 0.028057, 0.238154, 0.146346, 0.146344, 0.146299, 0.027914, 0.02902, -0.105295, 0.07617, 0.02952, 0.018503, 0.1524, 0.141409, 0.246613, -0.0552, 1.0, 0.037667, 0.071312, 0.243074, 0.027005, 0.267989, 0.026911, 0.125128, 0.684517, 0.095834, 0.466469, 0.184909, 0.064885, 0.04442, -0.494292, 0.176925, 0.014113, 0.01862, 0.183653], [\"v33\", 0.765602, 0.766086, 0.08005, 0.147254, 0.147254, 0.147264, 0.765802, 0.76613, 0.001207, 0.261196, 0.76596, 0.083671, 0.57055, 0.692166, -0.033103, 0.004125, 0.037667, 1.0, -0.018537, 0.099892, 0.765687, 0.066168, 0.766447, 0.085826, 0.025768, 0.75047, 0.146016, 0.093831, 0.04603, 0.011097, -0.037156, 0.266441, 0.081995, 0.083553, 3e-06], [\"v59\", -0.011758, -0.011226, -0.018973, -0.020458, -0.020458, -0.020429, -0.011255, -0.011408, 0.087496, -0.020512, -0.011404, -0.019302, -0.047145, -0.045832, -0.010733, -0.060963, 0.071312, -0.018537, 1.0, 0.018613, -0.011136, 0.008005, -0.011142, 0.00291, 0.059406, -0.024773, 0.023297, 0.000476, 0.012137, 0.028019, -0.053275, -0.010545, -0.019434, -0.01923, -0.003354], [\"v78\", 0.116028, 0.11684, 0.009628, 0.006038, 0.006037, 0.006044, 0.116646, 0.116252, -0.130514, 0.172382, 0.116941, 0.029285, 0.054666, 0.054448, 0.009137, -0.004818, 0.243074, 0.099892, 0.018613, 1.0, 0.11689, 0.405292, 0.116874, 0.058925, 0.199525, 0.122756, 0.292878, 0.104974, 0.057107, 0.030509, -0.153084, 0.222172, 0.025376, 0.030439, 0.021203], [\"v32\", 0.999323, 0.99998, 0.126561, 0.178288, 0.178288, 0.178287, 0.999891, 0.999824, 0.030521, 0.329449, 0.999876, 0.109179, 0.505106, 0.465133, -0.014899, -0.018711, 0.027005, 0.765687, -0.011136, 0.11689, 1.0, 0.075695, 0.999998, 0.105029, 0.01828, 0.944109, 0.142239, 0.103674, 0.055501, -0.001395, -0.011778, 0.329335, 0.10738, 0.109057, 0.031578], [\"v77\", 0.07496, 0.075599, 0.020458, 0.006896, 0.006894, 0.006932, 0.075555, 0.075169, -0.219034, 0.077136, 0.07563, 0.011686, 0.068951, 0.065426, 0.027489, 0.022684, 0.267989, 0.066168, 0.008005, 0.405292, 0.075695, 1.0, 0.075664, 0.038071, 0.234676, 0.097677, 0.291608, 0.11467, 0.04009, 0.065881, -0.126681, 0.163881, 0.008672, 0.012853, -0.006407], [\"v34\", 0.999309, 0.999978, 0.126166, 0.177873, 0.177873, 0.177872, 0.999888, 0.999818, 0.030416, 0.329424, 0.999871, 0.109178, 0.504945, 0.465314, -0.015057, -0.018631, 0.026911, 0.766447, -0.011142, 0.116874, 0.999998, 0.075664, 1.0, 0.105019, 0.0182, 0.94405, 0.142158, 0.10366, 0.055499, -0.001322, -0.011761, 0.329289, 0.107381, 0.109057, 0.031444], [\"v69\", 0.105732, 0.10517, 0.034217, 0.030987, 0.030987, 0.030939, 0.105255, 0.105229, -0.010073, 0.17296, 0.105293, 0.9208, 0.078653, 0.073927, 0.022488, -0.007542, 0.125128, 0.085826, 0.00291, 0.058925, 0.105029, 0.038071, 0.105019, 1.0, 0.165904, 0.103574, 0.602655, 0.850756, 0.46499, -0.007917, -0.103362, 0.230926, 0.921593, 0.920919, 0.02752], [\"v61\", 0.022305, 0.019046, 0.124321, 0.099647, 0.099647, 0.09954, 0.019296, 0.019595, -0.117609, 0.072261, 0.01984, 0.014609, 0.111051, 0.102908, 0.16277, -0.074102, 0.684517, 0.025768, 0.059406, 0.199525, 0.01828, 0.234676, 0.0182, 0.165904, 1.0, 0.060515, 0.398017, 0.205933, 0.057741, 0.025019, -0.14784, 0.13532, 0.011431, 0.014854, 0.17531], [\"v30\", 0.947982, 0.944856, 0.241812, 0.282523, 0.282523, 0.282552, 0.944743, 0.945961, 0.02989, 0.328656, 0.94562, 0.103256, 0.633789, 0.588686, 0.039668, -0.011429, 0.095834, 0.75047, -0.024773, 0.122756, 0.944109, 0.097677, 0.94405, 0.103574, 0.060515, 1.0, 0.204731, 0.113793, 0.058599, -0.00126, -0.038561, 0.342815, 0.100704, 0.102996, 0.048207], [\"v25\", 0.147409, 0.143253, 0.188812, 0.156329, 0.156328, 0.156362, 0.143049, 0.144241, -0.082086, 0.232333, 0.144427, 0.538637, 0.248312, 0.236719, 0.170324, -0.005286, 0.466469, 0.146016, 0.023297, 0.292878, 0.142239, 0.291608, 0.142158, 0.602655, 0.398017, 0.204731, 1.0, 0.811614, 0.331777, 0.053107, -0.242197, 0.484444, 0.532621, 0.538868, 0.158076], [\"v70\", 0.10535, 0.104005, 0.053493, 0.061642, 0.061642, 0.061618, 0.104042, 0.104275, -0.01718, 0.170629, 0.10435, 0.806609, 0.121398, 0.115224, 0.05263, 0.004055, 0.184909, 0.093831, 0.000476, 0.104974, 0.103674, 0.11467, 0.10366, 0.850756, 0.205933, 0.113793, 0.811614, 1.0, 0.414344, 0.004319, -0.093398, 0.35128, 0.805146, 0.806878, 0.048644], [\"v81\", 0.054687, 0.055373, -0.001496, -0.009095, -0.009095, -0.009073, 0.054831, 0.055334, -0.014223, 0.081594, 0.055518, 0.498224, 0.026949, 0.026279, -0.008885, 0.005466, 0.064885, 0.04603, 0.012137, 0.057107, 0.055501, 0.04009, 0.055499, 0.46499, 0.057741, 0.058599, 0.331777, 0.414344, 1.0, 0.039589, -0.140767, 0.144192, 0.497472, 0.498272, 0.001047], [\"v17\", -0.001338, -0.001576, -0.001956, -0.025962, -0.025963, -0.025939, -0.001836, -0.001233, -0.043035, -0.024582, -0.001044, -0.007674, -0.003995, 0.001587, 0.039011, -0.024714, 0.04442, 0.011097, 0.028019, 0.030509, -0.001395, 0.065881, -0.001322, -0.007917, 0.025019, -0.00126, 0.053107, 0.004319, 0.039589, 1.0, -0.008631, 0.031154, -0.008493, -0.007736, 0.120272], [\"v58\", -0.014913, -0.012298, -0.107356, -0.075995, -0.075994, -0.076041, -0.012022, -0.013218, 0.01369, -0.038201, -0.013157, -0.144453, -0.079234, -0.081026, -0.113055, -0.042098, -0.494292, -0.037156, -0.053275, -0.153084, -0.011778, -0.126681, -0.011761, -0.103362, -0.14784, -0.038561, -0.242197, -0.093398, -0.140767, -0.008631, 1.0, -0.087822, -0.141743, -0.144495, -0.06676], [\"v71\", 0.331367, 0.329767, 0.113334, 0.115712, 0.115712, 0.11575, 0.329574, 0.330218, 0.003862, 0.613253, 0.330232, 0.233388, 0.246595, 0.229582, 0.103768, -0.025118, 0.176925, 0.266441, -0.010545, 0.222172, 0.329335, 0.163881, 0.329289, 0.230926, 0.13532, 0.342815, 0.484444, 0.35128, 0.144192, 0.031154, -0.087822, 1.0, 0.22861, 0.233268, 0.091656], [\"v87\", 0.107258, 0.107369, 0.012035, 0.017848, 0.017848, 0.017847, 0.107361, 0.107341, 0.007242, 0.150458, 0.107348, 0.999946, 0.052849, 0.048638, 0.002813, 0.024858, 0.014113, 0.081995, -0.019434, 0.025376, 0.10738, 0.008672, 0.107381, 0.921593, 0.011431, 0.100704, 0.532621, 0.805146, 0.497472, -0.008493, -0.141743, 0.22861, 1.0, 0.999947, 1.2e-05], [\"v89\", 0.10898, 0.109055, 0.013756, 0.019392, 0.019392, 0.019392, 0.109045, 0.109036, 0.006026, 0.153254, 0.109043, 0.999993, 0.055103, 0.050761, 0.004602, 0.024892, 0.01862, 0.083553, -0.01923, 0.030439, 0.109057, 0.012853, 0.109057, 0.920919, 0.014854, 0.102996, 0.538868, 0.806878, 0.498272, -0.007736, -0.144495, 0.233268, 0.999947, 1.0, 0.001619], [\"v11\", 0.037665, 0.032533, 0.137989, 0.113811, 0.113812, 0.113792, 0.033124, 0.033901, 0.018385, 0.044927, 0.033542, 0.002047, 0.098547, 0.076976, 0.293396, -0.014075, 0.183653, 3e-06, -0.003354, 0.021203, 0.031578, -0.006407, 0.031444, 0.02752, 0.17531, 0.048207, 0.158076, 0.048644, 0.001047, 0.120272, -0.06676, 0.091656, 1.2e-05, 0.001619, 1.0]]};\n",
       "        dt_args = eval_functions(dt_args);\n",
       "        table = $('#515f03f7-ed34-48de-be3d-751bb0b1c8b4').DataTable(dt_args);\n",
       "    });\n",
       "})\n",
       "</script>\n",
       "</div>\n"
      ],
      "text/plain": [
       "<IPython.core.display.HTML object>"
      ]
     },
     "metadata": {},
     "output_type": "display_data"
    },
    {
     "name": "stdout",
     "output_type": "stream",
     "text": [
      "\u001b[1;31m相关性筛选的特征:\u001b[0m ['v36', 'v62', 'v67', 'v22', 'v72', 'v88', 'v31', 'v14', 'v54', 'v53', 'v59', 'v78', 'v77', 'v61', 'v25', 'v81', 'v17', 'v58', 'v71', 'v11']\n",
      "\u001b[1;31m相关性筛选删除的特征:\u001b[0m ['v37', 'v66', 'v63', 'v47', 'v39', 'v42', 'v29', 'v33', 'v32', 'v34', 'v69', 'v30', 'v70', 'v87', 'v89']\n",
      "\u001b[1;31m连续变量相关性筛选完成----------------------------- \u001b[0m\n"
     ]
    }
   ],
   "source": [
    "#2.5相关性筛选，多重共线性筛选\n",
    "# 特征分类\n",
    "cate_col = []\n",
    "num_col = []\n",
    "for col in iv_select_col:\n",
    "    if train[col].dtype==np.dtype('object') or train[col].dtype==np.dtype('bool') or train[col].nunique()<=5:\n",
    "        cate_col.append(col)\n",
    "    else:\n",
    "        num_col.append(col)\n",
    "\n",
    "#相关性筛选，默认相关系数阈值0.7\n",
    "corr=pd.DataFrame(train[num_col].corr())\n",
    "print(\"\\033[1;31m相关矩阵\\033[0m\")\n",
    "show(corr,columnDefs=[{\"width\": \"250px\", \"targets\": \"_all\"}])\n",
    "\n",
    "corr.to_excel(\"corr.xlsx\")\n",
    "\n",
    "#按照iv高低删除相关性高的变量\n",
    "corr_select_col,corr_delete_col= self_f_2.forward_corr_delete(train,num_col,cut_value=0.72)\n",
    "\n",
    "print(\"\\033[1;31m相关性筛选的特征:\\033[0m\",corr_select_col)\n",
    "print(\"\\033[1;31m相关性筛选删除的特征:\\033[0m\",corr_delete_col)\n",
    "print('\\033[1;31m连续变量相关性筛选完成----------------------------- \\033[0m')\n",
    "\n",
    "#  # 多重共线性筛选，系数阈值10\n",
    "# vif_select_col,vif_delete_col = self_f_2.vif_delete(train,corr_select_col)\n",
    "\n",
    "\n",
    "# print(\"\\033[1;31m多重共线性筛选的特征:\\033[0m\",vif_select_col)\n",
    "# print(\"\\033[1;31m多重共线性删除的特征:\\033[0m\",vif_delete_col)\n",
    "# print('\\033[1;31m连续变量多重共线性筛选完成------------------------- \\033[0m')"
   ]
  },
  {
   "cell_type": "code",
   "execution_count": 16,
   "metadata": {},
   "outputs": [
    {
     "name": "stdout",
     "output_type": "stream",
     "text": [
      "\u001b[1;31m初筛后剩余变量的iv列表\u001b[0m\n"
     ]
    },
    {
     "data": {
      "text/html": [
       "<div><table id=\"17234e81-87f8-4b74-b162-babfc74a7150\" class=\"display nowrap\"><thead>\n",
       "    <tr style=\"text-align: right;\">\n",
       "      <th></th>\n",
       "      <th>col</th>\n",
       "      <th>bins</th>\n",
       "      <th>IV</th>\n",
       "      <th>woe</th>\n",
       "      <th>bin_iv</th>\n",
       "      <th>total</th>\n",
       "      <th>totalrate</th>\n",
       "      <th>bad</th>\n",
       "      <th>badrate</th>\n",
       "      <th>good</th>\n",
       "      <th>goodrate</th>\n",
       "      <th>badattr</th>\n",
       "      <th>goodattr</th>\n",
       "      <th>fuzhu</th>\n",
       "    </tr>\n",
       "  </thead></table>\n",
       "<script type=\"text/javascript\">\n",
       "require([\"datatables\"], function (datatables) {\n",
       "    $(document).ready(function () {        \n",
       "        var dt_args = {\"columnDefs\": [{\"width\": \"150px\", \"targets\": \"_all\"}], \"lengthMenu\": [10, 10, 100, 200, 500, 1000, 2000, 5000], \"data\": [[18, \"v36\", \"(-inf, 0.5]\", 0.345731, 0.541994, 0.14441, 1362, 0.467238, 675, 0.495595, 687, 0.504405, 0.636792, 0.37035, 92], [19, \"v36\", \"(0.5, 1.5]\", 0.345731, 0.010718, 7e-06, 183, 0.062779, 67, 0.36612, 116, 0.63388, 0.063208, 0.062534, 93], [20, \"v36\", \"(1.5, 2.5]\", 0.345731, -0.275182, 0.003783, 152, 0.052144, 46, 0.302632, 106, 0.697368, 0.043396, 0.057143, 94], [21, \"v36\", \"(2.5, 16.5]\", 0.345731, -0.606238, 0.121084, 1069, 0.366724, 254, 0.237605, 815, 0.762395, 0.239623, 0.439353, 95], [22, \"v36\", \"(16.5, inf]\", 0.345731, -1.42521, 0.076447, 149, 0.051115, 18, 0.120805, 131, 0.879195, 0.016981, 0.07062, 96], [27, \"v62\", \"(-inf, -999.0]\", 0.263686, 0.454559, 0.103225, 1391, 0.477187, 659, 0.47376, 732, 0.52624, 0.621698, 0.394609, 178], [28, \"v62\", \"(-999.0, 1493.715]\", 0.263686, -0.162688, 0.004582, 517, 0.177358, 169, 0.326886, 348, 0.673114, 0.159434, 0.187601, 179], [29, \"v62\", \"(1493.715, 2163.82]\", 0.263686, -0.526726, 0.028253, 325, 0.111492, 82, 0.252308, 243, 0.747692, 0.077358, 0.130997, 180], [30, \"v62\", \"(2163.82, 7334.175]\", 0.263686, -0.847469, 0.126892, 605, 0.207547, 119, 0.196694, 486, 0.803306, 0.112264, 0.261995, 181], [31, \"v62\", \"(7334.175, inf]\", 0.263686, 0.164962, 0.000734, 77, 0.026415, 31, 0.402597, 46, 0.597403, 0.029245, 0.024798, 182], [35, \"v67\", \"(-inf, -999.0]\", 0.236706, 0.454559, 0.103225, 1391, 0.477187, 659, 0.47376, 732, 0.52624, 0.621698, 0.394609, 198], [36, \"v67\", \"(-999.0, 0.215]\", 0.236706, -0.144705, 0.001892, 269, 0.092281, 89, 0.330855, 180, 0.669145, 0.083962, 0.097035, 199], [37, \"v67\", \"(0.215, 0.315]\", 0.236706, -1.00436, 0.044262, 156, 0.053516, 27, 0.173077, 129, 0.826923, 0.025472, 0.069542, 200], [38, \"v67\", \"(0.315, 0.415]\", 0.236706, -0.253333, 0.00379, 179, 0.061407, 55, 0.307263, 124, 0.692737, 0.051887, 0.066846, 201], [39, \"v67\", \"(0.415, inf]\", 0.236706, -0.538997, 0.083537, 920, 0.315609, 230, 0.25, 690, 0.75, 0.216981, 0.371968, 202], [64, \"v22\", \"(-inf, 25.5]\", 0.105222, 0.55544, 0.053373, 479, 0.164322, 239, 0.498956, 240, 0.501044, 0.225472, 0.12938, 47], [65, \"v22\", \"(25.5, 36.5]\", 0.105222, 0.038027, 0.000717, 1439, 0.493654, 536, 0.372481, 903, 0.627519, 0.50566, 0.486792, 48], [66, \"v22\", \"(36.5, 38.5]\", 0.105222, -0.209904, 0.002914, 199, 0.068268, 63, 0.316583, 136, 0.683417, 0.059434, 0.073315, 49], [67, \"v22\", \"(38.5, 48.5]\", 0.105222, -0.489297, 0.048072, 636, 0.218182, 165, 0.259434, 471, 0.740566, 0.15566, 0.253908, 50], [68, \"v22\", \"(48.5, inf]\", 0.105222, -0.051293, 0.000145, 162, 0.055575, 57, 0.351852, 105, 0.648148, 0.053774, 0.056604, 51], [69, \"v72\", \"(-inf, 3.5]\", 0.080505, 0.406342, 0.041729, 706, 0.242196, 326, 0.461756, 380, 0.538244, 0.307547, 0.204852, 223], [70, \"v72\", \"(3.5, 5.5]\", 0.080505, 0.026261, 0.000152, 641, 0.219897, 237, 0.369735, 404, 0.630265, 0.223585, 0.21779, 224], [71, \"v72\", \"(5.5, 12.5]\", 0.080505, -0.298252, 0.035493, 1219, 0.418182, 363, 0.297785, 856, 0.702215, 0.342453, 0.461456, 225], [72, \"v72\", \"(12.5, 16.5]\", 0.080505, -0.039713, 0.000102, 189, 0.064837, 67, 0.354497, 122, 0.645503, 0.063208, 0.065768, 226], [73, \"v72\", \"(16.5, inf]\", 0.080505, 0.231709, 0.003029, 160, 0.054889, 67, 0.41875, 93, 0.58125, 0.063208, 0.050135, 227], [78, \"v88\", \"(-inf, 0.055]\", 0.06552, 0.336472, 0.025031, 621, 0.213036, 276, 0.444444, 345, 0.555556, 0.260377, 0.185984, 294], [79, \"v88\", \"(0.055, 0.085]\", 0.06552, 0.120105, 0.00395, 786, 0.26964, 308, 0.391858, 478, 0.608142, 0.290566, 0.257682, 295], [80, \"v88\", \"(0.085, 0.125]\", 0.06552, -0.319995, 0.029714, 890, 0.305317, 261, 0.293258, 629, 0.706742, 0.246226, 0.339084, 296], [81, \"v88\", \"(0.125, 0.165]\", 0.06552, -0.206438, 0.005314, 375, 0.128645, 119, 0.317333, 256, 0.682667, 0.112264, 0.138005, 297], [82, \"v88\", \"(0.165, inf]\", 0.06552, 0.133531, 0.001512, 243, 0.083362, 96, 0.395062, 147, 0.604938, 0.090566, 0.079245, 298], [83, \"v31\", \"(-inf, 28.5]\", 0.058981, -0.195407, 0.00187, 147, 0.050429, 47, 0.319728, 100, 0.680272, 0.04434, 0.053908, 72], [84, \"v31\", \"(28.5, 219.5]\", 0.058981, 0.258799, 0.023159, 978, 0.335506, 416, 0.425358, 562, 0.574642, 0.392453, 0.302965, 73], [85, \"v31\", \"(219.5, 983.5]\", 0.058981, -0.185866, 0.016332, 1417, 0.486106, 456, 0.321807, 961, 0.678193, 0.430189, 0.518059, 74], [86, \"v31\", \"(983.5, 1181.0]\", 0.058981, 0.492476, 0.013009, 149, 0.051115, 72, 0.483221, 77, 0.516779, 0.067925, 0.041509, 75], [87, \"v31\", \"(1181.0, inf]\", 0.058981, -0.249703, 0.00461, 224, 0.076844, 69, 0.308036, 155, 0.691964, 0.065094, 0.083558, 76], [93, \"v14\", \"(-inf, 1.5]\", 0.046828, 0.282863, 0.004536, 160, 0.054889, 69, 0.43125, 91, 0.56875, 0.065094, 0.049057, 17], [94, \"v14\", \"(1.5, 2.5]\", 0.046828, 0.073182, 0.001213, 654, 0.224357, 249, 0.380734, 405, 0.619266, 0.234906, 0.218329, 18], [95, \"v14\", \"(2.5, 4.5]\", 0.046828, 0.043982, 0.001037, 1554, 0.533105, 581, 0.373874, 973, 0.626126, 0.548113, 0.524528, 19], [96, \"v14\", \"(4.5, 5.5]\", 0.046828, -0.041724, 0.000191, 322, 0.110463, 114, 0.354037, 208, 0.645963, 0.107547, 0.112129, 20], [97, \"v14\", \"(5.5, inf]\", 0.046828, -0.77202, 0.03985, 225, 0.077187, 47, 0.208889, 178, 0.791111, 0.04434, 0.095957, 21], [98, \"v54\", \"(-inf, 0.375]\", 0.040088, 0.006231, 5e-06, 378, 0.129674, 138, 0.365079, 240, 0.634921, 0.130189, 0.12938, 147], [99, \"v54\", \"(0.375, 0.411]\", 0.040088, -0.747898, 0.025904, 155, 0.053173, 33, 0.212903, 122, 0.787097, 0.031132, 0.065768, 148], [100, \"v54\", \"(0.411, 0.44]\", 0.040088, 0.204582, 0.002178, 148, 0.050772, 61, 0.412162, 87, 0.587838, 0.057547, 0.0469, 149], [101, \"v54\", \"(0.44, 0.574]\", 0.040088, -0.139351, 0.005052, 774, 0.265523, 257, 0.332041, 517, 0.667959, 0.242453, 0.278706, 150], [102, \"v54\", \"(0.574, inf]\", 0.040088, 0.116908, 0.006948, 1460, 0.500858, 571, 0.391096, 889, 0.608904, 0.538679, 0.479245, 151], [103, \"v53\", \"(-inf, 0.865]\", 0.038608, 0.417441, 0.009677, 155, 0.053173, 72, 0.464516, 83, 0.535484, 0.067925, 0.044744, 142], [104, \"v53\", \"(0.865, 1.805]\", 0.038608, 0.066365, 0.001154, 757, 0.259691, 287, 0.379128, 470, 0.620872, 0.270755, 0.253369, 143], [105, \"v53\", \"(1.805, 1.835]\", 0.038608, 0.356491, 0.011194, 247, 0.084734, 111, 0.449393, 136, 0.550607, 0.104717, 0.073315, 144], [106, \"v53\", \"(1.835, 3.695]\", 0.038608, -0.160098, 0.013636, 1588, 0.544768, 520, 0.327456, 1068, 0.672544, 0.490566, 0.575741, 145], [107, \"v53\", \"(3.695, inf]\", 0.038608, 0.223144, 0.002947, 168, 0.057633, 70, 0.416667, 98, 0.583333, 0.066038, 0.05283, 146], [113, \"v59\", \"(-inf, 17.5]\", 0.037853, 0.303186, 0.009725, 298, 0.10223, 130, 0.436242, 168, 0.563758, 0.122642, 0.090566, 165], [114, \"v59\", \"(17.5, 35.5]\", 0.037853, 0.075617, 0.00106, 535, 0.183533, 204, 0.381308, 331, 0.618692, 0.192453, 0.178437, 166], [115, \"v59\", \"(35.5, 73.5]\", 0.037853, -0.187991, 0.014745, 1251, 0.42916, 402, 0.321343, 849, 0.678657, 0.379245, 0.457682, 167], [116, \"v59\", \"(73.5, 93.5]\", 0.037853, 0.005782, 7e-06, 611, 0.209605, 223, 0.364975, 388, 0.635025, 0.210377, 0.209164, 168], [117, \"v59\", \"(93.5, inf]\", 0.037853, 0.395613, 0.012316, 220, 0.075472, 101, 0.459091, 119, 0.540909, 0.095283, 0.064151, 169], [118, \"v78\", \"(-inf, -999.0]\", 0.037562, -0.09082, 0.002338, 837, 0.287136, 287, 0.342891, 550, 0.657109, 0.270755, 0.296496, 252], [119, \"v78\", \"(-999.0, 3.5]\", 0.037562, 0.022982, 0.000226, 1244, 0.426758, 459, 0.368971, 785, 0.631029, 0.433019, 0.423181, 253], [120, \"v78\", \"(3.5, 7.5]\", 0.037562, -0.204149, 0.007153, 516, 0.177015, 164, 0.317829, 352, 0.682171, 0.154717, 0.189757, 254], [121, \"v78\", \"(7.5, 10.5]\", 0.037562, 0.642503, 0.025285, 169, 0.057976, 88, 0.52071, 81, 0.47929, 0.083019, 0.043666, 255], [122, \"v78\", \"(10.5, inf]\", 0.037562, 0.220842, 0.00256, 149, 0.051115, 62, 0.416107, 87, 0.583893, 0.058491, 0.0469, 256], [128, \"v77\", \"(-inf, -999.0]\", 0.037186, -0.087011, 0.005336, 2080, 0.713551, 715, 0.34375, 1365, 0.65625, 0.674528, 0.735849, 247], [129, \"v77\", \"(-999.0, 2.5]\", 0.037186, 0.117507, 0.003183, 662, 0.227101, 259, 0.391239, 403, 0.608761, 0.24434, 0.217251, 248], [130, \"v77\", \"(2.5, 3.5]\", 0.037186, 0.336472, 0.002902, 72, 0.0247, 32, 0.444444, 40, 0.555556, 0.030189, 0.021563, 249], [131, \"v77\", \"(3.5, 4.5]\", 0.037186, 1.141537, 0.024923, 53, 0.018182, 34, 0.641509, 19, 0.358491, 0.032075, 0.010243, 250], [132, \"v77\", \"(4.5, inf]\", 0.037186, 0.223144, 0.000842, 48, 0.016467, 20, 0.416667, 28, 0.583333, 0.018868, 0.015094, 251], [143, \"v61\", \"(-inf, 932.0]\", 0.028326, 0.279314, 0.004367, 158, 0.054202, 68, 0.43038, 90, 0.56962, 0.064151, 0.048518, 173], [144, \"v61\", \"(932.0, 1197.0]\", 0.028326, -0.197383, 0.003698, 285, 0.09777, 91, 0.319298, 194, 0.680702, 0.085849, 0.104582, 174], [145, \"v61\", \"(1197.0, 1365.0]\", 0.028326, 0.071459, 0.001079, 610, 0.209262, 232, 0.380328, 378, 0.619672, 0.218868, 0.203774, 175], [146, \"v61\", \"(1365.0, 1799.0]\", 0.028326, 0.194783, 0.009529, 715, 0.245283, 293, 0.40979, 422, 0.59021, 0.276415, 0.227493, 176], [147, \"v61\", \"(1799.0, inf]\", 0.028326, -0.158483, 0.009654, 1147, 0.393482, 376, 0.327812, 771, 0.672188, 0.354717, 0.415633, 177], [153, \"v25\", \"(-inf, 59.5]\", 0.026983, 0.042163, 0.000642, 1047, 0.359177, 391, 0.373448, 656, 0.626552, 0.368868, 0.353639, 55], [154, \"v25\", \"(59.5, 69.5]\", 0.026983, 0.207474, 0.007298, 482, 0.165352, 199, 0.412863, 283, 0.587137, 0.187736, 0.152561, 56], [155, \"v25\", \"(69.5, 87.5]\", 0.026983, -0.095866, 0.002339, 752, 0.257976, 257, 0.341755, 495, 0.658245, 0.242453, 0.266846, 57], [156, \"v25\", \"(87.5, 94.5]\", 0.026983, -0.571786, 0.016645, 164, 0.056261, 40, 0.243902, 124, 0.756098, 0.037736, 0.066846, 58], [157, \"v25\", \"(94.5, inf]\", 0.026983, 0.019175, 5.9e-05, 470, 0.161235, 173, 0.368085, 297, 0.631915, 0.163208, 0.160108, 59], [163, \"v81\", \"(-inf, 3.5]\", 0.025911, 0.058655, 0.000514, 432, 0.148199, 163, 0.377315, 269, 0.622685, 0.153774, 0.145013, 266], [164, \"v81\", \"(3.5, 5.5]\", 0.025911, -0.048172, 0.000617, 780, 0.267581, 275, 0.352564, 505, 0.647436, 0.259434, 0.272237, 267], [165, \"v81\", \"(5.5, 8.5]\", 0.025911, 0.038393, 0.000574, 1130, 0.38765, 421, 0.372566, 709, 0.627434, 0.39717, 0.38221, 268], [166, \"v81\", \"(8.5, 9.5]\", 0.025911, 0.367244, 0.010542, 219, 0.075129, 99, 0.452055, 120, 0.547945, 0.093396, 0.06469, 269], [167, \"v81\", \"(9.5, inf]\", 0.025911, -0.34484, 0.013663, 354, 0.121441, 102, 0.288136, 252, 0.711864, 0.096226, 0.135849, 270], [168, \"v17\", \"(-inf, -999.0]\", 0.024109, -0.050416, 0.000401, 463, 0.158834, 163, 0.352052, 300, 0.647948, 0.153774, 0.161725, 30], [169, \"v17\", \"(-999.0, 2.5]\", 0.024109, -0.062806, 0.000872, 650, 0.222985, 227, 0.349231, 423, 0.650769, 0.214151, 0.228032, 31], [170, \"v17\", \"(2.5, 15.5]\", 0.024109, 0.249169, 0.01182, 539, 0.184906, 228, 0.423006, 311, 0.576994, 0.215094, 0.167655, 32], [171, \"v17\", \"(15.5, 30.5]\", 0.024109, -0.161119, 0.0076, 874, 0.299828, 286, 0.327231, 588, 0.672769, 0.269811, 0.316981, 33], [172, \"v17\", \"(30.5, inf]\", 0.024109, 0.158433, 0.003416, 389, 0.133448, 156, 0.401028, 233, 0.598972, 0.14717, 0.125606, 34], [173, \"v58\", \"(-inf, 0.0515]\", 0.024103, 0.194502, 0.003827, 288, 0.098799, 118, 0.409722, 170, 0.590278, 0.111321, 0.091644, 160], [174, \"v58\", \"(0.0515, 0.0535]\", 0.024103, -0.409785, 0.008615, 160, 0.054889, 44, 0.275, 116, 0.725, 0.041509, 0.062534, 161], [175, \"v58\", \"(0.0535, 0.0695]\", 0.024103, 0.044717, 0.000362, 524, 0.17976, 196, 0.374046, 328, 0.625954, 0.184906, 0.176819, 162], [176, \"v58\", \"(0.0695, 0.106]\", 0.024103, -0.111552, 0.005142, 1224, 0.419897, 414, 0.338235, 810, 0.661765, 0.390566, 0.436658, 163], [177, \"v58\", \"(0.106, inf]\", 0.024103, 0.156468, 0.006158, 719, 0.246655, 288, 0.400556, 431, 0.599444, 0.271698, 0.232345, 164], [183, \"v71\", \"(-inf, 17.5]\", 0.023559, 0.106636, 0.002788, 705, 0.241852, 274, 0.388652, 431, 0.611348, 0.258491, 0.232345, 218], [184, \"v71\", \"(17.5, 21.5]\", 0.023559, -0.246609, 0.00462, 230, 0.078902, 71, 0.308696, 159, 0.691304, 0.066981, 0.085714, 219], [185, \"v71\", \"(21.5, 34.5]\", 0.023559, 0.014062, 4.9e-05, 725, 0.248714, 266, 0.366897, 459, 0.633103, 0.250943, 0.247439, 220], [186, \"v71\", \"(34.5, 38.5]\", 0.023559, 0.435162, 0.012023, 177, 0.06072, 83, 0.468927, 94, 0.531073, 0.078302, 0.050674, 221], [187, \"v71\", \"(38.5, inf]\", 0.023559, -0.105829, 0.004079, 1078, 0.369811, 366, 0.339518, 712, 0.660482, 0.345283, 0.383827, 222], [198, \"v11\", \"(-inf, 3.5]\", 0.02184, 0.121231, 0.003251, 635, 0.217839, 249, 0.392126, 386, 0.607874, 0.234906, 0.208086, 8], [199, \"v11\", \"(3.5, 4.5]\", 0.02184, 0.077033, 0.00298, 1449, 0.497084, 553, 0.381643, 896, 0.618357, 0.521698, 0.483019, 9], [200, \"v11\", \"(4.5, inf]\", 0.02184, -0.23831, 0.015609, 831, 0.285077, 258, 0.310469, 573, 0.689531, 0.243396, 0.308895, 10]]};\n",
       "        dt_args = eval_functions(dt_args);\n",
       "        table = $('#17234e81-87f8-4b74-b162-babfc74a7150').DataTable(dt_args);\n",
       "    });\n",
       "})\n",
       "</script>\n",
       "</div>\n"
      ],
      "text/plain": [
       "<IPython.core.display.HTML object>"
      ]
     },
     "metadata": {},
     "output_type": "display_data"
    }
   ],
   "source": [
    "iv_df_chubu_filter=iv_df[iv_df[\"col\"].isin(corr_select_col)]\n",
    "# iv_df_chubu_filter=iv_df[iv_df[\"col\"].isin(vif_delete_col)]\n",
    "print(\"\\033[1;31m初筛后剩余变量的iv列表\\033[0m\")\n",
    "show(iv_df_chubu_filter)"
   ]
  },
  {
   "cell_type": "markdown",
   "metadata": {},
   "source": [
    "### 分箱调整"
   ]
  },
  {
   "cell_type": "code",
   "execution_count": 17,
   "metadata": {},
   "outputs": [
    {
     "name": "stdout",
     "output_type": "stream",
     "text": [
      "\u001b[1;31m调整前_woe不单调的变量\u001b[0m ['v17', 'v22', 'v25', 'v31', 'v53', 'v54', 'v58', 'v59', 'v61', 'v62', 'v67', 'v71', 'v72', 'v77', 'v78', 'v81', 'v88']\n"
     ]
    }
   ],
   "source": [
    "#分箱不单调的变量\n",
    "nan_value= -999\n",
    "# trim_var_dict = {k:v for k,v in cut_dict.items() if k in vif_select_col}\n",
    "trim_var_dict = {k:v for k,v in cut_dict.items() if k in corr_select_col}\n",
    "\n",
    "col_not_dandiao_befor_adjust_list=[]\n",
    "for col in trim_var_dict.keys():\n",
    "    bin_cut = trim_var_dict[col]\n",
    "    df_bin_before_adjust = [x for x in bin_df_list if x.index.name==col][0]\n",
    "    if nan_value in bin_cut: # 当cut里有缺失映射值时，说明是把缺失单独分为一箱的，后续在进行调成单调分箱时\n",
    "    # 不考虑缺失的箱，故将缺失映射值剔除\n",
    "        woe_list = df_bin_before_adjust['woe'].tolist()[1:]\n",
    "    else:\n",
    "        woe_list = df_bin_before_adjust['woe'].tolist() \n",
    "\n",
    "    if not self_f_2.judge_decreasing(woe_list) and not self_f_2.judge_increasing(woe_list):\n",
    "        col_not_dandiao_befor_adjust_list.append(col)\n",
    "        \n",
    "print(\"\\033[1;31m调整前_woe不单调的变量\\033[0m\",col_not_dandiao_befor_adjust_list)"
   ]
  },
  {
   "cell_type": "markdown",
   "metadata": {},
   "source": [
    "#### 自动分箱调整"
   ]
  },
  {
   "cell_type": "code",
   "execution_count": 18,
   "metadata": {},
   "outputs": [
    {
     "name": "stdout",
     "output_type": "stream",
     "text": [
      "\u001b[1;31m不单调也无需调整分箱的变量\u001b[0m ['v17', 'v54', 'v58', 'v67']\n",
      "\u001b[1;31m调整后_仍然不单调的变量\u001b[0m ['v77', 'v78']\n",
      "\u001b[1;31m自动调整分箱后woe情况\u001b[0m\n"
     ]
    },
    {
     "data": {
      "text/html": [
       "<div><table id=\"911c8fcd-80b0-4901-917d-1ede17a838c7\" class=\"display nowrap\"><thead>\n",
       "    <tr style=\"text-align: right;\">\n",
       "      \n",
       "      <th>col</th>\n",
       "      <th>bins</th>\n",
       "      <th>IV</th>\n",
       "      <th>woe</th>\n",
       "      <th>bin_iv</th>\n",
       "      <th>total</th>\n",
       "      <th>totalrate</th>\n",
       "      <th>bad</th>\n",
       "      <th>badrate</th>\n",
       "      <th>good</th>\n",
       "      <th>goodrate</th>\n",
       "      <th>badattr</th>\n",
       "      <th>goodattr</th>\n",
       "      <th>fuzhu</th>\n",
       "    </tr>\n",
       "  </thead></table>\n",
       "<script type=\"text/javascript\">\n",
       "require([\"datatables\"], function (datatables) {\n",
       "    $(document).ready(function () {        \n",
       "        var dt_args = {\"columnDefs\": [{\"width\": \"150px\", \"targets\": \"_all\"}], \"lengthMenu\": [10, 10, 100, 200, 500, 1000, 2000, 5000], \"data\": [[\"v36\", \"(-inf, 0.5]\", 0.345731, 0.541994, 0.14441, 1362, 0.467238, 675, 0.495595, 687, 0.504405, 0.636792, 0.37035, 18], [\"v36\", \"(0.5, 1.5]\", 0.345731, 0.010718, 7e-06, 183, 0.062779, 67, 0.36612, 116, 0.63388, 0.063208, 0.062534, 19], [\"v36\", \"(1.5, 2.5]\", 0.345731, -0.275182, 0.003783, 152, 0.052144, 46, 0.302632, 106, 0.697368, 0.043396, 0.057143, 20], [\"v36\", \"(2.5, 16.5]\", 0.345731, -0.606238, 0.121084, 1069, 0.366724, 254, 0.237605, 815, 0.762395, 0.239623, 0.439353, 21], [\"v36\", \"(16.5, inf]\", 0.345731, -1.42521, 0.076447, 149, 0.051115, 18, 0.120805, 131, 0.879195, 0.016981, 0.07062, 22], [\"v67\", \"(-inf, -999.0]\", 0.236706, 0.454559, 0.103225, 1391, 0.477187, 659, 0.47376, 732, 0.52624, 0.621698, 0.394609, 70], [\"v67\", \"(-999.0, 0.215]\", 0.236706, -0.144705, 0.001892, 269, 0.092281, 89, 0.330855, 180, 0.669145, 0.083962, 0.097035, 71], [\"v67\", \"(0.215, 0.315]\", 0.236706, -1.00436, 0.044262, 156, 0.053516, 27, 0.173077, 129, 0.826923, 0.025472, 0.069542, 72], [\"v67\", \"(0.315, 0.415]\", 0.236706, -0.253333, 0.00379, 179, 0.061407, 55, 0.307263, 124, 0.692737, 0.051887, 0.066846, 73], [\"v67\", \"(0.415, inf]\", 0.236706, -0.538997, 0.083537, 920, 0.315609, 230, 0.25, 690, 0.75, 0.216981, 0.371968, 74], [\"v62\", \"(-inf, -999.0]\", 0.221768, 0.454559, 0.103225, 1391, 0.477187, 659, 0.47376, 732, 0.52624, 0.621698, 0.394609, 32], [\"v62\", \"(-999.0, 7334.175]\", 0.221768, -0.508816, 0.117809, 1447, 0.496398, 370, 0.255701, 1077, 0.744299, 0.349057, 0.580593, 33], [\"v62\", \"(7334.175, inf]\", 0.221768, 0.164962, 0.000734, 77, 0.026415, 31, 0.402597, 46, 0.597403, 0.029245, 0.024798, 34], [\"v22\", \"(-inf, 25.5]\", 0.09681, 0.55544, 0.053373, 479, 0.164322, 239, 0.498956, 240, 0.501044, 0.225472, 0.12938, 8], [\"v22\", \"(25.5, 36.5]\", 0.09681, 0.038027, 0.000717, 1439, 0.493654, 536, 0.372481, 903, 0.627519, 0.50566, 0.486792, 9], [\"v22\", \"(36.5, 38.5]\", 0.09681, -0.209904, 0.002914, 199, 0.068268, 63, 0.316583, 136, 0.683417, 0.059434, 0.073315, 10], [\"v22\", \"(38.5, inf]\", 0.09681, -0.393814, 0.039806, 798, 0.273756, 222, 0.278195, 576, 0.721805, 0.209434, 0.310512, 11], [\"v72\", \"(-inf, 3.5]\", 0.064463, 0.406342, 0.041729, 706, 0.242196, 326, 0.461756, 380, 0.538244, 0.307547, 0.204852, 38], [\"v72\", \"(3.5, 5.5]\", 0.064463, 0.026261, 0.000152, 641, 0.219897, 237, 0.369735, 404, 0.630265, 0.223585, 0.21779, 39], [\"v72\", \"(5.5, inf]\", 0.064463, -0.208142, 0.022581, 1568, 0.537907, 497, 0.316964, 1071, 0.683036, 0.468868, 0.577358, 40], [\"v88\", \"(-inf, 0.055]\", 0.051962, 0.336472, 0.025031, 621, 0.213036, 276, 0.444444, 345, 0.555556, 0.260377, 0.185984, 52], [\"v88\", \"(0.055, 0.085]\", 0.051962, 0.120105, 0.00395, 786, 0.26964, 308, 0.391858, 478, 0.608142, 0.290566, 0.257682, 53], [\"v88\", \"(0.085, inf]\", 0.051962, -0.21422, 0.022981, 1508, 0.517324, 476, 0.31565, 1032, 0.68435, 0.449057, 0.556334, 54], [\"v14\", \"(-inf, 1.5]\", 0.046828, 0.282863, 0.004536, 160, 0.054889, 69, 0.43125, 91, 0.56875, 0.065094, 0.049057, 3], [\"v14\", \"(1.5, 2.5]\", 0.046828, 0.073182, 0.001213, 654, 0.224357, 249, 0.380734, 405, 0.619266, 0.234906, 0.218329, 4], [\"v14\", \"(2.5, 4.5]\", 0.046828, 0.043982, 0.001037, 1554, 0.533105, 581, 0.373874, 973, 0.626126, 0.548113, 0.524528, 5], [\"v14\", \"(4.5, 5.5]\", 0.046828, -0.041724, 0.000191, 322, 0.110463, 114, 0.354037, 208, 0.645963, 0.107547, 0.112129, 6], [\"v14\", \"(5.5, inf]\", 0.046828, -0.77202, 0.03985, 225, 0.077187, 47, 0.208889, 178, 0.791111, 0.04434, 0.095957, 7], [\"v54\", \"(-inf, 0.375]\", 0.040088, 0.006231, 5e-06, 378, 0.129674, 138, 0.365079, 240, 0.634921, 0.130189, 0.12938, 60], [\"v54\", \"(0.375, 0.411]\", 0.040088, -0.747898, 0.025904, 155, 0.053173, 33, 0.212903, 122, 0.787097, 0.031132, 0.065768, 61], [\"v54\", \"(0.411, 0.44]\", 0.040088, 0.204582, 0.002178, 148, 0.050772, 61, 0.412162, 87, 0.587838, 0.057547, 0.0469, 62], [\"v54\", \"(0.44, 0.574]\", 0.040088, -0.139351, 0.005052, 774, 0.265523, 257, 0.332041, 517, 0.667959, 0.242453, 0.278706, 63], [\"v54\", \"(0.574, inf]\", 0.040088, 0.116908, 0.006948, 1460, 0.500858, 571, 0.391096, 889, 0.608904, 0.538679, 0.479245, 64], [\"v77\", \"(-inf, -999.0]\", 0.036078, -0.087011, 0.005336, 2080, 0.713551, 715, 0.34375, 1365, 0.65625, 0.674528, 0.735849, 41], [\"v77\", \"(-999.0, 3.5]\", 0.036078, 0.139369, 0.004977, 734, 0.251801, 291, 0.396458, 443, 0.603542, 0.274528, 0.238814, 42], [\"v77\", \"(3.5, 4.5]\", 0.036078, 1.141537, 0.024923, 53, 0.018182, 34, 0.641509, 19, 0.358491, 0.032075, 0.010243, 43], [\"v77\", \"(4.5, inf]\", 0.036078, 0.223144, 0.000842, 48, 0.016467, 20, 0.416667, 28, 0.583333, 0.018868, 0.015094, 44], [\"v53\", \"(-inf, 0.865]\", 0.025218, 0.417441, 0.009677, 155, 0.053173, 72, 0.464516, 83, 0.535484, 0.067925, 0.044744, 23], [\"v53\", \"(0.865, 1.835]\", 0.025218, 0.139188, 0.006791, 1004, 0.344425, 398, 0.396414, 606, 0.603586, 0.375472, 0.326685, 24], [\"v53\", \"(1.835, inf]\", 0.025218, -0.121596, 0.008751, 1756, 0.602401, 590, 0.335991, 1166, 0.664009, 0.556604, 0.628571, 25], [\"v17\", \"(-inf, -999.0]\", 0.024109, -0.050416, 0.000401, 463, 0.158834, 163, 0.352052, 300, 0.647948, 0.153774, 0.161725, 55], [\"v17\", \"(-999.0, 2.5]\", 0.024109, -0.062806, 0.000872, 650, 0.222985, 227, 0.349231, 423, 0.650769, 0.214151, 0.228032, 56], [\"v17\", \"(2.5, 15.5]\", 0.024109, 0.249169, 0.01182, 539, 0.184906, 228, 0.423006, 311, 0.576994, 0.215094, 0.167655, 57], [\"v17\", \"(15.5, 30.5]\", 0.024109, -0.161119, 0.0076, 874, 0.299828, 286, 0.327231, 588, 0.672769, 0.269811, 0.316981, 58], [\"v17\", \"(30.5, inf]\", 0.024109, 0.158433, 0.003416, 389, 0.133448, 156, 0.401028, 233, 0.598972, 0.14717, 0.125606, 59], [\"v58\", \"(-inf, 0.0515]\", 0.024103, 0.194502, 0.003827, 288, 0.098799, 118, 0.409722, 170, 0.590278, 0.111321, 0.091644, 65], [\"v58\", \"(0.0515, 0.0535]\", 0.024103, -0.409785, 0.008615, 160, 0.054889, 44, 0.275, 116, 0.725, 0.041509, 0.062534, 66], [\"v58\", \"(0.0535, 0.0695]\", 0.024103, 0.044717, 0.000362, 524, 0.17976, 196, 0.374046, 328, 0.625954, 0.184906, 0.176819, 67], [\"v58\", \"(0.0695, 0.106]\", 0.024103, -0.111552, 0.005142, 1224, 0.419897, 414, 0.338235, 810, 0.661765, 0.390566, 0.436658, 68], [\"v58\", \"(0.106, inf]\", 0.024103, 0.156468, 0.006158, 719, 0.246655, 288, 0.400556, 431, 0.599444, 0.271698, 0.232345, 69], [\"v11\", \"(-inf, 3.5]\", 0.02184, 0.121231, 0.003251, 635, 0.217839, 249, 0.392126, 386, 0.607874, 0.234906, 0.208086, 0], [\"v11\", \"(3.5, 4.5]\", 0.02184, 0.077033, 0.00298, 1449, 0.497084, 553, 0.381643, 896, 0.618357, 0.521698, 0.483019, 1], [\"v11\", \"(4.5, inf]\", 0.02184, -0.23831, 0.015609, 831, 0.285077, 258, 0.310469, 573, 0.689531, 0.243396, 0.308895, 2], [\"v61\", \"(-inf, 932.0]\", 0.017694, 0.279314, 0.004367, 158, 0.054202, 68, 0.43038, 90, 0.56962, 0.064151, 0.048518, 29], [\"v61\", \"(932.0, 1799.0]\", 0.017694, 0.081126, 0.003674, 1610, 0.552316, 616, 0.382609, 994, 0.617391, 0.581132, 0.535849, 30], [\"v61\", \"(1799.0, inf]\", 0.017694, -0.158483, 0.009654, 1147, 0.393482, 376, 0.327812, 771, 0.672188, 0.354717, 0.415633, 31], [\"v81\", \"(-inf, 3.5]\", 0.015474, 0.058655, 0.000514, 432, 0.148199, 163, 0.377315, 269, 0.622685, 0.153774, 0.145013, 49], [\"v81\", \"(3.5, 9.5]\", 0.015474, 0.042021, 0.001297, 2129, 0.73036, 795, 0.373415, 1334, 0.626585, 0.75, 0.719137, 50], [\"v81\", \"(9.5, inf]\", 0.015474, -0.34484, 0.013663, 354, 0.121441, 102, 0.288136, 252, 0.711864, 0.096226, 0.135849, 51], [\"v59\", \"(-inf, 17.5]\", 0.013787, 0.303186, 0.009725, 298, 0.10223, 130, 0.436242, 168, 0.563758, 0.122642, 0.090566, 26], [\"v59\", \"(17.5, 35.5]\", 0.013787, 0.075617, 0.00106, 535, 0.183533, 204, 0.381308, 331, 0.618692, 0.192453, 0.178437, 27], [\"v59\", \"(35.5, inf]\", 0.013787, -0.065129, 0.003002, 2082, 0.714237, 726, 0.348703, 1356, 0.651297, 0.684906, 0.730997, 28], [\"v25\", \"(-inf, 69.5]\", 0.010289, 0.094923, 0.004785, 1529, 0.524528, 590, 0.385873, 939, 0.614127, 0.556604, 0.506199, 12], [\"v25\", \"(69.5, 87.5]\", 0.010289, -0.095866, 0.002339, 752, 0.257976, 257, 0.341755, 495, 0.658245, 0.242453, 0.266846, 13], [\"v25\", \"(87.5, inf]\", 0.010289, -0.121725, 0.003166, 634, 0.217496, 213, 0.335962, 421, 0.664038, 0.200943, 0.226954, 14], [\"v71\", \"(-inf, 17.5]\", 0.007261, 0.106636, 0.002788, 705, 0.241852, 274, 0.388652, 431, 0.611348, 0.258491, 0.232345, 35], [\"v71\", \"(17.5, 38.5]\", 0.007261, 0.031793, 0.000394, 1132, 0.388336, 420, 0.371025, 712, 0.628975, 0.396226, 0.383827, 36], [\"v71\", \"(38.5, inf]\", 0.007261, -0.105829, 0.004079, 1078, 0.369811, 366, 0.339518, 712, 0.660482, 0.345283, 0.383827, 37], [\"v78\", \"(-inf, -999.0]\", 0.005203, -0.09082, 0.002338, 837, 0.287136, 287, 0.342891, 550, 0.657109, 0.270755, 0.296496, 45], [\"v78\", \"(-999.0, 3.5]\", 0.005203, 0.022982, 0.000226, 1244, 0.426758, 459, 0.368971, 785, 0.631029, 0.433019, 0.423181, 46], [\"v78\", \"(3.5, 10.5]\", 0.005203, 0.018307, 7.9e-05, 685, 0.234991, 252, 0.367883, 433, 0.632117, 0.237736, 0.233423, 47], [\"v78\", \"(10.5, inf]\", 0.005203, 0.220842, 0.00256, 149, 0.051115, 62, 0.416107, 87, 0.583893, 0.058491, 0.0469, 48], [\"v31\", \"(-inf, 28.5]\", 0.002363, -0.195407, 0.00187, 147, 0.050429, 47, 0.319728, 100, 0.680272, 0.04434, 0.053908, 15], [\"v31\", \"(28.5, 983.5]\", 0.002363, 0.001968, 3e-06, 2395, 0.821612, 872, 0.364092, 1523, 0.635908, 0.822642, 0.821024, 16], [\"v31\", \"(983.5, inf]\", 0.002363, 0.061638, 0.00049, 373, 0.127959, 141, 0.378016, 232, 0.621984, 0.133019, 0.125067, 17]]};\n",
       "        dt_args = eval_functions(dt_args);\n",
       "        table = $('#911c8fcd-80b0-4901-917d-1ede17a838c7').DataTable(dt_args);\n",
       "    });\n",
       "})\n",
       "</script>\n",
       "</div>\n"
      ],
      "text/plain": [
       "<IPython.core.display.HTML object>"
      ]
     },
     "metadata": {},
     "output_type": "display_data"
    }
   ],
   "source": [
    "# 自动调整单调分箱\n",
    "\n",
    "#不需要调整分箱都变量筛选,筛选出需要调整分箱都变量\n",
    "not_adjust_var=[\"v17\",'v54', 'v58', 'v67',]\n",
    "all_car=list(trim_var_dict.keys())\n",
    "# print(all_car)\n",
    "for i in not_adjust_var:\n",
    "    all_car.remove(i)\n",
    "\n",
    "need_adjust_var=all_car\n",
    "\n",
    "\n",
    "trim_bin_list=[]\n",
    "for col in need_adjust_var:\n",
    "    bin_cut = trim_var_dict[col]\n",
    "    df_bin = [x for x in bin_df_list if x.index.name==col][0]\n",
    "    if nan_value in bin_cut: # 当cut里有缺失映射值时，说明是把缺失单独分为一箱的，后续在进行调成单调分箱时\n",
    "    # 不考虑缺失的箱，故将缺失映射值剔除\n",
    "        woe_list = df_bin['woe'].tolist()[1:]\n",
    "    else:\n",
    "        woe_list = df_bin['woe'].tolist() \n",
    "#     print(\"\\033[1;31m------------------\\033[0m\")\n",
    "#     print(col,bin_cut)\n",
    "#     print(col,woe_list)\n",
    "    if not self_f_2.judge_decreasing(woe_list) and not self_f_2.judge_increasing(woe_list): \n",
    "#         print(col)\n",
    "        monot_cut,woe_lst_new = self_f_2.monot_trim(train, col, target, nan_value=nan_value, cut=bin_cut)\n",
    "#         print(monot_cut)\n",
    "#         print(woe_lst_new)\n",
    "        monot_bin_df = self_f_2.binning_trim(train, col, target, cut=monot_cut, right_border=True)\n",
    "        trim_bin_list.append(monot_bin_df)\n",
    "    else:\n",
    "        trim_bin_list.append(df_bin)\n",
    "\n",
    "#添加不需要调整分箱都变量的分箱信息\n",
    "for col in not_adjust_var:\n",
    "    bin_cut = trim_var_dict[col]\n",
    "    df_bin = [x for x in bin_df_list if x.index.name==col][0]\n",
    "    trim_bin_list.append(df_bin) \n",
    "\n",
    "col_not_dandiao_list=[]    \n",
    "for col in need_adjust_var:\n",
    "    bin_cut = trim_var_dict[col]\n",
    "    df_bin_after_adjust = [x for x in trim_bin_list if x.index.name==col][0]\n",
    "    if nan_value in bin_cut: # 当cut里有缺失映射值时，说明是把缺失单独分为一箱的，后续在进行调成单调分箱时\n",
    "    # 不考虑缺失的箱，故将缺失映射值剔除\n",
    "        woe_list = df_bin_after_adjust['woe'].tolist()[1:]\n",
    "    else:\n",
    "        woe_list = df_bin_after_adjust['woe'].tolist() \n",
    "\n",
    "    if not self_f_2.judge_decreasing(woe_list) and not self_f_2.judge_increasing(woe_list):\n",
    "        col_not_dandiao_list.append(col)\n",
    "\n",
    "trim_bin_list_copy=trim_bin_list.copy()\n",
    "auto_adjust_iv_df=self_f_2.iv_transform_df(trim_bin_list_copy)        \n",
    "        \n",
    "print(\"\\033[1;31m不单调也无需调整分箱的变量\\033[0m\",not_adjust_var)\n",
    "print(\"\\033[1;31m调整后_仍然不单调的变量\\033[0m\",col_not_dandiao_list)\n",
    "print(\"\\033[1;31m自动调整分箱后woe情况\\033[0m\")\n",
    "show(auto_adjust_iv_df)"
   ]
  },
  {
   "cell_type": "markdown",
   "metadata": {},
   "source": [
    "#### 针对自动调整分箱未单调变量_手动调整分箱"
   ]
  },
  {
   "cell_type": "code",
   "execution_count": 19,
   "metadata": {},
   "outputs": [
    {
     "name": "stdout",
     "output_type": "stream",
     "text": [
      "\u001b[1;31m人工手动调整后整体woe情况\u001b[0m\n"
     ]
    },
    {
     "data": {
      "text/html": [
       "<div><table id=\"91766b29-fea4-4a4a-aad6-f6aa8b4a8fe3\" class=\"display nowrap\"><thead>\n",
       "    <tr style=\"text-align: right;\">\n",
       "      <th></th>\n",
       "      <th>col</th>\n",
       "      <th>bins</th>\n",
       "      <th>IV</th>\n",
       "      <th>woe</th>\n",
       "      <th>bin_iv</th>\n",
       "      <th>total</th>\n",
       "      <th>totalrate</th>\n",
       "      <th>bad</th>\n",
       "      <th>badrate</th>\n",
       "      <th>good</th>\n",
       "      <th>goodrate</th>\n",
       "      <th>badattr</th>\n",
       "      <th>goodattr</th>\n",
       "      <th>fuzhu</th>\n",
       "    </tr>\n",
       "  </thead></table>\n",
       "<script type=\"text/javascript\">\n",
       "require([\"datatables\"], function (datatables) {\n",
       "    $(document).ready(function () {        \n",
       "        var dt_args = {\"columnDefs\": [{\"width\": \"150px\", \"targets\": \"_all\"}], \"lengthMenu\": [10, 10, 100, 200, 500, 1000, 2000, 5000], \"paging\": false, \"data\": [[0, \"v77\", \"(-inf, -999.0]\", 0.028198, -0.087011, 0.005336, 2080, 0.713551, 715, 0.34375, 1365, 0.65625, 0.674528, 0.735849, 0], [1, \"v77\", \"(-999.0, 3.5]\", 0.028198, 0.139369, 0.004977, 734, 0.251801, 291, 0.396458, 443, 0.603542, 0.274528, 0.238814, 1], [2, \"v77\", \"(3.5, inf]\", 0.028198, 0.698452, 0.017885, 101, 0.034648, 54, 0.534653, 47, 0.465347, 0.050943, 0.025337, 2], [3, \"v78\", \"(-inf, -999.0]\", 0.026131, -0.09082, 0.002338, 837, 0.287136, 287, 0.342891, 550, 0.657109, 0.270755, 0.296496, 3], [4, \"v78\", \"(-999.0, 7.5]\", 0.026131, -0.041986, 0.001058, 1760, 0.603774, 623, 0.353977, 1137, 0.646023, 0.587736, 0.612938, 4], [5, \"v78\", \"(7.5, inf]\", 0.026131, 0.446287, 0.022735, 318, 0.109091, 150, 0.471698, 168, 0.528302, 0.141509, 0.090566, 5]]};\n",
       "        dt_args = eval_functions(dt_args);\n",
       "        table = $('#91766b29-fea4-4a4a-aad6-f6aa8b4a8fe3').DataTable(dt_args);\n",
       "    });\n",
       "})\n",
       "</script>\n",
       "</div>\n"
      ],
      "text/plain": [
       "<IPython.core.display.HTML object>"
      ]
     },
     "metadata": {},
     "output_type": "display_data"
    }
   ],
   "source": [
    "#删除自动调整后不单调变量\n",
    "col_rengong_tiaozheng_list=['v77', 'v78'] \n",
    "\n",
    "auto_adjust_iv_df=auto_adjust_iv_df[~auto_adjust_iv_df['col'].isin(col_rengong_tiaozheng_list)]\n",
    "# print(\"删除自动调整后不单调变量后剩余的变量\",auto_adjust_iv_df.col.unique())\n",
    "\n",
    "\n",
    "#针对自动调整没有单调的变量，手动调整\n",
    "rengong_adjust_bin_list=[]\n",
    "app_game_action_cnt_bin = self_f_2.binning_trim(train, \"v77\", target, \n",
    "                                                cut=[float('-inf'),-999,3.5,float('inf')], right_border=True)\n",
    "rengong_adjust_bin_list.append(app_game_action_cnt_bin)\n",
    "\n",
    "app_game_cnt_bin = self_f_2.binning_trim(train, \"v78\", target, \n",
    "                                                cut=[float('-inf'),-999,7.5,float('inf')], right_border=True)\n",
    "rengong_adjust_bin_list.append(app_game_cnt_bin)\n",
    "\n",
    "\n",
    "rengong_adjust_iv_df=self_f_2.iv_transform_df(rengong_adjust_bin_list)  \n",
    "\n",
    "\n",
    "#添加人工调整分箱的变量\n",
    "\n",
    "adjust_iv_df_all=pd.concat([rengong_adjust_iv_df,auto_adjust_iv_df])\n",
    "\n",
    "adjust_iv_df_all_rengong=adjust_iv_df_all[adjust_iv_df_all[\"col\"].isin(col_rengong_tiaozheng_list)]\n",
    "print(\"\\033[1;31m人工手动调整后整体woe情况\\033[0m\")\n",
    "show(adjust_iv_df_all_rengong)"
   ]
  },
  {
   "cell_type": "markdown",
   "metadata": {},
   "source": [
    "#### 调整后的分箱再使用iv筛选一轮"
   ]
  },
  {
   "cell_type": "code",
   "execution_count": 20,
   "metadata": {},
   "outputs": [
    {
     "name": "stdout",
     "output_type": "stream",
     "text": [
      "\u001b[1;31m调整分箱后筛选的变量 \u001b[0m ['v77' 'v78' 'v36' 'v67' 'v62' 'v22' 'v72' 'v88' 'v14' 'v54' 'v53' 'v17'\n",
      " 'v58' 'v11']\n"
     ]
    }
   ],
   "source": [
    "##### 调整后的分箱再根据iv筛选一遍\n",
    "\n",
    "adjust_iv_df_all=adjust_iv_df_all[adjust_iv_df_all[\"IV\"]>0.02]\n",
    "# show(adjust_iv_df_all)\n",
    "\n",
    "# select_num_df = []\n",
    "# select_num_var=[]\n",
    "# for dd in trim_bin_list:\n",
    "# # for dd in bin_df_list:\n",
    "#     if dd.IV.iloc[0]>=0.02 and dd.index.name in vif_select_col:\n",
    "#         select_num_df.append(dd)\n",
    "#         select_num_var.append(dd.index.name)\n",
    "\n",
    "after_adjust_var=adjust_iv_df_all.col.unique()\n",
    "print('\\033[1;31m调整分箱后筛选的变量 \\033[0m',after_adjust_var)"
   ]
  },
  {
   "cell_type": "code",
   "execution_count": 21,
   "metadata": {},
   "outputs": [
    {
     "name": "stdout",
     "output_type": "stream",
     "text": [
      "\u001b[1;31m连续型变量分箱调整后分箱和woe情况 \u001b[0m\n"
     ]
    },
    {
     "data": {
      "text/html": [
       "<div><table id=\"971cc8da-d407-43b5-9386-bec2e98fdb22\" class=\"display nowrap\"><thead>\n",
       "    <tr style=\"text-align: right;\">\n",
       "      <th></th>\n",
       "      <th>col</th>\n",
       "      <th>bins</th>\n",
       "      <th>IV</th>\n",
       "      <th>woe</th>\n",
       "      <th>bin_iv</th>\n",
       "      <th>total</th>\n",
       "      <th>totalrate</th>\n",
       "      <th>bad</th>\n",
       "      <th>badrate</th>\n",
       "      <th>good</th>\n",
       "      <th>goodrate</th>\n",
       "      <th>badattr</th>\n",
       "      <th>goodattr</th>\n",
       "      <th>fuzhu</th>\n",
       "      <th>min_bin</th>\n",
       "      <th>max_bin</th>\n",
       "    </tr>\n",
       "  </thead></table>\n",
       "<script type=\"text/javascript\">\n",
       "require([\"datatables\"], function (datatables) {\n",
       "    $(document).ready(function () {        \n",
       "        var dt_args = {\"columnDefs\": [{\"width\": \"150px\", \"targets\": \"_all\"}], \"lengthMenu\": [10, 10, 100, 200, 500, 1000, 2000, 5000], \"data\": [[0, \"v77\", \"(-inf, -999.0]\", 0.028198, -0.087011, 0.005336, 2080, 0.713551, 715, 0.34375, 1365, 0.65625, 0.674528, 0.735849, 0, -Infinity, -999.0], [1, \"v77\", \"(-999.0, 3.5]\", 0.028198, 0.139369, 0.004977, 734, 0.251801, 291, 0.396458, 443, 0.603542, 0.274528, 0.238814, 1, -999.0, 3.5], [2, \"v77\", \"(3.5, inf]\", 0.028198, 0.698452, 0.017885, 101, 0.034648, 54, 0.534653, 47, 0.465347, 0.050943, 0.025337, 2, 3.5, Infinity], [3, \"v78\", \"(-inf, -999.0]\", 0.026131, -0.09082, 0.002338, 837, 0.287136, 287, 0.342891, 550, 0.657109, 0.270755, 0.296496, 3, -Infinity, -999.0], [4, \"v78\", \"(-999.0, 7.5]\", 0.026131, -0.041986, 0.001058, 1760, 0.603774, 623, 0.353977, 1137, 0.646023, 0.587736, 0.612938, 4, -999.0, 7.5], [5, \"v78\", \"(7.5, inf]\", 0.026131, 0.446287, 0.022735, 318, 0.109091, 150, 0.471698, 168, 0.528302, 0.141509, 0.090566, 5, 7.5, Infinity], [0, \"v36\", \"(-inf, 0.5]\", 0.345731, 0.541994, 0.14441, 1362, 0.467238, 675, 0.495595, 687, 0.504405, 0.636792, 0.37035, 18, -Infinity, 0.5], [1, \"v36\", \"(0.5, 1.5]\", 0.345731, 0.010718, 7e-06, 183, 0.062779, 67, 0.36612, 116, 0.63388, 0.063208, 0.062534, 19, 0.5, 1.5], [2, \"v36\", \"(1.5, 2.5]\", 0.345731, -0.275182, 0.003783, 152, 0.052144, 46, 0.302632, 106, 0.697368, 0.043396, 0.057143, 20, 1.5, 2.5], [3, \"v36\", \"(2.5, 16.5]\", 0.345731, -0.606238, 0.121084, 1069, 0.366724, 254, 0.237605, 815, 0.762395, 0.239623, 0.439353, 21, 2.5, 16.5], [4, \"v36\", \"(16.5, inf]\", 0.345731, -1.42521, 0.076447, 149, 0.051115, 18, 0.120805, 131, 0.879195, 0.016981, 0.07062, 22, 16.5, Infinity], [5, \"v67\", \"(-inf, -999.0]\", 0.236706, 0.454559, 0.103225, 1391, 0.477187, 659, 0.47376, 732, 0.52624, 0.621698, 0.394609, 70, -Infinity, -999.0], [6, \"v67\", \"(-999.0, 0.215]\", 0.236706, -0.144705, 0.001892, 269, 0.092281, 89, 0.330855, 180, 0.669145, 0.083962, 0.097035, 71, -999.0, 0.215], [7, \"v67\", \"(0.215, 0.315]\", 0.236706, -1.00436, 0.044262, 156, 0.053516, 27, 0.173077, 129, 0.826923, 0.025472, 0.069542, 72, 0.215, 0.315], [8, \"v67\", \"(0.315, 0.415]\", 0.236706, -0.253333, 0.00379, 179, 0.061407, 55, 0.307263, 124, 0.692737, 0.051887, 0.066846, 73, 0.315, 0.415], [9, \"v67\", \"(0.415, inf]\", 0.236706, -0.538997, 0.083537, 920, 0.315609, 230, 0.25, 690, 0.75, 0.216981, 0.371968, 74, 0.415, Infinity], [10, \"v62\", \"(-inf, -999.0]\", 0.221768, 0.454559, 0.103225, 1391, 0.477187, 659, 0.47376, 732, 0.52624, 0.621698, 0.394609, 32, -Infinity, -999.0], [11, \"v62\", \"(-999.0, 7334.175]\", 0.221768, -0.508816, 0.117809, 1447, 0.496398, 370, 0.255701, 1077, 0.744299, 0.349057, 0.580593, 33, -999.0, 7334.175], [12, \"v62\", \"(7334.175, inf]\", 0.221768, 0.164962, 0.000734, 77, 0.026415, 31, 0.402597, 46, 0.597403, 0.029245, 0.024798, 34, 7334.175, Infinity], [13, \"v22\", \"(-inf, 25.5]\", 0.09681, 0.55544, 0.053373, 479, 0.164322, 239, 0.498956, 240, 0.501044, 0.225472, 0.12938, 8, -Infinity, 25.5], [14, \"v22\", \"(25.5, 36.5]\", 0.09681, 0.038027, 0.000717, 1439, 0.493654, 536, 0.372481, 903, 0.627519, 0.50566, 0.486792, 9, 25.5, 36.5], [15, \"v22\", \"(36.5, 38.5]\", 0.09681, -0.209904, 0.002914, 199, 0.068268, 63, 0.316583, 136, 0.683417, 0.059434, 0.073315, 10, 36.5, 38.5], [16, \"v22\", \"(38.5, inf]\", 0.09681, -0.393814, 0.039806, 798, 0.273756, 222, 0.278195, 576, 0.721805, 0.209434, 0.310512, 11, 38.5, Infinity], [17, \"v72\", \"(-inf, 3.5]\", 0.064463, 0.406342, 0.041729, 706, 0.242196, 326, 0.461756, 380, 0.538244, 0.307547, 0.204852, 38, -Infinity, 3.5], [18, \"v72\", \"(3.5, 5.5]\", 0.064463, 0.026261, 0.000152, 641, 0.219897, 237, 0.369735, 404, 0.630265, 0.223585, 0.21779, 39, 3.5, 5.5], [19, \"v72\", \"(5.5, inf]\", 0.064463, -0.208142, 0.022581, 1568, 0.537907, 497, 0.316964, 1071, 0.683036, 0.468868, 0.577358, 40, 5.5, Infinity], [20, \"v88\", \"(-inf, 0.055]\", 0.051962, 0.336472, 0.025031, 621, 0.213036, 276, 0.444444, 345, 0.555556, 0.260377, 0.185984, 52, -Infinity, 0.055], [21, \"v88\", \"(0.055, 0.085]\", 0.051962, 0.120105, 0.00395, 786, 0.26964, 308, 0.391858, 478, 0.608142, 0.290566, 0.257682, 53, 0.055, 0.085], [22, \"v88\", \"(0.085, inf]\", 0.051962, -0.21422, 0.022981, 1508, 0.517324, 476, 0.31565, 1032, 0.68435, 0.449057, 0.556334, 54, 0.085, Infinity], [23, \"v14\", \"(-inf, 1.5]\", 0.046828, 0.282863, 0.004536, 160, 0.054889, 69, 0.43125, 91, 0.56875, 0.065094, 0.049057, 3, -Infinity, 1.5], [24, \"v14\", \"(1.5, 2.5]\", 0.046828, 0.073182, 0.001213, 654, 0.224357, 249, 0.380734, 405, 0.619266, 0.234906, 0.218329, 4, 1.5, 2.5], [25, \"v14\", \"(2.5, 4.5]\", 0.046828, 0.043982, 0.001037, 1554, 0.533105, 581, 0.373874, 973, 0.626126, 0.548113, 0.524528, 5, 2.5, 4.5], [26, \"v14\", \"(4.5, 5.5]\", 0.046828, -0.041724, 0.000191, 322, 0.110463, 114, 0.354037, 208, 0.645963, 0.107547, 0.112129, 6, 4.5, 5.5], [27, \"v14\", \"(5.5, inf]\", 0.046828, -0.77202, 0.03985, 225, 0.077187, 47, 0.208889, 178, 0.791111, 0.04434, 0.095957, 7, 5.5, Infinity], [28, \"v54\", \"(-inf, 0.375]\", 0.040088, 0.006231, 5e-06, 378, 0.129674, 138, 0.365079, 240, 0.634921, 0.130189, 0.12938, 60, -Infinity, 0.375], [29, \"v54\", \"(0.375, 0.411]\", 0.040088, -0.747898, 0.025904, 155, 0.053173, 33, 0.212903, 122, 0.787097, 0.031132, 0.065768, 61, 0.375, 0.411], [30, \"v54\", \"(0.411, 0.44]\", 0.040088, 0.204582, 0.002178, 148, 0.050772, 61, 0.412162, 87, 0.587838, 0.057547, 0.0469, 62, 0.411, 0.44], [31, \"v54\", \"(0.44, 0.574]\", 0.040088, -0.139351, 0.005052, 774, 0.265523, 257, 0.332041, 517, 0.667959, 0.242453, 0.278706, 63, 0.44, 0.574], [32, \"v54\", \"(0.574, inf]\", 0.040088, 0.116908, 0.006948, 1460, 0.500858, 571, 0.391096, 889, 0.608904, 0.538679, 0.479245, 64, 0.574, Infinity], [37, \"v53\", \"(-inf, 0.865]\", 0.025218, 0.417441, 0.009677, 155, 0.053173, 72, 0.464516, 83, 0.535484, 0.067925, 0.044744, 23, -Infinity, 0.865], [38, \"v53\", \"(0.865, 1.835]\", 0.025218, 0.139188, 0.006791, 1004, 0.344425, 398, 0.396414, 606, 0.603586, 0.375472, 0.326685, 24, 0.865, 1.835], [39, \"v53\", \"(1.835, inf]\", 0.025218, -0.121596, 0.008751, 1756, 0.602401, 590, 0.335991, 1166, 0.664009, 0.556604, 0.628571, 25, 1.835, Infinity], [40, \"v17\", \"(-inf, -999.0]\", 0.024109, -0.050416, 0.000401, 463, 0.158834, 163, 0.352052, 300, 0.647948, 0.153774, 0.161725, 55, -Infinity, -999.0], [41, \"v17\", \"(-999.0, 2.5]\", 0.024109, -0.062806, 0.000872, 650, 0.222985, 227, 0.349231, 423, 0.650769, 0.214151, 0.228032, 56, -999.0, 2.5], [42, \"v17\", \"(2.5, 15.5]\", 0.024109, 0.249169, 0.01182, 539, 0.184906, 228, 0.423006, 311, 0.576994, 0.215094, 0.167655, 57, 2.5, 15.5], [43, \"v17\", \"(15.5, 30.5]\", 0.024109, -0.161119, 0.0076, 874, 0.299828, 286, 0.327231, 588, 0.672769, 0.269811, 0.316981, 58, 15.5, 30.5], [44, \"v17\", \"(30.5, inf]\", 0.024109, 0.158433, 0.003416, 389, 0.133448, 156, 0.401028, 233, 0.598972, 0.14717, 0.125606, 59, 30.5, Infinity], [45, \"v58\", \"(-inf, 0.0515]\", 0.024103, 0.194502, 0.003827, 288, 0.098799, 118, 0.409722, 170, 0.590278, 0.111321, 0.091644, 65, -Infinity, 0.0515], [46, \"v58\", \"(0.0515, 0.0535]\", 0.024103, -0.409785, 0.008615, 160, 0.054889, 44, 0.275, 116, 0.725, 0.041509, 0.062534, 66, 0.0515, 0.0535], [47, \"v58\", \"(0.0535, 0.0695]\", 0.024103, 0.044717, 0.000362, 524, 0.17976, 196, 0.374046, 328, 0.625954, 0.184906, 0.176819, 67, 0.0535, 0.0695], [48, \"v58\", \"(0.0695, 0.106]\", 0.024103, -0.111552, 0.005142, 1224, 0.419897, 414, 0.338235, 810, 0.661765, 0.390566, 0.436658, 68, 0.0695, 0.106], [49, \"v58\", \"(0.106, inf]\", 0.024103, 0.156468, 0.006158, 719, 0.246655, 288, 0.400556, 431, 0.599444, 0.271698, 0.232345, 69, 0.106, Infinity], [50, \"v11\", \"(-inf, 3.5]\", 0.02184, 0.121231, 0.003251, 635, 0.217839, 249, 0.392126, 386, 0.607874, 0.234906, 0.208086, 0, -Infinity, 3.5], [51, \"v11\", \"(3.5, 4.5]\", 0.02184, 0.077033, 0.00298, 1449, 0.497084, 553, 0.381643, 896, 0.618357, 0.521698, 0.483019, 1, 3.5, 4.5], [52, \"v11\", \"(4.5, inf]\", 0.02184, -0.23831, 0.015609, 831, 0.285077, 258, 0.310469, 573, 0.689531, 0.243396, 0.308895, 2, 4.5, Infinity]]};\n",
       "        dt_args = eval_functions(dt_args);\n",
       "        table = $('#971cc8da-d407-43b5-9386-bec2e98fdb22').DataTable(dt_args);\n",
       "    });\n",
       "})\n",
       "</script>\n",
       "</div>\n"
      ],
      "text/plain": [
       "<IPython.core.display.HTML object>"
      ]
     },
     "metadata": {},
     "output_type": "display_data"
    }
   ],
   "source": [
    "# 连续型特征的woe映射集合表\n",
    "# woe_map_num = self_f_2.get_map_df(select_num_df)\n",
    "woe_map_num=adjust_iv_df_all.copy()\n",
    "woe_map_num['bins'] = woe_map_num['bins'].map(lambda x:str(x))\n",
    "woe_map_num['min_bin'] = woe_map_num['bins'].map(lambda x:x.split(',')[0][1:])\n",
    "woe_map_num.to_excel(\"woe_map_num.xlsx\")\n",
    "woe_map_num['max_bin'] = woe_map_num['bins'].map(lambda x:x.split(',')[1][:-1])\n",
    "# show(woe_map_num)\n",
    "woe_map_num['min_bin'] = woe_map_num['min_bin'].map(lambda x:float(x))\n",
    "woe_map_num['max_bin'] = woe_map_num['max_bin'].map(lambda x:float(x))\n",
    "\n",
    "print(\"\\033[1;31m连续型变量分箱调整后分箱和woe情况 \\033[0m\")\n",
    "show(woe_map_num)\n",
    "# print(woe_map_num.columns)"
   ]
  },
  {
   "cell_type": "code",
   "execution_count": 22,
   "metadata": {},
   "outputs": [
    {
     "name": "stdout",
     "output_type": "stream",
     "text": [
      "\u001b[1;31miv筛选后的离散型变量 \u001b[0m ['v65', 'v23', 'v64', 'v9']\n",
      "\u001b[1;31m连续和离散型变量分箱调整后分箱和woe情况 \u001b[0m\n"
     ]
    },
    {
     "data": {
      "text/html": [
       "<div><table id=\"6bff320b-eb1e-459a-9612-5fc5eb7bce71\" class=\"display nowrap\"><thead>\n",
       "    <tr style=\"text-align: right;\">\n",
       "      \n",
       "      <th>col</th>\n",
       "      <th>bins</th>\n",
       "      <th>IV</th>\n",
       "      <th>woe</th>\n",
       "      <th>bin_iv</th>\n",
       "      <th>total</th>\n",
       "      <th>totalrate</th>\n",
       "      <th>bad</th>\n",
       "      <th>badrate</th>\n",
       "      <th>good</th>\n",
       "      <th>goodrate</th>\n",
       "      <th>badattr</th>\n",
       "      <th>goodattr</th>\n",
       "      <th>fuzhu</th>\n",
       "      <th>min_bin</th>\n",
       "      <th>max_bin</th>\n",
       "    </tr>\n",
       "  </thead></table>\n",
       "<script type=\"text/javascript\">\n",
       "require([\"datatables\"], function (datatables) {\n",
       "    $(document).ready(function () {        \n",
       "        var dt_args = {\"columnDefs\": [{\"width\": \"150px\", \"targets\": \"_all\"}], \"lengthMenu\": [10, 10, 100, 200, 500, 1000, 2000, 5000], \"data\": [[\"v65\", \"-999.0\", 0.249928, 0.454559, 0.103225, 1391, 0.477187, 659, 0.47376, 732, 0.52624, 0.621698, 0.394609, 11, -999.0, -999.0], [\"v65\", \"0.0\", 0.249928, -0.054019, 0.000444, 447, 0.153345, 157, 0.35123, 290, 0.64877, 0.148113, 0.156334, 12, 0.0, 0.0], [\"v65\", \"1.0\", 0.249928, -0.66825, 0.146258, 1077, 0.369468, 244, 0.226555, 833, 0.773445, 0.230189, 0.449057, 13, 1.0, 1.0], [\"v23\", \"-999.0\", 0.222902, -0.207639, 0.001175, 82, 0.02813, 26, 0.317073, 56, 0.682927, 0.024528, 0.030189, 5, -999.0, -999.0], [\"v23\", \"0.0\", 0.222902, 0.493893, 0.114953, 1309, 0.449057, 633, 0.483575, 676, 0.516425, 0.59717, 0.36442, 6, 0.0, 0.0], [\"v23\", \"1.0\", 0.222902, -0.470182, 0.106773, 1524, 0.522813, 401, 0.263123, 1123, 0.736877, 0.378302, 0.605391, 7, 1.0, 1.0], [\"v64\", \"-999.0\", 0.21, 0.454559, 0.103225, 1391, 0.477187, 659, 0.47376, 732, 0.52624, 0.621698, 0.394609, 8, -999.0, -999.0], [\"v64\", \"0.0\", 0.21, -0.471528, 0.075305, 1069, 0.366724, 281, 0.262862, 788, 0.737138, 0.265094, 0.424798, 9, 0.0, 0.0], [\"v64\", \"1.0\", 0.21, -0.467023, 0.031471, 455, 0.156089, 120, 0.263736, 335, 0.736264, 0.113208, 0.180593, 10, 1.0, 1.0], [\"v9\", \"0.0\", 0.023648, 0.118305, 0.005118, 1050, 0.360206, 411, 0.391429, 639, 0.608571, 0.387736, 0.344474, 0, 0.0, 0.0], [\"v9\", \"1.0\", 0.023648, 0.076904, 0.001627, 794, 0.272384, 303, 0.381612, 491, 0.618388, 0.285849, 0.26469, 1, 1.0, 1.0], [\"v9\", \"2.0\", 0.023648, -0.114839, 0.003204, 720, 0.246998, 243, 0.3375, 477, 0.6625, 0.229245, 0.257143, 2, 2.0, 2.0], [\"v9\", \"3.0\", 0.023648, -0.263585, 0.006749, 295, 0.101201, 90, 0.305085, 205, 0.694915, 0.084906, 0.110512, 3, 3.0, 3.0], [\"v9\", \"4.0\", 0.023648, -0.636635, 0.00695, 56, 0.019211, 13, 0.232143, 43, 0.767857, 0.012264, 0.023181, 4, 4.0, 4.0], [\"v77\", \"(-inf, -999.0]\", 0.028198, -0.087011, 0.005336, 2080, 0.713551, 715, 0.34375, 1365, 0.65625, 0.674528, 0.735849, 0, -Infinity, -999.0], [\"v77\", \"(-999.0, 3.5]\", 0.028198, 0.139369, 0.004977, 734, 0.251801, 291, 0.396458, 443, 0.603542, 0.274528, 0.238814, 1, -999.0, 3.5], [\"v77\", \"(3.5, inf]\", 0.028198, 0.698452, 0.017885, 101, 0.034648, 54, 0.534653, 47, 0.465347, 0.050943, 0.025337, 2, 3.5, Infinity], [\"v78\", \"(-inf, -999.0]\", 0.026131, -0.09082, 0.002338, 837, 0.287136, 287, 0.342891, 550, 0.657109, 0.270755, 0.296496, 3, -Infinity, -999.0], [\"v78\", \"(-999.0, 7.5]\", 0.026131, -0.041986, 0.001058, 1760, 0.603774, 623, 0.353977, 1137, 0.646023, 0.587736, 0.612938, 4, -999.0, 7.5], [\"v78\", \"(7.5, inf]\", 0.026131, 0.446287, 0.022735, 318, 0.109091, 150, 0.471698, 168, 0.528302, 0.141509, 0.090566, 5, 7.5, Infinity], [\"v36\", \"(-inf, 0.5]\", 0.345731, 0.541994, 0.14441, 1362, 0.467238, 675, 0.495595, 687, 0.504405, 0.636792, 0.37035, 18, -Infinity, 0.5], [\"v36\", \"(0.5, 1.5]\", 0.345731, 0.010718, 7e-06, 183, 0.062779, 67, 0.36612, 116, 0.63388, 0.063208, 0.062534, 19, 0.5, 1.5], [\"v36\", \"(1.5, 2.5]\", 0.345731, -0.275182, 0.003783, 152, 0.052144, 46, 0.302632, 106, 0.697368, 0.043396, 0.057143, 20, 1.5, 2.5], [\"v36\", \"(2.5, 16.5]\", 0.345731, -0.606238, 0.121084, 1069, 0.366724, 254, 0.237605, 815, 0.762395, 0.239623, 0.439353, 21, 2.5, 16.5], [\"v36\", \"(16.5, inf]\", 0.345731, -1.42521, 0.076447, 149, 0.051115, 18, 0.120805, 131, 0.879195, 0.016981, 0.07062, 22, 16.5, Infinity], [\"v67\", \"(-inf, -999.0]\", 0.236706, 0.454559, 0.103225, 1391, 0.477187, 659, 0.47376, 732, 0.52624, 0.621698, 0.394609, 70, -Infinity, -999.0], [\"v67\", \"(-999.0, 0.215]\", 0.236706, -0.144705, 0.001892, 269, 0.092281, 89, 0.330855, 180, 0.669145, 0.083962, 0.097035, 71, -999.0, 0.215], [\"v67\", \"(0.215, 0.315]\", 0.236706, -1.00436, 0.044262, 156, 0.053516, 27, 0.173077, 129, 0.826923, 0.025472, 0.069542, 72, 0.215, 0.315], [\"v67\", \"(0.315, 0.415]\", 0.236706, -0.253333, 0.00379, 179, 0.061407, 55, 0.307263, 124, 0.692737, 0.051887, 0.066846, 73, 0.315, 0.415], [\"v67\", \"(0.415, inf]\", 0.236706, -0.538997, 0.083537, 920, 0.315609, 230, 0.25, 690, 0.75, 0.216981, 0.371968, 74, 0.415, Infinity], [\"v62\", \"(-inf, -999.0]\", 0.221768, 0.454559, 0.103225, 1391, 0.477187, 659, 0.47376, 732, 0.52624, 0.621698, 0.394609, 32, -Infinity, -999.0], [\"v62\", \"(-999.0, 7334.175]\", 0.221768, -0.508816, 0.117809, 1447, 0.496398, 370, 0.255701, 1077, 0.744299, 0.349057, 0.580593, 33, -999.0, 7334.175], [\"v62\", \"(7334.175, inf]\", 0.221768, 0.164962, 0.000734, 77, 0.026415, 31, 0.402597, 46, 0.597403, 0.029245, 0.024798, 34, 7334.175, Infinity], [\"v22\", \"(-inf, 25.5]\", 0.09681, 0.55544, 0.053373, 479, 0.164322, 239, 0.498956, 240, 0.501044, 0.225472, 0.12938, 8, -Infinity, 25.5], [\"v22\", \"(25.5, 36.5]\", 0.09681, 0.038027, 0.000717, 1439, 0.493654, 536, 0.372481, 903, 0.627519, 0.50566, 0.486792, 9, 25.5, 36.5], [\"v22\", \"(36.5, 38.5]\", 0.09681, -0.209904, 0.002914, 199, 0.068268, 63, 0.316583, 136, 0.683417, 0.059434, 0.073315, 10, 36.5, 38.5], [\"v22\", \"(38.5, inf]\", 0.09681, -0.393814, 0.039806, 798, 0.273756, 222, 0.278195, 576, 0.721805, 0.209434, 0.310512, 11, 38.5, Infinity], [\"v72\", \"(-inf, 3.5]\", 0.064463, 0.406342, 0.041729, 706, 0.242196, 326, 0.461756, 380, 0.538244, 0.307547, 0.204852, 38, -Infinity, 3.5], [\"v72\", \"(3.5, 5.5]\", 0.064463, 0.026261, 0.000152, 641, 0.219897, 237, 0.369735, 404, 0.630265, 0.223585, 0.21779, 39, 3.5, 5.5], [\"v72\", \"(5.5, inf]\", 0.064463, -0.208142, 0.022581, 1568, 0.537907, 497, 0.316964, 1071, 0.683036, 0.468868, 0.577358, 40, 5.5, Infinity], [\"v88\", \"(-inf, 0.055]\", 0.051962, 0.336472, 0.025031, 621, 0.213036, 276, 0.444444, 345, 0.555556, 0.260377, 0.185984, 52, -Infinity, 0.055], [\"v88\", \"(0.055, 0.085]\", 0.051962, 0.120105, 0.00395, 786, 0.26964, 308, 0.391858, 478, 0.608142, 0.290566, 0.257682, 53, 0.055, 0.085], [\"v88\", \"(0.085, inf]\", 0.051962, -0.21422, 0.022981, 1508, 0.517324, 476, 0.31565, 1032, 0.68435, 0.449057, 0.556334, 54, 0.085, Infinity], [\"v14\", \"(-inf, 1.5]\", 0.046828, 0.282863, 0.004536, 160, 0.054889, 69, 0.43125, 91, 0.56875, 0.065094, 0.049057, 3, -Infinity, 1.5], [\"v14\", \"(1.5, 2.5]\", 0.046828, 0.073182, 0.001213, 654, 0.224357, 249, 0.380734, 405, 0.619266, 0.234906, 0.218329, 4, 1.5, 2.5], [\"v14\", \"(2.5, 4.5]\", 0.046828, 0.043982, 0.001037, 1554, 0.533105, 581, 0.373874, 973, 0.626126, 0.548113, 0.524528, 5, 2.5, 4.5], [\"v14\", \"(4.5, 5.5]\", 0.046828, -0.041724, 0.000191, 322, 0.110463, 114, 0.354037, 208, 0.645963, 0.107547, 0.112129, 6, 4.5, 5.5], [\"v14\", \"(5.5, inf]\", 0.046828, -0.77202, 0.03985, 225, 0.077187, 47, 0.208889, 178, 0.791111, 0.04434, 0.095957, 7, 5.5, Infinity], [\"v54\", \"(-inf, 0.375]\", 0.040088, 0.006231, 5e-06, 378, 0.129674, 138, 0.365079, 240, 0.634921, 0.130189, 0.12938, 60, -Infinity, 0.375], [\"v54\", \"(0.375, 0.411]\", 0.040088, -0.747898, 0.025904, 155, 0.053173, 33, 0.212903, 122, 0.787097, 0.031132, 0.065768, 61, 0.375, 0.411], [\"v54\", \"(0.411, 0.44]\", 0.040088, 0.204582, 0.002178, 148, 0.050772, 61, 0.412162, 87, 0.587838, 0.057547, 0.0469, 62, 0.411, 0.44], [\"v54\", \"(0.44, 0.574]\", 0.040088, -0.139351, 0.005052, 774, 0.265523, 257, 0.332041, 517, 0.667959, 0.242453, 0.278706, 63, 0.44, 0.574], [\"v54\", \"(0.574, inf]\", 0.040088, 0.116908, 0.006948, 1460, 0.500858, 571, 0.391096, 889, 0.608904, 0.538679, 0.479245, 64, 0.574, Infinity], [\"v53\", \"(-inf, 0.865]\", 0.025218, 0.417441, 0.009677, 155, 0.053173, 72, 0.464516, 83, 0.535484, 0.067925, 0.044744, 23, -Infinity, 0.865], [\"v53\", \"(0.865, 1.835]\", 0.025218, 0.139188, 0.006791, 1004, 0.344425, 398, 0.396414, 606, 0.603586, 0.375472, 0.326685, 24, 0.865, 1.835], [\"v53\", \"(1.835, inf]\", 0.025218, -0.121596, 0.008751, 1756, 0.602401, 590, 0.335991, 1166, 0.664009, 0.556604, 0.628571, 25, 1.835, Infinity], [\"v17\", \"(-inf, -999.0]\", 0.024109, -0.050416, 0.000401, 463, 0.158834, 163, 0.352052, 300, 0.647948, 0.153774, 0.161725, 55, -Infinity, -999.0], [\"v17\", \"(-999.0, 2.5]\", 0.024109, -0.062806, 0.000872, 650, 0.222985, 227, 0.349231, 423, 0.650769, 0.214151, 0.228032, 56, -999.0, 2.5], [\"v17\", \"(2.5, 15.5]\", 0.024109, 0.249169, 0.01182, 539, 0.184906, 228, 0.423006, 311, 0.576994, 0.215094, 0.167655, 57, 2.5, 15.5], [\"v17\", \"(15.5, 30.5]\", 0.024109, -0.161119, 0.0076, 874, 0.299828, 286, 0.327231, 588, 0.672769, 0.269811, 0.316981, 58, 15.5, 30.5], [\"v17\", \"(30.5, inf]\", 0.024109, 0.158433, 0.003416, 389, 0.133448, 156, 0.401028, 233, 0.598972, 0.14717, 0.125606, 59, 30.5, Infinity], [\"v58\", \"(-inf, 0.0515]\", 0.024103, 0.194502, 0.003827, 288, 0.098799, 118, 0.409722, 170, 0.590278, 0.111321, 0.091644, 65, -Infinity, 0.0515], [\"v58\", \"(0.0515, 0.0535]\", 0.024103, -0.409785, 0.008615, 160, 0.054889, 44, 0.275, 116, 0.725, 0.041509, 0.062534, 66, 0.0515, 0.0535], [\"v58\", \"(0.0535, 0.0695]\", 0.024103, 0.044717, 0.000362, 524, 0.17976, 196, 0.374046, 328, 0.625954, 0.184906, 0.176819, 67, 0.0535, 0.0695], [\"v58\", \"(0.0695, 0.106]\", 0.024103, -0.111552, 0.005142, 1224, 0.419897, 414, 0.338235, 810, 0.661765, 0.390566, 0.436658, 68, 0.0695, 0.106], [\"v58\", \"(0.106, inf]\", 0.024103, 0.156468, 0.006158, 719, 0.246655, 288, 0.400556, 431, 0.599444, 0.271698, 0.232345, 69, 0.106, Infinity], [\"v11\", \"(-inf, 3.5]\", 0.02184, 0.121231, 0.003251, 635, 0.217839, 249, 0.392126, 386, 0.607874, 0.234906, 0.208086, 0, -Infinity, 3.5], [\"v11\", \"(3.5, 4.5]\", 0.02184, 0.077033, 0.00298, 1449, 0.497084, 553, 0.381643, 896, 0.618357, 0.521698, 0.483019, 1, 3.5, 4.5], [\"v11\", \"(4.5, inf]\", 0.02184, -0.23831, 0.015609, 831, 0.285077, 258, 0.310469, 573, 0.689531, 0.243396, 0.308895, 2, 4.5, Infinity]]};\n",
       "        dt_args = eval_functions(dt_args);\n",
       "        table = $('#6bff320b-eb1e-459a-9612-5fc5eb7bce71').DataTable(dt_args);\n",
       "    });\n",
       "})\n",
       "</script>\n",
       "</div>\n"
      ],
      "text/plain": [
       "<IPython.core.display.HTML object>"
      ]
     },
     "metadata": {},
     "output_type": "display_data"
    }
   ],
   "source": [
    "if len(cate_col)>0:\n",
    "#     print(cate_col)\n",
    "    bin_cate_list = [x for x in bin_df_list if x.index.name in cate_col]\n",
    "    select_cate_df=bin_cate_list.copy()\n",
    "    # 剔除woe不单调的离散形特征,正常离散型特征无需管woe是否单调，除非是有等级顺序的离散型特征\n",
    "#     select_cate_df=[]\n",
    "#     for i,dd in enumerate(bin_cate_list):\n",
    "#         woe_lst = dd['woe'].tolist()\n",
    "#         if self_f_2.judge_decreasing(woe_lst) or self_f_2.judge_increasing(woe_lst):\n",
    "#             select_cate_df.append(dd)\n",
    "    # 离散型特征的woe映射集合表\n",
    "    if len(select_cate_df)>0:\n",
    "#         woe_map_cate = self_f_2.get_map_df(select_cate_df)\n",
    "        woe_map_cate=self_f_2.iv_transform_df(select_cate_df)  \n",
    "#         print(woe_map_cate)\n",
    "        woe_map_cate['min_bin'] = list(woe_map_cate['bins'])\n",
    "        woe_map_cate['max_bin'] = list(woe_map_cate['bins'])\n",
    "        woe_map_df = pd.concat([woe_map_cate,woe_map_num],axis=0).reset_index(drop=True)\n",
    "else:\n",
    "    woe_map_df = woe_map_num.reset_index(drop=True)\n",
    "\n",
    "print('\\033[1;31miv筛选后的离散型变量 \\033[0m',cate_col)\n",
    "print(\"\\033[1;31m连续和离散型变量分箱调整后分箱和woe情况 \\033[0m\")\n",
    "show(woe_map_df)"
   ]
  },
  {
   "cell_type": "markdown",
   "metadata": {},
   "source": [
    "### woe编码后相关性&多重共线性筛选"
   ]
  },
  {
   "cell_type": "code",
   "execution_count": 23,
   "metadata": {},
   "outputs": [
    {
     "data": {
      "text/html": [
       "<div><table id=\"895ecc3f-0e48-4e26-97a0-78d6b557389c\" class=\"display nowrap\"><thead>\n",
       "    <tr style=\"text-align: right;\">\n",
       "      <th></th>\n",
       "      <th>v36</th>\n",
       "      <th>v62</th>\n",
       "      <th>v65</th>\n",
       "      <th>v67</th>\n",
       "      <th>v23</th>\n",
       "      <th>v64</th>\n",
       "      <th>v22</th>\n",
       "      <th>v72</th>\n",
       "      <th>v88</th>\n",
       "      <th>v14</th>\n",
       "      <th>v54</th>\n",
       "      <th>v53</th>\n",
       "      <th>v78</th>\n",
       "      <th>v77</th>\n",
       "      <th>v17</th>\n",
       "      <th>v58</th>\n",
       "      <th>v9</th>\n",
       "      <th>v11</th>\n",
       "    </tr>\n",
       "  </thead></table>\n",
       "<script type=\"text/javascript\">\n",
       "require([\"datatables\"], function (datatables) {\n",
       "    $(document).ready(function () {        \n",
       "        var dt_args = {\"columnDefs\": [{\"width\": \"200px\", \"targets\": \"_all\"}], \"lengthMenu\": [10, 10, 100, 200, 500, 1000, 2000, 5000], \"data\": [[\"v36\", 1.0, 0.839839, 0.853582, 0.84574, 0.842172, 0.870043, 0.122835, 0.343978, 0.338565, 0.171068, 0.053039, 0.137154, -0.054696, -0.037763, 0.037032, 0.048122, -0.033248, 0.152345], [\"v62\", 0.839839, 1.0, 0.900392, 0.91274, 0.946001, 0.9746, 0.109988, 0.288334, 0.282969, 0.113615, 0.055091, 0.101378, -0.034071, -0.009635, 0.048533, 0.060555, -0.002492, 0.100648], [\"v65\", 0.853582, 0.900392, 1.0, 0.927183, 0.891907, 0.918312, 0.112606, 0.311573, 0.308924, 0.13596, 0.057579, 0.124627, -0.035362, -0.018699, 0.041494, 0.068037, -0.025413, 0.11546], [\"v67\", 0.84574, 0.91274, 0.927183, 1.0, 0.911669, 0.939037, 0.101856, 0.303889, 0.297831, 0.133001, 0.058546, 0.126792, -0.054737, -0.040737, 0.032169, 0.049705, -0.017563, 0.11011], [\"v23\", 0.842172, 0.946001, 0.891907, 0.911669, 1.0, 0.97067, 0.106519, 0.275676, 0.278554, 0.132645, 0.046067, 0.118668, -0.047604, -0.033236, 0.030801, 0.047372, -0.007316, 0.099901], [\"v64\", 0.870043, 0.9746, 0.918312, 0.939037, 0.97067, 1.0, 0.107955, 0.302919, 0.297951, 0.131532, 0.05225, 0.118576, -0.061594, -0.048947, 0.040007, 0.048364, -0.014681, 0.105868], [\"v22\", 0.122835, 0.109988, 0.112606, 0.101856, 0.106519, 0.107955, 1.0, 0.035131, 0.073615, 0.145704, 0.00978, -0.053724, 0.119132, 0.193895, 0.048107, -0.001357, 0.330695, 0.07423], [\"v72\", 0.343978, 0.288334, 0.311573, 0.303889, 0.275676, 0.302919, 0.035131, 1.0, 0.769997, 0.176118, 0.024175, 0.26256, -0.185306, -0.138608, -0.028386, 0.043731, -0.078934, 0.172353], [\"v88\", 0.338565, 0.282969, 0.308924, 0.297831, 0.278554, 0.297951, 0.073615, 0.769997, 1.0, 0.122946, 0.028846, 0.045972, -0.008315, 0.003595, -0.032264, -0.00253, -0.04148, 0.12083], [\"v14\", 0.171068, 0.113615, 0.13596, 0.133001, 0.132645, 0.131532, 0.145704, 0.176118, 0.122946, 1.0, -0.046072, 0.142602, -0.043344, -0.035811, -0.033241, 0.037055, 0.039025, 0.226467], [\"v54\", 0.053039, 0.055091, 0.057579, 0.058546, 0.046067, 0.05225, 0.00978, 0.024175, 0.028846, -0.046072, 1.0, -0.016246, 0.032115, 0.043329, 0.013406, 0.010238, -0.007317, -0.013706], [\"v53\", 0.137154, 0.101378, 0.124627, 0.126792, 0.118668, 0.118576, -0.053724, 0.26256, 0.045972, 0.142602, -0.016246, 1.0, -0.190956, -0.210436, -0.01422, 0.216649, -0.089011, 0.12741], [\"v78\", -0.054696, -0.034071, -0.035362, -0.054737, -0.047604, -0.061594, 0.119132, -0.185306, -0.008315, -0.043344, 0.032115, -0.190956, 1.0, 0.561322, -0.007261, -0.026987, 0.044598, 0.005385], [\"v77\", -0.037763, -0.009635, -0.018699, -0.040737, -0.033236, -0.048947, 0.193895, -0.138608, 0.003595, -0.035811, 0.043329, -0.210436, 0.561322, 1.0, 0.031831, -0.030947, 0.056067, 0.031304], [\"v17\", 0.037032, 0.048533, 0.041494, 0.032169, 0.030801, 0.040007, 0.048107, -0.028386, -0.032264, -0.033241, 0.013406, -0.01422, -0.007261, 0.031831, 1.0, 0.018954, 0.035139, -0.01085], [\"v58\", 0.048122, 0.060555, 0.068037, 0.049705, 0.047372, 0.048364, -0.001357, 0.043731, -0.00253, 0.037055, 0.010238, 0.216649, -0.026987, -0.030947, 0.018954, 1.0, -0.014252, 0.017195], [\"v9\", -0.033248, -0.002492, -0.025413, -0.017563, -0.007316, -0.014681, 0.330695, -0.078934, -0.04148, 0.039025, -0.007317, -0.089011, 0.044598, 0.056067, 0.035139, -0.014252, 1.0, -0.14233], [\"v11\", 0.152345, 0.100648, 0.11546, 0.11011, 0.099901, 0.105868, 0.07423, 0.172353, 0.12083, 0.226467, -0.013706, 0.12741, 0.005385, 0.031304, -0.01085, 0.017195, -0.14233, 1.0]]};\n",
       "        dt_args = eval_functions(dt_args);\n",
       "        table = $('#895ecc3f-0e48-4e26-97a0-78d6b557389c').DataTable(dt_args);\n",
       "    });\n",
       "})\n",
       "</script>\n",
       "</div>\n"
      ],
      "text/plain": [
       "<IPython.core.display.HTML object>"
      ]
     },
     "metadata": {},
     "output_type": "display_data"
    },
    {
     "name": "stdout",
     "output_type": "stream",
     "text": [
      "\u001b[1;31m woe编码后相关性筛选的特征:\u001b[0m ['v36', 'v22', 'v72', 'v14', 'v54', 'v53', 'v78', 'v77', 'v17', 'v58', 'v9', 'v11']\n",
      "\u001b[1;31m woe编码后相关性删除的特征:\u001b[0m ['v62', 'v65', 'v67', 'v23', 'v64', 'v88']\n",
      "\u001b[1;31m 相关性筛选完成-----------------------------\u001b[0m\n",
      "\u001b[1;31m woe编码后多重共线性筛选的特征:\u001b[0m ['v36', 'v22', 'v72', 'v14', 'v54', 'v53', 'v78', 'v77', 'v17', 'v58', 'v9', 'v11']\n",
      "\u001b[1;31m woe编码后多重共线性删除的特征:\u001b[0m []\n",
      "\u001b[1;31m 多重共线性筛选完成--------------------------\u001b[0m\n"
     ]
    }
   ],
   "source": [
    "# woe编码后相关性筛选\n",
    "\n",
    "#对train使用woe编码替换\n",
    "select_all_col = woe_map_df['col'].unique().tolist()\n",
    "select_sort_col = [x for x,y in iv_sort if x in select_all_col]\n",
    "# print(select_sort_col)\n",
    "\n",
    "train2 = train.loc[:,select_sort_col+[target]].reset_index(drop=True)\n",
    "# print(train2.shape[0])\n",
    "\n",
    "\n",
    "# woe映射\n",
    "train_woe = self_f_2.var_mapping(train2,woe_map_df,'woe',target)\n",
    "X = train_woe.loc[:,select_sort_col]\n",
    "y = train_woe[target]\n",
    "    \n",
    "#相关性展示\n",
    "corr=pd.DataFrame(train[num_col].corr())\n",
    "corr_woe=pd.DataFrame(train_woe[select_sort_col].corr())\n",
    "show(corr_woe, columnDefs=[{\"width\": \"200px\", \"targets\": \"_all\"}])\n",
    "\n",
    "#相关性筛选，默认阈值0.7\n",
    "corr_select_col_woe,corr_delete_col_woe = self_f_2.forward_corr_delete(train_woe,select_sort_col,cut_value=0.7)\n",
    "print(\"\\033[1;31m woe编码后相关性筛选的特征:\\033[0m\",corr_select_col_woe)\n",
    "print(\"\\033[1;31m woe编码后相关性删除的特征:\\033[0m\",corr_delete_col_woe)\n",
    "print(\"\\033[1;31m 相关性筛选完成-----------------------------\\033[0m\")\n",
    "\n",
    "#多重共线性筛选，系数阈值10\n",
    "vif_select_col_woe,vif_delete_col_woe  = self_f_2.vif_delete(train_woe,corr_select_col_woe)\n",
    "print(\"\\033[1;31m woe编码后多重共线性筛选的特征:\\033[0m\",vif_select_col_woe)\n",
    "print(\"\\033[1;31m woe编码后多重共线性删除的特征:\\033[0m\",vif_delete_col_woe)\n",
    "print('\\033[1;31m 多重共线性筛选完成--------------------------\\033[0m')\n",
    "\n",
    "#经过woe变换后的特征相关性和共线性筛选后的特征数据框\n",
    "X1 = X.loc[:,vif_select_col_woe]"
   ]
  },
  {
   "cell_type": "markdown",
   "metadata": {},
   "source": [
    "### 显著性筛选"
   ]
  },
  {
   "cell_type": "code",
   "execution_count": 24,
   "metadata": {},
   "outputs": [
    {
     "name": "stdout",
     "output_type": "stream",
     "text": [
      "Optimization terminated successfully.\n",
      "         Current function value: 0.616965\n",
      "         Iterations 5\n",
      "                           Logit Regression Results                           \n",
      "==============================================================================\n",
      "Dep. Variable:                 target   No. Observations:                 2915\n",
      "Model:                          Logit   Df Residuals:                     2913\n",
      "Method:                           MLE   Df Model:                            1\n",
      "Date:                Thu, 09 Apr 2020   Pseudo R-squ.:                 0.05876\n",
      "Time:                        18:29:01   Log-Likelihood:                -1798.5\n",
      "converged:                       True   LL-Null:                       -1910.7\n",
      "Covariance Type:            nonrobust   LLR p-value:                 9.197e-51\n",
      "==============================================================================\n",
      "                 coef    std err          z      P>|z|      [0.025      0.975]\n",
      "------------------------------------------------------------------------------\n",
      "const         -0.5596      0.040    -13.913      0.000      -0.638      -0.481\n",
      "v36            1.0000      0.070     14.271      0.000       0.863       1.137\n",
      "==============================================================================\n",
      "\u001b[1;31m ---------------------------------------------------\u001b[0m\n",
      "Optimization terminated successfully.\n",
      "         Current function value: 0.609605\n",
      "         Iterations 5\n",
      "                           Logit Regression Results                           \n",
      "==============================================================================\n",
      "Dep. Variable:                 target   No. Observations:                 2915\n",
      "Model:                          Logit   Df Residuals:                     2912\n",
      "Method:                           MLE   Df Model:                            2\n",
      "Date:                Thu, 09 Apr 2020   Pseudo R-squ.:                 0.06999\n",
      "Time:                        18:29:01   Log-Likelihood:                -1777.0\n",
      "converged:                       True   LL-Null:                       -1910.7\n",
      "Covariance Type:            nonrobust   LLR p-value:                 8.354e-59\n",
      "==============================================================================\n",
      "                 coef    std err          z      P>|z|      [0.025      0.975]\n",
      "------------------------------------------------------------------------------\n",
      "const         -0.5603      0.041    -13.819      0.000      -0.640      -0.481\n",
      "v36            0.9622      0.071     13.611      0.000       0.824       1.101\n",
      "v22            0.8450      0.130      6.521      0.000       0.591       1.099\n",
      "==============================================================================\n",
      "\u001b[1;31m ---------------------------------------------------\u001b[0m\n",
      "Optimization terminated successfully.\n",
      "         Current function value: 0.609099\n",
      "         Iterations 5\n",
      "                           Logit Regression Results                           \n",
      "==============================================================================\n",
      "Dep. Variable:                 target   No. Observations:                 2915\n",
      "Model:                          Logit   Df Residuals:                     2911\n",
      "Method:                           MLE   Df Model:                            3\n",
      "Date:                Thu, 09 Apr 2020   Pseudo R-squ.:                 0.07076\n",
      "Time:                        18:29:02   Log-Likelihood:                -1775.5\n",
      "converged:                       True   LL-Null:                       -1910.7\n",
      "Covariance Type:            nonrobust   LLR p-value:                 2.511e-58\n",
      "==============================================================================\n",
      "                 coef    std err          z      P>|z|      [0.025      0.975]\n",
      "------------------------------------------------------------------------------\n",
      "const         -0.5604      0.041    -13.816      0.000      -0.640      -0.481\n",
      "v36            0.9214      0.074     12.378      0.000       0.776       1.067\n",
      "v22            0.8470      0.130      6.532      0.000       0.593       1.101\n",
      "v72            0.2842      0.165      1.722      0.085      -0.039       0.608\n",
      "==============================================================================\n",
      "\u001b[1;31m ---------------------------------------------------\u001b[0m\n",
      "Optimization terminated successfully.\n",
      "         Current function value: 0.608631\n",
      "         Iterations 5\n",
      "                           Logit Regression Results                           \n",
      "==============================================================================\n",
      "Dep. Variable:                 target   No. Observations:                 2915\n",
      "Model:                          Logit   Df Residuals:                     2911\n",
      "Method:                           MLE   Df Model:                            3\n",
      "Date:                Thu, 09 Apr 2020   Pseudo R-squ.:                 0.07148\n",
      "Time:                        18:29:02   Log-Likelihood:                -1774.2\n",
      "converged:                       True   LL-Null:                       -1910.7\n",
      "Covariance Type:            nonrobust   LLR p-value:                 6.461e-59\n",
      "==============================================================================\n",
      "                 coef    std err          z      P>|z|      [0.025      0.975]\n",
      "------------------------------------------------------------------------------\n",
      "const         -0.5604      0.041    -13.806      0.000      -0.640      -0.481\n",
      "v36            0.9406      0.071     13.194      0.000       0.801       1.080\n",
      "v22            0.8045      0.131      6.159      0.000       0.548       1.060\n",
      "v14            0.4652      0.199      2.335      0.020       0.075       0.856\n",
      "==============================================================================\n",
      "\u001b[1;31m ---------------------------------------------------\u001b[0m\n",
      "Optimization terminated successfully.\n",
      "         Current function value: 0.606285\n",
      "         Iterations 5\n",
      "                           Logit Regression Results                           \n",
      "==============================================================================\n",
      "Dep. Variable:                 target   No. Observations:                 2915\n",
      "Model:                          Logit   Df Residuals:                     2910\n",
      "Method:                           MLE   Df Model:                            4\n",
      "Date:                Thu, 09 Apr 2020   Pseudo R-squ.:                 0.07506\n",
      "Time:                        18:29:02   Log-Likelihood:                -1767.3\n",
      "converged:                       True   LL-Null:                       -1910.7\n",
      "Covariance Type:            nonrobust   LLR p-value:                 7.542e-61\n",
      "==============================================================================\n",
      "                 coef    std err          z      P>|z|      [0.025      0.975]\n",
      "------------------------------------------------------------------------------\n",
      "const         -0.5585      0.041    -13.725      0.000      -0.638      -0.479\n",
      "v36            0.9295      0.071     13.009      0.000       0.789       1.070\n",
      "v22            0.7993      0.131      6.109      0.000       0.543       1.056\n",
      "v14            0.5062      0.200      2.528      0.011       0.114       0.899\n",
      "v54            0.7426      0.206      3.611      0.000       0.340       1.146\n",
      "==============================================================================\n",
      "\u001b[1;31m ---------------------------------------------------\u001b[0m\n",
      "Optimization terminated successfully.\n",
      "         Current function value: 0.605263\n",
      "         Iterations 5\n",
      "                           Logit Regression Results                           \n",
      "==============================================================================\n",
      "Dep. Variable:                 target   No. Observations:                 2915\n",
      "Model:                          Logit   Df Residuals:                     2909\n",
      "Method:                           MLE   Df Model:                            5\n",
      "Date:                Thu, 09 Apr 2020   Pseudo R-squ.:                 0.07661\n",
      "Time:                        18:29:02   Log-Likelihood:                -1764.3\n",
      "converged:                       True   LL-Null:                       -1910.7\n",
      "Covariance Type:            nonrobust   LLR p-value:                 3.581e-61\n",
      "==============================================================================\n",
      "                 coef    std err          z      P>|z|      [0.025      0.975]\n",
      "------------------------------------------------------------------------------\n",
      "const         -0.5582      0.041    -13.705      0.000      -0.638      -0.478\n",
      "v36            0.9106      0.072     12.670      0.000       0.770       1.051\n",
      "v22            0.8274      0.132      6.291      0.000       0.570       1.085\n",
      "v14            0.4440      0.202      2.203      0.028       0.049       0.839\n",
      "v54            0.7470      0.206      3.633      0.000       0.344       1.150\n",
      "v53            0.6300      0.258      2.444      0.015       0.125       1.135\n",
      "==============================================================================\n",
      "\u001b[1;31m ---------------------------------------------------\u001b[0m\n",
      "Optimization terminated successfully.\n",
      "         Current function value: 0.600733\n",
      "         Iterations 5\n",
      "                           Logit Regression Results                           \n",
      "==============================================================================\n",
      "Dep. Variable:                 target   No. Observations:                 2915\n",
      "Model:                          Logit   Df Residuals:                     2908\n",
      "Method:                           MLE   Df Model:                            6\n",
      "Date:                Thu, 09 Apr 2020   Pseudo R-squ.:                 0.08352\n",
      "Time:                        18:29:02   Log-Likelihood:                -1751.1\n",
      "converged:                       True   LL-Null:                       -1910.7\n",
      "Covariance Type:            nonrobust   LLR p-value:                 6.316e-66\n",
      "==============================================================================\n",
      "                 coef    std err          z      P>|z|      [0.025      0.975]\n",
      "------------------------------------------------------------------------------\n",
      "const         -0.5599      0.041    -13.674      0.000      -0.640      -0.480\n",
      "v36            0.9387      0.073     12.909      0.000       0.796       1.081\n",
      "v22            0.7568      0.133      5.700      0.000       0.497       1.017\n",
      "v14            0.4761      0.203      2.347      0.019       0.079       0.874\n",
      "v54            0.7255      0.206      3.515      0.000       0.321       1.130\n",
      "v53            0.8745      0.264      3.318      0.001       0.358       1.391\n",
      "v78            1.3242      0.257      5.159      0.000       0.821       1.827\n",
      "==============================================================================\n",
      "\u001b[1;31m ---------------------------------------------------\u001b[0m\n",
      "Optimization terminated successfully.\n",
      "         Current function value: 0.599856\n",
      "         Iterations 5\n"
     ]
    },
    {
     "name": "stdout",
     "output_type": "stream",
     "text": [
      "                           Logit Regression Results                           \n",
      "==============================================================================\n",
      "Dep. Variable:                 target   No. Observations:                 2915\n",
      "Model:                          Logit   Df Residuals:                     2907\n",
      "Method:                           MLE   Df Model:                            7\n",
      "Date:                Thu, 09 Apr 2020   Pseudo R-squ.:                 0.08486\n",
      "Time:                        18:29:02   Log-Likelihood:                -1748.6\n",
      "converged:                       True   LL-Null:                       -1910.7\n",
      "Covariance Type:            nonrobust   LLR p-value:                 3.884e-66\n",
      "==============================================================================\n",
      "                 coef    std err          z      P>|z|      [0.025      0.975]\n",
      "------------------------------------------------------------------------------\n",
      "const         -0.5608      0.041    -13.679      0.000      -0.641      -0.480\n",
      "v36            0.9436      0.073     12.949      0.000       0.801       1.086\n",
      "v22            0.7114      0.134      5.294      0.000       0.448       0.975\n",
      "v14            0.4889      0.203      2.404      0.016       0.090       0.888\n",
      "v54            0.7154      0.207      3.460      0.001       0.310       1.121\n",
      "v53            0.9466      0.266      3.562      0.000       0.426       1.467\n",
      "v78            0.9626      0.303      3.182      0.001       0.370       1.556\n",
      "v77            0.6660      0.294      2.263      0.024       0.089       1.243\n",
      "==============================================================================\n",
      "\u001b[1;31m ---------------------------------------------------\u001b[0m\n",
      "Optimization terminated successfully.\n",
      "         Current function value: 0.597724\n",
      "         Iterations 5\n",
      "                           Logit Regression Results                           \n",
      "==============================================================================\n",
      "Dep. Variable:                 target   No. Observations:                 2915\n",
      "Model:                          Logit   Df Residuals:                     2906\n",
      "Method:                           MLE   Df Model:                            8\n",
      "Date:                Thu, 09 Apr 2020   Pseudo R-squ.:                 0.08812\n",
      "Time:                        18:29:02   Log-Likelihood:                -1742.4\n",
      "converged:                       True   LL-Null:                       -1910.7\n",
      "Covariance Type:            nonrobust   LLR p-value:                 6.146e-68\n",
      "==============================================================================\n",
      "                 coef    std err          z      P>|z|      [0.025      0.975]\n",
      "------------------------------------------------------------------------------\n",
      "const         -0.5608      0.041    -13.648      0.000      -0.641      -0.480\n",
      "v36            0.9381      0.073     12.849      0.000       0.795       1.081\n",
      "v22            0.6946      0.135      5.156      0.000       0.431       0.959\n",
      "v14            0.5237      0.204      2.564      0.010       0.123       0.924\n",
      "v54            0.7144      0.207      3.445      0.001       0.308       1.121\n",
      "v53            0.9620      0.267      3.607      0.000       0.439       1.485\n",
      "v78            1.0005      0.304      3.296      0.001       0.406       1.595\n",
      "v77            0.6326      0.295      2.145      0.032       0.055       1.211\n",
      "v17            0.9218      0.261      3.528      0.000       0.410       1.434\n",
      "==============================================================================\n",
      "\u001b[1;31m ---------------------------------------------------\u001b[0m\n",
      "Optimization terminated successfully.\n",
      "         Current function value: 0.596426\n",
      "         Iterations 5\n",
      "                           Logit Regression Results                           \n",
      "==============================================================================\n",
      "Dep. Variable:                 target   No. Observations:                 2915\n",
      "Model:                          Logit   Df Residuals:                     2905\n",
      "Method:                           MLE   Df Model:                            9\n",
      "Date:                Thu, 09 Apr 2020   Pseudo R-squ.:                 0.09010\n",
      "Time:                        18:29:02   Log-Likelihood:                -1738.6\n",
      "converged:                       True   LL-Null:                       -1910.7\n",
      "Covariance Type:            nonrobust   LLR p-value:                 1.014e-68\n",
      "==============================================================================\n",
      "                 coef    std err          z      P>|z|      [0.025      0.975]\n",
      "------------------------------------------------------------------------------\n",
      "const         -0.5606      0.041    -13.623      0.000      -0.641      -0.480\n",
      "v36            0.9364      0.073     12.815      0.000       0.793       1.080\n",
      "v22            0.6950      0.135      5.153      0.000       0.431       0.959\n",
      "v14            0.5225      0.204      2.555      0.011       0.122       0.923\n",
      "v54            0.7125      0.208      3.430      0.001       0.305       1.120\n",
      "v53            0.7984      0.273      2.923      0.003       0.263       1.334\n",
      "v78            0.9978      0.304      3.283      0.001       0.402       1.593\n",
      "v77            0.6238      0.295      2.113      0.035       0.045       1.202\n",
      "v17            0.9066      0.262      3.464      0.001       0.394       1.420\n",
      "v58            0.7422      0.271      2.740      0.006       0.211       1.273\n",
      "==============================================================================\n",
      "\u001b[1;31m ---------------------------------------------------\u001b[0m\n",
      "Optimization terminated successfully.\n",
      "         Current function value: 0.595096\n",
      "         Iterations 6\n",
      "                           Logit Regression Results                           \n",
      "==============================================================================\n",
      "Dep. Variable:                 target   No. Observations:                 2915\n",
      "Model:                          Logit   Df Residuals:                     2904\n",
      "Method:                           MLE   Df Model:                           10\n",
      "Date:                Thu, 09 Apr 2020   Pseudo R-squ.:                 0.09212\n",
      "Time:                        18:29:02   Log-Likelihood:                -1734.7\n",
      "converged:                       True   LL-Null:                       -1910.7\n",
      "Covariance Type:            nonrobust   LLR p-value:                 1.462e-69\n",
      "==============================================================================\n",
      "                 coef    std err          z      P>|z|      [0.025      0.975]\n",
      "------------------------------------------------------------------------------\n",
      "const         -0.5602      0.041    -13.594      0.000      -0.641      -0.479\n",
      "v36            0.9517      0.073     12.969      0.000       0.808       1.096\n",
      "v22            0.5606      0.143      3.914      0.000       0.280       0.841\n",
      "v14            0.5208      0.205      2.538      0.011       0.119       0.923\n",
      "v54            0.7289      0.208      3.500      0.000       0.321       1.137\n",
      "v53            0.8494      0.274      3.097      0.002       0.312       1.387\n",
      "v78            0.9949      0.304      3.272      0.001       0.399       1.591\n",
      "v77            0.6456      0.296      2.184      0.029       0.066       1.225\n",
      "v17            0.8904      0.262      3.398      0.001       0.377       1.404\n",
      "v58            0.7419      0.271      2.736      0.006       0.210       1.273\n",
      "v9             0.7973      0.290      2.754      0.006       0.230       1.365\n",
      "==============================================================================\n",
      "\u001b[1;31m ---------------------------------------------------\u001b[0m\n",
      "Optimization terminated successfully.\n",
      "         Current function value: 0.594899\n",
      "         Iterations 6\n",
      "                           Logit Regression Results                           \n",
      "==============================================================================\n",
      "Dep. Variable:                 target   No. Observations:                 2915\n",
      "Model:                          Logit   Df Residuals:                     2903\n",
      "Method:                           MLE   Df Model:                           11\n",
      "Date:                Thu, 09 Apr 2020   Pseudo R-squ.:                 0.09242\n",
      "Time:                        18:29:02   Log-Likelihood:                -1734.1\n",
      "converged:                       True   LL-Null:                       -1910.7\n",
      "Covariance Type:            nonrobust   LLR p-value:                 5.102e-69\n",
      "==============================================================================\n",
      "                 coef    std err          z      P>|z|      [0.025      0.975]\n",
      "------------------------------------------------------------------------------\n",
      "const         -0.5604      0.041    -13.596      0.000      -0.641      -0.480\n",
      "v36            0.9458      0.074     12.848      0.000       0.802       1.090\n",
      "v22            0.5474      0.144      3.810      0.000       0.266       0.829\n",
      "v14            0.4817      0.208      2.313      0.021       0.074       0.890\n",
      "v54            0.7333      0.208      3.519      0.000       0.325       1.142\n",
      "v53            0.8218      0.275      2.983      0.003       0.282       1.362\n",
      "v78            0.9918      0.304      3.262      0.001       0.396       1.588\n",
      "v77            0.6316      0.296      2.135      0.033       0.052       1.212\n",
      "v17            0.8940      0.262      3.411      0.001       0.380       1.408\n",
      "v58            0.7460      0.271      2.750      0.006       0.214       1.278\n",
      "v9             0.8494      0.294      2.892      0.004       0.274       1.425\n",
      "v11            0.3136      0.293      1.070      0.285      -0.261       0.888\n",
      "==============================================================================\n",
      "\u001b[1;31m ---------------------------------------------------\u001b[0m\n",
      "\u001b[1;31m 显著性筛选的变量:\u001b[0m ['v36', 'v22', 'v14', 'v54', 'v53', 'v78', 'v77', 'v17', 'v58', 'v9']\n",
      "\u001b[1;31m 显著性筛选删除的变量:\u001b[0m ['v72', 'v11']\n",
      "\u001b[1;31m 显著性筛选完成--------------------------\u001b[0m\n"
     ]
    }
   ],
   "source": [
    "# 3.8 显著性筛选，前向逐步回归\n",
    "pvalue_select_col,pvalue_delete_col = self_f_2.forward_pvalue_delete(X1,y)\n",
    "\n",
    "print(\"\\033[1;31m 显著性筛选的变量:\\033[0m\",pvalue_select_col)\n",
    "print(\"\\033[1;31m 显著性筛选删除的变量:\\033[0m\",pvalue_delete_col)\n",
    "print('\\033[1;31m 显著性筛选完成--------------------------\\033[0m')\n"
   ]
  },
  {
   "cell_type": "markdown",
   "metadata": {},
   "source": [
    "### 剔除系数和其他系数符号不一致的特征\n",
    "**这里之所以没有说系数为正或者为负，是因为如果计算woe时为坏比好，那么逻辑回归系数就为正，如果计算woe时为好比坏，那么逻辑回归系数就为负**"
   ]
  },
  {
   "cell_type": "code",
   "execution_count": 25,
   "metadata": {},
   "outputs": [
    {
     "name": "stdout",
     "output_type": "stream",
     "text": [
      "\u001b[1;31m 删除系数为负的特征: \u001b[0m []\n",
      "\u001b[1;31m 最终入模特征: \u001b[0m ['v36', 'v22', 'v14', 'v54', 'v53', 'v78', 'v77', 'v17', 'v58', 'v9']\n"
     ]
    }
   ],
   "source": [
    "# 剔除系数为负数的特征\n",
    "X2 = X1.loc[:,pvalue_select_col]\n",
    "# X2 = X1 #不做显著性筛选时\n",
    "coef_select_col,coef_delete_col = self_f_2.forward_delete_coef(X2,y)\n",
    "\n",
    "print(\"\\033[1;31m 删除系数为负的特征: \\033[0m\",coef_delete_col)\n",
    "print(\"\\033[1;31m 最终入模特征: \\033[0m\",coef_select_col)"
   ]
  },
  {
   "cell_type": "markdown",
   "metadata": {},
   "source": [
    "## 模型训练和评价"
   ]
  },
  {
   "cell_type": "code",
   "execution_count": 26,
   "metadata": {
    "scrolled": true
   },
   "outputs": [
    {
     "name": "stdout",
     "output_type": "stream",
     "text": [
      "\u001b[1;31m 截距：\u001b[0m -0.5589867683164723\n",
      "\u001b[1;31m 特征系数： \u001b[0m {'v36': 0.9459732005575836, 'v22': 0.566086690872922, 'v14': 0.5022874055986438, 'v54': 0.697173688658905, 'v53': 0.7863239945849547, 'v78': 0.9287839596799258, 'v77': 0.630368249127781, 'v17': 0.8318132846764035, 'v58': 0.703877869315464, 'v9': 0.7357899751344179}\n",
      "\u001b[1;31m 建模完成----------------------------------------\n",
      " \u001b[0m\n",
      "\u001b[1;31m 训练集好坏样本数：\n",
      " \u001b[0m 0    1855\n",
      "1    1060\n",
      "Name: target, dtype: int64\n",
      "\u001b[1;31m 训练集的AUC，KS: \u001b[0m\n"
     ]
    },
    {
     "data": {
      "image/png": "[encoded data removed]",
      "text/plain": [
       "<Figure size 432x288 with 1 Axes>"
      ]
     },
     "metadata": {
      "needs_background": "light"
     },
     "output_type": "display_data"
    },
    {
     "data": {
      "image/png": "[encoded data removed]",
      "text/plain": [
       "<Figure size 432x288 with 1 Axes>"
      ]
     },
     "metadata": {
      "needs_background": "light"
     },
     "output_type": "display_data"
    }
   ],
   "source": [
    "# LR建模\n",
    "X3 = X2.loc[:,coef_select_col]\n",
    "# x_train,x_valid,y_train,y_valid = train_test_split(X3,y,test_size=0.2,random_state=0)\n",
    "\n",
    "#当没有验证集时\n",
    "x_train=X3\n",
    "y_train=y\n",
    "# 保存训练集和验证集的index\n",
    "train_index = x_train.index.tolist()\n",
    "# valid_index = x_valid.index.tolist()\n",
    "\n",
    "# show(X3,maxBytes=0, columnDefs=[{\"width\": \"200px\", \"targets\": \"_all\"}])\n",
    "\n",
    "lr_model = LogisticRegression(C=1.0).fit(x_train,y_train)\n",
    "coe_dict = {x:y for x,y in zip(x_train.columns,lr_model.coef_[0])}\n",
    "print(\"\\033[1;31m 截距：\\033[0m\",lr_model.intercept_[0])\n",
    "print(\"\\033[1;31m 特征系数： \\033[0m\",coe_dict)\n",
    "print('\\033[1;31m 建模完成----------------------------------------\\n \\033[0m')\n",
    "\n",
    "print(\"\\033[1;31m 训练集好坏样本数：\\n \\033[0m\",y_train.value_counts())\n",
    "# print(\"\\033[1;31m 验证集好坏样本数：\\n \\033[0m\",y_valid.value_counts())\n",
    "\n",
    "#绘制训练集的auc，ks\n",
    "train_pre = lr_model.predict_proba(x_train)[:,1]\n",
    "print('\\033[1;31m 训练集的AUC，KS: \\033[0m')\n",
    "self_f_2.plot_roc(y_train,train_pre)\n",
    "self_f_2.plot_model_ks(y_train,train_pre)\n",
    "\n",
    "# 绘制验证集的auc，ks\n",
    "# valid_pre = lr_model.predict_proba(x_valid)[:,1]\n",
    "# print('\\033[1;31m 验证集的AUC，KS: \\033[0m')\n",
    "# self_f_2.plot_roc(y_valid,valid_pre)\n",
    "# self_f_2.plot_model_ks(y_valid,valid_pre)  "
   ]
  },
  {
   "cell_type": "code",
   "execution_count": 27,
   "metadata": {},
   "outputs": [
    {
     "name": "stdout",
     "output_type": "stream",
     "text": [
      "\u001b[1;31m 时间外样本集好坏样本数 \u001b[0m\n",
      "0    539\n",
      "1    373\n",
      "Name: target, dtype: int64\n",
      "\u001b[1;31m 时间外样本集的AUC，KS \u001b[0m\n"
     ]
    },
    {
     "data": {
      "image/png": "[encoded data removed]",
      "text/plain": [
       "<Figure size 432x288 with 1 Axes>"
      ]
     },
     "metadata": {
      "needs_background": "light"
     },
     "output_type": "display_data"
    },
    {
     "data": {
      "image/png": "[encoded data removed]",
      "text/plain": [
       "<Figure size 432x288 with 1 Axes>"
      ]
     },
     "metadata": {
      "needs_background": "light"
     },
     "output_type": "display_data"
    }
   ],
   "source": [
    "woe_map_df2 = woe_map_df[woe_map_df.col.isin(coef_select_col)].reset_index(drop=True)\n",
    "# 绘制测试集的auc，ks\n",
    "oot = oot_data.loc[:,coef_select_col+[target]].reset_index(drop=True)\n",
    "oot_woe = self_f_2.var_mapping(oot,woe_map_df2,'woe',target)\n",
    "x_oot = oot_woe.drop([target],axis=1)\n",
    "y_oot = oot_woe[target]\n",
    "oot_pre = lr_model.predict_proba(x_oot)[:,1]\n",
    "\n",
    "print(\"\\033[1;31m 时间外样本集好坏样本数 \\033[0m\")\n",
    "print(y_oot.value_counts())\n",
    "\n",
    "print('\\033[1;31m 时间外样本集的AUC，KS \\033[0m')\n",
    "self_f_2.plot_roc(y_oot,oot_pre)\n",
    "self_f_2.plot_model_ks(y_oot,oot_pre)"
   ]
  },
  {
   "cell_type": "markdown",
   "metadata": {},
   "source": [
    "## 分数映射&分数分布"
   ]
  },
  {
   "cell_type": "markdown",
   "metadata": {},
   "source": [
    "### 分数刻度&各入模变量相应分箱得分\n",
    "\n",
    "- 分数和违约几率对应的分数映射关系为<font color=#D2691E >$ score=A-B*log(odds) $ (odds=p/1-p,p为违约概率，$log(odds)=B0+B1X+...BnX)$</font>\n",
    "\n",
    "- 基于以下2个假设可以计算出A和B\n",
    "\n",
    "        - 在某个特定的比率设定特定的预期分值坏好比在1:1时，对应分值为650分，即P0=650，坏用户概率在50%时得分为650分\n",
    "\n",
    "        - 指定比率翻番的分数（PDO），pdo=30\n",
    "\n",
    "- 分数越高用户越好；"
   ]
  },
  {
   "cell_type": "code",
   "execution_count": 28,
   "metadata": {
    "scrolled": true
   },
   "outputs": [
    {
     "name": "stdout",
     "output_type": "stream",
     "text": [
      "\u001b[1;31m 评分卡刻度 \u001b[0m\n"
     ]
    },
    {
     "data": {
      "text/html": [
       "<div><table id=\"1a115ca7-ed81-46a5-8846-9343f18dbacd\" class=\"display nowrap\"><thead>\n",
       "    <tr style=\"text-align: right;\">\n",
       "      \n",
       "      <th>type</th>\n",
       "      <th>value</th>\n",
       "    </tr>\n",
       "  </thead></table>\n",
       "<script type=\"text/javascript\">\n",
       "require([\"datatables\"], function (datatables) {\n",
       "    $(document).ready(function () {        \n",
       "        var dt_args = {\"columnDefs\": [{\"width\": \"150px\", \"targets\": \"_all\"}], \"lengthMenu\": [10, 10, 100, 200, 500, 1000, 2000, 5000], \"paging\": false, \"data\": [[\"A\", 650.0], [\"B\", 43.280851], [\"base_score\", 674.193423]]};\n",
       "        dt_args = eval_functions(dt_args);\n",
       "        table = $('#1a115ca7-ed81-46a5-8846-9343f18dbacd').DataTable(dt_args);\n",
       "    });\n",
       "})\n",
       "</script>\n",
       "</div>\n"
      ],
      "text/plain": [
       "<IPython.core.display.HTML object>"
      ]
     },
     "metadata": {},
     "output_type": "display_data"
    },
    {
     "name": "stdout",
     "output_type": "stream",
     "text": [
      "\u001b[1;31m 变量各分箱对应的分数 \u001b[0m\n",
      "\n"
     ]
    },
    {
     "data": {
      "text/html": [
       "<div><table id=\"acd4c3bd-9a60-4455-9bb3-05a084b2be23\" class=\"display nowrap\"><thead>\n",
       "    <tr style=\"text-align: right;\">\n",
       "      \n",
       "      <th>col</th>\n",
       "      <th>bins</th>\n",
       "      <th>IV</th>\n",
       "      <th>score</th>\n",
       "      <th>coe</th>\n",
       "      <th>woe</th>\n",
       "      <th>total</th>\n",
       "      <th>totalrate</th>\n",
       "      <th>bad</th>\n",
       "      <th>badrate</th>\n",
       "      <th>good</th>\n",
       "      <th>goodrate</th>\n",
       "      <th>badattr</th>\n",
       "      <th>goodattr</th>\n",
       "      <th>bin_iv</th>\n",
       "      <th>min_bin</th>\n",
       "      <th>max_bin</th>\n",
       "      <th>fuzhu</th>\n",
       "    </tr>\n",
       "  </thead></table>\n",
       "<script type=\"text/javascript\">\n",
       "require([\"datatables\"], function (datatables) {\n",
       "    $(document).ready(function () {        \n",
       "        var dt_args = {\"columnDefs\": [{\"width\": \"150px\", \"targets\": \"_all\"}], \"lengthMenu\": [10, 10, 100, 200, 500, 1000, 2000, 5000], \"data\": [[\"v36\", \"(-inf, 0.5]\", 0.345731, -22.0, 0.946, 0.541994, 1362, 0.467238, 675, 0.495595, 687, 0.504405, 0.636792, 0.37035, 0.14441, -Infinity, 0.5, 11], [\"v36\", \"(0.5, 1.5]\", 0.345731, -0.0, 0.946, 0.010718, 183, 0.062779, 67, 0.36612, 116, 0.63388, 0.063208, 0.062534, 7e-06, 0.5, 1.5, 12], [\"v36\", \"(1.5, 2.5]\", 0.345731, 11.0, 0.946, -0.275182, 152, 0.052144, 46, 0.302632, 106, 0.697368, 0.043396, 0.057143, 0.003783, 1.5, 2.5, 13], [\"v36\", \"(2.5, 16.5]\", 0.345731, 25.0, 0.946, -0.606238, 1069, 0.366724, 254, 0.237605, 815, 0.762395, 0.239623, 0.439353, 0.121084, 2.5, 16.5, 14], [\"v36\", \"(16.5, inf]\", 0.345731, 58.0, 0.946, -1.42521, 149, 0.051115, 18, 0.120805, 131, 0.879195, 0.016981, 0.07062, 0.076447, 16.5, Infinity, 15], [\"v22\", \"(-inf, 25.5]\", 0.09681, -14.0, 0.5661, 0.55544, 479, 0.164322, 239, 0.498956, 240, 0.501044, 0.225472, 0.12938, 0.053373, -Infinity, 25.5, 16], [\"v22\", \"(25.5, 36.5]\", 0.09681, -1.0, 0.5661, 0.038027, 1439, 0.493654, 536, 0.372481, 903, 0.627519, 0.50566, 0.486792, 0.000717, 25.5, 36.5, 17], [\"v22\", \"(36.5, 38.5]\", 0.09681, 5.0, 0.5661, -0.209904, 199, 0.068268, 63, 0.316583, 136, 0.683417, 0.059434, 0.073315, 0.002914, 36.5, 38.5, 18], [\"v22\", \"(38.5, inf]\", 0.09681, 10.0, 0.5661, -0.393814, 798, 0.273756, 222, 0.278195, 576, 0.721805, 0.209434, 0.310512, 0.039806, 38.5, Infinity, 19], [\"v14\", \"(-inf, 1.5]\", 0.046828, -6.0, 0.5023, 0.282863, 160, 0.054889, 69, 0.43125, 91, 0.56875, 0.065094, 0.049057, 0.004536, -Infinity, 1.5, 20], [\"v14\", \"(1.5, 2.5]\", 0.046828, -2.0, 0.5023, 0.073182, 654, 0.224357, 249, 0.380734, 405, 0.619266, 0.234906, 0.218329, 0.001213, 1.5, 2.5, 21], [\"v14\", \"(2.5, 4.5]\", 0.046828, -1.0, 0.5023, 0.043982, 1554, 0.533105, 581, 0.373874, 973, 0.626126, 0.548113, 0.524528, 0.001037, 2.5, 4.5, 22], [\"v14\", \"(4.5, 5.5]\", 0.046828, 1.0, 0.5023, -0.041724, 322, 0.110463, 114, 0.354037, 208, 0.645963, 0.107547, 0.112129, 0.000191, 4.5, 5.5, 23], [\"v14\", \"(5.5, inf]\", 0.046828, 17.0, 0.5023, -0.77202, 225, 0.077187, 47, 0.208889, 178, 0.791111, 0.04434, 0.095957, 0.03985, 5.5, Infinity, 24], [\"v54\", \"(-inf, 0.375]\", 0.040088, -0.0, 0.6972, 0.006231, 378, 0.129674, 138, 0.365079, 240, 0.634921, 0.130189, 0.12938, 5e-06, -Infinity, 0.375, 25], [\"v54\", \"(0.375, 0.411]\", 0.040088, 23.0, 0.6972, -0.747898, 155, 0.053173, 33, 0.212903, 122, 0.787097, 0.031132, 0.065768, 0.025904, 0.375, 0.411, 26], [\"v54\", \"(0.411, 0.44]\", 0.040088, -6.0, 0.6972, 0.204582, 148, 0.050772, 61, 0.412162, 87, 0.587838, 0.057547, 0.0469, 0.002178, 0.411, 0.44, 27], [\"v54\", \"(0.44, 0.574]\", 0.040088, 4.0, 0.6972, -0.139351, 774, 0.265523, 257, 0.332041, 517, 0.667959, 0.242453, 0.278706, 0.005052, 0.44, 0.574, 28], [\"v54\", \"(0.574, inf]\", 0.040088, -4.0, 0.6972, 0.116908, 1460, 0.500858, 571, 0.391096, 889, 0.608904, 0.538679, 0.479245, 0.006948, 0.574, Infinity, 29], [\"v77\", \"(-inf, -999.0]\", 0.028198, 2.0, 0.6304, -0.087011, 2080, 0.713551, 715, 0.34375, 1365, 0.65625, 0.674528, 0.735849, 0.005336, -Infinity, -999.0, 5], [\"v77\", \"(-999.0, 3.5]\", 0.028198, -4.0, 0.6304, 0.139369, 734, 0.251801, 291, 0.396458, 443, 0.603542, 0.274528, 0.238814, 0.004977, -999.0, 3.5, 6], [\"v77\", \"(3.5, inf]\", 0.028198, -19.0, 0.6304, 0.698452, 101, 0.034648, 54, 0.534653, 47, 0.465347, 0.050943, 0.025337, 0.017885, 3.5, Infinity, 7], [\"v78\", \"(-inf, -999.0]\", 0.026131, 4.0, 0.9288, -0.09082, 837, 0.287136, 287, 0.342891, 550, 0.657109, 0.270755, 0.296496, 0.002338, -Infinity, -999.0, 8], [\"v78\", \"(-999.0, 7.5]\", 0.026131, 2.0, 0.9288, -0.041986, 1760, 0.603774, 623, 0.353977, 1137, 0.646023, 0.587736, 0.612938, 0.001058, -999.0, 7.5, 9], [\"v78\", \"(7.5, inf]\", 0.026131, -18.0, 0.9288, 0.446287, 318, 0.109091, 150, 0.471698, 168, 0.528302, 0.141509, 0.090566, 0.022735, 7.5, Infinity, 10], [\"v53\", \"(-inf, 0.865]\", 0.025218, -14.0, 0.7863, 0.417441, 155, 0.053173, 72, 0.464516, 83, 0.535484, 0.067925, 0.044744, 0.009677, -Infinity, 0.865, 30], [\"v53\", \"(0.865, 1.835]\", 0.025218, -5.0, 0.7863, 0.139188, 1004, 0.344425, 398, 0.396414, 606, 0.603586, 0.375472, 0.326685, 0.006791, 0.865, 1.835, 31], [\"v53\", \"(1.835, inf]\", 0.025218, 4.0, 0.7863, -0.121596, 1756, 0.602401, 590, 0.335991, 1166, 0.664009, 0.556604, 0.628571, 0.008751, 1.835, Infinity, 32], [\"v17\", \"(-inf, -999.0]\", 0.024109, 2.0, 0.8318, -0.050416, 463, 0.158834, 163, 0.352052, 300, 0.647948, 0.153774, 0.161725, 0.000401, -Infinity, -999.0, 33], [\"v17\", \"(-999.0, 2.5]\", 0.024109, 2.0, 0.8318, -0.062806, 650, 0.222985, 227, 0.349231, 423, 0.650769, 0.214151, 0.228032, 0.000872, -999.0, 2.5, 34], [\"v17\", \"(2.5, 15.5]\", 0.024109, -9.0, 0.8318, 0.249169, 539, 0.184906, 228, 0.423006, 311, 0.576994, 0.215094, 0.167655, 0.01182, 2.5, 15.5, 35], [\"v17\", \"(15.5, 30.5]\", 0.024109, 6.0, 0.8318, -0.161119, 874, 0.299828, 286, 0.327231, 588, 0.672769, 0.269811, 0.316981, 0.0076, 15.5, 30.5, 36], [\"v17\", \"(30.5, inf]\", 0.024109, -6.0, 0.8318, 0.158433, 389, 0.133448, 156, 0.401028, 233, 0.598972, 0.14717, 0.125606, 0.003416, 30.5, Infinity, 37], [\"v58\", \"(-inf, 0.0515]\", 0.024103, -6.0, 0.7039, 0.194502, 288, 0.098799, 118, 0.409722, 170, 0.590278, 0.111321, 0.091644, 0.003827, -Infinity, 0.0515, 38], [\"v58\", \"(0.0515, 0.0535]\", 0.024103, 12.0, 0.7039, -0.409785, 160, 0.054889, 44, 0.275, 116, 0.725, 0.041509, 0.062534, 0.008615, 0.0515, 0.0535, 39], [\"v58\", \"(0.0535, 0.0695]\", 0.024103, -1.0, 0.7039, 0.044717, 524, 0.17976, 196, 0.374046, 328, 0.625954, 0.184906, 0.176819, 0.000362, 0.0535, 0.0695, 40], [\"v58\", \"(0.0695, 0.106]\", 0.024103, 3.0, 0.7039, -0.111552, 1224, 0.419897, 414, 0.338235, 810, 0.661765, 0.390566, 0.436658, 0.005142, 0.0695, 0.106, 41], [\"v58\", \"(0.106, inf]\", 0.024103, -5.0, 0.7039, 0.156468, 719, 0.246655, 288, 0.400556, 431, 0.599444, 0.271698, 0.232345, 0.006158, 0.106, Infinity, 42], [\"v9\", \"0.0\", 0.023648, -4.0, 0.7358, 0.118305, 1050, 0.360206, 411, 0.391429, 639, 0.608571, 0.387736, 0.344474, 0.005118, 0.0, 0.0, 0], [\"v9\", \"1.0\", 0.023648, -2.0, 0.7358, 0.076904, 794, 0.272384, 303, 0.381612, 491, 0.618388, 0.285849, 0.26469, 0.001627, 1.0, 1.0, 1], [\"v9\", \"2.0\", 0.023648, 4.0, 0.7358, -0.114839, 720, 0.246998, 243, 0.3375, 477, 0.6625, 0.229245, 0.257143, 0.003204, 2.0, 2.0, 2], [\"v9\", \"3.0\", 0.023648, 8.0, 0.7358, -0.263585, 295, 0.101201, 90, 0.305085, 205, 0.694915, 0.084906, 0.110512, 0.006749, 3.0, 3.0, 3], [\"v9\", \"4.0\", 0.023648, 20.0, 0.7358, -0.636635, 56, 0.019211, 13, 0.232143, 43, 0.767857, 0.012264, 0.023181, 0.00695, 4.0, 4.0, 4]]};\n",
       "        dt_args = eval_functions(dt_args);\n",
       "        table = $('#acd4c3bd-9a60-4455-9bb3-05a084b2be23').DataTable(dt_args);\n",
       "    });\n",
       "})\n",
       "</script>\n",
       "</div>\n"
      ],
      "text/plain": [
       "<IPython.core.display.HTML object>"
      ]
     },
     "metadata": {},
     "output_type": "display_data"
    },
    {
     "name": "stdout",
     "output_type": "stream",
     "text": [
      "Index(['col', 'bins', 'IV', 'score', 'coe', 'woe', 'total', 'totalrate', 'bad',\n",
      "       'badrate', 'good', 'goodrate', 'badattr', 'goodattr', 'bin_iv',\n",
      "       'min_bin', 'max_bin', 'fuzhu'],\n",
      "      dtype='object')\n"
     ]
    }
   ],
   "source": [
    "# 评分转换\n",
    "A,B,base_score = self_f_2.cal_scale(650,1,30,lr_model)\n",
    "dict_score_scale={\"A\":A,\"B\":B,\"base_score\":base_score}\n",
    "df_score_scale=pd.DataFrame(pd.Series(dict_score_scale),columns=[\"value\"])\n",
    "df_score_scale=df_score_scale.reset_index().rename(columns={'index':'type'})\n",
    "\n",
    "print(\"\\033[1;31m 评分卡刻度 \\033[0m\")\n",
    "show(df_score_scale)\n",
    "# df_score_scale.to_excel(\"df_score_scale.xlsx\")\n",
    "\n",
    "score_map_df  = self_f_2.get_score_map(woe_map_df2,coe_dict,B)\n",
    "print(\"\\033[1;31m 变量各分箱对应的分数 \\033[0m\\n\")\n",
    "\n",
    "show(score_map_df)\n",
    "print(score_map_df.columns)\n",
    "score_map_df.to_excel(\"score_map_df.xlsx\")"
   ]
  },
  {
   "cell_type": "markdown",
   "metadata": {},
   "source": [
    "### 训练集&验证集&时间外样本分数转换"
   ]
  },
  {
   "cell_type": "code",
   "execution_count": 29,
   "metadata": {},
   "outputs": [
    {
     "name": "stdout",
     "output_type": "stream",
     "text": [
      "\u001b[1;31m 评分转换完成--------------------------------------- \u001b[0m\n"
     ]
    }
   ],
   "source": [
    "# 分数映射\n",
    "#训练集\n",
    "train2_new=pd.merge(train_data,train_id,left_index=True,right_index=True)#之所以在这步就进行合并，将用户唯一识别ID识别出来，\n",
    "#因为在下一步由于是针对原始训练集进行来训练集和验证集抽样，进行索引重制时，会更新原有索引，无法通过索引关联，嫁给你用户唯一识别码合并进来\n",
    "# print(train2.shape[0])\n",
    "# print(train2.columns)\n",
    "# print(train2_new.shape[0])\n",
    "# print(train2_new.columns)\n",
    "# show(train2_new)\n",
    "\n",
    "train_data_2 = train2_new.iloc[train_index,:].loc[:,[key_name]+coef_select_col+[target]].reset_index(drop=True)\n",
    "\n",
    "train_score = self_f_2.var_mapping(train_data_2,score_map_df,'score',target,key_name=key_name)\n",
    "\n",
    "train_score['final_score'] = base_score\n",
    "for col in coef_select_col:\n",
    "    train_score['final_score']+=train_score[col]\n",
    "train_score['final_score'] = train_score['final_score'].map(lambda x:int(x))\n",
    "# train_score_new=pd.merge(train_id,train_score,left_index=True,right_index=True)\n",
    "train_score.to_excel(\"train_score.xlsx\")\n",
    "\n",
    "#验证集\n",
    "# valid_data = train2_new.iloc[valid_index,:].loc[:,[key_name]+coef_select_col+[target]].reset_index(drop=True)\n",
    "# valid_score = self_f_2.var_mapping(valid_data,score_map_df,'score',target)\n",
    "# valid_score['final_score'] = base_score\n",
    "# for col in coef_select_col:\n",
    "#     valid_score['final_score']+=valid_score[col]\n",
    "# valid_score['final_score'] = valid_score['final_score'].map(lambda x:int(x))\n",
    "# valid_score.to_excel(\"valid_score.xlsx\")\n",
    "\n",
    "oot_new=oot_data.loc[:,[key_name]+coef_select_col+[target]].reset_index(drop=True)\n",
    "oot_score = self_f_2.var_mapping(oot_new,score_map_df,'score',target,key_name=key_name)\n",
    "oot_score['final_score'] = base_score\n",
    "for col in coef_select_col:\n",
    "    oot_score['final_score']+=oot_score[col]\n",
    "oot_score['final_score'] = oot_score['final_score'].map(lambda x:int(x))\n",
    "oot_score.to_excel(\"oot_score.xlsx\")\n",
    "\n",
    "print('\\033[1;31m 评分转换完成--------------------------------------- \\033[0m')"
   ]
  },
  {
   "cell_type": "markdown",
   "metadata": {},
   "source": [
    "### 训练集&验证集&时间外样本分数分箱分布"
   ]
  },
  {
   "cell_type": "code",
   "execution_count": 30,
   "metadata": {},
   "outputs": [
    {
     "name": "stdout",
     "output_type": "stream",
     "text": [
      "\u001b[1;31m 训练集评分分箱分布\u001b[0m\n"
     ]
    },
    {
     "data": {
      "text/html": [
       "<div><table id=\"0d4e4f5b-9fb7-41b2-85fc-469e4b95fe8a\" class=\"display nowrap\"><thead>\n",
       "    <tr style=\"text-align: right;\">\n",
       "      <th></th>\n",
       "      <th>final_score</th>\n",
       "      <th>ks</th>\n",
       "      <th>pass_rate</th>\n",
       "      <th>total</th>\n",
       "      <th>totalrate</th>\n",
       "      <th>bad</th>\n",
       "      <th>badrate</th>\n",
       "      <th>good</th>\n",
       "      <th>goodrate</th>\n",
       "      <th>lj_bad</th>\n",
       "      <th>lj_bad_rate</th>\n",
       "      <th>lj_good</th>\n",
       "      <th>lj_good_rate</th>\n",
       "      <th>badattr</th>\n",
       "      <th>goodattr</th>\n",
       "    </tr>\n",
       "  </thead></table>\n",
       "<script type=\"text/javascript\">\n",
       "require([\"datatables\"], function (datatables) {\n",
       "    $(document).ready(function () {        \n",
       "        var dt_args = {\"columnDefs\": [{\"width\": \"90px\", \"targets\": \"_all\"}], \"lengthMenu\": [10, 10, 100, 200, 500, 1000, 2000, 5000], \"paging\": false, \"data\": [[0, \"(577.785, 599.5]\", \"0.94%\", \"99.66%\", 10, \"0.34%\", 10, \"100.00%\", 0, \"0.00%\", 10, \"0.94%\", 0, \"0.00%\", \"0.94%\", \"0.00%\"], [1, \"(599.5, 621.0]\", \"3.94%\", \"97.22%\", 71, \"2.44%\", 46, \"64.79%\", 25, \"35.21%\", 56, \"5.28%\", 25, \"1.35%\", \"4.34%\", \"1.35%\"], [2, \"(621.0, 642.5]\", \"16.71%\", \"83.84%\", 390, \"13.38%\", 228, \"58.46%\", 162, \"41.54%\", 284, \"26.79%\", 187, \"10.08%\", \"21.51%\", \"8.73%\"], [3, \"(642.5, 664.0]\", \"29.73%\", \"59.49%\", 710, \"24.36%\", 346, \"48.73%\", 364, \"51.27%\", 630, \"59.43%\", 551, \"29.70%\", \"32.64%\", \"19.62%\"], [4, \"(664.0, 685.5]\", \"28.41%\", \"40.72%\", 547, \"18.77%\", 190, \"34.73%\", 357, \"65.27%\", 820, \"77.36%\", 908, \"48.95%\", \"17.92%\", \"19.25%\"], [5, \"(685.5, 707.0]\", \"18.99%\", \"20.48%\", 590, \"20.24%\", 151, \"25.59%\", 439, \"74.41%\", 971, \"91.60%\", 1347, \"72.61%\", \"14.25%\", \"23.67%\"], [6, \"(707.0, 728.5]\", \"7.68%\", \"6.96%\", 394, \"13.52%\", 67, \"17.01%\", 327, \"82.99%\", 1038, \"97.92%\", 1674, \"90.24%\", \"6.32%\", \"17.63%\"], [7, \"(728.5, 750.0]\", \"1.85%\", \"1.65%\", 155, \"5.32%\", 17, \"10.97%\", 138, \"89.03%\", 1055, \"99.53%\", 1812, \"97.68%\", \"1.60%\", \"7.44%\"], [8, \"(750.0, 771.5]\", \"0.39%\", \"0.34%\", 38, \"1.30%\", 4, \"10.53%\", 34, \"89.47%\", 1059, \"99.91%\", 1846, \"99.51%\", \"0.38%\", \"1.83%\"], [9, \"(771.5, 793.0]\", \"0.00%\", \"0.00%\", 10, \"0.34%\", 1, \"10.00%\", 9, \"90.00%\", 1060, \"100.00%\", 1855, \"100.00%\", \"0.09%\", \"0.49%\"]]};\n",
       "        dt_args = eval_functions(dt_args);\n",
       "        table = $('#0d4e4f5b-9fb7-41b2-85fc-469e4b95fe8a').DataTable(dt_args);\n",
       "    });\n",
       "})\n",
       "</script>\n",
       "</div>\n"
      ],
      "text/plain": [
       "<IPython.core.display.HTML object>"
      ]
     },
     "metadata": {},
     "output_type": "display_data"
    },
    {
     "name": "stdout",
     "output_type": "stream",
     "text": [
      "\u001b[1;31m 时间外验证集评分分箱分布\u001b[0m\n"
     ]
    },
    {
     "data": {
      "text/html": [
       "<div><table id=\"72024e3f-e192-422c-9b86-d2c6d229cce6\" class=\"display nowrap\"><thead>\n",
       "    <tr style=\"text-align: right;\">\n",
       "      <th></th>\n",
       "      <th>final_score</th>\n",
       "      <th>ks</th>\n",
       "      <th>pass_rate</th>\n",
       "      <th>total</th>\n",
       "      <th>totalrate</th>\n",
       "      <th>bad</th>\n",
       "      <th>badrate</th>\n",
       "      <th>good</th>\n",
       "      <th>goodrate</th>\n",
       "      <th>lj_bad</th>\n",
       "      <th>lj_bad_rate</th>\n",
       "      <th>lj_good</th>\n",
       "      <th>lj_good_rate</th>\n",
       "      <th>badattr</th>\n",
       "      <th>goodattr</th>\n",
       "    </tr>\n",
       "  </thead></table>\n",
       "<script type=\"text/javascript\">\n",
       "require([\"datatables\"], function (datatables) {\n",
       "    $(document).ready(function () {        \n",
       "        var dt_args = {\"columnDefs\": [{\"width\": \"90px\", \"targets\": \"_all\"}], \"lengthMenu\": [10, 10, 100, 200, 500, 1000, 2000, 5000], \"paging\": false, \"data\": [[0, \"(584.808, 604.2]\", \"1.15%\", \"99.34%\", 6, \"0.66%\", 5, \"83.33%\", 1, \"16.67%\", 5, \"1.34%\", 1, \"0.19%\", \"1.34%\", \"0.19%\"], [1, \"(604.2, 623.4]\", \"4.44%\", \"94.85%\", 41, \"4.50%\", 24, \"58.54%\", 17, \"41.46%\", 29, \"7.77%\", 18, \"3.34%\", \"6.43%\", \"3.15%\"], [2, \"(623.4, 642.6]\", \"9.37%\", \"85.96%\", 81, \"8.88%\", 44, \"54.32%\", 37, \"45.68%\", 73, \"19.57%\", 55, \"10.20%\", \"11.80%\", \"6.86%\"], [3, \"(642.6, 661.8]\", \"24.82%\", \"64.80%\", 193, \"21.16%\", 113, \"58.55%\", 80, \"41.45%\", 186, \"49.87%\", 135, \"25.05%\", \"30.29%\", \"14.84%\"], [4, \"(661.8, 681.0]\", \"24.68%\", \"48.90%\", 145, \"15.90%\", 59, \"40.69%\", 86, \"59.31%\", 245, \"65.68%\", 221, \"41.00%\", \"15.82%\", \"15.96%\"], [5, \"(681.0, 700.2]\", \"15.27%\", \"27.52%\", 195, \"21.38%\", 59, \"30.26%\", 136, \"69.74%\", 304, \"81.50%\", 357, \"66.23%\", \"15.82%\", \"25.23%\"], [6, \"(700.2, 719.4]\", \"6.51%\", \"9.21%\", 167, \"18.31%\", 49, \"29.34%\", 118, \"70.66%\", 353, \"94.64%\", 475, \"88.13%\", \"13.14%\", \"21.89%\"], [7, \"(719.4, 738.6]\", \"2.37%\", \"2.74%\", 59, \"6.47%\", 15, \"25.42%\", 44, \"74.58%\", 368, \"98.66%\", 519, \"96.29%\", \"4.02%\", \"8.16%\"], [8, \"(738.6, 757.8]\", \"0.74%\", \"0.44%\", 21, \"2.30%\", 5, \"23.81%\", 16, \"76.19%\", 373, \"100.00%\", 535, \"99.26%\", \"1.34%\", \"2.97%\"], [9, \"(757.8, 777.0]\", \"0.00%\", \"0.00%\", 4, \"0.44%\", 0, \"0.00%\", 4, \"100.00%\", 373, \"100.00%\", 539, \"100.00%\", \"0.00%\", \"0.74%\"]]};\n",
       "        dt_args = eval_functions(dt_args);\n",
       "        table = $('#72024e3f-e192-422c-9b86-d2c6d229cce6').DataTable(dt_args);\n",
       "    });\n",
       "})\n",
       "</script>\n",
       "</div>\n"
      ],
      "text/plain": [
       "<IPython.core.display.HTML object>"
      ]
     },
     "metadata": {},
     "output_type": "display_data"
    },
    {
     "data": {
      "image/png": "[encoded data removed]",
      "text/plain": [
       "<Figure size 432x288 with 1 Axes>"
      ]
     },
     "metadata": {
      "needs_background": "light"
     },
     "output_type": "display_data"
    },
    {
     "data": {
      "image/png": "[encoded data removed]",
      "text/plain": [
       "<Figure size 432x288 with 1 Axes>"
      ]
     },
     "metadata": {
      "needs_background": "light"
     },
     "output_type": "display_data"
    }
   ],
   "source": [
    "#分数分布，默认按照以下分位点分箱[0.1,0.2,0.3,0.4,0.45,0.5,0.55,0.6,0.65,0.7,0.8,0.9,1.0]\n",
    "#训练集\n",
    "print(\"\\033[1;31m 训练集评分分箱分布\\033[0m\")\n",
    "train_score_distribution=self_f_2.score_distribution(train_score,group_type='cut',cut_cut_list=10)\n",
    "show(train_score_distribution,columnDefs=[{\"width\": \"90px\", \"targets\": \"_all\"}])\n",
    "\n",
    "#验证集\n",
    "# print(\"\\033[1;31m 验证集评分分箱分布\\033[0m\")\n",
    "# valid_score_distribution=self_f_2.score_distribution(valid_score,group_type=\"cut\",cut_cut_list=10)\n",
    "# show(valid_score_distribution,columnDefs=[{\"width\": \"90px\", \"targets\": \"_all\"}])\n",
    "\n",
    "#时间外验证集\n",
    "print(\"\\033[1;31m 时间外验证集评分分箱分布\\033[0m\")\n",
    "oot_score_distribution=self_f_2.score_distribution(oot_score,group_type=\"cut\",cut_cut_list=10)\n",
    "show(oot_score_distribution,columnDefs=[{\"width\": \"90px\", \"targets\": \"_all\"}])\n",
    "\n",
    "# 训练集的评分分布\n",
    "self_f_2.plot_score_hist(train_score, target, 'final_score','train_score',plt_size=(6,4))\n",
    "# 验证集的评分分布\n",
    "# self_f_2.plot_score_hist(valid_score, target, 'final_score','valid_score',plt_size=(6,4))\n",
    "# 测试集的评分分布\n",
    "self_f_2.plot_score_hist(oot_score, target, 'final_score','oot_score',plt_size=(6,4))"
   ]
  }
 ],
 "metadata": {
  "hide_input": false,
  "kernelspec": {
   "display_name": "Python 3",
   "language": "python",
   "name": "python3"
  },
  "language_info": {
   "codemirror_mode": {
    "name": "ipython",
    "version": 3
   },
   "file_extension": ".py",
   "mimetype": "text/x-python",
   "name": "python",
   "nbconvert_exporter": "python",
   "pygments_lexer": "ipython3",
   "version": "3.7.6"
  },
  "toc": {
   "base_numbering": 1,
   "nav_menu": {},
   "number_sections": true,
   "sideBar": true,
   "skip_h1_title": true,
   "title_cell": "Table of Contents",
   "title_sidebar": "Contents",
   "toc_cell": true,
   "toc_position": {
    "height": "calc(100% - 180px)",
    "left": "10px",
    "top": "150px",
    "width": "237px"
   },
   "toc_section_display": true,
   "toc_window_display": true
  }
 },
 "nbformat": 4,
 "nbformat_minor": 2
}

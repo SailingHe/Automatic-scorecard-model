{
 "cells": [
  {
   "cell_type": "markdown",
   "metadata": {
    "toc": true
   },
   "source": [
    "<h1>Table of Contents<span class=\"tocSkip\"></span></h1>\n",
    "<div class=\"toc\"><ul class=\"toc-item\"><li><span><a href=\"#数据读取&amp;基本情况查看\" data-toc-modified-id=\"数据读取&amp;基本情况查看-1\"><span class=\"toc-item-num\">1&nbsp;&nbsp;</span>数据读取&amp;基本情况查看</a></span></li><li><span><a href=\"#数据预处理\" data-toc-modified-id=\"数据预处理-2\"><span class=\"toc-item-num\">2&nbsp;&nbsp;</span>数据预处理</a></span><ul class=\"toc-item\"><li><span><a href=\"#异常值检测&amp;处理\" data-toc-modified-id=\"异常值检测&amp;处理-2.1\"><span class=\"toc-item-num\">2.1&nbsp;&nbsp;</span>异常值检测&amp;处理</a></span></li><li><span><a href=\"#特征衍生\" data-toc-modified-id=\"特征衍生-2.2\"><span class=\"toc-item-num\">2.2&nbsp;&nbsp;</span>特征衍生</a></span></li><li><span><a href=\"#缺失值检测&amp;处理\" data-toc-modified-id=\"缺失值检测&amp;处理-2.3\"><span class=\"toc-item-num\">2.3&nbsp;&nbsp;</span>缺失值检测&amp;处理</a></span><ul class=\"toc-item\"><li><span><a href=\"#缺失过多特征删除\" data-toc-modified-id=\"缺失过多特征删除-2.3.1\"><span class=\"toc-item-num\">2.3.1&nbsp;&nbsp;</span>缺失过多特征删除</a></span></li><li><span><a href=\"#直接填充默认缺失值\" data-toc-modified-id=\"直接填充默认缺失值-2.3.2\"><span class=\"toc-item-num\">2.3.2&nbsp;&nbsp;</span>直接填充默认缺失值</a></span></li></ul></li></ul></li><li><span><a href=\"#特征筛选\" data-toc-modified-id=\"特征筛选-3\"><span class=\"toc-item-num\">3&nbsp;&nbsp;</span>特征筛选</a></span><ul class=\"toc-item\"><li><span><a href=\"#psi筛选\" data-toc-modified-id=\"psi筛选-3.1\"><span class=\"toc-item-num\">3.1&nbsp;&nbsp;</span>psi筛选</a></span></li><li><span><a href=\"#随机森林筛选特征\" data-toc-modified-id=\"随机森林筛选特征-3.2\"><span class=\"toc-item-num\">3.2&nbsp;&nbsp;</span>随机森林筛选特征</a></span></li><li><span><a href=\"#iv筛选\" data-toc-modified-id=\"iv筛选-3.3\"><span class=\"toc-item-num\">3.3&nbsp;&nbsp;</span>iv筛选</a></span></li><li><span><a href=\"#人工去除偏事后特征\" data-toc-modified-id=\"人工去除偏事后特征-3.4\"><span class=\"toc-item-num\">3.4&nbsp;&nbsp;</span>人工去除偏事后特征</a></span></li><li><span><a href=\"#相关性筛选，多重共线性筛选\" data-toc-modified-id=\"相关性筛选，多重共线性筛选-3.5\"><span class=\"toc-item-num\">3.5&nbsp;&nbsp;</span>相关性筛选，多重共线性筛选</a></span></li><li><span><a href=\"#分箱调整\" data-toc-modified-id=\"分箱调整-3.6\"><span class=\"toc-item-num\">3.6&nbsp;&nbsp;</span>分箱调整</a></span></li><li><span><a href=\"#woe编码后相关性筛选\" data-toc-modified-id=\"woe编码后相关性筛选-3.7\"><span class=\"toc-item-num\">3.7&nbsp;&nbsp;</span>woe编码后相关性筛选</a></span></li><li><span><a href=\"#剔除系数和其他系数符号不一致的特征\" data-toc-modified-id=\"剔除系数和其他系数符号不一致的特征-3.8\"><span class=\"toc-item-num\">3.8&nbsp;&nbsp;</span>剔除系数和其他系数符号不一致的特征</a></span></li></ul></li><li><span><a href=\"#模型训练和评价\" data-toc-modified-id=\"模型训练和评价-4\"><span class=\"toc-item-num\">4&nbsp;&nbsp;</span>模型训练和评价</a></span></li><li><span><a href=\"#分数映射&amp;分数分布\" data-toc-modified-id=\"分数映射&amp;分数分布-5\"><span class=\"toc-item-num\">5&nbsp;&nbsp;</span>分数映射&amp;分数分布</a></span><ul class=\"toc-item\"><li><span><a href=\"#分数刻度&amp;各入模变量相应分箱得分\" data-toc-modified-id=\"分数刻度&amp;各入模变量相应分箱得分-5.1\"><span class=\"toc-item-num\">5.1&nbsp;&nbsp;</span>分数刻度&amp;各入模变量相应分箱得分</a></span></li><li><span><a href=\"#训练集&amp;验证集&amp;时间外样本分数转换\" data-toc-modified-id=\"训练集&amp;验证集&amp;时间外样本分数转换-5.2\"><span class=\"toc-item-num\">5.2&nbsp;&nbsp;</span>训练集&amp;验证集&amp;时间外样本分数转换</a></span></li><li><span><a href=\"#训练集&amp;验证集&amp;时间外样本分数分箱分布\" data-toc-modified-id=\"训练集&amp;验证集&amp;时间外样本分数分箱分布-5.3\"><span class=\"toc-item-num\">5.3&nbsp;&nbsp;</span>训练集&amp;验证集&amp;时间外样本分数分箱分布</a></span></li></ul></li></ul></div>"
   ]
  },
  {
   "cell_type": "markdown",
   "metadata": {},
   "source": [
    "# 评分卡建模模板"
   ]
  },
  {
   "cell_type": "markdown",
   "metadata": {},
   "source": [
    "author:33\n",
    "\n",
    "date:2020/3/23"
   ]
  },
  {
   "cell_type": "code",
   "execution_count": 1,
   "metadata": {},
   "outputs": [
    {
     "data": {
      "text/html": [
       "<script>jQuery(function() {if (jQuery(\"body.notebook_app\").length == 0) { jQuery(\".input_area\").toggle(); jQuery(\".prompt\").toggle();}});</script>"
      ]
     },
     "metadata": {},
     "output_type": "display_data"
    },
    {
     "data": {
      "text/html": [
       "<style>#notebook div.output_subarea {max-width:100%;}</style>"
      ],
      "text/plain": [
       "<IPython.core.display.HTML object>"
      ]
     },
     "execution_count": 1,
     "metadata": {},
     "output_type": "execute_result"
    }
   ],
   "source": [
    "\n",
    "#隐藏导出html和pdf里面的代码\n",
    "#这个在你自己编辑notebook时不起作用，对导出结果中所有代码起作用：导出html或者pdf中是没有代码的\n",
    "from IPython.display import display\n",
    "from IPython.display import HTML\n",
    "import IPython.core.display as di\n",
    "di.display_html('<script>jQuery(function() {if (jQuery(\"body.notebook_app\").length == 0) { jQuery(\".input_area\").toggle(); jQuery(\".prompt\").toggle();}});</script>', raw=True)\n",
    "CSS = \"\"\"#notebook div.output_subarea {max-width:100%;}\"\"\" #changes output_subarea width to 100% (from 100% - 14ex)\n",
    "HTML('<style>{}</style>'.format(CSS))"
   ]
  },
  {
   "cell_type": "code",
   "execution_count": 2,
   "metadata": {},
   "outputs": [
    {
     "data": {
      "application/javascript": [
       "require.config({\n",
       "    paths: {\n",
       "        datatables: 'https://cdn.datatables.net/1.10.19/js/jquery.dataTables.min',\n",
       "    }\n",
       "});\n",
       "\n",
       "$('head').append('<link rel=\"stylesheet\" type=\"text/css\" \\\n",
       "                href = \"https://cdn.datatables.net/1.10.19/css/jquery.dataTables.min.css\" > ');\n",
       "\n",
       "$('head').append('<style> table td { text-overflow: ellipsis; overflow: hidden; } </style>');\n",
       "\n",
       "$('head').append(`<script>\n",
       "function eval_functions(map_or_text) {\n",
       "    if (typeof map_or_text === \"string\") {\n",
       "        if (map_or_text.startsWith(\"function\")) {\n",
       "            try {\n",
       "                // Note: parenthesis are required around the whole expression for eval to return a value!\n",
       "                // See https://stackoverflow.com/a/7399078/911298.\n",
       "                //\n",
       "                // eval(\"local_fun = \" + map_or_text) would fail because local_fun is not declared\n",
       "                // (using var, let or const would work, but it would only be declared in the local scope\n",
       "                // and therefore the value could not be retrieved).\n",
       "                const func = eval(\"(\" + map_or_text + \")\");\n",
       "                if (typeof func !== \"function\") {\n",
       "                    // Note: backquotes are super convenient!\n",
       "                    // https://developer.mozilla.org/en-US/docs/Web/JavaScript/Reference/Template_literals\n",
       "                    console.error(\"Evaluated expression \" + map_or_text + \" is not a function (type is \" + typeof func + \")\");\n",
       "                    return map_or_text;\n",
       "                }\n",
       "                // Return the function\n",
       "                return func;\n",
       "            } catch (e) {\n",
       "                // Make sure to print the error with a second argument to console.error().\n",
       "                console.error(\"itables was not able to parse \" + map_or_text, e);\n",
       "            }\n",
       "        }\n",
       "    } else if (typeof map_or_text === \"object\") {\n",
       "        if (map_or_text instanceof Array) {\n",
       "            // Note: \"var\" is now superseded by \"let\" and \"const\".\n",
       "            // https://medium.com/javascript-scene/javascript-es6-var-let-or-const-ba58b8dcde75\n",
       "            const result = [];\n",
       "            // Note: \"for of\" is the best way to iterate through an iterable.\n",
       "            // https://developer.mozilla.org/en-US/docs/Web/JavaScript/Reference/Statements/for...of\n",
       "            for (const item of map_or_text) {\n",
       "                result.push(eval_functions(item));\n",
       "            }\n",
       "            return result;\n",
       "\n",
       "            // Alternatively, more functional approach in one line:\n",
       "            // return map_or_text.map(eval_functions);\n",
       "        } else {\n",
       "            const result = {};\n",
       "            // Object.keys() is safer than \"for in\" because otherwise you might have keys\n",
       "            // that aren't defined in the object itself.\n",
       "            //\n",
       "            // See https://stackoverflow.com/a/684692/911298.\n",
       "            for (const item of Object.keys(map_or_text)) {\n",
       "                result[item] = eval_functions(map_or_text[item]);\n",
       "            }\n",
       "            return result;\n",
       "        }\n",
       "    }\n",
       "\n",
       "    return map_or_text;\n",
       "}\n",
       "</` + 'script>');"
      ],
      "text/plain": [
       "<IPython.core.display.Javascript object>"
      ]
     },
     "metadata": {},
     "output_type": "display_data"
    }
   ],
   "source": [
    "#包加载\n",
    "import sys\n",
    "import os ##显示工作路径，修改工作路径的包\n",
    "import numpy as np##是python数值计算基石，听过多种数据结构，算法以及设计计算所需的接口\n",
    "import pandas as pd##提供了高级数据结构和函数，dataframe,series\n",
    "import math \n",
    "import statsmodels.api as sm##统计分析包，方差分析，时间序列分析，非参数估计 import statsmodels.api as sm\n",
    "from statsmodels.stats.outliers_influence import variance_inflation_factor\n",
    "from sklearn import preprocessing\n",
    "from sklearn.model_selection import train_test_split\n",
    "from sklearn import metrics \n",
    "from sklearn.linear_model import LogisticRegression\n",
    "from sklearn.model_selection import cross_val_score\n",
    "from sklearn.tree import DecisionTreeClassifier,_tree\n",
    "from IPython.display import display\n",
    "import warnings\n",
    "warnings.filterwarnings('ignore')\n",
    "#可视化\n",
    "import matplotlib.pyplot as plt ##python里适用最广泛的 可视化库，与其他库良好整合\n",
    "import seaborn as sns ##此包是基于matplotlib的可视化包\n",
    "import itables.interactive#每一个表都是交互型的表\n",
    "from itables import show\n",
    "import itables.options as opt\n",
    "opt.classes = [\"display\", \"nowrap\"]\n",
    "opt.lengthMenu = [10, 10, 100, 200, 500, 1000, 2000, 5000]\n",
    "opt.maxBytes = 200000\n",
    "opt.maxColumns=100\n",
    "opt.columnDefs=[{\"width\": \"150px\", \"targets\": \"_all\"}]"
   ]
  },
  {
   "cell_type": "code",
   "execution_count": 3,
   "metadata": {},
   "outputs": [],
   "source": [
    "##导入自定义函数\n",
    "##当自定义函数和当前默认工作路径不一致时\n",
    "sys.path.append('/Users/heshan/python学习/学习项目/self_function') #自定义函数对应的路径\n",
    "import self_f_2  #加载自定义的函数py文件\n",
    "# sys.path\n",
    "warnings.filterwarnings('ignore')\n",
    "\n",
    "##当自定义函数和当前默认工作路径一致时\n",
    "# import FileWriteAbout  # 导入另一个文件\n",
    "# FileWriteAbout.writeList()  #调用其中的函数名\n",
    "\n",
    "# os.getcwd()\n",
    "# print(os.getcwd())#显示当前路径\n",
    "#os.chdir('')#更改路径，''里面为更改的路径"
   ]
  },
  {
   "cell_type": "markdown",
   "metadata": {},
   "source": [
    "## 数据读取&基本情况查看"
   ]
  },
  {
   "cell_type": "code",
   "execution_count": 4,
   "metadata": {},
   "outputs": [
    {
     "name": "stdout",
     "output_type": "stream",
     "text": [
      "<class 'pandas.core.frame.DataFrame'>\n",
      "RangeIndex: 5456 entries, 0 to 5455\n",
      "Data columns (total 43 columns):\n",
      "id        5456 non-null int64\n",
      "date      5456 non-null datetime64[ns]\n",
      "v1        4324 non-null float64\n",
      "v2        5456 non-null object\n",
      "v3        4255 non-null float64\n",
      "v4        5293 non-null float64\n",
      "v5        5440 non-null float64\n",
      "v6        3454 non-null float64\n",
      "v7        2467 non-null float64\n",
      "v8        5456 non-null int64\n",
      "v9        5456 non-null object\n",
      "v10       5456 non-null object\n",
      "v11       5098 non-null float64\n",
      "v12       4967 non-null float64\n",
      "v13       5213 non-null float64\n",
      "v14       5004 non-null float64\n",
      "v15       5070 non-null float64\n",
      "v16       2054 non-null float64\n",
      "v17       2054 non-null object\n",
      "v18       5176 non-null float64\n",
      "v19       5021 non-null float64\n",
      "v20       5155 non-null float64\n",
      "v21       5081 non-null float64\n",
      "v22       5205 non-null float64\n",
      "v23       5207 non-null float64\n",
      "v24       5034 non-null float64\n",
      "v25       5450 non-null float64\n",
      "v26       5456 non-null int64\n",
      "v28       4317 non-null float64\n",
      "v29       4424 non-null float64\n",
      "v30       4424 non-null float64\n",
      "v31       4424 non-null float64\n",
      "v32       4424 non-null float64\n",
      "v33       4427 non-null float64\n",
      "v34       4061 non-null float64\n",
      "v35       88 non-null object\n",
      "v36       1456 non-null float64\n",
      "v37       1457 non-null float64\n",
      "v38       3892 non-null float64\n",
      "v39       100 non-null object\n",
      "v40       4324 non-null float64\n",
      "v41       5456 non-null int64\n",
      "target    5456 non-null int64\n",
      "dtypes: datetime64[ns](1), float64(31), int64(5), object(6)\n",
      "memory usage: 1.8+ MB\n",
      "None\n",
      "\u001b[1;31m连续型变量分布\n",
      " \u001b[0m\n"
     ]
    },
    {
     "data": {
      "text/html": [
       "<div><table id=\"1aa5b22a-7e85-43b3-abf7-cd072fcd9317\" class=\"display nowrap\"><thead>\n",
       "    <tr style=\"text-align: right;\">\n",
       "      <th></th>\n",
       "      <th>id</th>\n",
       "      <th>v1</th>\n",
       "      <th>v3</th>\n",
       "      <th>v4</th>\n",
       "      <th>v5</th>\n",
       "      <th>v6</th>\n",
       "      <th>v7</th>\n",
       "      <th>v8</th>\n",
       "      <th>v11</th>\n",
       "      <th>v12</th>\n",
       "      <th>v13</th>\n",
       "      <th>v14</th>\n",
       "      <th>v15</th>\n",
       "      <th>v16</th>\n",
       "      <th>v18</th>\n",
       "      <th>v19</th>\n",
       "      <th>v20</th>\n",
       "      <th>v21</th>\n",
       "      <th>v22</th>\n",
       "      <th>v23</th>\n",
       "      <th>v24</th>\n",
       "      <th>v25</th>\n",
       "      <th>v26</th>\n",
       "      <th>v28</th>\n",
       "      <th>v29</th>\n",
       "      <th>v30</th>\n",
       "      <th>v31</th>\n",
       "      <th>v32</th>\n",
       "      <th>v33</th>\n",
       "      <th>v34</th>\n",
       "      <th>v36</th>\n",
       "      <th>v37</th>\n",
       "      <th>v38</th>\n",
       "      <th>v40</th>\n",
       "      <th>v41</th>\n",
       "      <th>target</th>\n",
       "    </tr>\n",
       "  </thead></table>\n",
       "<script type=\"text/javascript\">\n",
       "require([\"datatables\"], function (datatables) {\n",
       "    $(document).ready(function () {        \n",
       "        var dt_args = {\"columnDefs\": [{\"width\": \"200px\", \"high\": \"80px\", \"targets\": \"_all\"}], \"lengthMenu\": [10, 10, 100, 200, 500, 1000, 2000, 5000], \"paging\": false, \"data\": [[\"count\", 5456.0, 4324.0, 4255.0, 5293.0, 5440.0, 3454.0, 2467.0, 5456.0, 5098.0, 4967.0, 5213.0, 5004.0, 5070.0, 2054.0, 5176.0, 5021.0, 5155.0, 5081.0, 5205.0, 5207.0, 5034.0, 5450.0, 5456.0, 4317.0, 4424.0, 4424.0, 4424.0, 4424.0, 4427.0, 4061.0, 1456.0, 1457.0, 3892.0, 4324.0, 5456.0, 5456.0], [\"mean\", 2728.5, 18.508094, 6.13443, 9.409787, 12.4875, 4.127099, 2.498581, 0.945931, 601.033739, 618.445138, 656.857664, 26.528577, 580.32643, 4.23369, 44.915572, 55.762, 56.141998, 61.04999, 677.276273, 600.134626, 643.537545, 46.125321, 0.309384, 54.053278, 0.15009, 0.378391, 1.973327, 2.501808, 148.086063, 3996.488796, 79070630.0, 398130000000.0, 4.762076, 18.508094, 32.655242, 0.461144], [\"std\", 1575.155865, 25.545579, 8.089984, 11.939585, 15.7683, 5.286717, 2.924347, 0.226174, 96.88991, 125.58372, 131.425412, 8.352241, 150.765249, 1.451242, 14.440898, 19.201721, 13.028506, 17.12408, 73.767806, 144.973297, 61.499895, 17.327624, 0.462282, 3047.642634, 0.385804, 0.485972, 0.350334, 0.60855, 3959.28107, 891.050712, 232865600.0, 100026700000.0, 2.90639, 25.545579, 8.431342, 0.672596], [\"min\", 1.0, 1.0, 1.0, 1.0, 1.0, 1.0, 1.0, 0.0, 343.0, 300.0, 300.0, 2.0, 300.0, 3.0, 1.0, 5.0, 29.0, 4.0, 414.0, 300.0, 309.0, 2.0, 0.0, 1.0, 0.0, 0.0, 0.0, 1.0, 0.0, 1.0, 0.0, 0.0, 0.0, 1.0, 18.0, 0.0], [\"25%\", 1364.75, 3.0, 2.0, 2.0, 3.0, 1.0, 1.0, 1.0, 523.0, 528.0, 572.0, 22.0, 464.0, 3.0, 35.0, 43.0, 48.0, 49.0, 636.0, 500.0, 617.0, 33.0, 0.0, 2.0, 0.0, 0.0, 2.0, 2.0, 1.0, 3306.0, 32000.0, 330327000000.0, 2.0, 3.0, 26.0, 0.0], [\"50%\", 2728.5, 10.0, 3.0, 5.0, 6.0, 2.0, 2.0, 1.0, 621.0, 648.0, 666.0, 24.0, 602.0, 4.0, 45.0, 51.0, 54.0, 60.0, 678.0, 618.0, 646.0, 46.0, 0.0, 3.0, 0.0, 0.0, 2.0, 2.0, 1.0, 4110.0, 60000.0, 430100000000.0, 5.0, 10.0, 31.0, 0.0], [\"75%\", 4092.25, 23.0, 7.0, 11.0, 16.0, 5.0, 3.0, 1.0, 677.0, 717.0, 750.0, 31.0, 688.0, 5.0, 54.0, 70.0, 65.0, 73.0, 719.0, 700.0, 678.0, 59.0, 1.0, 5.0, 0.0, 1.0, 2.0, 3.0, 1.0, 4503.0, 90000.0, 450900000000.0, 7.0, 23.0, 37.0, 1.0], [\"max\", 5456.0, 300.0, 101.0, 124.0, 145.0, 67.0, 38.0, 1.0, 823.0, 905.0, 991.0, 65.0, 994.0, 10.0, 100.0, 100.0, 91.0, 100.0, 875.0, 998.0, 869.0, 93.0, 1.0, 200000.0, 3.0, 2.0, 4.0, 5.0, 176300.0, 6529.0, 1889360000.0, 653201000000.0, 14.0, 300.0, 63.0, 2.0]]};\n",
       "        dt_args = eval_functions(dt_args);\n",
       "        table = $('#1aa5b22a-7e85-43b3-abf7-cd072fcd9317').DataTable(dt_args);\n",
       "    });\n",
       "})\n",
       "</script>\n",
       "</div>\n"
      ],
      "text/plain": [
       "<IPython.core.display.HTML object>"
      ]
     },
     "metadata": {},
     "output_type": "display_data"
    },
    {
     "name": "stdout",
     "output_type": "stream",
     "text": [
      "\u001b[1;31m离散型变量分布\n",
      " \u001b[0m\n"
     ]
    },
    {
     "data": {
      "text/html": [
       "<div><table id=\"1e69e2f2-c678-430d-bdd1-4bbd35bd94c2\" class=\"display nowrap\"><thead>\n",
       "    <tr style=\"text-align: right;\">\n",
       "      <th></th>\n",
       "      <th>v2</th>\n",
       "      <th>v9</th>\n",
       "      <th>v10</th>\n",
       "      <th>v17</th>\n",
       "      <th>v35</th>\n",
       "      <th>v39</th>\n",
       "    </tr>\n",
       "  </thead></table>\n",
       "<script type=\"text/javascript\">\n",
       "require([\"datatables\"], function (datatables) {\n",
       "    $(document).ready(function () {        \n",
       "        var dt_args = {\"columnDefs\": [{\"width\": \"150px\", \"targets\": \"_all\"}], \"lengthMenu\": [10, 10, 100, 200, 500, 1000, 2000, 5000], \"paging\": false, \"data\": [[\"count\", \"5456\", \"5456\", \"5456\", \"2054\", \"88\", \"100\"], [\"unique\", \"3\", \"5\", \"7\", \"4\", \"13\", \"93\"], [\"top\", \"A\", \"E\", \"g\", \"a\", \"\\u5c0f\\u578b\\u8f7f\\u8f66\", \"4.08\"], [\"freq\", \"4190\", \"1688\", \"1463\", \"857\", \"42\", \"3\"]]};\n",
       "        dt_args = eval_functions(dt_args);\n",
       "        table = $('#1e69e2f2-c678-430d-bdd1-4bbd35bd94c2').DataTable(dt_args);\n",
       "    });\n",
       "})\n",
       "</script>\n",
       "</div>\n"
      ],
      "text/plain": [
       "<IPython.core.display.HTML object>"
      ]
     },
     "metadata": {},
     "output_type": "display_data"
    }
   ],
   "source": [
    "#数据读取\n",
    "data=pd.read_excel(\"scorecard_model_sample.xlsx\")\n",
    "print(data.info())\n",
    "# show(data.head(),columnDefs=[{\"width\": \"300px\", \"targets\": \"_all\"}])\n",
    "print(\"\\033[1;31m连续型变量分布\\n \\033[0m\")\n",
    "show(data.describe(),columnDefs=[{\"width\": \"200px\",\"high\": \"80px\", \"targets\": \"_all\"}])\n",
    "print(\"\\033[1;31m离散型变量分布\\n \\033[0m\")\n",
    "show(data.describe(include=['object']))"
   ]
  },
  {
   "cell_type": "markdown",
   "metadata": {},
   "source": [
    "## 数据预处理\n",
    "\n",
    "### 异常值检测&处理\n",
    "\n",
    "针对异常变量可根据对数据对理解进行极端值分数映射转换或者删除极端值对应对样本"
   ]
  },
  {
   "cell_type": "code",
   "execution_count": 5,
   "metadata": {},
   "outputs": [
    {
     "name": "stdout",
     "output_type": "stream",
     "text": [
      "\u001b[1;31m离散型变量个数\n",
      " \u001b[0m 6\n",
      "\u001b[1;31m连续型变量个数\n",
      " \u001b[0m 37\n"
     ]
    },
    {
     "data": {
      "text/html": [
       "<div><table id=\"a5ee297e-fa88-47da-b3e1-399da6b2f5d0\" class=\"display nowrap\"><thead>\n",
       "    <tr style=\"text-align: right;\">\n",
       "      <th></th>\n",
       "      <th>v2</th>\n",
       "      <th>v9</th>\n",
       "      <th>v10</th>\n",
       "      <th>v17</th>\n",
       "      <th>v35</th>\n",
       "      <th>v39</th>\n",
       "      <th>date_abnormal</th>\n",
       "      <th>v1_abnormal</th>\n",
       "    </tr>\n",
       "  </thead></table>\n",
       "<script type=\"text/javascript\">\n",
       "require([\"datatables\"], function (datatables) {\n",
       "    $(document).ready(function () {        \n",
       "        var dt_args = {\"columnDefs\": [{\"width\": \"150px\", \"targets\": \"_all\"}], \"lengthMenu\": [10, 10, 100, 200, 500, 1000, 2000, 5000], \"paging\": false, \"data\": [[\"count\", \"5456\", \"5456\", \"5456\", \"2054\", \"88\", \"100\", \"5456\", \"5456\"], [\"unique\", \"3\", \"5\", \"7\", \"4\", \"13\", \"93\", \"2\", \"2\"], [\"top\", \"A\", \"E\", \"g\", \"a\", \"\\u5c0f\\u578b\\u8f7f\\u8f66\", \"4.08\", \"zhengchang\", \"zhengchang\"], [\"freq\", \"4190\", \"1688\", \"1463\", \"857\", \"42\", \"3\", \"5103\", \"5107\"]]};\n",
       "        dt_args = eval_functions(dt_args);\n",
       "        table = $('#a5ee297e-fa88-47da-b3e1-399da6b2f5d0').DataTable(dt_args);\n",
       "    });\n",
       "})\n",
       "</script>\n",
       "</div>\n"
      ],
      "text/plain": [
       "          v2    v9   v10   v17   v35   v39 date_abnormal v1_abnormal\n",
       "count   5456  5456  5456  2054    88   100          5456        5456\n",
       "unique     3     5     7     4    13    93             2           2\n",
       "top        A     E     g     a  小型轿车  4.08    zhengchang  zhengchang\n",
       "freq    4190  1688  1463   857    42     3          5103        5107"
      ]
     },
     "execution_count": 5,
     "metadata": {},
     "output_type": "execute_result"
    }
   ],
   "source": [
    "#1.数据预处理\n",
    "\n",
    "#1.1异常值\n",
    "    #1.1.1异常值检测\n",
    "\n",
    "character_feature,count=self_f_2.character_VarFindFunc(data)\n",
    "data_num=data.drop(character_feature,axis=1)\n",
    "print(\"\\033[1;31m离散型变量个数\\n \\033[0m\",count)\n",
    "print(\"\\033[1;31m连续型变量个数\\n \\033[0m\",len(data.columns)-count)\n",
    "\n",
    "data_abnormal=data.copy()\n",
    "\n",
    "data_abnormal=self_f_2.find_abnormal(data_abnormal)\n",
    "\n",
    "# data_abnormal.head()\n",
    "# data_abnormal.describe()\n",
    "data_abnormal.describe(include=['object'])#查看离散型特征情况\n",
    "\n",
    "#针对异常变量可根据对数据对理解进行极端值分数映射转换或者删除极端值对应对样本"
   ]
  },
  {
   "cell_type": "markdown",
   "metadata": {},
   "source": [
    "### 特征衍生\n",
    "这里主要是做特征各种交叉衍生的工作"
   ]
  },
  {
   "cell_type": "markdown",
   "metadata": {},
   "source": [
    "### 缺失值检测&处理"
   ]
  },
  {
   "cell_type": "code",
   "execution_count": 6,
   "metadata": {},
   "outputs": [
    {
     "name": "stdout",
     "output_type": "stream",
     "text": [
      "\u001b[1;31m有缺失值的变量个数:\n",
      " \u001b[0m 34\n",
      "\u001b[1;31m各变量缺失率展示\n",
      " \u001b[0m\n"
     ]
    },
    {
     "data": {
      "text/html": [
       "<div><table id=\"b51b93ca-5f1a-42e5-b9ef-0a89fa83488c\" class=\"display nowrap\"><thead>\n",
       "    <tr style=\"text-align: right;\">\n",
       "      \n",
       "      <th>index</th>\n",
       "      <th>var_name</th>\n",
       "      <th>queshi_num</th>\n",
       "      <th>na_rate</th>\n",
       "      <th>na_rate_new</th>\n",
       "    </tr>\n",
       "  </thead></table>\n",
       "<script type=\"text/javascript\">\n",
       "require([\"datatables\"], function (datatables) {\n",
       "    $(document).ready(function () {        \n",
       "        var dt_args = {\"columnDefs\": [{\"width\": \"150px\", \"targets\": \"_all\"}], \"lengthMenu\": [10, 10, 100, 200, 500, 1000, 2000, 5000], \"data\": [[0, \"v35\", 5368, 0.9839, \"98.39%\"], [1, \"v39\", 5356, 0.9817, \"98.17%\"], [2, \"v36\", 4000, 0.7331, \"73.31%\"], [3, \"v37\", 3999, 0.733, \"73.30%\"], [4, \"v16\", 3402, 0.6235, \"62.35%\"], [5, \"v17\", 3402, 0.6235, \"62.35%\"], [6, \"v7\", 2989, 0.5478, \"54.78%\"], [7, \"v6\", 2002, 0.3669, \"36.69%\"], [8, \"v38\", 1564, 0.2867, \"28.67%\"], [9, \"v34\", 1395, 0.2557, \"25.57%\"], [10, \"v3\", 1201, 0.2201, \"22.01%\"], [11, \"v28\", 1139, 0.2088, \"20.88%\"], [12, \"v1\", 1132, 0.2075, \"20.75%\"], [13, \"v40\", 1132, 0.2075, \"20.75%\"], [16, \"v32\", 1032, 0.1891, \"18.91%\"], [17, \"v30\", 1032, 0.1891, \"18.91%\"], [15, \"v29\", 1032, 0.1891, \"18.91%\"], [14, \"v31\", 1032, 0.1891, \"18.91%\"], [18, \"v33\", 1029, 0.1886, \"18.86%\"], [19, \"v12\", 489, 0.0896, \"8.96%\"], [20, \"v14\", 452, 0.0828, \"8.28%\"], [21, \"v19\", 435, 0.0797, \"7.97%\"], [22, \"v24\", 422, 0.0773, \"7.73%\"], [23, \"v15\", 386, 0.0707, \"7.07%\"], [24, \"v21\", 375, 0.0687, \"6.87%\"], [25, \"v11\", 358, 0.0656, \"6.56%\"], [26, \"v20\", 301, 0.0552, \"5.52%\"], [27, \"v18\", 280, 0.0513, \"5.13%\"], [28, \"v22\", 251, 0.046, \"4.60%\"], [29, \"v23\", 249, 0.0456, \"4.56%\"], [30, \"v13\", 243, 0.0445, \"4.45%\"], [31, \"v4\", 163, 0.0299, \"2.99%\"], [32, \"v5\", 16, 0.0029, \"0.29%\"], [33, \"v25\", 6, 0.0011, \"0.11%\"]]};\n",
       "        dt_args = eval_functions(dt_args);\n",
       "        table = $('#b51b93ca-5f1a-42e5-b9ef-0a89fa83488c').DataTable(dt_args);\n",
       "    });\n",
       "})\n",
       "</script>\n",
       "</div>\n"
      ],
      "text/plain": [
       "<IPython.core.display.HTML object>"
      ]
     },
     "metadata": {},
     "output_type": "display_data"
    }
   ],
   "source": [
    "#1.2.1缺失值统计\n",
    "feature_na,na_feature_num=self_f_2.findNaFunc(data)\n",
    "\n",
    "# feature_na=feature_na.rename(columns={\"queshi_num\":\"缺失值数量\",\"na_rate\":\"缺失率\"})\n",
    "print(\"\\033[1;31m有缺失值的变量个数:\\n \\033[0m\",na_feature_num)\n",
    "print(\"\\033[1;31m各变量缺失率展示\\n \\033[0m\")\n",
    "feature_na_show=feature_na.sort_values(by='queshi_num', axis=0, ascending=False)\n",
    "feature_na_show=feature_na_show.reset_index(drop=False)\n",
    "show(feature_na_show)"
   ]
  },
  {
   "cell_type": "markdown",
   "metadata": {},
   "source": [
    "#### 缺失过多特征删除"
   ]
  },
  {
   "cell_type": "code",
   "execution_count": 7,
   "metadata": {},
   "outputs": [
    {
     "name": "stdout",
     "output_type": "stream",
     "text": [
      "\u001b[1;31m删除的缺失值过高的特征:\n",
      " \u001b[0m 0    v35\n",
      "1    v39\n",
      "2    v36\n",
      "3    v37\n",
      "Name: var_name, dtype: object\n"
     ]
    }
   ],
   "source": [
    "#缺失过多特征删除\n",
    "delete_feature=feature_na[feature_na[\"na_rate\"]>0.7].var_name #当不想删除缺失特征时，可提高na_rate阈值\n",
    "data_delete=data.drop(delete_feature,axis=1)\n",
    "\n",
    "print(\"\\033[1;31m删除的缺失值过高的特征:\\n \\033[0m\",delete_feature)"
   ]
  },
  {
   "cell_type": "markdown",
   "metadata": {},
   "source": [
    "#### 直接填充默认缺失值\n",
    "\n",
    "另外的缺失值填充方法\n",
    "- 根据相关性填充\n",
    "- 根据后续结果看是否缺失值要根据特征中位数或者均值来填补"
   ]
  },
  {
   "cell_type": "code",
   "execution_count": 8,
   "metadata": {},
   "outputs": [
    {
     "name": "stdout",
     "output_type": "stream",
     "text": [
      "\u001b[1;31m缺失值填充后变量分布\n",
      " \u001b[0m\n"
     ]
    },
    {
     "data": {
      "text/html": [
       "<div><table id=\"02a4fe68-852d-4e24-ac7b-15a3c8781a0e\" class=\"display nowrap\"><thead>\n",
       "    <tr style=\"text-align: right;\">\n",
       "      <th></th>\n",
       "      <th>id</th>\n",
       "      <th>v1</th>\n",
       "      <th>v3</th>\n",
       "      <th>v4</th>\n",
       "      <th>v5</th>\n",
       "      <th>v6</th>\n",
       "      <th>v7</th>\n",
       "      <th>v8</th>\n",
       "      <th>v11</th>\n",
       "      <th>v12</th>\n",
       "      <th>v13</th>\n",
       "      <th>v14</th>\n",
       "      <th>v15</th>\n",
       "      <th>v16</th>\n",
       "      <th>v18</th>\n",
       "      <th>v19</th>\n",
       "      <th>v20</th>\n",
       "      <th>v21</th>\n",
       "      <th>v22</th>\n",
       "      <th>v23</th>\n",
       "      <th>v24</th>\n",
       "      <th>v25</th>\n",
       "      <th>v26</th>\n",
       "      <th>v28</th>\n",
       "      <th>v29</th>\n",
       "      <th>v30</th>\n",
       "      <th>v31</th>\n",
       "      <th>v32</th>\n",
       "      <th>v33</th>\n",
       "      <th>v34</th>\n",
       "      <th>v38</th>\n",
       "      <th>v40</th>\n",
       "      <th>v41</th>\n",
       "      <th>target</th>\n",
       "    </tr>\n",
       "  </thead></table>\n",
       "<script type=\"text/javascript\">\n",
       "require([\"datatables\"], function (datatables) {\n",
       "    $(document).ready(function () {        \n",
       "        var dt_args = {\"columnDefs\": [{\"width\": \"150px\", \"targets\": \"_all\"}], \"lengthMenu\": [10, 10, 100, 200, 500, 1000, 2000, 5000], \"paging\": false, \"data\": [[\"count\", 5456.0, 5456.0, 5456.0, 5456.0, 5456.0, 5456.0, 5456.0, 5456.0, 5456.0, 5456.0, 5456.0, 5456.0, 5456.0, 5456.0, 5456.0, 5456.0, 5456.0, 5456.0, 5456.0, 5456.0, 5456.0, 5456.0, 5456.0, 5456.0, 5456.0, 5456.0, 5456.0, 5456.0, 5456.0, 5456.0, 5456.0, 5456.0, 5456.0, 5456.0], [\"mean\", 2728.5, -192.602456, -215.120418, -20.716826, 9.521261, -363.955828, -546.159641, 0.945931, 496.046188, 473.479839, 583.108871, -58.430902, 468.592559, -621.316349, -8.657808, -28.332845, -2.068732, -11.809018, 600.160191, 527.153592, 516.493768, 44.97599, 0.309384, -165.783174, -188.83871, -188.653592, -187.360337, -186.931818, -68.254032, 2719.233138, -282.97324, -192.602456, 32.655242, 0.461144], [\"std\", 1575.155865, 413.264315, 416.557308, 172.093157, 56.920765, 483.538478, 498.501754, 0.226174, 407.138275, 477.341707, 364.970157, 282.82307, 430.269236, 486.111228, 230.788951, 286.325639, 241.253209, 268.722937, 358.517611, 362.572178, 442.785488, 38.72997, 0.462282, 2744.444719, 391.330549, 391.420057, 392.044617, 392.25186, 3594.480187, 2311.046306, 453.949314, 413.264315, 8.431342, 0.672596], [\"min\", 1.0, -999.0, -999.0, -999.0, -999.0, -999.0, -999.0, 0.0, -999.0, -999.0, -999.0, -999.0, -999.0, -999.0, -999.0, -999.0, -999.0, -999.0, -999.0, -999.0, -999.0, -999.0, 0.0, -999.0, -999.0, -999.0, -999.0, -999.0, -999.0, -999.0, -999.0, -999.0, 18.0, 0.0], [\"25%\", 1364.75, 1.0, 1.0, 2.0, 3.0, -999.0, -999.0, 1.0, 501.0, 486.0, 554.0, 20.0, 438.75, -999.0, 32.0, 39.0, 47.0, 47.0, 627.0, 476.75, 606.0, 33.0, 0.0, 1.0, 0.0, 0.0, 2.0, 2.0, 1.0, -999.0, -999.0, 1.0, 26.0, 0.0], [\"50%\", 2728.5, 5.0, 2.0, 5.0, 6.0, 1.0, -999.0, 1.0, 611.0, 629.0, 660.0, 24.0, 582.0, -999.0, 45.0, 48.0, 54.0, 60.0, 674.0, 614.0, 644.0, 46.0, 0.0, 3.0, 0.0, 0.0, 2.0, 2.0, 1.0, 3505.0, 3.0, 5.0, 31.0, 0.0], [\"75%\", 4092.25, 18.0, 6.0, 11.0, 16.0, 3.0, 1.0, 1.0, 673.0, 713.0, 743.0, 30.0, 677.0, 3.0, 54.0, 68.0, 64.0, 73.0, 716.0, 693.0, 675.0, 59.0, 1.0, 5.0, 0.0, 1.0, 2.0, 3.0, 1.0, 4331.0, 6.0, 18.0, 37.0, 1.0], [\"max\", 5456.0, 300.0, 101.0, 124.0, 145.0, 67.0, 38.0, 1.0, 823.0, 905.0, 991.0, 65.0, 994.0, 10.0, 100.0, 100.0, 91.0, 100.0, 875.0, 998.0, 869.0, 93.0, 1.0, 200000.0, 3.0, 2.0, 4.0, 5.0, 176300.0, 6529.0, 14.0, 300.0, 63.0, 2.0]]};\n",
       "        dt_args = eval_functions(dt_args);\n",
       "        table = $('#02a4fe68-852d-4e24-ac7b-15a3c8781a0e').DataTable(dt_args);\n",
       "    });\n",
       "})\n",
       "</script>\n",
       "</div>\n"
      ],
      "text/plain": [
       "<IPython.core.display.HTML object>"
      ]
     },
     "metadata": {},
     "output_type": "display_data"
    },
    {
     "data": {
      "text/html": [
       "<div><table id=\"048b7ab2-4173-4d9c-8fd8-30bac018c310\" class=\"display nowrap\"><thead>\n",
       "    <tr style=\"text-align: right;\">\n",
       "      <th></th>\n",
       "      <th>v2</th>\n",
       "      <th>v9</th>\n",
       "      <th>v10</th>\n",
       "      <th>v17</th>\n",
       "    </tr>\n",
       "  </thead></table>\n",
       "<script type=\"text/javascript\">\n",
       "require([\"datatables\"], function (datatables) {\n",
       "    $(document).ready(function () {        \n",
       "        var dt_args = {\"columnDefs\": [{\"width\": \"150px\", \"targets\": \"_all\"}], \"lengthMenu\": [10, 10, 100, 200, 500, 1000, 2000, 5000], \"paging\": false, \"data\": [[\"count\", \"5456\", \"5456\", \"5456\", \"5456\"], [\"unique\", \"3\", \"5\", \"7\", \"5\"], [\"top\", \"A\", \"E\", \"g\", \"\\u7f3a\\u5931\"], [\"freq\", \"4190\", \"1688\", \"1463\", \"3402\"]]};\n",
       "        dt_args = eval_functions(dt_args);\n",
       "        table = $('#048b7ab2-4173-4d9c-8fd8-30bac018c310').DataTable(dt_args);\n",
       "    });\n",
       "})\n",
       "</script>\n",
       "</div>\n"
      ],
      "text/plain": [
       "<IPython.core.display.HTML object>"
      ]
     },
     "metadata": {},
     "output_type": "display_data"
    }
   ],
   "source": [
    "#直接填充默认缺失值，连续型特征填充-999，离散型特征填充“缺失”字样\n",
    "data_fillna=self_f_2.na_fill(data_delete)\n",
    "print(\"\\033[1;31m缺失值填充后变量分布\\n \\033[0m\")\n",
    "show(data_fillna.describe())\n",
    "show(data_fillna.describe(include=['object']))\n",
    "\n",
    "#另外的缺失值填充方法\n",
    "#根据相关性填充\n",
    "#根据后续结果看是否缺失值要根据特征中位数或者均值来填补"
   ]
  },
  {
   "cell_type": "markdown",
   "metadata": {},
   "source": [
    "## 特征筛选"
   ]
  },
  {
   "cell_type": "code",
   "execution_count": 9,
   "metadata": {},
   "outputs": [
    {
     "name": "stdout",
     "output_type": "stream",
     "text": [
      "\u001b[1;31m训练集好坏用户，1表示坏用户：\n",
      " \u001b[0m 0    2480\n",
      "1    1167\n",
      "Name: target, dtype: int64\n",
      "\u001b[1;31m时间外验证集好坏用户，1表示坏用户：\n",
      "\u001b[0m 0    1016\n",
      "1     237\n",
      "Name: target, dtype: int64\n"
     ]
    }
   ],
   "source": [
    "#训练集，时间外验证集拆分\n",
    "data_fillna=data_fillna[data_fillna['target'] !=2]\n",
    "train_data=data_fillna[data_fillna['date']<='2019-03-01']\n",
    "oot_data=data_fillna[data_fillna['date']>'2019-03-01']\n",
    "\n",
    "print(\"\\033[1;31m训练集好坏用户，1表示坏用户：\\n \\033[0m\",train_data.target.value_counts())\n",
    "print(\"\\033[1;31m时间外验证集好坏用户，1表示坏用户：\\n\\033[0m\",oot_data.target.value_counts())\n",
    "\n",
    "\n",
    "#不作为自特征的特征\n",
    "target=\"target\" #目标特征对应的字段名称\n",
    "target_series=pd.Series(\"target\")\n",
    "not_model_feature=[\"id\",\"date\"] #无需进行特征筛选的特征，这些特征放进去筛选会导致特征筛选时间过长\n",
    "\n",
    "\n",
    "train_data=train_data.drop(not_model_feature,axis=1)\n",
    "oot_data=oot_data.drop(not_model_feature,axis=1)"
   ]
  },
  {
   "cell_type": "markdown",
   "metadata": {},
   "source": [
    "### psi筛选"
   ]
  },
  {
   "cell_type": "code",
   "execution_count": 10,
   "metadata": {},
   "outputs": [
    {
     "name": "stdout",
     "output_type": "stream",
     "text": [
      "\u001b[1;31mpsi筛选删除的特征: \u001b[0m ['v17']\n",
      "\u001b[1;31mpsi筛选的特征: \u001b[0m Index(['v1', 'v2', 'v3', 'v4', 'v5', 'v6', 'v7', 'v8', 'v9', 'v10', 'v11',\n",
      "       'v12', 'v13', 'v14', 'v15', 'v16', 'v18', 'v19', 'v20', 'v21', 'v22',\n",
      "       'v23', 'v24', 'v25', 'v26', 'v28', 'v29', 'v30', 'v31', 'v32', 'v33',\n",
      "       'v34', 'v38', 'v40', 'v41', 'target'],\n",
      "      dtype='object')\n",
      "\u001b[1;31m各变量psi: \u001b[0m\n"
     ]
    },
    {
     "data": {
      "text/html": [
       "<div><table id=\"866e9383-d87e-4f09-a3f0-bbe8e48f4a06\" class=\"display nowrap\"><thead>\n",
       "    <tr style=\"text-align: right;\">\n",
       "      <th></th>\n",
       "      <th>var_name</th>\n",
       "      <th>value</th>\n",
       "    </tr>\n",
       "  </thead></table>\n",
       "<script type=\"text/javascript\">\n",
       "require([\"datatables\"], function (datatables) {\n",
       "    $(document).ready(function () {        \n",
       "        var dt_args = {\"columnDefs\": [{\"width\": \"150px\", \"targets\": \"_all\"}], \"lengthMenu\": [10, 10, 100, 200, 500, 1000, 2000, 5000], \"data\": [[16, \"v17\", 0.2583], [22, \"v23\", 0.2116], [0, \"v1\", 0.1452], [34, \"v40\", 0.1452], [10, \"v11\", 0.1351], [28, \"v30\", 0.1314], [9, \"v10\", 0.1299], [18, \"v19\", 0.1138], [2, \"v3\", 0.112], [5, \"v6\", 0.1082], [27, \"v29\", 0.095], [21, \"v22\", 0.0782], [12, \"v13\", 0.0709], [30, \"v32\", 0.0708], [32, \"v34\", 0.0546], [6, \"v7\", 0.0483], [19, \"v20\", 0.0452], [17, \"v18\", 0.0425], [15, \"v16\", 0.0384], [8, \"v9\", 0.0343], [26, \"v28\", 0.0306], [25, \"v26\", 0.0271], [23, \"v24\", 0.0234], [13, \"v14\", 0.0232], [24, \"v25\", 0.0212], [1, \"v2\", 0.0209], [11, \"v12\", 0.0179], [14, \"v15\", 0.0164], [20, \"v21\", 0.0057], [33, \"v38\", 0.005], [3, \"v4\", 0.0039], [4, \"v5\", 0.003], [7, \"v8\", 0.0029], [35, \"v41\", 0.002], [29, \"v31\", 0.0012], [31, \"v33\", 0.001]]};\n",
       "        dt_args = eval_functions(dt_args);\n",
       "        table = $('#866e9383-d87e-4f09-a3f0-bbe8e48f4a06').DataTable(dt_args);\n",
       "    });\n",
       "})\n",
       "</script>\n",
       "</div>\n"
      ],
      "text/plain": [
       "<IPython.core.display.HTML object>"
      ]
     },
     "metadata": {},
     "output_type": "display_data"
    },
    {
     "name": "stdout",
     "output_type": "stream",
     "text": [
      "\u001b[1;31mpsi筛选特征完成--------------------------------\u001b[0m\n"
     ]
    }
   ],
   "source": [
    "#2.特征筛选\n",
    "# 2.1psi筛选\n",
    "# all_col = [x for x in train_data.columns if x not in not_model_feature_and_target]\n",
    "all_col = [x for x in train_data.columns if x!=target]\n",
    "psi_tup = []\n",
    "for col in all_col:\n",
    "    psi,psi_bin_df = self_f_2.cal_psi(train_data,oot_data,col)\n",
    "    psi_tup.append((col,psi))\n",
    "psi_delete = [x for x,y in psi_tup if y>=0.25]#这里psi阈值定位0.25\n",
    "\n",
    "#变量和psi转换成数据框\n",
    "psi_df=pd.DataFrame(pd.Series(dict(psi_tup)),columns=[\"value\"])\n",
    "psi_df=psi_df.reset_index().rename(columns={'index':'var_name'})\n",
    "psi_df=psi_df.sort_values(by='value', axis=0, ascending=False)\n",
    "\n",
    "train = train_data.drop(psi_delete,axis=1)\n",
    "\n",
    "print('\\033[1;31mpsi筛选删除的特征: \\033[0m',psi_delete)\n",
    "print('\\033[1;31mpsi筛选的特征: \\033[0m',train.columns)\n",
    "print('\\033[1;31m各变量psi: \\033[0m')\n",
    "show(psi_df)\n",
    "print('\\033[1;31mpsi筛选特征完成--------------------------------\\033[0m')"
   ]
  },
  {
   "cell_type": "markdown",
   "metadata": {},
   "source": [
    "### 随机森林筛选特征"
   ]
  },
  {
   "cell_type": "code",
   "execution_count": 11,
   "metadata": {},
   "outputs": [
    {
     "name": "stdout",
     "output_type": "stream",
     "text": [
      "\u001b[1;31m随机森林删除的特征: \u001b[0m\n"
     ]
    },
    {
     "data": {
      "text/html": [
       "<div><table id=\"944df68a-2c00-40d4-9695-aa1fafdcae03\" class=\"display nowrap\"><thead>\n",
       "    <tr style=\"text-align: right;\">\n",
       "      <th></th>\n",
       "      <th>var_name</th>\n",
       "      <th>importance</th>\n",
       "    </tr>\n",
       "  </thead></table>\n",
       "<script type=\"text/javascript\">\n",
       "require([\"datatables\"], function (datatables) {\n",
       "    $(document).ready(function () {        \n",
       "        var dt_args = {\"columnDefs\": [{\"width\": \"150px\", \"targets\": \"_all\"}], \"lengthMenu\": [10, 10, 100, 200, 500, 1000, 2000, 5000], \"paging\": false, \"data\": [[30, \"v33\", 0.000823], [31, \"v34\", 0.000555], [32, \"v38\", 0.000227], [33, \"v40\", 0.000157], [34, \"v41\", 7.3e-05]]};\n",
       "        dt_args = eval_functions(dt_args);\n",
       "        table = $('#944df68a-2c00-40d4-9695-aa1fafdcae03').DataTable(dt_args);\n",
       "    });\n",
       "})\n",
       "</script>\n",
       "</div>\n"
      ],
      "text/plain": [
       "<IPython.core.display.HTML object>"
      ]
     },
     "metadata": {},
     "output_type": "display_data"
    },
    {
     "name": "stdout",
     "output_type": "stream",
     "text": [
      "\u001b[1;31m随机森林筛选的特征: \u001b[0m\n"
     ]
    },
    {
     "data": {
      "text/html": [
       "<div><table id=\"f04624f9-99f0-4d72-b71c-9e052f39280f\" class=\"display nowrap\"><thead>\n",
       "    <tr style=\"text-align: right;\">\n",
       "      <th></th>\n",
       "      <th>var_name</th>\n",
       "      <th>importance</th>\n",
       "    </tr>\n",
       "  </thead></table>\n",
       "<script type=\"text/javascript\">\n",
       "require([\"datatables\"], function (datatables) {\n",
       "    $(document).ready(function () {        \n",
       "        var dt_args = {\"columnDefs\": [{\"width\": \"150px\", \"targets\": \"_all\"}], \"lengthMenu\": [10, 10, 100, 200, 500, 1000, 2000, 5000], \"data\": [[0, \"v1\", 0.136803], [1, \"v2\", 0.085867], [2, \"v3\", 0.084074], [3, \"v4\", 0.080317], [4, \"v5\", 0.060723], [5, \"v6\", 0.060458], [6, \"v7\", 0.055217], [7, \"v8\", 0.04865], [8, \"v9\", 0.040322], [9, \"v10\", 0.03922], [10, \"v11\", 0.037853], [11, \"v12\", 0.03357], [12, \"v13\", 0.032955], [13, \"v14\", 0.030569], [14, \"v15\", 0.027911], [15, \"v16\", 0.024544], [16, \"v18\", 0.024234], [17, \"v19\", 0.021786], [18, \"v20\", 0.013912], [19, \"v21\", 0.011575], [20, \"v22\", 0.006831], [21, \"v23\", 0.00662], [22, \"v24\", 0.006481], [23, \"v25\", 0.006447], [24, \"v26\", 0.005602], [25, \"v28\", 0.004827], [26, \"v29\", 0.00413], [27, \"v30\", 0.004013], [28, \"v31\", 0.001556], [29, \"v32\", 0.001098]]};\n",
       "        dt_args = eval_functions(dt_args);\n",
       "        table = $('#f04624f9-99f0-4d72-b71c-9e052f39280f').DataTable(dt_args);\n",
       "    });\n",
       "})\n",
       "</script>\n",
       "</div>\n"
      ],
      "text/plain": [
       "<IPython.core.display.HTML object>"
      ]
     },
     "metadata": {},
     "output_type": "display_data"
    }
   ],
   "source": [
    "#2.2随机森林筛选特征\n",
    "#由于树模型不能处理非数值型特征，对离散型特征进行labelencoder编码，即将离散型特征使用连续数字来编码，\n",
    "#没有啥业务含义，只是一个将离散型特征映射为数字而已\n",
    "\n",
    "#data_label_encode=self_f_2.feature_labelencoder(train.drop(not_model_feature,axis=1))\n",
    "\n",
    "data_label_encode=self_f_2.feature_labelencoder(train) \n",
    "\n",
    "#将重要性大于一定阈值的特征筛选出来          \n",
    "df_random_var,importance_list_delete=self_f_2.Random_feature_filter(data_label_encode,im_value=0.001)\n",
    "random_var_name=df_random_var['var_name']#重要度大于阈值到特征，不含目标特征\n",
    "\n",
    "print(\"\\033[1;31m随机森林删除的特征: \\033[0m\")\n",
    "\n",
    "show(importance_list_delete)\n",
    "print(\"\\033[1;31m随机森林筛选的特征: \\033[0m\")\n",
    "show(df_random_var)\n",
    "\n",
    "random_var_name=random_var_name.append(target_series)#添加目标特征，即y特征\n",
    "train=train[random_var_name]"
   ]
  },
  {
   "cell_type": "markdown",
   "metadata": {},
   "source": [
    "### iv筛选"
   ]
  },
  {
   "cell_type": "code",
   "execution_count": 12,
   "metadata": {},
   "outputs": [
    {
     "name": "stdout",
     "output_type": "stream",
     "text": [
      "\u001b[1;31m特征分箱完成---------------------------\u001b[0m\n"
     ]
    }
   ],
   "source": [
    "#2.3iv筛选\n",
    "\n",
    "# 特征分箱,默认用的是决策树分箱\n",
    "train_col = [x for x in train.columns if x!=target]\n",
    "bin_df_list=[]\n",
    "cut_list=[]\n",
    "for col in train_col:\n",
    "    try:\n",
    "        bin_df,cut = self_f_2.binning_var(train,col,target)\n",
    "        bin_df_list.append(bin_df)\n",
    "        cut_list.append(cut)\n",
    "    except:\n",
    "        pass\n",
    "print('\\033[1;31m特征分箱完成---------------------------\\033[0m')\n",
    "\n",
    "# print(bin_df_list[0])\n",
    "\n",
    "bin_df_list_copy=bin_df_list.copy()\n",
    "iv_df=self_f_2.iv_transform_df(bin_df_list_copy)\n",
    "# print(bin_df_list[0])#为什么会改变呢\n",
    "\n",
    "# print(\"\\033[1;31m变量iv以及分箱表 \\033[0m\")\n",
    "# show(iv_df,columnDefs=[{\"width\": \"90px\", \"targets\": \"_all\"}])\n",
    "# iv_df.to_excel(\"iv_df.xlsx\")"
   ]
  },
  {
   "cell_type": "code",
   "execution_count": 13,
   "metadata": {},
   "outputs": [
    {
     "name": "stdout",
     "output_type": "stream",
     "text": [
      "\u001b[1;31miv筛选的特征:\u001b[0m ['v5', 'v12', 'v13', 'v23', 'v15', 'v22', 'v20', 'v19', 'v11', 'v16', 'v21', 'v25', 'v18', 'v4', 'v14', 'v9', 'v24', 'v10', 'v26', 'v30', 'v3', 'v1', 'v2', 'v32', 'v6']\n",
      "\u001b[1;31miv删除的特征:\u001b[0m ['v7', 'v28', 'v31', 'v8']\n",
      "\u001b[1;31miv筛选特征完成-----------------------------------\u001b[0m\n"
     ]
    }
   ],
   "source": [
    "# 保存每个特征的分割点list，此步骤需要在剔除\n",
    "cut_dict={}\n",
    "for dd,cc in zip(bin_df_list,cut_list):\n",
    "    col = dd.index.name\n",
    "#     print(col)\n",
    "#     col = dd['var_name'].unique()\n",
    "    cut_dict[col] = cc\n",
    "    \n",
    "# print(len(cut_dict))\n",
    "\n",
    "# 剔除iv无限大的特征\n",
    "bin_df_list = [x for x in bin_df_list if x.IV.iloc[0]!=float('inf')]\n",
    "# print(bin_df_list)\n",
    "\n",
    "# 将IV从大到小进行排序\n",
    "iv_col = [x.index.name for x in bin_df_list]\n",
    "iv_value = [x.IV.iloc[0] for x in bin_df_list]\n",
    "iv_sort = sorted(zip(iv_col,iv_value),key=lambda x:x[1],reverse=True)\n",
    "\n",
    "\n",
    "# iv筛选，筛选iv大于0.02的特征\n",
    "iv_select_col = [x for x,y in iv_sort if y>=0.05]\n",
    "iv_delete_col= [x for x,y in iv_sort if y<0.05]\n",
    "\n",
    "print(\"\\033[1;31miv筛选的特征:\\033[0m\",iv_select_col)\n",
    "print(\"\\033[1;31miv删除的特征:\\033[0m\",iv_delete_col)\n",
    "print('\\033[1;31miv筛选特征完成-----------------------------------\\033[0m')"
   ]
  },
  {
   "cell_type": "markdown",
   "metadata": {},
   "source": [
    "### 人工去除偏事后特征\n",
    "\n",
    "之所以在这个步骤去除，是因为一定程度上做过特征筛选，特征没有那么多了，可以更好地对每个特征进行解读；为什么放在相关性筛选之前做这个动作，是因为相关性筛选里面涉及到不同变量间关系而对变量进行删除，可能存在事后变量的存在而导致删除其余非事后变量这种现象，因此人工剔除偏事后特征在这一步做相对比较合适；"
   ]
  },
  {
   "cell_type": "markdown",
   "metadata": {},
   "source": [
    "### 相关性筛选，多重共线性筛选"
   ]
  },
  {
   "cell_type": "code",
   "execution_count": 14,
   "metadata": {
    "scrolled": true
   },
   "outputs": [
    {
     "name": "stdout",
     "output_type": "stream",
     "text": [
      "\u001b[1;31m相关矩阵\u001b[0m\n"
     ]
    },
    {
     "data": {
      "text/html": [
       "<div><table id=\"78897156-3713-4acd-825d-a09641477f2d\" class=\"display nowrap\"><thead>\n",
       "    <tr style=\"text-align: right;\">\n",
       "      <th></th>\n",
       "      <th>v5</th>\n",
       "      <th>v12</th>\n",
       "      <th>v13</th>\n",
       "      <th>v23</th>\n",
       "      <th>v15</th>\n",
       "      <th>v22</th>\n",
       "      <th>v20</th>\n",
       "      <th>v19</th>\n",
       "      <th>v11</th>\n",
       "      <th>v16</th>\n",
       "      <th>v21</th>\n",
       "      <th>v25</th>\n",
       "      <th>v18</th>\n",
       "      <th>v4</th>\n",
       "      <th>v14</th>\n",
       "      <th>v24</th>\n",
       "      <th>v3</th>\n",
       "      <th>v1</th>\n",
       "      <th>v32</th>\n",
       "      <th>v6</th>\n",
       "    </tr>\n",
       "  </thead></table>\n",
       "<script type=\"text/javascript\">\n",
       "require([\"datatables\"], function (datatables) {\n",
       "    $(document).ready(function () {        \n",
       "        var dt_args = {\"columnDefs\": [{\"width\": \"250px\", \"targets\": \"_all\"}], \"lengthMenu\": [10, 10, 100, 200, 500, 1000, 2000, 5000], \"data\": [[\"v5\", 1.0, 0.049118, -0.010652, -0.008796, -0.004716, 0.02396, 0.101116, 0.081738, 0.020501, 0.183819, 0.095428, -0.052473, 0.064886, 0.344049, 0.076944, 0.083766, 0.179493, 0.183739, 0.117802, 0.163035], [\"v12\", 0.049118, 1.0, 0.664881, 0.667646, 0.569201, 0.683104, 0.753607, 0.906923, 0.617575, 0.051155, 0.641829, 0.101041, 0.722921, -0.042174, 0.924473, 0.129034, 0.156126, 0.141454, -0.084478, 0.160256], [\"v13\", -0.010652, 0.664881, 1.0, 0.947402, 0.783881, 0.946135, 0.825278, 0.647897, 0.795951, -0.056309, 0.708881, 0.145782, 0.867614, -0.045435, 0.645885, 0.119726, 0.104654, 0.099539, -0.089813, 0.091783], [\"v23\", -0.008796, 0.667646, 0.947402, 1.0, 0.783405, 0.929587, 0.834929, 0.636668, 0.796669, -0.1108, 0.711617, 0.150746, 0.851465, -0.04051, 0.647191, 0.134701, 0.109272, 0.106895, -0.07852, 0.095002], [\"v15\", -0.004716, 0.569201, 0.783881, 0.783405, 1.0, 0.791715, 0.743933, 0.538775, 0.947101, -0.033346, 0.623189, 0.12302, 0.782369, -0.033312, 0.543524, 0.135461, 0.104604, 0.103387, -0.097857, 0.12836], [\"v22\", 0.02396, 0.683104, 0.946135, 0.929587, 0.791715, 1.0, 0.900655, 0.669495, 0.820762, 0.054482, 0.782941, 0.103675, 0.943632, -0.020435, 0.667622, 0.109521, 0.14239, 0.141398, -0.069043, 0.135752], [\"v20\", 0.101116, 0.753607, 0.825278, 0.834929, 0.743933, 0.900655, 1.0, 0.741103, 0.798826, 0.202837, 0.8948, 0.049024, 0.960477, 0.00383, 0.741442, 0.128318, 0.189472, 0.178711, -0.059965, 0.202407], [\"v19\", 0.081738, 0.906923, 0.647897, 0.636668, 0.538775, 0.669495, 0.741103, 1.0, 0.613525, 0.256749, 0.657057, 0.0348, 0.755396, -0.006279, 0.984543, 0.123995, 0.224061, 0.217294, -0.087215, 0.229934], [\"v11\", 0.020501, 0.617575, 0.795951, 0.796669, 0.947101, 0.820762, 0.798826, 0.613525, 1.0, 0.013295, 0.692594, 0.099397, 0.835156, -0.034751, 0.614768, 0.144147, 0.142715, 0.140224, -0.097638, 0.168452], [\"v16\", 0.183819, 0.051155, -0.056309, -0.1108, -0.033346, 0.054482, 0.202837, 0.256749, 0.013295, 1.0, 0.212859, -0.164024, 0.191062, 0.136946, 0.223691, 0.039091, 0.243117, 0.240595, 0.042389, 0.263788], [\"v21\", 0.095428, 0.641829, 0.708881, 0.711617, 0.623189, 0.782941, 0.8948, 0.657057, 0.692594, 0.212859, 1.0, 0.026551, 0.861562, 0.001032, 0.654669, 0.090855, 0.181577, 0.174894, -0.068074, 0.208584], [\"v25\", -0.052473, 0.101041, 0.145782, 0.150746, 0.12302, 0.103675, 0.049024, 0.0348, 0.099397, -0.164024, 0.026551, 1.0, 0.048675, -0.011914, 0.041971, 0.130444, 0.001382, -0.00587, -0.039013, 0.001954], [\"v18\", 0.064886, 0.722921, 0.867614, 0.851465, 0.782369, 0.943632, 0.960477, 0.755396, 0.835156, 0.191062, 0.861562, 0.048675, 1.0, -0.008243, 0.752817, 0.107315, 0.179641, 0.177651, -0.066905, 0.190226], [\"v4\", 0.344049, -0.042174, -0.045435, -0.04051, -0.033312, -0.020435, 0.00383, -0.006279, -0.034751, 0.136946, 0.001032, -0.011914, -0.008243, 1.0, -0.010681, 0.076155, 0.341726, 0.327877, 0.152463, 0.251616], [\"v14\", 0.076944, 0.924473, 0.645885, 0.647191, 0.543524, 0.667622, 0.741442, 0.984543, 0.614768, 0.223691, 0.654669, 0.041971, 0.752817, -0.010681, 1.0, 0.119843, 0.220968, 0.214827, -0.082256, 0.227537], [\"v24\", 0.083766, 0.129034, 0.119726, 0.134701, 0.135461, 0.109521, 0.128318, 0.123995, 0.144147, 0.039091, 0.090855, 0.130444, 0.107315, 0.076155, 0.119843, 1.0, 0.151204, 0.135767, 0.029976, 0.135644], [\"v3\", 0.179493, 0.156126, 0.104654, 0.109272, 0.104604, 0.14239, 0.189472, 0.224061, 0.142715, 0.243117, 0.181577, 0.001382, 0.179641, 0.341726, 0.220968, 0.151204, 1.0, 0.93612, 0.044204, 0.709912], [\"v1\", 0.183739, 0.141454, 0.099539, 0.106895, 0.103387, 0.141398, 0.178711, 0.217294, 0.140224, 0.240595, 0.174894, -0.00587, 0.177651, 0.327877, 0.214827, 0.135767, 0.93612, 1.0, 0.035508, 0.684114], [\"v32\", 0.117802, -0.084478, -0.089813, -0.07852, -0.097857, -0.069043, -0.059965, -0.087215, -0.097638, 0.042389, -0.068074, -0.039013, -0.066905, 0.152463, -0.082256, 0.029976, 0.044204, 0.035508, 1.0, -0.0002], [\"v6\", 0.163035, 0.160256, 0.091783, 0.095002, 0.12836, 0.135752, 0.202407, 0.229934, 0.168452, 0.263788, 0.208584, 0.001954, 0.190226, 0.251616, 0.227537, 0.135644, 0.709912, 0.684114, -0.0002, 1.0]]};\n",
       "        dt_args = eval_functions(dt_args);\n",
       "        table = $('#78897156-3713-4acd-825d-a09641477f2d').DataTable(dt_args);\n",
       "    });\n",
       "})\n",
       "</script>\n",
       "</div>\n"
      ],
      "text/plain": [
       "<IPython.core.display.HTML object>"
      ]
     },
     "metadata": {},
     "output_type": "display_data"
    },
    {
     "name": "stdout",
     "output_type": "stream",
     "text": [
      "\u001b[1;31m相关性筛选的特征:\u001b[0m ['v5', 'v12', 'v13', 'v16', 'v25', 'v4', 'v24', 'v3', 'v32']\n",
      "\u001b[1;31m相关性筛选删除的特征:\u001b[0m ['v23', 'v15', 'v22', 'v20', 'v19', 'v11', 'v21', 'v18', 'v14', 'v1', 'v6']\n",
      "\u001b[1;31m连续变量相关性筛选完成----------------------------- \u001b[0m\n",
      "\u001b[1;31m多重共线性筛选的特征:\u001b[0m ['v5', 'v12', 'v13', 'v16', 'v25', 'v4', 'v24', 'v3', 'v32']\n",
      "\u001b[1;31m多重共线性删除的特征:\u001b[0m []\n",
      "\u001b[1;31m连续变量多重共线性筛选完成------------------------- \u001b[0m\n"
     ]
    }
   ],
   "source": [
    "#2.5相关性筛选，多重共线性筛选\n",
    "# 特征分类\n",
    "cate_col = []\n",
    "num_col = []\n",
    "for col in iv_select_col:\n",
    "    if train[col].dtype==np.dtype('object') or train[col].dtype==np.dtype('bool') or train[col].nunique()<=5:\n",
    "        cate_col.append(col)\n",
    "    else:\n",
    "        num_col.append(col)\n",
    "\n",
    "#相关性筛选，默认相关系数阈值0.7\n",
    "corr=pd.DataFrame(train[num_col].corr())\n",
    "print(\"\\033[1;31m相关矩阵\\033[0m\")\n",
    "show(corr,columnDefs=[{\"width\": \"250px\", \"targets\": \"_all\"}])\n",
    "\n",
    "corr.to_excel(\"corr.xlsx\")\n",
    "\n",
    "#按照iv高低删除相关性高的变量\n",
    "corr_select_col,corr_delete_col= self_f_2.forward_corr_delete(train,num_col,cut_value=0.7)\n",
    "\n",
    "print(\"\\033[1;31m相关性筛选的特征:\\033[0m\",corr_select_col)\n",
    "print(\"\\033[1;31m相关性筛选删除的特征:\\033[0m\",corr_delete_col)\n",
    "print('\\033[1;31m连续变量相关性筛选完成----------------------------- \\033[0m')\n",
    "\n",
    "#  # 多重共线性筛选，系数阈值10\n",
    "vif_select_col,vif_delete_col = self_f_2.vif_delete(train,corr_select_col)\n",
    "\n",
    "\n",
    "print(\"\\033[1;31m多重共线性筛选的特征:\\033[0m\",vif_select_col)\n",
    "print(\"\\033[1;31m多重共线性删除的特征:\\033[0m\",vif_delete_col)\n",
    "print('\\033[1;31m连续变量多重共线性筛选完成------------------------- \\033[0m')"
   ]
  },
  {
   "cell_type": "markdown",
   "metadata": {},
   "source": [
    "### 分箱调整"
   ]
  },
  {
   "cell_type": "code",
   "execution_count": 15,
   "metadata": {},
   "outputs": [
    {
     "name": "stdout",
     "output_type": "stream",
     "text": [
      "\u001b[1;31m自动调整单调分箱完成-------------------- \u001b[0m\n"
     ]
    }
   ],
   "source": [
    "# 自动调整单调分箱\n",
    "nan_value=-999\n",
    "trim_var_dict = {k:v for k,v in cut_dict.items() if k in vif_select_col}\n",
    "trim_bin_list=[]\n",
    "for col in trim_var_dict.keys():\n",
    "    bin_cut = trim_var_dict[col]\n",
    "    df_bin = [x for x in bin_df_list if x.index.name==col][0]\n",
    "    if nan_value in bin_cut: # 当cut里有缺失映射值时，说明是把缺失单独分为一箱的，后续在进行调成单调分箱时\n",
    "    # 不考虑缺失的箱，故将缺失映射值剔除\n",
    "        woe_lst = df_bin['woe'].tolist()[1:]\n",
    "    else:\n",
    "        woe_lst = df_bin['woe'].tolist()   \n",
    "#     print(col,woe_lst)\n",
    "    if not self_f_2.judge_decreasing(woe_lst) and not self_f_2.judge_increasing(woe_lst): \n",
    "#         print(col)\n",
    "        monot_cut = self_f_2.monot_trim(train, col, target, nan_value=nan_value, cut=bin_cut)\n",
    "#         print(monot_cut)\n",
    "        monot_bin_df = self_f_2.binning_trim(train, col, target, cut=monot_cut, right_border=True)\n",
    "        trim_bin_list.append(monot_bin_df)\n",
    "    else:\n",
    "        trim_bin_list.append(df_bin)\n",
    "\n",
    "        \n",
    "# print(trim_bin_list)\n",
    "# show(bin_df_list[2])\n",
    "# show(trim_bin_list[0])\n",
    "        \n",
    "# adjust_iv_df=self_f_2.iv_transform_df(trim_bin_list)        \n",
    "# show(adjust_iv_df)\n",
    "\n",
    "#调整后的分箱再根据iv筛选一遍\n",
    "select_num_df = []\n",
    "for dd in trim_bin_list:\n",
    "    if dd.IV.iloc[0]>=0.02 and dd.index.name in vif_select_col:\n",
    "        select_num_df.append(dd)\n",
    "\n",
    "print('\\033[1;31m自动调整单调分箱完成-------------------- \\033[0m')"
   ]
  },
  {
   "cell_type": "code",
   "execution_count": 16,
   "metadata": {},
   "outputs": [
    {
     "name": "stdout",
     "output_type": "stream",
     "text": [
      "\u001b[1;31m连续型变量分箱调整后分箱和woe情况 \u001b[0m\n"
     ]
    },
    {
     "data": {
      "text/html": [
       "<div><table id=\"efdd494f-8c13-4a33-929d-e41a94e1bc28\" class=\"display nowrap\"><thead>\n",
       "    <tr style=\"text-align: right;\">\n",
       "      \n",
       "      <th>col</th>\n",
       "      <th>bin</th>\n",
       "      <th>IV</th>\n",
       "      <th>woe</th>\n",
       "      <th>total</th>\n",
       "      <th>totalrate</th>\n",
       "      <th>bad</th>\n",
       "      <th>badrate</th>\n",
       "      <th>good</th>\n",
       "      <th>goodrate</th>\n",
       "      <th>badattr</th>\n",
       "      <th>goodattr</th>\n",
       "      <th>bin_iv</th>\n",
       "      <th>bins</th>\n",
       "      <th>var_name</th>\n",
       "      <th>fuzhu</th>\n",
       "      <th>min_bin</th>\n",
       "      <th>max_bin</th>\n",
       "    </tr>\n",
       "  </thead></table>\n",
       "<script type=\"text/javascript\">\n",
       "require([\"datatables\"], function (datatables) {\n",
       "    $(document).ready(function () {        \n",
       "        var dt_args = {\"columnDefs\": [{\"width\": \"150px\", \"targets\": \"_all\"}], \"lengthMenu\": [10, 10, 100, 200, 500, 1000, 2000, 5000], \"data\": [[\"v5\", \"(-inf, 5.5]\", 1.124775, -1.139621, 1666, 0.456814, 218, 0.130852, 1448, 0.869148, 0.186804, 0.583871, 0.452506, \"(-inf, 5.5]\", \"v5\", 0, -Infinity, 5.5], [\"v5\", \"(5.5, 13.5]\", 1.124775, -0.089443, 944, 0.258843, 284, 0.300847, 660, 0.699153, 0.243359, 0.266129, 0.002037, \"(5.5, 13.5]\", \"v5\", 1, 5.5, 13.5], [\"v5\", \"(13.5, 25.5]\", 1.124775, 0.865692, 519, 0.142309, 274, 0.527938, 245, 0.472062, 0.23479, 0.09879, 0.117734, \"(13.5, 25.5]\", \"v5\", 2, 13.5, 25.5], [\"v5\", \"(25.5, 35.5]\", 1.124775, 1.55233, 232, 0.063614, 160, 0.689655, 72, 0.310345, 0.137104, 0.029032, 0.167763, \"(25.5, 35.5]\", \"v5\", 3, 25.5, 35.5], [\"v5\", \"(35.5, inf]\", 1.124775, 2.188907, 286, 0.078421, 231, 0.807692, 55, 0.192308, 0.197943, 0.022177, 0.384735, \"(35.5, inf]\", \"v5\", 4, 35.5, Infinity], [\"v12\", \"(-inf, -999.0]\", 1.064377, -1.170109, 361, 0.098985, 46, 0.127424, 315, 0.872576, 0.039417, 0.127016, 0.1025, \"(-inf, -999.0]\", \"v12\", 0, -Infinity, -999.0], [\"v12\", \"(-999.0, 468.5]\", 1.064377, 2.01867, 427, 0.117083, 333, 0.779859, 94, 0.220141, 0.285347, 0.037903, 0.499507, \"(-999.0, 468.5]\", \"v12\", 1, -999.0, 468.5], [\"v12\", \"(468.5, 541.5]\", 1.064377, 1.095865, 431, 0.118179, 252, 0.584687, 179, 0.415313, 0.215938, 0.072177, 0.157543, \"(468.5, 541.5]\", \"v12\", 2, 468.5, 541.5], [\"v12\", \"(541.5, 651.5]\", 1.064377, 0.130846, 782, 0.214423, 273, 0.349105, 509, 0.650895, 0.233933, 0.205242, 0.003754, \"(541.5, 651.5]\", \"v12\", 3, 541.5, 651.5], [\"v12\", \"(651.5, inf]\", 1.064377, -0.906034, 1646, 0.45133, 263, 0.159781, 1383, 0.840219, 0.225364, 0.557661, 0.301073, \"(651.5, inf]\", \"v12\", 4, 651.5, Infinity], [\"v13\", \"(-inf, -999.0]\", 1.032758, -0.84342, 196, 0.053743, 33, 0.168367, 163, 0.831633, 0.028278, 0.065726, 0.031585, \"(-inf, -999.0]\", \"v13\", 0, -Infinity, -999.0], [\"v13\", \"(-999.0, 568.5]\", 1.032758, 1.494685, 824, 0.225939, 558, 0.677184, 266, 0.322816, 0.478149, 0.107258, 0.554365, \"(-999.0, 568.5]\", \"v13\", 1, -999.0, 568.5], [\"v13\", \"(568.5, 619.5]\", 1.032758, 0.489671, 396, 0.108582, 172, 0.434343, 224, 0.565657, 0.147386, 0.090323, 0.027943, \"(568.5, 619.5]\", \"v13\", 2, 568.5, 619.5], [\"v13\", \"(619.5, 685.5]\", 1.032758, -0.069113, 603, 0.165341, 184, 0.305141, 419, 0.694859, 0.157669, 0.168952, 0.00078, \"(619.5, 685.5]\", \"v13\", 3, 619.5, 685.5], [\"v13\", \"(685.5, inf]\", 1.032758, -1.102476, 1628, 0.446394, 220, 0.135135, 1408, 0.864865, 0.188518, 0.567742, 0.418086, \"(685.5, inf]\", \"v13\", 4, 685.5, Infinity], [\"v16\", \"(-inf, -999.0]\", 0.876177, -0.679773, 2493, 0.683576, 480, 0.192539, 2013, 0.807461, 0.411311, 0.811694, 0.272169, \"(-inf, -999.0]\", \"v16\", 0, -Infinity, -999.0], [\"v16\", \"(-999.0, 3.5]\", 0.876177, 0.45449, 451, 0.123663, 192, 0.425721, 259, 0.574279, 0.164524, 0.104435, 0.02731, \"(-999.0, 3.5]\", \"v16\", 1, -999.0, 3.5], [\"v16\", \"(3.5, 5.5]\", 0.876177, 1.479546, 463, 0.126954, 312, 0.673866, 151, 0.326134, 0.267352, 0.060887, 0.305475, \"(3.5, 5.5]\", \"v16\", 2, 3.5, 5.5], [\"v16\", \"(5.5, 6.5]\", 0.876177, 1.561745, 120, 0.032904, 83, 0.691667, 37, 0.308333, 0.071123, 0.014919, 0.087775, \"(5.5, 6.5]\", \"v16\", 3, 5.5, 6.5], [\"v16\", \"(6.5, inf]\", 0.876177, 2.36326, 120, 0.032904, 100, 0.833333, 20, 0.166667, 0.08569, 0.008065, 0.183449, \"(6.5, inf]\", \"v16\", 4, 6.5, Infinity], [\"v25\", \"(-inf, 25.5]\", 0.799675, 1.575312, 514, 0.140938, 357, 0.694553, 157, 0.305447, 0.305913, 0.063306, 0.38218, \"(-inf, 25.5]\", \"v25\", 0, -Infinity, 25.5], [\"v25\", \"(25.5, 35.5]\", 0.799675, 0.667494, 510, 0.139841, 244, 0.478431, 266, 0.521569, 0.209083, 0.107258, 0.067968, \"(25.5, 35.5]\", \"v25\", 1, 25.5, 35.5], [\"v25\", \"(35.5, 40.5]\", 0.799675, 0.221357, 346, 0.094872, 128, 0.369942, 218, 0.630058, 0.109683, 0.087903, 0.004821, \"(35.5, 40.5]\", \"v25\", 2, 35.5, 40.5], [\"v25\", \"(40.5, 56.5]\", 0.799675, -0.309325, 1118, 0.306553, 287, 0.256708, 831, 0.743292, 0.24593, 0.335081, 0.027577, \"(40.5, 56.5]\", \"v25\", 3, 40.5, 56.5], [\"v25\", \"(56.5, inf]\", 0.799675, -1.144621, 1159, 0.317795, 151, 0.130285, 1008, 0.869715, 0.129392, 0.406452, 0.317129, \"(56.5, inf]\", \"v25\", 4, 56.5, Infinity], [\"v4\", \"(-inf, 3.5]\", 0.751676, -0.808061, 1540, 0.422265, 267, 0.173377, 1273, 0.826623, 0.228792, 0.513306, 0.229905, \"(-inf, 3.5]\", \"v4\", 0, -Infinity, 3.5], [\"v4\", \"(3.5, 6.5]\", 0.751676, -0.429948, 704, 0.193035, 165, 0.234375, 539, 0.765625, 0.141388, 0.217339, 0.032655, \"(3.5, 6.5]\", \"v4\", 1, 3.5, 6.5], [\"v4\", \"(6.5, 10.5]\", 0.751676, 0.146093, 485, 0.132986, 171, 0.352577, 314, 0.647423, 0.14653, 0.126613, 0.00291, \"(6.5, 10.5]\", \"v4\", 2, 6.5, 10.5], [\"v4\", \"(10.5, 18.5]\", 0.751676, 0.740029, 435, 0.119276, 216, 0.496552, 219, 0.503448, 0.18509, 0.088306, 0.071623, \"(10.5, 18.5]\", \"v4\", 3, 10.5, 18.5], [\"v4\", \"(18.5, inf]\", 0.751676, 1.70075, 483, 0.132438, 348, 0.720497, 135, 0.279503, 0.298201, 0.054435, 0.414583, \"(18.5, inf]\", \"v4\", 4, 18.5, Infinity], [\"v24\", \"(-inf, -999.0]\", 0.629771, 0.266119, 276, 0.075679, 105, 0.380435, 171, 0.619565, 0.089974, 0.068952, 0.005595, \"(-inf, -999.0]\", \"v24\", 0, -Infinity, -999.0], [\"v24\", \"(-999.0, 588.5]\", 0.629771, 1.813901, 377, 0.103373, 280, 0.742706, 97, 0.257294, 0.239931, 0.039113, 0.364265, \"(-999.0, 588.5]\", \"v24\", 1, -999.0, 588.5], [\"v24\", \"(588.5, 613.5]\", 0.629771, 0.598846, 375, 0.102824, 173, 0.461333, 202, 0.538667, 0.148243, 0.081452, 0.039998, \"(588.5, 613.5]\", \"v24\", 2, 588.5, 613.5], [\"v24\", \"(613.5, 671.5]\", 0.629771, -0.185008, 1654, 0.453523, 465, 0.281137, 1189, 0.718863, 0.398458, 0.479435, 0.014982, \"(613.5, 671.5]\", \"v24\", 3, 613.5, 671.5], [\"v24\", \"(671.5, inf]\", 0.629771, -0.986888, 965, 0.264601, 144, 0.149223, 821, 0.850777, 0.123393, 0.331048, 0.204932, \"(671.5, inf]\", \"v24\", 4, 671.5, Infinity], [\"v3\", \"(-inf, -999.0]\", 0.253697, -0.379976, 994, 0.272553, 242, 0.243461, 752, 0.756539, 0.207369, 0.303226, 0.036423, \"(-inf, -999.0]\", \"v3\", 0, -Infinity, -999.0], [\"v3\", \"(-999.0, 3.5]\", 0.253697, -0.300379, 1455, 0.398958, 376, 0.258419, 1079, 0.741581, 0.322194, 0.435081, 0.033909, \"(-999.0, 3.5]\", \"v3\", 1, -999.0, 3.5], [\"v3\", \"(3.5, 5.5]\", 0.253697, 0.165219, 381, 0.104469, 136, 0.356955, 245, 0.643045, 0.116538, 0.09879, 0.002932, \"(3.5, 5.5]\", \"v3\", 2, 3.5, 5.5], [\"v3\", \"(5.5, 14.5]\", 0.253697, 0.544953, 567, 0.15547, 254, 0.447972, 313, 0.552028, 0.217652, 0.12621, 0.049832, \"(5.5, 14.5]\", \"v3\", 3, 5.5, 14.5], [\"v3\", \"(14.5, inf]\", 0.253697, 1.311867, 250, 0.068549, 159, 0.636, 91, 0.364, 0.136247, 0.036694, 0.130601, \"(14.5, inf]\", \"v3\", 4, 14.5, Infinity], [\"v32\", \"(-inf, -999.0]\", 0.108273, -0.180818, 766, 0.210036, 216, 0.281984, 550, 0.718016, 0.18509, 0.221774, 0.006633, \"(-inf, -999.0]\", \"v32\", 0, -Infinity, -999.0], [\"v32\", \"(-999.0, 2.5]\", 0.108273, 0.358641, 1538, 0.421716, 619, 0.402471, 919, 0.597529, 0.53042, 0.370565, 0.057331, \"(-999.0, 2.5]\", \"v32\", 1, -999.0, 2.5], [\"v32\", \"(2.5, inf]\", 0.108273, -0.359738, 1343, 0.368248, 332, 0.247208, 1011, 0.752792, 0.28449, 0.407661, 0.044309, \"(2.5, inf]\", \"v32\", 2, 2.5, Infinity]]};\n",
       "        dt_args = eval_functions(dt_args);\n",
       "        table = $('#efdd494f-8c13-4a33-929d-e41a94e1bc28').DataTable(dt_args);\n",
       "    });\n",
       "})\n",
       "</script>\n",
       "</div>\n"
      ],
      "text/plain": [
       "<IPython.core.display.HTML object>"
      ]
     },
     "metadata": {},
     "output_type": "display_data"
    }
   ],
   "source": [
    "# 连续型特征的woe映射集合表\n",
    "woe_map_num = self_f_2.get_map_df(select_num_df)\n",
    "woe_map_num['bin'] = woe_map_num['bin'].map(lambda x:str(x))\n",
    "woe_map_num['min_bin'] = woe_map_num['bin'].map(lambda x:x.split(',')[0][1:])\n",
    "woe_map_num.to_excel(\"woe_map_num.xlsx\")\n",
    "woe_map_num['max_bin'] = woe_map_num['bin'].map(lambda x:x.split(',')[1][:-1])\n",
    "# show(woe_map_num)\n",
    "woe_map_num['min_bin'] = woe_map_num['min_bin'].map(lambda x:float(x))\n",
    "woe_map_num['max_bin'] = woe_map_num['max_bin'].map(lambda x:float(x))\n",
    "\n",
    "print(\"\\033[1;31m连续型变量分箱调整后分箱和woe情况 \\033[0m\")\n",
    "show(woe_map_num)\n",
    "# print(woe_map_num.columns)"
   ]
  },
  {
   "cell_type": "code",
   "execution_count": 17,
   "metadata": {},
   "outputs": [
    {
     "name": "stdout",
     "output_type": "stream",
     "text": [
      "\u001b[1;31miv筛选后的离散型变量 \u001b[0m ['v9', 'v10', 'v26', 'v30', 'v2']\n",
      "\u001b[1;31m连续和离散型变量分箱调整后分箱和woe情况 \u001b[0m\n"
     ]
    },
    {
     "data": {
      "text/html": [
       "<div><table id=\"300b63bd-9eb4-4205-8170-172fbc4676f4\" class=\"display nowrap\"><thead>\n",
       "    <tr style=\"text-align: right;\">\n",
       "      \n",
       "      <th>col</th>\n",
       "      <th>bin</th>\n",
       "      <th>IV</th>\n",
       "      <th>woe</th>\n",
       "      <th>total</th>\n",
       "      <th>totalrate</th>\n",
       "      <th>bad</th>\n",
       "      <th>badrate</th>\n",
       "      <th>good</th>\n",
       "      <th>goodrate</th>\n",
       "      <th>badattr</th>\n",
       "      <th>goodattr</th>\n",
       "      <th>bin_iv</th>\n",
       "      <th>bins</th>\n",
       "      <th>var_name</th>\n",
       "      <th>fuzhu</th>\n",
       "      <th>min_bin</th>\n",
       "      <th>max_bin</th>\n",
       "    </tr>\n",
       "  </thead></table>\n",
       "<script type=\"text/javascript\">\n",
       "require([\"datatables\"], function (datatables) {\n",
       "    $(document).ready(function () {        \n",
       "        var dt_args = {\"columnDefs\": [{\"width\": \"150px\", \"targets\": \"_all\"}], \"lengthMenu\": [10, 10, 100, 200, 500, 1000, 2000, 5000], \"data\": [[\"v9\", \"A\", 0.630024, -1.629355, 663, 0.181793, 56, 0.084465, 607, 0.915535, 0.047986, 0.244758, 0.320611, \"A\", \"v9\", 0, \"A\", \"A\"], [\"v9\", \"B\", 0.630024, -0.48914, 1112, 0.304908, 249, 0.223921, 863, 0.776079, 0.213368, 0.347984, 0.065846, \"B\", \"v9\", 1, \"B\", \"B\"], [\"v9\", \"C\", 0.630024, 0.017913, 318, 0.087195, 103, 0.323899, 215, 0.676101, 0.08826, 0.086694, 2.8e-05, \"C\", \"v9\", 2, \"C\", \"C\"], [\"v9\", \"D\", 0.630024, 0.434124, 347, 0.095147, 146, 0.420749, 201, 0.579251, 0.125107, 0.081048, 0.019127, \"D\", \"v9\", 3, \"D\", \"D\"], [\"v9\", \"E\", 0.630024, 0.785308, 1207, 0.330957, 613, 0.507871, 594, 0.492129, 0.525278, 0.239516, 0.224411, \"E\", \"v9\", 4, \"E\", \"E\"], [\"v10\", \"a\", 0.624386, 0.150768, 919, 0.251988, 325, 0.353645, 594, 0.646355, 0.278492, 0.239516, 0.005876, \"a\", \"v10\", 0, \"a\", \"a\"], [\"v10\", \"b\", 0.624386, -0.531254, 803, 0.220181, 174, 0.216687, 629, 0.783313, 0.1491, 0.253629, 0.055531, \"b\", \"v10\", 1, \"b\", \"b\"], [\"v10\", \"c\", 0.624386, -0.802899, 425, 0.116534, 74, 0.174118, 351, 0.825882, 0.06341, 0.141532, 0.062724, \"c\", \"v10\", 2, \"c\", \"c\"], [\"v10\", \"d\", 0.624386, -1.731084, 247, 0.067727, 19, 0.076923, 228, 0.923077, 0.016281, 0.091935, 0.130964, \"d\", \"v10\", 3, \"d\", \"d\"], [\"v10\", \"e\", 0.624386, -2.018767, 102, 0.027968, 6, 0.058824, 96, 0.941176, 0.005141, 0.03871, 0.067767, \"e\", \"v10\", 4, \"e\", \"e\"], [\"v10\", \"f\", 0.624386, -2.727418, 67, 0.018371, 2, 0.029851, 65, 0.970149, 0.001714, 0.02621, 0.066811, \"f\", \"v10\", 5, \"f\", \"f\"], [\"v10\", \"g\", 0.624386, 0.846139, 1084, 0.297231, 567, 0.523063, 517, 0.476937, 0.485861, 0.208468, 0.234713, \"g\", \"v10\", 6, \"g\", \"g\"], [\"v26\", \"0\", 0.35907, -0.471227, 2440, 0.669043, 554, 0.227049, 1886, 0.772951, 0.474722, 0.760484, 0.134659, \"0\", \"v26\", 0, \"0\", \"0\"], [\"v26\", \"1\", 0.35907, 0.785308, 1207, 0.330957, 613, 0.507871, 594, 0.492129, 0.525278, 0.239516, 0.224411, \"1\", \"v26\", 1, \"1\", \"1\"], [\"v30\", \"-999.0\", 0.290845, -0.180818, 766, 0.210036, 216, 0.281984, 550, 0.718016, 0.18509, 0.221774, 0.006633, \"-999.0\", \"v30\", 0, \"-999.0\", \"-999.0\"], [\"v30\", \"0.0\", 0.290845, 0.433985, 1873, 0.513573, 788, 0.420715, 1085, 0.579285, 0.675236, 0.4375, 0.103174, \"0.0\", \"v30\", 1, \"0.0\", \"0.0\"], [\"v30\", \"1.0\", 0.290845, -0.896734, 1006, 0.275843, 162, 0.161034, 844, 0.838966, 0.138817, 0.340323, 0.180696, \"1.0\", \"v30\", 2, \"1.0\", \"1.0\"], [\"v30\", \"2.0\", 0.290845, 0.753822, 2, 0.000548, 1, 0.5, 1, 0.5, 0.000857, 0.000403, 0.000342, \"2.0\", \"v30\", 3, \"2.0\", \"2.0\"], [\"v2\", \"A\", 0.145072, -0.17459, 2895, 0.793803, 820, 0.283247, 2075, 0.716753, 0.702656, 0.836694, 0.023402, \"A\", \"v2\", 0, \"A\", \"A\"], [\"v2\", \"B\", 0.145072, 1.676986, 102, 0.027968, 73, 0.715686, 29, 0.284314, 0.062554, 0.011694, 0.085292, \"B\", \"v2\", 1, \"B\", \"B\"], [\"v2\", \"C\", 0.145072, 0.437361, 650, 0.178229, 274, 0.421538, 376, 0.578462, 0.23479, 0.151613, 0.036378, \"C\", \"v2\", 2, \"C\", \"C\"], [\"v5\", \"(-inf, 5.5]\", 1.124775, -1.139621, 1666, 0.456814, 218, 0.130852, 1448, 0.869148, 0.186804, 0.583871, 0.452506, \"(-inf, 5.5]\", \"v5\", 0, \"-inf\", \"5.5\"], [\"v5\", \"(5.5, 13.5]\", 1.124775, -0.089443, 944, 0.258843, 284, 0.300847, 660, 0.699153, 0.243359, 0.266129, 0.002037, \"(5.5, 13.5]\", \"v5\", 1, \"5.5\", \"13.5\"], [\"v5\", \"(13.5, 25.5]\", 1.124775, 0.865692, 519, 0.142309, 274, 0.527938, 245, 0.472062, 0.23479, 0.09879, 0.117734, \"(13.5, 25.5]\", \"v5\", 2, \"13.5\", \"25.5\"], [\"v5\", \"(25.5, 35.5]\", 1.124775, 1.55233, 232, 0.063614, 160, 0.689655, 72, 0.310345, 0.137104, 0.029032, 0.167763, \"(25.5, 35.5]\", \"v5\", 3, \"25.5\", \"35.5\"], [\"v5\", \"(35.5, inf]\", 1.124775, 2.188907, 286, 0.078421, 231, 0.807692, 55, 0.192308, 0.197943, 0.022177, 0.384735, \"(35.5, inf]\", \"v5\", 4, \"35.5\", \"inf\"], [\"v12\", \"(-inf, -999.0]\", 1.064377, -1.170109, 361, 0.098985, 46, 0.127424, 315, 0.872576, 0.039417, 0.127016, 0.1025, \"(-inf, -999.0]\", \"v12\", 0, \"-inf\", \"-999.0\"], [\"v12\", \"(-999.0, 468.5]\", 1.064377, 2.01867, 427, 0.117083, 333, 0.779859, 94, 0.220141, 0.285347, 0.037903, 0.499507, \"(-999.0, 468.5]\", \"v12\", 1, \"-999.0\", \"468.5\"], [\"v12\", \"(468.5, 541.5]\", 1.064377, 1.095865, 431, 0.118179, 252, 0.584687, 179, 0.415313, 0.215938, 0.072177, 0.157543, \"(468.5, 541.5]\", \"v12\", 2, \"468.5\", \"541.5\"], [\"v12\", \"(541.5, 651.5]\", 1.064377, 0.130846, 782, 0.214423, 273, 0.349105, 509, 0.650895, 0.233933, 0.205242, 0.003754, \"(541.5, 651.5]\", \"v12\", 3, \"541.5\", \"651.5\"], [\"v12\", \"(651.5, inf]\", 1.064377, -0.906034, 1646, 0.45133, 263, 0.159781, 1383, 0.840219, 0.225364, 0.557661, 0.301073, \"(651.5, inf]\", \"v12\", 4, \"651.5\", \"inf\"], [\"v13\", \"(-inf, -999.0]\", 1.032758, -0.84342, 196, 0.053743, 33, 0.168367, 163, 0.831633, 0.028278, 0.065726, 0.031585, \"(-inf, -999.0]\", \"v13\", 0, \"-inf\", \"-999.0\"], [\"v13\", \"(-999.0, 568.5]\", 1.032758, 1.494685, 824, 0.225939, 558, 0.677184, 266, 0.322816, 0.478149, 0.107258, 0.554365, \"(-999.0, 568.5]\", \"v13\", 1, \"-999.0\", \"568.5\"], [\"v13\", \"(568.5, 619.5]\", 1.032758, 0.489671, 396, 0.108582, 172, 0.434343, 224, 0.565657, 0.147386, 0.090323, 0.027943, \"(568.5, 619.5]\", \"v13\", 2, \"568.5\", \"619.5\"], [\"v13\", \"(619.5, 685.5]\", 1.032758, -0.069113, 603, 0.165341, 184, 0.305141, 419, 0.694859, 0.157669, 0.168952, 0.00078, \"(619.5, 685.5]\", \"v13\", 3, \"619.5\", \"685.5\"], [\"v13\", \"(685.5, inf]\", 1.032758, -1.102476, 1628, 0.446394, 220, 0.135135, 1408, 0.864865, 0.188518, 0.567742, 0.418086, \"(685.5, inf]\", \"v13\", 4, \"685.5\", \"inf\"], [\"v16\", \"(-inf, -999.0]\", 0.876177, -0.679773, 2493, 0.683576, 480, 0.192539, 2013, 0.807461, 0.411311, 0.811694, 0.272169, \"(-inf, -999.0]\", \"v16\", 0, \"-inf\", \"-999.0\"], [\"v16\", \"(-999.0, 3.5]\", 0.876177, 0.45449, 451, 0.123663, 192, 0.425721, 259, 0.574279, 0.164524, 0.104435, 0.02731, \"(-999.0, 3.5]\", \"v16\", 1, \"-999.0\", \"3.5\"], [\"v16\", \"(3.5, 5.5]\", 0.876177, 1.479546, 463, 0.126954, 312, 0.673866, 151, 0.326134, 0.267352, 0.060887, 0.305475, \"(3.5, 5.5]\", \"v16\", 2, \"3.5\", \"5.5\"], [\"v16\", \"(5.5, 6.5]\", 0.876177, 1.561745, 120, 0.032904, 83, 0.691667, 37, 0.308333, 0.071123, 0.014919, 0.087775, \"(5.5, 6.5]\", \"v16\", 3, \"5.5\", \"6.5\"], [\"v16\", \"(6.5, inf]\", 0.876177, 2.36326, 120, 0.032904, 100, 0.833333, 20, 0.166667, 0.08569, 0.008065, 0.183449, \"(6.5, inf]\", \"v16\", 4, \"6.5\", \"inf\"], [\"v25\", \"(-inf, 25.5]\", 0.799675, 1.575312, 514, 0.140938, 357, 0.694553, 157, 0.305447, 0.305913, 0.063306, 0.38218, \"(-inf, 25.5]\", \"v25\", 0, \"-inf\", \"25.5\"], [\"v25\", \"(25.5, 35.5]\", 0.799675, 0.667494, 510, 0.139841, 244, 0.478431, 266, 0.521569, 0.209083, 0.107258, 0.067968, \"(25.5, 35.5]\", \"v25\", 1, \"25.5\", \"35.5\"], [\"v25\", \"(35.5, 40.5]\", 0.799675, 0.221357, 346, 0.094872, 128, 0.369942, 218, 0.630058, 0.109683, 0.087903, 0.004821, \"(35.5, 40.5]\", \"v25\", 2, \"35.5\", \"40.5\"], [\"v25\", \"(40.5, 56.5]\", 0.799675, -0.309325, 1118, 0.306553, 287, 0.256708, 831, 0.743292, 0.24593, 0.335081, 0.027577, \"(40.5, 56.5]\", \"v25\", 3, \"40.5\", \"56.5\"], [\"v25\", \"(56.5, inf]\", 0.799675, -1.144621, 1159, 0.317795, 151, 0.130285, 1008, 0.869715, 0.129392, 0.406452, 0.317129, \"(56.5, inf]\", \"v25\", 4, \"56.5\", \"inf\"], [\"v4\", \"(-inf, 3.5]\", 0.751676, -0.808061, 1540, 0.422265, 267, 0.173377, 1273, 0.826623, 0.228792, 0.513306, 0.229905, \"(-inf, 3.5]\", \"v4\", 0, \"-inf\", \"3.5\"], [\"v4\", \"(3.5, 6.5]\", 0.751676, -0.429948, 704, 0.193035, 165, 0.234375, 539, 0.765625, 0.141388, 0.217339, 0.032655, \"(3.5, 6.5]\", \"v4\", 1, \"3.5\", \"6.5\"], [\"v4\", \"(6.5, 10.5]\", 0.751676, 0.146093, 485, 0.132986, 171, 0.352577, 314, 0.647423, 0.14653, 0.126613, 0.00291, \"(6.5, 10.5]\", \"v4\", 2, \"6.5\", \"10.5\"], [\"v4\", \"(10.5, 18.5]\", 0.751676, 0.740029, 435, 0.119276, 216, 0.496552, 219, 0.503448, 0.18509, 0.088306, 0.071623, \"(10.5, 18.5]\", \"v4\", 3, \"10.5\", \"18.5\"], [\"v4\", \"(18.5, inf]\", 0.751676, 1.70075, 483, 0.132438, 348, 0.720497, 135, 0.279503, 0.298201, 0.054435, 0.414583, \"(18.5, inf]\", \"v4\", 4, \"18.5\", \"inf\"], [\"v24\", \"(-inf, -999.0]\", 0.629771, 0.266119, 276, 0.075679, 105, 0.380435, 171, 0.619565, 0.089974, 0.068952, 0.005595, \"(-inf, -999.0]\", \"v24\", 0, \"-inf\", \"-999.0\"], [\"v24\", \"(-999.0, 588.5]\", 0.629771, 1.813901, 377, 0.103373, 280, 0.742706, 97, 0.257294, 0.239931, 0.039113, 0.364265, \"(-999.0, 588.5]\", \"v24\", 1, \"-999.0\", \"588.5\"], [\"v24\", \"(588.5, 613.5]\", 0.629771, 0.598846, 375, 0.102824, 173, 0.461333, 202, 0.538667, 0.148243, 0.081452, 0.039998, \"(588.5, 613.5]\", \"v24\", 2, \"588.5\", \"613.5\"], [\"v24\", \"(613.5, 671.5]\", 0.629771, -0.185008, 1654, 0.453523, 465, 0.281137, 1189, 0.718863, 0.398458, 0.479435, 0.014982, \"(613.5, 671.5]\", \"v24\", 3, \"613.5\", \"671.5\"], [\"v24\", \"(671.5, inf]\", 0.629771, -0.986888, 965, 0.264601, 144, 0.149223, 821, 0.850777, 0.123393, 0.331048, 0.204932, \"(671.5, inf]\", \"v24\", 4, \"671.5\", \"inf\"], [\"v3\", \"(-inf, -999.0]\", 0.253697, -0.379976, 994, 0.272553, 242, 0.243461, 752, 0.756539, 0.207369, 0.303226, 0.036423, \"(-inf, -999.0]\", \"v3\", 0, \"-inf\", \"-999.0\"], [\"v3\", \"(-999.0, 3.5]\", 0.253697, -0.300379, 1455, 0.398958, 376, 0.258419, 1079, 0.741581, 0.322194, 0.435081, 0.033909, \"(-999.0, 3.5]\", \"v3\", 1, \"-999.0\", \"3.5\"], [\"v3\", \"(3.5, 5.5]\", 0.253697, 0.165219, 381, 0.104469, 136, 0.356955, 245, 0.643045, 0.116538, 0.09879, 0.002932, \"(3.5, 5.5]\", \"v3\", 2, \"3.5\", \"5.5\"], [\"v3\", \"(5.5, 14.5]\", 0.253697, 0.544953, 567, 0.15547, 254, 0.447972, 313, 0.552028, 0.217652, 0.12621, 0.049832, \"(5.5, 14.5]\", \"v3\", 3, \"5.5\", \"14.5\"], [\"v3\", \"(14.5, inf]\", 0.253697, 1.311867, 250, 0.068549, 159, 0.636, 91, 0.364, 0.136247, 0.036694, 0.130601, \"(14.5, inf]\", \"v3\", 4, \"14.5\", \"inf\"], [\"v32\", \"(-inf, -999.0]\", 0.108273, -0.180818, 766, 0.210036, 216, 0.281984, 550, 0.718016, 0.18509, 0.221774, 0.006633, \"(-inf, -999.0]\", \"v32\", 0, \"-inf\", \"-999.0\"], [\"v32\", \"(-999.0, 2.5]\", 0.108273, 0.358641, 1538, 0.421716, 619, 0.402471, 919, 0.597529, 0.53042, 0.370565, 0.057331, \"(-999.0, 2.5]\", \"v32\", 1, \"-999.0\", \"2.5\"], [\"v32\", \"(2.5, inf]\", 0.108273, -0.359738, 1343, 0.368248, 332, 0.247208, 1011, 0.752792, 0.28449, 0.407661, 0.044309, \"(2.5, inf]\", \"v32\", 2, \"2.5\", \"inf\"]]};\n",
       "        dt_args = eval_functions(dt_args);\n",
       "        table = $('#300b63bd-9eb4-4205-8170-172fbc4676f4').DataTable(dt_args);\n",
       "    });\n",
       "})\n",
       "</script>\n",
       "</div>\n"
      ],
      "text/plain": [
       "<IPython.core.display.HTML object>"
      ]
     },
     "metadata": {},
     "output_type": "display_data"
    }
   ],
   "source": [
    "if len(cate_col)>0:\n",
    "#     print(cate_col)\n",
    "    bin_cate_list = [x for x in bin_df_list if x.index.name in cate_col]\n",
    "    select_cate_df=bin_cate_list.copy()\n",
    "    # 剔除woe不单调的离散形特征,正常离散型特征无需管woe是否单调，除非是有等级顺序的离散型特征\n",
    "#     select_cate_df=[]\n",
    "#     for i,dd in enumerate(bin_cate_list):\n",
    "#         woe_lst = dd['woe'].tolist()\n",
    "#         if self_f_2.judge_decreasing(woe_lst) or self_f_2.judge_increasing(woe_lst):\n",
    "#             select_cate_df.append(dd)\n",
    "    # 离散型特征的woe映射集合表\n",
    "    if len(select_cate_df)>0:\n",
    "        woe_map_cate = self_f_2.get_map_df(select_cate_df)\n",
    "#         print(woe_map_cate)\n",
    "        woe_map_cate['min_bin'] = list(woe_map_cate['bin'])\n",
    "        woe_map_cate['max_bin'] = list(woe_map_cate['bin'])\n",
    "        woe_map_df = pd.concat([woe_map_cate,woe_map_num],axis=0).reset_index(drop=True)\n",
    "else:\n",
    "    woe_map_df = woe_map_num.reset_index(drop=True)\n",
    "\n",
    "print('\\033[1;31miv筛选后的离散型变量 \\033[0m',cate_col)\n",
    "print(\"\\033[1;31m连续和离散型变量分箱调整后分箱和woe情况 \\033[0m\")\n",
    "show(woe_map_df)"
   ]
  },
  {
   "cell_type": "markdown",
   "metadata": {},
   "source": [
    "### woe编码后相关性筛选"
   ]
  },
  {
   "cell_type": "code",
   "execution_count": 18,
   "metadata": {},
   "outputs": [
    {
     "data": {
      "text/html": [
       "<div><table id=\"4aa4fc3b-f7e4-4aa9-b02a-ba48a5da1b63\" class=\"display nowrap\"><thead>\n",
       "    <tr style=\"text-align: right;\">\n",
       "      <th></th>\n",
       "      <th>v5</th>\n",
       "      <th>v12</th>\n",
       "      <th>v13</th>\n",
       "      <th>v16</th>\n",
       "      <th>v25</th>\n",
       "      <th>v4</th>\n",
       "      <th>v9</th>\n",
       "      <th>v24</th>\n",
       "      <th>v10</th>\n",
       "      <th>v26</th>\n",
       "      <th>v30</th>\n",
       "      <th>v3</th>\n",
       "      <th>v2</th>\n",
       "      <th>v32</th>\n",
       "    </tr>\n",
       "  </thead></table>\n",
       "<script type=\"text/javascript\">\n",
       "require([\"datatables\"], function (datatables) {\n",
       "    $(document).ready(function () {        \n",
       "        var dt_args = {\"columnDefs\": [{\"width\": \"200px\", \"targets\": \"_all\"}], \"lengthMenu\": [10, 10, 100, 200, 500, 1000, 2000, 5000], \"data\": [[\"v5\", 1.0, 0.747298, 0.655111, 0.699436, 0.285626, 0.881321, 0.043859, 0.350397, 0.051899, 0.0477, 0.194599, 0.70092, 0.445659, 0.11592], [\"v12\", 0.747298, 1.0, 0.777032, 0.739228, 0.343992, 0.629955, 0.100455, 0.400036, 0.118022, 0.065367, 0.204277, 0.425751, 0.294858, 0.135895], [\"v13\", 0.655111, 0.777032, 1.0, 0.69265, 0.391728, 0.560959, 0.204981, 0.41365, 0.203602, 0.110265, 0.201863, 0.372641, 0.252747, 0.138741], [\"v16\", 0.699436, 0.739228, 0.69265, 1.0, 0.351945, 0.605351, 0.129442, 0.374698, 0.144426, 0.089336, 0.165526, 0.408156, 0.258463, 0.113563], [\"v25\", 0.285626, 0.343992, 0.391728, 0.351945, 1.0, 0.234621, 0.407735, 0.376003, 0.347948, 0.295216, 0.099688, 0.10156, 0.07383, 0.055417], [\"v4\", 0.881321, 0.629955, 0.560959, 0.605351, 0.234621, 1.0, -0.001084, 0.251971, 0.026619, -4.6e-05, 0.170247, 0.797885, 0.482609, 0.105329], [\"v9\", 0.043859, 0.100455, 0.204981, 0.129442, 0.407735, -0.001084, 1.0, 0.340603, 0.795778, 0.749922, 0.079335, -0.087143, 0.001799, 0.053842], [\"v24\", 0.350397, 0.400036, 0.41365, 0.374698, 0.376003, 0.251971, 0.340603, 1.0, 0.289424, 0.211506, 0.121527, 0.116821, 0.082009, 0.049278], [\"v10\", 0.051899, 0.118022, 0.203602, 0.144426, 0.347948, 0.026619, 0.795778, 0.289424, 1.0, 0.684228, 0.11496, -0.071753, 0.015502, 0.084811], [\"v26\", 0.0477, 0.065367, 0.110265, 0.089336, 0.295216, -4.6e-05, 0.749922, 0.211506, 0.684228, 1.0, 0.046939, -0.088422, 0.034933, 0.047221], [\"v30\", 0.194599, 0.204277, 0.201863, 0.165526, 0.099688, 0.170247, 0.079335, 0.121527, 0.11496, 0.046939, 1.0, 0.110401, 0.071013, 0.682376], [\"v3\", 0.70092, 0.425751, 0.372641, 0.408156, 0.10156, 0.797885, -0.087143, 0.116821, -0.071753, -0.088422, 0.110401, 1.0, 0.533738, 0.0628], [\"v2\", 0.445659, 0.294858, 0.252747, 0.258463, 0.07383, 0.482609, 0.001799, 0.082009, 0.015502, 0.034933, 0.071013, 0.533738, 1.0, 0.037911], [\"v32\", 0.11592, 0.135895, 0.138741, 0.113563, 0.055417, 0.105329, 0.053842, 0.049278, 0.084811, 0.047221, 0.682376, 0.0628, 0.037911, 1.0]]};\n",
       "        dt_args = eval_functions(dt_args);\n",
       "        table = $('#4aa4fc3b-f7e4-4aa9-b02a-ba48a5da1b63').DataTable(dt_args);\n",
       "    });\n",
       "})\n",
       "</script>\n",
       "</div>\n"
      ],
      "text/plain": [
       "<IPython.core.display.HTML object>"
      ]
     },
     "metadata": {},
     "output_type": "display_data"
    },
    {
     "name": "stdout",
     "output_type": "stream",
     "text": [
      "\u001b[1;31m woe编码后相关性筛选的特征:\u001b[0m ['v5', 'v13', 'v16', 'v25', 'v9', 'v24', 'v30', 'v2', 'v32']\n",
      "\u001b[1;31m woe编码后相关性删除的特征:\u001b[0m ['v12', 'v4', 'v10', 'v26', 'v3']\n",
      "\u001b[1;31m 相关性筛选完成-----------------------------\u001b[0m\n",
      "\u001b[1;31m woe编码后多重共线性筛选的特征:\u001b[0m ['v5', 'v13', 'v16', 'v25', 'v9', 'v24', 'v30', 'v2', 'v32']\n",
      "\u001b[1;31m woe编码后多重共线性删除的特征:\u001b[0m []\n",
      "\u001b[1;31m 多重共线性筛选完成--------------------------\u001b[0m\n"
     ]
    }
   ],
   "source": [
    "# woe编码后相关性筛选\n",
    "\n",
    "#对train使用woe编码替换\n",
    "select_all_col = woe_map_df['col'].unique().tolist()\n",
    "select_sort_col = [x for x,y in iv_sort if x in select_all_col]\n",
    "\n",
    "train2 = train.loc[:,select_sort_col+[target]].reset_index(drop=True)\n",
    "\n",
    "# woe映射\n",
    "train_woe = self_f_2.var_mapping(train2,woe_map_df,'woe',target)\n",
    "X = train_woe.loc[:,select_sort_col]\n",
    "y = train_woe[target]\n",
    "    \n",
    "#相关性展示\n",
    "corr=pd.DataFrame(train[num_col].corr())\n",
    "corr_woe=pd.DataFrame(train_woe[select_sort_col].corr())\n",
    "show(corr_woe, columnDefs=[{\"width\": \"200px\", \"targets\": \"_all\"}])\n",
    "\n",
    "#相关性筛选，默认阈值0.7\n",
    "corr_select_col_woe,corr_delete_col_woe = self_f_2.forward_corr_delete(train_woe,select_sort_col,cut_value=0.7)\n",
    "print(\"\\033[1;31m woe编码后相关性筛选的特征:\\033[0m\",corr_select_col_woe)\n",
    "print(\"\\033[1;31m woe编码后相关性删除的特征:\\033[0m\",corr_delete_col_woe)\n",
    "print(\"\\033[1;31m 相关性筛选完成-----------------------------\\033[0m\")\n",
    "\n",
    "#多重共线性筛选，系数阈值10\n",
    "vif_select_col_woe,vif_delete_col_woe  = self_f_2.vif_delete(train_woe,corr_select_col_woe)\n",
    "print(\"\\033[1;31m woe编码后多重共线性筛选的特征:\\033[0m\",vif_select_col_woe)\n",
    "print(\"\\033[1;31m woe编码后多重共线性删除的特征:\\033[0m\",vif_delete_col_woe)\n",
    "print('\\033[1;31m 多重共线性筛选完成--------------------------\\033[0m')\n",
    "\n",
    "#经过woe变换后的特征相关性和共线性筛选后的特征数据框\n",
    "X1 = X.loc[:,vif_select_col_woe]"
   ]
  },
  {
   "cell_type": "code",
   "execution_count": 19,
   "metadata": {},
   "outputs": [
    {
     "name": "stdout",
     "output_type": "stream",
     "text": [
      "Optimization terminated successfully.\n",
      "         Current function value: 0.511759\n",
      "         Iterations 6\n",
      "                           Logit Regression Results                           \n",
      "==============================================================================\n",
      "Dep. Variable:                 target   No. Observations:                 3647\n",
      "Model:                          Logit   Df Residuals:                     3645\n",
      "Method:                           MLE   Df Model:                            1\n",
      "Date:                Mon, 23 Mar 2020   Pseudo R-squ.:                  0.1836\n",
      "Time:                        18:23:48   Log-Likelihood:                -1866.4\n",
      "converged:                       True   LL-Null:                       -2286.2\n",
      "Covariance Type:            nonrobust   LLR p-value:                1.358e-184\n",
      "==============================================================================\n",
      "                 coef    std err          z      P>|z|      [0.025      0.975]\n",
      "------------------------------------------------------------------------------\n",
      "const         -0.7538      0.041    -18.578      0.000      -0.833      -0.674\n",
      "v5             1.0000      0.039     25.934      0.000       0.924       1.076\n",
      "==============================================================================\n",
      "\u001b[1;31m ---------------------------------------------------\u001b[0m\n",
      "Optimization terminated successfully.\n",
      "         Current function value: 0.490219\n",
      "         Iterations 6\n",
      "                           Logit Regression Results                           \n",
      "==============================================================================\n",
      "Dep. Variable:                 target   No. Observations:                 3647\n",
      "Model:                          Logit   Df Residuals:                     3644\n",
      "Method:                           MLE   Df Model:                            2\n",
      "Date:                Mon, 23 Mar 2020   Pseudo R-squ.:                  0.2180\n",
      "Time:                        18:23:49   Log-Likelihood:                -1787.8\n",
      "converged:                       True   LL-Null:                       -2286.2\n",
      "Covariance Type:            nonrobust   LLR p-value:                3.776e-217\n",
      "==============================================================================\n",
      "                 coef    std err          z      P>|z|      [0.025      0.975]\n",
      "------------------------------------------------------------------------------\n",
      "const         -0.7493      0.042    -17.959      0.000      -0.831      -0.668\n",
      "v5             0.6617      0.046     14.269      0.000       0.571       0.753\n",
      "v13            0.5899      0.047     12.480      0.000       0.497       0.683\n",
      "==============================================================================\n",
      "\u001b[1;31m ---------------------------------------------------\u001b[0m\n",
      "Optimization terminated successfully.\n",
      "         Current function value: 0.488859\n",
      "         Iterations 6\n",
      "                           Logit Regression Results                           \n",
      "==============================================================================\n",
      "Dep. Variable:                 target   No. Observations:                 3647\n",
      "Model:                          Logit   Df Residuals:                     3643\n",
      "Method:                           MLE   Df Model:                            3\n",
      "Date:                Mon, 23 Mar 2020   Pseudo R-squ.:                  0.2201\n",
      "Time:                        18:23:49   Log-Likelihood:                -1782.9\n",
      "converged:                       True   LL-Null:                       -2286.2\n",
      "Covariance Type:            nonrobust   LLR p-value:                6.700e-218\n",
      "==============================================================================\n",
      "                 coef    std err          z      P>|z|      [0.025      0.975]\n",
      "------------------------------------------------------------------------------\n",
      "const         -0.7441      0.042    -17.805      0.000      -0.826      -0.662\n",
      "v5             0.5927      0.051     11.544      0.000       0.492       0.693\n",
      "v13            0.5166      0.053      9.806      0.000       0.413       0.620\n",
      "v16            0.1915      0.061      3.155      0.002       0.073       0.310\n",
      "==============================================================================\n",
      "\u001b[1;31m ---------------------------------------------------\u001b[0m\n",
      "Optimization terminated successfully.\n",
      "         Current function value: 0.455744\n",
      "         Iterations 6\n",
      "                           Logit Regression Results                           \n",
      "==============================================================================\n",
      "Dep. Variable:                 target   No. Observations:                 3647\n",
      "Model:                          Logit   Df Residuals:                     3642\n",
      "Method:                           MLE   Df Model:                            4\n",
      "Date:                Mon, 23 Mar 2020   Pseudo R-squ.:                  0.2730\n",
      "Time:                        18:23:49   Log-Likelihood:                -1662.1\n",
      "converged:                       True   LL-Null:                       -2286.2\n",
      "Covariance Type:            nonrobust   LLR p-value:                5.858e-269\n",
      "==============================================================================\n",
      "                 coef    std err          z      P>|z|      [0.025      0.975]\n",
      "------------------------------------------------------------------------------\n",
      "const         -0.7162      0.043    -16.484      0.000      -0.801      -0.631\n",
      "v5             0.6518      0.055     11.956      0.000       0.545       0.759\n",
      "v13            0.3595      0.056      6.423      0.000       0.250       0.469\n",
      "v16            0.0962      0.065      1.486      0.137      -0.031       0.223\n",
      "v25            0.7595      0.050     15.166      0.000       0.661       0.858\n",
      "==============================================================================\n",
      "\u001b[1;31m ---------------------------------------------------\u001b[0m\n",
      "Optimization terminated successfully.\n",
      "         Current function value: 0.419069\n",
      "         Iterations 7\n",
      "                           Logit Regression Results                           \n",
      "==============================================================================\n",
      "Dep. Variable:                 target   No. Observations:                 3647\n",
      "Model:                          Logit   Df Residuals:                     3641\n",
      "Method:                           MLE   Df Model:                            5\n",
      "Date:                Mon, 23 Mar 2020   Pseudo R-squ.:                  0.3315\n",
      "Time:                        18:23:49   Log-Likelihood:                -1528.3\n",
      "converged:                       True   LL-Null:                       -2286.2\n",
      "Covariance Type:            nonrobust   LLR p-value:                     0.000\n",
      "==============================================================================\n",
      "                 coef    std err          z      P>|z|      [0.025      0.975]\n",
      "------------------------------------------------------------------------------\n",
      "const         -0.7454      0.046    -16.137      0.000      -0.836      -0.655\n",
      "v5             0.8263      0.059     14.021      0.000       0.711       0.942\n",
      "v13            0.2922      0.059      4.957      0.000       0.177       0.408\n",
      "v16            0.0939      0.068      1.377      0.169      -0.040       0.228\n",
      "v25            0.4948      0.053      9.276      0.000       0.390       0.599\n",
      "v9             1.0153      0.067     15.110      0.000       0.884       1.147\n",
      "==============================================================================\n",
      "\u001b[1;31m ---------------------------------------------------\u001b[0m\n",
      "Optimization terminated successfully.\n",
      "         Current function value: 0.417005\n",
      "         Iterations 7\n",
      "                           Logit Regression Results                           \n",
      "==============================================================================\n",
      "Dep. Variable:                 target   No. Observations:                 3647\n",
      "Model:                          Logit   Df Residuals:                     3640\n",
      "Method:                           MLE   Df Model:                            6\n",
      "Date:                Mon, 23 Mar 2020   Pseudo R-squ.:                  0.3348\n",
      "Time:                        18:23:49   Log-Likelihood:                -1520.8\n",
      "converged:                       True   LL-Null:                       -2286.2\n",
      "Covariance Type:            nonrobust   LLR p-value:                     0.000\n",
      "==============================================================================\n",
      "                 coef    std err          z      P>|z|      [0.025      0.975]\n",
      "------------------------------------------------------------------------------\n",
      "const         -0.7412      0.046    -16.000      0.000      -0.832      -0.650\n",
      "v5             0.8057      0.059     13.593      0.000       0.690       0.922\n",
      "v13            0.2640      0.060      4.433      0.000       0.147       0.381\n",
      "v16            0.0778      0.069      1.132      0.258      -0.057       0.213\n",
      "v25            0.4655      0.054      8.630      0.000       0.360       0.571\n",
      "v9             0.9652      0.068     14.118      0.000       0.831       1.099\n",
      "v24            0.2452      0.063      3.873      0.000       0.121       0.369\n",
      "==============================================================================\n",
      "\u001b[1;31m ---------------------------------------------------\u001b[0m\n",
      "Optimization terminated successfully.\n",
      "         Current function value: 0.406572\n",
      "         Iterations 7\n",
      "                           Logit Regression Results                           \n",
      "==============================================================================\n",
      "Dep. Variable:                 target   No. Observations:                 3647\n",
      "Model:                          Logit   Df Residuals:                     3639\n",
      "Method:                           MLE   Df Model:                            7\n",
      "Date:                Mon, 23 Mar 2020   Pseudo R-squ.:                  0.3514\n",
      "Time:                        18:23:49   Log-Likelihood:                -1482.8\n",
      "converged:                       True   LL-Null:                       -2286.2\n",
      "Covariance Type:            nonrobust   LLR p-value:                     0.000\n",
      "==============================================================================\n",
      "                 coef    std err          z      P>|z|      [0.025      0.975]\n",
      "------------------------------------------------------------------------------\n",
      "const         -0.7433      0.047    -15.817      0.000      -0.835      -0.651\n",
      "v5             0.7819      0.060     13.009      0.000       0.664       0.900\n",
      "v13            0.2305      0.061      3.807      0.000       0.112       0.349\n",
      "v16            0.0758      0.070      1.086      0.277      -0.061       0.213\n",
      "v25            0.4791      0.055      8.732      0.000       0.372       0.587\n",
      "v9             0.9538      0.069     13.783      0.000       0.818       1.089\n",
      "v24            0.2388      0.064      3.729      0.000       0.113       0.364\n",
      "v30            0.7385      0.087      8.512      0.000       0.568       0.909\n",
      "==============================================================================\n",
      "\u001b[1;31m ---------------------------------------------------\u001b[0m\n",
      "Optimization terminated successfully.\n",
      "         Current function value: 0.406568\n",
      "         Iterations 7\n"
     ]
    },
    {
     "name": "stdout",
     "output_type": "stream",
     "text": [
      "                           Logit Regression Results                           \n",
      "==============================================================================\n",
      "Dep. Variable:                 target   No. Observations:                 3647\n",
      "Model:                          Logit   Df Residuals:                     3638\n",
      "Method:                           MLE   Df Model:                            8\n",
      "Date:                Mon, 23 Mar 2020   Pseudo R-squ.:                  0.3514\n",
      "Time:                        18:23:49   Log-Likelihood:                -1482.8\n",
      "converged:                       True   LL-Null:                       -2286.2\n",
      "Covariance Type:            nonrobust   LLR p-value:                     0.000\n",
      "==============================================================================\n",
      "                 coef    std err          z      P>|z|      [0.025      0.975]\n",
      "------------------------------------------------------------------------------\n",
      "const         -0.7438      0.047    -15.794      0.000      -0.836      -0.652\n",
      "v5             0.7777      0.065     11.947      0.000       0.650       0.905\n",
      "v13            0.2307      0.061      3.810      0.000       0.112       0.349\n",
      "v16            0.0766      0.070      1.095      0.273      -0.060       0.214\n",
      "v25            0.4794      0.055      8.733      0.000       0.372       0.587\n",
      "v9             0.9539      0.069     13.782      0.000       0.818       1.090\n",
      "v24            0.2395      0.064      3.732      0.000       0.114       0.365\n",
      "v30            0.7386      0.087      8.513      0.000       0.569       0.909\n",
      "v2             0.0222      0.131      0.170      0.865      -0.234       0.279\n",
      "==============================================================================\n",
      "\u001b[1;31m ---------------------------------------------------\u001b[0m\n",
      "Optimization terminated successfully.\n",
      "         Current function value: 0.406565\n",
      "         Iterations 7\n",
      "                           Logit Regression Results                           \n",
      "==============================================================================\n",
      "Dep. Variable:                 target   No. Observations:                 3647\n",
      "Model:                          Logit   Df Residuals:                     3638\n",
      "Method:                           MLE   Df Model:                            8\n",
      "Date:                Mon, 23 Mar 2020   Pseudo R-squ.:                  0.3514\n",
      "Time:                        18:23:49   Log-Likelihood:                -1482.7\n",
      "converged:                       True   LL-Null:                       -2286.2\n",
      "Covariance Type:            nonrobust   LLR p-value:                     0.000\n",
      "==============================================================================\n",
      "                 coef    std err          z      P>|z|      [0.025      0.975]\n",
      "------------------------------------------------------------------------------\n",
      "const         -0.7432      0.047    -15.813      0.000      -0.835      -0.651\n",
      "v5             0.7816      0.060     13.000      0.000       0.664       0.899\n",
      "v13            0.2310      0.061      3.812      0.000       0.112       0.350\n",
      "v16            0.0759      0.070      1.087      0.277      -0.061       0.213\n",
      "v25            0.4787      0.055      8.721      0.000       0.371       0.586\n",
      "v9             0.9540      0.069     13.783      0.000       0.818       1.090\n",
      "v24            0.2380      0.064      3.712      0.000       0.112       0.364\n",
      "v30            0.7549      0.116      6.501      0.000       0.527       0.982\n",
      "v32           -0.0397      0.187     -0.212      0.832      -0.406       0.327\n",
      "==============================================================================\n",
      "\u001b[1;31m ---------------------------------------------------\u001b[0m\n",
      "\u001b[1;31m 显著性筛选的变量:\u001b[0m ['v5', 'v13', 'v16', 'v25', 'v9', 'v24', 'v30']\n",
      "\u001b[1;31m 显著性筛选删除的变量:\u001b[0m ['v2', 'v32']\n",
      "\u001b[1;31m 显著性筛选完成--------------------------\u001b[0m\n"
     ]
    }
   ],
   "source": [
    "# 2.6 显著性筛选，前向逐步回归\n",
    "pvalue_select_col,pvalue_delete_col = self_f_2.forward_pvalue_delete(X1,y)\n",
    "\n",
    "print(\"\\033[1;31m 显著性筛选的变量:\\033[0m\",pvalue_select_col)\n",
    "print(\"\\033[1;31m 显著性筛选删除的变量:\\033[0m\",pvalue_delete_col)\n",
    "print('\\033[1;31m 显著性筛选完成--------------------------\\033[0m')\n"
   ]
  },
  {
   "cell_type": "markdown",
   "metadata": {},
   "source": [
    "### 剔除系数和其他系数符号不一致的特征\n",
    "**这里之所以没有说系数为正或者为负，是因为如果计算woe时为坏比好，那么逻辑回归系数就为正，如果计算woe时为好比坏，那么逻辑回归系数就为负**"
   ]
  },
  {
   "cell_type": "code",
   "execution_count": 20,
   "metadata": {},
   "outputs": [
    {
     "name": "stdout",
     "output_type": "stream",
     "text": [
      "\u001b[1;31m 删除系数为负的特征: \u001b[0m []\n",
      "\u001b[1;31m 最终入模特征: \u001b[0m ['v5', 'v13', 'v16', 'v25', 'v9', 'v24', 'v30']\n"
     ]
    }
   ],
   "source": [
    "# 剔除系数为负数的特征\n",
    "X2 = X1.loc[:,pvalue_select_col]\n",
    "coef_select_col,coef_delete_col = self_f_2.forward_delete_coef(X2,y)\n",
    "\n",
    "print(\"\\033[1;31m 删除系数为负的特征: \\033[0m\",coef_delete_col)\n",
    "print(\"\\033[1;31m 最终入模特征: \\033[0m\",coef_select_col)"
   ]
  },
  {
   "cell_type": "markdown",
   "metadata": {},
   "source": [
    "## 模型训练和评价"
   ]
  },
  {
   "cell_type": "code",
   "execution_count": 21,
   "metadata": {},
   "outputs": [
    {
     "name": "stdout",
     "output_type": "stream",
     "text": [
      "\u001b[1;31m 截距：\u001b[0m -0.7561470537100758\n",
      "\u001b[1;31m 特征系数： \u001b[0m {'v5': 0.8062973323178239, 'v13': 0.26774567830576895, 'v16': 0.04458792530230484, 'v25': 0.4419652612567421, 'v9': 0.9732424369109149, 'v24': 0.19840993320999567, 'v30': 0.7959596465531374}\n",
      "\u001b[1;31m 建模完成----------------------------------------\n",
      " \u001b[0m\n",
      "\u001b[1;31m 训练集好坏样本数：\n",
      " \u001b[0m 0    1995\n",
      "1     922\n",
      "Name: target, dtype: int64\n",
      "\u001b[1;31m 验证集好坏样本数：\n",
      " \u001b[0m 0    485\n",
      "1    245\n",
      "Name: target, dtype: int64\n",
      "\u001b[1;31m 训练集的AUC，KS: \u001b[0m\n"
     ]
    },
    {
     "data": {
      "image/png": "[encoded data removed]",
      "text/plain": [
       "<Figure size 432x288 with 1 Axes>"
      ]
     },
     "metadata": {
      "needs_background": "light"
     },
     "output_type": "display_data"
    },
    {
     "data": {
      "image/png": "[encoded data removed]",
      "text/plain": [
       "<Figure size 432x288 with 1 Axes>"
      ]
     },
     "metadata": {
      "needs_background": "light"
     },
     "output_type": "display_data"
    },
    {
     "name": "stdout",
     "output_type": "stream",
     "text": [
      "\u001b[1;31m 验证集的AUC，KS: \u001b[0m\n"
     ]
    },
    {
     "data": {
      "image/png": "[encoded data removed]",
      "text/plain": [
       "<Figure size 432x288 with 1 Axes>"
      ]
     },
     "metadata": {
      "needs_background": "light"
     },
     "output_type": "display_data"
    },
    {
     "data": {
      "image/png": "[encoded data removed]",
      "text/plain": [
       "<Figure size 432x288 with 1 Axes>"
      ]
     },
     "metadata": {
      "needs_background": "light"
     },
     "output_type": "display_data"
    }
   ],
   "source": [
    "# LR建模\n",
    "X3 = X2.loc[:,coef_select_col]\n",
    "x_train,x_valid,y_train,y_valid = train_test_split(X3,y,test_size=0.2,random_state=0)\n",
    "# 保存训练集和验证集的index\n",
    "train_index = x_train.index.tolist()\n",
    "valid_index = x_valid.index.tolist()\n",
    "\n",
    "# show(X3,maxBytes=0, columnDefs=[{\"width\": \"200px\", \"targets\": \"_all\"}])\n",
    "\n",
    "lr_model = LogisticRegression(C=1.0).fit(x_train,y_train)\n",
    "coe_dict = {x:y for x,y in zip(x_train.columns,lr_model.coef_[0])}\n",
    "print(\"\\033[1;31m 截距：\\033[0m\",lr_model.intercept_[0])\n",
    "print(\"\\033[1;31m 特征系数： \\033[0m\",coe_dict)\n",
    "print('\\033[1;31m 建模完成----------------------------------------\\n \\033[0m')\n",
    "\n",
    "print(\"\\033[1;31m 训练集好坏样本数：\\n \\033[0m\",y_train.value_counts())\n",
    "print(\"\\033[1;31m 验证集好坏样本数：\\n \\033[0m\",y_valid.value_counts())\n",
    "\n",
    "#绘制训练集的auc，ks\n",
    "train_pre = lr_model.predict_proba(x_train)[:,1]\n",
    "print('\\033[1;31m 训练集的AUC，KS: \\033[0m')\n",
    "self_f_2.plot_roc(y_train,train_pre)\n",
    "self_f_2.plot_model_ks(y_train,train_pre)\n",
    "\n",
    "# 绘制验证集的auc，ks\n",
    "valid_pre = lr_model.predict_proba(x_valid)[:,1]\n",
    "print('\\033[1;31m 验证集的AUC，KS: \\033[0m')\n",
    "self_f_2.plot_roc(y_valid,valid_pre)\n",
    "self_f_2.plot_model_ks(y_valid,valid_pre)  "
   ]
  },
  {
   "cell_type": "code",
   "execution_count": 22,
   "metadata": {},
   "outputs": [
    {
     "name": "stdout",
     "output_type": "stream",
     "text": [
      "\u001b[1;31m 时间外样本集好坏样本数 \u001b[0m\n",
      "0    1016\n",
      "1     237\n",
      "Name: target, dtype: int64\n",
      "\u001b[1;31m 时间外样本集的AUC，KS \u001b[0m\n"
     ]
    },
    {
     "data": {
      "image/png": "[encoded data removed]",
      "text/plain": [
       "<Figure size 432x288 with 1 Axes>"
      ]
     },
     "metadata": {
      "needs_background": "light"
     },
     "output_type": "display_data"
    },
    {
     "data": {
      "image/png": "[encoded data removed]",
      "text/plain": [
       "<Figure size 432x288 with 1 Axes>"
      ]
     },
     "metadata": {
      "needs_background": "light"
     },
     "output_type": "display_data"
    }
   ],
   "source": [
    "woe_map_df2 = woe_map_df[woe_map_df.col.isin(coef_select_col)].reset_index(drop=True)\n",
    "# 绘制测试集的auc，ks\n",
    "oot = oot_data.loc[:,coef_select_col+[target]].reset_index(drop=True)\n",
    "oot_woe = self_f_2.var_mapping(oot,woe_map_df2,'woe',target)\n",
    "x_oot = oot_woe.drop([target],axis=1)\n",
    "y_oot = oot_woe[target]\n",
    "oot_pre = lr_model.predict_proba(x_oot)[:,1]\n",
    "\n",
    "print(\"\\033[1;31m 时间外样本集好坏样本数 \\033[0m\")\n",
    "print(y_oot.value_counts())\n",
    "\n",
    "print('\\033[1;31m 时间外样本集的AUC，KS \\033[0m')\n",
    "self_f_2.plot_roc(y_oot,oot_pre)\n",
    "self_f_2.plot_model_ks(y_oot,oot_pre)"
   ]
  },
  {
   "cell_type": "markdown",
   "metadata": {},
   "source": [
    "## 分数映射&分数分布"
   ]
  },
  {
   "cell_type": "markdown",
   "metadata": {},
   "source": [
    "### 分数刻度&各入模变量相应分箱得分"
   ]
  },
  {
   "cell_type": "code",
   "execution_count": 23,
   "metadata": {},
   "outputs": [
    {
     "name": "stdout",
     "output_type": "stream",
     "text": [
      "\u001b[1;31m 评分卡刻度 \u001b[0m\n"
     ]
    },
    {
     "data": {
      "text/html": [
       "<div><table id=\"924c537c-ee8e-4464-8f5f-ca4a15883a8c\" class=\"display nowrap\"><thead>\n",
       "    <tr style=\"text-align: right;\">\n",
       "      \n",
       "      <th>type</th>\n",
       "      <th>value</th>\n",
       "    </tr>\n",
       "  </thead></table>\n",
       "<script type=\"text/javascript\">\n",
       "require([\"datatables\"], function (datatables) {\n",
       "    $(document).ready(function () {        \n",
       "        var dt_args = {\"columnDefs\": [{\"width\": \"150px\", \"targets\": \"_all\"}], \"lengthMenu\": [10, 10, 100, 200, 500, 1000, 2000, 5000], \"paging\": false, \"data\": [[\"A\", 650.0], [\"B\", 43.280851], [\"base_score\", 682.726688]]};\n",
       "        dt_args = eval_functions(dt_args);\n",
       "        table = $('#924c537c-ee8e-4464-8f5f-ca4a15883a8c').DataTable(dt_args);\n",
       "    });\n",
       "})\n",
       "</script>\n",
       "</div>\n"
      ],
      "text/plain": [
       "<IPython.core.display.HTML object>"
      ]
     },
     "metadata": {},
     "output_type": "display_data"
    },
    {
     "name": "stdout",
     "output_type": "stream",
     "text": [
      "\u001b[1;31m 变量各分箱对应的分数 \u001b[0m\n",
      "\n"
     ]
    },
    {
     "data": {
      "text/html": [
       "<div><table id=\"de2a633f-ccff-495e-8f56-639e6ac3e447\" class=\"display nowrap\"><thead>\n",
       "    <tr style=\"text-align: right;\">\n",
       "      \n",
       "      <th>col</th>\n",
       "      <th>bin</th>\n",
       "      <th>IV</th>\n",
       "      <th>score</th>\n",
       "      <th>total</th>\n",
       "      <th>totalrate</th>\n",
       "      <th>bad</th>\n",
       "      <th>badrate</th>\n",
       "      <th>good</th>\n",
       "      <th>goodrate</th>\n",
       "      <th>badattr</th>\n",
       "      <th>goodattr</th>\n",
       "      <th>woe</th>\n",
       "      <th>bin_iv</th>\n",
       "      <th>bins</th>\n",
       "      <th>var_name</th>\n",
       "      <th>min_bin</th>\n",
       "      <th>max_bin</th>\n",
       "      <th>fuzhu</th>\n",
       "    </tr>\n",
       "  </thead></table>\n",
       "<script type=\"text/javascript\">\n",
       "require([\"datatables\"], function (datatables) {\n",
       "    $(document).ready(function () {        \n",
       "        var dt_args = {\"columnDefs\": [{\"width\": \"150px\", \"targets\": \"_all\"}], \"lengthMenu\": [10, 10, 100, 200, 500, 1000, 2000, 5000], \"data\": [[\"v5\", \"(-inf, 5.5]\", 1.124775, -40.0, 1666, 0.456814, 218, 0.130852, 1448, 0.869148, 0.186804, 0.583871, -1.139621, 0.452506, \"(-inf, 5.5]\", \"v5\", \"-inf\", \"5.5\", 9], [\"v5\", \"(5.5, 13.5]\", 1.124775, -3.0, 944, 0.258843, 284, 0.300847, 660, 0.699153, 0.243359, 0.266129, -0.089443, 0.002037, \"(5.5, 13.5]\", \"v5\", \"5.5\", \"13.5\", 10], [\"v5\", \"(13.5, 25.5]\", 1.124775, 30.0, 519, 0.142309, 274, 0.527938, 245, 0.472062, 0.23479, 0.09879, 0.865692, 0.117734, \"(13.5, 25.5]\", \"v5\", \"13.5\", \"25.5\", 11], [\"v5\", \"(25.5, 35.5]\", 1.124775, 54.0, 232, 0.063614, 160, 0.689655, 72, 0.310345, 0.137104, 0.029032, 1.55233, 0.167763, \"(25.5, 35.5]\", \"v5\", \"25.5\", \"35.5\", 12], [\"v5\", \"(35.5, inf]\", 1.124775, 76.0, 286, 0.078421, 231, 0.807692, 55, 0.192308, 0.197943, 0.022177, 2.188907, 0.384735, \"(35.5, inf]\", \"v5\", \"35.5\", \"inf\", 13], [\"v13\", \"(-inf, -999.0]\", 1.032758, -10.0, 196, 0.053743, 33, 0.168367, 163, 0.831633, 0.028278, 0.065726, -0.84342, 0.031585, \"(-inf, -999.0]\", \"v13\", \"-inf\", \"-999.0\", 14], [\"v13\", \"(-999.0, 568.5]\", 1.032758, 17.0, 824, 0.225939, 558, 0.677184, 266, 0.322816, 0.478149, 0.107258, 1.494685, 0.554365, \"(-999.0, 568.5]\", \"v13\", \"-999.0\", \"568.5\", 15], [\"v13\", \"(568.5, 619.5]\", 1.032758, 6.0, 396, 0.108582, 172, 0.434343, 224, 0.565657, 0.147386, 0.090323, 0.489671, 0.027943, \"(568.5, 619.5]\", \"v13\", \"568.5\", \"619.5\", 16], [\"v13\", \"(619.5, 685.5]\", 1.032758, -1.0, 603, 0.165341, 184, 0.305141, 419, 0.694859, 0.157669, 0.168952, -0.069113, 0.00078, \"(619.5, 685.5]\", \"v13\", \"619.5\", \"685.5\", 17], [\"v13\", \"(685.5, inf]\", 1.032758, -13.0, 1628, 0.446394, 220, 0.135135, 1408, 0.864865, 0.188518, 0.567742, -1.102476, 0.418086, \"(685.5, inf]\", \"v13\", \"685.5\", \"inf\", 18], [\"v16\", \"(-inf, -999.0]\", 0.876177, -1.0, 2493, 0.683576, 480, 0.192539, 2013, 0.807461, 0.411311, 0.811694, -0.679773, 0.272169, \"(-inf, -999.0]\", \"v16\", \"-inf\", \"-999.0\", 19], [\"v16\", \"(-999.0, 3.5]\", 0.876177, 1.0, 451, 0.123663, 192, 0.425721, 259, 0.574279, 0.164524, 0.104435, 0.45449, 0.02731, \"(-999.0, 3.5]\", \"v16\", \"-999.0\", \"3.5\", 20], [\"v16\", \"(3.5, 5.5]\", 0.876177, 3.0, 463, 0.126954, 312, 0.673866, 151, 0.326134, 0.267352, 0.060887, 1.479546, 0.305475, \"(3.5, 5.5]\", \"v16\", \"3.5\", \"5.5\", 21], [\"v16\", \"(5.5, 6.5]\", 0.876177, 3.0, 120, 0.032904, 83, 0.691667, 37, 0.308333, 0.071123, 0.014919, 1.561745, 0.087775, \"(5.5, 6.5]\", \"v16\", \"5.5\", \"6.5\", 22], [\"v16\", \"(6.5, inf]\", 0.876177, 5.0, 120, 0.032904, 100, 0.833333, 20, 0.166667, 0.08569, 0.008065, 2.36326, 0.183449, \"(6.5, inf]\", \"v16\", \"6.5\", \"inf\", 23], [\"v25\", \"(-inf, 25.5]\", 0.799675, 30.0, 514, 0.140938, 357, 0.694553, 157, 0.305447, 0.305913, 0.063306, 1.575312, 0.38218, \"(-inf, 25.5]\", \"v25\", \"-inf\", \"25.5\", 24], [\"v25\", \"(25.5, 35.5]\", 0.799675, 13.0, 510, 0.139841, 244, 0.478431, 266, 0.521569, 0.209083, 0.107258, 0.667494, 0.067968, \"(25.5, 35.5]\", \"v25\", \"25.5\", \"35.5\", 25], [\"v25\", \"(35.5, 40.5]\", 0.799675, 4.0, 346, 0.094872, 128, 0.369942, 218, 0.630058, 0.109683, 0.087903, 0.221357, 0.004821, \"(35.5, 40.5]\", \"v25\", \"35.5\", \"40.5\", 26], [\"v25\", \"(40.5, 56.5]\", 0.799675, -6.0, 1118, 0.306553, 287, 0.256708, 831, 0.743292, 0.24593, 0.335081, -0.309325, 0.027577, \"(40.5, 56.5]\", \"v25\", \"40.5\", \"56.5\", 27], [\"v25\", \"(56.5, inf]\", 0.799675, -22.0, 1159, 0.317795, 151, 0.130285, 1008, 0.869715, 0.129392, 0.406452, -1.144621, 0.317129, \"(56.5, inf]\", \"v25\", \"56.5\", \"inf\", 28], [\"v9\", \"A\", 0.630024, -69.0, 663, 0.181793, 56, 0.084465, 607, 0.915535, 0.047986, 0.244758, -1.629355, 0.320611, \"A\", \"v9\", \"A\", \"A\", 0], [\"v9\", \"B\", 0.630024, -21.0, 1112, 0.304908, 249, 0.223921, 863, 0.776079, 0.213368, 0.347984, -0.48914, 0.065846, \"B\", \"v9\", \"B\", \"B\", 1], [\"v9\", \"C\", 0.630024, 1.0, 318, 0.087195, 103, 0.323899, 215, 0.676101, 0.08826, 0.086694, 0.017913, 2.8e-05, \"C\", \"v9\", \"C\", \"C\", 2], [\"v9\", \"D\", 0.630024, 18.0, 347, 0.095147, 146, 0.420749, 201, 0.579251, 0.125107, 0.081048, 0.434124, 0.019127, \"D\", \"v9\", \"D\", \"D\", 3], [\"v9\", \"E\", 0.630024, 33.0, 1207, 0.330957, 613, 0.507871, 594, 0.492129, 0.525278, 0.239516, 0.785308, 0.224411, \"E\", \"v9\", \"E\", \"E\", 4], [\"v24\", \"(-inf, -999.0]\", 0.629771, 2.0, 276, 0.075679, 105, 0.380435, 171, 0.619565, 0.089974, 0.068952, 0.266119, 0.005595, \"(-inf, -999.0]\", \"v24\", \"-inf\", \"-999.0\", 29], [\"v24\", \"(-999.0, 588.5]\", 0.629771, 16.0, 377, 0.103373, 280, 0.742706, 97, 0.257294, 0.239931, 0.039113, 1.813901, 0.364265, \"(-999.0, 588.5]\", \"v24\", \"-999.0\", \"588.5\", 30], [\"v24\", \"(588.5, 613.5]\", 0.629771, 5.0, 375, 0.102824, 173, 0.461333, 202, 0.538667, 0.148243, 0.081452, 0.598846, 0.039998, \"(588.5, 613.5]\", \"v24\", \"588.5\", \"613.5\", 31], [\"v24\", \"(613.5, 671.5]\", 0.629771, -2.0, 1654, 0.453523, 465, 0.281137, 1189, 0.718863, 0.398458, 0.479435, -0.185008, 0.014982, \"(613.5, 671.5]\", \"v24\", \"613.5\", \"671.5\", 32], [\"v24\", \"(671.5, inf]\", 0.629771, -8.0, 965, 0.264601, 144, 0.149223, 821, 0.850777, 0.123393, 0.331048, -0.986888, 0.204932, \"(671.5, inf]\", \"v24\", \"671.5\", \"inf\", 33], [\"v30\", \"-999.0\", 0.290845, -6.0, 766, 0.210036, 216, 0.281984, 550, 0.718016, 0.18509, 0.221774, -0.180818, 0.006633, \"-999.0\", \"v30\", \"-999.0\", \"-999.0\", 5], [\"v30\", \"0.0\", 0.290845, 15.0, 1873, 0.513573, 788, 0.420715, 1085, 0.579285, 0.675236, 0.4375, 0.433985, 0.103174, \"0.0\", \"v30\", \"0.0\", \"0.0\", 6], [\"v30\", \"1.0\", 0.290845, -31.0, 1006, 0.275843, 162, 0.161034, 844, 0.838966, 0.138817, 0.340323, -0.896734, 0.180696, \"1.0\", \"v30\", \"1.0\", \"1.0\", 7], [\"v30\", \"2.0\", 0.290845, 26.0, 2, 0.000548, 1, 0.5, 1, 0.5, 0.000857, 0.000403, 0.753822, 0.000342, \"2.0\", \"v30\", \"2.0\", \"2.0\", 8]]};\n",
       "        dt_args = eval_functions(dt_args);\n",
       "        table = $('#de2a633f-ccff-495e-8f56-639e6ac3e447').DataTable(dt_args);\n",
       "    });\n",
       "})\n",
       "</script>\n",
       "</div>\n"
      ],
      "text/plain": [
       "<IPython.core.display.HTML object>"
      ]
     },
     "metadata": {},
     "output_type": "display_data"
    }
   ],
   "source": [
    "# 评分转换\n",
    "A,B,base_score = self_f_2.cal_scale(650,1,30,lr_model)\n",
    "dict_score_scale={\"A\":A,\"B\":B,\"base_score\":base_score}\n",
    "df_score_scale=pd.DataFrame(pd.Series(dict_score_scale),columns=[\"value\"])\n",
    "df_score_scale=df_score_scale.reset_index().rename(columns={'index':'type'})\n",
    "\n",
    "print(\"\\033[1;31m 评分卡刻度 \\033[0m\")\n",
    "show(df_score_scale)\n",
    "\n",
    "score_map_df  = self_f_2.get_score_map(woe_map_df2,coe_dict,B)\n",
    "print(\"\\033[1;31m 变量各分箱对应的分数 \\033[0m\\n\")\n",
    "show(score_map_df)"
   ]
  },
  {
   "cell_type": "markdown",
   "metadata": {},
   "source": [
    "### 训练集&验证集&时间外样本分数转换"
   ]
  },
  {
   "cell_type": "code",
   "execution_count": 24,
   "metadata": {},
   "outputs": [
    {
     "name": "stdout",
     "output_type": "stream",
     "text": [
      "\u001b[1;31m 评分转换完成--------------------------------------- \u001b[0m\n"
     ]
    }
   ],
   "source": [
    "# 分数映射\n",
    "#训练集\n",
    "train_data = train2.iloc[train_index,:].loc[:,coef_select_col+[target]].reset_index(drop=True)\n",
    "train_score = self_f_2.var_mapping(train_data,score_map_df,'score',target)\n",
    "train_score['final_score'] = base_score\n",
    "for col in coef_select_col:\n",
    "    train_score['final_score']+=train_score[col]\n",
    "train_score['final_score'] = train_score['final_score'].map(lambda x:int(x))\n",
    "\n",
    "#验证集\n",
    "valid_data = train2.iloc[valid_index,:].loc[:,coef_select_col+[target]].reset_index(drop=True)\n",
    "valid_score = self_f_2.var_mapping(valid_data,score_map_df,'score',target)\n",
    "valid_score['final_score'] = base_score\n",
    "for col in coef_select_col:\n",
    "    valid_score['final_score']+=valid_score[col]\n",
    "valid_score['final_score'] = valid_score['final_score'].map(lambda x:int(x))\n",
    "valid_score.to_excel(\"valid_score.xlsx\")\n",
    "\n",
    "oot_score = self_f_2.var_mapping(oot,score_map_df,'score',target)\n",
    "oot_score['final_score'] = base_score\n",
    "for col in coef_select_col:\n",
    "    oot_score['final_score']+=oot_score[col]\n",
    "oot_score['final_score'] = oot_score['final_score'].map(lambda x:int(x))\n",
    "print('\\033[1;31m 评分转换完成--------------------------------------- \\033[0m')"
   ]
  },
  {
   "cell_type": "markdown",
   "metadata": {},
   "source": [
    "### 训练集&验证集&时间外样本分数分箱分布"
   ]
  },
  {
   "cell_type": "code",
   "execution_count": 25,
   "metadata": {},
   "outputs": [
    {
     "name": "stdout",
     "output_type": "stream",
     "text": [
      "\u001b[1;31m 训练集评分分箱分布\u001b[0m\n"
     ]
    },
    {
     "data": {
      "text/html": [
       "<div><table id=\"5c525426-9922-4ca3-bece-ada4d973af5e\" class=\"display nowrap\"><thead>\n",
       "    <tr style=\"text-align: right;\">\n",
       "      <th></th>\n",
       "      <th>final_score</th>\n",
       "      <th>ks</th>\n",
       "      <th>pass_rate</th>\n",
       "      <th>total</th>\n",
       "      <th>totalrate</th>\n",
       "      <th>bad</th>\n",
       "      <th>badrate</th>\n",
       "      <th>good</th>\n",
       "      <th>goodrate</th>\n",
       "      <th>lj_bad</th>\n",
       "      <th>lj_bad_rate</th>\n",
       "      <th>lj_good</th>\n",
       "      <th>lj_good_rate</th>\n",
       "      <th>badattr</th>\n",
       "      <th>goodattr</th>\n",
       "    </tr>\n",
       "  </thead></table>\n",
       "<script type=\"text/javascript\">\n",
       "require([\"datatables\"], function (datatables) {\n",
       "    $(document).ready(function () {        \n",
       "        var dt_args = {\"columnDefs\": [{\"width\": \"90px\", \"targets\": \"_all\"}], \"lengthMenu\": [10, 10, 100, 200, 500, 1000, 2000, 5000], \"data\": [[0, \"(559.999, 589.0]\", \"13.18%\", \"89.58%\", 304, \"10.42%\", 13, \"4.28%\", 291, \"95.72%\", 13, \"1.41%\", 291, \"14.59%\", \"1.41%\", \"14.59%\"], [1, \"(589.0, 612.0]\", \"24.65%\", \"79.67%\", 289, \"9.91%\", 19, \"6.57%\", 270, \"93.43%\", 32, \"3.47%\", 561, \"28.12%\", \"2.06%\", \"13.53%\"], [2, \"(612.0, 632.0]\", \"36.74%\", \"69.56%\", 295, \"10.11%\", 17, \"5.76%\", 278, \"94.24%\", 49, \"5.31%\", 839, \"42.06%\", \"1.84%\", \"13.93%\"], [3, \"(632.0, 643.0]\", \"41.26%\", \"64.62%\", 144, \"4.94%\", 17, \"11.81%\", 127, \"88.19%\", 66, \"7.16%\", 966, \"48.42%\", \"1.84%\", \"6.37%\"], [4, \"(643.0, 654.0]\", \"44.72%\", \"59.55%\", 148, \"5.07%\", 25, \"16.89%\", 123, \"83.11%\", 91, \"9.87%\", 1089, \"54.59%\", \"2.71%\", \"6.17%\"], [5, \"(654.0, 665.0]\", \"48.44%\", \"54.51%\", 147, \"5.04%\", 23, \"15.65%\", 124, \"84.35%\", 114, \"12.36%\", 1213, \"60.80%\", \"2.49%\", \"6.22%\"], [6, \"(665.0, 675.0]\", \"49.74%\", \"49.61%\", 143, \"4.90%\", 37, \"25.87%\", 106, \"74.13%\", 151, \"16.38%\", 1319, \"66.12%\", \"4.01%\", \"5.31%\"], [7, \"(675.0, 690.0]\", \"48.12%\", \"44.53%\", 148, \"5.07%\", 57, \"38.51%\", 91, \"61.49%\", 208, \"22.56%\", 1410, \"70.68%\", \"6.18%\", \"4.56%\"], [8, \"(690.0, 703.2]\", \"44.83%\", \"39.73%\", 140, \"4.80%\", 65, \"46.43%\", 75, \"53.57%\", 273, \"29.61%\", 1485, \"74.44%\", \"7.05%\", \"3.76%\"], [9, \"(703.2, 737.0]\", \"34.23%\", \"29.52%\", 298, \"10.22%\", 161, \"54.03%\", 137, \"45.97%\", 434, \"47.07%\", 1622, \"81.30%\", \"17.46%\", \"6.87%\"], [10, \"(737.0, 783.0]\", \"15.16%\", \"19.68%\", 287, \"9.84%\", 211, \"73.52%\", 76, \"26.48%\", 645, \"69.96%\", 1698, \"85.11%\", \"22.89%\", \"3.81%\"], [11, \"(783.0, 874.0]\", \"12.17%\", \"9.74%\", 290, \"9.94%\", 264, \"91.03%\", 26, \"8.97%\", 909, \"98.59%\", 1724, \"86.42%\", \"28.63%\", \"1.30%\"]]};\n",
       "        dt_args = eval_functions(dt_args);\n",
       "        table = $('#5c525426-9922-4ca3-bece-ada4d973af5e').DataTable(dt_args);\n",
       "    });\n",
       "})\n",
       "</script>\n",
       "</div>\n"
      ],
      "text/plain": [
       "<IPython.core.display.HTML object>"
      ]
     },
     "metadata": {},
     "output_type": "display_data"
    },
    {
     "name": "stdout",
     "output_type": "stream",
     "text": [
      "\u001b[1;31m 验证集评分分箱分布\u001b[0m\n"
     ]
    },
    {
     "data": {
      "text/html": [
       "<div><table id=\"16885620-8b9b-4e51-a023-01314249e227\" class=\"display nowrap\"><thead>\n",
       "    <tr style=\"text-align: right;\">\n",
       "      <th></th>\n",
       "      <th>final_score</th>\n",
       "      <th>ks</th>\n",
       "      <th>pass_rate</th>\n",
       "      <th>total</th>\n",
       "      <th>totalrate</th>\n",
       "      <th>bad</th>\n",
       "      <th>badrate</th>\n",
       "      <th>good</th>\n",
       "      <th>goodrate</th>\n",
       "      <th>lj_bad</th>\n",
       "      <th>lj_bad_rate</th>\n",
       "      <th>lj_good</th>\n",
       "      <th>lj_good_rate</th>\n",
       "      <th>badattr</th>\n",
       "      <th>goodattr</th>\n",
       "    </tr>\n",
       "  </thead></table>\n",
       "<script type=\"text/javascript\">\n",
       "require([\"datatables\"], function (datatables) {\n",
       "    $(document).ready(function () {        \n",
       "        var dt_args = {\"columnDefs\": [{\"width\": \"90px\", \"targets\": \"_all\"}], \"lengthMenu\": [10, 10, 100, 200, 500, 1000, 2000, 5000], \"data\": [[0, \"(559.999, 590.0]\", \"12.80%\", \"89.45%\", 77, \"10.55%\", 5, \"6.49%\", 72, \"93.51%\", 5, \"2.04%\", 72, \"14.85%\", \"2.04%\", \"14.85%\"], [1, \"(590.0, 618.7]\", \"25.19%\", \"79.59%\", 72, \"9.86%\", 4, \"5.56%\", 68, \"94.44%\", 9, \"3.67%\", 140, \"28.87%\", \"1.63%\", \"14.02%\"], [2, \"(618.7, 637.0]\", \"34.51%\", \"69.32%\", 75, \"10.27%\", 10, \"13.33%\", 65, \"86.67%\", 19, \"7.76%\", 205, \"42.27%\", \"4.08%\", \"13.40%\"], [3, \"(637.0, 648.0]\", \"38.86%\", \"64.38%\", 36, \"4.93%\", 5, \"13.89%\", 31, \"86.11%\", 24, \"9.80%\", 236, \"48.66%\", \"2.04%\", \"6.39%\"], [4, \"(648.0, 658.5]\", \"43.01%\", \"59.59%\", 35, \"4.79%\", 5, \"14.29%\", 30, \"85.71%\", 29, \"11.84%\", 266, \"54.85%\", \"2.04%\", \"6.19%\"], [5, \"(658.5, 671.0]\", \"46.34%\", \"54.11%\", 40, \"5.48%\", 8, \"20.00%\", 32, \"80.00%\", 37, \"15.10%\", 298, \"61.44%\", \"3.27%\", \"6.60%\"], [6, \"(671.0, 681.4]\", \"45.77%\", \"49.59%\", 33, \"4.52%\", 12, \"36.36%\", 21, \"63.64%\", 49, \"20.00%\", 319, \"65.77%\", \"4.90%\", \"4.33%\"], [7, \"(681.4, 689.0]\", \"42.55%\", \"44.38%\", 38, \"5.21%\", 18, \"47.37%\", 20, \"52.63%\", 67, \"27.35%\", 339, \"69.90%\", \"7.35%\", \"4.12%\"], [8, \"(689.0, 704.3]\", \"39.32%\", \"39.59%\", 35, \"4.79%\", 17, \"48.57%\", 18, \"51.43%\", 84, \"34.29%\", 357, \"73.61%\", \"6.94%\", \"3.71%\"], [9, \"(704.3, 740.2]\", \"31.64%\", \"29.59%\", 73, \"10.00%\", 37, \"50.68%\", 36, \"49.32%\", 121, \"49.39%\", 393, \"81.03%\", \"15.10%\", \"7.42%\"], [10, \"(740.2, 793.1]\", \"12.29%\", \"19.59%\", 73, \"10.00%\", 56, \"76.71%\", 17, \"23.29%\", 177, \"72.24%\", 410, \"84.54%\", \"22.86%\", \"3.51%\"], [11, \"(793.1, 874.0]\", \"13.20%\", \"9.59%\", 73, \"10.00%\", 66, \"90.41%\", 7, \"9.59%\", 243, \"99.18%\", 417, \"85.98%\", \"26.94%\", \"1.44%\"]]};\n",
       "        dt_args = eval_functions(dt_args);\n",
       "        table = $('#16885620-8b9b-4e51-a023-01314249e227').DataTable(dt_args);\n",
       "    });\n",
       "})\n",
       "</script>\n",
       "</div>\n"
      ],
      "text/plain": [
       "<IPython.core.display.HTML object>"
      ]
     },
     "metadata": {},
     "output_type": "display_data"
    },
    {
     "name": "stdout",
     "output_type": "stream",
     "text": [
      "\u001b[1;31m 时间外验证集评分分箱分布\u001b[0m\n"
     ]
    },
    {
     "data": {
      "text/html": [
       "<div><table id=\"8fa49066-2821-4b5e-bdb6-405b9a05a38a\" class=\"display nowrap\"><thead>\n",
       "    <tr style=\"text-align: right;\">\n",
       "      <th></th>\n",
       "      <th>final_score</th>\n",
       "      <th>ks</th>\n",
       "      <th>pass_rate</th>\n",
       "      <th>total</th>\n",
       "      <th>totalrate</th>\n",
       "      <th>bad</th>\n",
       "      <th>badrate</th>\n",
       "      <th>good</th>\n",
       "      <th>goodrate</th>\n",
       "      <th>lj_bad</th>\n",
       "      <th>lj_bad_rate</th>\n",
       "      <th>lj_good</th>\n",
       "      <th>lj_good_rate</th>\n",
       "      <th>badattr</th>\n",
       "      <th>goodattr</th>\n",
       "    </tr>\n",
       "  </thead></table>\n",
       "<script type=\"text/javascript\">\n",
       "require([\"datatables\"], function (datatables) {\n",
       "    $(document).ready(function () {        \n",
       "        var dt_args = {\"columnDefs\": [{\"width\": \"90px\", \"targets\": \"_all\"}], \"lengthMenu\": [10, 10, 100, 200, 500, 1000, 2000, 5000], \"data\": [[0, \"(550.999, 581.0]\", \"11.92%\", \"89.07%\", 137, \"10.93%\", 3, \"2.19%\", 134, \"97.81%\", 3, \"1.27%\", 134, \"13.19%\", \"1.27%\", \"13.19%\"], [1, \"(581.0, 606.0]\", \"23.71%\", \"79.09%\", 125, \"9.98%\", 1, \"0.80%\", 124, \"99.20%\", 4, \"1.69%\", 258, \"25.39%\", \"0.42%\", \"12.20%\"], [2, \"(606.0, 626.0]\", \"33.08%\", \"68.95%\", 127, \"10.14%\", 6, \"4.72%\", 121, \"95.28%\", 10, \"4.22%\", 379, \"37.30%\", \"2.53%\", \"11.91%\"], [3, \"(626.0, 636.0]\", \"37.72%\", \"63.93%\", 63, \"5.03%\", 3, \"4.76%\", 60, \"95.24%\", 13, \"5.49%\", 439, \"43.21%\", \"1.27%\", \"5.91%\"], [4, \"(636.0, 645.0]\", \"36.86%\", \"59.14%\", 60, \"4.79%\", 13, \"21.67%\", 47, \"78.33%\", 26, \"10.97%\", 486, \"47.83%\", \"5.49%\", \"4.63%\"], [5, \"(645.0, 656.0]\", \"42.97%\", \"54.19%\", 62, \"4.95%\", 0, \"0.00%\", 62, \"100.00%\", 26, \"10.97%\", 548, \"53.94%\", \"0.00%\", \"6.10%\"], [6, \"(656.0, 666.0]\", \"45.85%\", \"49.32%\", 61, \"4.87%\", 6, \"9.84%\", 55, \"90.16%\", 32, \"13.50%\", 603, \"59.35%\", \"2.53%\", \"5.41%\"], [7, \"(666.0, 678.0]\", \"48.21%\", \"44.45%\", 61, \"4.87%\", 7, \"11.48%\", 54, \"88.52%\", 39, \"16.46%\", 657, \"64.67%\", \"2.95%\", \"5.31%\"], [8, \"(678.0, 691.0]\", \"49.11%\", \"39.51%\", 62, \"4.95%\", 10, \"16.13%\", 52, \"83.87%\", 49, \"20.68%\", 709, \"69.78%\", \"4.22%\", \"5.12%\"], [9, \"(691.0, 729.0]\", \"41.41%\", \"29.29%\", 128, \"10.22%\", 39, \"30.47%\", 89, \"69.53%\", 88, \"37.13%\", 798, \"78.54%\", \"16.46%\", \"8.76%\"], [10, \"(729.0, 780.8]\", \"24.70%\", \"19.63%\", 121, \"9.66%\", 55, \"45.45%\", 66, \"54.55%\", 143, \"60.34%\", 864, \"85.04%\", \"23.21%\", \"6.50%\"], [11, \"(780.8, 874.0]\", \"11.81%\", \"9.58%\", 126, \"10.06%\", 94, \"74.60%\", 32, \"25.40%\", 237, \"100.00%\", 896, \"88.19%\", \"39.66%\", \"3.15%\"]]};\n",
       "        dt_args = eval_functions(dt_args);\n",
       "        table = $('#8fa49066-2821-4b5e-bdb6-405b9a05a38a').DataTable(dt_args);\n",
       "    });\n",
       "})\n",
       "</script>\n",
       "</div>\n"
      ],
      "text/plain": [
       "<IPython.core.display.HTML object>"
      ]
     },
     "metadata": {},
     "output_type": "display_data"
    },
    {
     "data": {
      "image/png": "[encoded data removed]",
      "text/plain": [
       "<Figure size 432x288 with 1 Axes>"
      ]
     },
     "metadata": {
      "needs_background": "light"
     },
     "output_type": "display_data"
    },
    {
     "data": {
      "image/png": "[encoded data removed]",
      "text/plain": [
       "<Figure size 432x288 with 1 Axes>"
      ]
     },
     "metadata": {
      "needs_background": "light"
     },
     "output_type": "display_data"
    },
    {
     "data": {
      "image/png": "[encoded data removed]",
      "text/plain": [
       "<Figure size 432x288 with 1 Axes>"
      ]
     },
     "metadata": {
      "needs_background": "light"
     },
     "output_type": "display_data"
    }
   ],
   "source": [
    "#分数分布，默认按照以下分位点分箱[0.1,0.2,0.3,0.4,0.45,0.5,0.55,0.6,0.65,0.7,0.8,0.9,1.0]\n",
    "#训练集\n",
    "print(\"\\033[1;31m 训练集评分分箱分布\\033[0m\")\n",
    "train_score_distribution=self_f_2.score_distribution(train_score)\n",
    "show(train_score_distribution,columnDefs=[{\"width\": \"90px\", \"targets\": \"_all\"}])\n",
    "\n",
    "#验证集\n",
    "print(\"\\033[1;31m 验证集评分分箱分布\\033[0m\")\n",
    "valid_score_distribution=self_f_2.score_distribution(valid_score)\n",
    "show(valid_score_distribution,columnDefs=[{\"width\": \"90px\", \"targets\": \"_all\"}])\n",
    "\n",
    "#时间外验证集\n",
    "print(\"\\033[1;31m 时间外验证集评分分箱分布\\033[0m\")\n",
    "oot_score_distribution=self_f_2.score_distribution(oot_score)\n",
    "show(oot_score_distribution,columnDefs=[{\"width\": \"90px\", \"targets\": \"_all\"}])\n",
    "\n",
    "# 训练集的评分分布\n",
    "self_f_2.plot_score_hist(train_score, target, 'final_score','train_score',plt_size=(6,4))\n",
    "# 验证集的评分分布\n",
    "self_f_2.plot_score_hist(valid_score, target, 'final_score','valid_score',plt_size=(6,4))\n",
    "# 测试集的评分分布\n",
    "self_f_2.plot_score_hist(oot_score, target, 'final_score','oot_score',plt_size=(6,4))"
   ]
  }
 ],
 "metadata": {
  "hide_input": false,
  "kernelspec": {
   "display_name": "Python 3",
   "language": "python",
   "name": "python3"
  },
  "language_info": {
   "codemirror_mode": {
    "name": "ipython",
    "version": 3
   },
   "file_extension": ".py",
   "mimetype": "text/x-python",
   "name": "python",
   "nbconvert_exporter": "python",
   "pygments_lexer": "ipython3",
   "version": "3.7.4"
  },
  "toc": {
   "base_numbering": 1,
   "nav_menu": {},
   "number_sections": true,
   "sideBar": true,
   "skip_h1_title": true,
   "title_cell": "Table of Contents",
   "title_sidebar": "Contents",
   "toc_cell": true,
   "toc_position": {
    "height": "calc(100% - 180px)",
    "left": "10px",
    "top": "150px",
    "width": "288px"
   },
   "toc_section_display": true,
   "toc_window_display": true
  }
 },
 "nbformat": 4,
 "nbformat_minor": 2
}
